{
  "cells": [
    {
      "cell_type": "markdown",
      "metadata": {},
      "source": [
        "# Intro\n",
        "\n",
        "![Machine Learning](https://imgs.xkcd.com/comics/machine_learning.png)"
      ]
    },
    {
      "cell_type": "markdown",
      "metadata": {
        "id": "N-VIf5URNM7q"
      },
      "source": [
        "# Setup\n",
        "\n",
        "I stole this from an example, we don't need all this complexity. But I think it's cool to see.\n",
        "\n",
        "Moreover, most of my python / jupyter / colab knowledge is copied from a bunch of examples. See [Sources](#Sources).\n",
        "\n",
        "To open this in Google Colab, click [here](https://colab.research.google.com/github/klao/t9r-class/blob/master/htt_clean.ipynb)."
      ]
    },
    {
      "cell_type": "code",
      "execution_count": 1,
      "metadata": {
        "colab": {
          "base_uri": "https://localhost:8080/"
        },
        "id": "isiMrnRaOSik",
        "outputId": "d925b5c0-2863-45ca-a0a5-16e8eefae8c4"
      },
      "outputs": [],
      "source": [
        "import sys\n",
        "\n",
        "IN_COLAB = 'google.colab' in sys.modules\n",
        "\n",
        "if IN_COLAB:\n",
        "    %pip install einops\n",
        "    %pip install jaxtyping\n",
        "    %pip install transformer_lens\n",
        "    %pip install git+https://github.com/callummcdougall/CircuitsVis.git#subdirectory=python\n",
        "else:\n",
        "    # See README.md for local setup\n",
        "    pass"
      ]
    },
    {
      "cell_type": "code",
      "execution_count": 2,
      "metadata": {
        "id": "lHL1yEOAPu3v"
      },
      "outputs": [
        {
          "name": "stderr",
          "output_type": "stream",
          "text": [
            "/home/klao/miniconda3/envs/transf/lib/python3.10/site-packages/torch/cuda/__init__.py:138: UserWarning: CUDA initialization: CUDA unknown error - this may be due to an incorrectly set up environment, e.g. changing env variable CUDA_VISIBLE_DEVICES after program start. Setting the available devices to be zero. (Triggered internally at ../c10/cuda/CUDAFunctions.cpp:108.)\n",
            "  return torch._C._cuda_getDeviceCount() > 0\n"
          ]
        }
      ],
      "source": [
        "import os\n",
        "import sys\n",
        "import plotly.express as px\n",
        "import torch as t\n",
        "from torch import Tensor\n",
        "import torch.nn as nn\n",
        "import torch.nn.functional as F\n",
        "from pathlib import Path\n",
        "import numpy as np\n",
        "import einops\n",
        "from fancy_einsum import einsum\n",
        "from jaxtyping import Int, Float\n",
        "from typing import List, Optional, Tuple\n",
        "import functools\n",
        "from tqdm import tqdm\n",
        "from IPython.display import display\n",
        "import webbrowser\n",
        "import gdown\n",
        "from transformer_lens.hook_points import HookPoint\n",
        "from transformer_lens import utils, HookedTransformer, HookedTransformerConfig, FactoredMatrix, ActivationCache\n",
        "from transformer_lens.utils import get_corner\n",
        "import circuitsvis as cv\n",
        "\n",
        "# Saves computation time, since we don't need it for the contents of this notebook\n",
        "t.set_grad_enabled(False)\n",
        "\n",
        "device = t.device(\"cuda\" if t.cuda.is_available() else \"cpu\")"
      ]
    },
    {
      "cell_type": "markdown",
      "metadata": {
        "id": "jTw0C8JsQNzi"
      },
      "source": [
        "# Getting acquainted with the model"
      ]
    },
    {
      "cell_type": "code",
      "execution_count": 3,
      "metadata": {
        "colab": {
          "base_uri": "https://localhost:8080/"
        },
        "id": "oAjxyDmVCVbh",
        "outputId": "6e8de37d-34b3-4ff3-90c6-27063f4a6fa8"
      },
      "outputs": [
        {
          "name": "stdout",
          "output_type": "stream",
          "text": [
            "Loaded pretrained model gpt2-small into HookedTransformer\n"
          ]
        }
      ],
      "source": [
        "gpt2 = HookedTransformer.from_pretrained(\"gpt2-small\")"
      ]
    },
    {
      "cell_type": "code",
      "execution_count": 4,
      "metadata": {},
      "outputs": [
        {
          "data": {
            "text/plain": [
              "HookedTransformer(\n",
              "  (embed): Embed()\n",
              "  (hook_embed): HookPoint()\n",
              "  (pos_embed): PosEmbed()\n",
              "  (hook_pos_embed): HookPoint()\n",
              "  (blocks): ModuleList(\n",
              "    (0-11): 12 x TransformerBlock(\n",
              "      (ln1): LayerNormPre(\n",
              "        (hook_scale): HookPoint()\n",
              "        (hook_normalized): HookPoint()\n",
              "      )\n",
              "      (ln2): LayerNormPre(\n",
              "        (hook_scale): HookPoint()\n",
              "        (hook_normalized): HookPoint()\n",
              "      )\n",
              "      (attn): Attention(\n",
              "        (hook_k): HookPoint()\n",
              "        (hook_q): HookPoint()\n",
              "        (hook_v): HookPoint()\n",
              "        (hook_z): HookPoint()\n",
              "        (hook_attn_scores): HookPoint()\n",
              "        (hook_pattern): HookPoint()\n",
              "        (hook_result): HookPoint()\n",
              "      )\n",
              "      (mlp): MLP(\n",
              "        (hook_pre): HookPoint()\n",
              "        (hook_post): HookPoint()\n",
              "      )\n",
              "      (hook_attn_in): HookPoint()\n",
              "      (hook_q_input): HookPoint()\n",
              "      (hook_k_input): HookPoint()\n",
              "      (hook_v_input): HookPoint()\n",
              "      (hook_mlp_in): HookPoint()\n",
              "      (hook_attn_out): HookPoint()\n",
              "      (hook_mlp_out): HookPoint()\n",
              "      (hook_resid_pre): HookPoint()\n",
              "      (hook_resid_mid): HookPoint()\n",
              "      (hook_resid_post): HookPoint()\n",
              "    )\n",
              "  )\n",
              "  (ln_final): LayerNormPre(\n",
              "    (hook_scale): HookPoint()\n",
              "    (hook_normalized): HookPoint()\n",
              "  )\n",
              "  (unembed): Unembed()\n",
              ")"
            ]
          },
          "execution_count": 4,
          "metadata": {},
          "output_type": "execute_result"
        }
      ],
      "source": [
        "gpt2"
      ]
    },
    {
      "cell_type": "code",
      "execution_count": 5,
      "metadata": {},
      "outputs": [
        {
          "data": {
            "text/plain": [
              "HookedTransformerConfig:\n",
              "{'act_fn': 'gelu_new',\n",
              " 'attention_dir': 'causal',\n",
              " 'attn_only': False,\n",
              " 'attn_types': None,\n",
              " 'checkpoint_index': None,\n",
              " 'checkpoint_label_type': None,\n",
              " 'checkpoint_value': None,\n",
              " 'd_head': 64,\n",
              " 'd_mlp': 3072,\n",
              " 'd_model': 768,\n",
              " 'd_vocab': 50257,\n",
              " 'd_vocab_out': 50257,\n",
              " 'default_prepend_bos': True,\n",
              " 'device': device(type='cpu'),\n",
              " 'dtype': torch.float32,\n",
              " 'eps': 1e-05,\n",
              " 'final_rms': False,\n",
              " 'from_checkpoint': False,\n",
              " 'gated_mlp': False,\n",
              " 'init_mode': 'gpt2',\n",
              " 'init_weights': False,\n",
              " 'initializer_range': 0.02886751345948129,\n",
              " 'model_name': 'gpt2',\n",
              " 'n_ctx': 1024,\n",
              " 'n_devices': 1,\n",
              " 'n_heads': 12,\n",
              " 'n_layers': 12,\n",
              " 'n_params': 84934656,\n",
              " 'normalization_type': 'LNPre',\n",
              " 'original_architecture': 'GPT2LMHeadModel',\n",
              " 'parallel_attn_mlp': False,\n",
              " 'positional_embedding_type': 'standard',\n",
              " 'post_embedding_ln': False,\n",
              " 'rotary_dim': None,\n",
              " 'scale_attn_by_inverse_layer_idx': False,\n",
              " 'seed': None,\n",
              " 'tokenizer_name': 'gpt2',\n",
              " 'tokenizer_prepends_bos': False,\n",
              " 'use_attn_in': False,\n",
              " 'use_attn_result': False,\n",
              " 'use_attn_scale': True,\n",
              " 'use_hook_mlp_in': False,\n",
              " 'use_hook_tokens': False,\n",
              " 'use_local_attn': False,\n",
              " 'use_split_qkv_input': False,\n",
              " 'window_size': None}"
            ]
          },
          "execution_count": 5,
          "metadata": {},
          "output_type": "execute_result"
        }
      ],
      "source": [
        "gpt2.cfg"
      ]
    },
    {
      "cell_type": "markdown",
      "metadata": {
        "id": "usYlUFIoQt0T"
      },
      "source": [
        "## Input: \"What does this eat?\" aka Tokenization"
      ]
    },
    {
      "cell_type": "code",
      "execution_count": 6,
      "metadata": {},
      "outputs": [
        {
          "data": {
            "text/plain": [
              "GPT2TokenizerFast(name_or_path='gpt2', vocab_size=50257, model_max_length=1024, is_fast=True, padding_side='right', truncation_side='right', special_tokens={'bos_token': '<|endoftext|>', 'eos_token': '<|endoftext|>', 'unk_token': '<|endoftext|>', 'pad_token': '<|endoftext|>'}, clean_up_tokenization_spaces=True),  added_tokens_decoder={\n",
              "\t50256: AddedToken(\"<|endoftext|>\", rstrip=False, lstrip=False, single_word=False, normalized=True, special=True),\n",
              "}"
            ]
          },
          "execution_count": 6,
          "metadata": {},
          "output_type": "execute_result"
        }
      ],
      "source": [
        "gpt2.tokenizer"
      ]
    },
    {
      "cell_type": "code",
      "execution_count": 7,
      "metadata": {},
      "outputs": [
        {
          "data": {
            "text/plain": [
              "{'Ġchosen': 7147,\n",
              " 'Ġdates': 9667,\n",
              " 'ĠLil': 16342,\n",
              " 'ĠPro': 1041,\n",
              " 'ĠFlavor': 26438,\n",
              " 'Ġfatal': 10800,\n",
              " 'Ġextends': 14582,\n",
              " 'Ġodor': 28192,\n",
              " 'ĠVotes': 39584,\n",
              " '434': 47101,\n",
              " 'Ġdropping': 12047,\n",
              " 'Ġresource': 8271,\n",
              " 'ĠMeow': 42114,\n",
              " 'Ġsill': 49276,\n",
              " '----------------': 1783,\n",
              " 'Ġempower': 17549,\n",
              " 'Ġmushrooms': 23452,\n",
              " 'ricting': 42870,\n",
              " 'ĠOfficial': 15934,\n",
              " 'äº': 12859,\n",
              " 'armed': 12026,\n",
              " 'Ġstrings': 13042,\n",
              " 'Ġmemorial': 17357,\n",
              " 'ĠTill': 17888,\n",
              " 'Ġsmartphones': 18151,\n",
              " 'imore': 9401,\n",
              " 'ĠCycle': 26993,\n",
              " 'CAR': 20034,\n",
              " 'Ġproclaimed': 25546,\n",
              " 'Wa': 33484,\n",
              " 'ĠEncounter': 40998,\n",
              " 'Ġdisbanded': 47302,\n",
              " 'Consumer': 49106,\n",
              " 'otaur': 35269,\n",
              " 'Ġarisen': 42091,\n",
              " 'running': 20270,\n",
              " 'Ġ22': 2534,\n",
              " 'va': 6862,\n",
              " 'ĠApply': 27967,\n",
              " 'ĠScheme': 32448,\n",
              " 'ĠBoo': 21458,\n",
              " 'Virtual': 37725,\n",
              " 'Ġtaxed': 31075,\n",
              " 'Taking': 26556,\n",
              " 'ĠElk': 40151,\n",
              " 'ystem': 6781,\n",
              " 'ĠDeath': 5830,\n",
              " 'ĠACC': 15859,\n",
              " 'ĠMikhail': 42040,\n",
              " 'Ġlockout': 48449,\n",
              " 'Ter': 15156,\n",
              " 'Ď': 202,\n",
              " 'ĠWilliam': 3977,\n",
              " 'adian': 18425,\n",
              " '476': 35435,\n",
              " 'ĠXu': 33591,\n",
              " 'Note': 6425,\n",
              " 'ordon': 9999,\n",
              " 'ĠFra': 39313,\n",
              " 'Ġprogram': 1430,\n",
              " 'Ġforced': 4137,\n",
              " 'EV': 20114,\n",
              " 'Ha': 23303,\n",
              " 'Ġsports': 5701,\n",
              " 'committee': 26799,\n",
              " 'ĠWATCHED': 30134,\n",
              " 'Ġreliable': 9314,\n",
              " 'Ġneuronal': 36347,\n",
              " 'ĠReserv': 40425,\n",
              " 'pred': 28764,\n",
              " 'Greg': 25025,\n",
              " 'idis': 29207,\n",
              " 'Ġabusers': 38991,\n",
              " 'Ġblue': 4171,\n",
              " 'Ġintegral': 19287,\n",
              " 'knowledge': 45066,\n",
              " 'ĠNiÃ±o': 47931,\n",
              " 'åĮ': 44293,\n",
              " 'ĠConst': 4757,\n",
              " 'Ġfurnish': 34076,\n",
              " 'Ġfriendly': 8030,\n",
              " 'ĠPearson': 31074,\n",
              " 'Ġhateful': 30367,\n",
              " 'data': 7890,\n",
              " 'ĠEisen': 22633,\n",
              " 'Ġgreedy': 31828,\n",
              " 'ĠAdding': 18247,\n",
              " 'oshi': 13704,\n",
              " 'ĠPERSON': 46740,\n",
              " 'ye': 5948,\n",
              " 'Ġdecimal': 32465,\n",
              " 'ĠAmmunition': 41411,\n",
              " 'ggies': 33049,\n",
              " 'ĠVick': 33347,\n",
              " 'ĠHornets': 38602,\n",
              " 'MX': 43243,\n",
              " 'Ġpolar': 13559,\n",
              " 'ĠPredator': 38871,\n",
              " 'Ġis': 318,\n",
              " 'Ġ238': 32544,\n",
              " 'ĠReyes': 40599,\n",
              " 'perties': 18200,\n",
              " 'Ġboundaries': 13215,\n",
              " 'Ġequ': 1602,\n",
              " 'Australia': 27429,\n",
              " 'Ġabs': 2352,\n",
              " 'ĠDeer': 34022,\n",
              " 'Ġsubtitles': 44344,\n",
              " 'Ġlik': 4300,\n",
              " 'ĠCM': 16477,\n",
              " 'Ġner': 17156,\n",
              " 'ĠWIN': 25779,\n",
              " 'ĠElephant': 42651,\n",
              " 'Ġever': 1683,\n",
              " 'oliath': 43009,\n",
              " 'ĠAmy': 14235,\n",
              " 'flake': 47597,\n",
              " 'Ġrebuild': 17884,\n",
              " 'Ā': 188,\n",
              " 'ĠAk': 9084,\n",
              " 'Ġconvenience': 15607,\n",
              " 'ĠSkies': 39102,\n",
              " 'Ġ\"%': 36521,\n",
              " 'uthor': 1457,\n",
              " 'uffer': 13712,\n",
              " 'Ġchatter': 37303,\n",
              " 'Ġappears': 3568,\n",
              " 'ĠTrails': 40076,\n",
              " 'Abstract': 23839,\n",
              " 'goo': 42469,\n",
              " 'Ġleading': 3756,\n",
              " '=-=-': 16822,\n",
              " 'ĠcafÃ©': 40304,\n",
              " 'Ġitiner': 45142,\n",
              " 'ĠNex': 14786,\n",
              " 'ĠIranian': 10704,\n",
              " 'çİĭ': 25581,\n",
              " 'Boost': 45686,\n",
              " 'Ġpose': 12705,\n",
              " 'ĠPhillips': 17630,\n",
              " 'Lake': 43035,\n",
              " 'Ġingrained': 47938,\n",
              " 'voy': 40024,\n",
              " 'Ġdecks': 13136,\n",
              " 'gallery': 24460,\n",
              " 'ĠMagnus': 35451,\n",
              " 'Ġlost': 2626,\n",
              " 'Ġtechnology': 3037,\n",
              " 'ĠHub': 14699,\n",
              " 'Ġsoft': 2705,\n",
              " 'Ġstimulus': 19819,\n",
              " 'Ġkillers': 25542,\n",
              " 'Ġtake': 1011,\n",
              " 'Ġsorts': 10524,\n",
              " 'ĠMaximum': 22246,\n",
              " 'Ġcipher': 38012,\n",
              " 'ĠLesbian': 43797,\n",
              " 'Ġmicrobes': 33712,\n",
              " 'Weapons': 41818,\n",
              " 'Ġcompass': 31855,\n",
              " 'Ġoven': 14361,\n",
              " 'ĠQR': 42137,\n",
              " 'ĠMoose': 44833,\n",
              " 'ĠSiem': 45196,\n",
              " 'Ġpeanuts': 45612,\n",
              " 'ag': 363,\n",
              " '33': 2091,\n",
              " 'Ġwreckage': 31781,\n",
              " 'Ġidentifiable': 34450,\n",
              " 'fine': 38125,\n",
              " 'ĠScythe': 45227,\n",
              " 'Ġbroader': 11622,\n",
              " 'Ġdiscussion': 5114,\n",
              " 'azz': 8101,\n",
              " 'Î¹': 29945,\n",
              " '\\\\\\\\\\\\\\\\': 13426,\n",
              " 'ĠStrawberry': 42611,\n",
              " 'Ġrents': 28393,\n",
              " 'Ġrestructuring': 32324,\n",
              " '113': 16616,\n",
              " 'ĠGrimes': 49462,\n",
              " 'ĠBrewery': 31003,\n",
              " 'onde': 14378,\n",
              " 'Ġfulfilled': 23085,\n",
              " 'Ġconditional': 26340,\n",
              " 'ĠPetty': 41505,\n",
              " 'ĠCal': 2199,\n",
              " 'itage': 10208,\n",
              " 'Matt': 13448,\n",
              " 'Ġuns': 5576,\n",
              " 'wart': 24657,\n",
              " 'ĠVer': 4643,\n",
              " 'ĠDream': 7610,\n",
              " 'Ġ398': 39260,\n",
              " 'Ġintertw': 39458,\n",
              " 'ĠLeh': 29921,\n",
              " 'ãĢį': 13700,\n",
              " 'Ġ911': 16679,\n",
              " 'ĠChattanooga': 45851,\n",
              " 'ura': 5330,\n",
              " 'MIN': 23678,\n",
              " '500': 4059,\n",
              " 'whatever': 39664,\n",
              " 'Ġconform': 17216,\n",
              " 'ĠFior': 40040,\n",
              " 'ĠDarren': 26203,\n",
              " 'Ġblame': 8138,\n",
              " 'Ġagony': 35358,\n",
              " 'ĠdÃ©': 39073,\n",
              " 'vironment': 2468,\n",
              " 'ashington': 2542,\n",
              " 'Ġpurchase': 5001,\n",
              " 'Ġsket': 28427,\n",
              " 'ĠReid': 16095,\n",
              " 'Ġpeer': 12720,\n",
              " 'Taylor': 29907,\n",
              " 'ĠHeller': 41252,\n",
              " 'åī': 30298,\n",
              " 'ista': 12523,\n",
              " 'nu': 28803,\n",
              " 'Currently': 21327,\n",
              " 'Ġlymph': 28837,\n",
              " 'nut': 14930,\n",
              " 'Clear': 19856,\n",
              " 'izzle': 44461,\n",
              " 'ĠTodd': 14377,\n",
              " 'ĠFib': 41566,\n",
              " '2020': 42334,\n",
              " 'Ġadult': 4044,\n",
              " '................................................................': 23193,\n",
              " 'Ġmicrobiome': 48465,\n",
              " 'ĠTil': 40422,\n",
              " 'ĠASAP': 46199,\n",
              " 'pit': 15544,\n",
              " 'tenance': 8219,\n",
              " 'Ġsurvivor': 23446,\n",
              " 'ĠTowers': 29031,\n",
              " 'morrow': 9201,\n",
              " 'ĠMelvin': 48834,\n",
              " 'ĠNorth': 2258,\n",
              " 'ĠPrel': 28887,\n",
              " 'upp': 7211,\n",
              " 'Ġuntrue': 35212,\n",
              " '830': 48341,\n",
              " 'mes': 6880,\n",
              " 'ĠBangladesh': 19483,\n",
              " 'ãĥĥãĥī': 45435,\n",
              " 'MF': 49800,\n",
              " '747': 48882,\n",
              " 'bled': 9342,\n",
              " 'pheus': 46421,\n",
              " 'Merit': 21583,\n",
              " 'Ġbirthplace': 48145,\n",
              " 'wheel': 22001,\n",
              " 'Ġtelecommunications': 27473,\n",
              " 'Ġsubmitting': 24353,\n",
              " 'Ġoperating': 5361,\n",
              " 'Ġshowcase': 21742,\n",
              " 'Ġcontractual': 38026,\n",
              " 'ĠCMS': 40773,\n",
              " 'ĠMarket': 5991,\n",
              " 'ĠToad': 42616,\n",
              " '18': 1507,\n",
              " 'Ġpractice': 3357,\n",
              " 'utor': 38409,\n",
              " 'JO': 45006,\n",
              " 'imen': 19027,\n",
              " '118': 16817,\n",
              " 'Ġbalance': 5236,\n",
              " 'sylv': 9163,\n",
              " 'Ġflaming': 39518,\n",
              " 'Ġpm': 9114,\n",
              " 'ĠPom': 25505,\n",
              " 'ĠBaylor': 28245,\n",
              " '900': 12865,\n",
              " 'ĠChile': 17456,\n",
              " 'Ġinitiate': 22118,\n",
              " 'ĠBever': 22185,\n",
              " 'Ġ;': 2162,\n",
              " 'puter': 10549,\n",
              " 'Ġtearing': 24447,\n",
              " 'Area': 30547,\n",
              " 'Ġpredic': 41219,\n",
              " 'HQ': 41275,\n",
              " 'Ġphotographers': 26474,\n",
              " '459': 33459,\n",
              " 'ĠGiov': 36089,\n",
              " 'ĠNE': 10635,\n",
              " 'ĠLah': 30693,\n",
              " 'ory': 652,\n",
              " 'ĠBOX': 45216,\n",
              " 'Ġfox': 21831,\n",
              " 'Ġrhythm': 18662,\n",
              " 'Ġeld': 18441,\n",
              " 'Ġpupil': 34047,\n",
              " 'Ġstaff': 3085,\n",
              " 'ĠBeaver': 42746,\n",
              " 'ĠCreation': 21582,\n",
              " 'Ġamuse': 26072,\n",
              " 'ĠSequ': 24604,\n",
              " 'Ġscrub': 27268,\n",
              " 'make': 15883,\n",
              " 'Ġoffended': 22231,\n",
              " 'ĠCopper': 27157,\n",
              " 'Ġultras': 32866,\n",
              " 'ĠUrs': 37935,\n",
              " 'ĠHom': 8074,\n",
              " 'Ġimmersive': 31403,\n",
              " 'Ġnutrit': 44867,\n",
              " 'ĠNBA': 7403,\n",
              " 'Ġexasper': 41851,\n",
              " 'Ġbat': 7365,\n",
              " 'Ġepid': 12851,\n",
              " 'Ġdoor': 3420,\n",
              " 'asy': 4107,\n",
              " 'Ġpitcher': 18086,\n",
              " 'final': 20311,\n",
              " 'ATER': 23261,\n",
              " 'Break': 31737,\n",
              " 'Ġoptimizations': 41446,\n",
              " 'Ġnefarious': 42079,\n",
              " 'ĠNaturally': 30413,\n",
              " 'increasing': 42647,\n",
              " 'Ġtransact': 48878,\n",
              " 'Ġopp': 1269,\n",
              " 'represent': 15603,\n",
              " 'ĠSamoa': 43663,\n",
              " 'ĠIllusion': 37697,\n",
              " 'psych': 23947,\n",
              " 'armac': 32813,\n",
              " 'acts': 8656,\n",
              " 'Ġunsafe': 21596,\n",
              " 'Ġomega': 37615,\n",
              " 'Ġtense': 20170,\n",
              " 'Ġseason': 1622,\n",
              " 'ĠãĤµãĥ¼ãĥĨãĤ£': 45544,\n",
              " 'INTON': 46812,\n",
              " 'Ġtennis': 20790,\n",
              " 'ĠBloom': 11891,\n",
              " 'Ġinvincible': 46038,\n",
              " 'ĠDing': 46980,\n",
              " 'Ġfearful': 26844,\n",
              " 'Ġactively': 10630,\n",
              " 'ĠSpart': 20711,\n",
              " 'ĠMBA': 45517,\n",
              " 'Slow': 36423,\n",
              " 'Peace': 43445,\n",
              " 'ĠDhabi': 43941,\n",
              " 'ĠCostume': 40051,\n",
              " 'Ġcas': 6124,\n",
              " 'ĠSentinel': 26716,\n",
              " 'Ġinward': 29879,\n",
              " 'ISTER': 41517,\n",
              " 'Ġvet': 20202,\n",
              " 'ĠPerception': 35802,\n",
              " 'abwe': 27050,\n",
              " 'Ġinvasion': 11796,\n",
              " 'Ġuniversity': 6403,\n",
              " 'ĠHarrison': 17281,\n",
              " 'late': 17660,\n",
              " 'uckland': 28789,\n",
              " 'ĠEnter': 6062,\n",
              " 'Ġsimulation': 18640,\n",
              " '229': 23539,\n",
              " 'Ġcrime': 4065,\n",
              " 'ĠNext': 7406,\n",
              " 'Aff': 35191,\n",
              " 'ĠRankings': 40284,\n",
              " 'Ġcaf': 19945,\n",
              " 'Ġtrove': 42377,\n",
              " 'onent': 3471,\n",
              " 'Ġinn': 3527,\n",
              " 'endiary': 43034,\n",
              " 'Ġfrag': 7956,\n",
              " '23': 1954,\n",
              " 'omas': 16911,\n",
              " 'Ġspeak': 2740,\n",
              " 'vity': 21319,\n",
              " 'Ġdestroys': 27838,\n",
              " 'è£ħ': 35318,\n",
              " 'ĠAaron': 12139,\n",
              " 'Ġwoven': 36932,\n",
              " 'ĠNearly': 21233,\n",
              " 'FT': 9792,\n",
              " 'Ġawait': 25507,\n",
              " 'Ġmu': 38779,\n",
              " 'Ġretweet': 38814,\n",
              " 'prefix': 40290,\n",
              " 'Ġoccupant': 47742,\n",
              " 'Ġaspirin': 49550,\n",
              " 'Ġiterator': 41313,\n",
              " 'ĠDr': 1583,\n",
              " 'ĠBB': 12597,\n",
              " 'Ġvit': 9090,\n",
              " 'Ġspreads': 26779,\n",
              " 'Ġbumper': 32228,\n",
              " 'looking': 11534,\n",
              " 'ĠStevens': 20019,\n",
              " 'Ġenforcing': 26587,\n",
              " 'Ġreperc': 32846,\n",
              " 'Ġheritage': 15012,\n",
              " 'ĠNoel': 33905,\n",
              " 'Ġdependence': 21403,\n",
              " 'Ġcounseling': 21951,\n",
              " 'ĠMarks': 27366,\n",
              " 'Ġattendant': 31277,\n",
              " 'Ġsupplemental': 34885,\n",
              " 'Ġcommencement': 32609,\n",
              " 'ãĥŁ': 27542,\n",
              " 'Ġenrichment': 36513,\n",
              " 'Ġclinging': 40137,\n",
              " 'annot': 34574,\n",
              " 'Ġroadmap': 40332,\n",
              " 'ĠSwiss': 14780,\n",
              " 'Ġpersons': 6506,\n",
              " 'ĠSpecialist': 36816,\n",
              " 'ĠSociety': 7023,\n",
              " 'ĠWiz': 41122,\n",
              " 'ĠLiberals': 20162,\n",
              " 'Ġhandshake': 42231,\n",
              " 'Sport': 42576,\n",
              " 'Ġskew': 43370,\n",
              " 'Liverpool': 44232,\n",
              " 'Ġstabilized': 44945,\n",
              " 'Ġcomplication': 45185,\n",
              " 'ĠModel': 9104,\n",
              " 'idently': 46046,\n",
              " 'Ward': 49021,\n",
              " 'ĠFUN': 29397,\n",
              " 'usalem': 10555,\n",
              " 'ĠAce': 17102,\n",
              " 'Ġrude': 22066,\n",
              " 'ĠOccup': 15227,\n",
              " 'ĠRepresent': 10858,\n",
              " 'Ġmind': 2000,\n",
              " 'ĠRob': 3851,\n",
              " 'Ġworkouts': 27197,\n",
              " 'itizens': 34100,\n",
              " 'corn': 20772,\n",
              " 'Repl': 39232,\n",
              " 'Ġenvironments': 12493,\n",
              " 'Ġuh': 21480,\n",
              " 'ECD': 27295,\n",
              " 'Ġretro': 12175,\n",
              " 'Ġprodu': 990,\n",
              " 'onian': 27625,\n",
              " 'ĠWin': 7178,\n",
              " 'lymp': 6760,\n",
              " 'Ĵ': 240,\n",
              " 'Ġcongest': 22791,\n",
              " 'atern': 9205,\n",
              " 'akia': 21897,\n",
              " 'Ġemployee': 6538,\n",
              " \"'),\": 33809,\n",
              " 'ĠReload': 37653,\n",
              " 'ĠIncarnation': 47881,\n",
              " 'blown': 31290,\n",
              " 'ĠLions': 14536,\n",
              " 'ĠBahrain': 29066,\n",
              " 'anco': 47699,\n",
              " 'ining': 3191,\n",
              " 'fg': 40616,\n",
              " 'Ġexchanges': 14525,\n",
              " '>>>>': 16471,\n",
              " 'Ġenz': 26365,\n",
              " 'iffe': 22391,\n",
              " 'Ġ())': 32865,\n",
              " 'ien': 2013,\n",
              " 'Ġbub': 10015,\n",
              " 'Ġcompar': 4616,\n",
              " 'iaz': 17890,\n",
              " 'Ġvetted': 48383,\n",
              " 'Ġpharmacies': 49661,\n",
              " 'Ġasserting': 33183,\n",
              " 'irmation': 36241,\n",
              " 'orde': 17531,\n",
              " 'mask': 27932,\n",
              " 'Ġchampion': 8783,\n",
              " 'ĠMari': 29423,\n",
              " 'ĠBett': 43599,\n",
              " 'ĠNav': 13244,\n",
              " 'ĠSnake': 16705,\n",
              " 'Ġusefulness': 37496,\n",
              " 'Ġsparking': 41525,\n",
              " 'Sadly': 36725,\n",
              " 'ĠDietary': 40767,\n",
              " 'cellaneous': 25673,\n",
              " 'wind': 7972,\n",
              " 'ĠIL': 14639,\n",
              " 'Ġtactical': 16106,\n",
              " 'Ġthriving': 27723,\n",
              " 'Fail': 39044,\n",
              " 'ĠBoards': 48606,\n",
              " 'ĠETF': 31112,\n",
              " 'Xbox': 43377,\n",
              " 'Desc': 24564,\n",
              " 'Ġovarian': 45546,\n",
              " 'ĠeBay': 21698,\n",
              " 'Ġfrivolous': 48461,\n",
              " 'Ġpermitting': 29256,\n",
              " 'ĠYour': 3406,\n",
              " 'ĠSea': 6896,\n",
              " 'Ġnotion': 9495,\n",
              " '!!!!': 13896,\n",
              " 'respected': 48268,\n",
              " 'slave': 36341,\n",
              " 'ĠCancel': 27910,\n",
              " 'Ġwitnessing': 31121,\n",
              " 'tell': 33331,\n",
              " 'ĠVaugh': 30856,\n",
              " 'Ġhistorically': 15074,\n",
              " 'dri': 7553,\n",
              " 'Ġdef': 825,\n",
              " 'Ġconvened': 39828,\n",
              " 'your': 14108,\n",
              " 'Ġhumid': 35441,\n",
              " 'Ġequity': 13598,\n",
              " '114': 16562,\n",
              " 'ĠHUN': 41041,\n",
              " 'mma': 21672,\n",
              " 'æķ': 46763,\n",
              " 'ĠStones': 26596,\n",
              " 'Est': 22362,\n",
              " 'ĠManafort': 26351,\n",
              " 'ĠLimit': 27272,\n",
              " 'ĠManhattan': 13458,\n",
              " 'ĠSoviets': 31062,\n",
              " 'Congratulations': 45048,\n",
              " 'eming': 46564,\n",
              " 'gross': 47181,\n",
              " 'Ġtouting': 48120,\n",
              " 'Ġcontr': 3445,\n",
              " 'Ġroutine': 8027,\n",
              " 'ĠANC': 46179,\n",
              " 'ĠVerse': 38641,\n",
              " 'ĠTurnbull': 26445,\n",
              " 'ankind': 28066,\n",
              " 'Ġgarner': 34679,\n",
              " 'Water': 19184,\n",
              " 'methyl': 43654,\n",
              " 'ĠPackage': 15717,\n",
              " 'Ġappetite': 20788,\n",
              " 'Clearly': 30638,\n",
              " 'seven': 26548,\n",
              " 'Ġexercises': 13565,\n",
              " 'Opt': 27871,\n",
              " 'Ġcivilization': 14355,\n",
              " 'ĠUkrainian': 13053,\n",
              " 'Ġvel': 11555,\n",
              " 'ĠLake': 6233,\n",
              " '?).': 29865,\n",
              " 'Ġmell': 33748,\n",
              " 'ĠNem': 22547,\n",
              " 'Ġbecoming': 5033,\n",
              " 'ĠHaf': 47458,\n",
              " '35': 2327,\n",
              " 'ĠHook': 18531,\n",
              " 'ĠDorothy': 40349,\n",
              " 'arde': 45093,\n",
              " 'ĠRas': 28513,\n",
              " 'ula': 4712,\n",
              " 'ipes': 18636,\n",
              " 'Ġprosecutors': 11947,\n",
              " 'reed': 15977,\n",
              " 'rez': 21107,\n",
              " 'etic': 5139,\n",
              " 'Ġuniquely': 24139,\n",
              " 'Ġhumane': 31533,\n",
              " 'Em': 10161,\n",
              " 'ĠIA': 35229,\n",
              " 'Ġemer': 3165,\n",
              " 'ĠBraves': 29374,\n",
              " 'Ġarticulate': 32154,\n",
              " 'ĠZeit': 47447,\n",
              " 'Ġcirculate': 49306,\n",
              " 'improve': 49453,\n",
              " 'ĠDarling': 49825,\n",
              " 'mond': 6327,\n",
              " 'ç¥ŀ': 15351,\n",
              " 'Ġdreaded': 39229,\n",
              " 'ĠNASL': 49151,\n",
              " 'æľ': 17312,\n",
              " 'Ġunderground': 11447,\n",
              " 'scan': 35836,\n",
              " 'Ġneighb': 9882,\n",
              " 'ĠPok': 8175,\n",
              " 'ĠMerry': 39001,\n",
              " 'uese': 20506,\n",
              " ';;': 7665,\n",
              " 'hift': 29323,\n",
              " 'Ġlongstanding': 30678,\n",
              " 'ants': 1187,\n",
              " 'urry': 16682,\n",
              " 'Filename': 35063,\n",
              " 'aram': 41158,\n",
              " 'ĠAvailability': 43138,\n",
              " 'ss': 824,\n",
              " 'ĠCorm': 43154,\n",
              " 'Ġstamp': 17977,\n",
              " 'Ġprecious': 14186,\n",
              " 'Ign': 32916,\n",
              " 'Companies': 49111,\n",
              " 'code': 8189,\n",
              " 'cerning': 41981,\n",
              " 'Ġidols': 40207,\n",
              " 'abul': 16665,\n",
              " 'Ġstint': 22966,\n",
              " 'Ġbead': 49773,\n",
              " 'Ġproperly': 6105,\n",
              " 'ĠSpot': 15899,\n",
              " '_>': 49029,\n",
              " 'ĠKenyan': 47214,\n",
              " 'ipt': 10257,\n",
              " 'ĠW': 370,\n",
              " 'Dem': 11522,\n",
              " 'Ġframed': 23665,\n",
              " 'ractions': 37810,\n",
              " 'ĠGOT': 41725,\n",
              " 'Ġpledging': 43858,\n",
              " 'ĠVol': 4709,\n",
              " 'Ġoppress': 35035,\n",
              " 'Ġcannons': 37577,\n",
              " '++++++++++++++++': 44627,\n",
              " 'Ġmanipulate': 18510,\n",
              " 'vere': 4119,\n",
              " 'aaaa': 24794,\n",
              " 'DNA': 28886,\n",
              " 'Ġawarded': 11343,\n",
              " 'yang': 17859,\n",
              " 'ĠHawaiian': 29827,\n",
              " '01': 486,\n",
              " '.\",\"': 41424,\n",
              " 'Ġrecip': 7450,\n",
              " 'Ġgenerates': 18616,\n",
              " 'Ġawakened': 39217,\n",
              " 'Ġyounger': 7099,\n",
              " 'Ġimpro': 2015,\n",
              " 'unciation': 24978,\n",
              " 'Ġposs': 1184,\n",
              " 'Attach': 33296,\n",
              " 'Ġstandby': 42020,\n",
              " 'Ġâĩ': 42527,\n",
              " 'igers': 34984,\n",
              " 'ACTED': 38542,\n",
              " 'ĠISO': 19694,\n",
              " 'Ġcheckout': 28006,\n",
              " 'Ġserves': 9179,\n",
              " 'ĠClick': 6914,\n",
              " 'notation': 38983,\n",
              " 'Ġintest': 20183,\n",
              " 'otta': 12375,\n",
              " 'Ġjerk': 29757,\n",
              " 'Ġtruly': 4988,\n",
              " 'Ġcareless': 36138,\n",
              " 'vern': 933,\n",
              " '810': 40215,\n",
              " 'Thanks': 9690,\n",
              " 'Ġnations': 7027,\n",
              " 'Ġmatches': 7466,\n",
              " 'ĠEmbassy': 23233,\n",
              " 'irens': 42917,\n",
              " 'Ġcandidates': 5871,\n",
              " 'Ġliberty': 12354,\n",
              " 'static': 12708,\n",
              " 'zu': 27624,\n",
              " 'Ġprovisional': 37042,\n",
              " 'ĠTaco': 40129,\n",
              " 'uating': 11927,\n",
              " 'WT': 39386,\n",
              " 'tip': 22504,\n",
              " 'Ġpasswords': 21442,\n",
              " 'Ġdebate': 4384,\n",
              " 'Ġvigilance': 49202,\n",
              " 'Ġanimations': 22407,\n",
              " 'ascular': 14767,\n",
              " 'ĠSaul': 31603,\n",
              " 'union': 24592,\n",
              " 'ĠGarcia': 18555,\n",
              " 'Ġcredibility': 16532,\n",
              " 'Dig': 19511,\n",
              " 'Ġenters': 14170,\n",
              " 'chy': 29658,\n",
              " 'Ġancestor': 31836,\n",
              " 'quart': 36008,\n",
              " 'Ġpicnic': 35715,\n",
              " 'rules': 38785,\n",
              " 'una': 9613,\n",
              " 'Ġsuggestions': 11776,\n",
              " 'Calling': 48593,\n",
              " 'Ġdeception': 26337,\n",
              " 'ĠNeigh': 22505,\n",
              " '629': 48602,\n",
              " 'College': 38951,\n",
              " 'Ġnegoti': 5578,\n",
              " '},{\"': 8762,\n",
              " 'ĠGir': 23837,\n",
              " 'ĠOUT': 16289,\n",
              " 'inctions': 31253,\n",
              " 'kid': 38439,\n",
              " 'channelAvailability': 39757,\n",
              " 'Ġdebris': 16468,\n",
              " 'Ġtexting': 36634,\n",
              " 'Reply': 36875,\n",
              " 'tile': 40927,\n",
              " 'Ġexperien': 3410,\n",
              " 'cpu': 36166,\n",
              " 'rit': 799,\n",
              " 'case': 7442,\n",
              " 'ĠDag': 32167,\n",
              " 'Ġpediatric': 29775,\n",
              " 'ĠCoulter': 47248,\n",
              " 'times': 22355,\n",
              " 'OFF': 27977,\n",
              " 'ised': 1417,\n",
              " 'Ġpresence': 4931,\n",
              " 'Ġeerie': 41128,\n",
              " 'Ġrespectfully': 41177,\n",
              " 'adapt': 42552,\n",
              " 'TO': 10468,\n",
              " 'vil': 2991,\n",
              " 'kun': 28374,\n",
              " 'Ġawaited': 39576,\n",
              " 'ĠBrist': 23072,\n",
              " 'Ġpetty': 25229,\n",
              " 'Ġ347': 43292,\n",
              " 'Ġinequalities': 45460,\n",
              " 'iem': 26597,\n",
              " 'Ġbugs': 11316,\n",
              " 'Firstly': 49709,\n",
              " 'ĠSeventh': 31848,\n",
              " 'Ġvying': 48067,\n",
              " 'ĠUCS': 49553,\n",
              " 'âĨ': 29705,\n",
              " 'Ġparanoia': 34370,\n",
              " 'Ġconsumes': 37225,\n",
              " 'Ġgranite': 41013,\n",
              " 'oddy': 38553,\n",
              " 'eport': 45813,\n",
              " 'ĠJuda': 24771,\n",
              " 'Ġconditioned': 31964,\n",
              " 'Gas': 39699,\n",
              " 'Ġif': 611,\n",
              " 'Ġclicking': 12264,\n",
              " 'ĠVenus': 21094,\n",
              " 'Ġantagon': 23775,\n",
              " 'Ġepilepsy': 35325,\n",
              " 'iffs': 10203,\n",
              " 'Ġ378': 45473,\n",
              " 'ĠCollections': 50004,\n",
              " 'Ġbro': 1379,\n",
              " 'aked': 4335,\n",
              " 'ĠVij': 49219,\n",
              " 'ĠZack': 30718,\n",
              " 'surface': 42029,\n",
              " 'Ġcrave': 44434,\n",
              " 'ĠSomalia': 23918,\n",
              " 'Ġanyone': 2687,\n",
              " 'Ġcreat': 1827,\n",
              " 'ractive': 35587,\n",
              " 'Ġshedding': 39543,\n",
              " 'ĠHarding': 45732,\n",
              " 'ĠJudah': 49931,\n",
              " 'Ġadvantages': 13391,\n",
              " 'ĠWarp': 31382,\n",
              " 'Ġcompromise': 13110,\n",
              " 'ias': 4448,\n",
              " 'Ġwaiting': 4953,\n",
              " 'BD': 14529,\n",
              " 'Ġwed': 29445,\n",
              " 'Ġsk': 1341,\n",
              " 'Ġrotation': 13179,\n",
              " 'ĠRP': 25812,\n",
              " 'Ġmisinformation': 32805,\n",
              " 'reb': 34806,\n",
              " 'ĠGall': 7096,\n",
              " 'ĠKes': 40679,\n",
              " 'Ġcounteract': 47578,\n",
              " 'quire': 29782,\n",
              " 'Ne': 8199,\n",
              " 'Ġreunion': 30321,\n",
              " 'ĠJackets': 41324,\n",
              " 'Ġski': 19984,\n",
              " 'Ġabduct': 24827,\n",
              " 'Ġunaff': 25312,\n",
              " 'ĠFin': 4463,\n",
              " 'haar': 42948,\n",
              " 'RIP': 32618,\n",
              " 'yah': 46848,\n",
              " 'ĠTreatment': 21415,\n",
              " '727': 47760,\n",
              " 'ĠFactor': 27929,\n",
              " 'ĠSpend': 48293,\n",
              " 'ĠGret': 35877,\n",
              " 'Ġbamboo': 37252,\n",
              " 'Ġactive': 4075,\n",
              " 'Ġtail': 7894,\n",
              " 'Ġseal': 13810,\n",
              " 'ĠSweet': 15335,\n",
              " 'ĠSort': 33947,\n",
              " 'atile': 12610,\n",
              " 'eteenth': 26425,\n",
              " 'eks': 2573,\n",
              " 'yy': 22556,\n",
              " 'ĠDug': 27436,\n",
              " 'Report': 19100,\n",
              " 'ĠApache': 24843,\n",
              " 'started': 46981,\n",
              " 'ĠUM': 44352,\n",
              " 'ĠKatz': 36290,\n",
              " 'Ġinsecurity': 33837,\n",
              " 'Ġrelaxation': 34205,\n",
              " 'ĠLC': 22228,\n",
              " 'Ġmainland': 22779,\n",
              " 'ISE': 24352,\n",
              " 'Ġunle': 15809,\n",
              " 'ĠAbandon': 41105,\n",
              " 'Ġtelling': 5149,\n",
              " 'Ġhierarchical': 38958,\n",
              " 'Ġlest': 27380,\n",
              " 'Ġsmugglers': 42876,\n",
              " 'Ġfolder': 9483,\n",
              " 'ĠNoble': 20833,\n",
              " '561': 47915,\n",
              " 'Ġbarbaric': 48176,\n",
              " 'cester': 33187,\n",
              " 'Personal': 30228,\n",
              " 'Coun': 31053,\n",
              " 'adequ': 16515,\n",
              " 'Ġoutlining': 36995,\n",
              " 'ĠDecember': 3426,\n",
              " 'igure': 7047,\n",
              " 'Ġpreferred': 9871,\n",
              " 'ciples': 6418,\n",
              " 'Ġbid': 8406,\n",
              " 'Ġmutually': 26519,\n",
              " 'Ġfiled': 5717,\n",
              " 'ĠUltimate': 11165,\n",
              " 'ĠCSV': 44189,\n",
              " 'eston': 19115,\n",
              " 'Ġcountless': 12925,\n",
              " 'Ġuniversal': 10112,\n",
              " 'amples': 12629,\n",
              " 'ĠPowerShell': 33870,\n",
              " 'ĠVPN': 21669,\n",
              " 'Ġsorce': 32892,\n",
              " 'ĠMuk': 31509,\n",
              " 'emaker': 32174,\n",
              " 'ĠHSBC': 43841,\n",
              " 'Ġchall': 2532,\n",
              " 'Ġinduct': 28948,\n",
              " 'Ġfasc': 7751,\n",
              " 'Ġunpaid': 24268,\n",
              " 'Ġspeculative': 28991,\n",
              " 'ĠLiterature': 33818,\n",
              " '729': 48555,\n",
              " 'phant': 33959,\n",
              " 'ĠCreep': 41682,\n",
              " 'ĠProsecutors': 48198,\n",
              " 'ĠDisorders': 37966,\n",
              " 'Ġgrains': 21824,\n",
              " 'ĠBless': 49629,\n",
              " 'Ġmaximum': 5415,\n",
              " 'Ġdemanded': 12284,\n",
              " 'Ġswimming': 14899,\n",
              " 'Chinese': 23604,\n",
              " 'life': 6042,\n",
              " 'Ġbunch': 7684,\n",
              " 'Å': 129,\n",
              " 'Ġbuyers': 14456,\n",
              " 'Ġshrimp': 30060,\n",
              " 'Ġanomalies': 35907,\n",
              " 'âĢ¢âĢ¢âĢ¢âĢ¢': 39967,\n",
              " 'Ġph': 872,\n",
              " 'ilit': 6392,\n",
              " 'Ġinability': 16612,\n",
              " 'ĠFren': 39208,\n",
              " 'Ġneuroscience': 39738,\n",
              " 'ĠHull': 28238,\n",
              " 'Ġcardiovascular': 21134,\n",
              " 'ĠOrder': 8284,\n",
              " 'ctions': 2733,\n",
              " 'sq': 31166,\n",
              " 'ĠSikh': 34629,\n",
              " '795': 41544,\n",
              " 'Ġbelonged': 19611,\n",
              " 'Buff': 36474,\n",
              " 'ounters': 15044,\n",
              " 'Ġ1870': 37667,\n",
              " 'Marcus': 35110,\n",
              " 'aves': 3080,\n",
              " 'ÑĤ': 20375,\n",
              " 'ĠNinja': 14152,\n",
              " 'ĠDys': 46876,\n",
              " 'nsics': 49242,\n",
              " 'Ġradius': 16874,\n",
              " 'ĠZoro': 42840,\n",
              " 'Mrs': 27034,\n",
              " 'õ': 177,\n",
              " 'Given': 15056,\n",
              " 'attacks': 38458,\n",
              " 'Ġdragged': 17901,\n",
              " 'IF': 5064,\n",
              " 'ĠServing': 49208,\n",
              " 'Ġoverly': 17698,\n",
              " 'Ġguard': 4860,\n",
              " 'ĠStarbucks': 24527,\n",
              " 'thood': 12951,\n",
              " 'Ġhealing': 11516,\n",
              " 'Ġversus': 9051,\n",
              " 'VERTISEMENT': 18679,\n",
              " 'ĠRate': 14806,\n",
              " 'comfort': 21598,\n",
              " 'Ġutterly': 15950,\n",
              " 'ĠAlb': 17399,\n",
              " 'ĠGOD': 29562,\n",
              " 'ĠSeason': 7369,\n",
              " 'services': 30416,\n",
              " 'Black': 9915,\n",
              " 'Ġlongevity': 28188,\n",
              " 'ĠCaleb': 40777,\n",
              " 'ĠHa': 9398,\n",
              " 'Ġinstructor': 21187,\n",
              " 'Ġspiral': 23642,\n",
              " 'ĠSnapchat': 31546,\n",
              " 'Ġhardened': 33034,\n",
              " 'Ġaur': 45714,\n",
              " 'Ġplaza': 42433,\n",
              " 'Ġvaccine': 12319,\n",
              " 'repl': 35666,\n",
              " 'ĠIly': 49804,\n",
              " 'Ġexperimenting': 27826,\n",
              " 'ĠIllust': 23279,\n",
              " 'Ġsuperhero': 17343,\n",
              " '266': 25540,\n",
              " 'ĠRecommended': 31117,\n",
              " 'NFL': 32078,\n",
              " 'ooting': 12494,\n",
              " 'Ġrubber': 14239,\n",
              " 'ĠRiot': 24528,\n",
              " 'Ġconcerts': 28565,\n",
              " 'ikarp': 36850,\n",
              " 'ophysical': 41789,\n",
              " 'Ġinciner': 48244,\n",
              " 'Statement': 48682,\n",
              " 'Ġsurrounding': 7346,\n",
              " 'sburgh': 11931,\n",
              " 'Ġcommit': 4589,\n",
              " 'Ġlittle': 1310,\n",
              " 'Military': 37837,\n",
              " 'Ġmalaria': 33917,\n",
              " 'IND': 12115,\n",
              " 'ĠDove': 48595,\n",
              " 'seat': 24073,\n",
              " 'rief': 3796,\n",
              " 'Ol': 30098,\n",
              " 'revolution': 32243,\n",
              " 'Ġsnapped': 20821,\n",
              " 'Actor': 40277,\n",
              " 'aepernick': 28333,\n",
              " 'ĠFusion': 21278,\n",
              " 'Ġturnovers': 33888,\n",
              " 'parable': 37064,\n",
              " 'Ġ###': 44386,\n",
              " 'ĠJavascript': 24711,\n",
              " 'of': 1659,\n",
              " 'beta': 31361,\n",
              " 'Ġyears': 812,\n",
              " 'ĠSex': 14419,\n",
              " 'Ġappeals': 15192,\n",
              " 'Ġfuzz': 26080,\n",
              " 'inventory': 24807,\n",
              " 'ĠBa': 8999,\n",
              " 'Ġbyte': 18022,\n",
              " 'ĠCatalan': 31066,\n",
              " 'ĠNeptune': 26461,\n",
              " 'advertising': 34442,\n",
              " 'Ġstandout': 35482,\n",
              " 'ĠFern': 38982,\n",
              " 'etsk': 29515,\n",
              " 'Ġruining': 39842,\n",
              " 'ĠLockheed': 34238,\n",
              " 'Ġmovements': 8650,\n",
              " 'contact': 32057,\n",
              " 'Ġpdf': 37124,\n",
              " '465': 42018,\n",
              " 'âĸº': 45717,\n",
              " 'Ġ4096': 42479,\n",
              " '663': 45791,\n",
              " 'Ġfog': 19558,\n",
              " 'Ġfueled': 24959,\n",
              " 'Ġ}}': 34949,\n",
              " 'Ġanalysis': 3781,\n",
              " 'Ġremind': 7101,\n",
              " 'AY': 4792,\n",
              " 'Ġundoubtedly': 17713,\n",
              " 'Ġpudding': 44670,\n",
              " 'ĠCarnival': 40886,\n",
              " 'Ġspores': 47306,\n",
              " 'obile': 3579,\n",
              " 'eight': 26022,\n",
              " ...}"
            ]
          },
          "execution_count": 7,
          "metadata": {},
          "output_type": "execute_result"
        }
      ],
      "source": [
        "gpt2.tokenizer.vocab"
      ]
    },
    {
      "cell_type": "code",
      "execution_count": 8,
      "metadata": {},
      "outputs": [],
      "source": [
        "vocab_sorted = sorted(gpt2.tokenizer.vocab.items(), key=lambda x: x[1])"
      ]
    },
    {
      "cell_type": "code",
      "execution_count": 9,
      "metadata": {},
      "outputs": [
        {
          "data": {
            "text/plain": [
              "[('Ġkernels', 50207),\n",
              " ('ĠFranÃ§ois', 50208),\n",
              " ('ĠDuff', 50209),\n",
              " ('ĠPon', 50210),\n",
              " ('ĠLeica', 50211),\n",
              " ('ĠGarmin', 50212),\n",
              " ('Ġorphans', 50213),\n",
              " ('ĠClaudia', 50214),\n",
              " ('Ġcalendars', 50215),\n",
              " ('ĠLeilan', 50216),\n",
              " ('ento', 50217),\n",
              " ('Rocket', 50218),\n",
              " ('Ġbrunch', 50219),\n",
              " ('ĠHawking', 50220),\n",
              " ('ainers', 50221),\n",
              " ('Ġsensibilities', 50222),\n",
              " ('ĠkW', 50223),\n",
              " ('ĠKand', 50224),\n",
              " ('Ġreclaimed', 50225),\n",
              " ('Ġinterestingly', 50226),\n",
              " ('×©', 50227),\n",
              " ('romy', 50228),\n",
              " ('JM', 50229),\n",
              " ('ĠEnhancement', 50230),\n",
              " ('bush', 50231),\n",
              " ('Skip', 50232),\n",
              " ('Ġrappers', 50233),\n",
              " ('Ġgazing', 50234),\n",
              " ('pedia', 50235),\n",
              " ('athlon', 50236),\n",
              " ('Revolution', 50237),\n",
              " ('Ġsnipers', 50238),\n",
              " ('Ġreverted', 50239),\n",
              " ('Ġconglomerate', 50240),\n",
              " ('Terry', 50241),\n",
              " ('794', 50242),\n",
              " ('Ġharsher', 50243),\n",
              " ('Ġdesolate', 50244),\n",
              " ('ĠHitman', 50245),\n",
              " ('Commission', 50246),\n",
              " ('Ġ(/', 50247),\n",
              " ('âĢ¦.\"', 50248),\n",
              " ('Compar', 50249),\n",
              " ('Ġamplification', 50250),\n",
              " ('ominated', 50251),\n",
              " ('Ġregress', 50252),\n",
              " ('ĠCollider', 50253),\n",
              " ('Ġinformants', 50254),\n",
              " ('Ġgazed', 50255),\n",
              " ('<|endoftext|>', 50256)]"
            ]
          },
          "execution_count": 9,
          "metadata": {},
          "output_type": "execute_result"
        }
      ],
      "source": [
        "vocab_sorted[-50:]"
      ]
    },
    {
      "cell_type": "code",
      "execution_count": 10,
      "metadata": {},
      "outputs": [
        {
          "data": {
            "text/plain": [
              "['<|endoftext|>',\n",
              " '8',\n",
              " '27',\n",
              " '364',\n",
              " ' +',\n",
              " ' 12',\n",
              " '87',\n",
              " '36',\n",
              " ' =',\n",
              " ' 98',\n",
              " '687',\n",
              " '34',\n",
              " '?']"
            ]
          },
          "execution_count": 10,
          "metadata": {},
          "output_type": "execute_result"
        }
      ],
      "source": [
        "gpt2.to_str_tokens(\"827364 + 128736 = 9868734?\")"
      ]
    },
    {
      "cell_type": "code",
      "execution_count": 11,
      "metadata": {},
      "outputs": [],
      "source": [
        "text = (\"This is a story about Quomatarus.\"\n",
        "  + \" When one day Quomatarus decided to do something different and bought a plane ticket to Lamanandu.\"\n",
        "  + \" When he arrived to the airport Quomatarus noticed\")"
      ]
    },
    {
      "cell_type": "code",
      "execution_count": 12,
      "metadata": {},
      "outputs": [
        {
          "name": "stdout",
          "output_type": "stream",
          "text": [
            "['<|endoftext|>', 'This', ' is', ' a', ' story', ' about', ' Qu', 'om', 'atar', 'us', '.', ' When', ' one', ' day', ' Qu', 'om', 'atar', 'us', ' decided', ' to', ' do', ' something', ' different', ' and', ' bought', ' a', ' plane', ' ticket', ' to', ' L', 'aman', 'and', 'u', '.', ' When', ' he', ' arrived', ' to', ' the', ' airport', ' Qu', 'om', 'atar', 'us', ' noticed']\n",
            "torch.Size([1, 45])\n"
          ]
        }
      ],
      "source": [
        "tokens = gpt2.to_tokens(text)\n",
        "str_tokens = gpt2.to_str_tokens(text)\n",
        "print(str_tokens)\n",
        "print(tokens.shape)"
      ]
    },
    {
      "cell_type": "code",
      "execution_count": 13,
      "metadata": {},
      "outputs": [
        {
          "data": {
            "text/plain": [
              "tensor([[50256,  1212,   318,   257,  1621,   546,  2264,   296,  9459,   385,\n",
              "            13,  1649,   530,  1110,  2264,   296,  9459,   385,  3066,   284,\n",
              "           466,  1223,  1180,   290,  5839,   257,  6614,  7846,   284,   406,\n",
              "         10546,   392,    84,    13,  1649,   339,  5284,   284,   262,  9003,\n",
              "          2264,   296,  9459,   385,  6810]])"
            ]
          },
          "execution_count": 13,
          "metadata": {},
          "output_type": "execute_result"
        }
      ],
      "source": [
        "tokens"
      ]
    },
    {
      "cell_type": "markdown",
      "metadata": {
        "id": "1QFdOM1F99Ey"
      },
      "source": [
        "### Embedding"
      ]
    },
    {
      "cell_type": "code",
      "execution_count": 14,
      "metadata": {},
      "outputs": [
        {
          "data": {
            "text/plain": [
              "torch.Size([50257, 768])"
            ]
          },
          "execution_count": 14,
          "metadata": {},
          "output_type": "execute_result"
        }
      ],
      "source": [
        "gpt2.W_E.shape"
      ]
    },
    {
      "cell_type": "code",
      "execution_count": 15,
      "metadata": {},
      "outputs": [
        {
          "data": {
            "text/plain": [
              "tensor([[-0.1106, -0.0398,  0.0326],\n",
              "        [ 0.0359, -0.0531,  0.0418],\n",
              "        [-0.1301,  0.0453,  0.1815]], requires_grad=True)"
            ]
          },
          "execution_count": 15,
          "metadata": {},
          "output_type": "execute_result"
        }
      ],
      "source": [
        "get_corner(gpt2.W_E)"
      ]
    },
    {
      "cell_type": "markdown",
      "metadata": {
        "id": "IYPPZ_6q-3K5"
      },
      "source": [
        "## Output: \"What comes out?\""
      ]
    },
    {
      "cell_type": "code",
      "execution_count": 16,
      "metadata": {
        "colab": {
          "base_uri": "https://localhost:8080/"
        },
        "id": "R3F7o1W9-9Fm",
        "outputId": "5a51b93d-5ee2-4456-e8cc-e4f6a1777406"
      },
      "outputs": [
        {
          "name": "stdout",
          "output_type": "stream",
          "text": [
            "torch.Size([1, 45, 50257])\n"
          ]
        }
      ],
      "source": [
        "print(gpt2(tokens).shape)\n",
        "# print(gpt2(tokens, return_type=\"loss\"))"
      ]
    },
    {
      "cell_type": "code",
      "execution_count": 17,
      "metadata": {
        "colab": {
          "base_uri": "https://localhost:8080/"
        },
        "id": "HUrk3ocP_Oit",
        "outputId": "87d79e03-9ca3-4dd3-ab96-ea71c43d58d8"
      },
      "outputs": [
        {
          "name": "stdout",
          "output_type": "stream",
          "text": [
            "torch.Size([1, 45, 50257])\n",
            "ActivationCache with keys ['hook_embed', 'hook_pos_embed', 'blocks.0.hook_resid_pre', 'blocks.0.ln1.hook_scale', 'blocks.0.ln1.hook_normalized', 'blocks.0.attn.hook_q', 'blocks.0.attn.hook_k', 'blocks.0.attn.hook_v', 'blocks.0.attn.hook_attn_scores', 'blocks.0.attn.hook_pattern', 'blocks.0.attn.hook_z', 'blocks.0.hook_attn_out', 'blocks.0.hook_resid_mid', 'blocks.0.ln2.hook_scale', 'blocks.0.ln2.hook_normalized', 'blocks.0.mlp.hook_pre', 'blocks.0.mlp.hook_post', 'blocks.0.hook_mlp_out', 'blocks.0.hook_resid_post', 'blocks.1.hook_resid_pre', 'blocks.1.ln1.hook_scale', 'blocks.1.ln1.hook_normalized', 'blocks.1.attn.hook_q', 'blocks.1.attn.hook_k', 'blocks.1.attn.hook_v', 'blocks.1.attn.hook_attn_scores', 'blocks.1.attn.hook_pattern', 'blocks.1.attn.hook_z', 'blocks.1.hook_attn_out', 'blocks.1.hook_resid_mid', 'blocks.1.ln2.hook_scale', 'blocks.1.ln2.hook_normalized', 'blocks.1.mlp.hook_pre', 'blocks.1.mlp.hook_post', 'blocks.1.hook_mlp_out', 'blocks.1.hook_resid_post', 'blocks.2.hook_resid_pre', 'blocks.2.ln1.hook_scale', 'blocks.2.ln1.hook_normalized', 'blocks.2.attn.hook_q', 'blocks.2.attn.hook_k', 'blocks.2.attn.hook_v', 'blocks.2.attn.hook_attn_scores', 'blocks.2.attn.hook_pattern', 'blocks.2.attn.hook_z', 'blocks.2.hook_attn_out', 'blocks.2.hook_resid_mid', 'blocks.2.ln2.hook_scale', 'blocks.2.ln2.hook_normalized', 'blocks.2.mlp.hook_pre', 'blocks.2.mlp.hook_post', 'blocks.2.hook_mlp_out', 'blocks.2.hook_resid_post', 'blocks.3.hook_resid_pre', 'blocks.3.ln1.hook_scale', 'blocks.3.ln1.hook_normalized', 'blocks.3.attn.hook_q', 'blocks.3.attn.hook_k', 'blocks.3.attn.hook_v', 'blocks.3.attn.hook_attn_scores', 'blocks.3.attn.hook_pattern', 'blocks.3.attn.hook_z', 'blocks.3.hook_attn_out', 'blocks.3.hook_resid_mid', 'blocks.3.ln2.hook_scale', 'blocks.3.ln2.hook_normalized', 'blocks.3.mlp.hook_pre', 'blocks.3.mlp.hook_post', 'blocks.3.hook_mlp_out', 'blocks.3.hook_resid_post', 'blocks.4.hook_resid_pre', 'blocks.4.ln1.hook_scale', 'blocks.4.ln1.hook_normalized', 'blocks.4.attn.hook_q', 'blocks.4.attn.hook_k', 'blocks.4.attn.hook_v', 'blocks.4.attn.hook_attn_scores', 'blocks.4.attn.hook_pattern', 'blocks.4.attn.hook_z', 'blocks.4.hook_attn_out', 'blocks.4.hook_resid_mid', 'blocks.4.ln2.hook_scale', 'blocks.4.ln2.hook_normalized', 'blocks.4.mlp.hook_pre', 'blocks.4.mlp.hook_post', 'blocks.4.hook_mlp_out', 'blocks.4.hook_resid_post', 'blocks.5.hook_resid_pre', 'blocks.5.ln1.hook_scale', 'blocks.5.ln1.hook_normalized', 'blocks.5.attn.hook_q', 'blocks.5.attn.hook_k', 'blocks.5.attn.hook_v', 'blocks.5.attn.hook_attn_scores', 'blocks.5.attn.hook_pattern', 'blocks.5.attn.hook_z', 'blocks.5.hook_attn_out', 'blocks.5.hook_resid_mid', 'blocks.5.ln2.hook_scale', 'blocks.5.ln2.hook_normalized', 'blocks.5.mlp.hook_pre', 'blocks.5.mlp.hook_post', 'blocks.5.hook_mlp_out', 'blocks.5.hook_resid_post', 'blocks.6.hook_resid_pre', 'blocks.6.ln1.hook_scale', 'blocks.6.ln1.hook_normalized', 'blocks.6.attn.hook_q', 'blocks.6.attn.hook_k', 'blocks.6.attn.hook_v', 'blocks.6.attn.hook_attn_scores', 'blocks.6.attn.hook_pattern', 'blocks.6.attn.hook_z', 'blocks.6.hook_attn_out', 'blocks.6.hook_resid_mid', 'blocks.6.ln2.hook_scale', 'blocks.6.ln2.hook_normalized', 'blocks.6.mlp.hook_pre', 'blocks.6.mlp.hook_post', 'blocks.6.hook_mlp_out', 'blocks.6.hook_resid_post', 'blocks.7.hook_resid_pre', 'blocks.7.ln1.hook_scale', 'blocks.7.ln1.hook_normalized', 'blocks.7.attn.hook_q', 'blocks.7.attn.hook_k', 'blocks.7.attn.hook_v', 'blocks.7.attn.hook_attn_scores', 'blocks.7.attn.hook_pattern', 'blocks.7.attn.hook_z', 'blocks.7.hook_attn_out', 'blocks.7.hook_resid_mid', 'blocks.7.ln2.hook_scale', 'blocks.7.ln2.hook_normalized', 'blocks.7.mlp.hook_pre', 'blocks.7.mlp.hook_post', 'blocks.7.hook_mlp_out', 'blocks.7.hook_resid_post', 'blocks.8.hook_resid_pre', 'blocks.8.ln1.hook_scale', 'blocks.8.ln1.hook_normalized', 'blocks.8.attn.hook_q', 'blocks.8.attn.hook_k', 'blocks.8.attn.hook_v', 'blocks.8.attn.hook_attn_scores', 'blocks.8.attn.hook_pattern', 'blocks.8.attn.hook_z', 'blocks.8.hook_attn_out', 'blocks.8.hook_resid_mid', 'blocks.8.ln2.hook_scale', 'blocks.8.ln2.hook_normalized', 'blocks.8.mlp.hook_pre', 'blocks.8.mlp.hook_post', 'blocks.8.hook_mlp_out', 'blocks.8.hook_resid_post', 'blocks.9.hook_resid_pre', 'blocks.9.ln1.hook_scale', 'blocks.9.ln1.hook_normalized', 'blocks.9.attn.hook_q', 'blocks.9.attn.hook_k', 'blocks.9.attn.hook_v', 'blocks.9.attn.hook_attn_scores', 'blocks.9.attn.hook_pattern', 'blocks.9.attn.hook_z', 'blocks.9.hook_attn_out', 'blocks.9.hook_resid_mid', 'blocks.9.ln2.hook_scale', 'blocks.9.ln2.hook_normalized', 'blocks.9.mlp.hook_pre', 'blocks.9.mlp.hook_post', 'blocks.9.hook_mlp_out', 'blocks.9.hook_resid_post', 'blocks.10.hook_resid_pre', 'blocks.10.ln1.hook_scale', 'blocks.10.ln1.hook_normalized', 'blocks.10.attn.hook_q', 'blocks.10.attn.hook_k', 'blocks.10.attn.hook_v', 'blocks.10.attn.hook_attn_scores', 'blocks.10.attn.hook_pattern', 'blocks.10.attn.hook_z', 'blocks.10.hook_attn_out', 'blocks.10.hook_resid_mid', 'blocks.10.ln2.hook_scale', 'blocks.10.ln2.hook_normalized', 'blocks.10.mlp.hook_pre', 'blocks.10.mlp.hook_post', 'blocks.10.hook_mlp_out', 'blocks.10.hook_resid_post', 'blocks.11.hook_resid_pre', 'blocks.11.ln1.hook_scale', 'blocks.11.ln1.hook_normalized', 'blocks.11.attn.hook_q', 'blocks.11.attn.hook_k', 'blocks.11.attn.hook_v', 'blocks.11.attn.hook_attn_scores', 'blocks.11.attn.hook_pattern', 'blocks.11.attn.hook_z', 'blocks.11.hook_attn_out', 'blocks.11.hook_resid_mid', 'blocks.11.ln2.hook_scale', 'blocks.11.ln2.hook_normalized', 'blocks.11.mlp.hook_pre', 'blocks.11.mlp.hook_post', 'blocks.11.hook_mlp_out', 'blocks.11.hook_resid_post', 'ln_final.hook_scale', 'ln_final.hook_normalized']\n"
          ]
        }
      ],
      "source": [
        "#\n",
        "# logits, cache = gpt2.run_with_cache(tokens, remove_batch_dim=True)\n",
        "logits, cache = gpt2.run_with_cache(tokens)\n",
        "print(logits.shape)\n",
        "print(cache)"
      ]
    },
    {
      "cell_type": "code",
      "execution_count": 18,
      "metadata": {},
      "outputs": [
        {
          "data": {
            "text/plain": [
              "tensor([[[ 7.5261, 11.1214,  7.8919],\n",
              "         [ 3.8748,  4.2731,  0.8752],\n",
              "         [ 5.0762,  4.1506,  2.0943]]])"
            ]
          },
          "execution_count": 18,
          "metadata": {},
          "output_type": "execute_result"
        }
      ],
      "source": [
        "# Logits? Probabilities?\n",
        "get_corner(logits)"
      ]
    },
    {
      "cell_type": "code",
      "execution_count": 19,
      "metadata": {},
      "outputs": [
        {
          "name": "stdout",
          "output_type": "stream",
          "text": [
            "torch.Size([45, 50257])\n"
          ]
        },
        {
          "data": {
            "text/plain": [
              "tensor([1.0000, 1.0000, 1.0000, 1.0000, 1.0000, 1.0000, 1.0000, 1.0000, 1.0000,\n",
              "        1.0000, 1.0000, 1.0000, 1.0000, 1.0000, 1.0000, 1.0000, 1.0000, 1.0000,\n",
              "        1.0000, 1.0000, 1.0000, 1.0000, 1.0000, 1.0000, 1.0000, 1.0000, 1.0000,\n",
              "        1.0000, 1.0000, 1.0000, 1.0000, 1.0000, 1.0000, 1.0000, 1.0000, 1.0000,\n",
              "        1.0000, 1.0000, 1.0000, 1.0000, 1.0000, 1.0000, 1.0000, 1.0000, 1.0000])"
            ]
          },
          "execution_count": 19,
          "metadata": {},
          "output_type": "execute_result"
        }
      ],
      "source": [
        "probs = logits.squeeze().softmax(dim=-1)\n",
        "print(probs.shape)\n",
        "get_corner(probs)\n",
        "einops.reduce(probs, \"pos tokens -> pos\", \"sum\")"
      ]
    },
    {
      "cell_type": "code",
      "execution_count": 20,
      "metadata": {},
      "outputs": [
        {
          "data": {
            "text/plain": [
              "' that'"
            ]
          },
          "execution_count": 20,
          "metadata": {},
          "output_type": "execute_result"
        }
      ],
      "source": [
        "# Next token?\n",
        "probs[44, :].argmax()\n",
        "gpt2.tokenizer.decode([probs[44, :].argmax().item()])"
      ]
    },
    {
      "cell_type": "code",
      "execution_count": 21,
      "metadata": {},
      "outputs": [
        {
          "name": "stdout",
          "output_type": "stream",
          "text": [
            "' that'\n",
            "' a'\n",
            "' the'\n",
            "' he'\n",
            "' his'\n",
            "' something'\n",
            "' an'\n",
            "' there'\n",
            "' some'\n",
            "' how'\n"
          ]
        }
      ],
      "source": [
        "next = probs[44, :].topk(10)\n",
        "next\n",
        "for k in next.indices:\n",
        "    print(f\"'{gpt2.tokenizer.decode(k)}'\")"
      ]
    },
    {
      "cell_type": "code",
      "execution_count": 22,
      "metadata": {},
      "outputs": [
        {
          "data": {
            "text/plain": [
              "torch.Size([44])"
            ]
          },
          "execution_count": 22,
          "metadata": {},
          "output_type": "execute_result"
        }
      ],
      "source": [
        "# How well did it predict the actual tokens?\n",
        "# Log probs\n",
        "x = probs[:, tokens.squeeze()]\n",
        "x.diag(1).shape"
      ]
    },
    {
      "cell_type": "code",
      "execution_count": 23,
      "metadata": {},
      "outputs": [
        {
          "data": {
            "application/vnd.plotly.v1+json": {
              "config": {
                "plotlyServerURL": "https://plot.ly"
              },
              "data": [
                {
                  "hovertemplate": "<b>%{hovertext}</b><br><br>variable=0<br>index=%{x}<br>value=%{y}<extra></extra>",
                  "hovertext": [
                    "This",
                    " is",
                    " a",
                    " story",
                    " about",
                    " Qu",
                    "om",
                    "atar",
                    "us",
                    ".",
                    " When",
                    " one",
                    " day",
                    " Qu",
                    "om",
                    "atar",
                    "us",
                    " decided",
                    " to",
                    " do",
                    " something",
                    " different",
                    " and",
                    " bought",
                    " a",
                    " plane",
                    " ticket",
                    " to",
                    " L",
                    "aman",
                    "and",
                    "u",
                    ".",
                    " When",
                    " he",
                    " arrived",
                    " to",
                    " the",
                    " airport",
                    " Qu",
                    "om",
                    "atar",
                    "us",
                    " noticed"
                  ],
                  "legendgroup": "0",
                  "line": {
                    "color": "#636efa",
                    "dash": "solid"
                  },
                  "marker": {
                    "symbol": "circle"
                  },
                  "mode": "lines",
                  "name": "0",
                  "orientation": "v",
                  "showlegend": true,
                  "type": "scatter",
                  "x": [
                    0,
                    1,
                    2,
                    3,
                    4,
                    5,
                    6,
                    7,
                    8,
                    9,
                    10,
                    11,
                    12,
                    13,
                    14,
                    15,
                    16,
                    17,
                    18,
                    19,
                    20,
                    21,
                    22,
                    23,
                    24,
                    25,
                    26,
                    27,
                    28,
                    29,
                    30,
                    31,
                    32,
                    33,
                    34,
                    35,
                    36,
                    37,
                    38,
                    39,
                    40,
                    41,
                    42,
                    43
                  ],
                  "xaxis": "x",
                  "y": [
                    0.007765640038996935,
                    0.18361373245716095,
                    0.33259955048561096,
                    0.013270310126245022,
                    0.4982176423072815,
                    0.00004159421951044351,
                    0.00032167561585083604,
                    0.00001813275048334617,
                    0.00010035455488832667,
                    0.14091138541698456,
                    0.004079198930412531,
                    0.008815870620310307,
                    0.015035138465464115,
                    0.025590665638446808,
                    0.913752019405365,
                    0.9802786111831665,
                    0.9962873458862305,
                    0.009395714849233627,
                    0.8057029247283936,
                    0.016997575759887695,
                    0.5496513843536377,
                    0.015592234209179878,
                    0.037583187222480774,
                    0.0006127636297605932,
                    0.4084414839744568,
                    0.011059509590268135,
                    0.09380324184894562,
                    0.5277194380760193,
                    0.0017935161013156176,
                    0.0006592278950847685,
                    0.0020407303236424923,
                    0.004602947738021612,
                    0.03153475373983383,
                    0.019295189529657364,
                    0.30470508337020874,
                    0.09059066325426102,
                    0.013673221692442894,
                    0.09698624908924103,
                    0.06027274578809738,
                    0.1075819656252861,
                    0.9932411909103394,
                    0.9943593144416809,
                    0.9979040622711182,
                    0.019988220185041428
                  ],
                  "yaxis": "y"
                }
              ],
              "layout": {
                "legend": {
                  "title": {
                    "text": "variable"
                  },
                  "tracegroupgap": 0
                },
                "margin": {
                  "t": 60
                },
                "template": {
                  "data": {
                    "bar": [
                      {
                        "error_x": {
                          "color": "#2a3f5f"
                        },
                        "error_y": {
                          "color": "#2a3f5f"
                        },
                        "marker": {
                          "line": {
                            "color": "#E5ECF6",
                            "width": 0.5
                          },
                          "pattern": {
                            "fillmode": "overlay",
                            "size": 10,
                            "solidity": 0.2
                          }
                        },
                        "type": "bar"
                      }
                    ],
                    "barpolar": [
                      {
                        "marker": {
                          "line": {
                            "color": "#E5ECF6",
                            "width": 0.5
                          },
                          "pattern": {
                            "fillmode": "overlay",
                            "size": 10,
                            "solidity": 0.2
                          }
                        },
                        "type": "barpolar"
                      }
                    ],
                    "carpet": [
                      {
                        "aaxis": {
                          "endlinecolor": "#2a3f5f",
                          "gridcolor": "white",
                          "linecolor": "white",
                          "minorgridcolor": "white",
                          "startlinecolor": "#2a3f5f"
                        },
                        "baxis": {
                          "endlinecolor": "#2a3f5f",
                          "gridcolor": "white",
                          "linecolor": "white",
                          "minorgridcolor": "white",
                          "startlinecolor": "#2a3f5f"
                        },
                        "type": "carpet"
                      }
                    ],
                    "choropleth": [
                      {
                        "colorbar": {
                          "outlinewidth": 0,
                          "ticks": ""
                        },
                        "type": "choropleth"
                      }
                    ],
                    "contour": [
                      {
                        "colorbar": {
                          "outlinewidth": 0,
                          "ticks": ""
                        },
                        "colorscale": [
                          [
                            0,
                            "#0d0887"
                          ],
                          [
                            0.1111111111111111,
                            "#46039f"
                          ],
                          [
                            0.2222222222222222,
                            "#7201a8"
                          ],
                          [
                            0.3333333333333333,
                            "#9c179e"
                          ],
                          [
                            0.4444444444444444,
                            "#bd3786"
                          ],
                          [
                            0.5555555555555556,
                            "#d8576b"
                          ],
                          [
                            0.6666666666666666,
                            "#ed7953"
                          ],
                          [
                            0.7777777777777778,
                            "#fb9f3a"
                          ],
                          [
                            0.8888888888888888,
                            "#fdca26"
                          ],
                          [
                            1,
                            "#f0f921"
                          ]
                        ],
                        "type": "contour"
                      }
                    ],
                    "contourcarpet": [
                      {
                        "colorbar": {
                          "outlinewidth": 0,
                          "ticks": ""
                        },
                        "type": "contourcarpet"
                      }
                    ],
                    "heatmap": [
                      {
                        "colorbar": {
                          "outlinewidth": 0,
                          "ticks": ""
                        },
                        "colorscale": [
                          [
                            0,
                            "#0d0887"
                          ],
                          [
                            0.1111111111111111,
                            "#46039f"
                          ],
                          [
                            0.2222222222222222,
                            "#7201a8"
                          ],
                          [
                            0.3333333333333333,
                            "#9c179e"
                          ],
                          [
                            0.4444444444444444,
                            "#bd3786"
                          ],
                          [
                            0.5555555555555556,
                            "#d8576b"
                          ],
                          [
                            0.6666666666666666,
                            "#ed7953"
                          ],
                          [
                            0.7777777777777778,
                            "#fb9f3a"
                          ],
                          [
                            0.8888888888888888,
                            "#fdca26"
                          ],
                          [
                            1,
                            "#f0f921"
                          ]
                        ],
                        "type": "heatmap"
                      }
                    ],
                    "heatmapgl": [
                      {
                        "colorbar": {
                          "outlinewidth": 0,
                          "ticks": ""
                        },
                        "colorscale": [
                          [
                            0,
                            "#0d0887"
                          ],
                          [
                            0.1111111111111111,
                            "#46039f"
                          ],
                          [
                            0.2222222222222222,
                            "#7201a8"
                          ],
                          [
                            0.3333333333333333,
                            "#9c179e"
                          ],
                          [
                            0.4444444444444444,
                            "#bd3786"
                          ],
                          [
                            0.5555555555555556,
                            "#d8576b"
                          ],
                          [
                            0.6666666666666666,
                            "#ed7953"
                          ],
                          [
                            0.7777777777777778,
                            "#fb9f3a"
                          ],
                          [
                            0.8888888888888888,
                            "#fdca26"
                          ],
                          [
                            1,
                            "#f0f921"
                          ]
                        ],
                        "type": "heatmapgl"
                      }
                    ],
                    "histogram": [
                      {
                        "marker": {
                          "pattern": {
                            "fillmode": "overlay",
                            "size": 10,
                            "solidity": 0.2
                          }
                        },
                        "type": "histogram"
                      }
                    ],
                    "histogram2d": [
                      {
                        "colorbar": {
                          "outlinewidth": 0,
                          "ticks": ""
                        },
                        "colorscale": [
                          [
                            0,
                            "#0d0887"
                          ],
                          [
                            0.1111111111111111,
                            "#46039f"
                          ],
                          [
                            0.2222222222222222,
                            "#7201a8"
                          ],
                          [
                            0.3333333333333333,
                            "#9c179e"
                          ],
                          [
                            0.4444444444444444,
                            "#bd3786"
                          ],
                          [
                            0.5555555555555556,
                            "#d8576b"
                          ],
                          [
                            0.6666666666666666,
                            "#ed7953"
                          ],
                          [
                            0.7777777777777778,
                            "#fb9f3a"
                          ],
                          [
                            0.8888888888888888,
                            "#fdca26"
                          ],
                          [
                            1,
                            "#f0f921"
                          ]
                        ],
                        "type": "histogram2d"
                      }
                    ],
                    "histogram2dcontour": [
                      {
                        "colorbar": {
                          "outlinewidth": 0,
                          "ticks": ""
                        },
                        "colorscale": [
                          [
                            0,
                            "#0d0887"
                          ],
                          [
                            0.1111111111111111,
                            "#46039f"
                          ],
                          [
                            0.2222222222222222,
                            "#7201a8"
                          ],
                          [
                            0.3333333333333333,
                            "#9c179e"
                          ],
                          [
                            0.4444444444444444,
                            "#bd3786"
                          ],
                          [
                            0.5555555555555556,
                            "#d8576b"
                          ],
                          [
                            0.6666666666666666,
                            "#ed7953"
                          ],
                          [
                            0.7777777777777778,
                            "#fb9f3a"
                          ],
                          [
                            0.8888888888888888,
                            "#fdca26"
                          ],
                          [
                            1,
                            "#f0f921"
                          ]
                        ],
                        "type": "histogram2dcontour"
                      }
                    ],
                    "mesh3d": [
                      {
                        "colorbar": {
                          "outlinewidth": 0,
                          "ticks": ""
                        },
                        "type": "mesh3d"
                      }
                    ],
                    "parcoords": [
                      {
                        "line": {
                          "colorbar": {
                            "outlinewidth": 0,
                            "ticks": ""
                          }
                        },
                        "type": "parcoords"
                      }
                    ],
                    "pie": [
                      {
                        "automargin": true,
                        "type": "pie"
                      }
                    ],
                    "scatter": [
                      {
                        "fillpattern": {
                          "fillmode": "overlay",
                          "size": 10,
                          "solidity": 0.2
                        },
                        "type": "scatter"
                      }
                    ],
                    "scatter3d": [
                      {
                        "line": {
                          "colorbar": {
                            "outlinewidth": 0,
                            "ticks": ""
                          }
                        },
                        "marker": {
                          "colorbar": {
                            "outlinewidth": 0,
                            "ticks": ""
                          }
                        },
                        "type": "scatter3d"
                      }
                    ],
                    "scattercarpet": [
                      {
                        "marker": {
                          "colorbar": {
                            "outlinewidth": 0,
                            "ticks": ""
                          }
                        },
                        "type": "scattercarpet"
                      }
                    ],
                    "scattergeo": [
                      {
                        "marker": {
                          "colorbar": {
                            "outlinewidth": 0,
                            "ticks": ""
                          }
                        },
                        "type": "scattergeo"
                      }
                    ],
                    "scattergl": [
                      {
                        "marker": {
                          "colorbar": {
                            "outlinewidth": 0,
                            "ticks": ""
                          }
                        },
                        "type": "scattergl"
                      }
                    ],
                    "scattermapbox": [
                      {
                        "marker": {
                          "colorbar": {
                            "outlinewidth": 0,
                            "ticks": ""
                          }
                        },
                        "type": "scattermapbox"
                      }
                    ],
                    "scatterpolar": [
                      {
                        "marker": {
                          "colorbar": {
                            "outlinewidth": 0,
                            "ticks": ""
                          }
                        },
                        "type": "scatterpolar"
                      }
                    ],
                    "scatterpolargl": [
                      {
                        "marker": {
                          "colorbar": {
                            "outlinewidth": 0,
                            "ticks": ""
                          }
                        },
                        "type": "scatterpolargl"
                      }
                    ],
                    "scatterternary": [
                      {
                        "marker": {
                          "colorbar": {
                            "outlinewidth": 0,
                            "ticks": ""
                          }
                        },
                        "type": "scatterternary"
                      }
                    ],
                    "surface": [
                      {
                        "colorbar": {
                          "outlinewidth": 0,
                          "ticks": ""
                        },
                        "colorscale": [
                          [
                            0,
                            "#0d0887"
                          ],
                          [
                            0.1111111111111111,
                            "#46039f"
                          ],
                          [
                            0.2222222222222222,
                            "#7201a8"
                          ],
                          [
                            0.3333333333333333,
                            "#9c179e"
                          ],
                          [
                            0.4444444444444444,
                            "#bd3786"
                          ],
                          [
                            0.5555555555555556,
                            "#d8576b"
                          ],
                          [
                            0.6666666666666666,
                            "#ed7953"
                          ],
                          [
                            0.7777777777777778,
                            "#fb9f3a"
                          ],
                          [
                            0.8888888888888888,
                            "#fdca26"
                          ],
                          [
                            1,
                            "#f0f921"
                          ]
                        ],
                        "type": "surface"
                      }
                    ],
                    "table": [
                      {
                        "cells": {
                          "fill": {
                            "color": "#EBF0F8"
                          },
                          "line": {
                            "color": "white"
                          }
                        },
                        "header": {
                          "fill": {
                            "color": "#C8D4E3"
                          },
                          "line": {
                            "color": "white"
                          }
                        },
                        "type": "table"
                      }
                    ]
                  },
                  "layout": {
                    "annotationdefaults": {
                      "arrowcolor": "#2a3f5f",
                      "arrowhead": 0,
                      "arrowwidth": 1
                    },
                    "autotypenumbers": "strict",
                    "coloraxis": {
                      "colorbar": {
                        "outlinewidth": 0,
                        "ticks": ""
                      }
                    },
                    "colorscale": {
                      "diverging": [
                        [
                          0,
                          "#8e0152"
                        ],
                        [
                          0.1,
                          "#c51b7d"
                        ],
                        [
                          0.2,
                          "#de77ae"
                        ],
                        [
                          0.3,
                          "#f1b6da"
                        ],
                        [
                          0.4,
                          "#fde0ef"
                        ],
                        [
                          0.5,
                          "#f7f7f7"
                        ],
                        [
                          0.6,
                          "#e6f5d0"
                        ],
                        [
                          0.7,
                          "#b8e186"
                        ],
                        [
                          0.8,
                          "#7fbc41"
                        ],
                        [
                          0.9,
                          "#4d9221"
                        ],
                        [
                          1,
                          "#276419"
                        ]
                      ],
                      "sequential": [
                        [
                          0,
                          "#0d0887"
                        ],
                        [
                          0.1111111111111111,
                          "#46039f"
                        ],
                        [
                          0.2222222222222222,
                          "#7201a8"
                        ],
                        [
                          0.3333333333333333,
                          "#9c179e"
                        ],
                        [
                          0.4444444444444444,
                          "#bd3786"
                        ],
                        [
                          0.5555555555555556,
                          "#d8576b"
                        ],
                        [
                          0.6666666666666666,
                          "#ed7953"
                        ],
                        [
                          0.7777777777777778,
                          "#fb9f3a"
                        ],
                        [
                          0.8888888888888888,
                          "#fdca26"
                        ],
                        [
                          1,
                          "#f0f921"
                        ]
                      ],
                      "sequentialminus": [
                        [
                          0,
                          "#0d0887"
                        ],
                        [
                          0.1111111111111111,
                          "#46039f"
                        ],
                        [
                          0.2222222222222222,
                          "#7201a8"
                        ],
                        [
                          0.3333333333333333,
                          "#9c179e"
                        ],
                        [
                          0.4444444444444444,
                          "#bd3786"
                        ],
                        [
                          0.5555555555555556,
                          "#d8576b"
                        ],
                        [
                          0.6666666666666666,
                          "#ed7953"
                        ],
                        [
                          0.7777777777777778,
                          "#fb9f3a"
                        ],
                        [
                          0.8888888888888888,
                          "#fdca26"
                        ],
                        [
                          1,
                          "#f0f921"
                        ]
                      ]
                    },
                    "colorway": [
                      "#636efa",
                      "#EF553B",
                      "#00cc96",
                      "#ab63fa",
                      "#FFA15A",
                      "#19d3f3",
                      "#FF6692",
                      "#B6E880",
                      "#FF97FF",
                      "#FECB52"
                    ],
                    "font": {
                      "color": "#2a3f5f"
                    },
                    "geo": {
                      "bgcolor": "white",
                      "lakecolor": "white",
                      "landcolor": "#E5ECF6",
                      "showlakes": true,
                      "showland": true,
                      "subunitcolor": "white"
                    },
                    "hoverlabel": {
                      "align": "left"
                    },
                    "hovermode": "closest",
                    "mapbox": {
                      "style": "light"
                    },
                    "paper_bgcolor": "white",
                    "plot_bgcolor": "#E5ECF6",
                    "polar": {
                      "angularaxis": {
                        "gridcolor": "white",
                        "linecolor": "white",
                        "ticks": ""
                      },
                      "bgcolor": "#E5ECF6",
                      "radialaxis": {
                        "gridcolor": "white",
                        "linecolor": "white",
                        "ticks": ""
                      }
                    },
                    "scene": {
                      "xaxis": {
                        "backgroundcolor": "#E5ECF6",
                        "gridcolor": "white",
                        "gridwidth": 2,
                        "linecolor": "white",
                        "showbackground": true,
                        "ticks": "",
                        "zerolinecolor": "white"
                      },
                      "yaxis": {
                        "backgroundcolor": "#E5ECF6",
                        "gridcolor": "white",
                        "gridwidth": 2,
                        "linecolor": "white",
                        "showbackground": true,
                        "ticks": "",
                        "zerolinecolor": "white"
                      },
                      "zaxis": {
                        "backgroundcolor": "#E5ECF6",
                        "gridcolor": "white",
                        "gridwidth": 2,
                        "linecolor": "white",
                        "showbackground": true,
                        "ticks": "",
                        "zerolinecolor": "white"
                      }
                    },
                    "shapedefaults": {
                      "line": {
                        "color": "#2a3f5f"
                      }
                    },
                    "ternary": {
                      "aaxis": {
                        "gridcolor": "white",
                        "linecolor": "white",
                        "ticks": ""
                      },
                      "baxis": {
                        "gridcolor": "white",
                        "linecolor": "white",
                        "ticks": ""
                      },
                      "bgcolor": "#E5ECF6",
                      "caxis": {
                        "gridcolor": "white",
                        "linecolor": "white",
                        "ticks": ""
                      }
                    },
                    "title": {
                      "x": 0.05
                    },
                    "xaxis": {
                      "automargin": true,
                      "gridcolor": "white",
                      "linecolor": "white",
                      "ticks": "",
                      "title": {
                        "standoff": 15
                      },
                      "zerolinecolor": "white",
                      "zerolinewidth": 2
                    },
                    "yaxis": {
                      "automargin": true,
                      "gridcolor": "white",
                      "linecolor": "white",
                      "ticks": "",
                      "title": {
                        "standoff": 15
                      },
                      "zerolinecolor": "white",
                      "zerolinewidth": 2
                    }
                  }
                },
                "xaxis": {
                  "anchor": "y",
                  "domain": [
                    0,
                    1
                  ],
                  "title": {
                    "text": "index"
                  }
                },
                "yaxis": {
                  "anchor": "x",
                  "domain": [
                    0,
                    1
                  ],
                  "title": {
                    "text": "value"
                  }
                }
              }
            }
          },
          "metadata": {},
          "output_type": "display_data"
        }
      ],
      "source": [
        "# Plot it! Which tokens did it do well on? Which poorly? Why?\n",
        "px.line(utils.to_numpy(x.diag(1)), hover_name=str_tokens[1:])"
      ]
    },
    {
      "cell_type": "markdown",
      "metadata": {
        "id": "X9NeGFPUEO6W"
      },
      "source": [
        "# Structure"
      ]
    },
    {
      "cell_type": "markdown",
      "metadata": {},
      "source": [
        "## What do the \"big brothers\" look like?\n",
        "\n",
        "- GPT-3: https://arxiv.org/abs/2005.14165v4\n",
        "- PaLM: https://jmlr.org/papers/v24/22-1144.html\n",
        "- LLaMA: https://arxiv.org/abs/2302.13971"
      ]
    },
    {
      "cell_type": "code",
      "execution_count": 24,
      "metadata": {},
      "outputs": [
        {
          "name": "stdout",
          "output_type": "stream",
          "text": [
            "embed.W_E torch.Size([50257, 768])\n",
            "pos_embed.W_pos torch.Size([1024, 768])\n",
            "blocks.0.attn.W_Q torch.Size([12, 768, 64])\n",
            "blocks.0.attn.W_K torch.Size([12, 768, 64])\n",
            "blocks.0.attn.W_V torch.Size([12, 768, 64])\n",
            "blocks.0.attn.W_O torch.Size([12, 64, 768])\n",
            "blocks.0.attn.b_Q torch.Size([12, 64])\n",
            "blocks.0.attn.b_K torch.Size([12, 64])\n",
            "blocks.0.attn.b_V torch.Size([12, 64])\n",
            "blocks.0.attn.b_O torch.Size([768])\n",
            "blocks.0.mlp.W_in torch.Size([768, 3072])\n",
            "blocks.0.mlp.b_in torch.Size([3072])\n",
            "blocks.0.mlp.W_out torch.Size([3072, 768])\n",
            "blocks.0.mlp.b_out torch.Size([768])\n",
            "unembed.W_U torch.Size([768, 50257])\n",
            "unembed.b_U torch.Size([50257])\n"
          ]
        }
      ],
      "source": [
        "for name, p in gpt2.named_parameters():\n",
        "  if \".0.\" in name or \"blocks\" not in name:\n",
        "    print(name, p.shape)"
      ]
    },
    {
      "cell_type": "code",
      "execution_count": 25,
      "metadata": {},
      "outputs": [
        {
          "name": "stdout",
          "output_type": "stream",
          "text": [
            "hook_embed torch.Size([1, 45, 768])\n",
            "hook_pos_embed torch.Size([1, 45, 768])\n",
            "blocks.0.hook_resid_pre torch.Size([1, 45, 768])\n",
            "blocks.0.ln1.hook_scale torch.Size([1, 45, 1])\n",
            "blocks.0.ln1.hook_normalized torch.Size([1, 45, 768])\n",
            "blocks.0.attn.hook_q torch.Size([1, 45, 12, 64])\n",
            "blocks.0.attn.hook_k torch.Size([1, 45, 12, 64])\n",
            "blocks.0.attn.hook_v torch.Size([1, 45, 12, 64])\n",
            "blocks.0.attn.hook_attn_scores torch.Size([1, 12, 45, 45])\n",
            "blocks.0.attn.hook_pattern torch.Size([1, 12, 45, 45])\n",
            "blocks.0.attn.hook_z torch.Size([1, 45, 12, 64])\n",
            "blocks.0.hook_attn_out torch.Size([1, 45, 768])\n",
            "blocks.0.hook_resid_mid torch.Size([1, 45, 768])\n",
            "blocks.0.ln2.hook_scale torch.Size([1, 45, 1])\n",
            "blocks.0.ln2.hook_normalized torch.Size([1, 45, 768])\n",
            "blocks.0.mlp.hook_pre torch.Size([1, 45, 3072])\n",
            "blocks.0.mlp.hook_post torch.Size([1, 45, 3072])\n",
            "blocks.0.hook_mlp_out torch.Size([1, 45, 768])\n",
            "blocks.0.hook_resid_post torch.Size([1, 45, 768])\n",
            "ln_final.hook_scale torch.Size([1, 45, 1])\n",
            "ln_final.hook_normalized torch.Size([1, 45, 768])\n"
          ]
        }
      ],
      "source": [
        "for activation_name, activation in cache.items():\n",
        "    # Only print for the first layer\n",
        "    if \".0.\" in activation_name or \"blocks\" not in activation_name:\n",
        "        print(activation_name, activation.shape)"
      ]
    },
    {
      "cell_type": "code",
      "execution_count": 28,
      "metadata": {},
      "outputs": [
        {
          "data": {
            "text/html": [
              "<div id=\"circuits-vis-369081fd-97a3\" style=\"margin: 15px 0;\"/>\n",
              "    <script crossorigin type=\"module\">\n",
              "    import { render, AttentionPattern } from \"https://unpkg.com/circuitsvis@1.41.0/dist/cdn/esm.js\";\n",
              "    render(\n",
              "      \"circuits-vis-369081fd-97a3\",\n",
              "      AttentionPattern,\n",
              "      {\"tokens\": [\"<|endoftext|>\", \"This\", \" is\", \" a\", \" story\", \" about\", \" Qu\", \"om\", \"atar\", \"us\", \".\", \" When\", \" one\", \" day\", \" Qu\", \"om\", \"atar\", \"us\", \" decided\", \" to\", \" do\", \" something\", \" different\", \" and\", \" bought\", \" a\", \" plane\", \" ticket\", \" to\", \" L\", \"aman\", \"and\", \"u\", \".\", \" When\", \" he\", \" arrived\", \" to\", \" the\", \" airport\", \" Qu\", \"om\", \"atar\", \"us\", \" noticed\"], \"attention\": [[1.0, 0.0, 0.0, 0.0, 0.0, 0.0, 0.0, 0.0, 0.0, 0.0, 0.0, 0.0, 0.0, 0.0, 0.0, 0.0, 0.0, 0.0, 0.0, 0.0, 0.0, 0.0, 0.0, 0.0, 0.0, 0.0, 0.0, 0.0, 0.0, 0.0, 0.0, 0.0, 0.0, 0.0, 0.0, 0.0, 0.0, 0.0, 0.0, 0.0, 0.0, 0.0, 0.0, 0.0, 0.0], [0.9868469834327698, 0.013152997009456158, 0.0, 0.0, 0.0, 0.0, 0.0, 0.0, 0.0, 0.0, 0.0, 0.0, 0.0, 0.0, 0.0, 0.0, 0.0, 0.0, 0.0, 0.0, 0.0, 0.0, 0.0, 0.0, 0.0, 0.0, 0.0, 0.0, 0.0, 0.0, 0.0, 0.0, 0.0, 0.0, 0.0, 0.0, 0.0, 0.0, 0.0, 0.0, 0.0, 0.0, 0.0, 0.0, 0.0], [0.9829742908477783, 0.008728595450520515, 0.008297136053442955, 0.0, 0.0, 0.0, 0.0, 0.0, 0.0, 0.0, 0.0, 0.0, 0.0, 0.0, 0.0, 0.0, 0.0, 0.0, 0.0, 0.0, 0.0, 0.0, 0.0, 0.0, 0.0, 0.0, 0.0, 0.0, 0.0, 0.0, 0.0, 0.0, 0.0, 0.0, 0.0, 0.0, 0.0, 0.0, 0.0, 0.0, 0.0, 0.0, 0.0, 0.0, 0.0], [0.9893584251403809, 0.003139771055430174, 0.0015524979680776596, 0.005949312821030617, 0.0, 0.0, 0.0, 0.0, 0.0, 0.0, 0.0, 0.0, 0.0, 0.0, 0.0, 0.0, 0.0, 0.0, 0.0, 0.0, 0.0, 0.0, 0.0, 0.0, 0.0, 0.0, 0.0, 0.0, 0.0, 0.0, 0.0, 0.0, 0.0, 0.0, 0.0, 0.0, 0.0, 0.0, 0.0, 0.0, 0.0, 0.0, 0.0, 0.0, 0.0], [0.9877360463142395, 0.00485560018569231, 0.0003528347297105938, 0.004595322534441948, 0.0024602008052170277, 0.0, 0.0, 0.0, 0.0, 0.0, 0.0, 0.0, 0.0, 0.0, 0.0, 0.0, 0.0, 0.0, 0.0, 0.0, 0.0, 0.0, 0.0, 0.0, 0.0, 0.0, 0.0, 0.0, 0.0, 0.0, 0.0, 0.0, 0.0, 0.0, 0.0, 0.0, 0.0, 0.0, 0.0, 0.0, 0.0, 0.0, 0.0, 0.0, 0.0], [0.9934502840042114, 0.0018139219610020518, 3.838311749859713e-05, 0.000251286692218855, 0.0017562919529154897, 0.002689794171601534, 0.0, 0.0, 0.0, 0.0, 0.0, 0.0, 0.0, 0.0, 0.0, 0.0, 0.0, 0.0, 0.0, 0.0, 0.0, 0.0, 0.0, 0.0, 0.0, 0.0, 0.0, 0.0, 0.0, 0.0, 0.0, 0.0, 0.0, 0.0, 0.0, 0.0, 0.0, 0.0, 0.0, 0.0, 0.0, 0.0, 0.0, 0.0, 0.0], [0.9922010898590088, 0.0019196000648662448, 0.0018669876735657454, 0.0004433370486367494, 9.240130748366937e-05, 0.000933294475544244, 0.002543362556025386, 0.0, 0.0, 0.0, 0.0, 0.0, 0.0, 0.0, 0.0, 0.0, 0.0, 0.0, 0.0, 0.0, 0.0, 0.0, 0.0, 0.0, 0.0, 0.0, 0.0, 0.0, 0.0, 0.0, 0.0, 0.0, 0.0, 0.0, 0.0, 0.0, 0.0, 0.0, 0.0, 0.0, 0.0, 0.0, 0.0, 0.0, 0.0], [0.9917755126953125, 0.00444803899154067, 7.885366812843131e-07, 1.0964340617647395e-06, 1.5739203718112549e-06, 5.0137790822191164e-05, 0.0030077812261879444, 0.0007150411838665605, 0.0, 0.0, 0.0, 0.0, 0.0, 0.0, 0.0, 0.0, 0.0, 0.0, 0.0, 0.0, 0.0, 0.0, 0.0, 0.0, 0.0, 0.0, 0.0, 0.0, 0.0, 0.0, 0.0, 0.0, 0.0, 0.0, 0.0, 0.0, 0.0, 0.0, 0.0, 0.0, 0.0, 0.0, 0.0, 0.0, 0.0], [0.9857521653175354, 0.002338102087378502, 3.1217293781082844e-06, 3.2850177376531065e-05, 5.361209696275182e-05, 3.877639028360136e-05, 0.0019523290684446692, 1.0435955744014791e-07, 0.009828954935073853, 0.0, 0.0, 0.0, 0.0, 0.0, 0.0, 0.0, 0.0, 0.0, 0.0, 0.0, 0.0, 0.0, 0.0, 0.0, 0.0, 0.0, 0.0, 0.0, 0.0, 0.0, 0.0, 0.0, 0.0, 0.0, 0.0, 0.0, 0.0, 0.0, 0.0, 0.0, 0.0, 0.0, 0.0, 0.0, 0.0], [0.9795262813568115, 0.0006241025985218585, 4.0529798184252286e-07, 1.2159729521954432e-05, 7.599838136229664e-05, 2.2918595732335234e-06, 0.0016142027452588081, 1.1476910394270234e-10, 0.00011157804692629725, 0.018032986670732498, 0.0, 0.0, 0.0, 0.0, 0.0, 0.0, 0.0, 0.0, 0.0, 0.0, 0.0, 0.0, 0.0, 0.0, 0.0, 0.0, 0.0, 0.0, 0.0, 0.0, 0.0, 0.0, 0.0, 0.0, 0.0, 0.0, 0.0, 0.0, 0.0, 0.0, 0.0, 0.0, 0.0, 0.0, 0.0], [0.9746615886688232, 0.0051255314610898495, 0.000872287608217448, 0.0005272820126265287, 0.0013347750063985586, 0.0002620758896227926, 0.007727380841970444, 7.684670890739653e-06, 0.0001960216322913766, 0.0006284206174314022, 0.008657045662403107, 0.0, 0.0, 0.0, 0.0, 0.0, 0.0, 0.0, 0.0, 0.0, 0.0, 0.0, 0.0, 0.0, 0.0, 0.0, 0.0, 0.0, 0.0, 0.0, 0.0, 0.0, 0.0, 0.0, 0.0, 0.0, 0.0, 0.0, 0.0, 0.0, 0.0, 0.0, 0.0, 0.0, 0.0], [0.9447856545448303, 0.0069653489626944065, 0.0012018682900816202, 0.0008972659124992788, 0.0020529075991362333, 0.0020139773841947317, 0.026720456779003143, 0.00020841685181949288, 0.0010294418316334486, 0.00012204683298477903, 0.0005697297165170312, 0.01343299075961113, 0.0, 0.0, 0.0, 0.0, 0.0, 0.0, 0.0, 0.0, 0.0, 0.0, 0.0, 0.0, 0.0, 0.0, 0.0, 0.0, 0.0, 0.0, 0.0, 0.0, 0.0, 0.0, 0.0, 0.0, 0.0, 0.0, 0.0, 0.0, 0.0, 0.0, 0.0, 0.0, 0.0], [0.8952816128730774, 0.002747073769569397, 0.0010878931498154998, 0.0008756318711675704, 0.00826771929860115, 0.006351464428007603, 0.020886393263936043, 0.00033761883969418705, 0.0016266416059806943, 0.0026857254561036825, 0.006152361165732145, 0.04422640800476074, 0.009473424404859543, 0.0, 0.0, 0.0, 0.0, 0.0, 0.0, 0.0, 0.0, 0.0, 0.0, 0.0, 0.0, 0.0, 0.0, 0.0, 0.0, 0.0, 0.0, 0.0, 0.0, 0.0, 0.0, 0.0, 0.0, 0.0, 0.0, 0.0, 0.0, 0.0, 0.0, 0.0, 0.0], [0.9739699959754944, 0.0012523512123152614, 3.3857239031931385e-05, 9.429458441445604e-05, 0.000243337286519818, 0.002347544999793172, 0.009335845708847046, 7.643690196346142e-07, 8.337816689163446e-05, 1.9262986370449653e-06, 4.163451012573205e-05, 0.006350766867399216, 0.005029375199228525, 0.0012148655951023102, 0.0, 0.0, 0.0, 0.0, 0.0, 0.0, 0.0, 0.0, 0.0, 0.0, 0.0, 0.0, 0.0, 0.0, 0.0, 0.0, 0.0, 0.0, 0.0, 0.0, 0.0, 0.0, 0.0, 0.0, 0.0, 0.0, 0.0, 0.0, 0.0, 0.0, 0.0], [0.16093111038208008, 0.0003435612889006734, 9.197452163789421e-05, 8.661467290949076e-05, 1.3088412742945366e-05, 7.623704732395709e-05, 0.00043561129132285714, 0.34934890270233154, 0.48592039942741394, 0.0003348427708260715, 5.814046744490042e-05, 0.002138764364644885, 0.0001460895873606205, 1.7852822566055693e-05, 5.6873428547987714e-05, 0.0, 0.0, 0.0, 0.0, 0.0, 0.0, 0.0, 0.0, 0.0, 0.0, 0.0, 0.0, 0.0, 0.0, 0.0, 0.0, 0.0, 0.0, 0.0, 0.0, 0.0, 0.0, 0.0, 0.0, 0.0, 0.0, 0.0, 0.0, 0.0, 0.0], [0.02332167699933052, 0.0002943580620922148, 1.0430983365949942e-07, 2.047370344371302e-06, 6.899842901475495e-07, 8.212476132030133e-06, 0.00014746192027814686, 9.31700924411416e-06, 0.9744018316268921, 0.000985898426733911, 2.0644802134484053e-05, 0.0006879690918140113, 2.2732987417839468e-05, 8.950715368882811e-07, 7.503109827666776e-06, 8.854514453560114e-05, 0.0, 0.0, 0.0, 0.0, 0.0, 0.0, 0.0, 0.0, 0.0, 0.0, 0.0, 0.0, 0.0, 0.0, 0.0, 0.0, 0.0, 0.0, 0.0, 0.0, 0.0, 0.0, 0.0, 0.0, 0.0, 0.0, 0.0, 0.0, 0.0], [0.05247918516397476, 0.0004514456959441304, 1.836053797887871e-06, 4.75939414172899e-05, 2.7337548090144992e-05, 2.2553962480742484e-05, 0.00035177089739590883, 4.819885646156763e-08, 0.0014462107792496681, 0.9321988821029663, 0.003984340466558933, 0.006194690708070993, 4.606777292792685e-05, 0.00012826110469177365, 1.9008974049938843e-05, 5.618358613901364e-07, 0.002600328531116247, 0.0, 0.0, 0.0, 0.0, 0.0, 0.0, 0.0, 0.0, 0.0, 0.0, 0.0, 0.0, 0.0, 0.0, 0.0, 0.0, 0.0, 0.0, 0.0, 0.0, 0.0, 0.0, 0.0, 0.0, 0.0, 0.0, 0.0, 0.0], [0.1667202115058899, 0.000832468387670815, 1.9989577140222536e-06, 8.151183283189312e-05, 0.00018204416846856475, 1.0328326425224077e-05, 0.0017889568116515875, 8.56975324037279e-10, 0.0002450875472277403, 0.011699728667736053, 0.7231673002243042, 0.03511557728052139, 9.578363096807152e-05, 0.0009698337526060641, 8.700023317942396e-05, 4.3453717069041886e-08, 0.0007297122501768172, 0.05827243998646736, 0.0, 0.0, 0.0, 0.0, 0.0, 0.0, 0.0, 0.0, 0.0, 0.0, 0.0, 0.0, 0.0, 0.0, 0.0, 0.0, 0.0, 0.0, 0.0, 0.0, 0.0, 0.0, 0.0, 0.0, 0.0, 0.0, 0.0], [0.9268366694450378, 0.0015351268230006099, 5.3974526963429525e-05, 2.071342350973282e-05, 0.000161426403792575, 7.957758498378098e-06, 0.001308791572228074, 9.979999049392063e-06, 0.0017173849046230316, 0.0007832648698240519, 0.01293252594769001, 0.013701912015676498, 0.003742239670827985, 0.0017341135535389185, 0.0021291000302881002, 5.990735735394992e-05, 0.0029111839830875397, 0.004015310201793909, 0.026338372379541397, 0.0, 0.0, 0.0, 0.0, 0.0, 0.0, 0.0, 0.0, 0.0, 0.0, 0.0, 0.0, 0.0, 0.0, 0.0, 0.0, 0.0, 0.0, 0.0, 0.0, 0.0, 0.0, 0.0, 0.0, 0.0, 0.0], [0.9598173499107361, 0.0007629911415278912, 3.672931052278727e-05, 2.199361006205436e-05, 0.00045084295561537147, 7.977508175827097e-06, 0.002669806592166424, 7.343511970248073e-05, 0.000927951536141336, 3.357266905368306e-05, 0.003122844500467181, 0.0057073235511779785, 0.0010232740314677358, 0.0020106760784983635, 0.0009196016471832991, 0.0001668568584136665, 0.0009779036045074463, 0.0001669651101110503, 0.00972133968025446, 0.011380646377801895, 0.0, 0.0, 0.0, 0.0, 0.0, 0.0, 0.0, 0.0, 0.0, 0.0, 0.0, 0.0, 0.0, 0.0, 0.0, 0.0, 0.0, 0.0, 0.0, 0.0, 0.0, 0.0, 0.0, 0.0, 0.0], [0.9379241466522217, 0.0034931241534650326, 0.0002954867377411574, 0.00048694672295823693, 0.002806164091452956, 6.737585499649867e-05, 0.012438849546015263, 4.8958765546558425e-05, 0.003040527692064643, 2.18057739402866e-05, 0.001462167827412486, 0.007568818517029285, 0.0015254056779667735, 0.0003192037402186543, 0.0025028283707797527, 0.0002036713995039463, 0.0030557834543287754, 0.00021058900165371597, 0.0028689992614090443, 0.004460076801478863, 0.015199116431176662, 0.0, 0.0, 0.0, 0.0, 0.0, 0.0, 0.0, 0.0, 0.0, 0.0, 0.0, 0.0, 0.0, 0.0, 0.0, 0.0, 0.0, 0.0, 0.0, 0.0, 0.0, 0.0, 0.0, 0.0], [0.9074877500534058, 0.003375591244548559, 0.0007247453322634101, 0.0022016458678990602, 0.0061483969911932945, 0.008295781910419464, 0.021050268784165382, 0.00021912675583735108, 0.004124659113585949, 0.0010458012111485004, 0.0013732147635892034, 0.005834468640387058, 0.0007774202967993915, 0.0023523156996816397, 0.004689070396125317, 0.00018879318668041378, 0.0015500325243920088, 0.0008367326809093356, 0.0007441408815793693, 0.0013610011665150523, 0.0009068547515198588, 0.024712340906262398, 0.0, 0.0, 0.0, 0.0, 0.0, 0.0, 0.0, 0.0, 0.0, 0.0, 0.0, 0.0, 0.0, 0.0, 0.0, 0.0, 0.0, 0.0, 0.0, 0.0, 0.0, 0.0, 0.0], [0.9108816385269165, 0.0011270741233602166, 0.0001941598457051441, 0.00015556655125692487, 0.00034529255935922265, 0.0010371727403253317, 0.011422889307141304, 0.000204158277483657, 0.0025741118006408215, 0.00023648740898352116, 0.0010457749012857676, 0.007420565467327833, 0.001864471472799778, 0.0008940679836086929, 0.001689715776592493, 0.00014941539848223329, 0.0008666397770866752, 0.00020881845557596534, 0.0010222221026197076, 0.001474900869652629, 0.0030250793788582087, 0.004525661002844572, 0.04763418808579445, 0.0, 0.0, 0.0, 0.0, 0.0, 0.0, 0.0, 0.0, 0.0, 0.0, 0.0, 0.0, 0.0, 0.0, 0.0, 0.0, 0.0, 0.0, 0.0, 0.0, 0.0, 0.0], [0.9160193204879761, 0.003358748508617282, 0.00020002738165203482, 0.000663528626319021, 0.0010549442376941442, 0.000678865413647145, 0.011100130155682564, 0.00014904931595083326, 0.001277651754207909, 0.0008021100657060742, 0.0015178394969552755, 0.013973800465464592, 0.00325417541898787, 0.002095069969072938, 0.005169515963643789, 0.00023125665029510856, 0.0018797924276441336, 0.0009761464316397905, 0.001953644212335348, 0.001796376658603549, 0.007500480394810438, 0.0015823740977793932, 0.0047963280230760574, 0.01796889863908291, 0.0, 0.0, 0.0, 0.0, 0.0, 0.0, 0.0, 0.0, 0.0, 0.0, 0.0, 0.0, 0.0, 0.0, 0.0, 0.0, 0.0, 0.0, 0.0, 0.0, 0.0], [0.9693402051925659, 0.0020893076434731483, 1.9464191609586123e-06, 3.450628582868376e-06, 0.00024293630849570036, 2.8066631330148084e-06, 0.0024192053824663162, 2.287069644779649e-09, 6.609659976675175e-06, 7.462518169631949e-06, 0.00011149961937917396, 0.004265084397047758, 0.002019581850618124, 0.0003928037185687572, 0.0005356582696549594, 2.711884938833009e-08, 4.175687081442447e-06, 1.211971539305523e-05, 0.0002441047108732164, 0.0018867511535063386, 0.00435268459841609, 0.0041101183742284775, 0.0007017103489488363, 6.703705730615184e-05, 0.0071827322244644165, 0.0, 0.0, 0.0, 0.0, 0.0, 0.0, 0.0, 0.0, 0.0, 0.0, 0.0, 0.0, 0.0, 0.0, 0.0, 0.0, 0.0, 0.0, 0.0, 0.0], [0.9695815443992615, 0.0007660184637643397, 1.3016663615417201e-05, 5.934587534284219e-06, 0.0036253684666007757, 5.201307885727147e-06, 0.0013170847669243813, 6.17235400568461e-08, 1.9382114260224625e-06, 3.5809243854600936e-06, 0.00012865388998761773, 0.0031033754348754883, 0.0009993279818445444, 0.0013403577031567693, 0.00022824628103990108, 4.387312628750806e-07, 2.62079993262887e-06, 7.465024282282684e-06, 0.00010976281919283792, 6.538367597386241e-05, 0.000957255600951612, 0.0009212933946400881, 0.00033938512206077576, 6.910780939506367e-05, 0.00128425401635468, 0.015123287215828896, 0.0, 0.0, 0.0, 0.0, 0.0, 0.0, 0.0, 0.0, 0.0, 0.0, 0.0, 0.0, 0.0, 0.0, 0.0, 0.0, 0.0, 0.0, 0.0], [0.9714439511299133, 0.0025312788784503937, 2.880717602238292e-06, 2.8733191356877796e-05, 0.00031161773949861526, 8.042771696636919e-06, 0.0019669460598379374, 9.332202566270098e-09, 2.3015156330075115e-05, 0.002066359855234623, 0.00027077586855739355, 0.0034619770012795925, 0.003194311633706093, 0.0007408373639918864, 0.0023148951586335897, 2.8461528245316003e-07, 2.4768993171164766e-05, 0.0005095613887533545, 0.0004316961858421564, 1.1348520274623297e-05, 5.023411722504534e-05, 0.00014440897211898118, 0.00016048585530370474, 9.689081707620062e-06, 0.00048302585491910577, 0.000514509214553982, 0.009294376708567142, 0.0, 0.0, 0.0, 0.0, 0.0, 0.0, 0.0, 0.0, 0.0, 0.0, 0.0, 0.0, 0.0, 0.0, 0.0, 0.0, 0.0, 0.0], [0.9454148411750793, 0.0012127707013860345, 3.65572668670211e-06, 1.6519938071724027e-05, 0.00010613993799779564, 4.3251144234091043e-05, 0.0033208834938704967, 1.8726575490290998e-07, 2.392271017015446e-05, 0.00035323170595802367, 0.00020674978441093117, 0.0017137209651991725, 0.009473543614149094, 8.091836934909225e-05, 0.0034554554149508476, 3.8964435589150526e-06, 2.5390925657120533e-05, 0.0001888356200652197, 0.0002187003701692447, 6.139541073935106e-05, 8.857479406287894e-05, 0.0005419120425358415, 0.00013317412231117487, 2.1119611119502224e-05, 0.00033610977698117495, 0.0027680390048772097, 0.009621307253837585, 0.02056584320962429, 0.0, 0.0, 0.0, 0.0, 0.0, 0.0, 0.0, 0.0, 0.0, 0.0, 0.0, 0.0, 0.0, 0.0, 0.0, 0.0, 0.0], [0.9476866126060486, 0.0007380094029940665, 1.1547574104042724e-05, 1.4050709069124423e-05, 7.097092748153955e-05, 4.733161404146813e-06, 0.010642431676387787, 1.7613413092476549e-06, 2.3463775505661033e-05, 3.679553628899157e-05, 0.00014109718904364854, 0.0024239462800323963, 0.003119159722700715, 0.00025194729096256196, 0.0027447636239230633, 1.511269965703832e-05, 3.695893246913329e-05, 6.0526770539581776e-05, 0.0002778155030682683, 3.054880835406948e-06, 0.002339182421565056, 0.0004253881925251335, 0.00011681982869049534, 2.439851414237637e-05, 0.0012211677385494113, 0.00039884576108306646, 0.020191127434372902, 0.004408650565892458, 0.0025695976801216602, 0.0, 0.0, 0.0, 0.0, 0.0, 0.0, 0.0, 0.0, 0.0, 0.0, 0.0, 0.0, 0.0, 0.0, 0.0, 0.0], [0.9569408893585205, 0.006741474848240614, 3.550381734385155e-05, 9.473786121816374e-06, 9.113822670769878e-06, 8.973801413958427e-06, 0.00026630936190485954, 1.6631040125503205e-05, 0.00010002882481785491, 2.0946794393239543e-05, 2.1510879378183745e-05, 0.005714045837521553, 0.023079996928572655, 6.14745295024477e-05, 0.0003306507715024054, 9.205108653986827e-05, 0.00020051577303092927, 3.47087079717312e-05, 0.0001996506325667724, 4.4937928578292485e-06, 0.0001436525781173259, 4.221759445499629e-05, 2.648483496159315e-05, 4.1686329495860264e-05, 0.0012355216313153505, 1.1751981219276786e-05, 0.0001600892428541556, 0.0013925497187301517, 1.2356794286461081e-05, 0.0030451957136392593, 0.0, 0.0, 0.0, 0.0, 0.0, 0.0, 0.0, 0.0, 0.0, 0.0, 0.0, 0.0, 0.0, 0.0, 0.0], [0.9768685698509216, 0.010524459183216095, 2.7688653858604084e-07, 1.9813446670013946e-06, 1.0987123459926806e-06, 1.500187920555618e-07, 4.014776277472265e-05, 1.9748096213856314e-10, 1.490620070399018e-05, 2.9113423806848004e-05, 3.523122813930968e-06, 0.0014843741664662957, 0.0074072969146072865, 1.650225749472156e-05, 0.00012389376934152097, 1.7248909855993588e-08, 3.5608689358923584e-05, 0.00010991274757543579, 0.0005413315375335515, 1.3927690361015266e-06, 6.160335487948032e-06, 5.9822730236192e-07, 9.204583875543904e-06, 1.394578021063353e-06, 0.0005189739749766886, 6.800393492767398e-08, 4.460691798158223e-06, 0.00016692839562892914, 6.302752808551304e-07, 0.00012537880684249103, 0.0019615276250988245, 0.0, 0.0, 0.0, 0.0, 0.0, 0.0, 0.0, 0.0, 0.0, 0.0, 0.0, 0.0, 0.0, 0.0], [0.9710872173309326, 0.003893354907631874, 3.6852259199804394e-07, 4.475242803891888e-06, 2.084458401441225e-06, 1.1232885555045868e-07, 0.0001501581136835739, 1.9631054594404507e-12, 1.8536702839355712e-07, 0.0002622820611577481, 0.00020629441132768989, 0.005797432269901037, 0.0019105416722595692, 0.00012107869406463578, 0.0007540580118075013, 5.952788262320041e-10, 1.8590353647596203e-06, 0.0006358731188811362, 0.0024052211083471775, 3.752651537070051e-06, 1.1346041901560966e-05, 1.1047948191844625e-06, 1.502102350059431e-06, 2.0429915821296163e-06, 0.0008513578213751316, 3.4302338463021442e-06, 6.922701140865684e-05, 0.001633203704841435, 7.560706580989063e-05, 0.002665009582415223, 8.052455996221397e-06, 0.007441753521561623, 0.0, 0.0, 0.0, 0.0, 0.0, 0.0, 0.0, 0.0, 0.0, 0.0, 0.0, 0.0, 0.0], [0.9678590893745422, 0.00182996760122478, 1.1096440175606403e-06, 4.805210096492374e-07, 2.792045734167914e-06, 1.3629017914240649e-08, 0.0001019242117763497, 4.317291801836376e-10, 5.813376446894836e-06, 4.830482794204727e-06, 0.0008729025721549988, 0.006721002981066704, 0.00010572143946774304, 2.817738277371973e-06, 3.163188011967577e-05, 2.938261189910918e-08, 1.3074110938759986e-05, 4.6119945181999356e-05, 0.009018135257065296, 5.698671520804055e-05, 0.003976129461079836, 7.5482130341697484e-06, 7.872937999309215e-07, 1.0957832273561507e-05, 0.0035600452683866024, 2.1211492367001483e-06, 0.00010562197712715715, 0.00011804982932517305, 2.0280946046113968e-05, 0.004803971387445927, 1.6770353283845907e-07, 0.0001448161347070709, 0.0005751602002419531, 0.0, 0.0, 0.0, 0.0, 0.0, 0.0, 0.0, 0.0, 0.0, 0.0, 0.0, 0.0], [0.8715605139732361, 0.0063736760057508945, 0.0008998435805551708, 0.0004445371450856328, 0.0004961086087860167, 0.0001540422235848382, 0.005277713295072317, 3.0114893888821825e-05, 0.00019632565090432763, 0.00046401392319239676, 0.0013847918016836047, 0.04292170703411102, 0.0046025654301047325, 0.000741026655305177, 0.00481357891112566, 5.7087618188234046e-05, 0.00018447010370437056, 0.000307340087601915, 0.002196520334109664, 0.002305351896211505, 0.003992948215454817, 0.0006344704888761044, 0.00016355431580450386, 0.0012433275114744902, 0.0032201979774981737, 0.0005405274569056928, 0.002773766638711095, 0.0021141967736184597, 0.0005842586397193372, 0.014693809673190117, 8.238793816417456e-05, 0.0009400248527526855, 0.0012458699056878686, 0.02235942706465721, 0.0, 0.0, 0.0, 0.0, 0.0, 0.0, 0.0, 0.0, 0.0, 0.0, 0.0], [0.49218377470970154, 0.00741773284971714, 0.000316971360007301, 0.0003468120703473687, 0.0006442090380005538, 0.0009379633702337742, 0.022457802668213844, 3.7780315324198455e-05, 0.0004924283712171018, 5.887820225325413e-05, 0.00024873772053979337, 0.0067292083986103535, 0.32391825318336487, 0.005308287218213081, 0.0587446503341198, 0.0008738283067941666, 0.005714213941246271, 0.0005805215332657099, 0.0035468891728669405, 0.0010167863219976425, 0.0028307922184467316, 0.001339903799816966, 0.005791894160211086, 0.0018844502046704292, 0.022197486832737923, 0.0001075676191248931, 0.001720710308291018, 0.003162245498970151, 0.001117237377911806, 0.017937086522579193, 0.0002482530544511974, 0.0012159512843936682, 0.00019207014702260494, 0.0005045753205195069, 0.008174004964530468, 0.0, 0.0, 0.0, 0.0, 0.0, 0.0, 0.0, 0.0, 0.0, 0.0], [0.5264011025428772, 0.0010600968962535262, 0.00028965590172447264, 0.00024651846615597606, 0.0005783551605418324, 0.0009562980849295855, 0.005054021254181862, 0.0023897618521004915, 0.0036295028403401375, 0.0015702795935794711, 0.002997991628944874, 0.01273607648909092, 0.010846653021872044, 0.020043445751070976, 0.005567809566855431, 0.003267549676820636, 0.011372502893209457, 0.0034409761428833008, 0.03916305676102638, 0.037739429622888565, 0.08807456493377686, 0.004520962480455637, 0.003182325279340148, 0.0010964247630909085, 0.09998822212219238, 0.006728997454047203, 0.019237631931900978, 0.0028988888952881098, 0.0012989458627998829, 0.01324852742254734, 0.004750757943838835, 0.013600307516753674, 0.001048758625984192, 0.030733706429600716, 0.016907602548599243, 0.003332301275804639, 0.0, 0.0, 0.0, 0.0, 0.0, 0.0, 0.0, 0.0, 0.0], [0.8665541410446167, 0.0006575232255272567, 1.4684295820188709e-05, 6.228259007912129e-05, 4.547089338302612e-05, 2.270453842356801e-05, 0.002260226756334305, 7.69542907619325e-07, 8.135969437716994e-06, 2.188629878219217e-05, 2.71368699031882e-05, 0.0052774990908801556, 0.007232725620269775, 0.00019752050866372883, 0.013595079071819782, 6.398480763891712e-06, 3.533147173584439e-05, 5.573920498136431e-05, 0.0003171643184032291, 0.0002588217321317643, 0.0015712552703917027, 0.00030047964537516236, 0.0001418182800989598, 5.8943569456459954e-05, 0.0059042759239673615, 0.000940224330406636, 0.0035568024031817913, 0.0008198561263270676, 0.0022465237416327, 0.04600079730153084, 3.651177394203842e-05, 0.0002864766865968704, 0.0013205744326114655, 0.008264046162366867, 0.01863565295934677, 0.007378550712019205, 0.005885911639779806, 0.0, 0.0, 0.0, 0.0, 0.0, 0.0, 0.0, 0.0], [0.746512770652771, 0.001021251198835671, 1.6920257621677592e-05, 4.472662476473488e-05, 5.777141996077262e-05, 2.6227535272482783e-05, 0.00676304567605257, 7.933595952636097e-06, 6.313705671345815e-05, 6.5584345065872185e-06, 5.80357045691926e-05, 0.004377670586109161, 0.002281908644363284, 0.00017643424507696182, 0.004308175761252642, 6.380117702065036e-05, 0.00020727211085613817, 2.830792982422281e-05, 0.0003550198453012854, 1.5997060472727753e-05, 0.0035618103574961424, 0.00025786232436075807, 0.00013496227620635182, 4.2237097659381106e-05, 0.0041460865177214146, 0.00012216488539706916, 0.0021508773788809776, 0.0005469764000736177, 6.0382415540516376e-05, 0.19193649291992188, 0.00046910959645174444, 3.65902014891617e-05, 0.00011805481335613877, 0.010143406689167023, 0.010837018489837646, 0.0022628209553658962, 0.003789871698245406, 0.0029903610702604055, 0.0, 0.0, 0.0, 0.0, 0.0, 0.0, 0.0], [0.8639642596244812, 0.0032575284130871296, 0.00048285716911777854, 0.0004343068867456168, 0.0009712693863548338, 0.00016382905596401542, 0.002531771780923009, 6.452376510424074e-06, 2.6296826035832055e-05, 4.405855725053698e-05, 0.0003212772717233747, 0.007223780266940594, 0.009354990907013416, 0.0022844281047582626, 0.002638377947732806, 1.5495326806558296e-05, 6.249592115636915e-05, 6.272861355682835e-05, 0.00028154280153103173, 0.00028221620596013963, 0.0010542256059125066, 0.0005815471522510052, 0.0005516594974324107, 0.00045476265950128436, 0.004098655190318823, 0.00029620208078995347, 0.013395032845437527, 0.0019526233663782477, 0.0012627707328647375, 0.04387280344963074, 0.00036327034467831254, 0.00015585726941935718, 0.00041596475057303905, 0.011581533588469028, 0.013171644881367683, 0.0011167925549671054, 0.0009130046819336712, 0.00489031383767724, 0.0054613640531897545, 0.0, 0.0, 0.0, 0.0, 0.0, 0.0], [0.743356466293335, 0.006114481948316097, 1.4451674360316247e-05, 4.1898103518178686e-05, 0.0002332493313588202, 2.5419135454285424e-06, 0.0016639756504446268, 2.099950435763276e-09, 1.9061925513597089e-06, 0.00028460592147894204, 0.0001088160352082923, 0.0096086161211133, 0.01518273539841175, 0.00010602884140098467, 0.011292374692857265, 1.7265618623696355e-07, 9.58833425102057e-06, 0.00025559469941072166, 0.00036742439260706306, 4.191692642052658e-05, 0.00043586353422142565, 4.020614505861886e-05, 1.5712972526671365e-05, 3.1309784844779642e-06, 0.0006350238109007478, 2.2659027308691293e-05, 0.00046964053763076663, 0.03179585561156273, 0.001917207264341414, 0.08413781970739365, 1.1940303465962643e-06, 0.00023688632063567638, 0.0009722625254653394, 0.008385268971323967, 0.03225264698266983, 0.00862093921750784, 0.00047995313070714474, 0.00485841603949666, 0.017623500898480415, 0.01840893179178238, 0.0, 0.0, 0.0, 0.0, 0.0], [0.07184820622205734, 0.00020139533444307745, 6.61754747852683e-05, 5.39645625394769e-05, 9.999648682423867e-06, 2.642008985276334e-05, 0.00018746723071672022, 0.11910352110862732, 0.10644815117120743, 0.00023511942708864808, 3.73286493413616e-05, 0.0011162321316078305, 0.00022647828154731542, 3.808820474660024e-05, 2.2021402401151136e-05, 0.19411730766296387, 0.48328155279159546, 0.00425900612026453, 0.005965550895780325, 0.00024165584181901067, 0.0003867482009809464, 5.657206929754466e-05, 6.536666478496045e-05, 1.8399536202196032e-05, 0.00661848857998848, 4.6881513071639347e-07, 3.269497392466292e-05, 8.098800026345998e-05, 3.9668175304541364e-05, 0.00036679525510407984, 7.553225032097544e-07, 9.670188592281193e-05, 1.396793891217385e-06, 0.00021312522585503757, 0.0009848854970186949, 0.00022891171101946384, 0.0029892325401306152, 1.4097111488808878e-05, 2.7293246603221633e-05, 0.0002798578061629087, 1.2023931958538014e-05, 0.0, 0.0, 0.0, 0.0], [0.012973936274647713, 0.0001387255178997293, 7.42284669286164e-08, 8.204209507312044e-07, 4.385951797303278e-07, 3.489242544674198e-06, 8.79283034009859e-05, 8.770155545789748e-06, 0.40554186701774597, 0.0005053281784057617, 6.205446425155969e-06, 0.0002962808357551694, 1.7780097550712526e-05, 1.138177367465687e-06, 4.950481070409296e-06, 6.973036215640604e-05, 0.5611773729324341, 0.0057771881110966206, 0.0019979646895080805, 9.66780717135407e-05, 3.612347427406348e-05, 6.267729986575432e-06, 7.358149741776288e-05, 1.4389317584573291e-05, 0.010209458880126476, 4.442269485593897e-08, 1.4135778201307403e-06, 1.121524201153079e-05, 6.899708751006983e-07, 8.612681995145977e-06, 1.8917888089386992e-10, 8.42299505166011e-06, 1.3389785635808948e-07, 6.906993803568184e-06, 0.0001917641784530133, 4.260166679159738e-05, 0.0005330546409823, 1.2458742730814265e-06, 5.061949082119099e-07, 1.3701265743293334e-05, 5.380837251323101e-07, 0.00013263830624055117, 0.0, 0.0, 0.0], [0.02665538713335991, 0.0002281784691149369, 1.5019023749118787e-06, 2.6012356102000922e-05, 2.6620993594406173e-05, 2.5959519916796125e-05, 0.0003409336495678872, 5.749714659941674e-08, 0.00100044219288975, 0.36433759331703186, 0.001735021360218525, 0.004826946184039116, 8.905974391382188e-05, 0.00025201740209013224, 1.8618899048306048e-05, 5.965836749055597e-07, 0.003026659833267331, 0.4786084294319153, 0.08150148391723633, 0.00034816295374184847, 0.00010421119077363983, 6.97418818162987e-06, 3.9062426367308944e-05, 3.2022791856434196e-05, 0.01843753084540367, 8.504341622028733e-07, 2.0949488316546194e-05, 0.0009249895811080933, 6.96865317877382e-05, 0.00012713325850199908, 4.4519546382737474e-10, 2.0514842617558315e-05, 4.296568295103498e-05, 0.0001235755335073918, 0.0012343585258349776, 8.776784670772031e-05, 0.0014335832092911005, 2.3981490812730044e-05, 6.958455742278602e-06, 9.16888820938766e-05, 8.845917182043195e-05, 2.5634617486502975e-06, 0.014030536636710167, 0.0, 0.0], [0.023981906473636627, 9.029696229845285e-05, 4.637024630937958e-07, 1.1436435670475475e-05, 3.401169669814408e-05, 2.4118166948028374e-06, 0.0004079700738657266, 6.923284168180999e-10, 0.00011060809629270807, 0.0026768476236611605, 0.08734643459320068, 0.005642540752887726, 2.3649254217161797e-05, 0.00022354403336066753, 1.7365775420330465e-05, 2.4364952722066846e-08, 0.0003786589950323105, 0.018906094133853912, 0.7607836723327637, 0.009452993050217628, 0.005161592271178961, 0.0003589852713048458, 3.626047691795975e-05, 0.00023955754295457155, 0.055143091827631, 4.5029369175608736e-06, 5.578260243055411e-05, 0.0003393192891962826, 2.4965920601971447e-05, 0.00019191399042028934, 1.2248137226666955e-10, 2.014806113947998e-06, 6.352121545205591e-06, 0.005582185462117195, 0.001607273006811738, 1.570456697663758e-05, 0.0007282337173819542, 1.0339499567635357e-05, 1.7085150830098428e-05, 7.336674752878025e-05, 6.099295933381654e-05, 8.6478848970728e-08, 0.000715710804797709, 0.019533803686499596, 0.0], [0.8813058137893677, 0.0025417394936084747, 6.3090392359299585e-06, 9.10073777049547e-06, 0.00013518026389647275, 9.270119335269555e-05, 0.009505171328783035, 1.7581531892574276e-06, 0.0001943205134011805, 0.0012215750757604837, 0.002257351065054536, 0.012270002625882626, 0.0028334755916148424, 0.0031353652011603117, 0.007906855084002018, 6.350831426971126e-06, 0.00019816486747004092, 0.0010484419763088226, 0.0030436350498348475, 0.002643510000780225, 0.003469201037660241, 0.0006942969048395753, 0.002826123032718897, 0.003127798903733492, 0.010502789169549942, 8.606932533439249e-05, 0.0013406714424490929, 0.00015039328718557954, 0.0004931377479806542, 0.005555035080760717, 2.259610300825443e-05, 0.00010193864727625623, 0.0004918555496260524, 0.005243935622274876, 0.01703975349664688, 0.0026810183189809322, 0.0027726690750569105, 0.00022116860782261938, 0.0007284344756044447, 0.004306849557906389, 0.0015745359705761075, 5.155247890797909e-06, 7.871335401432589e-05, 0.0006169286207295954, 0.0055121444165706635]], \"maskUpperTri\": true}\n",
              "    )\n",
              "    </script>"
            ],
            "text/plain": [
              "<circuitsvis.utils.render.RenderedHTML at 0x7fdf5c8748b0>"
            ]
          },
          "execution_count": 28,
          "metadata": {},
          "output_type": "execute_result"
        }
      ],
      "source": [
        "# Look at attention patterns\n",
        "# cv.attention.attention_pattern(s), don't forget to squeeze!\n",
        "\n",
        "# Compare block 0 head 5 to block 5 head 5!\n",
        "cv.attention.attention_pattern(cache[\"blocks.5.attn.hook_pattern\"][0, 5, :, :], tokens=str_tokens)"
      ]
    },
    {
      "cell_type": "markdown",
      "metadata": {
        "id": "Ofmt1dRIEYzk"
      },
      "source": [
        "# Induction Heads"
      ]
    },
    {
      "cell_type": "code",
      "execution_count": 30,
      "metadata": {},
      "outputs": [
        {
          "data": {
            "text/html": [
              "<div id=\"circuits-vis-c44d06d8-1e3b\" style=\"margin: 15px 0;\"/>\n",
              "    <script crossorigin type=\"module\">\n",
              "    import { render, AttentionPatterns } from \"https://unpkg.com/circuitsvis@1.41.0/dist/cdn/esm.js\";\n",
              "    render(\n",
              "      \"circuits-vis-c44d06d8-1e3b\",\n",
              "      AttentionPatterns,\n",
              "      {\"tokens\": [\"<|endoftext|>\", \"This\", \" is\", \" a\", \" story\", \" about\", \" Qu\", \"om\", \"atar\", \"us\", \".\", \" When\", \" one\", \" day\", \" Qu\", \"om\", \"atar\", \"us\", \" decided\", \" to\", \" do\", \" something\", \" different\", \" and\", \" bought\", \" a\", \" plane\", \" ticket\", \" to\", \" L\", \"aman\", \"and\", \"u\", \".\", \" When\", \" he\", \" arrived\", \" to\", \" the\", \" airport\", \" Qu\", \"om\", \"atar\", \"us\", \" noticed\"], \"attention\": [[[1.0, 0.0, 0.0, 0.0, 0.0, 0.0, 0.0, 0.0, 0.0, 0.0, 0.0, 0.0, 0.0, 0.0, 0.0, 0.0, 0.0, 0.0, 0.0, 0.0, 0.0, 0.0, 0.0, 0.0, 0.0, 0.0, 0.0, 0.0, 0.0, 0.0, 0.0, 0.0, 0.0, 0.0, 0.0, 0.0, 0.0, 0.0, 0.0, 0.0, 0.0, 0.0, 0.0, 0.0, 0.0], [0.9965106844902039, 0.003489286871626973, 0.0, 0.0, 0.0, 0.0, 0.0, 0.0, 0.0, 0.0, 0.0, 0.0, 0.0, 0.0, 0.0, 0.0, 0.0, 0.0, 0.0, 0.0, 0.0, 0.0, 0.0, 0.0, 0.0, 0.0, 0.0, 0.0, 0.0, 0.0, 0.0, 0.0, 0.0, 0.0, 0.0, 0.0, 0.0, 0.0, 0.0, 0.0, 0.0, 0.0, 0.0, 0.0, 0.0], [0.9946860074996948, 0.003354279324412346, 0.0019596635829657316, 0.0, 0.0, 0.0, 0.0, 0.0, 0.0, 0.0, 0.0, 0.0, 0.0, 0.0, 0.0, 0.0, 0.0, 0.0, 0.0, 0.0, 0.0, 0.0, 0.0, 0.0, 0.0, 0.0, 0.0, 0.0, 0.0, 0.0, 0.0, 0.0, 0.0, 0.0, 0.0, 0.0, 0.0, 0.0, 0.0, 0.0, 0.0, 0.0, 0.0, 0.0, 0.0], [0.9899775981903076, 0.000866989663336426, 0.0010365034686401486, 0.008118930272758007, 0.0, 0.0, 0.0, 0.0, 0.0, 0.0, 0.0, 0.0, 0.0, 0.0, 0.0, 0.0, 0.0, 0.0, 0.0, 0.0, 0.0, 0.0, 0.0, 0.0, 0.0, 0.0, 0.0, 0.0, 0.0, 0.0, 0.0, 0.0, 0.0, 0.0, 0.0, 0.0, 0.0, 0.0, 0.0, 0.0, 0.0, 0.0, 0.0, 0.0, 0.0], [0.9890521168708801, 0.0002617266436573118, 6.550446414621547e-05, 0.0015243154484778643, 0.009096303023397923, 0.0, 0.0, 0.0, 0.0, 0.0, 0.0, 0.0, 0.0, 0.0, 0.0, 0.0, 0.0, 0.0, 0.0, 0.0, 0.0, 0.0, 0.0, 0.0, 0.0, 0.0, 0.0, 0.0, 0.0, 0.0, 0.0, 0.0, 0.0, 0.0, 0.0, 0.0, 0.0, 0.0, 0.0, 0.0, 0.0, 0.0, 0.0, 0.0, 0.0], [0.9761183857917786, 0.00014785051462240517, 0.00014471827307716012, 0.0014572686050087214, 0.008729597553610802, 0.013402089476585388, 0.0, 0.0, 0.0, 0.0, 0.0, 0.0, 0.0, 0.0, 0.0, 0.0, 0.0, 0.0, 0.0, 0.0, 0.0, 0.0, 0.0, 0.0, 0.0, 0.0, 0.0, 0.0, 0.0, 0.0, 0.0, 0.0, 0.0, 0.0, 0.0, 0.0, 0.0, 0.0, 0.0, 0.0, 0.0, 0.0, 0.0, 0.0, 0.0], [0.991208553314209, 0.0013033072464168072, 0.003420703113079071, 0.0006164824590086937, 0.0004298304265830666, 0.0007576141506433487, 0.00226341700181365, 0.0, 0.0, 0.0, 0.0, 0.0, 0.0, 0.0, 0.0, 0.0, 0.0, 0.0, 0.0, 0.0, 0.0, 0.0, 0.0, 0.0, 0.0, 0.0, 0.0, 0.0, 0.0, 0.0, 0.0, 0.0, 0.0, 0.0, 0.0, 0.0, 0.0, 0.0, 0.0, 0.0, 0.0, 0.0, 0.0, 0.0, 0.0], [0.9869916439056396, 0.0005137221305631101, 0.0012035571271553636, 0.0009233674500137568, 0.0006232929299585521, 0.002161103766411543, 0.002223786199465394, 0.005359505768865347, 0.0, 0.0, 0.0, 0.0, 0.0, 0.0, 0.0, 0.0, 0.0, 0.0, 0.0, 0.0, 0.0, 0.0, 0.0, 0.0, 0.0, 0.0, 0.0, 0.0, 0.0, 0.0, 0.0, 0.0, 0.0, 0.0, 0.0, 0.0, 0.0, 0.0, 0.0, 0.0, 0.0, 0.0, 0.0, 0.0, 0.0], [0.9907174706459045, 0.00044920871732756495, 0.0007316881674341857, 0.0005151779623702168, 0.0006680130027234554, 0.0009389441693201661, 0.002612467622384429, 0.0004962575621902943, 0.0028707124292850494, 0.0, 0.0, 0.0, 0.0, 0.0, 0.0, 0.0, 0.0, 0.0, 0.0, 0.0, 0.0, 0.0, 0.0, 0.0, 0.0, 0.0, 0.0, 0.0, 0.0, 0.0, 0.0, 0.0, 0.0, 0.0, 0.0, 0.0, 0.0, 0.0, 0.0, 0.0, 0.0, 0.0, 0.0, 0.0, 0.0], [0.9454972147941589, 0.00018402221030555665, 0.0013897271128371358, 0.0005727834650315344, 0.0001702795852907002, 0.00021683592058252543, 0.001210816903039813, 0.000465141492895782, 0.00456756679341197, 0.045725684612989426, 0.0, 0.0, 0.0, 0.0, 0.0, 0.0, 0.0, 0.0, 0.0, 0.0, 0.0, 0.0, 0.0, 0.0, 0.0, 0.0, 0.0, 0.0, 0.0, 0.0, 0.0, 0.0, 0.0, 0.0, 0.0, 0.0, 0.0, 0.0, 0.0, 0.0, 0.0, 0.0, 0.0, 0.0, 0.0], [0.9903906583786011, 0.00046041212044656277, 0.0006889834185130894, 0.0003425282775424421, 0.00012879916175734252, 0.0006108912057243288, 0.0024383480194956064, 5.3332416428020224e-05, 0.00011673526023514569, 0.0015689111314713955, 0.0032002641819417477, 0.0, 0.0, 0.0, 0.0, 0.0, 0.0, 0.0, 0.0, 0.0, 0.0, 0.0, 0.0, 0.0, 0.0, 0.0, 0.0, 0.0, 0.0, 0.0, 0.0, 0.0, 0.0, 0.0, 0.0, 0.0, 0.0, 0.0, 0.0, 0.0, 0.0, 0.0, 0.0, 0.0, 0.0], [0.943004846572876, 0.0008855900960043073, 0.004241992253810167, 0.002080995123833418, 0.0005950959748588502, 0.00044589591561816633, 0.025109941139817238, 0.0018811019835993648, 0.0009518007864244282, 0.0018564641941338778, 0.002680156147107482, 0.01626606471836567, 0.0, 0.0, 0.0, 0.0, 0.0, 0.0, 0.0, 0.0, 0.0, 0.0, 0.0, 0.0, 0.0, 0.0, 0.0, 0.0, 0.0, 0.0, 0.0, 0.0, 0.0, 0.0, 0.0, 0.0, 0.0, 0.0, 0.0, 0.0, 0.0, 0.0, 0.0, 0.0, 0.0], [0.966313362121582, 0.0010278599802404642, 0.0004895629244856536, 0.00019538371998351067, 0.00028701420524157584, 0.0020839457865804434, 0.0051669529639184475, 0.0006312985206022859, 0.00452775415033102, 0.0054857139475643635, 0.0010716866236180067, 0.0033372212201356888, 0.009382206946611404, 0.0, 0.0, 0.0, 0.0, 0.0, 0.0, 0.0, 0.0, 0.0, 0.0, 0.0, 0.0, 0.0, 0.0, 0.0, 0.0, 0.0, 0.0, 0.0, 0.0, 0.0, 0.0, 0.0, 0.0, 0.0, 0.0, 0.0, 0.0, 0.0, 0.0, 0.0, 0.0], [0.9916390776634216, 0.00019354434334672987, 2.629980917845387e-05, 6.56011761748232e-05, 1.010277173918439e-05, 0.0002867509319912642, 0.004229371435940266, 0.0001742910098982975, 0.0006871873047202826, 0.00011145129246870056, 1.2214507478347514e-05, 0.00013368901272770017, 0.001756503013893962, 0.0006739852833561599, 0.0, 0.0, 0.0, 0.0, 0.0, 0.0, 0.0, 0.0, 0.0, 0.0, 0.0, 0.0, 0.0, 0.0, 0.0, 0.0, 0.0, 0.0, 0.0, 0.0, 0.0, 0.0, 0.0, 0.0, 0.0, 0.0, 0.0, 0.0, 0.0, 0.0, 0.0], [0.9221158623695374, 0.0012221555225551128, 0.002165604615584016, 0.00032691529486328363, 0.00010475470480741933, 4.8999168939189985e-05, 0.0009199747582897544, 0.0036988386418670416, 0.01562747173011303, 0.02857515588402748, 0.006600537337362766, 0.0019280004780739546, 0.01258579920977354, 0.0016049365513026714, 0.0024749701842665672, 0.0, 0.0, 0.0, 0.0, 0.0, 0.0, 0.0, 0.0, 0.0, 0.0, 0.0, 0.0, 0.0, 0.0, 0.0, 0.0, 0.0, 0.0, 0.0, 0.0, 0.0, 0.0, 0.0, 0.0, 0.0, 0.0, 0.0, 0.0, 0.0, 0.0], [0.8685654997825623, 0.0008304064394906163, 0.0015206285752356052, 0.0010103193344548345, 0.0003582868375815451, 0.0004132870235480368, 0.002005587099120021, 0.0012974092969670892, 0.028362100943922997, 0.05449359118938446, 0.011790351010859013, 0.0027206968516111374, 0.009408455342054367, 0.0009010337525978684, 0.0025907696690410376, 0.01373163890093565, 0.0, 0.0, 0.0, 0.0, 0.0, 0.0, 0.0, 0.0, 0.0, 0.0, 0.0, 0.0, 0.0, 0.0, 0.0, 0.0, 0.0, 0.0, 0.0, 0.0, 0.0, 0.0, 0.0, 0.0, 0.0, 0.0, 0.0, 0.0, 0.0], [0.8711439967155457, 0.000649784691631794, 0.001012382679618895, 0.0006912773824296892, 0.0003607149701565504, 0.00021267961710691452, 0.003941049333661795, 0.00014133616059552878, 0.003209491027519107, 0.047524940222501755, 0.03392097353935242, 0.005463153123855591, 0.006390052381902933, 0.0010091280564665794, 0.0022785693872720003, 0.0009131882688961923, 0.021137181669473648, 0.0, 0.0, 0.0, 0.0, 0.0, 0.0, 0.0, 0.0, 0.0, 0.0, 0.0, 0.0, 0.0, 0.0, 0.0, 0.0, 0.0, 0.0, 0.0, 0.0, 0.0, 0.0, 0.0, 0.0, 0.0, 0.0, 0.0, 0.0], [0.7768488526344299, 0.0004586938885040581, 0.0011454237392172217, 0.0004195121582597494, 9.78436364675872e-05, 5.8394460211275145e-05, 0.0018756724894046783, 0.00024053434026427567, 0.0031365221366286278, 0.02387506701052189, 0.06583239883184433, 0.005572455935180187, 0.004245780408382416, 0.0006615196471102536, 0.00199390877969563, 0.0012392568169161677, 0.019251467660069466, 0.09304670244455338, 0.0, 0.0, 0.0, 0.0, 0.0, 0.0, 0.0, 0.0, 0.0, 0.0, 0.0, 0.0, 0.0, 0.0, 0.0, 0.0, 0.0, 0.0, 0.0, 0.0, 0.0, 0.0, 0.0, 0.0, 0.0, 0.0, 0.0], [0.9817580580711365, 0.000398219155613333, 0.00010751502122730017, 3.08350172417704e-05, 1.6094150851131417e-05, 6.246411066967994e-05, 0.0013266492169350386, 3.253107934142463e-05, 0.0008456751820631325, 0.0005151289515197277, 0.00021629646653309464, 0.0005019846139475703, 0.001748130191117525, 0.00015507415810134262, 0.004912107717245817, 7.342418393818662e-05, 0.0010448795510455966, 0.0007989800069481134, 0.005455998238176107, 0.0, 0.0, 0.0, 0.0, 0.0, 0.0, 0.0, 0.0, 0.0, 0.0, 0.0, 0.0, 0.0, 0.0, 0.0, 0.0, 0.0, 0.0, 0.0, 0.0, 0.0, 0.0, 0.0, 0.0, 0.0, 0.0], [0.9893636703491211, 0.000169467632076703, 0.00011633917893050238, 4.675615855376236e-05, 3.6495988751994446e-05, 4.786732097272761e-05, 0.002431947970762849, 1.2268690625205636e-05, 0.000690365384798497, 0.00021383972489275038, 0.00031409988878294826, 0.00034594477619975805, 0.0006102420156821609, 2.518795918149408e-05, 0.000996289192698896, 1.379219156660838e-05, 0.00035045656841248274, 0.00013357051648199558, 0.0020506924483925104, 0.002030789852142334, 0.0, 0.0, 0.0, 0.0, 0.0, 0.0, 0.0, 0.0, 0.0, 0.0, 0.0, 0.0, 0.0, 0.0, 0.0, 0.0, 0.0, 0.0, 0.0, 0.0, 0.0, 0.0, 0.0, 0.0, 0.0], [0.9859995245933533, 0.00013076741015538573, 9.996944572776556e-05, 5.104761658003554e-05, 0.00015623503713868558, 0.0003112716367468238, 0.0020235127303749323, 9.492423851042986e-05, 0.0016016007866710424, 0.001484025502577424, 0.0002451367618050426, 0.00018624280346557498, 0.0004620999679900706, 5.340991265256889e-05, 0.0008300698827952147, 1.587208862474654e-05, 0.0002899190876632929, 0.00021941166778560728, 0.0007649055914953351, 0.0009689874714240432, 0.0040109711699187756, 0.0, 0.0, 0.0, 0.0, 0.0, 0.0, 0.0, 0.0, 0.0, 0.0, 0.0, 0.0, 0.0, 0.0, 0.0, 0.0, 0.0, 0.0, 0.0, 0.0, 0.0, 0.0, 0.0, 0.0], [0.989208996295929, 9.647009574109688e-05, 4.9476551794214174e-05, 3.420982102397829e-05, 0.0002311698190169409, 0.0021777679212391376, 0.0026332316920161247, 2.0746258087456226e-05, 0.0003505215863697231, 0.00039518161793239415, 5.536336175282486e-05, 0.00020753392891492695, 0.0001299873983953148, 2.7268984922557138e-05, 0.0018121019238606095, 6.9779475779796485e-06, 7.065863610478118e-05, 7.50612307456322e-05, 6.13738302490674e-05, 8.696831355337054e-05, 0.0002794541942421347, 0.0019896693993359804, 0.0, 0.0, 0.0, 0.0, 0.0, 0.0, 0.0, 0.0, 0.0, 0.0, 0.0, 0.0, 0.0, 0.0, 0.0, 0.0, 0.0, 0.0, 0.0, 0.0, 0.0, 0.0, 0.0], [0.9774075150489807, 0.0003034774854313582, 7.10938693373464e-05, 0.0001925439719343558, 0.00015985155187081546, 0.0008078181999735534, 0.0023963183630257845, 0.00019345876353327185, 0.00021806443692184985, 0.0010822706390172243, 0.00013001789920963347, 0.002361841266974807, 0.00013181597751099616, 5.5888969654915854e-05, 0.00244001648388803, 6.470830703619868e-05, 0.00011971448839176446, 0.0004277327097952366, 0.00035766162909567356, 0.0003896612615790218, 0.00035665815812535584, 0.0017262601759284735, 0.00860562827438116, 0.0, 0.0, 0.0, 0.0, 0.0, 0.0, 0.0, 0.0, 0.0, 0.0, 0.0, 0.0, 0.0, 0.0, 0.0, 0.0, 0.0, 0.0, 0.0, 0.0, 0.0, 0.0], [0.9537739753723145, 0.00020965613657608628, 0.00022161530796438456, 0.0001916918408824131, 0.0001131312019424513, 0.00037193443858996034, 0.0043121641501784325, 5.088035686640069e-05, 0.0002529770426917821, 0.00039694749284535646, 0.00014707352966070175, 0.002857043407857418, 0.0012962735490873456, 7.581114914501086e-05, 0.008305629715323448, 7.587270374642685e-05, 0.0003570543194655329, 0.00045522101572714746, 0.002150134416297078, 0.002050223294645548, 0.0032014523167163134, 0.0047310516238212585, 0.0016775698168203235, 0.012724676169455051, 0.0, 0.0, 0.0, 0.0, 0.0, 0.0, 0.0, 0.0, 0.0, 0.0, 0.0, 0.0, 0.0, 0.0, 0.0, 0.0, 0.0, 0.0, 0.0, 0.0, 0.0], [0.8508198261260986, 0.00010125099652213976, 3.0168706871336326e-05, 4.422906567924656e-05, 8.28842748887837e-05, 0.000130584929138422, 0.0028848855290561914, 6.088751251809299e-05, 0.0003481693274807185, 0.0003747604205273092, 0.00010307248157914728, 0.00017418921925127506, 0.0017422137316316366, 7.653219654457644e-05, 0.0016078166663646698, 4.8880883696256205e-05, 0.00021170027321204543, 0.00024967355420812964, 0.0008668079972267151, 0.051115576177835464, 0.008431879803538322, 0.05964984372258186, 0.003933724947273731, 0.011384173296391964, 0.005526317283511162, 0.0, 0.0, 0.0, 0.0, 0.0, 0.0, 0.0, 0.0, 0.0, 0.0, 0.0, 0.0, 0.0, 0.0, 0.0, 0.0, 0.0, 0.0, 0.0, 0.0], [0.9465245604515076, 0.00010989691509166732, 9.309474990004674e-05, 1.0740169273049105e-05, 0.0003934719425160438, 0.0002080772683257237, 0.0008621240267530084, 1.9683353457367048e-05, 0.00019898830214515328, 0.0004516339104156941, 6.202115764608607e-05, 8.105732558760792e-05, 0.00016236152441706508, 0.0002650305686984211, 0.0002839322842191905, 2.188052167184651e-05, 0.00013061476056464016, 0.00037344233714975417, 0.0008774836896918714, 0.0012189500266686082, 0.0018664088565856218, 0.006988725159317255, 0.011771130375564098, 0.012676912359893322, 0.0033203470520675182, 0.011027434840798378, 0.0, 0.0, 0.0, 0.0, 0.0, 0.0, 0.0, 0.0, 0.0, 0.0, 0.0, 0.0, 0.0, 0.0, 0.0, 0.0, 0.0, 0.0, 0.0], [0.8856202363967896, 0.00013565432163886726, 4.034418088849634e-05, 6.647065310971811e-05, 0.00032794647268019617, 0.0010534597095102072, 0.0037993728183209896, 2.2597045244765468e-05, 0.0003213644085917622, 0.0016675664810463786, 0.00015635471208952367, 0.00019081128994002938, 6.106960063334554e-05, 6.0846188716823235e-05, 0.0022010421380400658, 7.1754898272047285e-06, 5.269269968266599e-05, 0.0002221026225015521, 0.0005071794730611145, 0.00030852764029987156, 0.0009480860317125916, 0.0016434231074526906, 0.013205382972955704, 0.011638537980616093, 0.005369739606976509, 0.00741468695923686, 0.06295742094516754, 0.0, 0.0, 0.0, 0.0, 0.0, 0.0, 0.0, 0.0, 0.0, 0.0, 0.0, 0.0, 0.0, 0.0, 0.0, 0.0, 0.0, 0.0], [0.8921949863433838, 0.0003226119442842901, 8.455747592961416e-05, 4.5781900553265586e-05, 0.00015642924699932337, 0.0010786199709400535, 0.0032437248155474663, 5.290669287205674e-05, 6.641665095230564e-05, 0.0004743414174299687, 0.0001904787204694003, 0.0005771025316789746, 0.000628799491096288, 4.373404590296559e-05, 0.003575151553377509, 3.0297933335532434e-05, 2.997795309056528e-05, 0.00021975145500618964, 0.0031521639320999384, 0.0036682854406535625, 0.0007025886443443596, 0.003785432782024145, 0.008867009542882442, 0.004461927805095911, 0.0017747688107192516, 0.008506915532052517, 0.02697133831679821, 0.035093821585178375, 0.0, 0.0, 0.0, 0.0, 0.0, 0.0, 0.0, 0.0, 0.0, 0.0, 0.0, 0.0, 0.0, 0.0, 0.0, 0.0, 0.0], [0.9847004413604736, 4.919857019558549e-05, 1.6004411008907482e-05, 9.901370503939688e-06, 1.9522305592545308e-05, 4.246222488291096e-06, 0.0014243595069274306, 9.999253052228596e-06, 3.730802200152539e-05, 8.546075696358457e-05, 2.8014486815663986e-05, 3.196872057742439e-05, 7.687342440476641e-05, 1.4232324247132055e-05, 0.00018021765572484583, 8.237021575041581e-06, 2.034087447100319e-05, 5.455089558381587e-05, 0.0007560122176073492, 4.866305607720278e-05, 0.0012413879157975316, 0.0010946281254291534, 0.0010333816753700376, 0.0005834965850226581, 0.0011199850123375654, 0.0005661535542458296, 0.002185241784900427, 0.0022926509846001863, 0.0023075153585523367, 0.0, 0.0, 0.0, 0.0, 0.0, 0.0, 0.0, 0.0, 0.0, 0.0, 0.0, 0.0, 0.0, 0.0, 0.0, 0.0], [0.8767793774604797, 0.0005480184336192906, 0.0006464413017965853, 4.7676890972070396e-05, 9.37018048716709e-05, 6.827159086242318e-05, 0.0006478719296865165, 0.02839195542037487, 0.007988052442669868, 0.017920155078172684, 0.0027042205911129713, 0.0005367157864384353, 0.0006568163516931236, 0.00043855898547917604, 0.0005568964406847954, 0.010924273170530796, 0.004950693342834711, 0.005139910615980625, 0.011886309832334518, 0.00043566824751906097, 0.0009876526892185211, 0.002910468028858304, 0.002072322415187955, 0.0007185325957834721, 0.002006087452173233, 0.0017733705462887883, 0.008087201043963432, 0.005888490006327629, 0.001117263687774539, 0.0030770483426749706, 0.0, 0.0, 0.0, 0.0, 0.0, 0.0, 0.0, 0.0, 0.0, 0.0, 0.0, 0.0, 0.0, 0.0, 0.0], [0.9011136889457703, 0.0003316967631690204, 0.0006640027277171612, 0.0002228230150649324, 0.000291698903311044, 0.00010909393313340843, 0.00045436518848873675, 0.0012431828072294593, 0.006974604446440935, 0.018843702971935272, 0.015209303237497807, 0.0013639479875564575, 0.0004594060010276735, 0.0001307270722463727, 0.00032863716478459537, 0.0005920221447013319, 0.005514962133020163, 0.008964336477220058, 0.024023430421948433, 0.000918659963645041, 0.0005286565865390003, 0.00036162539618089795, 0.0002263734204461798, 0.00030273772426880896, 0.001265472499653697, 0.00046355172526091337, 0.0014514665817841887, 0.00328637333586812, 0.0003018811403308064, 0.0008532259380444884, 0.0032042618840932846, 0.0, 0.0, 0.0, 0.0, 0.0, 0.0, 0.0, 0.0, 0.0, 0.0, 0.0, 0.0, 0.0, 0.0], [0.8911119699478149, 0.00020055468485224992, 0.0005585156031884253, 0.00010632369230734184, 3.8324669731082395e-05, 3.742167609743774e-05, 0.0005185879417695105, 9.282999963033944e-05, 0.0008335941238328815, 0.022186342626810074, 0.014738598838448524, 0.003975698724389076, 0.0005196027923375368, 8.445885760011151e-05, 0.0007289511268027127, 4.509780410444364e-05, 0.0006727052386850119, 0.006867252755910158, 0.03233474865555763, 0.004515162203460932, 0.000862425658851862, 0.0006983942585065961, 0.0002373073366470635, 0.00022999804059509188, 0.001900988630950451, 0.0010573019972071052, 0.000915183627512306, 0.0037848802749067545, 0.0011044549755752087, 0.0051679653115570545, 0.00018031710351351649, 0.003694024868309498, 0.0, 0.0, 0.0, 0.0, 0.0, 0.0, 0.0, 0.0, 0.0, 0.0, 0.0, 0.0, 0.0], [0.6915275454521179, 5.5120915931183845e-05, 0.0002559667336754501, 3.0931918445276096e-05, 1.5719380826340057e-05, 1.0578028195595834e-05, 0.00019187803263776004, 9.533663251204416e-05, 0.0020328331738710403, 0.011897554621100426, 0.03637446463108063, 0.0007432848215103149, 0.0005318637704476714, 0.00024398567620664835, 0.00039866811130195856, 0.00013183974078856409, 0.00355706550180912, 0.00871315784752369, 0.19371087849140167, 0.002120915800333023, 0.0017540811095386744, 0.0005099640693515539, 0.00037721300031989813, 0.00015205286035779864, 0.0009922980098053813, 0.0005519771948456764, 0.0008241175091825426, 0.003422770882025361, 0.0008749191183596849, 0.0018806684529408813, 0.000621528597548604, 0.009883036836981773, 0.0255158431828022, 0.0, 0.0, 0.0, 0.0, 0.0, 0.0, 0.0, 0.0, 0.0, 0.0, 0.0, 0.0], [0.9476278424263, 0.0011066889856010675, 0.0004497584013734013, 4.965093467035331e-05, 2.1318381186574697e-05, 9.078349103219807e-05, 0.0002967634063679725, 1.5668316336814314e-05, 0.00010573960753390566, 0.00031426624627783895, 6.833061343058944e-05, 0.030076541006565094, 0.0008108562906272709, 2.3839573259465396e-05, 0.0008521429845131934, 3.6489836929831654e-05, 0.00019398143922444433, 0.000574635632801801, 0.005053397733718157, 0.0006007938063703477, 0.0012054687831550837, 0.00037027179496362805, 0.00011219998123124242, 0.00043798392289318144, 0.0014232477406039834, 0.00030524434987455606, 0.00021996095892973244, 0.0008783900993876159, 0.0007666790043003857, 0.0007274897070601583, 6.543406198034063e-05, 4.951918890583329e-05, 0.0002694354916457087, 0.004799303598701954, 0.0, 0.0, 0.0, 0.0, 0.0, 0.0, 0.0, 0.0, 0.0, 0.0, 0.0], [0.47120943665504456, 0.0010706731118261814, 0.0021779504604637623, 0.00043936437577940524, 0.00013829380623064935, 8.641347812954336e-05, 0.0071571930311620235, 0.0004350029048509896, 0.00047246055328287184, 0.00046464757178910077, 0.00033082198933698237, 0.003736945101991296, 0.236740842461586, 0.009154974482953548, 0.031691089272499084, 0.005897334776818752, 0.008301237598061562, 0.005607898812741041, 0.11543002724647522, 0.021843688562512398, 0.010448715649545193, 0.002610007533803582, 0.0005061781266704202, 0.0009388064499944448, 0.01856147311627865, 0.0073031531646847725, 0.001251846901141107, 0.0007191470940597355, 0.0008114830707199872, 0.004159076604992151, 0.0001698105043033138, 0.00013572064926847816, 0.0001426495728082955, 0.005108073353767395, 0.02474752813577652, 0.0, 0.0, 0.0, 0.0, 0.0, 0.0, 0.0, 0.0, 0.0, 0.0], [0.7115479707717896, 0.0005627773934975266, 0.0010264700977131724, 0.0002103924343828112, 7.601117977173999e-05, 0.00011247403745073825, 0.0042634508572518826, 0.0005090421764180064, 0.0034844425972551107, 0.0008699558675289154, 0.00044641332351602614, 0.0005660236347466707, 0.01923476532101631, 0.005738402716815472, 0.034063007682561874, 0.000796774635091424, 0.007406163960695267, 0.00142462900839746, 0.032503195106983185, 0.01516484934836626, 0.01621796190738678, 0.008667663671076298, 0.004126276820898056, 0.00061366381123662, 0.02127557434141636, 0.02963891811668873, 0.018272869288921356, 0.01646297425031662, 0.004197872709482908, 0.005460306536406279, 0.007273080293089151, 0.0007776599959470332, 0.0007468042895197868, 0.011887122876942158, 0.004654569085687399, 0.009719429537653923, 0.0, 0.0, 0.0, 0.0, 0.0, 0.0, 0.0, 0.0, 0.0], [0.8896801471710205, 0.00028112487052567303, 0.0001326572964899242, 9.868289635051042e-05, 1.4551841559296008e-05, 2.5628893126850016e-05, 0.0015689384890720248, 4.058776903548278e-05, 0.0002536029205657542, 0.0001619241520529613, 2.3487753423978575e-05, 0.0005898872041143477, 0.002596084028482437, 9.7723699582275e-05, 0.018006540834903717, 0.0001060943613993004, 0.0004552529426291585, 0.0002918846148531884, 0.0018243466038256884, 0.009683088399469852, 0.0054921796545386314, 0.00996052473783493, 0.0019217245280742645, 0.0015698320930823684, 0.0043684495612978935, 0.019986553117632866, 0.008149285800755024, 0.005304164718836546, 0.0023458630312234163, 0.0020761978812515736, 0.0005995529354549944, 0.0001563800615258515, 0.0003010813961736858, 0.0024052434600889683, 0.005762551911175251, 0.0021142116747796535, 0.0015539819141849875, 0.0, 0.0, 0.0, 0.0, 0.0, 0.0, 0.0, 0.0], [0.9005391597747803, 8.05418603704311e-05, 2.9719092708546668e-05, 2.0234196199453436e-05, 1.045609860739205e-05, 7.866391570132691e-06, 0.0014991618227213621, 5.862588295713067e-06, 0.00025413045659661293, 0.000147057551657781, 7.476589235011488e-05, 0.00023856916232034564, 0.0014466019347310066, 0.0001849789114203304, 0.005225133616477251, 5.548620902118273e-05, 0.0007878445903770626, 0.00036964149330742657, 0.008670829236507416, 0.0004128157743252814, 0.012568097561597824, 0.003462750930339098, 0.000698082847520709, 0.00028586830012500286, 0.0036118794232606888, 0.0010558090871199965, 0.0009464765898883343, 0.0008021982503123581, 0.00014625879703089595, 0.027816493064165115, 0.0003853747621178627, 4.2589192162267864e-05, 0.0003203793603461236, 0.017178384587168694, 0.0023108485620468855, 0.0031465988140553236, 0.003474018769338727, 0.0016870750114321709, 0.0, 0.0, 0.0, 0.0, 0.0, 0.0, 0.0], [0.9429238438606262, 0.00017512265185359865, 5.9122696256963536e-05, 6.108150046202354e-06, 1.761308521963656e-05, 3.89706801797729e-05, 0.000970872410107404, 0.00020026582933496684, 0.0006826290627941489, 0.00025361936422996223, 4.488082413445227e-05, 0.00035375208244659007, 0.0011997777037322521, 0.0021283968817442656, 0.005535270553082228, 0.00035738578299060464, 0.0009969508973881602, 0.00032264553010463715, 0.0011115354718640447, 0.00041044020326808095, 0.0012361452681943774, 0.00028278553509153426, 0.0025487947277724743, 0.0007850743131712079, 0.0010860932525247335, 0.00021836454106960446, 0.0014801862416788936, 0.0014360350323840976, 0.0006606639362871647, 0.0044068340212106705, 0.0010338175343349576, 0.0008266076911240816, 0.00034702205448411405, 0.007784620858728886, 0.0021203700453042984, 0.003389837918803096, 0.002210111590102315, 0.004700273275375366, 0.0056572542525827885, 0.0, 0.0, 0.0, 0.0, 0.0, 0.0], [0.8814544677734375, 0.00037366148899309337, 1.3192185178922955e-05, 6.804621989431325e-06, 3.7109939512447454e-06, 1.96554738067789e-05, 0.0013717199908569455, 3.6825800634687766e-05, 8.582006557844579e-05, 0.00019255376537330449, 2.079614387184847e-05, 0.0002543353766668588, 0.00027588263037614524, 0.00010793915134854615, 0.010268565267324448, 3.387608376215212e-05, 7.138357614167035e-05, 0.00010669688344933093, 0.0008830883307382464, 0.0008527414756827056, 0.0009476717677898705, 0.00041457705083303154, 0.004537805449217558, 0.0005275721778161824, 0.0029757118318229914, 0.0021477004047483206, 0.0009952643886208534, 0.007993449456989765, 0.006188439205288887, 0.017235251143574715, 0.000367720756912604, 0.00028116648900322616, 0.001400996814481914, 0.006911571603268385, 0.002222796669229865, 0.0005797179182991385, 0.0006652367301285267, 0.010064677335321903, 0.0061850701458752155, 0.03092384710907936, 0.0, 0.0, 0.0, 0.0, 0.0], [0.1322234719991684, 0.0001445686793886125, 0.0003506732755340636, 2.2395577616407536e-05, 9.400442650076002e-06, 3.4552690522104967e-06, 0.00012914995022583753, 0.0011295850854367018, 0.0014363117516040802, 0.0048041073605418205, 0.0011135322274640203, 0.00037364501622505486, 0.002898725913837552, 0.0008088223403319716, 0.00034001810126937926, 0.015939991921186447, 0.048488132655620575, 0.07040701061487198, 0.6521145105361938, 0.008841926231980324, 0.0013612323673442006, 0.0007937874761410058, 0.00016575037443544716, 0.0004015187732875347, 0.001684497925452888, 0.0005619270377792418, 0.0004299032734706998, 0.00024433439830318093, 0.00020856877381447703, 0.00046239214134402573, 0.00020641960145439953, 0.0007776751881465316, 0.0009766933508217335, 0.021555189043283463, 0.0009127228404395282, 0.002644505351781845, 0.021707892417907715, 0.0004863996000494808, 0.0003111101104877889, 0.0023732492700219154, 0.00015475263353437185, 0.0, 0.0, 0.0, 0.0], [0.38570675253868103, 0.00022463020286522806, 0.0005092302453704178, 0.0002057854871964082, 0.00011320484918542206, 0.00011263722262810916, 0.0006933044060133398, 0.00018158236343879253, 0.004524225369095802, 0.011422272771596909, 0.002780674025416374, 0.0009456509724259377, 0.004980681464076042, 0.0004483286465983838, 0.0011287820525467396, 0.002616708166897297, 0.06438793241977692, 0.10265754163265228, 0.27423718571662903, 0.013880410231649876, 0.006942350417375565, 0.0018473974196240306, 0.000619985512457788, 0.0009252067538909614, 0.007019898388534784, 0.0021575300488620996, 0.0015498567372560501, 0.003173389006406069, 0.0015922189923003316, 0.0005241947947070003, 0.0002244202623842284, 0.004859621170908213, 0.0032357564195990562, 0.03645207732915878, 0.002930155023932457, 0.0065161241218447685, 0.030785121023654938, 0.003862564917653799, 0.0013360530138015747, 0.0015889880014583468, 0.0005697807646356523, 0.009529750794172287, 0.0, 0.0, 0.0], [0.16002221405506134, 0.00010793076944537461, 0.00031462067272514105, 0.00010561985254753381, 6.456781557062641e-05, 4.052123404107988e-05, 0.0006958284648135304, 1.855935261119157e-05, 0.00030458360561169684, 0.005959483329206705, 0.007450896315276623, 0.001686944393441081, 0.002352871000766754, 0.0002585194306448102, 0.000627760833594948, 0.00021392703638412058, 0.005379202775657177, 0.0473889596760273, 0.6745864152908325, 0.007978066802024841, 0.006457813549786806, 0.002346609951928258, 0.00025749337510205805, 0.0005103021976538002, 0.0040046172216534615, 0.0009082656470127404, 0.00040670932503417134, 0.0008882983820512891, 0.0012095393612980843, 0.0008416675264015794, 5.09815254190471e-05, 0.00021978603035677224, 0.0011438099900260568, 0.031183645129203796, 0.0017593911616131663, 0.0024993687402457, 0.01218121312558651, 0.0009432550868950784, 0.0009213804150931537, 0.000699295022059232, 0.0002448467130307108, 0.000619639758951962, 0.014144610613584518, 0.0, 0.0], [0.11169063299894333, 5.961475835647434e-05, 0.00030259171035140753, 5.870691893505864e-05, 1.85044773388654e-05, 1.0375677447882481e-05, 0.0002837466890923679, 9.803522516449448e-06, 0.00019952385628130287, 0.00198990385979414, 0.010006294585764408, 0.001177693367935717, 0.0013731559738516808, 0.00015929760411381721, 0.0003240492078475654, 0.0001142879409599118, 0.0025042900815606117, 0.011957033537328243, 0.7566553950309753, 0.010372275486588478, 0.008888455107808113, 0.0005214497214183211, 0.00013638148084282875, 0.00021277683845255524, 0.002621519146487117, 0.0005011568428017199, 0.00018715363694354892, 0.00022614751651417464, 0.0005249775131233037, 0.0002634132106322795, 2.1434598238556646e-05, 5.5791835620766506e-05, 0.0003912807733286172, 0.02829703502357006, 0.001757145975716412, 0.0018275260226801038, 0.006876952946186066, 0.0005702779162675142, 0.0004270813660696149, 0.00026488109142519534, 0.0001302989257965237, 0.00034448833321221173, 0.006159037351608276, 0.029526107013225555, 0.0], [0.9206538200378418, 0.0001784024207154289, 0.00010905603994615376, 4.2019393731607124e-05, 5.724515358451754e-05, 0.00011057468509534374, 0.002690180204808712, 6.794417004130082e-06, 0.00014321126218419522, 9.129630780080333e-05, 0.00015595150762237608, 8.055219223024324e-05, 0.0012297129724174738, 4.9715108616510406e-05, 0.0013730035861954093, 8.889472155715339e-06, 8.903255366021767e-05, 5.062656055088155e-05, 0.0005614379770122468, 0.020775150507688522, 0.006280397064983845, 0.009690039791166782, 0.0016658925451338291, 0.0004007905663456768, 0.00046144239604473114, 0.006178009789437056, 0.003983967937529087, 0.0010470503475517035, 0.0016263030702248216, 0.0014994649682193995, 0.00011842302774311975, 2.7562695322558284e-05, 9.19607700780034e-05, 0.0034001453313976526, 0.0003613936132751405, 0.0005947348545305431, 0.0007805294590070844, 0.0029196436516940594, 0.0028408763464540243, 0.0018084333278238773, 0.0006891469238325953, 2.6616215109243058e-05, 0.00012988524395041168, 9.214354940922931e-05, 0.004828425589948893]], [[1.0, 0.0, 0.0, 0.0, 0.0, 0.0, 0.0, 0.0, 0.0, 0.0, 0.0, 0.0, 0.0, 0.0, 0.0, 0.0, 0.0, 0.0, 0.0, 0.0, 0.0, 0.0, 0.0, 0.0, 0.0, 0.0, 0.0, 0.0, 0.0, 0.0, 0.0, 0.0, 0.0, 0.0, 0.0, 0.0, 0.0, 0.0, 0.0, 0.0, 0.0, 0.0, 0.0, 0.0, 0.0], [0.999674916267395, 0.00032507925061509013, 0.0, 0.0, 0.0, 0.0, 0.0, 0.0, 0.0, 0.0, 0.0, 0.0, 0.0, 0.0, 0.0, 0.0, 0.0, 0.0, 0.0, 0.0, 0.0, 0.0, 0.0, 0.0, 0.0, 0.0, 0.0, 0.0, 0.0, 0.0, 0.0, 0.0, 0.0, 0.0, 0.0, 0.0, 0.0, 0.0, 0.0, 0.0, 0.0, 0.0, 0.0, 0.0, 0.0], [0.9997503161430359, 0.00010610950266709551, 0.0001435853191651404, 0.0, 0.0, 0.0, 0.0, 0.0, 0.0, 0.0, 0.0, 0.0, 0.0, 0.0, 0.0, 0.0, 0.0, 0.0, 0.0, 0.0, 0.0, 0.0, 0.0, 0.0, 0.0, 0.0, 0.0, 0.0, 0.0, 0.0, 0.0, 0.0, 0.0, 0.0, 0.0, 0.0, 0.0, 0.0, 0.0, 0.0, 0.0, 0.0, 0.0, 0.0, 0.0], [0.997833788394928, 7.656006346223876e-05, 8.380977669730783e-05, 0.0020058047957718372, 0.0, 0.0, 0.0, 0.0, 0.0, 0.0, 0.0, 0.0, 0.0, 0.0, 0.0, 0.0, 0.0, 0.0, 0.0, 0.0, 0.0, 0.0, 0.0, 0.0, 0.0, 0.0, 0.0, 0.0, 0.0, 0.0, 0.0, 0.0, 0.0, 0.0, 0.0, 0.0, 0.0, 0.0, 0.0, 0.0, 0.0, 0.0, 0.0, 0.0, 0.0], [0.9986279010772705, 4.144915146753192e-05, 4.06753451898112e-06, 8.439191879006103e-05, 0.0012422329746186733, 0.0, 0.0, 0.0, 0.0, 0.0, 0.0, 0.0, 0.0, 0.0, 0.0, 0.0, 0.0, 0.0, 0.0, 0.0, 0.0, 0.0, 0.0, 0.0, 0.0, 0.0, 0.0, 0.0, 0.0, 0.0, 0.0, 0.0, 0.0, 0.0, 0.0, 0.0, 0.0, 0.0, 0.0, 0.0, 0.0, 0.0, 0.0, 0.0, 0.0], [0.9989545345306396, 0.00020131994097027928, 5.149856292518962e-07, 3.0404593417188153e-05, 0.00021828306489624083, 0.000594971003010869, 0.0, 0.0, 0.0, 0.0, 0.0, 0.0, 0.0, 0.0, 0.0, 0.0, 0.0, 0.0, 0.0, 0.0, 0.0, 0.0, 0.0, 0.0, 0.0, 0.0, 0.0, 0.0, 0.0, 0.0, 0.0, 0.0, 0.0, 0.0, 0.0, 0.0, 0.0, 0.0, 0.0, 0.0, 0.0, 0.0, 0.0, 0.0, 0.0], [0.9992412328720093, 1.786282518878579e-05, 3.2930470297287684e-06, 2.2412855287257116e-06, 5.651464789480087e-07, 1.2674554454861209e-05, 0.0007221964769996703, 0.0, 0.0, 0.0, 0.0, 0.0, 0.0, 0.0, 0.0, 0.0, 0.0, 0.0, 0.0, 0.0, 0.0, 0.0, 0.0, 0.0, 0.0, 0.0, 0.0, 0.0, 0.0, 0.0, 0.0, 0.0, 0.0, 0.0, 0.0, 0.0, 0.0, 0.0, 0.0, 0.0, 0.0, 0.0, 0.0, 0.0, 0.0], [0.9995482563972473, 7.448621545336209e-06, 6.898748794448295e-10, 1.107467095806669e-08, 6.854455891769362e-10, 3.9948173480297555e-07, 8.581674774177372e-05, 0.0003580772317945957, 0.0, 0.0, 0.0, 0.0, 0.0, 0.0, 0.0, 0.0, 0.0, 0.0, 0.0, 0.0, 0.0, 0.0, 0.0, 0.0, 0.0, 0.0, 0.0, 0.0, 0.0, 0.0, 0.0, 0.0, 0.0, 0.0, 0.0, 0.0, 0.0, 0.0, 0.0, 0.0, 0.0, 0.0, 0.0, 0.0, 0.0], [0.9990894794464111, 2.445884547341848e-06, 2.4276050614169264e-10, 8.388274963522235e-09, 4.276865528396456e-09, 3.203973051313369e-07, 9.612034045858309e-05, 9.808004408640159e-10, 0.0008116867393255234, 0.0, 0.0, 0.0, 0.0, 0.0, 0.0, 0.0, 0.0, 0.0, 0.0, 0.0, 0.0, 0.0, 0.0, 0.0, 0.0, 0.0, 0.0, 0.0, 0.0, 0.0, 0.0, 0.0, 0.0, 0.0, 0.0, 0.0, 0.0, 0.0, 0.0, 0.0, 0.0, 0.0, 0.0, 0.0, 0.0], [0.9972134232521057, 1.3911009943967656e-07, 2.890055209037179e-11, 2.113589081531586e-09, 6.8642966866150346e-09, 1.2474279387220122e-09, 2.9005619580857456e-05, 7.455096110754733e-15, 2.7470687768982316e-07, 0.0027571753598749638, 0.0, 0.0, 0.0, 0.0, 0.0, 0.0, 0.0, 0.0, 0.0, 0.0, 0.0, 0.0, 0.0, 0.0, 0.0, 0.0, 0.0, 0.0, 0.0, 0.0, 0.0, 0.0, 0.0, 0.0, 0.0, 0.0, 0.0, 0.0, 0.0, 0.0, 0.0, 0.0, 0.0, 0.0, 0.0], [0.9984669089317322, 3.854957685689442e-05, 5.763209173892392e-06, 2.0102429516555276e-06, 1.1345385246386286e-05, 5.6858290520267474e-08, 0.0009646424441598356, 3.727168851330731e-10, 1.5747436066249065e-07, 2.6209972929791547e-05, 0.0004844087525270879, 0.0, 0.0, 0.0, 0.0, 0.0, 0.0, 0.0, 0.0, 0.0, 0.0, 0.0, 0.0, 0.0, 0.0, 0.0, 0.0, 0.0, 0.0, 0.0, 0.0, 0.0, 0.0, 0.0, 0.0, 0.0, 0.0, 0.0, 0.0, 0.0, 0.0, 0.0, 0.0, 0.0, 0.0], [0.9963324666023254, 5.6105887779267505e-05, 5.505699846253265e-06, 4.791289711647551e-07, 6.369992888721754e-07, 8.29731092721886e-08, 0.002103153383359313, 5.2620141133274956e-08, 6.115974429121707e-07, 1.7047470919351326e-06, 8.671372029311897e-07, 0.001498403144069016, 0.0, 0.0, 0.0, 0.0, 0.0, 0.0, 0.0, 0.0, 0.0, 0.0, 0.0, 0.0, 0.0, 0.0, 0.0, 0.0, 0.0, 0.0, 0.0, 0.0, 0.0, 0.0, 0.0, 0.0, 0.0, 0.0, 0.0, 0.0, 0.0, 0.0, 0.0, 0.0, 0.0], [0.9915758967399597, 3.123978603980504e-05, 7.936484507808927e-06, 3.5003549214707164e-07, 5.115107796882512e-06, 2.140362084901426e-06, 0.0003248158609494567, 3.481875054944794e-08, 2.4734051748964703e-06, 8.58737803355325e-06, 8.419720529673214e-07, 0.00018218364857602865, 0.007858393713831902, 0.0, 0.0, 0.0, 0.0, 0.0, 0.0, 0.0, 0.0, 0.0, 0.0, 0.0, 0.0, 0.0, 0.0, 0.0, 0.0, 0.0, 0.0, 0.0, 0.0, 0.0, 0.0, 0.0, 0.0, 0.0, 0.0, 0.0, 0.0, 0.0, 0.0, 0.0, 0.0], [0.9988653659820557, 6.611178378079785e-06, 4.080043858323279e-09, 1.8457642525504525e-08, 2.107132957007707e-08, 6.066766786716471e-07, 0.00031586509430781007, 1.1506216986145734e-11, 1.42205649922289e-07, 1.4194685604707047e-07, 8.532053286103292e-09, 7.04321610101033e-06, 0.00022084357624407858, 0.0005833849427290261, 0.0, 0.0, 0.0, 0.0, 0.0, 0.0, 0.0, 0.0, 0.0, 0.0, 0.0, 0.0, 0.0, 0.0, 0.0, 0.0, 0.0, 0.0, 0.0, 0.0, 0.0, 0.0, 0.0, 0.0, 0.0, 0.0, 0.0, 0.0, 0.0, 0.0, 0.0], [0.7776654362678528, 2.8951873900950886e-05, 8.073128810792696e-06, 7.313066134884139e-07, 1.7226565773853508e-07, 6.039920776856889e-07, 0.0001554210321046412, 0.21911309659481049, 0.002785726450383663, 3.937685505661648e-06, 1.4076112719862977e-08, 6.502475571323885e-06, 4.1836912714643404e-05, 2.1237348846625537e-05, 0.00016832577239256352, 0.0, 0.0, 0.0, 0.0, 0.0, 0.0, 0.0, 0.0, 0.0, 0.0, 0.0, 0.0, 0.0, 0.0, 0.0, 0.0, 0.0, 0.0, 0.0, 0.0, 0.0, 0.0, 0.0, 0.0, 0.0, 0.0, 0.0, 0.0, 0.0, 0.0], [0.2806583642959595, 2.664511339389719e-05, 6.27645277972988e-08, 2.1369845626395545e-07, 1.1754524464890892e-08, 6.367979494825704e-07, 9.714511543279514e-05, 0.0005541537539102137, 0.716519832611084, 0.000489965605083853, 3.705413931243129e-08, 5.287849489832297e-06, 9.002568504001829e-07, 3.1279761003588646e-08, 2.975643837999087e-06, 0.0016436900477856398, 0.0, 0.0, 0.0, 0.0, 0.0, 0.0, 0.0, 0.0, 0.0, 0.0, 0.0, 0.0, 0.0, 0.0, 0.0, 0.0, 0.0, 0.0, 0.0, 0.0, 0.0, 0.0, 0.0, 0.0, 0.0, 0.0, 0.0, 0.0, 0.0], [0.061665128916502, 6.460130407504039e-06, 3.924456137838206e-08, 9.445468407420776e-08, 1.9375843152147354e-08, 2.550215754126839e-07, 4.153094414505176e-05, 1.8133205159642785e-08, 0.0010428280802443624, 0.9330260753631592, 2.0757302991114557e-05, 4.3665328121278435e-05, 1.8126722807210172e-06, 7.618353379257314e-07, 6.214809673110722e-06, 7.793723284521548e-07, 0.00414356030523777, 0.0, 0.0, 0.0, 0.0, 0.0, 0.0, 0.0, 0.0, 0.0, 0.0, 0.0, 0.0, 0.0, 0.0, 0.0, 0.0, 0.0, 0.0, 0.0, 0.0, 0.0, 0.0, 0.0, 0.0, 0.0, 0.0, 0.0, 0.0], [0.8465122580528259, 8.94157710717991e-06, 4.678087961451638e-08, 1.7822327436078922e-07, 3.9670797491453413e-07, 1.4987985963443862e-08, 0.0002615173580124974, 9.57699544668067e-12, 1.4764284969714936e-05, 0.02169521525502205, 0.05280904471874237, 0.0010772098321467638, 1.1073129826399963e-06, 3.114154424110893e-06, 5.067833171779057e-06, 1.2712056962627116e-09, 3.834022572846152e-05, 0.07757288217544556, 0.0, 0.0, 0.0, 0.0, 0.0, 0.0, 0.0, 0.0, 0.0, 0.0, 0.0, 0.0, 0.0, 0.0, 0.0, 0.0, 0.0, 0.0, 0.0, 0.0, 0.0, 0.0, 0.0, 0.0, 0.0, 0.0, 0.0], [0.991230845451355, 0.00012835199595429003, 2.7910351718674065e-07, 5.193657059976431e-08, 1.9746778434637235e-07, 6.707871591515868e-09, 0.0001542971731396392, 8.269819828932157e-10, 2.086306267301552e-05, 2.575914913904853e-05, 4.458968760445714e-05, 0.0007089950959198177, 0.00014637513959314674, 1.3944540114607662e-05, 0.00037795567186549306, 9.428097769159649e-08, 0.00011241331230849028, 0.0005249736714176834, 0.006510080303996801, 0.0, 0.0, 0.0, 0.0, 0.0, 0.0, 0.0, 0.0, 0.0, 0.0, 0.0, 0.0, 0.0, 0.0, 0.0, 0.0, 0.0, 0.0, 0.0, 0.0, 0.0, 0.0, 0.0, 0.0, 0.0, 0.0], [0.9917615652084351, 6.624252273468301e-05, 1.2709772079233517e-07, 1.1048818748804479e-08, 1.7760032733349362e-07, 6.621222459202158e-10, 0.00013060375931672752, 1.2736185439621295e-09, 4.454916961549316e-06, 2.1572873265540693e-08, 6.107699732638139e-07, 7.447363168466836e-05, 8.73764838615898e-06, 6.800439678045223e-07, 6.60292716929689e-05, 3.592725050793888e-08, 8.761253411648795e-06, 6.891884254400793e-07, 0.00042802683310583234, 0.007448781281709671, 0.0, 0.0, 0.0, 0.0, 0.0, 0.0, 0.0, 0.0, 0.0, 0.0, 0.0, 0.0, 0.0, 0.0, 0.0, 0.0, 0.0, 0.0, 0.0, 0.0, 0.0, 0.0, 0.0, 0.0, 0.0], [0.9956188797950745, 3.109421959379688e-05, 6.221863202426903e-08, 1.776552807086773e-07, 5.221693299972685e-07, 1.4323951802452939e-08, 0.0006147524109110236, 1.3751242811110842e-08, 3.199530692654662e-05, 2.799181686441443e-08, 9.786087673546717e-08, 1.0658163773769047e-05, 8.07306423666887e-06, 1.94646318618652e-07, 3.1670992029830813e-05, 1.0829980112703197e-07, 1.5198313121800311e-05, 2.546277642068162e-07, 1.0622160516504664e-05, 0.001016212161630392, 0.002609256422147155, 0.0, 0.0, 0.0, 0.0, 0.0, 0.0, 0.0, 0.0, 0.0, 0.0, 0.0, 0.0, 0.0, 0.0, 0.0, 0.0, 0.0, 0.0, 0.0, 0.0, 0.0, 0.0, 0.0, 0.0], [0.997895359992981, 0.0001018471157294698, 2.19560297409771e-06, 7.59927161197993e-07, 1.5095994967850856e-05, 0.001029469189234078, 0.0003096476721111685, 4.060159710661537e-07, 0.00019171458552591503, 8.222881660913117e-06, 8.158439612770962e-08, 1.9491908460622653e-06, 2.577743089204887e-06, 9.301117643190082e-06, 7.968951831571758e-05, 3.6966906691304757e-07, 4.5241038606036454e-05, 7.5892594395554624e-06, 1.9546785097190877e-06, 3.803027357207611e-05, 2.3394995878334157e-06, 0.0002562444133218378, 0.0, 0.0, 0.0, 0.0, 0.0, 0.0, 0.0, 0.0, 0.0, 0.0, 0.0, 0.0, 0.0, 0.0, 0.0, 0.0, 0.0, 0.0, 0.0, 0.0, 0.0, 0.0, 0.0], [0.9985710382461548, 4.052213625982404e-05, 5.598756160907215e-07, 3.87678262825375e-08, 7.008480196191158e-08, 7.987534445419442e-06, 0.0002960674755740911, 8.251021768046485e-07, 2.5346087568323128e-05, 3.5263349218439544e-06, 3.33731371426893e-08, 2.5744382128323196e-06, 2.734711870289175e-07, 5.714792337130348e-07, 1.4563711374648847e-05, 8.760296168475179e-07, 1.2235253961989656e-05, 8.134114068525378e-06, 1.2337726502664736e-06, 3.055655952266534e-06, 7.695655313000316e-07, 4.863027243118268e-07, 0.0010091799777001143, 0.0, 0.0, 0.0, 0.0, 0.0, 0.0, 0.0, 0.0, 0.0, 0.0, 0.0, 0.0, 0.0, 0.0, 0.0, 0.0, 0.0, 0.0, 0.0, 0.0, 0.0, 0.0], [0.998468816280365, 0.00012961242464371026, 1.793260366866889e-07, 1.2038088925692136e-06, 9.311171993431344e-07, 9.014362234438522e-08, 0.0004687779874075204, 9.320856086958429e-09, 2.991878545799409e-06, 1.6485074638694641e-06, 1.0576089692904134e-07, 0.0004517878114711493, 1.1763612519644084e-06, 1.7469497493038944e-07, 1.8169424947700463e-05, 5.465276586846812e-08, 7.053524768707575e-06, 8.956495548773091e-06, 1.3231036973593291e-05, 7.162924475778709e-07, 6.502974429167807e-05, 2.470157767220371e-07, 2.153892637579702e-06, 0.00035687891067937016, 0.0, 0.0, 0.0, 0.0, 0.0, 0.0, 0.0, 0.0, 0.0, 0.0, 0.0, 0.0, 0.0, 0.0, 0.0, 0.0, 0.0, 0.0, 0.0, 0.0, 0.0], [0.9991982579231262, 4.052485746797174e-05, 1.4044523322098712e-09, 4.299817391029137e-09, 1.1917148867723881e-07, 7.401861346068017e-10, 3.225098771508783e-05, 5.417954496503286e-13, 3.318429531162792e-09, 5.854598139620748e-09, 4.705943634775167e-09, 4.03296944568865e-05, 6.065724846848752e-06, 2.83447320725827e-07, 2.8208187359268777e-06, 2.7128254503905325e-11, 1.0030265507054992e-08, 3.79468616529266e-08, 1.5511684523517033e-06, 1.933907151396852e-05, 1.7769478290574625e-05, 0.00017155484238173813, 1.4490228750219103e-06, 7.775223309636203e-08, 0.00046756971278227866, 0.0, 0.0, 0.0, 0.0, 0.0, 0.0, 0.0, 0.0, 0.0, 0.0, 0.0, 0.0, 0.0, 0.0, 0.0, 0.0, 0.0, 0.0, 0.0, 0.0], [0.9989262223243713, 3.729425952769816e-05, 5.1945914236739554e-09, 1.4320277186286035e-09, 1.6716114259907044e-05, 3.197925813047675e-10, 3.915013621735852e-06, 1.4689848458742522e-13, 1.061572843519265e-10, 8.845985055572214e-11, 2.447005653660739e-10, 1.0737055617937585e-06, 8.528266448593058e-08, 6.033715749254043e-07, 6.26383354074278e-08, 2.8109290069189274e-12, 1.629441859218872e-10, 6.186377521366637e-10, 8.478749435880673e-08, 1.5447909618160338e-07, 9.452817266719649e-07, 6.090310307627078e-06, 3.2635679758641345e-07, 6.088948012461515e-09, 1.2814733054256067e-05, 0.0009934997651726007, 0.0, 0.0, 0.0, 0.0, 0.0, 0.0, 0.0, 0.0, 0.0, 0.0, 0.0, 0.0, 0.0, 0.0, 0.0, 0.0, 0.0, 0.0, 0.0], [0.99748295545578, 1.2146949302405119e-05, 4.171845979783484e-09, 4.2004701938935796e-09, 4.969289193468285e-07, 1.2274145433366357e-07, 7.775871381454635e-06, 1.1478129644665325e-12, 1.2295108930970855e-08, 1.8805553736456204e-06, 1.9919511373700516e-08, 2.305981979588978e-06, 3.4042197967210086e-06, 8.24697326606838e-06, 1.468178288632771e-05, 5.133733715911859e-11, 1.4271747339478225e-08, 1.116364046538365e-06, 9.395695997227449e-06, 2.1769797342585662e-07, 5.006716605748807e-07, 9.968692893380648e-07, 4.580529093800578e-06, 7.576853278123963e-08, 1.6111780496430583e-05, 3.0144317861413583e-05, 0.0024027086328715086, 0.0, 0.0, 0.0, 0.0, 0.0, 0.0, 0.0, 0.0, 0.0, 0.0, 0.0, 0.0, 0.0, 0.0, 0.0, 0.0, 0.0, 0.0], [0.9983609318733215, 1.799065103114117e-05, 1.2466619958573233e-09, 3.1803859545931346e-09, 2.5255333824247828e-08, 4.007098368674633e-07, 2.3502147087128833e-05, 8.840401501120088e-12, 2.5102744327654136e-09, 5.300747147884977e-07, 2.7570566274448538e-08, 6.6344673541607335e-06, 5.168618827156024e-06, 6.488114223657249e-08, 3.6791727325180545e-05, 5.453851259495934e-10, 9.155708191599388e-09, 1.4111121799942339e-06, 1.7511245459900238e-05, 5.213403824200213e-07, 1.2991277742457896e-07, 6.096033189351147e-07, 5.547506702896499e-07, 2.1446110665124252e-08, 2.320224666618742e-06, 2.089500185320503e-06, 1.1128701771667693e-05, 0.0015115466667339206, 0.0, 0.0, 0.0, 0.0, 0.0, 0.0, 0.0, 0.0, 0.0, 0.0, 0.0, 0.0, 0.0, 0.0, 0.0, 0.0, 0.0], [0.9995813965797424, 4.7391826228704304e-05, 3.994040653765296e-10, 1.0894225521695944e-09, 1.655219605822822e-08, 5.143202530533131e-10, 0.00024034180387388915, 1.4699413561358732e-11, 3.061760400768776e-09, 1.621013323571674e-09, 4.684672094690256e-10, 1.2100425692551653e-06, 1.4949798696761718e-06, 1.8344503693867864e-09, 7.517392532463418e-06, 1.7445610234201325e-10, 1.8140781099518222e-09, 6.1797376105232615e-09, 1.0884220955631463e-06, 8.895955083687568e-09, 3.7109119148226455e-05, 2.6069233172165696e-06, 4.7500527955435246e-08, 1.0454118681835212e-09, 1.3925664461567067e-05, 1.0416470530572042e-07, 1.1008882211172022e-05, 4.211481609672774e-06, 5.046969818067737e-05, 0.0, 0.0, 0.0, 0.0, 0.0, 0.0, 0.0, 0.0, 0.0, 0.0, 0.0, 0.0, 0.0, 0.0, 0.0, 0.0], [0.9997379183769226, 2.6183241061517037e-05, 1.4158837435829241e-09, 1.917646264004702e-09, 3.684105909229629e-09, 2.4764412742683817e-09, 5.327327016857453e-06, 2.828136018706573e-07, 1.7773376725926937e-07, 1.7401587948384645e-09, 2.2115873021810728e-10, 4.2352559148639557e-07, 1.279731350223301e-05, 5.190692604628566e-07, 5.965164859844663e-07, 4.146641856550559e-07, 1.6684620618434565e-07, 4.499214334430235e-09, 6.841626714049198e-07, 6.1239693316395005e-09, 8.811394991425914e-07, 2.0263502165107639e-07, 4.49262017809815e-07, 9.252765664768958e-09, 2.6294403596693883e-06, 6.337095737052323e-09, 1.5009163689683191e-07, 1.4036633046998759e-06, 9.78361036629849e-09, 0.00020874114125035703, 0.0, 0.0, 0.0, 0.0, 0.0, 0.0, 0.0, 0.0, 0.0, 0.0, 0.0, 0.0, 0.0, 0.0, 0.0], [0.9995415210723877, 2.4295097773574525e-06, 2.7094647706005226e-11, 7.867693718743851e-10, 1.0070358436031768e-10, 6.533728558189011e-10, 2.3070845145412022e-07, 1.1499241142631789e-10, 5.692201057172497e-07, 3.28704970797844e-07, 5.402680525179449e-10, 1.2749171673931414e-07, 1.0015212410507957e-06, 9.246419097053149e-08, 1.6040806372075167e-07, 3.755018518347697e-10, 3.1143548540057964e-07, 2.9848206395399757e-07, 8.875999810697976e-07, 6.228112248152229e-09, 5.342928321994123e-09, 3.7711320177713503e-10, 1.007440264544357e-08, 2.0559927094154773e-09, 2.823557565534429e-07, 1.907677835144561e-11, 3.6133640524127486e-10, 4.797814199264394e-07, 7.256302780866974e-10, 2.1705486119572015e-07, 0.0004510903381742537, 0.0, 0.0, 0.0, 0.0, 0.0, 0.0, 0.0, 0.0, 0.0, 0.0, 0.0, 0.0, 0.0, 0.0], [0.9989080429077148, 1.4628827557316981e-05, 1.16456830290268e-10, 3.933146253132236e-09, 1.0744376222060481e-10, 2.6901883498631207e-11, 1.8811348354574875e-06, 3.2223610884924304e-16, 9.576212045558918e-10, 4.827204520552186e-06, 3.8448519035227946e-08, 1.0927496987278573e-05, 1.2617231277545216e-06, 2.1223885937615705e-07, 2.089895588142099e-06, 2.8138895293711164e-14, 3.3507885355277267e-09, 4.336613073974149e-06, 2.5787418053369038e-05, 3.168515760876289e-08, 2.083503503058637e-08, 3.62437746481703e-10, 6.28473939556784e-10, 8.263055795154628e-10, 7.507945156248752e-06, 9.614370410915285e-10, 6.4092353646572064e-09, 9.674565717432415e-07, 4.6668283459894155e-08, 1.2245209290995263e-05, 1.3462043035872284e-08, 0.0010051964782178402, 0.0, 0.0, 0.0, 0.0, 0.0, 0.0, 0.0, 0.0, 0.0, 0.0, 0.0, 0.0, 0.0], [0.9984656572341919, 2.6823163352673873e-06, 1.2185445708023934e-10, 2.768509865802571e-10, 1.1256204301979267e-10, 4.519655049523008e-12, 7.617884421051713e-07, 8.513335876373946e-15, 4.713574419668021e-09, 3.8764676446589874e-07, 5.544970008486416e-06, 6.827667220932199e-06, 1.3822551636621938e-07, 3.273773430123583e-08, 2.695014984510635e-07, 7.941351569396016e-13, 1.3925177455575977e-08, 8.95457503702346e-07, 0.0011699903989210725, 1.0562615671005915e-06, 5.187326678424142e-05, 3.769721601543097e-08, 1.1861814863678433e-09, 6.515604500378913e-09, 1.541801066196058e-05, 2.6545863285321047e-09, 1.0719062082387154e-08, 6.973185122660652e-07, 3.675961224303137e-08, 2.208424666605424e-05, 3.5691536393045453e-09, 1.3730897990171798e-05, 0.00024181875050999224, 0.0, 0.0, 0.0, 0.0, 0.0, 0.0, 0.0, 0.0, 0.0, 0.0, 0.0, 0.0], [0.992768406867981, 0.00023417873308062553, 9.762044101080392e-06, 9.441502584195405e-07, 8.512361091561615e-07, 6.116337214479017e-09, 5.810149377794005e-05, 1.4965867434213465e-10, 2.620665497943264e-07, 8.68703136802651e-06, 1.4379091908267583e-06, 0.005105277057737112, 3.143422873108648e-05, 1.4426670986722456e-06, 4.015701051685028e-05, 2.1112394055222694e-09, 5.432677880889969e-07, 2.198002221120987e-05, 0.0003714279446285218, 7.507309419452213e-06, 0.00019154822803102434, 4.3362601331864425e-07, 2.0483540197346883e-08, 4.7972463335099746e-08, 0.00030520360451191664, 3.397025523099728e-07, 3.727639750650269e-06, 2.1723119061789475e-05, 8.641103477202705e-07, 0.00016457011224702, 4.62617322227743e-08, 1.9574874841055134e-06, 0.0001496109034633264, 0.0004975462798029184, 0.0, 0.0, 0.0, 0.0, 0.0, 0.0, 0.0, 0.0, 0.0, 0.0, 0.0], [0.5640981197357178, 0.0003724588605109602, 1.3962086995888967e-05, 4.5202654064269154e-07, 2.496651632100111e-07, 3.247274449336146e-08, 0.0008903589332476258, 1.6549904557905393e-08, 1.0954770459647989e-06, 1.1131369319627993e-06, 7.323703243855562e-08, 0.0002857759827747941, 0.4191543757915497, 0.0023962727282196283, 0.009810063987970352, 1.6951264569797786e-06, 2.2834568881080486e-05, 1.6863092241692357e-05, 0.0006563023198395967, 4.8933510697679594e-05, 4.5724285882897675e-05, 8.444771083304659e-06, 2.1642406409227988e-06, 8.387187904190796e-07, 0.0002737884933594614, 4.60392220702488e-06, 6.342811047943542e-06, 2.8083890356356278e-05, 1.139510345637973e-06, 0.00016735366079956293, 3.4203472409899405e-07, 1.3181692111174925e-06, 1.628198333492037e-06, 2.887191612899187e-06, 0.0016843725461512804, 0.0, 0.0, 0.0, 0.0, 0.0, 0.0, 0.0, 0.0, 0.0, 0.0], [0.9767473340034485, 0.0002155965776182711, 5.9514866734389216e-05, 1.534290163363039e-06, 1.0167233313040924e-06, 2.87067024373755e-07, 0.00010334182297810912, 8.276511493932048e-07, 1.7209826182806864e-05, 4.478534719964955e-06, 2.086191699390838e-07, 0.00012205859820824116, 0.006781392730772495, 0.0034565215464681387, 0.0021013012155890465, 1.932393388415221e-05, 0.0003887335187755525, 0.00013273074000608176, 0.005431957542896271, 9.229013812728226e-05, 0.0008085161098279059, 4.317014827392995e-06, 1.692211844783742e-05, 1.2445701713659219e-07, 0.0003294353373348713, 4.1485949964226165e-07, 1.347947727481369e-05, 7.637531962245703e-05, 1.0991533372362028e-06, 7.48688107705675e-05, 1.3432201740215532e-05, 8.853767212713137e-06, 2.051869842034648e-06, 3.4045024221995845e-05, 0.0008028732263483107, 0.0021354223135858774, 0.0, 0.0, 0.0, 0.0, 0.0, 0.0, 0.0, 0.0, 0.0], [0.9912749528884888, 0.0006348834140226245, 4.739520989005541e-07, 4.717330455150659e-07, 1.2371977220482222e-07, 1.170724246435384e-07, 6.247100100154057e-05, 2.2393899234973702e-10, 1.0797319305311248e-07, 1.2365065060748748e-07, 4.281003995743049e-09, 3.6172583349980414e-05, 0.0010086982510983944, 1.971851588677964e-06, 0.001944420626387, 1.7864415724488936e-08, 1.2015869970127824e-06, 2.273172185596195e-06, 4.5206976210465655e-05, 0.00018222357903141528, 0.00017723198106978089, 3.293802365078591e-05, 1.8062779645333649e-06, 2.2233780327951536e-07, 3.297419971204363e-05, 2.101984864566475e-05, 4.5926593884360045e-05, 1.2733434232359286e-05, 4.091261416760972e-06, 0.0001522401289548725, 4.940284270560369e-07, 3.51581064705897e-07, 4.3221996747888625e-05, 8.618099855084438e-06, 0.0006511813262477517, 0.0008871348691172898, 0.002731830347329378, 0.0, 0.0, 0.0, 0.0, 0.0, 0.0, 0.0, 0.0], [0.9934819340705872, 4.220276605337858e-05, 2.721955327800174e-09, 4.764895589204343e-09, 8.996715372688868e-09, 2.2925698839326714e-10, 8.079908002400771e-05, 1.2257153625405692e-11, 8.633164405580374e-09, 3.2827460194617686e-10, 1.0050477117218293e-10, 4.564166829368332e-06, 5.432988473330624e-06, 2.081966155031978e-09, 7.418671157211065e-05, 1.3266434617520417e-09, 4.67842617979386e-08, 1.4454632157878677e-08, 5.436876108433353e-06, 1.2947543837071862e-07, 0.001470792805776, 3.4258305277035106e-06, 1.24236976262182e-08, 1.0601807209908998e-09, 2.9011400329181924e-05, 3.4207864985091874e-08, 6.617693202315422e-07, 4.516247997798928e-08, 2.239830987349478e-09, 0.004408637061715126, 1.620430651882998e-07, 3.8104933097748983e-10, 5.29227179413283e-07, 4.52701988251647e-06, 0.00010222848504781723, 8.372320735361427e-06, 6.0631020460277796e-05, 0.00021620935876853764, 0.0, 0.0, 0.0, 0.0, 0.0, 0.0, 0.0], [0.9987253546714783, 5.796960249426775e-05, 6.379992356642106e-08, 1.237068047998946e-08, 2.5406393433513585e-07, 1.154504047917726e-09, 1.811712354538031e-05, 2.357375405992457e-10, 8.21365908620919e-09, 2.942207033562738e-10, 7.752004593797324e-11, 1.0748550494099618e-06, 2.00825638785318e-06, 6.887504611086115e-08, 3.636146402641316e-06, 1.4281423821316253e-09, 1.4778848367313913e-08, 2.6874373837415533e-09, 3.3327796700177714e-07, 1.3154695466255362e-07, 2.1758802176918834e-05, 4.809204483535723e-07, 8.966120645936826e-08, 4.033675171655204e-09, 7.996131898835301e-06, 4.5726187281047714e-09, 4.591656306729419e-06, 1.2094277224150574e-07, 1.4321630548153053e-09, 0.0002609867660794407, 5.264904530122294e-07, 1.0950746087701191e-08, 2.060848345308841e-07, 1.096384039556142e-06, 4.436573726707138e-05, 1.5994247632988845e-06, 2.176220550609287e-05, 6.7551836764323525e-06, 0.000818596628960222, 0.0, 0.0, 0.0, 0.0, 0.0, 0.0], [0.9950300455093384, 7.501151412725449e-05, 1.4058583630571775e-08, 3.736297049528048e-09, 4.875023407180379e-08, 1.4300334250094693e-08, 1.0470808774698526e-05, 4.302641684779396e-13, 2.2719954806404985e-09, 3.5560486821850645e-07, 6.863783763577658e-09, 5.732208592235111e-06, 1.3363764082896523e-05, 3.228827551993163e-07, 0.00016604318807367235, 7.370361265746084e-11, 1.4347462773400821e-08, 9.115638022194616e-07, 2.792045233945828e-05, 4.5561824890683056e-07, 3.2294019547407515e-06, 1.868270800287064e-07, 1.1710733360814629e-07, 7.84058684644151e-09, 3.4024160413537174e-06, 2.3110349189892077e-08, 1.5515718132519396e-06, 0.0016554677858948708, 1.2753240298479795e-05, 0.0004626818117685616, 4.568290634665573e-09, 1.4708743947267067e-06, 1.5779343812027946e-05, 5.2819945267401636e-05, 0.0002023091074079275, 1.7106489394791424e-05, 4.6018383727641776e-05, 0.00010584162373561412, 0.00018277016351930797, 0.0019056226592510939, 0.0, 0.0, 0.0, 0.0, 0.0], [0.702795684337616, 0.00010852212290046737, 1.2463397069950588e-05, 3.69753621498603e-07, 1.853180293664991e-07, 3.120939027212444e-07, 5.105257878312841e-05, 0.04858021065592766, 0.00028767637559212744, 7.244145763252163e-06, 7.506622523578699e-08, 1.0814258530444931e-05, 1.5216018255159725e-05, 9.077151844394393e-06, 7.2520397225162014e-06, 0.2379624843597412, 0.008565911091864109, 0.00020525744184851646, 0.0007730121724307537, 8.225811325246468e-05, 3.0354383397934726e-06, 4.51850928584463e-06, 9.975387911254074e-06, 1.5191434385997127e-06, 1.3898104953113943e-05, 1.1634569974106057e-09, 5.522318957673633e-08, 9.594137964086258e-07, 1.237818764820986e-06, 3.555340299499221e-05, 2.6457416879566154e-06, 1.2527191302069696e-06, 1.561702234198492e-08, 7.20323805580847e-06, 2.8021126126986928e-05, 1.3816829778079409e-05, 0.00032780971378088, 5.592054890257714e-07, 3.050518557756732e-07, 4.7231907956302166e-05, 2.5222199838026427e-05, 0.0, 0.0, 0.0, 0.0], [0.1862744241952896, 4.117453136132099e-05, 8.204365542496816e-08, 9.862925054449079e-08, 7.0003038921129246e-09, 3.6629629107665096e-07, 5.135490937391296e-05, 0.0005061558331362903, 0.349631130695343, 0.00029441367951221764, 1.5896276295279677e-08, 3.692665586640942e-06, 3.5788951890936005e-07, 1.4217268251570658e-08, 9.829313967202324e-07, 0.0011026362190023065, 0.4557923376560211, 0.002887839451432228, 0.00018245815590489656, 2.2047212041798048e-05, 1.1213937796128448e-06, 3.7879485148550884e-07, 9.391965249960776e-06, 1.6449469057988608e-06, 5.002262332709506e-05, 5.4485308625951134e-11, 2.082720884644118e-09, 2.387880897458672e-07, 7.199163487570104e-09, 1.2652802183765743e-07, 4.664717501157156e-10, 3.240521664338303e-06, 8.358713721179356e-09, 1.4117348712261446e-07, 9.74136492004618e-06, 6.553719913426903e-07, 3.6155095585854724e-05, 9.463681394095147e-09, 1.03379027560635e-09, 5.177313937565486e-07, 6.371433869389875e-08, 0.0030950764194130898, 0.0, 0.0, 0.0], [0.037790365517139435, 6.005671821185388e-06, 2.0173136050516405e-08, 2.627336748162179e-08, 8.923441541242028e-09, 1.40362217848633e-07, 1.1078213901782874e-05, 8.345626412165075e-09, 0.0002038020029431209, 0.3076687753200531, 6.4198625295830425e-06, 2.5531275241519324e-05, 3.275864628449199e-07, 1.415829586903783e-07, 1.0054936865344644e-06, 2.6038657097160467e-07, 0.0009064702317118645, 0.6399279236793518, 0.007358092814683914, 1.9585479094530456e-05, 2.1792411075693963e-07, 2.6088304849736232e-08, 1.1534347521546806e-07, 1.0143636330894878e-07, 3.5498237593856174e-06, 4.394293262599547e-11, 9.102387177328808e-10, 9.747316198627232e-07, 3.4711931107267446e-07, 4.1242321913159685e-07, 9.130128944545568e-12, 5.360086561267963e-07, 1.8145844933314947e-06, 1.9776443878072314e-06, 1.243060250999406e-05, 2.8647141903093143e-07, 1.549334410810843e-05, 3.488252175998241e-08, 1.5815684317743717e-09, 2.1811621309097973e-07, 2.0401687379489886e-06, 1.1432604196670582e-06, 0.006032263860106468, 0.0, 0.0], [0.339156836271286, 1.1280650141998194e-05, 6.109009831334333e-08, 1.1423782098063384e-07, 2.4647829377499875e-07, 1.651383385592453e-08, 0.00012294451880734414, 8.186163552581505e-12, 7.984575859154575e-06, 0.008922440931200981, 0.0204378142952919, 0.0005950690247118473, 2.63280639956065e-07, 5.995631795485679e-07, 1.1522768090799218e-06, 1.010163397374697e-09, 2.1787094738101587e-05, 0.03116532973945141, 0.5310524702072144, 0.0005952304927632213, 4.667560278903693e-05, 1.3473535318553331e-06, 1.1951213707561692e-07, 5.501051418832503e-07, 5.289023101795465e-05, 5.981071748983879e-10, 1.6973881855619766e-08, 9.60089550972043e-07, 1.7769833959846437e-07, 3.6040376016899245e-06, 1.4513738518309727e-12, 6.613630532115167e-09, 5.220334742261912e-07, 0.00021727316197939217, 0.00013102048251312226, 1.358948793495074e-07, 1.0495497008378152e-05, 1.6768163746405662e-08, 1.2578384556150013e-08, 5.010980999031744e-07, 2.071297103611869e-06, 4.535344988454426e-09, 9.539645543554798e-05, 0.06734457612037659, 0.0], [0.9911012053489685, 0.0004498607886489481, 5.840248107347179e-08, 3.4089005396253924e-08, 1.5265543140685622e-07, 8.17217866710962e-08, 0.0014581148279830813, 7.880861241371662e-11, 1.5177437262536841e-06, 1.9608152797445655e-05, 3.849483618978411e-05, 0.0001888706028694287, 4.256100510247052e-05, 6.4384112192783505e-06, 0.00019041821360588074, 2.5144273330113265e-09, 2.299612788192462e-06, 4.5005192077951506e-05, 0.00036778877256438136, 0.0017646034248173237, 0.0005332697764970362, 5.0489928980823606e-05, 6.954004675208125e-06, 2.7547418994799955e-06, 5.948725083726458e-05, 8.821468782116426e-07, 3.323189048387576e-06, 4.519650644851936e-07, 8.393607799916936e-07, 0.0002065084408968687, 3.22210595982142e-08, 3.177274621180004e-08, 1.7249136362806894e-05, 2.4661683710291982e-05, 0.000319139362545684, 1.2993066775379702e-05, 1.850698026828468e-05, 2.7577120818023104e-06, 1.0151981769013219e-05, 1.584243909746874e-05, 5.2350901569298e-06, 6.87026391332779e-09, 2.142675612049061e-06, 8.412882016273215e-05, 0.0029451597947627306]], [[1.0, 0.0, 0.0, 0.0, 0.0, 0.0, 0.0, 0.0, 0.0, 0.0, 0.0, 0.0, 0.0, 0.0, 0.0, 0.0, 0.0, 0.0, 0.0, 0.0, 0.0, 0.0, 0.0, 0.0, 0.0, 0.0, 0.0, 0.0, 0.0, 0.0, 0.0, 0.0, 0.0, 0.0, 0.0, 0.0, 0.0, 0.0, 0.0, 0.0, 0.0, 0.0, 0.0, 0.0, 0.0], [0.9810396432876587, 0.018960382789373398, 0.0, 0.0, 0.0, 0.0, 0.0, 0.0, 0.0, 0.0, 0.0, 0.0, 0.0, 0.0, 0.0, 0.0, 0.0, 0.0, 0.0, 0.0, 0.0, 0.0, 0.0, 0.0, 0.0, 0.0, 0.0, 0.0, 0.0, 0.0, 0.0, 0.0, 0.0, 0.0, 0.0, 0.0, 0.0, 0.0, 0.0, 0.0, 0.0, 0.0, 0.0, 0.0, 0.0], [0.7762614488601685, 0.1806412786245346, 0.04309721291065216, 0.0, 0.0, 0.0, 0.0, 0.0, 0.0, 0.0, 0.0, 0.0, 0.0, 0.0, 0.0, 0.0, 0.0, 0.0, 0.0, 0.0, 0.0, 0.0, 0.0, 0.0, 0.0, 0.0, 0.0, 0.0, 0.0, 0.0, 0.0, 0.0, 0.0, 0.0, 0.0, 0.0, 0.0, 0.0, 0.0, 0.0, 0.0, 0.0, 0.0, 0.0, 0.0], [0.7799999117851257, 0.08570664376020432, 0.1007201299071312, 0.03357333317399025, 0.0, 0.0, 0.0, 0.0, 0.0, 0.0, 0.0, 0.0, 0.0, 0.0, 0.0, 0.0, 0.0, 0.0, 0.0, 0.0, 0.0, 0.0, 0.0, 0.0, 0.0, 0.0, 0.0, 0.0, 0.0, 0.0, 0.0, 0.0, 0.0, 0.0, 0.0, 0.0, 0.0, 0.0, 0.0, 0.0, 0.0, 0.0, 0.0, 0.0, 0.0], [0.5742285847663879, 0.03513556346297264, 0.07424480468034744, 0.2707802653312683, 0.04561072960495949, 0.0, 0.0, 0.0, 0.0, 0.0, 0.0, 0.0, 0.0, 0.0, 0.0, 0.0, 0.0, 0.0, 0.0, 0.0, 0.0, 0.0, 0.0, 0.0, 0.0, 0.0, 0.0, 0.0, 0.0, 0.0, 0.0, 0.0, 0.0, 0.0, 0.0, 0.0, 0.0, 0.0, 0.0, 0.0, 0.0, 0.0, 0.0, 0.0, 0.0], [0.6444492936134338, 0.02668927051126957, 0.024540841579437256, 0.07133626192808151, 0.20773924887180328, 0.025245072320103645, 0.0, 0.0, 0.0, 0.0, 0.0, 0.0, 0.0, 0.0, 0.0, 0.0, 0.0, 0.0, 0.0, 0.0, 0.0, 0.0, 0.0, 0.0, 0.0, 0.0, 0.0, 0.0, 0.0, 0.0, 0.0, 0.0, 0.0, 0.0, 0.0, 0.0, 0.0, 0.0, 0.0, 0.0, 0.0, 0.0, 0.0, 0.0, 0.0], [0.9653748273849487, 0.0033081653527915478, 0.0025650763418525457, 0.0037346137687563896, 0.003178433747962117, 0.014457771554589272, 0.007381127681583166, 0.0, 0.0, 0.0, 0.0, 0.0, 0.0, 0.0, 0.0, 0.0, 0.0, 0.0, 0.0, 0.0, 0.0, 0.0, 0.0, 0.0, 0.0, 0.0, 0.0, 0.0, 0.0, 0.0, 0.0, 0.0, 0.0, 0.0, 0.0, 0.0, 0.0, 0.0, 0.0, 0.0, 0.0, 0.0, 0.0, 0.0, 0.0], [0.9428845643997192, 0.0014624593313783407, 0.0004864326911047101, 0.00248870812356472, 0.0053804232738912106, 0.009234463796019554, 0.03434332087635994, 0.0037196027114987373, 0.0, 0.0, 0.0, 0.0, 0.0, 0.0, 0.0, 0.0, 0.0, 0.0, 0.0, 0.0, 0.0, 0.0, 0.0, 0.0, 0.0, 0.0, 0.0, 0.0, 0.0, 0.0, 0.0, 0.0, 0.0, 0.0, 0.0, 0.0, 0.0, 0.0, 0.0, 0.0, 0.0, 0.0, 0.0, 0.0, 0.0], [0.6418933272361755, 0.00266546243801713, 0.002490075072273612, 0.0026323560159653425, 0.0137037243694067, 0.013646822422742844, 0.2117007076740265, 0.09939488768577576, 0.011872558854520321, 0.0, 0.0, 0.0, 0.0, 0.0, 0.0, 0.0, 0.0, 0.0, 0.0, 0.0, 0.0, 0.0, 0.0, 0.0, 0.0, 0.0, 0.0, 0.0, 0.0, 0.0, 0.0, 0.0, 0.0, 0.0, 0.0, 0.0, 0.0, 0.0, 0.0, 0.0, 0.0, 0.0, 0.0, 0.0, 0.0], [0.5531930923461914, 0.0012918697902932763, 0.0029884320683777332, 0.004128886386752129, 0.00254167802631855, 0.010784350335597992, 0.14034585654735565, 0.15229532122612, 0.10066047310829163, 0.031770091503858566, 0.0, 0.0, 0.0, 0.0, 0.0, 0.0, 0.0, 0.0, 0.0, 0.0, 0.0, 0.0, 0.0, 0.0, 0.0, 0.0, 0.0, 0.0, 0.0, 0.0, 0.0, 0.0, 0.0, 0.0, 0.0, 0.0, 0.0, 0.0, 0.0, 0.0, 0.0, 0.0, 0.0, 0.0, 0.0], [0.3397982716560364, 0.01276847068220377, 0.03223390132188797, 0.019921237602829933, 0.07788566499948502, 0.2051508128643036, 0.13213202357292175, 0.07078102976083755, 0.043559636920690536, 0.051848120987415314, 0.013920812867581844, 0.0, 0.0, 0.0, 0.0, 0.0, 0.0, 0.0, 0.0, 0.0, 0.0, 0.0, 0.0, 0.0, 0.0, 0.0, 0.0, 0.0, 0.0, 0.0, 0.0, 0.0, 0.0, 0.0, 0.0, 0.0, 0.0, 0.0, 0.0, 0.0, 0.0, 0.0, 0.0, 0.0, 0.0], [0.8336344361305237, 0.005396582651883364, 0.009373527951538563, 0.007458493113517761, 0.006902364082634449, 0.033507537096738815, 0.029123933985829353, 0.00848293025046587, 0.014751095324754715, 0.008022907190024853, 0.015759287402033806, 0.027586953714489937, 0.0, 0.0, 0.0, 0.0, 0.0, 0.0, 0.0, 0.0, 0.0, 0.0, 0.0, 0.0, 0.0, 0.0, 0.0, 0.0, 0.0, 0.0, 0.0, 0.0, 0.0, 0.0, 0.0, 0.0, 0.0, 0.0, 0.0, 0.0, 0.0, 0.0, 0.0, 0.0, 0.0], [0.8964860439300537, 0.0016198544763028622, 0.001586190890520811, 0.0018742309184744954, 0.012141276150941849, 0.015592273324728012, 0.0038534023333340883, 0.0021954462863504887, 0.002353871241211891, 0.002070067683234811, 0.0061105890199542046, 0.043446652591228485, 0.010670113377273083, 0.0, 0.0, 0.0, 0.0, 0.0, 0.0, 0.0, 0.0, 0.0, 0.0, 0.0, 0.0, 0.0, 0.0, 0.0, 0.0, 0.0, 0.0, 0.0, 0.0, 0.0, 0.0, 0.0, 0.0, 0.0, 0.0, 0.0, 0.0, 0.0, 0.0, 0.0, 0.0], [0.694146454334259, 0.00801058765500784, 0.0022592509631067514, 0.0032775900326669216, 0.0036176240537315607, 0.016287963837385178, 0.0024825704749673605, 0.0025014281272888184, 0.0014869809383526444, 0.0011394567554816604, 0.002395319053903222, 0.030620262026786804, 0.21174976229667664, 0.02002466656267643, 0.0, 0.0, 0.0, 0.0, 0.0, 0.0, 0.0, 0.0, 0.0, 0.0, 0.0, 0.0, 0.0, 0.0, 0.0, 0.0, 0.0, 0.0, 0.0, 0.0, 0.0, 0.0, 0.0, 0.0, 0.0, 0.0, 0.0, 0.0, 0.0, 0.0, 0.0], [0.7946000695228577, 0.0014079397078603506, 0.00041437428444623947, 0.0003638649941422045, 0.004011386074125767, 0.0036067976616322994, 0.0024581169709563255, 0.006191072519868612, 0.005288979038596153, 0.012868782505393028, 0.007345873862504959, 0.02799142710864544, 0.04309305548667908, 0.08642513304948807, 0.003933188039809465, 0.0, 0.0, 0.0, 0.0, 0.0, 0.0, 0.0, 0.0, 0.0, 0.0, 0.0, 0.0, 0.0, 0.0, 0.0, 0.0, 0.0, 0.0, 0.0, 0.0, 0.0, 0.0, 0.0, 0.0, 0.0, 0.0, 0.0, 0.0, 0.0, 0.0], [0.6642529964447021, 0.0010255769593641162, 0.00015396445814985782, 0.0004074043536093086, 0.00161085301078856, 0.0027613916900008917, 0.014305304735898972, 0.000914787407964468, 0.0012222591321915388, 0.0006001954898238182, 0.008996191434562206, 0.023629851639270782, 0.04417911916971207, 0.028476957231760025, 0.17658817768096924, 0.030875029042363167, 0.0, 0.0, 0.0, 0.0, 0.0, 0.0, 0.0, 0.0, 0.0, 0.0, 0.0, 0.0, 0.0, 0.0, 0.0, 0.0, 0.0, 0.0, 0.0, 0.0, 0.0, 0.0, 0.0, 0.0, 0.0, 0.0, 0.0, 0.0, 0.0], [0.6628534197807312, 0.0008950158953666687, 0.00024792287149466574, 0.00028794820536859334, 0.002691753674298525, 0.003385388059541583, 0.019771259278059006, 0.0035750071983784437, 0.001320762443356216, 0.0017811403376981616, 0.0025821866001933813, 0.017734965309500694, 0.03657253459095955, 0.026236461475491524, 0.1590982973575592, 0.04074395075440407, 0.020221931859850883, 0.0, 0.0, 0.0, 0.0, 0.0, 0.0, 0.0, 0.0, 0.0, 0.0, 0.0, 0.0, 0.0, 0.0, 0.0, 0.0, 0.0, 0.0, 0.0, 0.0, 0.0, 0.0, 0.0, 0.0, 0.0, 0.0, 0.0, 0.0], [0.49168267846107483, 0.00033592493855394423, 0.00022172612079884857, 0.00024242817016784102, 0.00048144275206141174, 0.0014470291789621115, 0.009780829772353172, 0.005437885876744986, 0.0062634763307869434, 0.0021996633149683475, 0.003922208212316036, 0.006852143444120884, 0.02841557376086712, 0.01300175953656435, 0.15353234112262726, 0.10526347160339355, 0.1338702142238617, 0.03704924136400223, 0.0, 0.0, 0.0, 0.0, 0.0, 0.0, 0.0, 0.0, 0.0, 0.0, 0.0, 0.0, 0.0, 0.0, 0.0, 0.0, 0.0, 0.0, 0.0, 0.0, 0.0, 0.0, 0.0, 0.0, 0.0, 0.0, 0.0], [0.37662938237190247, 0.0038130944594740868, 0.0007721346337348223, 0.0007466900278814137, 0.0024197823368012905, 0.006774659268558025, 0.008877701126039028, 0.005320719443261623, 0.008850001730024815, 0.005647767800837755, 0.0026810169219970703, 0.031164439395070076, 0.07935133576393127, 0.029641248285770416, 0.2102297693490982, 0.04603834077715874, 0.11242740601301193, 0.04768349975347519, 0.020931018516421318, 0.0, 0.0, 0.0, 0.0, 0.0, 0.0, 0.0, 0.0, 0.0, 0.0, 0.0, 0.0, 0.0, 0.0, 0.0, 0.0, 0.0, 0.0, 0.0, 0.0, 0.0, 0.0, 0.0, 0.0, 0.0, 0.0], [0.5780161023139954, 0.0038288419600576162, 0.000529841985553503, 0.000604721310082823, 0.0028115047607570887, 0.004082057625055313, 0.00686534121632576, 0.0010939158964902163, 0.002356733661144972, 0.0008901649271138012, 0.00261854799464345, 0.01834203489124775, 0.0181640163064003, 0.013575026765465736, 0.12993717193603516, 0.009983407333493233, 0.031589001417160034, 0.008019809611141682, 0.16063588857650757, 0.006055730860680342, 0.0, 0.0, 0.0, 0.0, 0.0, 0.0, 0.0, 0.0, 0.0, 0.0, 0.0, 0.0, 0.0, 0.0, 0.0, 0.0, 0.0, 0.0, 0.0, 0.0, 0.0, 0.0, 0.0, 0.0, 0.0], [0.6478440165519714, 0.001963695976883173, 0.001388420700095594, 0.0007096551707945764, 0.0024364590644836426, 0.006757210940122604, 0.00850316509604454, 0.0032332942355424166, 0.002637311117723584, 0.0013052693102508783, 0.0032017736230045557, 0.008419117890298367, 0.016332099214196205, 0.011459617875516415, 0.1420004665851593, 0.029702162370085716, 0.03197353705763817, 0.012205129489302635, 0.03945409879088402, 0.020952194929122925, 0.00752132385969162, 0.0, 0.0, 0.0, 0.0, 0.0, 0.0, 0.0, 0.0, 0.0, 0.0, 0.0, 0.0, 0.0, 0.0, 0.0, 0.0, 0.0, 0.0, 0.0, 0.0, 0.0, 0.0, 0.0, 0.0], [0.614343523979187, 0.002221382223069668, 0.0006628632545471191, 0.0005871461471542716, 0.001462795422412455, 0.002358189318329096, 0.0018003847217187285, 0.001282127108424902, 0.0009621558128856122, 0.00039334912435151637, 0.0016876306617632508, 0.006476531736552715, 0.006537055131047964, 0.011528641916811466, 0.02629859745502472, 0.008740258403122425, 0.01228636596351862, 0.005887242034077644, 0.04180218279361725, 0.01795067824423313, 0.2084559053182602, 0.026274938136339188, 0.0, 0.0, 0.0, 0.0, 0.0, 0.0, 0.0, 0.0, 0.0, 0.0, 0.0, 0.0, 0.0, 0.0, 0.0, 0.0, 0.0, 0.0, 0.0, 0.0, 0.0, 0.0, 0.0], [0.4503878057003021, 0.001097783213481307, 0.00026956855435855687, 0.0005030011525377631, 0.0008366082329303026, 0.0006208958220668137, 0.000824512098915875, 0.0007124239928089082, 0.0009965666104108095, 0.0005220405873842537, 0.0018226958345621824, 0.003985011950135231, 0.0035742800682783127, 0.0030896980315446854, 0.003324757097288966, 0.003121092915534973, 0.005429981276392937, 0.002278996864333749, 0.03129267692565918, 0.01716258004307747, 0.31187891960144043, 0.14086207747459412, 0.015406077727675438, 0.0, 0.0, 0.0, 0.0, 0.0, 0.0, 0.0, 0.0, 0.0, 0.0, 0.0, 0.0, 0.0, 0.0, 0.0, 0.0, 0.0, 0.0, 0.0, 0.0, 0.0, 0.0], [0.23563489317893982, 0.0008450940367765725, 0.0003210047725588083, 0.00037593598244711757, 0.0013327522901818156, 0.002367743756622076, 0.0016747326590120792, 0.0005584873142652214, 0.0007895399467088282, 0.0006238955538719893, 0.0009291864116676152, 0.007558321580290794, 0.017760155722498894, 0.008804485201835632, 0.014126398600637913, 0.0033513663802295923, 0.008184309117496014, 0.005504697561264038, 0.11851317435503006, 0.06982551515102386, 0.11539171636104584, 0.13439850509166718, 0.22518159449100494, 0.02594650536775589, 0.0, 0.0, 0.0, 0.0, 0.0, 0.0, 0.0, 0.0, 0.0, 0.0, 0.0, 0.0, 0.0, 0.0, 0.0, 0.0, 0.0, 0.0, 0.0, 0.0, 0.0], [0.1346629410982132, 0.0017843747045844793, 0.0002986282343044877, 0.0003414493112359196, 0.00018714340694714338, 0.0018806391162797809, 0.0008851539460010827, 0.00013486108218785375, 0.00036054744850844145, 0.0002633758122101426, 0.0006886528572067618, 0.007815640419721603, 0.02085201069712639, 0.012775640934705734, 0.010536977089941502, 0.0013068241532891989, 0.010173917748034, 0.004204073920845985, 0.6295551061630249, 0.09244517982006073, 0.022314460948109627, 0.0047044819220900536, 0.003484293119981885, 0.025999082252383232, 0.012344582937657833, 0.0, 0.0, 0.0, 0.0, 0.0, 0.0, 0.0, 0.0, 0.0, 0.0, 0.0, 0.0, 0.0, 0.0, 0.0, 0.0, 0.0, 0.0, 0.0, 0.0], [0.614435613155365, 0.0005748995463363826, 0.00016950392455328256, 0.00014106856542639434, 0.000318166334182024, 0.0011561098508536816, 0.0008228374645113945, 0.0003622310177888721, 0.000843880174215883, 0.00017069868044927716, 0.0013569459551945329, 0.005399942398071289, 0.005424337927252054, 0.00771249458193779, 0.012742108665406704, 0.0035902108065783978, 0.01821385882794857, 0.0035801175981760025, 0.12997621297836304, 0.011076596565544605, 0.060428790748119354, 0.006259420420974493, 0.00615767203271389, 0.03146729990839958, 0.06666494160890579, 0.01095416210591793, 0.0, 0.0, 0.0, 0.0, 0.0, 0.0, 0.0, 0.0, 0.0, 0.0, 0.0, 0.0, 0.0, 0.0, 0.0, 0.0, 0.0, 0.0, 0.0], [0.5919077396392822, 0.0009018441778607666, 0.00016153708565980196, 0.000480848946608603, 0.00020798045443370938, 0.0007942350348457694, 0.0008820647490210831, 0.0005617617862299085, 0.0004896655445918441, 0.00034307336318306625, 0.0013133605243638158, 0.007499982137233019, 0.006610809825360775, 0.001515529933385551, 0.004253963474184275, 0.001768253743648529, 0.0029449346475303173, 0.001517943455837667, 0.011698614805936813, 0.009296230040490627, 0.027308199554681778, 0.014624366536736488, 0.009597866795957088, 0.014128301292657852, 0.13391263782978058, 0.1383291482925415, 0.016949079930782318, 0.0, 0.0, 0.0, 0.0, 0.0, 0.0, 0.0, 0.0, 0.0, 0.0, 0.0, 0.0, 0.0, 0.0, 0.0, 0.0, 0.0, 0.0], [0.21117383241653442, 0.0007796463905833662, 6.139714241726324e-05, 0.00019737266120500863, 9.532801050227135e-05, 0.0001990249438676983, 0.00045562151353806257, 0.0006586094386875629, 0.0006723571568727493, 0.00020971972844563425, 0.0011983787408098578, 0.00470329076051712, 0.004038448445498943, 0.0032150400802493095, 0.0030276926700025797, 0.002026673872023821, 0.004269853234291077, 0.0009835368255153298, 0.014317972585558891, 0.013880657963454723, 0.11020244657993317, 0.010327624157071114, 0.0044054435566067696, 0.014732390642166138, 0.31845343112945557, 0.17140567302703857, 0.08045299351215363, 0.023855485022068024, 0.0, 0.0, 0.0, 0.0, 0.0, 0.0, 0.0, 0.0, 0.0, 0.0, 0.0, 0.0, 0.0, 0.0, 0.0, 0.0, 0.0], [0.27846893668174744, 0.00014613711391575634, 6.271121674217284e-05, 0.00012580986367538571, 0.00017966878658626229, 0.00023599216365255415, 0.00044239123235456645, 0.00021379518148023635, 0.0008437188225798309, 0.00011819757492048666, 0.0007041370263323188, 0.0016189956804737449, 0.0005339247873052955, 0.0012205311795696616, 0.001050018472597003, 0.0008260610629804432, 0.0022014572750777006, 0.0004419853794388473, 0.006245916709303856, 0.0010006321826949716, 0.04533661529421806, 0.022601692005991936, 0.005182602442800999, 0.014375775121152401, 0.10032343864440918, 0.1631809026002884, 0.172954723238945, 0.15420301258563995, 0.025160163640975952, 0.0, 0.0, 0.0, 0.0, 0.0, 0.0, 0.0, 0.0, 0.0, 0.0, 0.0, 0.0, 0.0, 0.0, 0.0, 0.0], [0.8096954226493835, 0.00014628712960984558, 6.985437357798219e-05, 5.3381951147457585e-05, 4.0948572859633714e-05, 0.00041498662903904915, 0.00019741897995118052, 0.000310515402816236, 0.000348281319020316, 0.0002972738875541836, 0.0010198720265179873, 0.00137771712616086, 0.0008721710764802992, 0.0008255544817075133, 0.0010359346633777022, 0.0014325404772534966, 0.002261554589495063, 0.0014759597834199667, 0.0070937881246209145, 0.005893347784876823, 0.003014365443959832, 0.0011512987548485398, 0.0008938349783420563, 0.00698543107137084, 0.0063682859763503075, 0.014543249271810055, 0.015248761512339115, 0.017355112358927727, 0.08661190420389175, 0.012965031899511814, 0.0, 0.0, 0.0, 0.0, 0.0, 0.0, 0.0, 0.0, 0.0, 0.0, 0.0, 0.0, 0.0, 0.0, 0.0], [0.8918166756629944, 3.5484197724144906e-05, 1.4395097423403058e-05, 1.4411869415198453e-05, 5.2627969125751406e-05, 0.00011445637937868014, 0.0002929985348600894, 6.22203660896048e-05, 2.1607045709970407e-05, 1.944336327142082e-05, 0.0001700654102023691, 0.0002863889676518738, 0.0008412179886363447, 0.00010479075717739761, 0.0017317250603809953, 0.0004058188933413476, 0.0003156266175210476, 0.00019248639000579715, 0.003508256981149316, 0.0016095030587166548, 0.001622129580937326, 0.0006373723153956234, 0.00036859093233942986, 0.00042896572267636657, 0.0037552379071712494, 0.003673015860840678, 0.0014270010869950056, 0.0017346738604828715, 0.005706875119358301, 0.07477068901062012, 0.00426519988104701, 0.0, 0.0, 0.0, 0.0, 0.0, 0.0, 0.0, 0.0, 0.0, 0.0, 0.0, 0.0, 0.0, 0.0], [0.5492879748344421, 5.642940232064575e-05, 3.449460564297624e-05, 2.0746374502778053e-05, 9.148073877440766e-05, 0.0001423112116754055, 0.0010041934438049793, 0.00030004134168848395, 9.008264896692708e-05, 5.517512545338832e-05, 0.0001514435571152717, 0.0004622636770363897, 0.0014897491782903671, 0.0003667976416181773, 0.005354623775929213, 0.0015333866467699409, 0.0008996074320748448, 0.0004555752675514668, 0.0038175457157194614, 0.0020518589299172163, 0.00486147403717041, 0.0010855244472622871, 0.0008328884141519666, 0.0009565126965753734, 0.005544271320104599, 0.007761707995086908, 0.009809973649680614, 0.0038375251460820436, 0.009459146298468113, 0.2679907977581024, 0.11344366520643234, 0.006750673055648804, 0.0, 0.0, 0.0, 0.0, 0.0, 0.0, 0.0, 0.0, 0.0, 0.0, 0.0, 0.0, 0.0], [0.457756370306015, 4.048582923132926e-05, 4.699018973042257e-05, 2.344908170925919e-05, 4.2790808947756886e-05, 0.00014445342822000384, 0.00046945398207753897, 0.0004640734114218503, 0.00016950437566265464, 4.396640360937454e-05, 0.0004522278904914856, 0.0007420579786412418, 0.0005920621915720403, 0.0003373381623532623, 0.0028215725906193256, 0.0013960273936390877, 0.001087632728740573, 0.00024955859407782555, 0.0019127452978864312, 0.0006037861458025873, 0.004703585524111986, 0.00042716864845715463, 0.0003725346177816391, 0.002880532993003726, 0.010582596063613892, 0.004435451235622168, 0.010636180639266968, 0.004492766223847866, 0.0073247444815933704, 0.27963733673095703, 0.13497084379196167, 0.06012851372361183, 0.010011225007474422, 0.0, 0.0, 0.0, 0.0, 0.0, 0.0, 0.0, 0.0, 0.0, 0.0, 0.0, 0.0], [0.2548418343067169, 0.00467670289799571, 0.0031954876612871885, 0.0028734810184687376, 0.003817090066149831, 0.011215622536838055, 0.015272755175828934, 0.0038634403608739376, 0.002747153164818883, 0.004267626442015171, 0.0021730526350438595, 0.08356522023677826, 0.02273869514465332, 0.01119862962514162, 0.059622593224048615, 0.010259700007736683, 0.013859768398106098, 0.010982329025864601, 0.05619926005601883, 0.03791847825050354, 0.024937106296420097, 0.009996781125664711, 0.006813122425228357, 0.012202841229736805, 0.055368199944496155, 0.025951532647013664, 0.014069907367229462, 0.01706109568476677, 0.0795961394906044, 0.06915386766195297, 0.02384309470653534, 0.022449752315878868, 0.013150465674698353, 0.010117174126207829, 0.0, 0.0, 0.0, 0.0, 0.0, 0.0, 0.0, 0.0, 0.0, 0.0, 0.0], [0.8011342883110046, 0.0009934371337294579, 0.0012413281947374344, 0.0008724872022867203, 0.0011661220341920853, 0.004242818336933851, 0.0015247025294229388, 0.00032743383781053126, 0.0004974896437488496, 0.00021052674856036901, 0.0007807596703059971, 0.002692597219720483, 0.005651132203638554, 0.0024990099482238293, 0.013369578868150711, 0.002548814984038472, 0.005928495433181524, 0.0023683966137468815, 0.029378313571214676, 0.014447390101850033, 0.00583485746756196, 0.004485256038606167, 0.0024026199243962765, 0.0012464516330510378, 0.0031741622369736433, 0.004917096346616745, 0.0016479425830766559, 0.004511721432209015, 0.0031098693143576384, 0.0028375249821692705, 0.002251798054203391, 0.00040570806595496833, 0.0008132409420795739, 0.00538217555731535, 0.06510450690984726, 0.0, 0.0, 0.0, 0.0, 0.0, 0.0, 0.0, 0.0, 0.0, 0.0], [0.7423174381256104, 0.0006061921012587845, 0.00037987311952747405, 0.0004584023845382035, 0.000675968243740499, 0.0014214749680832028, 0.0004918901831842959, 5.480932668433525e-05, 0.00016727278125472367, 0.00012905859330203384, 0.0009135022992268205, 0.0036644558422267437, 0.001240092096850276, 0.0009912465466186404, 0.004072615411132574, 0.00037305313162505627, 0.0011071165790781379, 0.0006989735411480069, 0.01650369167327881, 0.0034807082265615463, 0.004982946440577507, 0.004379883874207735, 0.0010268623009324074, 0.00041912563028745353, 0.007174193859100342, 0.008077021688222885, 0.005505090579390526, 0.005830254405736923, 0.00447323452681303, 0.004666661377996206, 0.002048990223556757, 0.0008432291797362268, 0.0005963504663668573, 0.011532717384397984, 0.10595891624689102, 0.05273659527301788, 0.0, 0.0, 0.0, 0.0, 0.0, 0.0, 0.0, 0.0, 0.0], [0.7186965942382812, 0.0007797710131853819, 8.855906344251707e-05, 5.3802526963409036e-05, 0.00017434015171602368, 0.00032268205541186035, 0.0004905372625216842, 7.8394434240181e-05, 0.00012374858488328755, 5.7439923693891615e-05, 0.00014908589946571738, 0.0019222028786316514, 0.0006584568764083087, 0.0007903860532678664, 0.002393039409071207, 0.0003072074323426932, 0.0007325130864046514, 0.00022439152235165238, 0.0017723377095535398, 0.001882626791484654, 0.00031584850512444973, 0.0002008706796914339, 6.365823355736211e-05, 0.0002573044039309025, 0.0007457484607584774, 0.0012034421088173985, 0.0010250512277707458, 0.0013564054388552904, 0.0005826957058161497, 0.0015943298349156976, 0.0028313922230154276, 0.000451800471637398, 0.0010006099473685026, 0.0030194951687008142, 0.04776456952095032, 0.18622103333473206, 0.0196674931794405, 0.0, 0.0, 0.0, 0.0, 0.0, 0.0, 0.0, 0.0], [0.8325397968292236, 9.001024591270834e-05, 4.254411396686919e-05, 1.0677666978153866e-05, 5.2219875215087086e-05, 0.00013092879089526832, 0.00013504666276276112, 1.8769364032777958e-05, 0.00010198125528404489, 1.6721018255339004e-05, 4.8231653636321425e-05, 0.0004824543430004269, 5.08451194036752e-05, 9.806198067963123e-05, 0.0005298194009810686, 5.8915371482726187e-05, 0.0002505330485291779, 4.736995470011607e-05, 0.0019117285264655948, 8.748737309360877e-05, 0.0009940557647496462, 0.00018200282647740096, 0.00015122331387829036, 0.00010809453669935465, 0.0015159910544753075, 0.0006035753758624196, 0.0021705878898501396, 0.001406828174367547, 0.0004339830484241247, 0.003298455150797963, 0.004116464406251907, 0.0004939853679388762, 0.0006410863716155291, 0.0017417361959815025, 0.03362429887056351, 0.028827058151364326, 0.07144807279109955, 0.011538234539330006, 0.0, 0.0, 0.0, 0.0, 0.0, 0.0, 0.0], [0.6970669031143188, 5.4791464208392426e-05, 2.644405140017625e-05, 7.877073585405014e-06, 3.280508462921716e-05, 0.00014012723113410175, 0.00011632709356490523, 4.923954838886857e-05, 7.222368731163442e-05, 3.5920988011639565e-05, 0.00011973331857006997, 0.00022429540695156902, 9.139478061115369e-05, 0.0002319453633390367, 0.0006357691599987447, 0.00012840500858146697, 0.00026980944676324725, 0.00013728841440752149, 0.0017293487908318639, 0.0010175793431699276, 0.0006178683252073824, 0.00012978423910681158, 0.00024621287593618035, 0.0001844767975853756, 0.0014374852180480957, 0.0007576307980343699, 0.0023001637309789658, 0.0024506808258593082, 0.0028456631116569042, 0.0008908816380426288, 0.003015222493559122, 0.001012289198115468, 0.0016365153715014458, 0.003297045361250639, 0.016080956906080246, 0.017146313562989235, 0.0770685076713562, 0.15890288352966309, 0.0077912891283631325, 0.0, 0.0, 0.0, 0.0, 0.0, 0.0], [0.5442550182342529, 0.00040480418829247355, 6.663443491561338e-05, 8.695643191458657e-05, 5.4855187045177445e-05, 0.0002745233359746635, 0.0002601967134978622, 0.00018197020108345896, 0.00017633422976359725, 0.00017115235095843673, 0.00019927413086406887, 0.0010208806488662958, 0.0006576877785846591, 0.0003590330888982862, 0.001356195891276002, 0.0003376467793714255, 0.0004808601806871593, 0.0004024874069727957, 0.0011675746645778418, 0.0020139096304774284, 0.0029627112671732903, 0.00046635643229819834, 0.000440887117292732, 0.0005065832519903779, 0.006206033751368523, 0.008469736203551292, 0.0034789126366376877, 0.003935149405151606, 0.007950861006975174, 0.005464302375912666, 0.007384878117591143, 0.0044459449127316475, 0.005479793529957533, 0.004862222820520401, 0.042732492089271545, 0.02406325563788414, 0.05434827134013176, 0.09958559274673462, 0.13607734441757202, 0.027210673317313194, 0.0, 0.0, 0.0, 0.0, 0.0], [0.16091039776802063, 0.00014272381667979062, 3.015968468389474e-05, 1.4502081285172608e-05, 0.00023811892606317997, 0.00031522175413556397, 7.533786993008107e-05, 0.0001518490316811949, 0.00019633285410236567, 0.00031797142582945526, 9.895980474539101e-05, 0.007725649047642946, 0.000584338849876076, 0.0015418068505823612, 3.299932723166421e-05, 0.0001781354658305645, 0.00033374514896422625, 0.0002707105013541877, 0.0007551364251412451, 0.0004154749622102827, 0.0001893948792712763, 0.00032920981175266206, 0.0005640966701321304, 0.0005377542693167925, 0.0007726540206931531, 0.0009302626131102443, 0.00890694186091423, 0.0023435214534401894, 0.0022101986687630415, 0.0015828028554096818, 0.002963009988889098, 0.0036508734337985516, 0.0011382477823644876, 0.0006589130498468876, 0.35290998220443726, 0.02034742571413517, 0.009596816264092922, 0.06831344217061996, 0.03284484148025513, 0.31100380420684814, 0.0038762681651860476, 0.0, 0.0, 0.0, 0.0], [0.47065815329551697, 6.273714825510979e-05, 4.2829046833503526e-06, 5.732979843742214e-06, 8.080122643150389e-05, 0.00013094961468596011, 0.000465010671177879, 1.2340253306319937e-05, 1.6393285477533937e-05, 8.617161256552208e-06, 9.676249464973807e-05, 0.001506960834376514, 0.00040849935612641275, 0.00039991384255699813, 0.0018985330825671554, 0.00014287074736785144, 0.00021828683384228498, 6.687761197099462e-05, 0.001049812650308013, 0.0003673149039968848, 0.00023025284463074058, 0.0001326502242591232, 0.00048300111666321754, 0.00012293005420360714, 0.0007684151059947908, 0.0015055759577080607, 0.0015648422995582223, 0.0013927675317972898, 0.0012940013548359275, 0.002539517357945442, 0.0006581292836926877, 0.0001868643594207242, 0.00017910463793668896, 0.0010201523546129465, 0.1387922614812851, 0.022994937375187874, 0.014849614351987839, 0.023331809788942337, 0.01362630445510149, 0.01321153249591589, 0.25283902883529663, 0.0306753721088171, 0.0, 0.0, 0.0], [0.6287651062011719, 2.0433950339793228e-05, 4.395194537210045e-06, 1.9156664166075643e-06, 9.675987530499697e-05, 0.00010533628665143624, 0.00020419913926161826, 2.4714214305276982e-05, 7.3267387961095665e-06, 7.951310180942528e-06, 1.5274285033228807e-05, 0.0007910619024187326, 0.00012001821596641093, 0.00021806203585583717, 0.00040138873737305403, 7.293676753761247e-05, 3.54480289388448e-05, 2.0818004486500286e-05, 0.0002568118798080832, 7.261930295499042e-05, 4.419427932589315e-05, 8.329480624524876e-05, 0.00020565767772495747, 9.560778562445194e-05, 0.00030747026903554797, 0.00044737555435858667, 0.0028505034279078245, 0.002204550663009286, 0.001115403138101101, 0.0032654311507940292, 0.0017388704000040889, 0.0005026305443607271, 0.00026555731892585754, 0.0003520524478517473, 0.09982038289308548, 0.012594089843332767, 0.0041650645434856415, 0.016852296888828278, 0.004819410387426615, 0.028473440557718277, 0.13577140867710114, 0.03548430651426315, 0.017298413440585136, 0.0, 0.0], [0.43610337376594543, 1.0185834071307909e-05, 5.032035005569924e-06, 2.2434537640947383e-06, 2.238795605080668e-05, 6.695713818771765e-05, 0.00018486242333892733, 4.036082100355998e-05, 4.4270487705944106e-05, 1.713175151962787e-05, 3.472028038231656e-05, 0.00042665048385970294, 9.21077880775556e-05, 0.00012155283911852166, 0.0006354612414725125, 0.0002050958719337359, 0.000283521949313581, 6.728924199705943e-05, 0.00028405836201272905, 8.38770138216205e-05, 0.0001027481775963679, 7.003102655289695e-05, 0.0001621275587240234, 8.421421080129221e-05, 0.0003951458784285933, 0.0006755595677532256, 0.002651418326422572, 0.0017491743201389909, 0.0005764065426774323, 0.003652669256553054, 0.0036059319972991943, 0.0011833852622658014, 0.0003734049678314477, 0.0008674613200128078, 0.07300259917974472, 0.01132216677069664, 0.0070008994080126286, 0.02550239861011505, 0.010465250350534916, 0.04782647639513016, 0.09330901503562927, 0.10818878561258316, 0.13012687861919403, 0.03837474435567856, 0.0], [0.6340821385383606, 7.285333413165063e-05, 3.6271554563427344e-05, 1.0446586202306207e-05, 7.74025684222579e-05, 0.00020158235565759242, 0.00023795635206624866, 8.40103966766037e-05, 7.009464025031775e-05, 6.409124762285501e-05, 3.3903572330018505e-05, 0.0007239363039843738, 0.0005613818648271263, 0.0003472647804301232, 0.0016328763449564576, 0.00036259088665246964, 0.00046743801794946194, 0.00023274889099411666, 0.00042897285311482847, 0.00022113356681074947, 9.400269482284784e-05, 2.61497752944706e-05, 7.893853035056964e-05, 9.641166980145499e-05, 0.00045971275540068746, 0.00022381011513061821, 0.0007154502673074603, 0.0008950005285441875, 0.00046265224227681756, 0.0009097934234887362, 0.0011179097928106785, 0.0004850662953685969, 0.00026835029711946845, 0.00029202038422226906, 0.03613369166851044, 0.017989909276366234, 0.008297928608953953, 0.010743895545601845, 0.004624213557690382, 0.005877609830349684, 0.08813808858394623, 0.04734846577048302, 0.06518030911684036, 0.043631866574287415, 0.025959782302379608]], [[1.0, 0.0, 0.0, 0.0, 0.0, 0.0, 0.0, 0.0, 0.0, 0.0, 0.0, 0.0, 0.0, 0.0, 0.0, 0.0, 0.0, 0.0, 0.0, 0.0, 0.0, 0.0, 0.0, 0.0, 0.0, 0.0, 0.0, 0.0, 0.0, 0.0, 0.0, 0.0, 0.0, 0.0, 0.0, 0.0, 0.0, 0.0, 0.0, 0.0, 0.0, 0.0, 0.0, 0.0, 0.0], [0.9066759943962097, 0.09332402050495148, 0.0, 0.0, 0.0, 0.0, 0.0, 0.0, 0.0, 0.0, 0.0, 0.0, 0.0, 0.0, 0.0, 0.0, 0.0, 0.0, 0.0, 0.0, 0.0, 0.0, 0.0, 0.0, 0.0, 0.0, 0.0, 0.0, 0.0, 0.0, 0.0, 0.0, 0.0, 0.0, 0.0, 0.0, 0.0, 0.0, 0.0, 0.0, 0.0, 0.0, 0.0, 0.0, 0.0], [0.7077320218086243, 0.2664453983306885, 0.025822589173913002, 0.0, 0.0, 0.0, 0.0, 0.0, 0.0, 0.0, 0.0, 0.0, 0.0, 0.0, 0.0, 0.0, 0.0, 0.0, 0.0, 0.0, 0.0, 0.0, 0.0, 0.0, 0.0, 0.0, 0.0, 0.0, 0.0, 0.0, 0.0, 0.0, 0.0, 0.0, 0.0, 0.0, 0.0, 0.0, 0.0, 0.0, 0.0, 0.0, 0.0, 0.0, 0.0], [0.6864888072013855, 0.25713518261909485, 0.03923020139336586, 0.01714584417641163, 0.0, 0.0, 0.0, 0.0, 0.0, 0.0, 0.0, 0.0, 0.0, 0.0, 0.0, 0.0, 0.0, 0.0, 0.0, 0.0, 0.0, 0.0, 0.0, 0.0, 0.0, 0.0, 0.0, 0.0, 0.0, 0.0, 0.0, 0.0, 0.0, 0.0, 0.0, 0.0, 0.0, 0.0, 0.0, 0.0, 0.0, 0.0, 0.0, 0.0, 0.0], [0.738926112651825, 0.16518673300743103, 0.043609343469142914, 0.027796925976872444, 0.024480829015374184, 0.0, 0.0, 0.0, 0.0, 0.0, 0.0, 0.0, 0.0, 0.0, 0.0, 0.0, 0.0, 0.0, 0.0, 0.0, 0.0, 0.0, 0.0, 0.0, 0.0, 0.0, 0.0, 0.0, 0.0, 0.0, 0.0, 0.0, 0.0, 0.0, 0.0, 0.0, 0.0, 0.0, 0.0, 0.0, 0.0, 0.0, 0.0, 0.0, 0.0], [0.622447669506073, 0.1099611222743988, 0.10296272486448288, 0.06000104919075966, 0.05784222483634949, 0.046785224229097366, 0.0, 0.0, 0.0, 0.0, 0.0, 0.0, 0.0, 0.0, 0.0, 0.0, 0.0, 0.0, 0.0, 0.0, 0.0, 0.0, 0.0, 0.0, 0.0, 0.0, 0.0, 0.0, 0.0, 0.0, 0.0, 0.0, 0.0, 0.0, 0.0, 0.0, 0.0, 0.0, 0.0, 0.0, 0.0, 0.0, 0.0, 0.0, 0.0], [0.6215837001800537, 0.039426159113645554, 0.03452153503894806, 0.049676164984703064, 0.10990608483552933, 0.11276071518659592, 0.03212558478116989, 0.0, 0.0, 0.0, 0.0, 0.0, 0.0, 0.0, 0.0, 0.0, 0.0, 0.0, 0.0, 0.0, 0.0, 0.0, 0.0, 0.0, 0.0, 0.0, 0.0, 0.0, 0.0, 0.0, 0.0, 0.0, 0.0, 0.0, 0.0, 0.0, 0.0, 0.0, 0.0, 0.0, 0.0, 0.0, 0.0, 0.0, 0.0], [0.8541041612625122, 0.026693912222981453, 0.012052140198647976, 0.011477114632725716, 0.016153914853930473, 0.03321671113371849, 0.04243459925055504, 0.003867474850267172, 0.0, 0.0, 0.0, 0.0, 0.0, 0.0, 0.0, 0.0, 0.0, 0.0, 0.0, 0.0, 0.0, 0.0, 0.0, 0.0, 0.0, 0.0, 0.0, 0.0, 0.0, 0.0, 0.0, 0.0, 0.0, 0.0, 0.0, 0.0, 0.0, 0.0, 0.0, 0.0, 0.0, 0.0, 0.0, 0.0, 0.0], [0.6801616549491882, 0.02072976529598236, 0.018242916092276573, 0.03368604928255081, 0.0511743538081646, 0.10148171335458755, 0.0556231364607811, 0.026648011058568954, 0.012252404354512691, 0.0, 0.0, 0.0, 0.0, 0.0, 0.0, 0.0, 0.0, 0.0, 0.0, 0.0, 0.0, 0.0, 0.0, 0.0, 0.0, 0.0, 0.0, 0.0, 0.0, 0.0, 0.0, 0.0, 0.0, 0.0, 0.0, 0.0, 0.0, 0.0, 0.0, 0.0, 0.0, 0.0, 0.0, 0.0, 0.0], [0.4979637563228607, 0.03604975342750549, 0.026177238672971725, 0.026250500231981277, 0.0942830741405487, 0.1432546079158783, 0.09797372668981552, 0.022192157804965973, 0.02932017855346203, 0.02653498388826847, 0.0, 0.0, 0.0, 0.0, 0.0, 0.0, 0.0, 0.0, 0.0, 0.0, 0.0, 0.0, 0.0, 0.0, 0.0, 0.0, 0.0, 0.0, 0.0, 0.0, 0.0, 0.0, 0.0, 0.0, 0.0, 0.0, 0.0, 0.0, 0.0, 0.0, 0.0, 0.0, 0.0, 0.0, 0.0], [0.40430948138237, 0.057319801300764084, 0.06572798639535904, 0.04218348488211632, 0.09851663559675217, 0.20363332331180573, 0.024478506296873093, 0.024485044181346893, 0.020120244473218918, 0.01742328330874443, 0.041802193969488144, 0.0, 0.0, 0.0, 0.0, 0.0, 0.0, 0.0, 0.0, 0.0, 0.0, 0.0, 0.0, 0.0, 0.0, 0.0, 0.0, 0.0, 0.0, 0.0, 0.0, 0.0, 0.0, 0.0, 0.0, 0.0, 0.0, 0.0, 0.0, 0.0, 0.0, 0.0, 0.0, 0.0, 0.0], [0.16241680085659027, 0.0200106929987669, 0.019331758841872215, 0.014579388312995434, 0.09626667201519012, 0.18606595695018768, 0.01957646757364273, 0.012135024182498455, 0.013722052797675133, 0.008952099829912186, 0.26583781838417053, 0.18110528588294983, 0.0, 0.0, 0.0, 0.0, 0.0, 0.0, 0.0, 0.0, 0.0, 0.0, 0.0, 0.0, 0.0, 0.0, 0.0, 0.0, 0.0, 0.0, 0.0, 0.0, 0.0, 0.0, 0.0, 0.0, 0.0, 0.0, 0.0, 0.0, 0.0, 0.0, 0.0, 0.0, 0.0], [0.20748959481716156, 0.009169544093310833, 0.01238773763179779, 0.008684931322932243, 0.08629036694765091, 0.09741782397031784, 0.007598878815770149, 0.008672541007399559, 0.00816038716584444, 0.006086044944822788, 0.1367926150560379, 0.3681241273880005, 0.04312542825937271, 0.0, 0.0, 0.0, 0.0, 0.0, 0.0, 0.0, 0.0, 0.0, 0.0, 0.0, 0.0, 0.0, 0.0, 0.0, 0.0, 0.0, 0.0, 0.0, 0.0, 0.0, 0.0, 0.0, 0.0, 0.0, 0.0, 0.0, 0.0, 0.0, 0.0, 0.0, 0.0], [0.21418051421642303, 0.01007686834782362, 0.008807576261460781, 0.0070564537309110165, 0.020071828737854958, 0.04450784996151924, 0.006545291282236576, 0.011187378317117691, 0.003248035442084074, 0.0032578494865447283, 0.050831861793994904, 0.3817485272884369, 0.16888384521007538, 0.06959614157676697, 0.0, 0.0, 0.0, 0.0, 0.0, 0.0, 0.0, 0.0, 0.0, 0.0, 0.0, 0.0, 0.0, 0.0, 0.0, 0.0, 0.0, 0.0, 0.0, 0.0, 0.0, 0.0, 0.0, 0.0, 0.0, 0.0, 0.0, 0.0, 0.0, 0.0, 0.0], [0.37273305654525757, 0.011324979364871979, 0.012873311527073383, 0.00723161781206727, 0.0268600732088089, 0.03689595311880112, 0.00860506109893322, 0.019691456109285355, 0.01030185166746378, 0.0117864441126585, 0.06465049833059311, 0.22179806232452393, 0.09750151634216309, 0.057524360716342926, 0.04022172838449478, 0.0, 0.0, 0.0, 0.0, 0.0, 0.0, 0.0, 0.0, 0.0, 0.0, 0.0, 0.0, 0.0, 0.0, 0.0, 0.0, 0.0, 0.0, 0.0, 0.0, 0.0, 0.0, 0.0, 0.0, 0.0, 0.0, 0.0, 0.0, 0.0, 0.0], [0.29281172156333923, 0.017936088144779205, 0.013052303344011307, 0.009134432300925255, 0.015946481376886368, 0.030781986191868782, 0.011560672894120216, 0.0019643446430563927, 0.004087010398507118, 0.004172755405306816, 0.08476390689611435, 0.18213441967964172, 0.12659841775894165, 0.0971386507153511, 0.09638886898756027, 0.011527931317687035, 0.0, 0.0, 0.0, 0.0, 0.0, 0.0, 0.0, 0.0, 0.0, 0.0, 0.0, 0.0, 0.0, 0.0, 0.0, 0.0, 0.0, 0.0, 0.0, 0.0, 0.0, 0.0, 0.0, 0.0, 0.0, 0.0, 0.0, 0.0, 0.0], [0.36273032426834106, 0.004076295532286167, 0.005486743524670601, 0.005487117916345596, 0.010880726389586926, 0.028578173369169235, 0.010642608627676964, 0.0033347962889820337, 0.0019825980998575687, 0.0041696601547300816, 0.04169768840074539, 0.18801093101501465, 0.10120173543691635, 0.10551537573337555, 0.09746982157230377, 0.013283328153192997, 0.01545210275799036, 0.0, 0.0, 0.0, 0.0, 0.0, 0.0, 0.0, 0.0, 0.0, 0.0, 0.0, 0.0, 0.0, 0.0, 0.0, 0.0, 0.0, 0.0, 0.0, 0.0, 0.0, 0.0, 0.0, 0.0, 0.0, 0.0, 0.0, 0.0], [0.2931652069091797, 0.005827074404805899, 0.004314240999519825, 0.0025525845121592283, 0.010529225692152977, 0.02094355598092079, 0.013341146521270275, 0.002798487665131688, 0.0034765920136123896, 0.0033356952480971813, 0.05422521010041237, 0.12316549569368362, 0.09101428091526031, 0.14566414058208466, 0.17106327414512634, 0.011947381310164928, 0.026293881237506866, 0.016342539340257645, 0.0, 0.0, 0.0, 0.0, 0.0, 0.0, 0.0, 0.0, 0.0, 0.0, 0.0, 0.0, 0.0, 0.0, 0.0, 0.0, 0.0, 0.0, 0.0, 0.0, 0.0, 0.0, 0.0, 0.0, 0.0, 0.0, 0.0], [0.1713685691356659, 0.005424107890576124, 0.012077686376869678, 0.017223317176103592, 0.04010310024023056, 0.05167090520262718, 0.007683048024773598, 0.0031988921109586954, 0.0043470836244523525, 0.00282542547211051, 0.05880735442042351, 0.2017722874879837, 0.10547780245542526, 0.10281182825565338, 0.12836980819702148, 0.014443078078329563, 0.029003391042351723, 0.016621023416519165, 0.02677130326628685, 0.0, 0.0, 0.0, 0.0, 0.0, 0.0, 0.0, 0.0, 0.0, 0.0, 0.0, 0.0, 0.0, 0.0, 0.0, 0.0, 0.0, 0.0, 0.0, 0.0, 0.0, 0.0, 0.0, 0.0, 0.0, 0.0], [0.14349034428596497, 0.003766061970964074, 0.004167529754340649, 0.0037587564438581467, 0.014960654079914093, 0.020815225318074226, 0.0053171864710748196, 0.004040999803692102, 0.0011526638409122825, 0.0015516526764258742, 0.02161768265068531, 0.3029375970363617, 0.054856911301612854, 0.17028965055942535, 0.09676975011825562, 0.019063452258706093, 0.013766682706773281, 0.0154814338311553, 0.08812893182039261, 0.014066868461668491, 0.0, 0.0, 0.0, 0.0, 0.0, 0.0, 0.0, 0.0, 0.0, 0.0, 0.0, 0.0, 0.0, 0.0, 0.0, 0.0, 0.0, 0.0, 0.0, 0.0, 0.0, 0.0, 0.0, 0.0, 0.0], [0.17259378731250763, 0.004714507143944502, 0.005877838935703039, 0.0041697826236486435, 0.008210236206650734, 0.008751880377531052, 0.003191601950675249, 0.0036516725085675716, 0.0010962330270558596, 0.0014566428726539016, 0.02912050485610962, 0.11215870082378387, 0.05961620435118675, 0.17321300506591797, 0.05882888287305832, 0.015392146073281765, 0.013552402146160603, 0.01086143683642149, 0.1812703013420105, 0.10704504698514938, 0.025227194651961327, 0.0, 0.0, 0.0, 0.0, 0.0, 0.0, 0.0, 0.0, 0.0, 0.0, 0.0, 0.0, 0.0, 0.0, 0.0, 0.0, 0.0, 0.0, 0.0, 0.0, 0.0, 0.0, 0.0, 0.0], [0.10584485530853271, 0.005425567738711834, 0.005584302358329296, 0.003128667362034321, 0.004067741334438324, 0.008741937577724457, 0.0034112625289708376, 0.0044691720977425575, 0.0023762851487845182, 0.0019477714085951447, 0.0537872351706028, 0.11470138281583786, 0.04150843247771263, 0.2885762155056, 0.03656722605228424, 0.0141554344445467, 0.014109781943261623, 0.00980265624821186, 0.16134066879749298, 0.08379897475242615, 0.026125505566596985, 0.01052889320999384, 0.0, 0.0, 0.0, 0.0, 0.0, 0.0, 0.0, 0.0, 0.0, 0.0, 0.0, 0.0, 0.0, 0.0, 0.0, 0.0, 0.0, 0.0, 0.0, 0.0, 0.0, 0.0, 0.0], [0.22055712342262268, 0.008038812316954136, 0.007462215144187212, 0.002808930817991495, 0.00697065657004714, 0.009958296082913876, 0.006486244034022093, 0.00267457845620811, 0.0032829975243657827, 0.0020015358459204435, 0.06191455200314522, 0.09891063719987869, 0.03313194587826729, 0.13326792418956757, 0.07087003439664841, 0.016674829646945, 0.02190770022571087, 0.013477668166160583, 0.10430169105529785, 0.06545800715684891, 0.041932426393032074, 0.032992955297231674, 0.034918248653411865, 0.0, 0.0, 0.0, 0.0, 0.0, 0.0, 0.0, 0.0, 0.0, 0.0, 0.0, 0.0, 0.0, 0.0, 0.0, 0.0, 0.0, 0.0, 0.0, 0.0, 0.0, 0.0], [0.19073571264743805, 0.0035033426247537136, 0.0037640549708157778, 0.0018124168273061514, 0.003853302448987961, 0.00883862841874361, 0.0036846185103058815, 0.0010453456779941916, 0.0014591231010854244, 0.000792714417912066, 0.018816009163856506, 0.12757784128189087, 0.12137723714113235, 0.1369396448135376, 0.07695536315441132, 0.011859618127346039, 0.02585114911198616, 0.010401668958365917, 0.08476471900939941, 0.05223666876554489, 0.041802458465099335, 0.02495069056749344, 0.026127982884645462, 0.020849695429205894, 0.0, 0.0, 0.0, 0.0, 0.0, 0.0, 0.0, 0.0, 0.0, 0.0, 0.0, 0.0, 0.0, 0.0, 0.0, 0.0, 0.0, 0.0, 0.0, 0.0, 0.0], [0.17536237835884094, 0.004468356259167194, 0.004575606435537338, 0.004934049677103758, 0.01316281408071518, 0.03450436517596245, 0.004073397722095251, 0.0020306026563048363, 0.0009909106884151697, 0.0007793774711899459, 0.02220146171748638, 0.21648910641670227, 0.07166531682014465, 0.11314578354358673, 0.07243836671113968, 0.010395800694823265, 0.014467399567365646, 0.009523853659629822, 0.06717368215322495, 0.013856850564479828, 0.009489946998655796, 0.021438058465719223, 0.020109277218580246, 0.05968732386827469, 0.0330360047519207, 0.0, 0.0, 0.0, 0.0, 0.0, 0.0, 0.0, 0.0, 0.0, 0.0, 0.0, 0.0, 0.0, 0.0, 0.0, 0.0, 0.0, 0.0, 0.0, 0.0], [0.1439448893070221, 0.0036529835779219866, 0.0020258105359971523, 0.0011387005215510726, 0.004572984296828508, 0.01691022701561451, 0.004302292596548796, 0.002846864517778158, 0.001746798399835825, 0.0013358178548514843, 0.024989968165755272, 0.11266221106052399, 0.04011222720146179, 0.13626253604888916, 0.05961020290851593, 0.012022598646581173, 0.020054956898093224, 0.013677452690899372, 0.1177927777171135, 0.028621992096304893, 0.014938651584088802, 0.015843253582715988, 0.025085799396038055, 0.0675630196928978, 0.1119784340262413, 0.016306515783071518, 0.0, 0.0, 0.0, 0.0, 0.0, 0.0, 0.0, 0.0, 0.0, 0.0, 0.0, 0.0, 0.0, 0.0, 0.0, 0.0, 0.0, 0.0, 0.0], [0.1692129671573639, 0.00558077497407794, 0.0031884468626230955, 0.003074584063142538, 0.0063209254294633865, 0.022457972168922424, 0.00664504524320364, 0.0025795793626457453, 0.0012549033854156733, 0.0016487750690430403, 0.03723444789648056, 0.12235116958618164, 0.060309164226055145, 0.06663458794355392, 0.057680875062942505, 0.010551395826041698, 0.013148250058293343, 0.010469947941601276, 0.1299266666173935, 0.01918864995241165, 0.01417411956936121, 0.018265416845679283, 0.018224583938717842, 0.05713879317045212, 0.09023243933916092, 0.043232448399066925, 0.009273208677768707, 0.0, 0.0, 0.0, 0.0, 0.0, 0.0, 0.0, 0.0, 0.0, 0.0, 0.0, 0.0, 0.0, 0.0, 0.0, 0.0, 0.0, 0.0], [0.0632677674293518, 0.006443593185395002, 0.0043699112720787525, 0.0028887572698295116, 0.011250996962189674, 0.02846674993634224, 0.0048347716219723225, 0.002080380218103528, 0.0009220950305461884, 0.0008780342759564519, 0.049333203583955765, 0.10251422971487045, 0.051813773810863495, 0.11371424794197083, 0.05129338800907135, 0.008684641681611538, 0.012168684042990208, 0.008265425451099873, 0.14927394688129425, 0.06329590082168579, 0.017611218616366386, 0.020166603848338127, 0.029797466471791267, 0.03967439755797386, 0.10758812725543976, 0.03143584728240967, 0.011124581098556519, 0.006841203663498163, 0.0, 0.0, 0.0, 0.0, 0.0, 0.0, 0.0, 0.0, 0.0, 0.0, 0.0, 0.0, 0.0, 0.0, 0.0, 0.0, 0.0], [0.15622206032276154, 0.0036344060208648443, 0.003468296956270933, 0.0038592128548771143, 0.005404526833444834, 0.012915121391415596, 0.0014322171919047832, 0.0023961083497852087, 0.0006902480381540954, 0.0005310135893523693, 0.016451241448521614, 0.08176606893539429, 0.03023580089211464, 0.08344569802284241, 0.02858954295516014, 0.012187197804450989, 0.011102861724793911, 0.00851247925311327, 0.0860903188586235, 0.03109150379896164, 0.018862277269363403, 0.013358889147639275, 0.03578699007630348, 0.03178980574011803, 0.1870633065700531, 0.056639138609170914, 0.01457087229937315, 0.018847333267331123, 0.04305541142821312, 0.0, 0.0, 0.0, 0.0, 0.0, 0.0, 0.0, 0.0, 0.0, 0.0, 0.0, 0.0, 0.0, 0.0, 0.0, 0.0], [0.3615105152130127, 0.009802184998989105, 0.005699120927602053, 0.006745506543666124, 0.013547309674322605, 0.021823549643158913, 0.00294989044778049, 0.00337130855768919, 0.0026353236753493547, 0.003025513608008623, 0.03280356898903847, 0.04414977505803108, 0.021793127059936523, 0.029388584196567535, 0.0217109527438879, 0.013308949768543243, 0.015896840021014214, 0.012864206917583942, 0.04383554682135582, 0.01742928847670555, 0.013369799591600895, 0.014439236372709274, 0.017519813030958176, 0.025268152356147766, 0.0913202315568924, 0.03610885143280029, 0.015359885059297085, 0.026944296434521675, 0.0402015745639801, 0.03517709672451019, 0.0, 0.0, 0.0, 0.0, 0.0, 0.0, 0.0, 0.0, 0.0, 0.0, 0.0, 0.0, 0.0, 0.0, 0.0], [0.5410351157188416, 0.009730935096740723, 0.00371631165035069, 0.004885109607130289, 0.012563066557049751, 0.014800991863012314, 0.0028627715073525906, 0.0008393480093218386, 0.0013672440545633435, 0.0012689479626715183, 0.019323861226439476, 0.04808371886610985, 0.010768274776637554, 0.015492959879338741, 0.012760409153997898, 0.003335766028612852, 0.006523611955344677, 0.004824755247682333, 0.04366583749651909, 0.009074706584215164, 0.010315227322280407, 0.015572347678244114, 0.010786130093038082, 0.010787448845803738, 0.0473850779235363, 0.019972868263721466, 0.017712676897644997, 0.025630010291934013, 0.02702871337532997, 0.04011091589927673, 0.007774932309985161, 0.0, 0.0, 0.0, 0.0, 0.0, 0.0, 0.0, 0.0, 0.0, 0.0, 0.0, 0.0, 0.0, 0.0], [0.36354804039001465, 0.0052549042738974094, 0.0018444971647113562, 0.0011167858028784394, 0.005456141196191311, 0.00980842299759388, 0.002577258041128516, 0.0006405020249076188, 0.0005794455064460635, 0.0007896998431533575, 0.011276403442025185, 0.0329299196600914, 0.015861496329307556, 0.02525606006383896, 0.023227225989103317, 0.003426800947636366, 0.006153474561870098, 0.004943611565977335, 0.05130371078848839, 0.011290336027741432, 0.012511324137449265, 0.009642825461924076, 0.012681681662797928, 0.018468346446752548, 0.2073127031326294, 0.026082783937454224, 0.020400095731019974, 0.017262622714042664, 0.044203419238328934, 0.04209534078836441, 0.007233136333525181, 0.004820907022804022, 0.0, 0.0, 0.0, 0.0, 0.0, 0.0, 0.0, 0.0, 0.0, 0.0, 0.0, 0.0, 0.0], [0.417959988117218, 0.007237851619720459, 0.0036767867859452963, 0.0032722812611609697, 0.011362161487340927, 0.01877880096435547, 0.002560586202889681, 0.0005716439918614924, 0.0008951009949669242, 0.0009055442060343921, 0.01337662898004055, 0.07906084507703781, 0.00943297240883112, 0.02028685435652733, 0.021498190239071846, 0.0022336523979902267, 0.0055971695110201836, 0.0044449493288993835, 0.03619768097996712, 0.009186974726617336, 0.008819682523608208, 0.016904233023524284, 0.016184432432055473, 0.03276081383228302, 0.06329616904258728, 0.021133597940206528, 0.022510787472128868, 0.03174426034092903, 0.03337600454688072, 0.050407156348228455, 0.010442690923810005, 0.017323797568678856, 0.006559793371707201, 0.0, 0.0, 0.0, 0.0, 0.0, 0.0, 0.0, 0.0, 0.0, 0.0, 0.0, 0.0], [0.1280389428138733, 0.008517959155142307, 0.01335444487631321, 0.00945966225117445, 0.01675935834646225, 0.050382521003484726, 0.002049665432423353, 0.001313890446908772, 0.000925377185922116, 0.0007973169558681548, 0.012486804276704788, 0.3271307349205017, 0.06520584225654602, 0.10883066803216934, 0.032003361731767654, 0.009547712281346321, 0.013640567660331726, 0.011700151488184929, 0.0306242648512125, 0.012521782889962196, 0.009276171214878559, 0.00960717722773552, 0.01459827832877636, 0.0165354385972023, 0.036032818257808685, 0.0117731848731637, 0.003319544717669487, 0.006104813888669014, 0.006264524534344673, 0.00811848696321249, 0.0034856556449085474, 0.0028651885222643614, 0.0021926050540059805, 0.014535028487443924, 0.0, 0.0, 0.0, 0.0, 0.0, 0.0, 0.0, 0.0, 0.0, 0.0, 0.0], [0.22996652126312256, 0.00620042672380805, 0.005522068589925766, 0.006597565487027168, 0.024375779554247856, 0.08440650254487991, 0.0020363652147352695, 0.0007805560017004609, 0.0009222941589541733, 0.0005050837062299252, 0.07081349939107895, 0.038346800953149796, 0.014869136735796928, 0.034822020679712296, 0.010229100473225117, 0.002646515378728509, 0.004444716032594442, 0.00218021753244102, 0.017968760803341866, 0.012782321311533451, 0.004655538592487574, 0.006552597973495722, 0.00891901459544897, 0.007557951845228672, 0.007857752032577991, 0.005712830927222967, 0.0023625099565833807, 0.003656181041151285, 0.0029065979178994894, 0.005373026244342327, 0.006174826994538307, 0.004355244338512421, 0.004078648053109646, 0.11637056618928909, 0.24305056035518646, 0.0, 0.0, 0.0, 0.0, 0.0, 0.0, 0.0, 0.0, 0.0, 0.0], [0.34644457697868347, 0.002272075740620494, 0.0017172335647046566, 0.0017932557966560125, 0.016191739588975906, 0.04393019527196884, 0.001677305088378489, 0.0005781658110208809, 0.0004936097539030015, 0.0003886592458002269, 0.016382239758968353, 0.02352089434862137, 0.006021147593855858, 0.00890296045690775, 0.009324346669018269, 0.001287316088564694, 0.002234120387583971, 0.0013502148212864995, 0.008680776692926884, 0.007145811337977648, 0.003589697415009141, 0.005755570717155933, 0.010148391127586365, 0.0028683736454695463, 0.02148887701332569, 0.008179842494428158, 0.0070600351318717, 0.009389142505824566, 0.0044513242319226265, 0.00963438767939806, 0.0023849590215831995, 0.00197008578106761, 0.0021966893691569567, 0.0630064308643341, 0.2888043522834778, 0.05873517692089081, 0.0, 0.0, 0.0, 0.0, 0.0, 0.0, 0.0, 0.0, 0.0], [0.4126962721347809, 0.0025332707446068525, 0.0016409887466579676, 0.001041722483932972, 0.012159716337919235, 0.026001960039138794, 0.0027748141437768936, 0.0009984140051528811, 0.0007786033675074577, 0.0005076734814792871, 0.01630026288330555, 0.021823709830641747, 0.0069784801453351974, 0.008246983401477337, 0.019462473690509796, 0.003361294511705637, 0.004852873273193836, 0.0025951119605451822, 0.003657576395198703, 0.0028353501111268997, 0.002340116770938039, 0.0037163479719311, 0.006578127853572369, 0.0024881530553102493, 0.006467021070420742, 0.0037120424676686525, 0.0038778544403612614, 0.0031791003420948982, 0.0029089648742228746, 0.013591802679002285, 0.006302839145064354, 0.0029024805407971144, 0.004717604722827673, 0.0698937401175499, 0.1999342292547226, 0.10082625597715378, 0.015315740369260311, 0.0, 0.0, 0.0, 0.0, 0.0, 0.0, 0.0, 0.0], [0.48754599690437317, 0.0006576367886736989, 0.0006668803980574012, 0.0004025049856863916, 0.002296667778864503, 0.004879959858953953, 0.0007813064148649573, 0.00047401964548043907, 0.00029231535154394805, 0.00016914590378291905, 0.004242571536451578, 0.009432132355868816, 0.0029315720312297344, 0.005584520287811756, 0.007664617616683245, 0.0014379293425008655, 0.0016253050416707993, 0.0008568101329728961, 0.002681669080629945, 0.0021178990136832, 0.0023714310955256224, 0.002020152984187007, 0.002415226772427559, 0.001285628299228847, 0.005811483599245548, 0.002443971810862422, 0.004238814581185579, 0.003504997119307518, 0.0011316480813547969, 0.006828581914305687, 0.00410111527889967, 0.001198040321469307, 0.0029604299925267696, 0.05331918224692345, 0.20083476603031158, 0.08668465167284012, 0.06119026616215706, 0.02091808430850506, 0.0, 0.0, 0.0, 0.0, 0.0, 0.0, 0.0], [0.5505968928337097, 0.0012592546408995986, 0.0008637241553515196, 0.0006545967189595103, 0.0033155842684209347, 0.005792922340333462, 0.0008481151307933033, 0.0005806392291560769, 0.00046907816431485116, 0.000250516168307513, 0.0076033067889511585, 0.007907647639513016, 0.002160130301490426, 0.0043382057920098305, 0.006600039545446634, 0.0014091938501223922, 0.0018039288697764277, 0.000893536489456892, 0.0018674874445423484, 0.0019211991457268596, 0.001534836832433939, 0.001747320988215506, 0.0023864239919930696, 0.0016088534612208605, 0.005382325500249863, 0.00215017213486135, 0.004246372729539871, 0.003412406425923109, 0.001035693334415555, 0.005284010898321867, 0.0035969791933894157, 0.001841023680754006, 0.003855322487652302, 0.06765135377645493, 0.1436362862586975, 0.06036919355392456, 0.04889636114239693, 0.020519133657217026, 0.01970997080206871, 0.0, 0.0, 0.0, 0.0, 0.0, 0.0], [0.2478140890598297, 0.0026499617379158735, 0.001401949324645102, 0.0014655826380476356, 0.0036865640431642532, 0.011826078407466412, 0.0018422952853143215, 0.0005770992138423026, 0.00045895628863945603, 0.00028497856692411005, 0.012564592994749546, 0.015264812856912613, 0.0060290805995464325, 0.008691703900694847, 0.01019393652677536, 0.0012817616807296872, 0.0020315481815487146, 0.0009580182377249002, 0.0066738435998559, 0.0072639393620193005, 0.004367421381175518, 0.003380170790478587, 0.0040376740507781506, 0.0042076013050973415, 0.015304727479815483, 0.0064796460792422295, 0.00404766108840704, 0.0039220950566232204, 0.0060028377920389175, 0.009054213762283325, 0.003991337493062019, 0.0032643661834299564, 0.004175480455160141, 0.07557329535484314, 0.1914845108985901, 0.08616220951080322, 0.09282156825065613, 0.0854988768696785, 0.0386764220893383, 0.014587052166461945, 0.0, 0.0, 0.0, 0.0, 0.0], [0.17409078776836395, 0.003985879477113485, 0.005084534175693989, 0.0026313767302781343, 0.005337191745638847, 0.007475712802261114, 0.00030144740594550967, 0.0003334376960992813, 0.00042285938980057836, 0.00038437271723523736, 0.00836796686053276, 0.061153389513492584, 0.007592612877488136, 0.003372829407453537, 0.001116897794418037, 0.0010430687107145786, 0.00220430176705122, 0.0013638728996738791, 0.008172926492989063, 0.0015253317542374134, 0.0012485558399930596, 0.00139192258939147, 0.0018760192906484008, 0.0009396391687914729, 0.0044882772490382195, 0.0018581557087600231, 0.001336566754616797, 0.0021038479171693325, 0.0008502868586219847, 0.002541016321629286, 0.0012909835204482079, 0.0010162136750295758, 0.0004972843453288078, 0.01946885697543621, 0.4942344129085541, 0.08076047897338867, 0.03619101643562317, 0.012035435996949673, 0.013073327951133251, 0.013467664830386639, 0.013369238004088402, 0.0, 0.0, 0.0, 0.0], [0.2509225010871887, 0.005362090654671192, 0.0024039787240326405, 0.0018225652165710926, 0.00244540860876441, 0.004501073155552149, 0.0004447940445970744, 5.309708649292588e-05, 0.00012889316712971777, 0.00010666415619198233, 0.009002751670777798, 0.020447133108973503, 0.003054368309676647, 0.0027252864092588425, 0.0021110111847519875, 0.00017241379828192294, 0.0005019239033572376, 0.0003112791455350816, 0.005287016276270151, 0.0007057292386889458, 0.0008052719640545547, 0.0009531420655548573, 0.0017480197129771113, 0.0010993670439347625, 0.0027823736891150475, 0.0017308755777776241, 0.0012881961883977056, 0.0015191752463579178, 0.0009751517209224403, 0.0041071572341024876, 0.0007499521016143262, 0.0008557879482395947, 0.00043148797703906894, 0.0415160208940506, 0.2846311330795288, 0.06494896858930588, 0.06953945010900497, 0.021792789921164513, 0.02915198728442192, 0.021889280527830124, 0.1142021045088768, 0.0207723006606102, 0.0, 0.0, 0.0], [0.30191975831985474, 0.001311959931626916, 0.0008524350123479962, 0.0008620950393378735, 0.0012252298183739185, 0.00409679114818573, 0.0002356181648792699, 6.306936120381579e-05, 5.2572293498087674e-05, 6.67417625663802e-05, 0.004431104753166437, 0.01624833419919014, 0.0014740312471985817, 0.0024020643904805183, 0.0010322901653125882, 0.00014453100448008627, 0.0002069139591185376, 0.00017569353803992271, 0.0049935937859117985, 0.0007972566527314484, 0.0005035807262174785, 0.0007449776167050004, 0.001098418259061873, 0.0007149019511416554, 0.002865709364414215, 0.0014791536377742887, 0.000823327514808625, 0.001663169707171619, 0.0007655196241103113, 0.002370101399719715, 0.0006498792208731174, 0.0008550892234779894, 0.0003148569958284497, 0.029257366433739662, 0.2956988513469696, 0.04109933227300644, 0.06785409152507782, 0.019078316166996956, 0.03087330423295498, 0.02045418694615364, 0.06732536852359772, 0.025901542976498604, 0.045016832649707794, 0.0, 0.0], [0.234800323843956, 0.0013691987842321396, 0.000636362296063453, 0.0004178383678663522, 0.0011723116040229797, 0.003367863828316331, 0.00022434446145780385, 3.6472862120717764e-05, 5.642206087941304e-05, 4.393329072627239e-05, 0.005336713045835495, 0.01102449744939804, 0.0008222105097956955, 0.0022091278806328773, 0.0012967509683221579, 9.104986384045333e-05, 0.0001954445178853348, 0.0001112704849219881, 0.003341583302244544, 0.0011674187844619155, 0.0005791374132968485, 0.0006725130369886756, 0.001249073538929224, 0.0007479532505385578, 0.0027649211697280407, 0.001027286401949823, 0.0011715403525158763, 0.0018228337867185473, 0.000827284122351557, 0.0018594339489936829, 0.0005190210649743676, 0.0005824679974466562, 0.00024085973564069718, 0.03611520305275917, 0.221741184592247, 0.03141380101442337, 0.11225423216819763, 0.02925688400864601, 0.017551207914948463, 0.025346411392092705, 0.12869468331336975, 0.020594310015439987, 0.05118521675467491, 0.04406126216053963, 0.0], [0.16110675036907196, 0.001173266558907926, 0.0008246844517998397, 0.002002319321036339, 0.0033600435126572847, 0.004295569844543934, 0.00035954290069639683, 0.00014879619993735105, 0.00020161202701274306, 0.00011967192403972149, 0.004866805858910084, 0.013107728213071823, 0.0009160958579741418, 0.0031445256900042295, 0.0017963392892852426, 0.000262187299085781, 0.0004220439586788416, 0.0002567637711763382, 0.001133448095060885, 0.0005329158157110214, 0.0003633601882029325, 0.0009012735681608319, 0.0011594239622354507, 0.0010789898224174976, 0.0016086234245449305, 0.0016426143702119589, 0.0012953499099239707, 0.0018466145265847445, 0.00042375741759315133, 0.002711906563490629, 0.000863571825902909, 0.002013365039601922, 0.0015787604497745633, 0.02398667298257351, 0.11400484293699265, 0.015503591857850552, 0.007906259037554264, 0.004482327029109001, 0.015493622981011868, 0.023533258587121964, 0.29884135723114014, 0.03874847665429115, 0.11537091434001923, 0.08394169807434082, 0.040668338537216187]], [[1.0, 0.0, 0.0, 0.0, 0.0, 0.0, 0.0, 0.0, 0.0, 0.0, 0.0, 0.0, 0.0, 0.0, 0.0, 0.0, 0.0, 0.0, 0.0, 0.0, 0.0, 0.0, 0.0, 0.0, 0.0, 0.0, 0.0, 0.0, 0.0, 0.0, 0.0, 0.0, 0.0, 0.0, 0.0, 0.0, 0.0, 0.0, 0.0, 0.0, 0.0, 0.0, 0.0, 0.0, 0.0], [0.975434422492981, 0.0245655570179224, 0.0, 0.0, 0.0, 0.0, 0.0, 0.0, 0.0, 0.0, 0.0, 0.0, 0.0, 0.0, 0.0, 0.0, 0.0, 0.0, 0.0, 0.0, 0.0, 0.0, 0.0, 0.0, 0.0, 0.0, 0.0, 0.0, 0.0, 0.0, 0.0, 0.0, 0.0, 0.0, 0.0, 0.0, 0.0, 0.0, 0.0, 0.0, 0.0, 0.0, 0.0, 0.0, 0.0], [0.8934988975524902, 0.05945564806461334, 0.04704546928405762, 0.0, 0.0, 0.0, 0.0, 0.0, 0.0, 0.0, 0.0, 0.0, 0.0, 0.0, 0.0, 0.0, 0.0, 0.0, 0.0, 0.0, 0.0, 0.0, 0.0, 0.0, 0.0, 0.0, 0.0, 0.0, 0.0, 0.0, 0.0, 0.0, 0.0, 0.0, 0.0, 0.0, 0.0, 0.0, 0.0, 0.0, 0.0, 0.0, 0.0, 0.0, 0.0], [0.9377243518829346, 0.02469504438340664, 0.026102954521775246, 0.011477728374302387, 0.0, 0.0, 0.0, 0.0, 0.0, 0.0, 0.0, 0.0, 0.0, 0.0, 0.0, 0.0, 0.0, 0.0, 0.0, 0.0, 0.0, 0.0, 0.0, 0.0, 0.0, 0.0, 0.0, 0.0, 0.0, 0.0, 0.0, 0.0, 0.0, 0.0, 0.0, 0.0, 0.0, 0.0, 0.0, 0.0, 0.0, 0.0, 0.0, 0.0, 0.0], [0.8203496932983398, 0.021402884274721146, 0.047472819685935974, 0.06329070776700974, 0.04748394712805748, 0.0, 0.0, 0.0, 0.0, 0.0, 0.0, 0.0, 0.0, 0.0, 0.0, 0.0, 0.0, 0.0, 0.0, 0.0, 0.0, 0.0, 0.0, 0.0, 0.0, 0.0, 0.0, 0.0, 0.0, 0.0, 0.0, 0.0, 0.0, 0.0, 0.0, 0.0, 0.0, 0.0, 0.0, 0.0, 0.0, 0.0, 0.0, 0.0, 0.0], [0.5469248294830322, 0.027701010927557945, 0.08392984420061111, 0.12328699231147766, 0.12479268014431, 0.0933646708726883, 0.0, 0.0, 0.0, 0.0, 0.0, 0.0, 0.0, 0.0, 0.0, 0.0, 0.0, 0.0, 0.0, 0.0, 0.0, 0.0, 0.0, 0.0, 0.0, 0.0, 0.0, 0.0, 0.0, 0.0, 0.0, 0.0, 0.0, 0.0, 0.0, 0.0, 0.0, 0.0, 0.0, 0.0, 0.0, 0.0, 0.0, 0.0, 0.0], [0.6053368449211121, 0.011180227622389793, 0.017378004267811775, 0.03233207389712334, 0.05302325636148453, 0.25484955310821533, 0.02590000443160534, 0.0, 0.0, 0.0, 0.0, 0.0, 0.0, 0.0, 0.0, 0.0, 0.0, 0.0, 0.0, 0.0, 0.0, 0.0, 0.0, 0.0, 0.0, 0.0, 0.0, 0.0, 0.0, 0.0, 0.0, 0.0, 0.0, 0.0, 0.0, 0.0, 0.0, 0.0, 0.0, 0.0, 0.0, 0.0, 0.0, 0.0, 0.0], [0.8242308497428894, 0.02037642151117325, 0.014322157949209213, 0.021619265899062157, 0.013263572007417679, 0.0797843262553215, 0.0133731784299016, 0.013030191883444786, 0.0, 0.0, 0.0, 0.0, 0.0, 0.0, 0.0, 0.0, 0.0, 0.0, 0.0, 0.0, 0.0, 0.0, 0.0, 0.0, 0.0, 0.0, 0.0, 0.0, 0.0, 0.0, 0.0, 0.0, 0.0, 0.0, 0.0, 0.0, 0.0, 0.0, 0.0, 0.0, 0.0, 0.0, 0.0, 0.0, 0.0], [0.5681735277175903, 0.011493050493299961, 0.015429955907166004, 0.02383020892739296, 0.026243215426802635, 0.3066175580024719, 0.011892493814229965, 0.017925763502717018, 0.018394216895103455, 0.0, 0.0, 0.0, 0.0, 0.0, 0.0, 0.0, 0.0, 0.0, 0.0, 0.0, 0.0, 0.0, 0.0, 0.0, 0.0, 0.0, 0.0, 0.0, 0.0, 0.0, 0.0, 0.0, 0.0, 0.0, 0.0, 0.0, 0.0, 0.0, 0.0, 0.0, 0.0, 0.0, 0.0, 0.0, 0.0], [0.525225818157196, 0.01667618192732334, 0.0157817043364048, 0.02744187042117119, 0.030279457569122314, 0.2976437211036682, 0.009797653183341026, 0.016003934666514397, 0.036105990409851074, 0.025043802335858345, 0.0, 0.0, 0.0, 0.0, 0.0, 0.0, 0.0, 0.0, 0.0, 0.0, 0.0, 0.0, 0.0, 0.0, 0.0, 0.0, 0.0, 0.0, 0.0, 0.0, 0.0, 0.0, 0.0, 0.0, 0.0, 0.0, 0.0, 0.0, 0.0, 0.0, 0.0, 0.0, 0.0, 0.0, 0.0], [0.3074479401111603, 0.025050001218914986, 0.06188715249300003, 0.05458387732505798, 0.09357107430696487, 0.2165481001138687, 0.012054149061441422, 0.0407533124089241, 0.056599508970975876, 0.06199561059474945, 0.06950916349887848, 0.0, 0.0, 0.0, 0.0, 0.0, 0.0, 0.0, 0.0, 0.0, 0.0, 0.0, 0.0, 0.0, 0.0, 0.0, 0.0, 0.0, 0.0, 0.0, 0.0, 0.0, 0.0, 0.0, 0.0, 0.0, 0.0, 0.0, 0.0, 0.0, 0.0, 0.0, 0.0, 0.0, 0.0], [0.5660794377326965, 0.020441720262169838, 0.014318098314106464, 0.013575511984527111, 0.08718746155500412, 0.07382354140281677, 0.00775146484375, 0.015859289094805717, 0.03740988299250603, 0.019469184800982475, 0.11504830420017242, 0.029036076739430428, 0.0, 0.0, 0.0, 0.0, 0.0, 0.0, 0.0, 0.0, 0.0, 0.0, 0.0, 0.0, 0.0, 0.0, 0.0, 0.0, 0.0, 0.0, 0.0, 0.0, 0.0, 0.0, 0.0, 0.0, 0.0, 0.0, 0.0, 0.0, 0.0, 0.0, 0.0, 0.0, 0.0], [0.5893577337265015, 0.0012803616700693965, 0.0006457653944380581, 0.00017649942310526967, 0.0024254696909338236, 0.006445493549108505, 0.013047000393271446, 0.0017958417301997542, 0.005930654238909483, 0.0020446046255528927, 0.01280216034501791, 0.2578699290752411, 0.10617844760417938, 0.0, 0.0, 0.0, 0.0, 0.0, 0.0, 0.0, 0.0, 0.0, 0.0, 0.0, 0.0, 0.0, 0.0, 0.0, 0.0, 0.0, 0.0, 0.0, 0.0, 0.0, 0.0, 0.0, 0.0, 0.0, 0.0, 0.0, 0.0, 0.0, 0.0, 0.0, 0.0], [0.6253760457038879, 0.001195215154439211, 0.0010583598632365465, 0.00018861248099710792, 0.0005320031777955592, 0.006031859200447798, 0.005392656661570072, 0.0032248166389763355, 0.01110937912017107, 0.0034036498982459307, 0.02383716031908989, 0.23550385236740112, 0.06387936323881149, 0.019266992807388306, 0.0, 0.0, 0.0, 0.0, 0.0, 0.0, 0.0, 0.0, 0.0, 0.0, 0.0, 0.0, 0.0, 0.0, 0.0, 0.0, 0.0, 0.0, 0.0, 0.0, 0.0, 0.0, 0.0, 0.0, 0.0, 0.0, 0.0, 0.0, 0.0, 0.0, 0.0], [0.22311218082904816, 0.0005697195883840322, 0.00042968575144186616, 0.00046152857248671353, 0.0017397204646840692, 0.004970040637999773, 0.0028814838733524084, 0.0027611111290752888, 0.005601348355412483, 0.0022881675977259874, 0.00859192106872797, 0.03761698305606842, 0.14811164140701294, 0.4679358899593353, 0.09292852878570557, 0.0, 0.0, 0.0, 0.0, 0.0, 0.0, 0.0, 0.0, 0.0, 0.0, 0.0, 0.0, 0.0, 0.0, 0.0, 0.0, 0.0, 0.0, 0.0, 0.0, 0.0, 0.0, 0.0, 0.0, 0.0, 0.0, 0.0, 0.0, 0.0, 0.0], [0.2931254506111145, 0.0030327371787279844, 0.001074175233952701, 0.0007514053722843528, 0.0014904369600117207, 0.0107442457228899, 0.0007372612599283457, 0.0006243325187824667, 0.001214631600305438, 0.000588843715377152, 0.030804121866822243, 0.08586011826992035, 0.34377381205558777, 0.17826834321022034, 0.04020657390356064, 0.007703479845076799, 0.0, 0.0, 0.0, 0.0, 0.0, 0.0, 0.0, 0.0, 0.0, 0.0, 0.0, 0.0, 0.0, 0.0, 0.0, 0.0, 0.0, 0.0, 0.0, 0.0, 0.0, 0.0, 0.0, 0.0, 0.0, 0.0, 0.0, 0.0, 0.0], [0.3533913791179657, 0.0010280160931870341, 0.0007614846690557897, 0.00040265751886181533, 0.001194638549350202, 0.011036794632673264, 0.0009871472138911486, 0.0009570492547936738, 0.001096708932891488, 0.0006520104361698031, 0.015641286969184875, 0.060566842555999756, 0.185882106423378, 0.28482338786125183, 0.04361526295542717, 0.010383594781160355, 0.02757970802485943, 0.0, 0.0, 0.0, 0.0, 0.0, 0.0, 0.0, 0.0, 0.0, 0.0, 0.0, 0.0, 0.0, 0.0, 0.0, 0.0, 0.0, 0.0, 0.0, 0.0, 0.0, 0.0, 0.0, 0.0, 0.0, 0.0, 0.0, 0.0], [0.26415446400642395, 0.000947806634940207, 0.00031701059197075665, 0.00014857818314339966, 0.0004733994137495756, 0.0038378227036446333, 0.0006572218262590468, 0.0005697656306438148, 0.001114435726776719, 0.00045529112685471773, 0.011817000806331635, 0.06055344268679619, 0.21147307753562927, 0.3490211069583893, 0.036643434315919876, 0.006789337377995253, 0.03398577868938446, 0.01704101823270321, 0.0, 0.0, 0.0, 0.0, 0.0, 0.0, 0.0, 0.0, 0.0, 0.0, 0.0, 0.0, 0.0, 0.0, 0.0, 0.0, 0.0, 0.0, 0.0, 0.0, 0.0, 0.0, 0.0, 0.0, 0.0, 0.0, 0.0], [0.5762190818786621, 0.0005383248790167272, 0.0006181541830301285, 0.0009551072143949568, 0.0048383306711912155, 0.00827225111424923, 0.0006036443519406021, 0.001564021804369986, 0.0028662211261689663, 0.00112082005944103, 0.013511218130588531, 0.06077984720468521, 0.0641910657286644, 0.1256636530160904, 0.011303371749818325, 0.005941502749919891, 0.017640510573983192, 0.008368580602109432, 0.09500425308942795, 0.0, 0.0, 0.0, 0.0, 0.0, 0.0, 0.0, 0.0, 0.0, 0.0, 0.0, 0.0, 0.0, 0.0, 0.0, 0.0, 0.0, 0.0, 0.0, 0.0, 0.0, 0.0, 0.0, 0.0, 0.0, 0.0], [0.7818371653556824, 0.0004171802429482341, 0.0003570048720575869, 0.00021470923093147576, 0.0013982612872496247, 0.004006412345916033, 0.00023294155835174024, 0.0005871626199223101, 0.0014717825688421726, 0.0006292698089964688, 0.014438427053391933, 0.02751845493912697, 0.022156111896038055, 0.0299368929117918, 0.00609439704567194, 0.003224586136639118, 0.008139182813465595, 0.004168589133769274, 0.08125138282775879, 0.011920114979147911, 0.0, 0.0, 0.0, 0.0, 0.0, 0.0, 0.0, 0.0, 0.0, 0.0, 0.0, 0.0, 0.0, 0.0, 0.0, 0.0, 0.0, 0.0, 0.0, 0.0, 0.0, 0.0, 0.0, 0.0, 0.0], [0.7523148059844971, 0.0004931252915412188, 0.0003685702686198056, 0.00018335925415158272, 0.0022678205277770758, 0.005129592027515173, 0.0012152367271482944, 0.0007558295619674027, 0.002336504403501749, 0.0007381679606623948, 0.015242338180541992, 0.013317463919520378, 0.036141786724328995, 0.019110312685370445, 0.018480177968740463, 0.004920089617371559, 0.011020704172551632, 0.006091384682804346, 0.028757095336914062, 0.032918330281972885, 0.04819738119840622, 0.0, 0.0, 0.0, 0.0, 0.0, 0.0, 0.0, 0.0, 0.0, 0.0, 0.0, 0.0, 0.0, 0.0, 0.0, 0.0, 0.0, 0.0, 0.0, 0.0, 0.0, 0.0, 0.0, 0.0], [0.7264512181282043, 0.00012920907465741038, 0.0001129300071625039, 5.454468555399217e-05, 0.0004936947370879352, 0.0013897260650992393, 0.002784818410873413, 0.0007754130638204515, 0.005779656581580639, 0.0018867281032726169, 0.010722894221544266, 0.0027140630409121513, 0.0026129616890102625, 0.005539849400520325, 0.01540022250264883, 0.006774482782930136, 0.021171391010284424, 0.013078703545033932, 0.0373893678188324, 0.041604045778512955, 0.06032528728246689, 0.042808812111616135, 0.0, 0.0, 0.0, 0.0, 0.0, 0.0, 0.0, 0.0, 0.0, 0.0, 0.0, 0.0, 0.0, 0.0, 0.0, 0.0, 0.0, 0.0, 0.0, 0.0, 0.0, 0.0, 0.0], [0.47322192788124084, 1.867318496806547e-05, 2.0425763068487868e-05, 1.493145555286901e-05, 0.00022151306620799005, 0.0010550915030762553, 0.0012889403151348233, 0.0005478129023686051, 0.0019757908303290606, 0.0006213883170858026, 0.004395611118525267, 0.0011783222435042262, 0.00041159719694405794, 0.0019873734563589096, 0.006514208856970072, 0.001971128163859248, 0.0038536102510988712, 0.0023485023993998766, 0.014446946792304516, 0.01930062845349312, 0.15183423459529877, 0.2466413527727127, 0.06613005697727203, 0.0, 0.0, 0.0, 0.0, 0.0, 0.0, 0.0, 0.0, 0.0, 0.0, 0.0, 0.0, 0.0, 0.0, 0.0, 0.0, 0.0, 0.0, 0.0, 0.0, 0.0, 0.0], [0.5051984786987305, 0.0003357760433573276, 8.751826680963859e-05, 0.00019251798221375793, 0.00028519469196908176, 0.0013832731638103724, 0.000423284771386534, 0.00023835510364733636, 0.00021189209655858576, 9.017119009513408e-05, 0.0012233617017045617, 0.002903021639212966, 0.005315191578119993, 0.005680922418832779, 0.005242407321929932, 0.001386467833071947, 0.0015497510321438313, 0.0012105958303436637, 0.012148831970989704, 0.024042826145887375, 0.03800457715988159, 0.16790571808815002, 0.19506634771823883, 0.029873529449105263, 0.0, 0.0, 0.0, 0.0, 0.0, 0.0, 0.0, 0.0, 0.0, 0.0, 0.0, 0.0, 0.0, 0.0, 0.0, 0.0, 0.0, 0.0, 0.0, 0.0, 0.0], [0.4453679025173187, 0.0002134689420927316, 0.0001318215363426134, 8.022112160688266e-05, 0.0003619127091951668, 0.0013393164845183492, 0.0001623963617021218, 0.00040736483060754836, 0.0002943592262454331, 0.00010037831088993698, 0.002392789348959923, 0.00586362648755312, 0.013560455292463303, 0.008990761823952198, 0.003471862757578492, 0.0029942046385258436, 0.0039543467573821545, 0.0016850755782797933, 0.033037833869457245, 0.02715989015996456, 0.03792840614914894, 0.055772073566913605, 0.049371328204870224, 0.22953945398330688, 0.07581878453493118, 0.0, 0.0, 0.0, 0.0, 0.0, 0.0, 0.0, 0.0, 0.0, 0.0, 0.0, 0.0, 0.0, 0.0, 0.0, 0.0, 0.0, 0.0, 0.0, 0.0], [0.5548277497291565, 3.8455513276858255e-05, 2.266096453240607e-05, 3.0305002383101964e-06, 5.167258859728463e-05, 9.21126629691571e-05, 0.00018226343672722578, 0.00010129957809112966, 0.00014755288430023938, 6.217580812517554e-05, 0.0005412486498244107, 0.0013068360276520252, 0.0009161342750303447, 0.0012723207473754883, 0.0019518010085448623, 0.0005969518097117543, 0.0013994828332215548, 0.0007907018298283219, 0.009429237805306911, 0.005870062857866287, 0.012742605060338974, 0.021050697192549706, 0.03014577552676201, 0.0643041804432869, 0.2657591700553894, 0.026393868029117584, 0.0, 0.0, 0.0, 0.0, 0.0, 0.0, 0.0, 0.0, 0.0, 0.0, 0.0, 0.0, 0.0, 0.0, 0.0, 0.0, 0.0, 0.0, 0.0], [0.4284228980541229, 1.783013613021467e-05, 3.512082184897736e-05, 1.2455384421627969e-05, 2.486739140294958e-05, 0.00024106487398967147, 0.0002472984488122165, 0.00010593914339551702, 5.9480284107849e-05, 5.4904445278225467e-05, 0.0013441115152090788, 0.0008419508812949061, 0.000784649106208235, 0.0010006962111219764, 0.0015324411215260625, 0.00042789996950887144, 0.00034536284510977566, 0.0005110863130539656, 0.007415066938847303, 0.004450629465281963, 0.017792338505387306, 0.01957736909389496, 0.022155141457915306, 0.06634659320116043, 0.2827647924423218, 0.12446940690279007, 0.019018571823835373, 0.0, 0.0, 0.0, 0.0, 0.0, 0.0, 0.0, 0.0, 0.0, 0.0, 0.0, 0.0, 0.0, 0.0, 0.0, 0.0, 0.0, 0.0], [0.3424178659915924, 9.577553282724693e-05, 9.706136188469827e-05, 7.050624844850972e-05, 0.00018396927043795586, 0.0002956731477752328, 0.00037597239133901894, 0.00016312356456182897, 0.0001577673974679783, 0.00019540182256605476, 0.0031049419194459915, 0.0010346524650231004, 0.0012924519833177328, 0.003829538356512785, 0.0023088199086487293, 0.001108521712012589, 0.0009913364192470908, 0.0015245189424604177, 0.011609598062932491, 0.008296352811157703, 0.011865545995533466, 0.04944403097033501, 0.08216504752635956, 0.13208582997322083, 0.11283363401889801, 0.15916812419891357, 0.03226727247238159, 0.04101652652025223, 0.0, 0.0, 0.0, 0.0, 0.0, 0.0, 0.0, 0.0, 0.0, 0.0, 0.0, 0.0, 0.0, 0.0, 0.0, 0.0, 0.0], [0.26223519444465637, 1.2265164514246862e-05, 3.148926407448016e-05, 1.580326170369517e-05, 7.281816942850128e-05, 7.28199738659896e-05, 9.684795077191666e-05, 4.7195710067171603e-05, 0.00012394781515467912, 3.16887853841763e-05, 0.0006252768216654658, 0.0005322643555700779, 0.0001704636961221695, 0.00021012622164562345, 0.001637535635381937, 0.0005539297126233578, 0.000932348077185452, 0.0004915329627692699, 0.0016790807712823153, 0.0013436463195830584, 0.01412432361394167, 0.014795291237533092, 0.027774211019277573, 0.019108418375253677, 0.1730700582265854, 0.06572363525629044, 0.08789073675870895, 0.26098722219467163, 0.06560978293418884, 0.0, 0.0, 0.0, 0.0, 0.0, 0.0, 0.0, 0.0, 0.0, 0.0, 0.0, 0.0, 0.0, 0.0, 0.0, 0.0], [0.3838532269001007, 1.6245416190940887e-05, 2.0841094737988897e-05, 1.979896296688821e-05, 6.733313057338819e-05, 0.0003684776311274618, 5.2049621444894e-05, 8.250213431892917e-05, 0.00012922340829391032, 6.27130939392373e-05, 0.0011053916532546282, 0.0004134085902478546, 0.0002026266447501257, 0.0009734013001434505, 0.0004110596200916916, 0.0004443249781616032, 0.00049370969645679, 0.00038838497130200267, 0.0032345883082598448, 0.012331895530223846, 0.02096988447010517, 0.009222655557096004, 0.007204058580100536, 0.017326945438981056, 0.026168765500187874, 0.021057380363345146, 0.039014529436826706, 0.050765056163072586, 0.381496399641037, 0.022103119641542435, 0.0, 0.0, 0.0, 0.0, 0.0, 0.0, 0.0, 0.0, 0.0, 0.0, 0.0, 0.0, 0.0, 0.0, 0.0], [0.7414996027946472, 5.573343514697626e-05, 3.311292311991565e-05, 7.647767779417336e-05, 7.656780508114025e-05, 0.00031644810223951936, 1.6611320461379364e-05, 3.295503120170906e-05, 5.648045043926686e-05, 2.846596180461347e-05, 0.0008306701784022152, 0.0003811705100815743, 0.0005476296646520495, 0.0011070908512920141, 0.00010563153045950457, 9.604102524463087e-05, 0.00020066344586666673, 0.00013644169666804373, 0.0036384749691933393, 0.0033007904421538115, 0.005910447798669338, 0.008784434758126736, 0.007593621499836445, 0.006968284957110882, 0.03600552678108215, 0.05093587934970856, 0.03491150587797165, 0.016896795481443405, 0.0636625662446022, 0.007690313272178173, 0.008103597909212112, 0.0, 0.0, 0.0, 0.0, 0.0, 0.0, 0.0, 0.0, 0.0, 0.0, 0.0, 0.0, 0.0, 0.0], [0.5604252219200134, 3.0720304494025186e-05, 2.2461614207713865e-05, 3.6971607187297195e-05, 8.774172601988539e-05, 0.00033890418126247823, 4.0824557800078765e-05, 5.3725900215795264e-05, 8.495392830809578e-05, 3.062298856093548e-05, 0.0007366333738900721, 0.00032196278334595263, 0.0003227895067539066, 0.0009788119932636619, 0.00048395158955827355, 0.00040787510806694627, 0.0004687905020546168, 0.00030427335877902806, 0.0023750599939376116, 0.004310261458158493, 0.01589271053671837, 0.028457272797822952, 0.01091877929866314, 0.00927991047501564, 0.028976285830140114, 0.056803543120622635, 0.04290522634983063, 0.03369267284870148, 0.11922076344490051, 0.034941449761390686, 0.03377390280365944, 0.01327494252473116, 0.0, 0.0, 0.0, 0.0, 0.0, 0.0, 0.0, 0.0, 0.0, 0.0, 0.0, 0.0, 0.0], [0.46590757369995117, 1.3214088539825752e-05, 2.110842069669161e-05, 7.2338075369771104e-06, 1.9721273929462768e-05, 0.000165363191626966, 5.908945240662433e-06, 1.0311252481187694e-05, 2.941231468867045e-05, 2.2086274839239195e-05, 0.0007224362343549728, 0.0008269587997347116, 0.000428338855272159, 0.0008725171792320907, 8.753579459153116e-05, 6.873345409985632e-05, 0.0001514578761998564, 0.00017190650396514684, 0.004651512484997511, 0.005951015278697014, 0.007639527786523104, 0.007764603476971388, 0.006762661971151829, 0.03538968414068222, 0.040240585803985596, 0.02018744871020317, 0.03828077018260956, 0.06649483740329742, 0.24012626707553864, 0.004889313597232103, 0.009821404702961445, 0.01961369626224041, 0.022654902189970016, 0.0, 0.0, 0.0, 0.0, 0.0, 0.0, 0.0, 0.0, 0.0, 0.0, 0.0, 0.0], [0.34495991468429565, 0.0007092963205650449, 0.0016406672075390816, 0.0007340723532252014, 0.0008575564133934677, 0.0024383736308664083, 0.0002243135531898588, 0.00044763434561900795, 0.0005414968472905457, 0.00024814653443172574, 0.0011679595336318016, 0.004788786638528109, 0.002888973569497466, 0.0031068024691194296, 0.003367928322404623, 0.003213589545339346, 0.0039633577689528465, 0.0024368532467633486, 0.01114412397146225, 0.022592982277274132, 0.025377754122018814, 0.010867687873542309, 0.024184582754969597, 0.04816509410738945, 0.07448054105043411, 0.03657357767224312, 0.026510383933782578, 0.05426463112235069, 0.1795654594898224, 0.01901431195437908, 0.018488310277462006, 0.012532176449894905, 0.018405819311738014, 0.0400969572365284, 0.0, 0.0, 0.0, 0.0, 0.0, 0.0, 0.0, 0.0, 0.0, 0.0, 0.0], [0.7792759537696838, 0.0022396917920559645, 0.0007862068596296012, 0.00046838828711770475, 0.002655815565958619, 0.001958634238690138, 0.00019495101878419518, 0.00023506679281126708, 0.00026420727954246104, 9.505976049695164e-05, 0.0020964336581528187, 0.0010736032854765654, 0.0010718089761212468, 0.001522781909443438, 0.002373090013861656, 0.0010486573446542025, 0.0016884690849110484, 0.00056170899188146, 0.005850059445947409, 0.002088583307340741, 0.002323574386537075, 0.0033089122734963894, 0.003120376728475094, 0.0025493712164461613, 0.01067810133099556, 0.0075312829576432705, 0.008806338533759117, 0.01388037484139204, 0.0075613283552229404, 0.002838405314832926, 0.004921215120702982, 0.0033505212049931288, 0.005362718366086483, 0.05205228924751282, 0.064165860414505, 0.0, 0.0, 0.0, 0.0, 0.0, 0.0, 0.0, 0.0, 0.0, 0.0], [0.6896269917488098, 8.684997737873346e-05, 4.875337253906764e-05, 2.387429412920028e-05, 0.00013092061271890998, 0.0005301625351421535, 0.00015672044537495822, 6.939580634934828e-05, 0.0001435939921066165, 3.489849768811837e-05, 0.00043994226143695414, 0.001986953429877758, 0.0007831335533410311, 0.0016300041461363435, 0.002736455062404275, 0.000382204947527498, 0.0013137694913893938, 0.0002636076242197305, 0.005639505106955767, 0.00218289066106081, 0.0018741445383056998, 0.0009880876168608665, 0.0011869202135130763, 0.0007392981206066906, 0.0091265719383955, 0.0018454317469149828, 0.007415288127958775, 0.018859492614865303, 0.0034111931454390287, 0.002247769618406892, 0.003640027018263936, 0.004843746777623892, 0.004417501389980316, 0.03234006464481354, 0.17482636868953705, 0.02402758225798607, 0.0, 0.0, 0.0, 0.0, 0.0, 0.0, 0.0, 0.0, 0.0], [0.7703350186347961, 0.00015669845743104815, 2.5940713385352865e-05, 4.246410753694363e-05, 0.00010931483848253265, 0.0006620742497034371, 7.114723848644644e-05, 6.238993228180334e-05, 5.4307918617269024e-05, 1.2967630027560517e-05, 0.0003519688325468451, 0.0006589331896975636, 0.0010981073137372732, 0.0012669283896684647, 0.0007547079585492611, 0.00016956219042185694, 0.00024413346545770764, 7.634105713805184e-05, 0.00040680725942365825, 0.000393665541196242, 0.00034236113424412906, 0.0017109675100073218, 0.0013430973049253225, 0.0012561031617224216, 0.001339299720712006, 0.0013161682290956378, 0.0026042405515909195, 0.005254232790321112, 0.0009220379288308322, 0.001442191656678915, 0.0016896896995604038, 0.003270719898864627, 0.0031301998533308506, 0.05707039311528206, 0.0731739029288292, 0.029491597786545753, 0.03768918663263321, 0.0, 0.0, 0.0, 0.0, 0.0, 0.0, 0.0, 0.0], [0.6706515550613403, 2.3894144760561176e-05, 1.2283884643693455e-05, 5.015276656195056e-06, 9.130497346632183e-06, 4.388820889289491e-05, 1.6082776710391045e-05, 1.9576367776608095e-05, 1.335736033070134e-05, 3.949896836275002e-06, 0.00010286612086929381, 0.00025010528042912483, 6.831521022832021e-05, 0.00010068813571706414, 0.00021036805992480367, 5.763821172877215e-05, 5.7168726925738156e-05, 2.0347622921690345e-05, 0.00019393990805838257, 0.00010369417577749118, 0.0006633168086409569, 0.00027583682094700634, 0.0003515712160151452, 0.00041278867865912616, 0.004247740842401981, 0.0004544403054751456, 0.0012309580342844129, 0.0024180239997804165, 0.0003274519112892449, 0.0030441004782915115, 0.0031208868604153395, 0.002246849937364459, 0.0034689735621213913, 0.024331124499440193, 0.05079764500260353, 0.017124546691775322, 0.16479264199733734, 0.04872730374336243, 0.0, 0.0, 0.0, 0.0, 0.0, 0.0, 0.0], [0.5301762223243713, 1.2658324521908071e-05, 9.268874237022828e-06, 3.993178324890323e-06, 1.4409160030481871e-05, 5.633344335365109e-05, 2.573499114078004e-05, 6.230652070371434e-05, 4.5578468416351825e-05, 9.716485692479182e-06, 0.00010497087350813672, 7.033613655949011e-05, 3.132075289613567e-05, 0.00019102083751931787, 0.00022078226902522147, 0.00016474754374939948, 0.00014716529403813183, 4.923190499539487e-05, 0.0003959195164497942, 0.0012895057443529367, 0.0018720123916864395, 0.0010693487711250782, 0.0005485251313075423, 0.0005970924394205213, 0.002061473438516259, 0.0006803173455409706, 0.004584976471960545, 0.008433477021753788, 0.005446269642561674, 0.006202538963407278, 0.004569210112094879, 0.0031759145203977823, 0.006976329255849123, 0.041658367961645126, 0.019488641992211342, 0.012968848459422588, 0.08422505855560303, 0.2442292869091034, 0.018131066113710403, 0.0, 0.0, 0.0, 0.0, 0.0, 0.0], [0.371956467628479, 5.4311109124682844e-05, 4.1288680222351104e-05, 2.728596155066043e-05, 4.850495315622538e-05, 0.00031536869937554, 0.0001014578010654077, 5.579623393714428e-05, 3.646737968665548e-05, 1.6627322111162357e-05, 0.00034768340992741287, 0.0003274050250183791, 7.257945981109515e-05, 0.0003040297597181052, 0.0004223779833409935, 0.00012285553384572268, 0.00010313586244592443, 7.413268031086773e-05, 0.001182548119686544, 0.003317985450848937, 0.005043561104685068, 0.004581943154335022, 0.0033933990634977818, 0.0030660838820040226, 0.00476392637938261, 0.0040590399876236916, 0.0019003519555553794, 0.0061929249204695225, 0.012216885574162006, 0.0060896314680576324, 0.0025777549017220736, 0.001613290747627616, 0.0015471780207008123, 0.031305957585573196, 0.0379805751144886, 0.03005615435540676, 0.10529032349586487, 0.2528866231441498, 0.07374680787324905, 0.032759249210357666, 0.0, 0.0, 0.0, 0.0, 0.0], [0.14580200612545013, 0.00014602106239181012, 0.00011605720646912232, 0.00026690546656027436, 0.0003940589667763561, 0.0003196158795617521, 7.097103662090376e-05, 4.897755934507586e-05, 0.00016984711692202836, 3.81653371732682e-05, 0.00010302494774805382, 0.00013081681390758604, 0.0005588124040514231, 0.00236129155382514, 0.001106778858229518, 0.00044411609997041523, 0.0013473044382408261, 0.000558575033210218, 0.006489880848675966, 0.002943003550171852, 0.001764175365678966, 0.00733472453430295, 0.005810149479657412, 0.000570878095459193, 0.0046364800073206425, 0.011460303328931332, 0.012197747826576233, 0.019298890605568886, 0.002927596215158701, 0.006160165648907423, 0.002289712894707918, 0.0013541806256398559, 0.003014893038198352, 0.008086704649031162, 0.012329920195043087, 0.11235442012548447, 0.08849237114191055, 0.04955263063311577, 0.16166378557682037, 0.21283721923828125, 0.11244679987430573, 0.0, 0.0, 0.0, 0.0], [0.3842887282371521, 0.00017944537103176117, 3.153806392219849e-05, 2.1596229998976924e-05, 4.816581349587068e-05, 0.00015167592209763825, 1.5298139260266908e-05, 5.952714673185255e-06, 9.99281201075064e-06, 2.673856897672522e-06, 0.0002004963462240994, 0.00013747123011853546, 0.0005802060477435589, 0.0005934001528657973, 0.00038165703881531954, 3.491594907245599e-05, 0.00014803149679210037, 5.219466765993275e-05, 0.002159703755751252, 0.00047243622248061, 0.0007718802662566304, 0.005043567158281803, 0.0014545634621754289, 0.00033064314629882574, 0.006707008462399244, 0.0034565834794193506, 0.0038762695621699095, 0.007548726629465818, 0.002651289803907275, 0.0016835466958582401, 0.0005086363526061177, 0.0004066886904183775, 0.000385681283660233, 0.02408703602850437, 0.028126049786806107, 0.08208398520946503, 0.08067850023508072, 0.04348555579781532, 0.1116039827466011, 0.09051176905632019, 0.09065741300582886, 0.024425048381090164, 0.0, 0.0, 0.0], [0.3585767149925232, 3.107534575974569e-05, 1.2299324225750752e-05, 7.789214578224346e-06, 2.7684040105668828e-05, 7.027845276752487e-05, 1.1779065971495584e-05, 7.214145625766832e-06, 7.569752597191837e-06, 2.161570137104718e-06, 4.0167797124013305e-05, 1.96102282643551e-05, 7.724734314251691e-05, 0.0003482295433059335, 0.0002673511626198888, 4.150575114181265e-05, 9.371813939651474e-05, 4.154146881774068e-05, 0.0015563239576295018, 0.000348500965628773, 0.0005084536969661713, 0.004397748038172722, 0.0010783132165670395, 0.00019341049483045936, 0.0021853374782949686, 0.001690673641860485, 0.002859492087736726, 0.007343503180891275, 0.0010641382541507483, 0.001924577634781599, 0.0009405561140738428, 0.000722130760550499, 0.0005182747263461351, 0.011160079389810562, 0.007420686539262533, 0.044415466487407684, 0.05365560203790665, 0.02886342443525791, 0.04503016546368599, 0.07264641672372818, 0.13945220410823822, 0.050995778292417526, 0.15934476256370544, 0.0, 0.0], [0.3411209285259247, 3.373612344148569e-05, 8.606572009739466e-06, 2.6743507532955846e-06, 1.2942118701175787e-05, 3.202355946996249e-05, 3.2440943869005423e-06, 2.681189698705566e-06, 4.650058144761715e-06, 1.0158419172512367e-06, 4.190771505818702e-05, 2.82188684650464e-05, 8.701113256393e-05, 0.00046292139450088143, 0.00010766410559881479, 1.2703020729532e-05, 5.885261271032505e-05, 1.653151230129879e-05, 0.001645113225094974, 0.0002525362651795149, 0.0003482606844045222, 0.004190258681774139, 0.001542330370284617, 0.00023501711257267743, 0.0021888858173042536, 0.0009403405711054802, 0.002718607895076275, 0.007776439655572176, 0.0012674137251451612, 0.0009682403178885579, 0.000351819209754467, 0.0005484343273565173, 0.00034401885932311416, 0.012783750891685486, 0.010146547108888626, 0.032442983239889145, 0.14813727140426636, 0.058691348880529404, 0.05760645866394043, 0.09129295498132706, 0.05377969518303871, 0.014842236414551735, 0.08966591209173203, 0.06325475871562958, 0.0], [0.6908716559410095, 2.2892469132784754e-05, 1.725848596834112e-05, 9.459765351493843e-06, 7.373700645985082e-05, 3.860878132400103e-05, 1.31132073875051e-05, 1.715783764666412e-05, 2.3628323106095195e-05, 9.765813047124539e-06, 8.422789687756449e-05, 6.314860365819186e-05, 6.161010242067277e-05, 0.0002215231506852433, 0.0001450116978958249, 5.159694410394877e-05, 0.00013380689779296517, 3.7969086406519637e-05, 0.0004672507056966424, 0.00017265722271986306, 0.00022428578813560307, 0.001173664233647287, 0.0007619126699864864, 0.000275313388556242, 0.0011096674716100097, 0.00046224636025726795, 0.002066130982711911, 0.008597634732723236, 0.00030098328716121614, 0.00039225738146342337, 0.0005189593066461384, 0.0005380869843065739, 0.0008862976101227105, 0.007042472716420889, 0.004781818948686123, 0.002451641485095024, 0.04349453002214432, 0.005379325710237026, 0.006650795694440603, 0.014494423754513264, 0.024757355451583862, 0.013606437481939793, 0.03302455693483353, 0.022096335887908936, 0.11237680166959763]], [[1.0, 0.0, 0.0, 0.0, 0.0, 0.0, 0.0, 0.0, 0.0, 0.0, 0.0, 0.0, 0.0, 0.0, 0.0, 0.0, 0.0, 0.0, 0.0, 0.0, 0.0, 0.0, 0.0, 0.0, 0.0, 0.0, 0.0, 0.0, 0.0, 0.0, 0.0, 0.0, 0.0, 0.0, 0.0, 0.0, 0.0, 0.0, 0.0, 0.0, 0.0, 0.0, 0.0, 0.0, 0.0], [0.9868469834327698, 0.013152997009456158, 0.0, 0.0, 0.0, 0.0, 0.0, 0.0, 0.0, 0.0, 0.0, 0.0, 0.0, 0.0, 0.0, 0.0, 0.0, 0.0, 0.0, 0.0, 0.0, 0.0, 0.0, 0.0, 0.0, 0.0, 0.0, 0.0, 0.0, 0.0, 0.0, 0.0, 0.0, 0.0, 0.0, 0.0, 0.0, 0.0, 0.0, 0.0, 0.0, 0.0, 0.0, 0.0, 0.0], [0.9829742908477783, 0.008728595450520515, 0.008297136053442955, 0.0, 0.0, 0.0, 0.0, 0.0, 0.0, 0.0, 0.0, 0.0, 0.0, 0.0, 0.0, 0.0, 0.0, 0.0, 0.0, 0.0, 0.0, 0.0, 0.0, 0.0, 0.0, 0.0, 0.0, 0.0, 0.0, 0.0, 0.0, 0.0, 0.0, 0.0, 0.0, 0.0, 0.0, 0.0, 0.0, 0.0, 0.0, 0.0, 0.0, 0.0, 0.0], [0.9893584251403809, 0.003139771055430174, 0.0015524979680776596, 0.005949312821030617, 0.0, 0.0, 0.0, 0.0, 0.0, 0.0, 0.0, 0.0, 0.0, 0.0, 0.0, 0.0, 0.0, 0.0, 0.0, 0.0, 0.0, 0.0, 0.0, 0.0, 0.0, 0.0, 0.0, 0.0, 0.0, 0.0, 0.0, 0.0, 0.0, 0.0, 0.0, 0.0, 0.0, 0.0, 0.0, 0.0, 0.0, 0.0, 0.0, 0.0, 0.0], [0.9877360463142395, 0.00485560018569231, 0.0003528347297105938, 0.004595322534441948, 0.0024602008052170277, 0.0, 0.0, 0.0, 0.0, 0.0, 0.0, 0.0, 0.0, 0.0, 0.0, 0.0, 0.0, 0.0, 0.0, 0.0, 0.0, 0.0, 0.0, 0.0, 0.0, 0.0, 0.0, 0.0, 0.0, 0.0, 0.0, 0.0, 0.0, 0.0, 0.0, 0.0, 0.0, 0.0, 0.0, 0.0, 0.0, 0.0, 0.0, 0.0, 0.0], [0.9934502840042114, 0.0018139219610020518, 3.838311749859713e-05, 0.000251286692218855, 0.0017562919529154897, 0.002689794171601534, 0.0, 0.0, 0.0, 0.0, 0.0, 0.0, 0.0, 0.0, 0.0, 0.0, 0.0, 0.0, 0.0, 0.0, 0.0, 0.0, 0.0, 0.0, 0.0, 0.0, 0.0, 0.0, 0.0, 0.0, 0.0, 0.0, 0.0, 0.0, 0.0, 0.0, 0.0, 0.0, 0.0, 0.0, 0.0, 0.0, 0.0, 0.0, 0.0], [0.9922010898590088, 0.0019196000648662448, 0.0018669876735657454, 0.0004433370486367494, 9.240130748366937e-05, 0.000933294475544244, 0.002543362556025386, 0.0, 0.0, 0.0, 0.0, 0.0, 0.0, 0.0, 0.0, 0.0, 0.0, 0.0, 0.0, 0.0, 0.0, 0.0, 0.0, 0.0, 0.0, 0.0, 0.0, 0.0, 0.0, 0.0, 0.0, 0.0, 0.0, 0.0, 0.0, 0.0, 0.0, 0.0, 0.0, 0.0, 0.0, 0.0, 0.0, 0.0, 0.0], [0.9917755126953125, 0.00444803899154067, 7.885366812843131e-07, 1.0964340617647395e-06, 1.5739203718112549e-06, 5.0137790822191164e-05, 0.0030077812261879444, 0.0007150411838665605, 0.0, 0.0, 0.0, 0.0, 0.0, 0.0, 0.0, 0.0, 0.0, 0.0, 0.0, 0.0, 0.0, 0.0, 0.0, 0.0, 0.0, 0.0, 0.0, 0.0, 0.0, 0.0, 0.0, 0.0, 0.0, 0.0, 0.0, 0.0, 0.0, 0.0, 0.0, 0.0, 0.0, 0.0, 0.0, 0.0, 0.0], [0.9857521653175354, 0.002338102087378502, 3.1217293781082844e-06, 3.2850177376531065e-05, 5.361209696275182e-05, 3.877639028360136e-05, 0.0019523290684446692, 1.0435955744014791e-07, 0.009828954935073853, 0.0, 0.0, 0.0, 0.0, 0.0, 0.0, 0.0, 0.0, 0.0, 0.0, 0.0, 0.0, 0.0, 0.0, 0.0, 0.0, 0.0, 0.0, 0.0, 0.0, 0.0, 0.0, 0.0, 0.0, 0.0, 0.0, 0.0, 0.0, 0.0, 0.0, 0.0, 0.0, 0.0, 0.0, 0.0, 0.0], [0.9795262813568115, 0.0006241025985218585, 4.0529798184252286e-07, 1.2159729521954432e-05, 7.599838136229664e-05, 2.2918595732335234e-06, 0.0016142027452588081, 1.1476910394270234e-10, 0.00011157804692629725, 0.018032986670732498, 0.0, 0.0, 0.0, 0.0, 0.0, 0.0, 0.0, 0.0, 0.0, 0.0, 0.0, 0.0, 0.0, 0.0, 0.0, 0.0, 0.0, 0.0, 0.0, 0.0, 0.0, 0.0, 0.0, 0.0, 0.0, 0.0, 0.0, 0.0, 0.0, 0.0, 0.0, 0.0, 0.0, 0.0, 0.0], [0.9746615886688232, 0.0051255314610898495, 0.000872287608217448, 0.0005272820126265287, 0.0013347750063985586, 0.0002620758896227926, 0.007727380841970444, 7.684670890739653e-06, 0.0001960216322913766, 0.0006284206174314022, 0.008657045662403107, 0.0, 0.0, 0.0, 0.0, 0.0, 0.0, 0.0, 0.0, 0.0, 0.0, 0.0, 0.0, 0.0, 0.0, 0.0, 0.0, 0.0, 0.0, 0.0, 0.0, 0.0, 0.0, 0.0, 0.0, 0.0, 0.0, 0.0, 0.0, 0.0, 0.0, 0.0, 0.0, 0.0, 0.0], [0.9447856545448303, 0.0069653489626944065, 0.0012018682900816202, 0.0008972659124992788, 0.0020529075991362333, 0.0020139773841947317, 0.026720456779003143, 0.00020841685181949288, 0.0010294418316334486, 0.00012204683298477903, 0.0005697297165170312, 0.01343299075961113, 0.0, 0.0, 0.0, 0.0, 0.0, 0.0, 0.0, 0.0, 0.0, 0.0, 0.0, 0.0, 0.0, 0.0, 0.0, 0.0, 0.0, 0.0, 0.0, 0.0, 0.0, 0.0, 0.0, 0.0, 0.0, 0.0, 0.0, 0.0, 0.0, 0.0, 0.0, 0.0, 0.0], [0.8952816128730774, 0.002747073769569397, 0.0010878931498154998, 0.0008756318711675704, 0.00826771929860115, 0.006351464428007603, 0.020886393263936043, 0.00033761883969418705, 0.0016266416059806943, 0.0026857254561036825, 0.006152361165732145, 0.04422640800476074, 0.009473424404859543, 0.0, 0.0, 0.0, 0.0, 0.0, 0.0, 0.0, 0.0, 0.0, 0.0, 0.0, 0.0, 0.0, 0.0, 0.0, 0.0, 0.0, 0.0, 0.0, 0.0, 0.0, 0.0, 0.0, 0.0, 0.0, 0.0, 0.0, 0.0, 0.0, 0.0, 0.0, 0.0], [0.9739699959754944, 0.0012523512123152614, 3.3857239031931385e-05, 9.429458441445604e-05, 0.000243337286519818, 0.002347544999793172, 0.009335845708847046, 7.643690196346142e-07, 8.337816689163446e-05, 1.9262986370449653e-06, 4.163451012573205e-05, 0.006350766867399216, 0.005029375199228525, 0.0012148655951023102, 0.0, 0.0, 0.0, 0.0, 0.0, 0.0, 0.0, 0.0, 0.0, 0.0, 0.0, 0.0, 0.0, 0.0, 0.0, 0.0, 0.0, 0.0, 0.0, 0.0, 0.0, 0.0, 0.0, 0.0, 0.0, 0.0, 0.0, 0.0, 0.0, 0.0, 0.0], [0.16093111038208008, 0.0003435612889006734, 9.197452163789421e-05, 8.661467290949076e-05, 1.3088412742945366e-05, 7.623704732395709e-05, 0.00043561129132285714, 0.34934890270233154, 0.48592039942741394, 0.0003348427708260715, 5.814046744490042e-05, 0.002138764364644885, 0.0001460895873606205, 1.7852822566055693e-05, 5.6873428547987714e-05, 0.0, 0.0, 0.0, 0.0, 0.0, 0.0, 0.0, 0.0, 0.0, 0.0, 0.0, 0.0, 0.0, 0.0, 0.0, 0.0, 0.0, 0.0, 0.0, 0.0, 0.0, 0.0, 0.0, 0.0, 0.0, 0.0, 0.0, 0.0, 0.0, 0.0], [0.02332167699933052, 0.0002943580620922148, 1.0430983365949942e-07, 2.047370344371302e-06, 6.899842901475495e-07, 8.212476132030133e-06, 0.00014746192027814686, 9.31700924411416e-06, 0.9744018316268921, 0.000985898426733911, 2.0644802134484053e-05, 0.0006879690918140113, 2.2732987417839468e-05, 8.950715368882811e-07, 7.503109827666776e-06, 8.854514453560114e-05, 0.0, 0.0, 0.0, 0.0, 0.0, 0.0, 0.0, 0.0, 0.0, 0.0, 0.0, 0.0, 0.0, 0.0, 0.0, 0.0, 0.0, 0.0, 0.0, 0.0, 0.0, 0.0, 0.0, 0.0, 0.0, 0.0, 0.0, 0.0, 0.0], [0.05247918516397476, 0.0004514456959441304, 1.836053797887871e-06, 4.75939414172899e-05, 2.7337548090144992e-05, 2.2553962480742484e-05, 0.00035177089739590883, 4.819885646156763e-08, 0.0014462107792496681, 0.9321988821029663, 0.003984340466558933, 0.006194690708070993, 4.606777292792685e-05, 0.00012826110469177365, 1.9008974049938843e-05, 5.618358613901364e-07, 0.002600328531116247, 0.0, 0.0, 0.0, 0.0, 0.0, 0.0, 0.0, 0.0, 0.0, 0.0, 0.0, 0.0, 0.0, 0.0, 0.0, 0.0, 0.0, 0.0, 0.0, 0.0, 0.0, 0.0, 0.0, 0.0, 0.0, 0.0, 0.0, 0.0], [0.1667202115058899, 0.000832468387670815, 1.9989577140222536e-06, 8.151183283189312e-05, 0.00018204416846856475, 1.0328326425224077e-05, 0.0017889568116515875, 8.56975324037279e-10, 0.0002450875472277403, 0.011699728667736053, 0.7231673002243042, 0.03511557728052139, 9.578363096807152e-05, 0.0009698337526060641, 8.700023317942396e-05, 4.3453717069041886e-08, 0.0007297122501768172, 0.05827243998646736, 0.0, 0.0, 0.0, 0.0, 0.0, 0.0, 0.0, 0.0, 0.0, 0.0, 0.0, 0.0, 0.0, 0.0, 0.0, 0.0, 0.0, 0.0, 0.0, 0.0, 0.0, 0.0, 0.0, 0.0, 0.0, 0.0, 0.0], [0.9268366694450378, 0.0015351268230006099, 5.3974526963429525e-05, 2.071342350973282e-05, 0.000161426403792575, 7.957758498378098e-06, 0.001308791572228074, 9.979999049392063e-06, 0.0017173849046230316, 0.0007832648698240519, 0.01293252594769001, 0.013701912015676498, 0.003742239670827985, 0.0017341135535389185, 0.0021291000302881002, 5.990735735394992e-05, 0.0029111839830875397, 0.004015310201793909, 0.026338372379541397, 0.0, 0.0, 0.0, 0.0, 0.0, 0.0, 0.0, 0.0, 0.0, 0.0, 0.0, 0.0, 0.0, 0.0, 0.0, 0.0, 0.0, 0.0, 0.0, 0.0, 0.0, 0.0, 0.0, 0.0, 0.0, 0.0], [0.9598173499107361, 0.0007629911415278912, 3.672931052278727e-05, 2.199361006205436e-05, 0.00045084295561537147, 7.977508175827097e-06, 0.002669806592166424, 7.343511970248073e-05, 0.000927951536141336, 3.357266905368306e-05, 0.003122844500467181, 0.0057073235511779785, 0.0010232740314677358, 0.0020106760784983635, 0.0009196016471832991, 0.0001668568584136665, 0.0009779036045074463, 0.0001669651101110503, 0.00972133968025446, 0.011380646377801895, 0.0, 0.0, 0.0, 0.0, 0.0, 0.0, 0.0, 0.0, 0.0, 0.0, 0.0, 0.0, 0.0, 0.0, 0.0, 0.0, 0.0, 0.0, 0.0, 0.0, 0.0, 0.0, 0.0, 0.0, 0.0], [0.9379241466522217, 0.0034931241534650326, 0.0002954867377411574, 0.00048694672295823693, 0.002806164091452956, 6.737585499649867e-05, 0.012438849546015263, 4.8958765546558425e-05, 0.003040527692064643, 2.18057739402866e-05, 0.001462167827412486, 0.007568818517029285, 0.0015254056779667735, 0.0003192037402186543, 0.0025028283707797527, 0.0002036713995039463, 0.0030557834543287754, 0.00021058900165371597, 0.0028689992614090443, 0.004460076801478863, 0.015199116431176662, 0.0, 0.0, 0.0, 0.0, 0.0, 0.0, 0.0, 0.0, 0.0, 0.0, 0.0, 0.0, 0.0, 0.0, 0.0, 0.0, 0.0, 0.0, 0.0, 0.0, 0.0, 0.0, 0.0, 0.0], [0.9074877500534058, 0.003375591244548559, 0.0007247453322634101, 0.0022016458678990602, 0.0061483969911932945, 0.008295781910419464, 0.021050268784165382, 0.00021912675583735108, 0.004124659113585949, 0.0010458012111485004, 0.0013732147635892034, 0.005834468640387058, 0.0007774202967993915, 0.0023523156996816397, 0.004689070396125317, 0.00018879318668041378, 0.0015500325243920088, 0.0008367326809093356, 0.0007441408815793693, 0.0013610011665150523, 0.0009068547515198588, 0.024712340906262398, 0.0, 0.0, 0.0, 0.0, 0.0, 0.0, 0.0, 0.0, 0.0, 0.0, 0.0, 0.0, 0.0, 0.0, 0.0, 0.0, 0.0, 0.0, 0.0, 0.0, 0.0, 0.0, 0.0], [0.9108816385269165, 0.0011270741233602166, 0.0001941598457051441, 0.00015556655125692487, 0.00034529255935922265, 0.0010371727403253317, 0.011422889307141304, 0.000204158277483657, 0.0025741118006408215, 0.00023648740898352116, 0.0010457749012857676, 0.007420565467327833, 0.001864471472799778, 0.0008940679836086929, 0.001689715776592493, 0.00014941539848223329, 0.0008666397770866752, 0.00020881845557596534, 0.0010222221026197076, 0.001474900869652629, 0.0030250793788582087, 0.004525661002844572, 0.04763418808579445, 0.0, 0.0, 0.0, 0.0, 0.0, 0.0, 0.0, 0.0, 0.0, 0.0, 0.0, 0.0, 0.0, 0.0, 0.0, 0.0, 0.0, 0.0, 0.0, 0.0, 0.0, 0.0], [0.9160193204879761, 0.003358748508617282, 0.00020002738165203482, 0.000663528626319021, 0.0010549442376941442, 0.000678865413647145, 0.011100130155682564, 0.00014904931595083326, 0.001277651754207909, 0.0008021100657060742, 0.0015178394969552755, 0.013973800465464592, 0.00325417541898787, 0.002095069969072938, 0.005169515963643789, 0.00023125665029510856, 0.0018797924276441336, 0.0009761464316397905, 0.001953644212335348, 0.001796376658603549, 0.007500480394810438, 0.0015823740977793932, 0.0047963280230760574, 0.01796889863908291, 0.0, 0.0, 0.0, 0.0, 0.0, 0.0, 0.0, 0.0, 0.0, 0.0, 0.0, 0.0, 0.0, 0.0, 0.0, 0.0, 0.0, 0.0, 0.0, 0.0, 0.0], [0.9693402051925659, 0.0020893076434731483, 1.9464191609586123e-06, 3.450628582868376e-06, 0.00024293630849570036, 2.8066631330148084e-06, 0.0024192053824663162, 2.287069644779649e-09, 6.609659976675175e-06, 7.462518169631949e-06, 0.00011149961937917396, 0.004265084397047758, 0.002019581850618124, 0.0003928037185687572, 0.0005356582696549594, 2.711884938833009e-08, 4.175687081442447e-06, 1.211971539305523e-05, 0.0002441047108732164, 0.0018867511535063386, 0.00435268459841609, 0.0041101183742284775, 0.0007017103489488363, 6.703705730615184e-05, 0.0071827322244644165, 0.0, 0.0, 0.0, 0.0, 0.0, 0.0, 0.0, 0.0, 0.0, 0.0, 0.0, 0.0, 0.0, 0.0, 0.0, 0.0, 0.0, 0.0, 0.0, 0.0], [0.9695815443992615, 0.0007660184637643397, 1.3016663615417201e-05, 5.934587534284219e-06, 0.0036253684666007757, 5.201307885727147e-06, 0.0013170847669243813, 6.17235400568461e-08, 1.9382114260224625e-06, 3.5809243854600936e-06, 0.00012865388998761773, 0.0031033754348754883, 0.0009993279818445444, 0.0013403577031567693, 0.00022824628103990108, 4.387312628750806e-07, 2.62079993262887e-06, 7.465024282282684e-06, 0.00010976281919283792, 6.538367597386241e-05, 0.000957255600951612, 0.0009212933946400881, 0.00033938512206077576, 6.910780939506367e-05, 0.00128425401635468, 0.015123287215828896, 0.0, 0.0, 0.0, 0.0, 0.0, 0.0, 0.0, 0.0, 0.0, 0.0, 0.0, 0.0, 0.0, 0.0, 0.0, 0.0, 0.0, 0.0, 0.0], [0.9714439511299133, 0.0025312788784503937, 2.880717602238292e-06, 2.8733191356877796e-05, 0.00031161773949861526, 8.042771696636919e-06, 0.0019669460598379374, 9.332202566270098e-09, 2.3015156330075115e-05, 0.002066359855234623, 0.00027077586855739355, 0.0034619770012795925, 0.003194311633706093, 0.0007408373639918864, 0.0023148951586335897, 2.8461528245316003e-07, 2.4768993171164766e-05, 0.0005095613887533545, 0.0004316961858421564, 1.1348520274623297e-05, 5.023411722504534e-05, 0.00014440897211898118, 0.00016048585530370474, 9.689081707620062e-06, 0.00048302585491910577, 0.000514509214553982, 0.009294376708567142, 0.0, 0.0, 0.0, 0.0, 0.0, 0.0, 0.0, 0.0, 0.0, 0.0, 0.0, 0.0, 0.0, 0.0, 0.0, 0.0, 0.0, 0.0], [0.9454148411750793, 0.0012127707013860345, 3.65572668670211e-06, 1.6519938071724027e-05, 0.00010613993799779564, 4.3251144234091043e-05, 0.0033208834938704967, 1.8726575490290998e-07, 2.392271017015446e-05, 0.00035323170595802367, 0.00020674978441093117, 0.0017137209651991725, 0.009473543614149094, 8.091836934909225e-05, 0.0034554554149508476, 3.8964435589150526e-06, 2.5390925657120533e-05, 0.0001888356200652197, 0.0002187003701692447, 6.139541073935106e-05, 8.857479406287894e-05, 0.0005419120425358415, 0.00013317412231117487, 2.1119611119502224e-05, 0.00033610977698117495, 0.0027680390048772097, 0.009621307253837585, 0.02056584320962429, 0.0, 0.0, 0.0, 0.0, 0.0, 0.0, 0.0, 0.0, 0.0, 0.0, 0.0, 0.0, 0.0, 0.0, 0.0, 0.0, 0.0], [0.9476866126060486, 0.0007380094029940665, 1.1547574104042724e-05, 1.4050709069124423e-05, 7.097092748153955e-05, 4.733161404146813e-06, 0.010642431676387787, 1.7613413092476549e-06, 2.3463775505661033e-05, 3.679553628899157e-05, 0.00014109718904364854, 0.0024239462800323963, 0.003119159722700715, 0.00025194729096256196, 0.0027447636239230633, 1.511269965703832e-05, 3.695893246913329e-05, 6.0526770539581776e-05, 0.0002778155030682683, 3.054880835406948e-06, 0.002339182421565056, 0.0004253881925251335, 0.00011681982869049534, 2.439851414237637e-05, 0.0012211677385494113, 0.00039884576108306646, 0.020191127434372902, 0.004408650565892458, 0.0025695976801216602, 0.0, 0.0, 0.0, 0.0, 0.0, 0.0, 0.0, 0.0, 0.0, 0.0, 0.0, 0.0, 0.0, 0.0, 0.0, 0.0], [0.9569408893585205, 0.006741474848240614, 3.550381734385155e-05, 9.473786121816374e-06, 9.113822670769878e-06, 8.973801413958427e-06, 0.00026630936190485954, 1.6631040125503205e-05, 0.00010002882481785491, 2.0946794393239543e-05, 2.1510879378183745e-05, 0.005714045837521553, 0.023079996928572655, 6.14745295024477e-05, 0.0003306507715024054, 9.205108653986827e-05, 0.00020051577303092927, 3.47087079717312e-05, 0.0001996506325667724, 4.4937928578292485e-06, 0.0001436525781173259, 4.221759445499629e-05, 2.648483496159315e-05, 4.1686329495860264e-05, 0.0012355216313153505, 1.1751981219276786e-05, 0.0001600892428541556, 0.0013925497187301517, 1.2356794286461081e-05, 0.0030451957136392593, 0.0, 0.0, 0.0, 0.0, 0.0, 0.0, 0.0, 0.0, 0.0, 0.0, 0.0, 0.0, 0.0, 0.0, 0.0], [0.9768685698509216, 0.010524459183216095, 2.7688653858604084e-07, 1.9813446670013946e-06, 1.0987123459926806e-06, 1.500187920555618e-07, 4.014776277472265e-05, 1.9748096213856314e-10, 1.490620070399018e-05, 2.9113423806848004e-05, 3.523122813930968e-06, 0.0014843741664662957, 0.0074072969146072865, 1.650225749472156e-05, 0.00012389376934152097, 1.7248909855993588e-08, 3.5608689358923584e-05, 0.00010991274757543579, 0.0005413315375335515, 1.3927690361015266e-06, 6.160335487948032e-06, 5.9822730236192e-07, 9.204583875543904e-06, 1.394578021063353e-06, 0.0005189739749766886, 6.800393492767398e-08, 4.460691798158223e-06, 0.00016692839562892914, 6.302752808551304e-07, 0.00012537880684249103, 0.0019615276250988245, 0.0, 0.0, 0.0, 0.0, 0.0, 0.0, 0.0, 0.0, 0.0, 0.0, 0.0, 0.0, 0.0, 0.0], [0.9710872173309326, 0.003893354907631874, 3.6852259199804394e-07, 4.475242803891888e-06, 2.084458401441225e-06, 1.1232885555045868e-07, 0.0001501581136835739, 1.9631054594404507e-12, 1.8536702839355712e-07, 0.0002622820611577481, 0.00020629441132768989, 0.005797432269901037, 0.0019105416722595692, 0.00012107869406463578, 0.0007540580118075013, 5.952788262320041e-10, 1.8590353647596203e-06, 0.0006358731188811362, 0.0024052211083471775, 3.752651537070051e-06, 1.1346041901560966e-05, 1.1047948191844625e-06, 1.502102350059431e-06, 2.0429915821296163e-06, 0.0008513578213751316, 3.4302338463021442e-06, 6.922701140865684e-05, 0.001633203704841435, 7.560706580989063e-05, 0.002665009582415223, 8.052455996221397e-06, 0.007441753521561623, 0.0, 0.0, 0.0, 0.0, 0.0, 0.0, 0.0, 0.0, 0.0, 0.0, 0.0, 0.0, 0.0], [0.9678590893745422, 0.00182996760122478, 1.1096440175606403e-06, 4.805210096492374e-07, 2.792045734167914e-06, 1.3629017914240649e-08, 0.0001019242117763497, 4.317291801836376e-10, 5.813376446894836e-06, 4.830482794204727e-06, 0.0008729025721549988, 0.006721002981066704, 0.00010572143946774304, 2.817738277371973e-06, 3.163188011967577e-05, 2.938261189910918e-08, 1.3074110938759986e-05, 4.6119945181999356e-05, 0.009018135257065296, 5.698671520804055e-05, 0.003976129461079836, 7.5482130341697484e-06, 7.872937999309215e-07, 1.0957832273561507e-05, 0.0035600452683866024, 2.1211492367001483e-06, 0.00010562197712715715, 0.00011804982932517305, 2.0280946046113968e-05, 0.004803971387445927, 1.6770353283845907e-07, 0.0001448161347070709, 0.0005751602002419531, 0.0, 0.0, 0.0, 0.0, 0.0, 0.0, 0.0, 0.0, 0.0, 0.0, 0.0, 0.0], [0.8715605139732361, 0.0063736760057508945, 0.0008998435805551708, 0.0004445371450856328, 0.0004961086087860167, 0.0001540422235848382, 0.005277713295072317, 3.0114893888821825e-05, 0.00019632565090432763, 0.00046401392319239676, 0.0013847918016836047, 0.04292170703411102, 0.0046025654301047325, 0.000741026655305177, 0.00481357891112566, 5.7087618188234046e-05, 0.00018447010370437056, 0.000307340087601915, 0.002196520334109664, 0.002305351896211505, 0.003992948215454817, 0.0006344704888761044, 0.00016355431580450386, 0.0012433275114744902, 0.0032201979774981737, 0.0005405274569056928, 0.002773766638711095, 0.0021141967736184597, 0.0005842586397193372, 0.014693809673190117, 8.238793816417456e-05, 0.0009400248527526855, 0.0012458699056878686, 0.02235942706465721, 0.0, 0.0, 0.0, 0.0, 0.0, 0.0, 0.0, 0.0, 0.0, 0.0, 0.0], [0.49218377470970154, 0.00741773284971714, 0.000316971360007301, 0.0003468120703473687, 0.0006442090380005538, 0.0009379633702337742, 0.022457802668213844, 3.7780315324198455e-05, 0.0004924283712171018, 5.887820225325413e-05, 0.00024873772053979337, 0.0067292083986103535, 0.32391825318336487, 0.005308287218213081, 0.0587446503341198, 0.0008738283067941666, 0.005714213941246271, 0.0005805215332657099, 0.0035468891728669405, 0.0010167863219976425, 0.0028307922184467316, 0.001339903799816966, 0.005791894160211086, 0.0018844502046704292, 0.022197486832737923, 0.0001075676191248931, 0.001720710308291018, 0.003162245498970151, 0.001117237377911806, 0.017937086522579193, 0.0002482530544511974, 0.0012159512843936682, 0.00019207014702260494, 0.0005045753205195069, 0.008174004964530468, 0.0, 0.0, 0.0, 0.0, 0.0, 0.0, 0.0, 0.0, 0.0, 0.0], [0.5264011025428772, 0.0010600968962535262, 0.00028965590172447264, 0.00024651846615597606, 0.0005783551605418324, 0.0009562980849295855, 0.005054021254181862, 0.0023897618521004915, 0.0036295028403401375, 0.0015702795935794711, 0.002997991628944874, 0.01273607648909092, 0.010846653021872044, 0.020043445751070976, 0.005567809566855431, 0.003267549676820636, 0.011372502893209457, 0.0034409761428833008, 0.03916305676102638, 0.037739429622888565, 0.08807456493377686, 0.004520962480455637, 0.003182325279340148, 0.0010964247630909085, 0.09998822212219238, 0.006728997454047203, 0.019237631931900978, 0.0028988888952881098, 0.0012989458627998829, 0.01324852742254734, 0.004750757943838835, 0.013600307516753674, 0.001048758625984192, 0.030733706429600716, 0.016907602548599243, 0.003332301275804639, 0.0, 0.0, 0.0, 0.0, 0.0, 0.0, 0.0, 0.0, 0.0], [0.8665541410446167, 0.0006575232255272567, 1.4684295820188709e-05, 6.228259007912129e-05, 4.547089338302612e-05, 2.270453842356801e-05, 0.002260226756334305, 7.69542907619325e-07, 8.135969437716994e-06, 2.188629878219217e-05, 2.71368699031882e-05, 0.0052774990908801556, 0.007232725620269775, 0.00019752050866372883, 0.013595079071819782, 6.398480763891712e-06, 3.533147173584439e-05, 5.573920498136431e-05, 0.0003171643184032291, 0.0002588217321317643, 0.0015712552703917027, 0.00030047964537516236, 0.0001418182800989598, 5.8943569456459954e-05, 0.0059042759239673615, 0.000940224330406636, 0.0035568024031817913, 0.0008198561263270676, 0.0022465237416327, 0.04600079730153084, 3.651177394203842e-05, 0.0002864766865968704, 0.0013205744326114655, 0.008264046162366867, 0.01863565295934677, 0.007378550712019205, 0.005885911639779806, 0.0, 0.0, 0.0, 0.0, 0.0, 0.0, 0.0, 0.0], [0.746512770652771, 0.001021251198835671, 1.6920257621677592e-05, 4.472662476473488e-05, 5.777141996077262e-05, 2.6227535272482783e-05, 0.00676304567605257, 7.933595952636097e-06, 6.313705671345815e-05, 6.5584345065872185e-06, 5.80357045691926e-05, 0.004377670586109161, 0.002281908644363284, 0.00017643424507696182, 0.004308175761252642, 6.380117702065036e-05, 0.00020727211085613817, 2.830792982422281e-05, 0.0003550198453012854, 1.5997060472727753e-05, 0.0035618103574961424, 0.00025786232436075807, 0.00013496227620635182, 4.2237097659381106e-05, 0.0041460865177214146, 0.00012216488539706916, 0.0021508773788809776, 0.0005469764000736177, 6.0382415540516376e-05, 0.19193649291992188, 0.00046910959645174444, 3.65902014891617e-05, 0.00011805481335613877, 0.010143406689167023, 0.010837018489837646, 0.0022628209553658962, 0.003789871698245406, 0.0029903610702604055, 0.0, 0.0, 0.0, 0.0, 0.0, 0.0, 0.0], [0.8639642596244812, 0.0032575284130871296, 0.00048285716911777854, 0.0004343068867456168, 0.0009712693863548338, 0.00016382905596401542, 0.002531771780923009, 6.452376510424074e-06, 2.6296826035832055e-05, 4.405855725053698e-05, 0.0003212772717233747, 0.007223780266940594, 0.009354990907013416, 0.0022844281047582626, 0.002638377947732806, 1.5495326806558296e-05, 6.249592115636915e-05, 6.272861355682835e-05, 0.00028154280153103173, 0.00028221620596013963, 0.0010542256059125066, 0.0005815471522510052, 0.0005516594974324107, 0.00045476265950128436, 0.004098655190318823, 0.00029620208078995347, 0.013395032845437527, 0.0019526233663782477, 0.0012627707328647375, 0.04387280344963074, 0.00036327034467831254, 0.00015585726941935718, 0.00041596475057303905, 0.011581533588469028, 0.013171644881367683, 0.0011167925549671054, 0.0009130046819336712, 0.00489031383767724, 0.0054613640531897545, 0.0, 0.0, 0.0, 0.0, 0.0, 0.0], [0.743356466293335, 0.006114481948316097, 1.4451674360316247e-05, 4.1898103518178686e-05, 0.0002332493313588202, 2.5419135454285424e-06, 0.0016639756504446268, 2.099950435763276e-09, 1.9061925513597089e-06, 0.00028460592147894204, 0.0001088160352082923, 0.0096086161211133, 0.01518273539841175, 0.00010602884140098467, 0.011292374692857265, 1.7265618623696355e-07, 9.58833425102057e-06, 0.00025559469941072166, 0.00036742439260706306, 4.191692642052658e-05, 0.00043586353422142565, 4.020614505861886e-05, 1.5712972526671365e-05, 3.1309784844779642e-06, 0.0006350238109007478, 2.2659027308691293e-05, 0.00046964053763076663, 0.03179585561156273, 0.001917207264341414, 0.08413781970739365, 1.1940303465962643e-06, 0.00023688632063567638, 0.0009722625254653394, 0.008385268971323967, 0.03225264698266983, 0.00862093921750784, 0.00047995313070714474, 0.00485841603949666, 0.017623500898480415, 0.01840893179178238, 0.0, 0.0, 0.0, 0.0, 0.0], [0.07184820622205734, 0.00020139533444307745, 6.61754747852683e-05, 5.39645625394769e-05, 9.999648682423867e-06, 2.642008985276334e-05, 0.00018746723071672022, 0.11910352110862732, 0.10644815117120743, 0.00023511942708864808, 3.73286493413616e-05, 0.0011162321316078305, 0.00022647828154731542, 3.808820474660024e-05, 2.2021402401151136e-05, 0.19411730766296387, 0.48328155279159546, 0.00425900612026453, 0.005965550895780325, 0.00024165584181901067, 0.0003867482009809464, 5.657206929754466e-05, 6.536666478496045e-05, 1.8399536202196032e-05, 0.00661848857998848, 4.6881513071639347e-07, 3.269497392466292e-05, 8.098800026345998e-05, 3.9668175304541364e-05, 0.00036679525510407984, 7.553225032097544e-07, 9.670188592281193e-05, 1.396793891217385e-06, 0.00021312522585503757, 0.0009848854970186949, 0.00022891171101946384, 0.0029892325401306152, 1.4097111488808878e-05, 2.7293246603221633e-05, 0.0002798578061629087, 1.2023931958538014e-05, 0.0, 0.0, 0.0, 0.0], [0.012973936274647713, 0.0001387255178997293, 7.42284669286164e-08, 8.204209507312044e-07, 4.385951797303278e-07, 3.489242544674198e-06, 8.79283034009859e-05, 8.770155545789748e-06, 0.40554186701774597, 0.0005053281784057617, 6.205446425155969e-06, 0.0002962808357551694, 1.7780097550712526e-05, 1.138177367465687e-06, 4.950481070409296e-06, 6.973036215640604e-05, 0.5611773729324341, 0.0057771881110966206, 0.0019979646895080805, 9.66780717135407e-05, 3.612347427406348e-05, 6.267729986575432e-06, 7.358149741776288e-05, 1.4389317584573291e-05, 0.010209458880126476, 4.442269485593897e-08, 1.4135778201307403e-06, 1.121524201153079e-05, 6.899708751006983e-07, 8.612681995145977e-06, 1.8917888089386992e-10, 8.42299505166011e-06, 1.3389785635808948e-07, 6.906993803568184e-06, 0.0001917641784530133, 4.260166679159738e-05, 0.0005330546409823, 1.2458742730814265e-06, 5.061949082119099e-07, 1.3701265743293334e-05, 5.380837251323101e-07, 0.00013263830624055117, 0.0, 0.0, 0.0], [0.02665538713335991, 0.0002281784691149369, 1.5019023749118787e-06, 2.6012356102000922e-05, 2.6620993594406173e-05, 2.5959519916796125e-05, 0.0003409336495678872, 5.749714659941674e-08, 0.00100044219288975, 0.36433759331703186, 0.001735021360218525, 0.004826946184039116, 8.905974391382188e-05, 0.00025201740209013224, 1.8618899048306048e-05, 5.965836749055597e-07, 0.003026659833267331, 0.4786084294319153, 0.08150148391723633, 0.00034816295374184847, 0.00010421119077363983, 6.97418818162987e-06, 3.9062426367308944e-05, 3.2022791856434196e-05, 0.01843753084540367, 8.504341622028733e-07, 2.0949488316546194e-05, 0.0009249895811080933, 6.96865317877382e-05, 0.00012713325850199908, 4.4519546382737474e-10, 2.0514842617558315e-05, 4.296568295103498e-05, 0.0001235755335073918, 0.0012343585258349776, 8.776784670772031e-05, 0.0014335832092911005, 2.3981490812730044e-05, 6.958455742278602e-06, 9.16888820938766e-05, 8.845917182043195e-05, 2.5634617486502975e-06, 0.014030536636710167, 0.0, 0.0], [0.023981906473636627, 9.029696229845285e-05, 4.637024630937958e-07, 1.1436435670475475e-05, 3.401169669814408e-05, 2.4118166948028374e-06, 0.0004079700738657266, 6.923284168180999e-10, 0.00011060809629270807, 0.0026768476236611605, 0.08734643459320068, 0.005642540752887726, 2.3649254217161797e-05, 0.00022354403336066753, 1.7365775420330465e-05, 2.4364952722066846e-08, 0.0003786589950323105, 0.018906094133853912, 0.7607836723327637, 0.009452993050217628, 0.005161592271178961, 0.0003589852713048458, 3.626047691795975e-05, 0.00023955754295457155, 0.055143091827631, 4.5029369175608736e-06, 5.578260243055411e-05, 0.0003393192891962826, 2.4965920601971447e-05, 0.00019191399042028934, 1.2248137226666955e-10, 2.014806113947998e-06, 6.352121545205591e-06, 0.005582185462117195, 0.001607273006811738, 1.570456697663758e-05, 0.0007282337173819542, 1.0339499567635357e-05, 1.7085150830098428e-05, 7.336674752878025e-05, 6.099295933381654e-05, 8.6478848970728e-08, 0.000715710804797709, 0.019533803686499596, 0.0], [0.8813058137893677, 0.0025417394936084747, 6.3090392359299585e-06, 9.10073777049547e-06, 0.00013518026389647275, 9.270119335269555e-05, 0.009505171328783035, 1.7581531892574276e-06, 0.0001943205134011805, 0.0012215750757604837, 0.002257351065054536, 0.012270002625882626, 0.0028334755916148424, 0.0031353652011603117, 0.007906855084002018, 6.350831426971126e-06, 0.00019816486747004092, 0.0010484419763088226, 0.0030436350498348475, 0.002643510000780225, 0.003469201037660241, 0.0006942969048395753, 0.002826123032718897, 0.003127798903733492, 0.010502789169549942, 8.606932533439249e-05, 0.0013406714424490929, 0.00015039328718557954, 0.0004931377479806542, 0.005555035080760717, 2.259610300825443e-05, 0.00010193864727625623, 0.0004918555496260524, 0.005243935622274876, 0.01703975349664688, 0.0026810183189809322, 0.0027726690750569105, 0.00022116860782261938, 0.0007284344756044447, 0.004306849557906389, 0.0015745359705761075, 5.155247890797909e-06, 7.871335401432589e-05, 0.0006169286207295954, 0.0055121444165706635]], [[1.0, 0.0, 0.0, 0.0, 0.0, 0.0, 0.0, 0.0, 0.0, 0.0, 0.0, 0.0, 0.0, 0.0, 0.0, 0.0, 0.0, 0.0, 0.0, 0.0, 0.0, 0.0, 0.0, 0.0, 0.0, 0.0, 0.0, 0.0, 0.0, 0.0, 0.0, 0.0, 0.0, 0.0, 0.0, 0.0, 0.0, 0.0, 0.0, 0.0, 0.0, 0.0, 0.0, 0.0, 0.0], [0.9817849397659302, 0.018215125426650047, 0.0, 0.0, 0.0, 0.0, 0.0, 0.0, 0.0, 0.0, 0.0, 0.0, 0.0, 0.0, 0.0, 0.0, 0.0, 0.0, 0.0, 0.0, 0.0, 0.0, 0.0, 0.0, 0.0, 0.0, 0.0, 0.0, 0.0, 0.0, 0.0, 0.0, 0.0, 0.0, 0.0, 0.0, 0.0, 0.0, 0.0, 0.0, 0.0, 0.0, 0.0, 0.0, 0.0], [0.6594926118850708, 0.2805745005607605, 0.059932891279459, 0.0, 0.0, 0.0, 0.0, 0.0, 0.0, 0.0, 0.0, 0.0, 0.0, 0.0, 0.0, 0.0, 0.0, 0.0, 0.0, 0.0, 0.0, 0.0, 0.0, 0.0, 0.0, 0.0, 0.0, 0.0, 0.0, 0.0, 0.0, 0.0, 0.0, 0.0, 0.0, 0.0, 0.0, 0.0, 0.0, 0.0, 0.0, 0.0, 0.0, 0.0, 0.0], [0.6112202405929565, 0.15707194805145264, 0.16787253320217133, 0.0638352558016777, 0.0, 0.0, 0.0, 0.0, 0.0, 0.0, 0.0, 0.0, 0.0, 0.0, 0.0, 0.0, 0.0, 0.0, 0.0, 0.0, 0.0, 0.0, 0.0, 0.0, 0.0, 0.0, 0.0, 0.0, 0.0, 0.0, 0.0, 0.0, 0.0, 0.0, 0.0, 0.0, 0.0, 0.0, 0.0, 0.0, 0.0, 0.0, 0.0, 0.0, 0.0], [0.6122531890869141, 0.01638459600508213, 0.08252350986003876, 0.22507837414741516, 0.06376027315855026, 0.0, 0.0, 0.0, 0.0, 0.0, 0.0, 0.0, 0.0, 0.0, 0.0, 0.0, 0.0, 0.0, 0.0, 0.0, 0.0, 0.0, 0.0, 0.0, 0.0, 0.0, 0.0, 0.0, 0.0, 0.0, 0.0, 0.0, 0.0, 0.0, 0.0, 0.0, 0.0, 0.0, 0.0, 0.0, 0.0, 0.0, 0.0, 0.0, 0.0], [0.92856365442276, 0.0007525731343775988, 0.0014799631899222732, 0.00017442974785808474, 0.060653507709503174, 0.008375857956707478, 0.0, 0.0, 0.0, 0.0, 0.0, 0.0, 0.0, 0.0, 0.0, 0.0, 0.0, 0.0, 0.0, 0.0, 0.0, 0.0, 0.0, 0.0, 0.0, 0.0, 0.0, 0.0, 0.0, 0.0, 0.0, 0.0, 0.0, 0.0, 0.0, 0.0, 0.0, 0.0, 0.0, 0.0, 0.0, 0.0, 0.0, 0.0, 0.0], [0.9284201860427856, 0.0036849298048764467, 0.0023072557523846626, 0.0012946432689204812, 0.00945566687732935, 0.019361594691872597, 0.035475730895996094, 0.0, 0.0, 0.0, 0.0, 0.0, 0.0, 0.0, 0.0, 0.0, 0.0, 0.0, 0.0, 0.0, 0.0, 0.0, 0.0, 0.0, 0.0, 0.0, 0.0, 0.0, 0.0, 0.0, 0.0, 0.0, 0.0, 0.0, 0.0, 0.0, 0.0, 0.0, 0.0, 0.0, 0.0, 0.0, 0.0, 0.0, 0.0], [0.2276460975408554, 0.0019505014643073082, 0.0011069485917687416, 0.0007280772551894188, 1.177676040242659e-05, 0.0009620376513339579, 0.7214912176132202, 0.04610343649983406, 0.0, 0.0, 0.0, 0.0, 0.0, 0.0, 0.0, 0.0, 0.0, 0.0, 0.0, 0.0, 0.0, 0.0, 0.0, 0.0, 0.0, 0.0, 0.0, 0.0, 0.0, 0.0, 0.0, 0.0, 0.0, 0.0, 0.0, 0.0, 0.0, 0.0, 0.0, 0.0, 0.0, 0.0, 0.0, 0.0, 0.0], [0.8009757399559021, 0.00043826980981975794, 0.00024208739341702312, 2.927119749074336e-05, 0.00041078487993218005, 0.003210088238120079, 0.028135495260357857, 0.11256192624568939, 0.05399637669324875, 0.0, 0.0, 0.0, 0.0, 0.0, 0.0, 0.0, 0.0, 0.0, 0.0, 0.0, 0.0, 0.0, 0.0, 0.0, 0.0, 0.0, 0.0, 0.0, 0.0, 0.0, 0.0, 0.0, 0.0, 0.0, 0.0, 0.0, 0.0, 0.0, 0.0, 0.0, 0.0, 0.0, 0.0, 0.0, 0.0], [0.36466604471206665, 0.000141673517646268, 3.196057150489651e-05, 1.8515880810809904e-06, 7.223144348245114e-05, 0.00032026413828134537, 0.00040576112223789096, 0.005976187996566296, 0.5300374031066895, 0.09834662824869156, 0.0, 0.0, 0.0, 0.0, 0.0, 0.0, 0.0, 0.0, 0.0, 0.0, 0.0, 0.0, 0.0, 0.0, 0.0, 0.0, 0.0, 0.0, 0.0, 0.0, 0.0, 0.0, 0.0, 0.0, 0.0, 0.0, 0.0, 0.0, 0.0, 0.0, 0.0, 0.0, 0.0, 0.0, 0.0], [0.5562868714332581, 0.00015052681555971503, 0.00013815252168569714, 7.088372512953356e-05, 0.0008008077857084572, 0.0006808680482208729, 0.0006820661365054548, 0.0002461533003952354, 0.01435768697410822, 0.3785516321659088, 0.048034314066171646, 0.0, 0.0, 0.0, 0.0, 0.0, 0.0, 0.0, 0.0, 0.0, 0.0, 0.0, 0.0, 0.0, 0.0, 0.0, 0.0, 0.0, 0.0, 0.0, 0.0, 0.0, 0.0, 0.0, 0.0, 0.0, 0.0, 0.0, 0.0, 0.0, 0.0, 0.0, 0.0, 0.0, 0.0], [0.8674495220184326, 0.0029950204771012068, 0.0006275718915276229, 0.0002535828680265695, 0.002981428289785981, 0.000819917069748044, 0.0012483811005949974, 0.0001946433912962675, 0.0013632287736982107, 0.008683926425874233, 0.10877489298582077, 0.004607848357409239, 0.0, 0.0, 0.0, 0.0, 0.0, 0.0, 0.0, 0.0, 0.0, 0.0, 0.0, 0.0, 0.0, 0.0, 0.0, 0.0, 0.0, 0.0, 0.0, 0.0, 0.0, 0.0, 0.0, 0.0, 0.0, 0.0, 0.0, 0.0, 0.0, 0.0, 0.0, 0.0, 0.0], [0.9060446619987488, 0.0013719493290409446, 0.00015287264250218868, 2.2949918275116943e-05, 0.00013275144738145173, 0.00017980669508688152, 0.0003230689326301217, 1.686852192506194e-05, 6.358977407217026e-05, 7.2374323281110264e-06, 0.0006574365543201566, 0.08806071430444717, 0.0029661532025784254, 0.0, 0.0, 0.0, 0.0, 0.0, 0.0, 0.0, 0.0, 0.0, 0.0, 0.0, 0.0, 0.0, 0.0, 0.0, 0.0, 0.0, 0.0, 0.0, 0.0, 0.0, 0.0, 0.0, 0.0, 0.0, 0.0, 0.0, 0.0, 0.0, 0.0, 0.0, 0.0], [0.7615600228309631, 0.010166637599468231, 0.0018500268924981356, 0.0004181166586931795, 0.0012676758924499154, 0.08119828999042511, 0.00023963625426404178, 2.2237858502194285e-05, 4.838208042201586e-05, 0.00013077171752229333, 0.0003997540916316211, 0.0911334827542305, 0.04686640575528145, 0.004698649980127811, 0.0, 0.0, 0.0, 0.0, 0.0, 0.0, 0.0, 0.0, 0.0, 0.0, 0.0, 0.0, 0.0, 0.0, 0.0, 0.0, 0.0, 0.0, 0.0, 0.0, 0.0, 0.0, 0.0, 0.0, 0.0, 0.0, 0.0, 0.0, 0.0, 0.0, 0.0], [0.6057804226875305, 0.0002234231651527807, 7.031679706415161e-05, 3.546677362464834e-06, 0.00029640342108905315, 0.0004769575607497245, 9.218179184244946e-05, 5.94726407143753e-06, 5.847529973834753e-05, 3.0105213227216154e-05, 0.0007280957652255893, 0.004128731787204742, 0.04770356044173241, 0.33299973607063293, 0.007402009330689907, 0.0, 0.0, 0.0, 0.0, 0.0, 0.0, 0.0, 0.0, 0.0, 0.0, 0.0, 0.0, 0.0, 0.0, 0.0, 0.0, 0.0, 0.0, 0.0, 0.0, 0.0, 0.0, 0.0, 0.0, 0.0, 0.0, 0.0, 0.0, 0.0, 0.0], [0.4594019651412964, 0.0017197516281157732, 0.00028313026996329427, 8.038677333388478e-05, 1.0070588359667454e-05, 0.00048171175876632333, 0.06412617117166519, 0.0036034497898072004, 6.327580922516063e-05, 2.129982448195733e-07, 6.0781167121604085e-05, 0.005211771000176668, 0.010776476934552193, 0.00014072759950067848, 0.4321720004081726, 0.02186807058751583, 0.0, 0.0, 0.0, 0.0, 0.0, 0.0, 0.0, 0.0, 0.0, 0.0, 0.0, 0.0, 0.0, 0.0, 0.0, 0.0, 0.0, 0.0, 0.0, 0.0, 0.0, 0.0, 0.0, 0.0, 0.0, 0.0, 0.0, 0.0, 0.0], [0.7048338651657104, 0.0005851611495018005, 0.00011280195758445188, 1.2638467524084263e-05, 9.087668149732053e-05, 0.000663142476696521, 0.004367267247289419, 0.010209329426288605, 0.0032469897996634245, 0.00023417241754941642, 0.0005163081223145127, 0.0010971897281706333, 0.0067781684920191765, 0.0013956541661173105, 0.09433765709400177, 0.10069668292999268, 0.07082206755876541, 0.0, 0.0, 0.0, 0.0, 0.0, 0.0, 0.0, 0.0, 0.0, 0.0, 0.0, 0.0, 0.0, 0.0, 0.0, 0.0, 0.0, 0.0, 0.0, 0.0, 0.0, 0.0, 0.0, 0.0, 0.0, 0.0, 0.0, 0.0], [0.3595358431339264, 0.00013219538959674537, 1.9717794202733785e-05, 6.896896707075939e-07, 1.9326664187246934e-05, 0.00010240775009151548, 0.00010711850336520001, 0.0019141429802402854, 0.05452699214220047, 0.017064150422811508, 0.0026362750213593245, 0.0007176205399446189, 0.0024246317334473133, 0.0008492694469168782, 0.002344421809539199, 0.025867832824587822, 0.4398374557495117, 0.09189995378255844, 0.0, 0.0, 0.0, 0.0, 0.0, 0.0, 0.0, 0.0, 0.0, 0.0, 0.0, 0.0, 0.0, 0.0, 0.0, 0.0, 0.0, 0.0, 0.0, 0.0, 0.0, 0.0, 0.0, 0.0, 0.0, 0.0, 0.0], [0.8432278037071228, 0.001105360221117735, 0.0002918061800301075, 3.711767931235954e-05, 0.00013179078814573586, 0.00018365851428825408, 0.00010372946417191997, 0.0002522529393900186, 0.0023457664065063, 0.01178433746099472, 0.009197295643389225, 0.003000684315338731, 0.002029657131060958, 0.0009678284986875951, 0.0020205164328217506, 0.001785753294825554, 0.02647889032959938, 0.05416754260659218, 0.04088820517063141, 0.0, 0.0, 0.0, 0.0, 0.0, 0.0, 0.0, 0.0, 0.0, 0.0, 0.0, 0.0, 0.0, 0.0, 0.0, 0.0, 0.0, 0.0, 0.0, 0.0, 0.0, 0.0, 0.0, 0.0, 0.0, 0.0], [0.45565134286880493, 0.0013066860847175121, 0.00014977864339016378, 1.4017918147146702e-05, 0.00031177722848951817, 0.0003375825472176075, 0.00015676164184696972, 0.00019591982709243894, 0.001962294802069664, 0.0019927993416786194, 0.0017141338903456926, 0.0015656966716051102, 0.0087014464661479, 0.0038956180214881897, 0.003434118814766407, 0.00128104945179075, 0.021845122799277306, 0.017600588500499725, 0.4508904218673706, 0.02699272707104683, 0.0, 0.0, 0.0, 0.0, 0.0, 0.0, 0.0, 0.0, 0.0, 0.0, 0.0, 0.0, 0.0, 0.0, 0.0, 0.0, 0.0, 0.0, 0.0, 0.0, 0.0, 0.0, 0.0, 0.0, 0.0], [0.37871265411376953, 0.001818954711779952, 0.00026289219385944307, 4.189612445770763e-05, 0.00022913634893484414, 0.0006156986928544939, 0.00017513772763777524, 0.0001093742685043253, 0.0008690770482644439, 0.0006402995204553008, 0.0033312570303678513, 0.006715973373502493, 0.002437428804114461, 0.0009762265253812075, 0.001601540483534336, 0.000475913257105276, 0.007449009921401739, 0.0052672214806079865, 0.2494831383228302, 0.28970593214035034, 0.04908131808042526, 0.0, 0.0, 0.0, 0.0, 0.0, 0.0, 0.0, 0.0, 0.0, 0.0, 0.0, 0.0, 0.0, 0.0, 0.0, 0.0, 0.0, 0.0, 0.0, 0.0, 0.0, 0.0, 0.0, 0.0], [0.8674683570861816, 5.446798604680225e-05, 4.663757135858759e-05, 6.969681635382585e-06, 0.00021364020358305424, 0.000284894194919616, 0.0001878848997876048, 2.4499749997630715e-05, 0.0001659408735577017, 5.536447497433983e-05, 0.0007121727103367448, 0.00017918752564582974, 0.0001102503010770306, 0.0006319605745375156, 0.0010442336788401008, 0.0001225597516167909, 0.0010537141934037209, 0.0003893527900800109, 0.011790167540311813, 0.009158622473478317, 0.07848980277776718, 0.02780926786363125, 0.0, 0.0, 0.0, 0.0, 0.0, 0.0, 0.0, 0.0, 0.0, 0.0, 0.0, 0.0, 0.0, 0.0, 0.0, 0.0, 0.0, 0.0, 0.0, 0.0, 0.0, 0.0, 0.0], [0.7771494388580322, 7.103537063812837e-05, 9.121705079451203e-05, 1.640685150050558e-05, 0.0005474774516187608, 0.0028307544998824596, 0.00040952934068627656, 0.0002388258872088045, 0.0003825971216429025, 9.809661423787475e-05, 0.0001968607393791899, 0.0003566215746104717, 0.0003065832133870572, 0.003544868901371956, 0.00216423231177032, 0.0008880196837708354, 0.001473787589929998, 0.0003629292768891901, 0.0012554582208395004, 0.0015736494679003954, 0.010602258145809174, 0.15284033119678497, 0.042599018663167953, 0.0, 0.0, 0.0, 0.0, 0.0, 0.0, 0.0, 0.0, 0.0, 0.0, 0.0, 0.0, 0.0, 0.0, 0.0, 0.0, 0.0, 0.0, 0.0, 0.0, 0.0, 0.0], [0.5519940853118896, 0.00017964281141757965, 1.3564464097726159e-05, 5.596852133749053e-06, 1.4893132174620405e-05, 0.00037248191074468195, 0.00022183667169883847, 8.265803626272827e-05, 0.00012128654634580016, 5.9686266467906535e-05, 8.636141865281388e-05, 0.000357702694600448, 0.0007436294108629227, 0.000282685476122424, 0.0004576736828312278, 0.00011362219083821401, 0.00017933282651938498, 8.772810542723164e-05, 0.001306174206547439, 0.0009628039551898837, 0.0004787511134054512, 0.004990451969206333, 0.3830341398715973, 0.05385323613882065, 0.0, 0.0, 0.0, 0.0, 0.0, 0.0, 0.0, 0.0, 0.0, 0.0, 0.0, 0.0, 0.0, 0.0, 0.0, 0.0, 0.0, 0.0, 0.0, 0.0, 0.0], [0.8605400323867798, 0.0002357037301408127, 6.333416240522638e-05, 9.31559861783171e-06, 4.503962190938182e-05, 0.00011339948105160147, 0.00026799054467119277, 0.00037620082730427384, 0.00031744397711008787, 0.00038671764195896685, 0.0007186430157162249, 0.002080460311844945, 0.0004385659412946552, 0.0005696564330719411, 0.0020722050685435534, 0.0016711802454665303, 0.005317740608006716, 0.002454780275002122, 0.0032026602420955896, 0.0015284320106729865, 0.0012361410772427917, 0.0005795047036372125, 0.0029357047751545906, 0.1100894883275032, 0.0027497299015522003, 0.0, 0.0, 0.0, 0.0, 0.0, 0.0, 0.0, 0.0, 0.0, 0.0, 0.0, 0.0, 0.0, 0.0, 0.0, 0.0, 0.0, 0.0, 0.0, 0.0], [0.9165300130844116, 3.2170908070838777e-06, 5.835838692291873e-07, 5.3701207036738197e-08, 7.133092822186882e-06, 7.2213824751088396e-06, 6.4433097577420995e-06, 1.4538913717387913e-07, 2.613135393403354e-06, 1.1387019185349345e-06, 1.668090590101201e-05, 3.767749876715243e-05, 3.4077762393280864e-05, 5.462306580739096e-05, 1.9626178982434794e-05, 8.976521712611429e-07, 2.7392879928811453e-05, 1.0464858860359527e-05, 0.0016170989256352186, 0.00038017358747310936, 0.0016059436602517962, 0.003910182509571314, 0.00045683939242735505, 0.0008072346681728959, 0.06524654477834702, 0.00921595562249422, 0.0, 0.0, 0.0, 0.0, 0.0, 0.0, 0.0, 0.0, 0.0, 0.0, 0.0, 0.0, 0.0, 0.0, 0.0, 0.0, 0.0, 0.0, 0.0], [0.7440452575683594, 7.40132963983342e-05, 1.0574281986919232e-05, 4.205310688121244e-05, 0.00021032711083535105, 0.00027056096587330103, 0.00018200922932010144, 2.13259227166418e-06, 4.0736590563028585e-06, 1.6243320715148002e-06, 2.4723680326133035e-05, 6.671454320894554e-05, 0.00028047000523656607, 7.400080357911065e-05, 0.0002093537332257256, 7.372710115305381e-06, 3.1199549994198605e-05, 9.363471690448932e-06, 0.0004144692502450198, 0.00011251880641793832, 0.0008403037209063768, 0.0035693603567779064, 0.0008199172443710268, 0.0012864049058407545, 0.07046647369861603, 0.1609029769897461, 0.016041770577430725, 0.0, 0.0, 0.0, 0.0, 0.0, 0.0, 0.0, 0.0, 0.0, 0.0, 0.0, 0.0, 0.0, 0.0, 0.0, 0.0, 0.0, 0.0], [0.502545177936554, 1.4800776625634171e-05, 3.8666844375256915e-06, 1.7945286856502207e-07, 0.00011401972005842254, 2.4208506147260778e-05, 1.7348507753922604e-05, 1.172985776065616e-05, 0.00028269985341466963, 0.0003552691196091473, 0.00018291645392309874, 0.00017293592100031674, 0.00038991228211671114, 0.0017342676874250174, 0.00010609669698169455, 9.728610166348517e-05, 0.0017092050984501839, 0.0009203843073919415, 0.0003462632594164461, 6.769323226762936e-05, 0.0002226134529337287, 0.00225177314132452, 0.0014763581566512585, 0.0012996771838515997, 0.002461350290104747, 0.0007181966793723404, 0.45068806409835815, 0.03178563341498375, 0.0, 0.0, 0.0, 0.0, 0.0, 0.0, 0.0, 0.0, 0.0, 0.0, 0.0, 0.0, 0.0, 0.0, 0.0, 0.0, 0.0], [0.9296807646751404, 1.6942750562520814e-06, 2.1360111190915632e-07, 1.7765756865628646e-08, 3.5256675801065285e-06, 5.39830807610997e-06, 2.585118454589974e-05, 2.2903939225216163e-06, 2.310913805558812e-05, 6.926476544322213e-06, 7.340018782997504e-06, 1.0241366908303462e-05, 8.962685387814417e-05, 6.118330202298239e-05, 0.0002928062167484313, 1.665274794504512e-05, 0.00014524432481266558, 2.2962434741202742e-05, 0.0003253163304179907, 6.433586349885445e-06, 8.896219515008852e-05, 0.0004231860220897943, 0.00017613574163988233, 5.4955933592282236e-05, 0.000776919536292553, 7.281283615157008e-05, 0.006351587362587452, 0.053827349096536636, 0.00750053022056818, 0.0, 0.0, 0.0, 0.0, 0.0, 0.0, 0.0, 0.0, 0.0, 0.0, 0.0, 0.0, 0.0, 0.0, 0.0, 0.0], [0.85120689868927, 9.03336604096694e-06, 2.400919584033545e-06, 1.0693950116547057e-06, 6.626401955145411e-06, 1.988672374864109e-05, 0.00025677954545244575, 3.6340757105790544e-06, 4.4122309191152453e-05, 4.360132516012527e-05, 0.0002271931298309937, 0.00019196001812815666, 0.00018222675134893507, 0.00010889946133829653, 0.000800283276475966, 2.6631156288203783e-05, 0.00031064683571457863, 0.00017054888303391635, 0.0007282615406438708, 0.000775632681325078, 0.0009551938273943961, 0.00022603929392062128, 4.5734119339613244e-05, 0.0004976792843081057, 0.0008988307090476155, 0.00044131188769824803, 0.008603437803685665, 0.0069764782674610615, 0.1008705198764801, 0.02536851540207863, 0.0, 0.0, 0.0, 0.0, 0.0, 0.0, 0.0, 0.0, 0.0, 0.0, 0.0, 0.0, 0.0, 0.0, 0.0], [0.918468713760376, 1.9647361568786437e-06, 8.782080129776659e-08, 5.034330641251472e-08, 1.921763193024617e-08, 1.2209279987018817e-07, 7.761024789942894e-06, 4.35425846490034e-08, 6.080837522404181e-08, 3.811310822499081e-09, 1.068520191438438e-06, 7.085063771228306e-06, 1.2911556041217409e-05, 1.2696592648353544e-06, 3.6766661651199684e-05, 4.2586950144141156e-07, 6.857572998342221e-07, 3.82143774402266e-08, 9.660403748057433e-07, 2.7195384973310865e-05, 5.1889242058678064e-06, 4.4193559006089345e-05, 6.546990789502161e-06, 2.505573684175033e-05, 3.900077444995986e-06, 2.8082484277547337e-05, 7.00631135259755e-05, 7.5842485784960445e-06, 0.00029224358149804175, 0.06697265058755875, 0.013977275229990482, 0.0, 0.0, 0.0, 0.0, 0.0, 0.0, 0.0, 0.0, 0.0, 0.0, 0.0, 0.0, 0.0, 0.0], [0.2957201898097992, 9.874534953269176e-06, 4.7079305431907414e-07, 1.9519189820016436e-08, 7.85898279787034e-08, 1.1774172037348762e-07, 6.842415132268798e-06, 4.046470712637529e-05, 9.3357331934385e-05, 7.959505637700204e-06, 3.564390499377623e-05, 1.6380074157495983e-05, 7.819088932592422e-05, 2.4304654289153405e-06, 3.410347198951058e-05, 7.493864541174844e-05, 0.0001615779910935089, 1.2693419193965383e-05, 1.8092658137902617e-05, 1.58821239892859e-05, 6.747508450644091e-06, 1.4455875316343736e-05, 2.918781547123217e-06, 1.4672100405732635e-05, 2.515479991416214e-06, 1.953634182427777e-06, 8.204977348214015e-05, 9.689803118817508e-05, 8.225943747675046e-05, 0.00429100077599287, 0.6865355968475342, 0.012539669871330261, 0.0, 0.0, 0.0, 0.0, 0.0, 0.0, 0.0, 0.0, 0.0, 0.0, 0.0, 0.0, 0.0], [0.2590455710887909, 1.6943355376497493e-06, 7.347567247961706e-07, 5.339743935905972e-08, 3.3292630519099475e-07, 8.556197030884505e-07, 1.0698801133912639e-07, 2.1017110896082158e-07, 4.573141995933838e-05, 0.00019878640887327492, 0.00014088943134993315, 1.0638214007485658e-05, 1.8537968571763486e-05, 1.6955809769569896e-05, 9.012821351461753e-07, 1.210635218740208e-06, 6.74815455568023e-05, 7.869532419135794e-05, 2.356841832806822e-05, 7.2603347689437214e-06, 1.6753363524912857e-05, 9.287615284847561e-06, 7.2527086558693554e-06, 6.402694270946085e-05, 3.071840910706669e-05, 8.030267053982243e-06, 0.000196897002751939, 0.00037817080738022923, 0.00020468348520807922, 8.008346048882231e-05, 0.023357532918453217, 0.6425694823265076, 0.07341679185628891, 0.0, 0.0, 0.0, 0.0, 0.0, 0.0, 0.0, 0.0, 0.0, 0.0, 0.0, 0.0], [0.8780051469802856, 1.3152898645785172e-05, 5.383517873269739e-06, 9.76753995018953e-07, 1.9988037820439786e-06, 4.072907358931843e-06, 1.2263521057320759e-05, 3.5531370485841762e-06, 3.510913302307017e-05, 0.0003127593081444502, 0.0002653379342518747, 4.181900294497609e-05, 1.2811334272555541e-05, 1.5149971659411676e-05, 5.65969203307759e-05, 7.634807843714952e-06, 7.339029980357736e-05, 0.0002504275180399418, 0.0009500612504780293, 0.0004693112277891487, 0.00018963153706863523, 8.72486452863086e-06, 8.084639375738334e-06, 0.00036328460555523634, 0.0001563083060318604, 2.3367570975096896e-05, 0.0003043370961677283, 0.00033013999927788973, 0.000721611431799829, 0.0010939926141873002, 0.0005545782041735947, 0.0017763434443622828, 0.07128474861383438, 0.04264786094427109, 0.0, 0.0, 0.0, 0.0, 0.0, 0.0, 0.0, 0.0, 0.0, 0.0, 0.0], [0.9333990812301636, 0.001063555828295648, 7.315468974411488e-05, 3.0275876270025037e-05, 0.00021011412900406867, 8.504272409481928e-05, 5.347555270418525e-05, 5.856732514075702e-06, 1.8552049368736334e-05, 5.029828753322363e-05, 0.0023415093310177326, 0.000338428420946002, 0.00010042983194580302, 8.907081792131066e-05, 9.57628435571678e-05, 1.1830259609268978e-05, 6.288185977609828e-05, 6.149553519207984e-05, 0.0010544200194999576, 0.0002670617832336575, 9.789692558115348e-05, 9.760220564203337e-06, 7.21183596397168e-06, 0.0005318582989275455, 0.00038890662835910916, 0.00016669067554175854, 0.0002949357149191201, 5.994005914544687e-05, 0.00020633293024729937, 0.00027125340420752764, 0.00013614227646030486, 0.00037970743142068386, 0.0017936290241777897, 0.0514589287340641, 0.004784420132637024, 0.0, 0.0, 0.0, 0.0, 0.0, 0.0, 0.0, 0.0, 0.0, 0.0], [0.7795982360839844, 0.0003271543246228248, 2.083311483147554e-05, 2.603815346446936e-06, 1.1341739082126878e-05, 9.942724864231423e-05, 1.0941676009679213e-05, 5.64360220778326e-07, 1.5863038242969196e-06, 1.1290853763057385e-07, 2.5944817025447264e-05, 0.006768688093870878, 0.0007296667317859828, 0.000228599485126324, 9.282215614803135e-05, 3.828433818853227e-06, 2.1681966245523654e-05, 1.342911218671361e-06, 0.0005166511400602758, 0.00020191176736261696, 4.743610043078661e-05, 4.075550532434136e-05, 1.8153712517232634e-05, 0.00011715258733602241, 7.317782001337036e-05, 4.5979933929629624e-05, 0.00013956998009234667, 0.0001685398892732337, 0.00022824025654699653, 5.4887372243683785e-05, 1.390769648423884e-05, 3.4013810363831e-05, 1.1665173587971367e-05, 0.0011004176922142506, 0.19543631374835968, 0.01380591094493866, 0.0, 0.0, 0.0, 0.0, 0.0, 0.0, 0.0, 0.0, 0.0], [0.7248691320419312, 0.0032903156243264675, 7.592918700538576e-05, 1.6920939742703922e-05, 2.1732616005465388e-05, 6.885940092615783e-05, 5.4534957598662004e-05, 5.8086214266950265e-05, 4.55931767646689e-05, 1.0475505405338481e-05, 5.0222664867760614e-05, 0.0022674475330859423, 0.002624640939757228, 0.00023153772053774446, 0.0013261926360428333, 0.00029353040736168623, 0.0008857944048941135, 9.763178968569264e-05, 0.0025317203253507614, 0.001207916997373104, 0.0006150302942842245, 0.00019192168838344514, 5.200884334044531e-05, 0.0003033298999071121, 0.000339271267876029, 0.00019219751993659884, 0.0002991154615301639, 0.0002340410283068195, 0.0006435656105168164, 0.0025050973054021597, 0.002844462404027581, 0.0006618324550800025, 0.0013900951016694307, 0.0021481432486325502, 0.057819854468107224, 0.17235879600048065, 0.017373058944940567, 0.0, 0.0, 0.0, 0.0, 0.0, 0.0, 0.0, 0.0], [0.7306943535804749, 4.6124187065288424e-05, 1.0036574167315848e-05, 1.6849819530762034e-06, 1.0871391168620903e-05, 4.546386844594963e-05, 1.2272757885511965e-05, 6.613105369979166e-07, 4.4615462684305385e-06, 4.4748557570528646e-07, 7.0809055614518e-06, 4.5436303480528295e-05, 0.00022697816893924028, 0.0001242530852323398, 0.00018810747133102268, 3.690369567266316e-06, 3.795194061240181e-05, 1.982540652534226e-06, 0.002660032594576478, 0.00010913539881585166, 0.0023447542916983366, 0.0011141177965328097, 0.00013534446770790964, 3.863583333441056e-05, 0.003089113160967827, 0.0005237605073489249, 0.0005354856257326901, 0.00040789187187328935, 0.00019197566143702716, 0.002574013080447912, 0.0025193882174789906, 0.0002690147375687957, 0.0003167196991853416, 0.004825858399271965, 0.0037272372283041477, 0.0017438067588955164, 0.1757594347000122, 0.06565245240926743, 0.0, 0.0, 0.0, 0.0, 0.0, 0.0, 0.0], [0.5474779605865479, 2.478492388036102e-05, 2.421804310870357e-06, 3.100045375958871e-07, 5.649399099638686e-06, 4.762636763189221e-06, 2.557824154791888e-05, 1.9416060581534111e-07, 3.3212309062946588e-06, 7.906246537459083e-07, 1.812952723412309e-05, 2.569153184595052e-05, 0.00011381933290977031, 0.000104014492535498, 0.00023500461247749627, 1.3880234064345132e-06, 2.2162550521898083e-05, 3.9231754271895625e-06, 0.0002458129602018744, 0.0001543573453091085, 0.0003754915378522128, 0.0002131307846866548, 5.372902887756936e-05, 0.00011803866800619289, 0.00012615628656931221, 3.760794425033964e-05, 0.0006749192834831774, 0.0004123063408769667, 0.0009421760914847255, 0.010766317136585712, 0.0025357261765748262, 0.000571674550883472, 0.0018016599351540208, 0.008027183823287487, 0.00131549674551934, 0.0018506310880184174, 0.023180503398180008, 0.37430137395858765, 0.02422579564154148, 0.0, 0.0, 0.0, 0.0, 0.0, 0.0], [0.8112915754318237, 0.00016534884343855083, 3.835479947156273e-05, 3.219081190763973e-05, 0.00018171209376305342, 0.0007401179173029959, 0.00026226224144920707, 3.178394990754896e-06, 8.068313036346808e-06, 3.2862192256288836e-06, 5.920226249145344e-05, 0.000391081819543615, 0.0007462967187166214, 0.0001690059289103374, 0.0006650670547969639, 1.1091783562733326e-05, 4.0501236071577296e-05, 1.0350182492402382e-05, 0.0002866223221644759, 0.00039494494558312, 0.0005346643156372011, 0.0005746044917032123, 6.838140689069405e-05, 0.0004920163773931563, 0.0008739969925954938, 0.0006867985357530415, 0.0009268399444408715, 0.0002137788396794349, 0.0022727001924067736, 0.02457897737622261, 0.0011763758957386017, 0.000870556861627847, 0.0004038879997096956, 0.00348406913690269, 0.006956519093364477, 0.005569730885326862, 0.010697937570512295, 0.03509463742375374, 0.06961310654878616, 0.019410166889429092, 0.0, 0.0, 0.0, 0.0, 0.0], [0.6079562306404114, 2.3515256543760188e-05, 8.640806754556252e-07, 5.8319244544691173e-08, 6.294170361798024e-06, 4.565410108625656e-06, 1.273779616894899e-06, 3.770274403791518e-08, 3.2558511975366855e-06, 6.709841727570165e-06, 2.022559601755347e-05, 3.462440872681327e-05, 0.00017362933431286365, 0.0003234899486415088, 1.9346554836374708e-05, 3.7276240050232445e-07, 1.8471371731720865e-05, 1.179376158688683e-05, 0.0002565582108218223, 2.4403845600318164e-05, 1.0995878255926073e-05, 6.854750972706825e-05, 6.768235834897496e-06, 2.803156121444772e-06, 6.805839075241238e-05, 2.2546288164448924e-05, 0.004017220344394445, 0.0032466580159962177, 0.00047405753866769373, 9.992197738029063e-05, 0.00020056249923072755, 0.00016368107753805816, 0.00017922122788149863, 0.003001309232786298, 0.0009275326738134027, 0.001607526559382677, 0.0017530490877106786, 0.0007432851125486195, 0.0008608478819951415, 0.36338070034980774, 0.010279053822159767, 0.0, 0.0, 0.0, 0.0], [0.43145638704299927, 0.00012851416249759495, 4.534409526968375e-06, 1.5821898387002875e-06, 3.0427275987676694e-07, 5.339381914382102e-06, 0.001951608806848526, 7.964404358062893e-05, 1.1976608220720664e-06, 4.4431893719831805e-09, 8.233216135522525e-07, 2.971545654872898e-05, 0.00010148434375878423, 4.4138334942545043e-07, 0.004779557231813669, 0.00015437397814821452, 2.3893349862191826e-05, 6.274024855201787e-08, 3.388004552107304e-05, 6.044911060598679e-05, 1.7906029825098813e-05, 6.262461101869121e-05, 4.2221014155074954e-05, 8.880365385266487e-06, 2.1634509721479844e-06, 2.5927761271304917e-06, 4.650602477340726e-06, 1.4959250620449893e-05, 4.1034207242773846e-05, 0.0006253774627111852, 2.4671138817211613e-05, 4.134850826176262e-07, 6.85123495713924e-08, 3.5079745430266485e-05, 0.0005617749993689358, 0.0010535583132877946, 0.0003373854560777545, 0.0002855428901966661, 0.00014143691805657, 3.017448580067139e-05, 0.5282622575759888, 0.029631448909640312, 0.0, 0.0, 0.0], [0.6846820712089539, 2.691421286726836e-05, 9.92886725725839e-07, 1.1831974688902847e-07, 2.6369705210527172e-06, 9.513118129689246e-06, 7.368045044131577e-05, 0.00020306123769842088, 8.471110049868003e-05, 7.85383781476412e-06, 5.87355771131115e-06, 5.723496087739477e-06, 4.5548971684183925e-05, 4.662795618060045e-06, 0.0008210024097934365, 0.0008610301883891225, 0.0006967696826905012, 3.91809044231195e-05, 0.00033250232809223235, 0.00011699867900460958, 5.489771137945354e-05, 0.00013530909200198948, 6.641559593845159e-05, 2.1011564967921004e-05, 6.562583621416707e-06, 2.1467408259923104e-06, 3.231825394323096e-05, 7.73253632360138e-05, 1.634292675589677e-05, 3.5950786696048453e-05, 7.508932321798056e-05, 5.632394822896458e-05, 4.1690716898301616e-05, 0.00022340996656566858, 0.00019609183073043823, 0.001059468137100339, 0.0006326614529825747, 8.665110362926498e-05, 2.5904702852130868e-05, 0.00017839556676335633, 0.10655062645673752, 0.1314203292131424, 0.07098432630300522, 0.0, 0.0], [0.4949072003364563, 1.4999466657172889e-05, 5.365105266719183e-07, 2.3023934758725773e-08, 1.6531914752704324e-06, 2.403755843261024e-06, 1.786910843293299e-06, 2.6327294108341448e-05, 0.0007610202301293612, 0.00032639692653901875, 4.2712679714895785e-05, 6.814529569965089e-06, 1.2777121810358949e-05, 3.09923757413344e-06, 1.8373892089584842e-05, 0.00013390621461439878, 0.0027918023988604546, 0.0004228512989357114, 0.0004396576259750873, 2.0881056116195396e-05, 8.69201812747633e-06, 1.8462014850229025e-05, 1.253759182873182e-05, 9.585633961251006e-06, 4.283764610590879e-06, 6.375414045578509e-07, 5.551520735025406e-05, 0.0006979286554269493, 2.179973671445623e-05, 1.06070456240559e-06, 7.276544056367129e-05, 0.0003229818248655647, 0.00020069429592695087, 0.0012420216808095574, 0.00020779961778316647, 0.0002686030638869852, 0.0006224616663530469, 9.602565842214972e-05, 1.0986639608745463e-05, 0.001065011485479772, 0.007103335112333298, 0.02014532871544361, 0.35840684175491333, 0.10946935415267944, 0.0], [0.6030415892601013, 4.0254482883028686e-05, 4.423521204444114e-06, 7.534978294643224e-07, 1.8087397620547563e-05, 2.7526921257958747e-06, 1.0691082025005016e-05, 1.9755940229515545e-05, 0.00012039001740049571, 0.0013916215393692255, 0.00017815329192671925, 2.158348615921568e-05, 1.9092716684099287e-05, 8.94599907041993e-06, 0.00010043902875622734, 6.486235361080617e-05, 0.0008358533377759159, 0.0025468452367931604, 0.0013683149591088295, 0.00019777948909904808, 0.00029749510576948524, 8.0623482062947e-05, 6.873341772006825e-05, 4.164962228969671e-05, 3.4282369597349316e-05, 9.12207815417787e-06, 0.0001524743129266426, 0.00037084787618368864, 8.82325621205382e-05, 3.917522553820163e-05, 9.416891407454386e-05, 0.00019169409642927349, 0.006806712597608566, 0.0013793428661301732, 0.00020038966613356024, 0.00020156516984570771, 0.0002183465549023822, 0.0002173613611375913, 3.0929182685213163e-05, 0.00033995151170529425, 0.021737247705459595, 0.0050757997669279575, 0.04951686039566994, 0.29091301560401917, 0.011901899240911007]], [[1.0, 0.0, 0.0, 0.0, 0.0, 0.0, 0.0, 0.0, 0.0, 0.0, 0.0, 0.0, 0.0, 0.0, 0.0, 0.0, 0.0, 0.0, 0.0, 0.0, 0.0, 0.0, 0.0, 0.0, 0.0, 0.0, 0.0, 0.0, 0.0, 0.0, 0.0, 0.0, 0.0, 0.0, 0.0, 0.0, 0.0, 0.0, 0.0, 0.0, 0.0, 0.0, 0.0, 0.0, 0.0], [0.9836134910583496, 0.016386492177844048, 0.0, 0.0, 0.0, 0.0, 0.0, 0.0, 0.0, 0.0, 0.0, 0.0, 0.0, 0.0, 0.0, 0.0, 0.0, 0.0, 0.0, 0.0, 0.0, 0.0, 0.0, 0.0, 0.0, 0.0, 0.0, 0.0, 0.0, 0.0, 0.0, 0.0, 0.0, 0.0, 0.0, 0.0, 0.0, 0.0, 0.0, 0.0, 0.0, 0.0, 0.0, 0.0, 0.0], [0.9436458945274353, 0.04443224146962166, 0.011921829544007778, 0.0, 0.0, 0.0, 0.0, 0.0, 0.0, 0.0, 0.0, 0.0, 0.0, 0.0, 0.0, 0.0, 0.0, 0.0, 0.0, 0.0, 0.0, 0.0, 0.0, 0.0, 0.0, 0.0, 0.0, 0.0, 0.0, 0.0, 0.0, 0.0, 0.0, 0.0, 0.0, 0.0, 0.0, 0.0, 0.0, 0.0, 0.0, 0.0, 0.0, 0.0, 0.0], [0.9423085451126099, 0.024162065237760544, 0.01174364797770977, 0.021785682067275047, 0.0, 0.0, 0.0, 0.0, 0.0, 0.0, 0.0, 0.0, 0.0, 0.0, 0.0, 0.0, 0.0, 0.0, 0.0, 0.0, 0.0, 0.0, 0.0, 0.0, 0.0, 0.0, 0.0, 0.0, 0.0, 0.0, 0.0, 0.0, 0.0, 0.0, 0.0, 0.0, 0.0, 0.0, 0.0, 0.0, 0.0, 0.0, 0.0, 0.0, 0.0], [0.8091652393341064, 0.01485093217343092, 0.020107561722397804, 0.08822856843471527, 0.06764768809080124, 0.0, 0.0, 0.0, 0.0, 0.0, 0.0, 0.0, 0.0, 0.0, 0.0, 0.0, 0.0, 0.0, 0.0, 0.0, 0.0, 0.0, 0.0, 0.0, 0.0, 0.0, 0.0, 0.0, 0.0, 0.0, 0.0, 0.0, 0.0, 0.0, 0.0, 0.0, 0.0, 0.0, 0.0, 0.0, 0.0, 0.0, 0.0, 0.0, 0.0], [0.5304816365242004, 0.008084374479949474, 0.01493531372398138, 0.03970644250512123, 0.2934413552284241, 0.11335088312625885, 0.0, 0.0, 0.0, 0.0, 0.0, 0.0, 0.0, 0.0, 0.0, 0.0, 0.0, 0.0, 0.0, 0.0, 0.0, 0.0, 0.0, 0.0, 0.0, 0.0, 0.0, 0.0, 0.0, 0.0, 0.0, 0.0, 0.0, 0.0, 0.0, 0.0, 0.0, 0.0, 0.0, 0.0, 0.0, 0.0, 0.0, 0.0, 0.0], [0.9766939878463745, 0.00031300255795940757, 8.081678242888302e-05, 0.00011721309419954196, 0.008819625712931156, 0.008022897876799107, 0.0059524220414459705, 0.0, 0.0, 0.0, 0.0, 0.0, 0.0, 0.0, 0.0, 0.0, 0.0, 0.0, 0.0, 0.0, 0.0, 0.0, 0.0, 0.0, 0.0, 0.0, 0.0, 0.0, 0.0, 0.0, 0.0, 0.0, 0.0, 0.0, 0.0, 0.0, 0.0, 0.0, 0.0, 0.0, 0.0, 0.0, 0.0, 0.0, 0.0], [0.9899242520332336, 0.0001262614969164133, 0.00015312897448893636, 0.00025203541736118495, 0.0007157892687246203, 0.0013241932028904557, 0.005036977119743824, 0.0024673352017998695, 0.0, 0.0, 0.0, 0.0, 0.0, 0.0, 0.0, 0.0, 0.0, 0.0, 0.0, 0.0, 0.0, 0.0, 0.0, 0.0, 0.0, 0.0, 0.0, 0.0, 0.0, 0.0, 0.0, 0.0, 0.0, 0.0, 0.0, 0.0, 0.0, 0.0, 0.0, 0.0, 0.0, 0.0, 0.0, 0.0, 0.0], [0.9202069044113159, 0.0006959157180972397, 0.0005454377387650311, 0.0014911843463778496, 0.005172946024686098, 0.011575435288250446, 0.022606004029512405, 0.019917232915759087, 0.017788827419281006, 0.0, 0.0, 0.0, 0.0, 0.0, 0.0, 0.0, 0.0, 0.0, 0.0, 0.0, 0.0, 0.0, 0.0, 0.0, 0.0, 0.0, 0.0, 0.0, 0.0, 0.0, 0.0, 0.0, 0.0, 0.0, 0.0, 0.0, 0.0, 0.0, 0.0, 0.0, 0.0, 0.0, 0.0, 0.0, 0.0], [0.8466985821723938, 0.0006840135320089757, 0.00046483956975862384, 0.0025548716075718403, 0.009382901713252068, 0.027685843408107758, 0.010382751002907753, 0.03693174570798874, 0.05827789008617401, 0.006936592981219292, 0.0, 0.0, 0.0, 0.0, 0.0, 0.0, 0.0, 0.0, 0.0, 0.0, 0.0, 0.0, 0.0, 0.0, 0.0, 0.0, 0.0, 0.0, 0.0, 0.0, 0.0, 0.0, 0.0, 0.0, 0.0, 0.0, 0.0, 0.0, 0.0, 0.0, 0.0, 0.0, 0.0, 0.0, 0.0], [0.5601072907447815, 0.01210759673267603, 0.007110415957868099, 0.01897105760872364, 0.12998031079769135, 0.20677831768989563, 0.004831595346331596, 0.02106190100312233, 0.0198074858635664, 0.00924639031291008, 0.009997673332691193, 0.0, 0.0, 0.0, 0.0, 0.0, 0.0, 0.0, 0.0, 0.0, 0.0, 0.0, 0.0, 0.0, 0.0, 0.0, 0.0, 0.0, 0.0, 0.0, 0.0, 0.0, 0.0, 0.0, 0.0, 0.0, 0.0, 0.0, 0.0, 0.0, 0.0, 0.0, 0.0, 0.0, 0.0], [0.8254088759422302, 0.006559526547789574, 0.0009711081511341035, 0.003874559421092272, 0.020948009565472603, 0.04543626308441162, 0.0035184745211154222, 0.01853022165596485, 0.01952037587761879, 0.0077855573035776615, 0.013322553597390652, 0.034124527126550674, 0.0, 0.0, 0.0, 0.0, 0.0, 0.0, 0.0, 0.0, 0.0, 0.0, 0.0, 0.0, 0.0, 0.0, 0.0, 0.0, 0.0, 0.0, 0.0, 0.0, 0.0, 0.0, 0.0, 0.0, 0.0, 0.0, 0.0, 0.0, 0.0, 0.0, 0.0, 0.0, 0.0], [0.8446400761604309, 0.0006651002913713455, 0.0002137123519787565, 0.00026866907137446105, 0.008332566358149052, 0.009778328239917755, 0.0012327305739745498, 0.0018866769969463348, 0.02617126889526844, 0.00356405065394938, 0.00797952152788639, 0.08257792890071869, 0.012689335271716118, 0.0, 0.0, 0.0, 0.0, 0.0, 0.0, 0.0, 0.0, 0.0, 0.0, 0.0, 0.0, 0.0, 0.0, 0.0, 0.0, 0.0, 0.0, 0.0, 0.0, 0.0, 0.0, 0.0, 0.0, 0.0, 0.0, 0.0, 0.0, 0.0, 0.0, 0.0, 0.0], [0.7939538955688477, 0.0008461461402475834, 0.0003647947742138058, 0.0005549559136852622, 0.004248104058206081, 0.015539559535682201, 0.00021258411288727075, 0.0004264126473572105, 0.001467728754505515, 0.00040760659612715244, 0.002243352821096778, 0.06520772725343704, 0.06642651557922363, 0.04810062423348427, 0.0, 0.0, 0.0, 0.0, 0.0, 0.0, 0.0, 0.0, 0.0, 0.0, 0.0, 0.0, 0.0, 0.0, 0.0, 0.0, 0.0, 0.0, 0.0, 0.0, 0.0, 0.0, 0.0, 0.0, 0.0, 0.0, 0.0, 0.0, 0.0, 0.0, 0.0], [0.9299644827842712, 7.82543356763199e-05, 7.164166891016066e-05, 3.8812959246570244e-05, 0.0010815192945301533, 0.0021563435439020395, 0.00043791503412649035, 0.0013312489027157426, 0.009896050207316875, 0.0009250349248759449, 0.013496164232492447, 0.01697692833840847, 0.007476787082850933, 0.01229607593268156, 0.003772726049646735, 0.0, 0.0, 0.0, 0.0, 0.0, 0.0, 0.0, 0.0, 0.0, 0.0, 0.0, 0.0, 0.0, 0.0, 0.0, 0.0, 0.0, 0.0, 0.0, 0.0, 0.0, 0.0, 0.0, 0.0, 0.0, 0.0, 0.0, 0.0, 0.0, 0.0], [0.9320903420448303, 0.00013764132745563984, 0.00020594462694134563, 0.00014269925304688513, 0.0005070009501650929, 0.002423974685370922, 0.0015228737611323595, 0.0015775540377944708, 0.0006512939580716193, 0.0001055713219102472, 0.00720108300447464, 0.010311313904821873, 0.01183802168816328, 0.01173804234713316, 0.01207361277192831, 0.00747300311923027, 0.0, 0.0, 0.0, 0.0, 0.0, 0.0, 0.0, 0.0, 0.0, 0.0, 0.0, 0.0, 0.0, 0.0, 0.0, 0.0, 0.0, 0.0, 0.0, 0.0, 0.0, 0.0, 0.0, 0.0, 0.0, 0.0, 0.0, 0.0, 0.0], [0.8145484924316406, 0.00022280929260887206, 0.0005160459550097585, 0.0004183738783467561, 0.001987578347325325, 0.007236985489726067, 0.0026529161259531975, 0.00388112454675138, 0.003371157916262746, 0.00035063590621575713, 0.006345730274915695, 0.02370680309832096, 0.05733530968427658, 0.03940526023507118, 0.01754705235362053, 0.010889691300690174, 0.009584001265466213, 0.0, 0.0, 0.0, 0.0, 0.0, 0.0, 0.0, 0.0, 0.0, 0.0, 0.0, 0.0, 0.0, 0.0, 0.0, 0.0, 0.0, 0.0, 0.0, 0.0, 0.0, 0.0, 0.0, 0.0, 0.0, 0.0, 0.0, 0.0], [0.7995282411575317, 0.00017670230590738356, 0.0002648679947014898, 0.00046930465032346547, 0.0026104003190994263, 0.011231116950511932, 0.0015070185763761401, 0.005868913140147924, 0.007640444673597813, 0.0009430205100215971, 0.010087055154144764, 0.0066584027372300625, 0.04959790036082268, 0.036853354424238205, 0.015529227443039417, 0.019528964534401894, 0.021612001582980156, 0.009893067181110382, 0.0, 0.0, 0.0, 0.0, 0.0, 0.0, 0.0, 0.0, 0.0, 0.0, 0.0, 0.0, 0.0, 0.0, 0.0, 0.0, 0.0, 0.0, 0.0, 0.0, 0.0, 0.0, 0.0, 0.0, 0.0, 0.0, 0.0], [0.8623342514038086, 0.00027705018874257803, 0.0003747464797925204, 0.0005020112148486078, 0.005707195028662682, 0.009638969786465168, 0.0004387838998809457, 0.0013939377386122942, 0.001764720189385116, 0.00026098088710568845, 0.003291037864983082, 0.026672450825572014, 0.03983519598841667, 0.017437908798456192, 0.0015099438605830073, 0.002241547452285886, 0.0036833384074270725, 0.001252588233910501, 0.02138325944542885, 0.0, 0.0, 0.0, 0.0, 0.0, 0.0, 0.0, 0.0, 0.0, 0.0, 0.0, 0.0, 0.0, 0.0, 0.0, 0.0, 0.0, 0.0, 0.0, 0.0, 0.0, 0.0, 0.0, 0.0, 0.0, 0.0], [0.6904630064964294, 0.000428264174843207, 0.00017508531163912266, 0.00016374903498217463, 0.0008851910824887455, 0.004618952050805092, 0.0010064584203064442, 0.004206279758363962, 0.0022072510328143835, 0.00019544998940546066, 0.004523617681115866, 0.02823871187865734, 0.019100554287433624, 0.02018517442047596, 0.004317346960306168, 0.0031067454256117344, 0.004195492714643478, 0.0009568085079081357, 0.1138119176030159, 0.09721386432647705, 0.0, 0.0, 0.0, 0.0, 0.0, 0.0, 0.0, 0.0, 0.0, 0.0, 0.0, 0.0, 0.0, 0.0, 0.0, 0.0, 0.0, 0.0, 0.0, 0.0, 0.0, 0.0, 0.0, 0.0, 0.0], [0.6190587282180786, 0.00032562887645326555, 0.000396311457734555, 0.0002624502230901271, 0.0011120883282274008, 0.004111167974770069, 0.0009842958534136415, 0.0035219858400523663, 0.0011575563112273812, 7.278547127498314e-05, 0.006614918354898691, 0.031098732724785805, 0.009169559925794601, 0.0047881947830319405, 0.00285571557469666, 0.003105975454673171, 0.0018710236763581634, 0.00042600976303219795, 0.051089148968458176, 0.2131955772638321, 0.04478215426206589, 0.0, 0.0, 0.0, 0.0, 0.0, 0.0, 0.0, 0.0, 0.0, 0.0, 0.0, 0.0, 0.0, 0.0, 0.0, 0.0, 0.0, 0.0, 0.0, 0.0, 0.0, 0.0, 0.0, 0.0], [0.699171245098114, 5.121796493767761e-05, 0.00015041670121718198, 0.0001364758936688304, 0.0005057799280621111, 0.0029506145510822535, 0.001008134800940752, 0.0005942716961726546, 0.0030767330899834633, 0.0012000633869320154, 0.002842873800545931, 0.001154163503088057, 0.0024857071693986654, 0.0006484261830337346, 0.004141243640333414, 0.002968837507069111, 0.009742486290633678, 0.0042230067774653435, 0.02867893874645233, 0.08376898616552353, 0.13719511032104492, 0.013305203057825565, 0.0, 0.0, 0.0, 0.0, 0.0, 0.0, 0.0, 0.0, 0.0, 0.0, 0.0, 0.0, 0.0, 0.0, 0.0, 0.0, 0.0, 0.0, 0.0, 0.0, 0.0, 0.0, 0.0], [0.6320931315422058, 4.271640136721544e-05, 0.0001625751465326175, 0.00021066272165626287, 0.0011838083155453205, 0.0037233114708215, 0.0006053057149983943, 0.0007837243610993028, 0.0031922415364533663, 0.0020968609023839235, 0.002423706464469433, 0.0005465613794513047, 0.0017234364058822393, 0.0006121179321780801, 0.0016355321276932955, 0.0023864740505814552, 0.007794384378939867, 0.0038318901788443327, 0.019460909068584442, 0.05358729138970375, 0.2349112182855606, 0.007477568928152323, 0.01951458305120468, 0.0, 0.0, 0.0, 0.0, 0.0, 0.0, 0.0, 0.0, 0.0, 0.0, 0.0, 0.0, 0.0, 0.0, 0.0, 0.0, 0.0, 0.0, 0.0, 0.0, 0.0, 0.0], [0.8135313391685486, 0.00024018312979023904, 0.00015202112263068557, 0.00020698507432825863, 0.0013475938467308879, 0.003433972829952836, 9.235482139047235e-05, 0.0001325496705248952, 0.0004039536288473755, 0.00010028559336205944, 0.0011820115614682436, 0.0016191658796742558, 0.004061621148139238, 0.0012745980639010668, 0.00040535989683121443, 0.0003086821234319359, 0.0006526728975586593, 0.0003431265358813107, 0.014090086333453655, 0.02152254991233349, 0.016218479722738266, 0.07156918197870255, 0.02988477796316147, 0.017226433381438255, 0.0, 0.0, 0.0, 0.0, 0.0, 0.0, 0.0, 0.0, 0.0, 0.0, 0.0, 0.0, 0.0, 0.0, 0.0, 0.0, 0.0, 0.0, 0.0, 0.0, 0.0], [0.8637861013412476, 0.00014865901903249323, 0.00012628058902919292, 6.431490328395739e-05, 0.0006810050690546632, 0.0014262986369431019, 8.23716472950764e-05, 0.0003047537466045469, 0.0004818029992748052, 5.089455225970596e-05, 0.001189486007206142, 0.0028005074709653854, 0.0011758730979636312, 0.0032480726949870586, 0.0005733360885642469, 0.0010021947091445327, 0.001413510413840413, 0.00029231299413368106, 0.009106609039008617, 0.03779016435146332, 0.005603868514299393, 0.00952846184372902, 0.00551978824660182, 0.023773251101374626, 0.029830118641257286, 0.0, 0.0, 0.0, 0.0, 0.0, 0.0, 0.0, 0.0, 0.0, 0.0, 0.0, 0.0, 0.0, 0.0, 0.0, 0.0, 0.0, 0.0, 0.0, 0.0], [0.7092633843421936, 3.13572418235708e-05, 3.12031370413024e-05, 8.415632692049257e-06, 6.438090349547565e-05, 9.102423791773617e-05, 0.00013026314263697714, 9.97767347143963e-05, 0.0004903049557469785, 1.2965380847163033e-05, 0.00039325846591964364, 0.00137041334528476, 0.0007044421508908272, 0.00048362804227508605, 0.0007153832702897489, 0.00042266829404979944, 0.001368556171655655, 9.283652616431937e-05, 0.0037945038639009, 0.005083425901830196, 0.01991121657192707, 0.003414289792999625, 0.0008779654162935913, 0.007681969087570906, 0.22925175726413727, 0.014210627414286137, 0.0, 0.0, 0.0, 0.0, 0.0, 0.0, 0.0, 0.0, 0.0, 0.0, 0.0, 0.0, 0.0, 0.0, 0.0, 0.0, 0.0, 0.0, 0.0], [0.8301343321800232, 4.473640728974715e-05, 2.753991611825768e-05, 4.535332118393853e-05, 4.6098692109808326e-05, 0.00023790290288161486, 0.00012558307207655162, 8.600870205555111e-05, 0.0002860803506337106, 6.46701519144699e-05, 0.000482293515233323, 0.0016507309628650546, 0.00036139911389909685, 0.0009315292118117213, 0.0005846887361258268, 0.0004408071981742978, 0.0012740334495902061, 0.00027457400574348867, 0.002162980381399393, 0.0018141916953027248, 0.011620652861893177, 0.0016303197480738163, 0.001016404596157372, 0.01023202296346426, 0.07867564260959625, 0.036111656576395035, 0.019637756049633026, 0.0, 0.0, 0.0, 0.0, 0.0, 0.0, 0.0, 0.0, 0.0, 0.0, 0.0, 0.0, 0.0, 0.0, 0.0, 0.0, 0.0, 0.0], [0.5060279369354248, 0.00012880191206932068, 6.214463064679876e-05, 0.0001548065774841234, 0.00021868234034627676, 0.00045029440661892295, 0.00010833368287421763, 8.88276772457175e-05, 0.0008762527140788734, 0.0004133257025387138, 0.00048286831588484347, 0.0010620596585795283, 0.0005403842078521848, 0.0002602888853289187, 0.0003923758340533823, 0.0003096035507041961, 0.0012776922667399049, 0.0009209289564751089, 0.0015365079743787646, 0.003917153924703598, 0.0026063628029078245, 0.002486094366759062, 0.021356504410505295, 0.015895336866378784, 0.026304960250854492, 0.03208370506763458, 0.07991822063922882, 0.3001195788383484, 0.0, 0.0, 0.0, 0.0, 0.0, 0.0, 0.0, 0.0, 0.0, 0.0, 0.0, 0.0, 0.0, 0.0, 0.0, 0.0, 0.0], [0.02011794224381447, 5.03746559843421e-06, 3.2407656362920534e-06, 9.18438036023872e-06, 1.5531785493294592e-06, 7.616660695930477e-06, 3.972919330408331e-06, 5.288989541440969e-06, 2.7476298782858066e-05, 1.0865940566873178e-05, 8.281178452307358e-05, 2.742046126513742e-05, 3.245468542445451e-05, 1.0822122931131162e-05, 4.5709552068728954e-05, 2.515386586310342e-05, 8.506749145453796e-05, 5.054589928477071e-05, 0.0004885287489742041, 0.0017966143786907196, 0.001315408619120717, 0.0005350359715521336, 0.00030571932438760996, 0.0004854773869737983, 0.0037051234394311905, 0.008146184496581554, 0.023407520726323128, 0.9276303648948669, 0.011631862260401249, 0.0, 0.0, 0.0, 0.0, 0.0, 0.0, 0.0, 0.0, 0.0, 0.0, 0.0, 0.0, 0.0, 0.0, 0.0, 0.0], [0.8177087306976318, 2.7858490284415893e-05, 7.076040219544666e-06, 1.274387068406213e-05, 2.6605026505421847e-05, 9.323317499365658e-05, 0.0001939863432198763, 3.769620161619969e-05, 0.0008344784728251398, 0.00015119664021767676, 0.0004844243812840432, 0.00014416445628739893, 0.00020141016284469515, 0.000390796602005139, 0.0012730364687740803, 0.0003579332842491567, 0.0015347516164183617, 0.0007430266705341637, 0.0005132624646648765, 0.002808953635394573, 0.0017736675217747688, 0.001879412797279656, 0.0005820212536491454, 0.002824034309014678, 0.005441438872367144, 0.007965953089296818, 0.025238487869501114, 0.0737958773970604, 0.031236935406923294, 0.021716773509979248, 0.0, 0.0, 0.0, 0.0, 0.0, 0.0, 0.0, 0.0, 0.0, 0.0, 0.0, 0.0, 0.0, 0.0, 0.0], [0.9729329943656921, 3.14913377224002e-05, 1.1139480193378404e-05, 1.6026142475311644e-05, 5.037061782786623e-06, 1.6501469872309826e-05, 3.785045555559918e-05, 5.739583684771787e-06, 7.832347182556987e-05, 2.690503424673807e-05, 9.686795965535566e-05, 0.0002207547950092703, 0.0001435098674846813, 0.00033982310560531914, 0.0001736028934828937, 4.3771706259576604e-05, 0.0001147378352470696, 0.00010286160977557302, 0.0003444857429713011, 0.0006300457753241062, 0.0010808927472680807, 0.00044604562572203577, 0.00013951487198937684, 0.00036232470301911235, 0.0009736944921314716, 0.0027882878202944994, 0.003294583410024643, 0.0020774495787918568, 0.004023818764835596, 0.007188116665929556, 0.002252978039905429, 0.0, 0.0, 0.0, 0.0, 0.0, 0.0, 0.0, 0.0, 0.0, 0.0, 0.0, 0.0, 0.0, 0.0], [0.8938169479370117, 4.799187991011422e-06, 6.209841103554936e-06, 1.6472537026857026e-05, 7.615087815793231e-05, 0.00012887075718026608, 0.00019725925812963396, 1.8377757442067377e-05, 9.139499888988212e-05, 3.349033067934215e-05, 9.479561413172632e-05, 1.586015241628047e-05, 0.0005822512321174145, 0.000492833845783025, 0.000860539439599961, 8.815898763714358e-05, 0.0001394749415339902, 0.0001292259548790753, 0.0003571079287212342, 0.005286256317049265, 0.0006233726744540036, 0.006223359145224094, 0.0006890456425026059, 0.00028678178205154836, 0.0006126389489509165, 0.003004643600434065, 0.01908157393336296, 0.0035954273771494627, 0.016549576073884964, 0.02327602729201317, 0.019944332540035248, 0.0036767260171473026, 0.0, 0.0, 0.0, 0.0, 0.0, 0.0, 0.0, 0.0, 0.0, 0.0, 0.0, 0.0, 0.0], [0.8611644506454468, 1.7097110685426742e-05, 2.430407676001778e-06, 8.29296277515823e-06, 4.870594693784369e-06, 5.970392521703616e-05, 0.0001921564107760787, 0.0001832565903896466, 0.0002112936635967344, 4.750234802486375e-05, 0.00023721814795862883, 8.686554792802781e-05, 0.0006651310832239687, 0.0010440575424581766, 0.0009399372502230108, 0.0005433494807220995, 0.00031041810871101916, 0.00017100184049922973, 0.0006453277892433107, 0.0009907882194966078, 0.00644549448043108, 0.0027571571990847588, 0.00026118074310943484, 0.0017356997122988105, 0.0018916316330432892, 0.0038198926486074924, 0.011682658456265926, 0.003967304714024067, 0.011282367631793022, 0.029626993462443352, 0.024755608290433884, 0.021159615367650986, 0.013089217245578766, 0.0, 0.0, 0.0, 0.0, 0.0, 0.0, 0.0, 0.0, 0.0, 0.0, 0.0, 0.0], [0.7465147376060486, 0.0015932581154629588, 0.0005496875965036452, 0.0010251536732539535, 0.003047114470973611, 0.008830582723021507, 0.0007760655134916306, 0.0002223651681561023, 0.00035521297832019627, 0.0002432292531011626, 0.00030806157155893743, 0.003307378152385354, 0.005657906644046307, 0.0011092405766248703, 0.002609685529023409, 0.0003751775366254151, 0.0005887116421945393, 0.0006088698864914477, 0.002461286261677742, 0.013655399903655052, 0.010280276648700237, 0.02199658192694187, 0.023331627249717712, 0.018907902762293816, 0.012689582072198391, 0.006252705585211515, 0.013850269839167595, 0.028205350041389465, 0.04199628904461861, 0.006250395439565182, 0.0015791942132636905, 0.0045284731313586235, 0.009073224849998951, 0.007218988612294197, 0.0, 0.0, 0.0, 0.0, 0.0, 0.0, 0.0, 0.0, 0.0, 0.0, 0.0], [0.885926365852356, 0.001310880295932293, 0.0001716083352221176, 0.00048232683911919594, 0.0021619112230837345, 0.004800285678356886, 0.00014427379937842488, 0.0003818027616944164, 0.0003268832224421203, 0.00015223852824419737, 0.0006089936359785497, 0.0022072563879191875, 0.0008392290328629315, 0.00616888701915741, 0.0004281353612896055, 0.0004367794608697295, 0.00039830864989198744, 0.00016525824321433902, 0.0022341632284224033, 0.0014876561472192407, 0.0021137951407581568, 0.0022077448666095734, 0.003731990000233054, 0.0015281521482393146, 0.0018134695710614324, 0.0006275921477936208, 0.0010860637994483113, 0.0008809743449091911, 0.003184453584253788, 0.00017124654550570995, 0.0006428814376704395, 0.0001573315093992278, 0.0009777292143553495, 0.0076163820922374725, 0.062427084892988205, 0.0, 0.0, 0.0, 0.0, 0.0, 0.0, 0.0, 0.0, 0.0, 0.0], [0.7357171773910522, 6.65921252220869e-05, 3.4000579034909606e-05, 3.834018571069464e-05, 0.0017341006314381957, 0.0025183693505823612, 7.386409561149776e-05, 7.332835957640782e-05, 0.00017321642371825874, 2.9607537726406008e-05, 0.0006170984706841409, 0.0067995390854775906, 0.002122872043401003, 0.008098169229924679, 0.00038379273610189557, 0.00016267367755062878, 0.00037615763721987605, 0.00010273524821968749, 0.006382144056260586, 0.002794762374833226, 0.0012896644184365869, 0.016669468954205513, 0.00379991065710783, 0.002214744221419096, 0.00612153485417366, 0.0007159604574553668, 0.009764578193426132, 0.007275036536157131, 0.009781722910702229, 0.000502293580211699, 0.0005215901182964444, 0.0004191068292129785, 0.0004107985587324947, 0.009436259977519512, 0.15473590791225433, 0.008042942732572556, 0.0, 0.0, 0.0, 0.0, 0.0, 0.0, 0.0, 0.0, 0.0], [0.7042677402496338, 0.00011514568905113265, 2.5827024728641845e-05, 5.915350266150199e-05, 0.00102641258854419, 0.0011265940265730023, 5.724361471948214e-05, 3.3942575100809336e-05, 0.0001481937215430662, 2.5822519091889262e-05, 6.0021233366569504e-05, 0.007291906513273716, 0.004596996121108532, 0.009324431419372559, 0.0005296539748087525, 0.00015195317973848432, 0.0005652991821989417, 0.00015636190073564649, 0.000821509922388941, 0.0044022127985954285, 0.00014586211182177067, 0.004895524121820927, 0.0024909081403166056, 0.006188548635691404, 0.0011768653057515621, 0.0007167954463511705, 0.02139270305633545, 0.01031274814158678, 0.003896240843459964, 0.0001670871424721554, 0.00011900900426553562, 0.0003916742280125618, 0.0008051845943555236, 0.0027450574561953545, 0.16153520345687866, 0.03208749368786812, 0.016146598383784294, 0.0, 0.0, 0.0, 0.0, 0.0, 0.0, 0.0, 0.0], [0.5342441201210022, 6.199030030984432e-05, 8.79935032571666e-06, 9.974040949600749e-06, 0.00016968027921393514, 0.00017568365728948265, 3.926984209101647e-05, 9.108312951866537e-06, 3.597974864533171e-05, 1.2515668458945584e-05, 0.00015342979168053716, 0.0009454298997297883, 0.0002731315034907311, 0.0002675731957424432, 0.00035945457057096064, 2.8746218958985992e-05, 0.0001859743642853573, 5.360410068533383e-05, 0.005400997120887041, 0.0009032076923176646, 0.0027989211957901716, 0.0024533099494874477, 0.0009494769619777799, 0.0017971511697396636, 0.0066971974447369576, 0.0005418871296569705, 0.012961874715983868, 0.026527998968958855, 0.00097948859911412, 0.00045048826723359525, 0.0004904736415483057, 0.0016538023483008146, 0.001676997635513544, 0.007659045048058033, 0.05310222506523132, 0.0041785649955272675, 0.28088587522506714, 0.05085652321577072, 0.0, 0.0, 0.0, 0.0, 0.0, 0.0, 0.0], [0.36967727541923523, 4.0774146327748895e-05, 1.1042008736694697e-05, 1.077131582860602e-05, 0.00028839975129812956, 0.00022928327962290496, 9.035344555741176e-05, 2.6689205697039142e-05, 0.00016980447981040925, 2.7316415071254596e-05, 0.00011122538853669539, 0.0004055575409438461, 9.662516822572798e-05, 0.0006946126814000309, 0.0010492525761947036, 8.925831207307056e-05, 0.0004975465126335621, 7.801302126608789e-05, 0.0026339644100517035, 0.000970233348198235, 0.0009040840668603778, 0.001046390156261623, 0.000952462840359658, 0.0013325641630217433, 0.009875318966805935, 0.0006019523716531694, 0.012417121790349483, 0.06273771822452545, 0.0016673009376972914, 0.0007012251880951226, 0.003114383202046156, 0.004736417904496193, 0.001600490533746779, 0.007869113236665726, 0.019598141312599182, 0.0024348970036953688, 0.44901683926582336, 0.030491704121232033, 0.011703957803547382, 0.0, 0.0, 0.0, 0.0, 0.0, 0.0], [0.764340877532959, 6.445866893045604e-05, 1.4401312000700273e-05, 3.4730353945633397e-05, 0.00016455310105811805, 0.0007099428912624717, 4.8966445319820195e-05, 5.0703496526693925e-05, 0.00015484567848034203, 7.943802484078333e-05, 0.0001575695350766182, 0.000595272344071418, 0.00016287736070808023, 0.0005460582906380296, 0.0001820139732444659, 8.756919123698026e-05, 0.00022434501443058252, 0.0001378854358335957, 0.0009524833876639605, 0.0015279018552973866, 0.0028500407934188843, 0.002260285895317793, 0.0018319075461477041, 0.0028812007512897253, 0.016978222876787186, 0.0030717996414750814, 0.005198258440941572, 0.018580906093120575, 0.009947293438017368, 0.0008505141013301909, 0.0011223243782296777, 0.0016693598590791225, 0.0018507213098928332, 0.003985992167145014, 0.017764266580343246, 0.0037067465018481016, 0.05540449172258377, 0.039208829402923584, 0.020375944674015045, 0.020223967730998993, 0.0, 0.0, 0.0, 0.0, 0.0], [0.8976960778236389, 2.8626216590055265e-05, 2.6636676921043545e-05, 7.5360326263762545e-06, 0.00010700269194785506, 0.00020770073751918972, 8.590101060690358e-06, 5.502225030795671e-05, 0.00020734411373268813, 5.16721120220609e-05, 0.0011404709657654166, 0.0006291915196925402, 7.486859249183908e-05, 0.00017778058827389032, 4.1070208681048825e-05, 0.00018490593356546015, 0.00020299735479056835, 0.00012380680709611624, 0.003522364655509591, 0.0017497454537078738, 0.0010665645822882652, 0.0006545945070683956, 0.00012525425700005144, 0.0009093598928302526, 0.0006009240751154721, 0.00016597623471170664, 0.0024505415931344032, 0.0010513486340641975, 0.00045257117017172277, 0.0019017811864614487, 0.002941987942904234, 0.0019858761224895716, 0.0016028034733608365, 0.014806970953941345, 0.013668343424797058, 0.010568691417574883, 0.004424047656357288, 0.005290132015943527, 0.004157181363552809, 0.021223347634077072, 0.0037082440685480833, 0.0, 0.0, 0.0, 0.0], [0.8754708766937256, 2.0011297237942927e-05, 1.573088411532808e-05, 7.128052402549656e-06, 3.6427802115213126e-05, 0.00011462533439043909, 3.222624945919961e-05, 4.583052214002237e-05, 1.0809171726577915e-05, 2.0316613245086046e-06, 0.00018510434892959893, 0.000181901894393377, 0.00016616717039141804, 0.00012370111653581262, 0.00011805208487203345, 8.540087583241984e-05, 1.7804290109779686e-05, 1.0950237992801704e-05, 0.002302332315593958, 0.0008140464196912944, 0.0008403240935876966, 0.0007252327632158995, 7.093754538800567e-05, 0.00012155171134509146, 0.0009184761438518763, 0.00016634157509543002, 0.0005183031898923218, 0.000173855951288715, 0.0005801021470688283, 0.0022328027989715338, 0.0008184722973965108, 0.00012660707579925656, 0.00010273919178871438, 0.007445892784744501, 0.008805324323475361, 0.0021927363704890013, 0.025058522820472717, 0.013509823940694332, 0.007320191711187363, 0.014862578362226486, 0.020518090575933456, 0.013129902072250843, 0.0, 0.0, 0.0], [0.8905688524246216, 1.805418469302822e-05, 2.773756204987876e-05, 1.0982367712131236e-05, 7.175787322921678e-05, 0.000214583778870292, 1.9336959667271003e-05, 0.00011498598905745894, 2.7941117878071964e-05, 3.961600668844767e-06, 0.00012741585669573396, 0.0002341657382203266, 0.00047263980377465487, 0.0003039322036784142, 6.465298065450042e-05, 9.444221359444782e-05, 2.709840737225022e-05, 1.5356501535279676e-05, 0.0013305271277204156, 0.0004006489471066743, 0.00027620134642347693, 0.001281714765354991, 0.00018814794020727277, 0.00022716801322530955, 0.001818795339204371, 0.00036274490412324667, 0.001314327702857554, 0.0004296247789170593, 0.0006268100696615875, 0.0008636266575194895, 0.0006466152262873948, 0.0003905785852111876, 0.00017205561744049191, 0.00614324864000082, 0.013867862522602081, 0.0037092261482030153, 0.017180796712636948, 0.005562115460634232, 0.003916828893125057, 0.00855317059904337, 0.011282107792794704, 0.019004471600055695, 0.008032719604671001, 0.0, 0.0], [0.7923707962036133, 1.2015695574518759e-05, 1.7858706996776164e-05, 1.2259194591024425e-05, 0.00017615745309740305, 0.0005376196932047606, 1.283109395444626e-05, 0.00018159110913984478, 5.6642387789906934e-05, 7.440031367877964e-06, 0.0002141389122698456, 7.027329411357641e-05, 0.00027204735670238733, 0.00024769321316853166, 6.986141670495272e-05, 0.00015788724704179913, 6.14309246884659e-05, 2.758003211056348e-05, 0.0023028624709695578, 0.0008652526303194463, 0.0004333280958235264, 0.0010428223758935928, 0.00036312075098976493, 0.0003420882567297667, 0.007113699801266193, 0.0008847280405461788, 0.0030956293921917677, 0.003414346370846033, 0.0011678221635520458, 0.000523880182299763, 0.0007266721222549677, 0.0008058153325691819, 0.000149690211401321, 0.008665281347930431, 0.004460436291992664, 0.0033610942773520947, 0.035188041627407074, 0.013100970536470413, 0.00519414572045207, 0.026654232293367386, 0.013430742546916008, 0.03479479253292084, 0.02178576961159706, 0.01562659442424774, 0.0], [0.9002237319946289, 1.7833499441621825e-05, 2.2526590328197926e-05, 1.97203153220471e-05, 0.0002128924970747903, 0.0003933312837034464, 6.973163181100972e-06, 1.1010374691977631e-05, 6.456380651798099e-05, 1.4083275345910806e-05, 6.471286178566515e-05, 0.0002885499852709472, 0.0002059921098407358, 0.000391400302760303, 2.5234649001504295e-05, 2.281679007865023e-05, 7.537540659541264e-05, 2.535253224777989e-05, 7.602282130392268e-05, 0.00038458581548184156, 1.3273677723191213e-05, 0.00015291997988242656, 0.00020993319049011916, 0.00022760339197702706, 0.0001845073711592704, 0.00011501819972181693, 0.0013031231937929988, 0.0014923549024388194, 0.0012289106380194426, 5.241172038950026e-05, 0.00015632079157512635, 4.280560096958652e-05, 0.00023701769532635808, 0.0021959200967103243, 0.007033591624349356, 0.0012038404820486903, 0.0013750388752669096, 0.004502782132476568, 0.0005333267035894096, 0.004871745128184557, 0.0019031245028600097, 0.002081748563796282, 0.007185783702880144, 0.0036946372129023075, 0.05545546114444733]], [[1.0, 0.0, 0.0, 0.0, 0.0, 0.0, 0.0, 0.0, 0.0, 0.0, 0.0, 0.0, 0.0, 0.0, 0.0, 0.0, 0.0, 0.0, 0.0, 0.0, 0.0, 0.0, 0.0, 0.0, 0.0, 0.0, 0.0, 0.0, 0.0, 0.0, 0.0, 0.0, 0.0, 0.0, 0.0, 0.0, 0.0, 0.0, 0.0, 0.0, 0.0, 0.0, 0.0, 0.0, 0.0], [0.9715725779533386, 0.028427397832274437, 0.0, 0.0, 0.0, 0.0, 0.0, 0.0, 0.0, 0.0, 0.0, 0.0, 0.0, 0.0, 0.0, 0.0, 0.0, 0.0, 0.0, 0.0, 0.0, 0.0, 0.0, 0.0, 0.0, 0.0, 0.0, 0.0, 0.0, 0.0, 0.0, 0.0, 0.0, 0.0, 0.0, 0.0, 0.0, 0.0, 0.0, 0.0, 0.0, 0.0, 0.0, 0.0, 0.0], [0.9642395377159119, 0.012667607516050339, 0.023092815652489662, 0.0, 0.0, 0.0, 0.0, 0.0, 0.0, 0.0, 0.0, 0.0, 0.0, 0.0, 0.0, 0.0, 0.0, 0.0, 0.0, 0.0, 0.0, 0.0, 0.0, 0.0, 0.0, 0.0, 0.0, 0.0, 0.0, 0.0, 0.0, 0.0, 0.0, 0.0, 0.0, 0.0, 0.0, 0.0, 0.0, 0.0, 0.0, 0.0, 0.0, 0.0, 0.0], [0.9757059216499329, 0.005165001843124628, 0.009250020608305931, 0.00987902283668518, 0.0, 0.0, 0.0, 0.0, 0.0, 0.0, 0.0, 0.0, 0.0, 0.0, 0.0, 0.0, 0.0, 0.0, 0.0, 0.0, 0.0, 0.0, 0.0, 0.0, 0.0, 0.0, 0.0, 0.0, 0.0, 0.0, 0.0, 0.0, 0.0, 0.0, 0.0, 0.0, 0.0, 0.0, 0.0, 0.0, 0.0, 0.0, 0.0, 0.0, 0.0], [0.9075955748558044, 0.009875456802546978, 0.00567627651616931, 0.02814234048128128, 0.048710402101278305, 0.0, 0.0, 0.0, 0.0, 0.0, 0.0, 0.0, 0.0, 0.0, 0.0, 0.0, 0.0, 0.0, 0.0, 0.0, 0.0, 0.0, 0.0, 0.0, 0.0, 0.0, 0.0, 0.0, 0.0, 0.0, 0.0, 0.0, 0.0, 0.0, 0.0, 0.0, 0.0, 0.0, 0.0, 0.0, 0.0, 0.0, 0.0, 0.0, 0.0], [0.885955274105072, 0.004756493493914604, 0.0036599542945623398, 0.010607424192130566, 0.030666377395391464, 0.06435444205999374, 0.0, 0.0, 0.0, 0.0, 0.0, 0.0, 0.0, 0.0, 0.0, 0.0, 0.0, 0.0, 0.0, 0.0, 0.0, 0.0, 0.0, 0.0, 0.0, 0.0, 0.0, 0.0, 0.0, 0.0, 0.0, 0.0, 0.0, 0.0, 0.0, 0.0, 0.0, 0.0, 0.0, 0.0, 0.0, 0.0, 0.0, 0.0, 0.0], [0.9467731714248657, 0.009345246478915215, 0.008947469294071198, 0.004734152462333441, 0.0029043913818895817, 0.010352397337555885, 0.01694312132894993, 0.0, 0.0, 0.0, 0.0, 0.0, 0.0, 0.0, 0.0, 0.0, 0.0, 0.0, 0.0, 0.0, 0.0, 0.0, 0.0, 0.0, 0.0, 0.0, 0.0, 0.0, 0.0, 0.0, 0.0, 0.0, 0.0, 0.0, 0.0, 0.0, 0.0, 0.0, 0.0, 0.0, 0.0, 0.0, 0.0, 0.0, 0.0], [0.9778634905815125, 0.006776181980967522, 0.0001403093629051, 0.00022306074970401824, 0.00013530738942790776, 0.002501869574189186, 0.008681867271661758, 0.003677862463518977, 0.0, 0.0, 0.0, 0.0, 0.0, 0.0, 0.0, 0.0, 0.0, 0.0, 0.0, 0.0, 0.0, 0.0, 0.0, 0.0, 0.0, 0.0, 0.0, 0.0, 0.0, 0.0, 0.0, 0.0, 0.0, 0.0, 0.0, 0.0, 0.0, 0.0, 0.0, 0.0, 0.0, 0.0, 0.0, 0.0, 0.0], [0.9375221729278564, 0.004183298442512751, 0.0003910376981366426, 0.0026678929571062326, 0.0017600490245968103, 0.0055330609902739525, 0.019777104258537292, 0.000406956416554749, 0.027758492156863213, 0.0, 0.0, 0.0, 0.0, 0.0, 0.0, 0.0, 0.0, 0.0, 0.0, 0.0, 0.0, 0.0, 0.0, 0.0, 0.0, 0.0, 0.0, 0.0, 0.0, 0.0, 0.0, 0.0, 0.0, 0.0, 0.0, 0.0, 0.0, 0.0, 0.0, 0.0, 0.0, 0.0, 0.0, 0.0, 0.0], [0.9050081372261047, 0.0019530396675691009, 0.00022118219931144267, 0.0005878492956981063, 0.0004856595187447965, 0.0004285840259399265, 0.01788162998855114, 2.1713418391300365e-05, 0.009133369661867619, 0.06427884101867676, 0.0, 0.0, 0.0, 0.0, 0.0, 0.0, 0.0, 0.0, 0.0, 0.0, 0.0, 0.0, 0.0, 0.0, 0.0, 0.0, 0.0, 0.0, 0.0, 0.0, 0.0, 0.0, 0.0, 0.0, 0.0, 0.0, 0.0, 0.0, 0.0, 0.0, 0.0, 0.0, 0.0, 0.0, 0.0], [0.8609715104103088, 0.026576798409223557, 0.026768554002046585, 0.017786694690585136, 0.007184742018580437, 0.004386808257550001, 0.02468414232134819, 0.0005507615860551596, 0.0016797593561932445, 0.0034429579973220825, 0.025967320427298546, 0.0, 0.0, 0.0, 0.0, 0.0, 0.0, 0.0, 0.0, 0.0, 0.0, 0.0, 0.0, 0.0, 0.0, 0.0, 0.0, 0.0, 0.0, 0.0, 0.0, 0.0, 0.0, 0.0, 0.0, 0.0, 0.0, 0.0, 0.0, 0.0, 0.0, 0.0, 0.0, 0.0, 0.0], [0.8865575194358826, 0.008447183296084404, 0.0038757782895118, 0.0038371814880520105, 0.0011051846668124199, 0.001860220916569233, 0.038106732070446014, 0.0012064201291650534, 0.008065841160714626, 0.0037088487297296524, 0.014952585101127625, 0.028276581317186356, 0.0, 0.0, 0.0, 0.0, 0.0, 0.0, 0.0, 0.0, 0.0, 0.0, 0.0, 0.0, 0.0, 0.0, 0.0, 0.0, 0.0, 0.0, 0.0, 0.0, 0.0, 0.0, 0.0, 0.0, 0.0, 0.0, 0.0, 0.0, 0.0, 0.0, 0.0, 0.0, 0.0], [0.824738621711731, 0.002670066663995385, 0.0004614332574419677, 8.442225225735456e-05, 0.010507571510970592, 0.017609866335988045, 0.026537006720900536, 0.0017162958392873406, 0.0073259067721664906, 0.004341294523328543, 0.051094960421323776, 0.04455762356519699, 0.00835487525910139, 0.0, 0.0, 0.0, 0.0, 0.0, 0.0, 0.0, 0.0, 0.0, 0.0, 0.0, 0.0, 0.0, 0.0, 0.0, 0.0, 0.0, 0.0, 0.0, 0.0, 0.0, 0.0, 0.0, 0.0, 0.0, 0.0, 0.0, 0.0, 0.0, 0.0, 0.0, 0.0], [0.833898663520813, 0.0017282785847783089, 0.00023632746888324618, 0.00027405971195548773, 0.00014406853006221354, 0.00765299191698432, 0.023262253031134605, 0.00013978763308841735, 0.004380848724395037, 0.0002272654528496787, 0.0023729430977255106, 0.01355679426342249, 0.10162952542304993, 0.010496123693883419, 0.0, 0.0, 0.0, 0.0, 0.0, 0.0, 0.0, 0.0, 0.0, 0.0, 0.0, 0.0, 0.0, 0.0, 0.0, 0.0, 0.0, 0.0, 0.0, 0.0, 0.0, 0.0, 0.0, 0.0, 0.0, 0.0, 0.0, 0.0, 0.0, 0.0, 0.0], [0.6073764562606812, 0.0014075610088184476, 0.001029681763611734, 0.0007032575667835772, 0.00030650131520815194, 0.0007003391510806978, 0.002609889255836606, 0.17176836729049683, 0.16343827545642853, 0.012485663406550884, 0.004518179688602686, 0.020480353385210037, 0.004081274848431349, 0.0038020664360374212, 0.005292077083140612, 0.0, 0.0, 0.0, 0.0, 0.0, 0.0, 0.0, 0.0, 0.0, 0.0, 0.0, 0.0, 0.0, 0.0, 0.0, 0.0, 0.0, 0.0, 0.0, 0.0, 0.0, 0.0, 0.0, 0.0, 0.0, 0.0, 0.0, 0.0, 0.0, 0.0], [0.6666743159294128, 0.0024293060414493084, 6.336237856885418e-05, 0.00032940463279373944, 7.638226088602096e-05, 0.0009309875313192606, 0.0036135574337095022, 0.000427126040449366, 0.17642591893672943, 0.06069736182689667, 0.008080950006842613, 0.05482883006334305, 0.008426258340477943, 0.001936915097758174, 0.0070890095084905624, 0.007970372214913368, 0.0, 0.0, 0.0, 0.0, 0.0, 0.0, 0.0, 0.0, 0.0, 0.0, 0.0, 0.0, 0.0, 0.0, 0.0, 0.0, 0.0, 0.0, 0.0, 0.0, 0.0, 0.0, 0.0, 0.0, 0.0, 0.0, 0.0, 0.0, 0.0], [0.5172377824783325, 0.0011441812384873629, 9.643120574764907e-05, 0.0006656990153715014, 0.00022597122006118298, 0.0006625543464906514, 0.003040101146325469, 2.1500198272406124e-05, 0.0026835142634809017, 0.3031194806098938, 0.02882450260221958, 0.0953005850315094, 0.004524142015725374, 0.00597999757155776, 0.005841022357344627, 0.00038006139220669866, 0.030252527445554733, 0.0, 0.0, 0.0, 0.0, 0.0, 0.0, 0.0, 0.0, 0.0, 0.0, 0.0, 0.0, 0.0, 0.0, 0.0, 0.0, 0.0, 0.0, 0.0, 0.0, 0.0, 0.0, 0.0, 0.0, 0.0, 0.0, 0.0, 0.0], [0.5798384547233582, 0.0009560041944496334, 7.642080163350329e-05, 0.0001971894089365378, 0.0001499701029388234, 0.00011667035869322717, 0.004879072308540344, 3.832934453384951e-06, 0.0013976165791973472, 0.007081606891006231, 0.23352590203285217, 0.04404675215482712, 0.003450302639976144, 0.0036011449992656708, 0.008028332144021988, 7.593347982037812e-05, 0.011245982721447945, 0.10132873058319092, 0.0, 0.0, 0.0, 0.0, 0.0, 0.0, 0.0, 0.0, 0.0, 0.0, 0.0, 0.0, 0.0, 0.0, 0.0, 0.0, 0.0, 0.0, 0.0, 0.0, 0.0, 0.0, 0.0, 0.0, 0.0, 0.0, 0.0], [0.7977009415626526, 0.0020035263150930405, 0.0002102455764543265, 0.00018091230595018715, 0.00023508982849307358, 0.0002964216691907495, 0.005826791748404503, 0.0001748564391164109, 0.004913890268653631, 0.0004738033749163151, 0.01601586863398552, 0.053374797105789185, 0.01663718931376934, 0.003722741734236479, 0.038493696600198746, 0.001075910753570497, 0.013648921623826027, 0.005178994964808226, 0.03983538970351219, 0.0, 0.0, 0.0, 0.0, 0.0, 0.0, 0.0, 0.0, 0.0, 0.0, 0.0, 0.0, 0.0, 0.0, 0.0, 0.0, 0.0, 0.0, 0.0, 0.0, 0.0, 0.0, 0.0, 0.0, 0.0, 0.0], [0.8174881339073181, 0.0009547578520141542, 0.0003138698812108487, 8.375568722840399e-05, 0.0004000112530775368, 0.00046341089182533324, 0.00649271858856082, 0.0016605545533820987, 0.006430519744753838, 0.0001917199551826343, 0.019123123958706856, 0.022181697189807892, 0.0038444576784968376, 0.0007718076813034713, 0.028464727103710175, 0.00384618085809052, 0.010580484755337238, 0.0012330964673310518, 0.031155917793512344, 0.04431911185383797, 0.0, 0.0, 0.0, 0.0, 0.0, 0.0, 0.0, 0.0, 0.0, 0.0, 0.0, 0.0, 0.0, 0.0, 0.0, 0.0, 0.0, 0.0, 0.0, 0.0, 0.0, 0.0, 0.0, 0.0, 0.0], [0.8367999196052551, 0.0026665504556149244, 0.0006331716431304812, 0.00019704266742337495, 0.0007691546343266964, 0.0008336857426911592, 0.007342198863625526, 0.0013097843620926142, 0.011717894114553928, 0.0001751521194819361, 0.0041672284714877605, 0.01285526156425476, 0.002550392411649227, 0.0010315902763977647, 0.034066058695316315, 0.0020906433928757906, 0.012495416216552258, 0.0012998665915802121, 0.009844197891652584, 0.024720588698983192, 0.032434117048978806, 0.0, 0.0, 0.0, 0.0, 0.0, 0.0, 0.0, 0.0, 0.0, 0.0, 0.0, 0.0, 0.0, 0.0, 0.0, 0.0, 0.0, 0.0, 0.0, 0.0, 0.0, 0.0, 0.0, 0.0], [0.8476492166519165, 0.0007372429827228189, 0.0008442264515906572, 0.0003158031904604286, 0.002213669242337346, 0.020787885412573814, 0.006659416016191244, 0.0014507992891594768, 0.005909204017370939, 0.0012482155580073595, 0.008418194949626923, 0.005707897711545229, 0.0009651990840211511, 0.003852836787700653, 0.02045668289065361, 0.0024389999452978373, 0.009212400764226913, 0.003326074220240116, 0.003000386292114854, 0.003097398905083537, 0.0044327653013169765, 0.047275591641664505, 0.0, 0.0, 0.0, 0.0, 0.0, 0.0, 0.0, 0.0, 0.0, 0.0, 0.0, 0.0, 0.0, 0.0, 0.0, 0.0, 0.0, 0.0, 0.0, 0.0, 0.0, 0.0, 0.0], [0.861122190952301, 0.0006876584375277162, 0.00019651612092275172, 0.0001736083795549348, 0.0007199759711511433, 0.0021596045698970556, 0.0064782327972352505, 0.00034830442746169865, 0.0009697325294837356, 0.000383520353352651, 0.004197972826659679, 0.01652776636183262, 0.0007565021514892578, 0.0032044281251728535, 0.008590145967900753, 0.0006512174149975181, 0.0016966554103419185, 0.0013766697375103831, 0.003428874770179391, 0.003204495180398226, 0.010159628465771675, 0.024093933403491974, 0.04887229576706886, 0.0, 0.0, 0.0, 0.0, 0.0, 0.0, 0.0, 0.0, 0.0, 0.0, 0.0, 0.0, 0.0, 0.0, 0.0, 0.0, 0.0, 0.0, 0.0, 0.0, 0.0, 0.0], [0.681079089641571, 0.0007824879139661789, 0.00041145243449136615, 0.0006230216822586954, 0.0009720877278596163, 0.0036857514642179012, 0.0048757754266262054, 0.0001745037588989362, 0.0005882048280909657, 0.00038326650974340737, 0.005274864844977856, 0.016385473310947418, 0.004563250113278627, 0.00472129974514246, 0.046405043452978134, 0.0008737724274396896, 0.004979743156582117, 0.002366158412769437, 0.011380051262676716, 0.02628934383392334, 0.04564959555864334, 0.0401008203625679, 0.03869868814945221, 0.0587361641228199, 0.0, 0.0, 0.0, 0.0, 0.0, 0.0, 0.0, 0.0, 0.0, 0.0, 0.0, 0.0, 0.0, 0.0, 0.0, 0.0, 0.0, 0.0, 0.0, 0.0, 0.0], [0.8693392276763916, 0.0011961533455178142, 1.7150934581877664e-05, 1.3659710930369329e-05, 0.00020116855739615858, 5.574205715674907e-05, 0.004568994510918856, 4.291084223950747e-06, 0.00022581242956221104, 8.954203804023564e-05, 0.002743252320215106, 0.005472771357744932, 0.009285463951528072, 0.0005476297228597105, 0.009919793345034122, 2.849606426025275e-05, 0.00032582375570200384, 0.00036493196967057884, 0.003388732671737671, 0.016486426815390587, 0.010937330313026905, 0.032830435782670975, 0.017940940335392952, 0.0035490416921675205, 0.010467213578522205, 0.0, 0.0, 0.0, 0.0, 0.0, 0.0, 0.0, 0.0, 0.0, 0.0, 0.0, 0.0, 0.0, 0.0, 0.0, 0.0, 0.0, 0.0, 0.0, 0.0], [0.8971599340438843, 0.00023481849348172545, 2.2158263163873926e-05, 4.707021162175806e-06, 0.0012928388314321637, 0.0003378029214218259, 0.001667745877057314, 2.524360934330616e-05, 0.0002474700741004199, 8.628987416159362e-05, 0.0014513441128656268, 0.0027652329299598932, 0.0004372178518678993, 0.002388093853369355, 0.003639806294813752, 0.00012496832641772926, 0.0005209099617786705, 0.00046408697380684316, 0.0026964342687278986, 0.0011711391853168607, 0.0033901804126799107, 0.007723623886704445, 0.015004124492406845, 0.005056908819824457, 0.008482879027724266, 0.043603986501693726, 0.0, 0.0, 0.0, 0.0, 0.0, 0.0, 0.0, 0.0, 0.0, 0.0, 0.0, 0.0, 0.0, 0.0, 0.0, 0.0, 0.0, 0.0, 0.0], [0.8373593091964722, 0.0006485023186542094, 3.3341693779220805e-05, 3.9685837691649795e-05, 0.00026472180616110563, 0.0002948082110378891, 0.0015868047485128045, 1.8522916434449144e-05, 0.00047305878251791, 0.006351112388074398, 0.005108864512294531, 0.00649553956463933, 0.0041017378680408, 0.0034463335759937763, 0.0074249268509447575, 0.00021150879911147058, 0.001299799419939518, 0.00929249543696642, 0.010828336700797081, 0.0007997696520760655, 0.0035958588123321533, 0.0021140333265066147, 0.009608720429241657, 0.00222709565423429, 0.008372453972697258, 0.010506845079362392, 0.06749575585126877, 0.0, 0.0, 0.0, 0.0, 0.0, 0.0, 0.0, 0.0, 0.0, 0.0, 0.0, 0.0, 0.0, 0.0, 0.0, 0.0, 0.0, 0.0], [0.8173645734786987, 0.000851441640406847, 9.652451262809336e-05, 0.00011332127905916423, 0.00013500437489710748, 0.0008130163769237697, 0.002723928540945053, 2.5661815016064793e-05, 0.00019201976829208434, 0.00034244448761455715, 0.0010071989381685853, 0.0035174295771867037, 0.004419096279889345, 0.00028051057597622275, 0.015083455480635166, 0.00041203194996342063, 0.0009028412168845534, 0.0021756833884865046, 0.003911568317562342, 0.001601654919795692, 0.0024647857062518597, 0.003436556551605463, 0.0035169750917702913, 0.0008923738496378064, 0.012409143149852753, 0.029918665066361427, 0.04231204092502594, 0.049079958349466324, 0.0, 0.0, 0.0, 0.0, 0.0, 0.0, 0.0, 0.0, 0.0, 0.0, 0.0, 0.0, 0.0, 0.0, 0.0, 0.0, 0.0], [0.8348482847213745, 0.00048705231165513396, 7.2952221671585e-05, 3.8129805034259334e-05, 5.5120504839578643e-05, 8.306493691634387e-05, 0.004111446440219879, 8.541897113900632e-05, 0.00033058004919439554, 0.0001853264111559838, 0.0005248762317933142, 0.0012905700132250786, 0.001132182078436017, 9.79060641839169e-05, 0.008875923231244087, 0.0004137994546908885, 0.0006175255984999239, 0.0005570678040385246, 0.0007543347310274839, 8.028273441595957e-05, 0.007540297694504261, 0.00310066482052207, 0.002656752709299326, 0.0025660786777734756, 0.017430095002055168, 0.009336727671325207, 0.04736727103590965, 0.028258683159947395, 0.02710157074034214, 0.0, 0.0, 0.0, 0.0, 0.0, 0.0, 0.0, 0.0, 0.0, 0.0, 0.0, 0.0, 0.0, 0.0, 0.0, 0.0], [0.9180619120597839, 0.0014442451065406203, 2.9738888770225458e-05, 1.8268559870193712e-05, 1.6992513337754644e-05, 5.223191692493856e-05, 0.00039083597948774695, 0.0017206176416948438, 0.0039971559308469296, 0.0005754076410084963, 0.001272758119739592, 0.0015165598597377539, 0.001063235104084015, 0.000182759205927141, 0.0007736346451565623, 0.004016238264739513, 0.006962194107472897, 0.0007749875076115131, 0.002225722186267376, 0.0001293119858019054, 0.00275946082547307, 0.0004107971035409719, 0.00043812146759591997, 0.0005557063850574195, 0.005804429762065411, 0.0020488626323640347, 0.003031514585018158, 0.01825132966041565, 0.002458676230162382, 0.019016258418560028, 0.0, 0.0, 0.0, 0.0, 0.0, 0.0, 0.0, 0.0, 0.0, 0.0, 0.0, 0.0, 0.0, 0.0, 0.0], [0.9312907457351685, 0.0005628715152852237, 4.897904091194505e-06, 2.653783121786546e-05, 9.006948857859243e-06, 6.55039184493944e-05, 0.00015547459770459682, 4.3866337364306673e-05, 0.0011616508709266782, 0.0014343023067340255, 0.0004416405572555959, 0.0014602220617234707, 0.00048152412637136877, 0.00024352403124794364, 0.0006702737882733345, 0.00024671299615874887, 0.005102426279336214, 0.0055517652072012424, 0.012240377254784107, 0.00030308327404782176, 0.0006040717125870287, 7.667779573239386e-05, 0.00025773196830414236, 0.0004095270414836705, 0.008559576235711575, 0.00017991784261539578, 0.00016141333617269993, 0.004550634883344173, 0.0009442555601708591, 0.0014301950577646494, 0.021329514682292938, 0.0, 0.0, 0.0, 0.0, 0.0, 0.0, 0.0, 0.0, 0.0, 0.0, 0.0, 0.0, 0.0, 0.0], [0.8355041742324829, 0.0004729773208964616, 4.669719055527821e-05, 0.0001757064019329846, 2.8011299946228974e-05, 1.9455836081760935e-05, 0.00041277994750998914, 4.855956490246172e-07, 3.715636194101535e-05, 0.000488889985717833, 0.004552347119897604, 0.003065460128709674, 0.001484723761677742, 0.0011166133917868137, 0.005230169277638197, 7.63048228691332e-06, 0.00045067293103784323, 0.0019714070949703455, 0.013908373191952705, 0.0017404684331268072, 0.0010854367865249515, 0.00029280351009219885, 0.0005336186732165515, 0.0002832651953212917, 0.018921708688139915, 0.005772284232079983, 0.0019367781933397055, 0.012671582400798798, 0.004408343229442835, 0.01925492472946644, 0.002828488126397133, 0.06129651889204979, 0.0, 0.0, 0.0, 0.0, 0.0, 0.0, 0.0, 0.0, 0.0, 0.0, 0.0, 0.0, 0.0], [0.8290568590164185, 0.0005360307404771447, 7.154294871725142e-05, 1.0600223504297901e-05, 8.323027941514738e-06, 4.692959009844344e-06, 0.00023883063113316894, 2.2668771180178737e-06, 0.00014270465180743486, 0.00014121194544713944, 0.006369843613356352, 0.003468584967777133, 0.0006638297927565873, 8.76645281095989e-05, 0.002692255424335599, 2.491619306965731e-05, 0.0009597958414815366, 0.0010263350559398532, 0.02625555545091629, 0.0021159020252525806, 0.015438334085047245, 0.0005114104715175927, 0.00012630398850888014, 0.0011744293151423335, 0.019770048558712006, 0.001087736920453608, 0.0009546071523800492, 0.0033226883970201015, 0.0029186781030148268, 0.03716745972633362, 0.0002951062342617661, 0.035283125936985016, 0.00807248055934906, 0.0, 0.0, 0.0, 0.0, 0.0, 0.0, 0.0, 0.0, 0.0, 0.0, 0.0, 0.0], [0.6120376586914062, 0.004670850932598114, 0.002986452542245388, 0.0012507190695032477, 0.0003233494353480637, 0.0006972153205424547, 0.0021671836730092764, 7.092532177921385e-05, 0.00024066775222308934, 0.00021211850980762392, 0.0009334541973657906, 0.20645898580551147, 0.014671584591269493, 0.0017915064236149192, 0.02346162125468254, 0.001072644954547286, 0.0024303789250552654, 0.001610290608368814, 0.013377740979194641, 0.003986245021224022, 0.0037648763973265886, 0.0010830953251570463, 0.0008084226283244789, 0.004361618310213089, 0.02497790940105915, 0.012349341064691544, 0.003911627922207117, 0.002856360049918294, 0.004218756221234798, 0.01143311895430088, 0.0007146115531213582, 0.003192865289747715, 0.0014759688638150692, 0.030399708077311516, 0.0, 0.0, 0.0, 0.0, 0.0, 0.0, 0.0, 0.0, 0.0, 0.0, 0.0], [0.5448321104049683, 0.0015456993132829666, 0.0002458774542901665, 0.0002188040380133316, 6.167565152281895e-05, 0.00021574301354121417, 0.002492432715371251, 4.418605749378912e-05, 0.00043907936196774244, 9.475262777414173e-05, 0.00018512790848035365, 0.002584261354058981, 0.14611393213272095, 0.01085089985281229, 0.10418287664651871, 0.0039808605797588825, 0.01865457370877266, 0.003433644538745284, 0.02292502298951149, 0.018002690747380257, 0.004476877395063639, 0.0013039445038884878, 0.0032347426749765873, 0.0008062976412475109, 0.03113725408911705, 0.003459535539150238, 0.0008453751797787845, 0.002131502376869321, 0.002685419749468565, 0.0046701193787157536, 0.0006422375445254147, 0.00029449816793203354, 0.0006666184635832906, 0.0062178149819374084, 0.05632355436682701, 0.0, 0.0, 0.0, 0.0, 0.0, 0.0, 0.0, 0.0, 0.0, 0.0], [0.425432413816452, 0.0003581549972295761, 2.371670962020289e-05, 2.5473449568380602e-05, 6.456677510868758e-05, 0.00010491663124412298, 0.0009917040588334203, 9.185072121908888e-05, 0.0006848538760095835, 0.0005056284135207534, 0.0010845561046153307, 0.001117453328333795, 0.002083131344988942, 0.006154096219688654, 0.008597547188401222, 0.0004639595572371036, 0.0046515087597072124, 0.0034631206654012203, 0.18537290394306183, 0.057963721454143524, 0.10115192830562592, 0.008003859780728817, 0.004740827716886997, 0.0005427638534456491, 0.0702023133635521, 0.009497438557446003, 0.006646598689258099, 0.0026813854929059744, 0.004378059878945351, 0.0064845639280974865, 0.0015843569999560714, 0.004197119269520044, 0.004329799208790064, 0.03982126712799072, 0.02193106710910797, 0.014571359381079674, 0.0, 0.0, 0.0, 0.0, 0.0, 0.0, 0.0, 0.0, 0.0], [0.6140789985656738, 0.0004574189952109009, 3.531807305989787e-05, 9.847602632362396e-05, 7.424830255331472e-05, 0.00019746182078961283, 0.0007402502815239131, 3.6016343074152246e-05, 0.00011439128138590604, 4.0679940866539255e-05, 0.0001118474974646233, 0.0035834419541060925, 0.004383402410894632, 0.0006755976937711239, 0.019078511744737625, 0.00021988159278407693, 0.0004929756978526711, 0.00024928897619247437, 0.0009582652128301561, 0.010598692111670971, 0.009527482092380524, 0.0017325006192550063, 0.0016294391825795174, 0.00033305861870758235, 0.008693782612681389, 0.005738996900618076, 0.004594011232256889, 0.002017978811636567, 0.0159365963190794, 0.028446070849895477, 0.000811579346191138, 0.0006251341546885669, 0.0014337260508909822, 0.08250854164361954, 0.09683026373386383, 0.05983280763030052, 0.02308294177055359, 0.0, 0.0, 0.0, 0.0, 0.0, 0.0, 0.0, 0.0], [0.7221826314926147, 0.00029923015972599387, 3.0761621019337326e-05, 2.322199179616291e-05, 4.153058398514986e-05, 7.879857730586082e-05, 0.0011478533269837499, 4.182315387879498e-05, 0.00013532261073123664, 3.003896927111782e-05, 0.00010864812065847218, 0.0016610008897259831, 0.0005918926326557994, 8.826267730910331e-05, 0.006246090400964022, 0.0001687330804998055, 0.0003901714808307588, 0.00010831250983756036, 0.0003402733418624848, 0.00020926838624291122, 0.007447881158441305, 0.0006567559321410954, 0.000834016886074096, 0.00020081759430468082, 0.004967155866324902, 0.0003938899317290634, 0.0016778537537902594, 0.0009836102835834026, 0.0002226938959211111, 0.08404295891523361, 0.0021328781731426716, 0.0002948730834759772, 0.0011611711233854294, 0.061490338295698166, 0.028621843084692955, 0.012805203907191753, 0.00850661564618349, 0.04963540658354759, 0.0, 0.0, 0.0, 0.0, 0.0, 0.0, 0.0], [0.7840084433555603, 0.0005100311827845871, 6.904532347107306e-05, 6.183306686580181e-05, 0.00013144979311618954, 0.0001993595069507137, 0.000953635957557708, 4.99751913594082e-05, 0.0001403869828209281, 5.928908285568468e-05, 0.0004231780185364187, 0.0007741900626569986, 0.001088351826183498, 0.002004239009693265, 0.005436771549284458, 0.00012222008081153035, 0.00023240988957695663, 0.0001215085867443122, 0.00041401543421670794, 0.0005204890621826053, 0.0007630739128217101, 0.00017746932280715555, 0.0003710035525728017, 0.0006575276493094862, 0.001113898353651166, 0.00018101274326909333, 0.0030324398539960384, 0.0017758775502443314, 0.0005766043323092163, 0.03051541931927204, 0.00553504005074501, 0.0008652686956338584, 0.0033378335647284985, 0.08774593472480774, 0.015994399785995483, 0.011379161849617958, 0.0032279263250529766, 0.020788151770830154, 0.014641144312918186, 0.0, 0.0, 0.0, 0.0, 0.0, 0.0], [0.5699105858802795, 0.0006735120550729334, 4.3825093598570675e-05, 5.574220267590135e-05, 8.470458124065772e-05, 3.901205491274595e-05, 0.00044606439769268036, 6.341721245917142e-07, 9.16035241971258e-06, 0.0002808347053360194, 0.0005654444685205817, 0.002280082553625107, 0.0020497466903179884, 0.0002663657069206238, 0.00680176354944706, 1.4283992641139776e-05, 7.574023038614541e-05, 0.0006563938222825527, 0.001344475895166397, 0.0003795669472310692, 0.0006500282906927168, 9.346589649794623e-05, 0.00017447279242333025, 4.070415525347926e-05, 0.002038298174738884, 0.000212802566238679, 0.0005632324609905481, 0.00842700619250536, 0.00859066192060709, 0.02457474358379841, 0.00012665765825659037, 0.0014408879214897752, 0.00509182782843709, 0.08077865839004517, 0.04404500126838684, 0.03527546301484108, 0.0040693446062505245, 0.07901415228843689, 0.07398651540279388, 0.04482816532254219, 0.0, 0.0, 0.0, 0.0, 0.0], [0.4697307050228119, 0.00044419371988624334, 0.0003737662045750767, 0.00020695436978712678, 0.0001155443096649833, 0.00026416455511935055, 0.00043457900756038725, 0.018899498507380486, 0.011875833384692669, 0.0011285583022981882, 0.000666353793349117, 0.00251918938010931, 0.000641441612970084, 0.0008982472354546189, 0.0006254220497794449, 0.10867469757795334, 0.162028968334198, 0.020283207297325134, 0.0254869032651186, 0.003102128626778722, 0.0029177784454077482, 0.0007273239316418767, 0.0011774504091590643, 0.00033599184826016426, 0.017401671037077904, 8.661431638756767e-05, 0.00030940977740101516, 0.0009259205544367433, 0.0005828618886880577, 0.0015860911225900054, 0.00015656657342333347, 0.001107070012949407, 8.967894973466173e-05, 0.006259155459702015, 0.01997230015695095, 0.012102015316486359, 0.0914640948176384, 0.004591654054820538, 0.0025694211944937706, 0.005594417452812195, 0.0016420764150097966, 0.0, 0.0, 0.0, 0.0], [0.5821335315704346, 0.0003998932661488652, 1.047991645464208e-05, 4.2614821722963825e-05, 1.876539499789942e-05, 0.0002222561597591266, 0.00040682294638827443, 4.556146450340748e-05, 0.009314628317952156, 0.00200096657499671, 0.0005121043068356812, 0.0027212221175432205, 0.0004414642171468586, 0.00018945420742966235, 0.0005970732891000807, 0.0005719330511055887, 0.06607580929994583, 0.02820817194879055, 0.03716406598687172, 0.005793455056846142, 0.0020864822436124086, 0.0003450759104453027, 0.002132057212293148, 0.0013050292618572712, 0.04366711154580116, 0.00015385224833153188, 0.00021269090939313173, 0.0014111739583313465, 0.00036870557232759893, 0.00031455900170840323, 1.6627502191113308e-05, 0.0026914498303085566, 0.0002779014175757766, 0.0030064103193581104, 0.029534632340073586, 0.016455547884106636, 0.1344578117132187, 0.0072660003788769245, 0.001429934287443757, 0.003054264234378934, 0.0019644233398139477, 0.010978041216731071, 0.0, 0.0, 0.0], [0.6095865964889526, 0.0001608379534445703, 1.7766442397260107e-05, 8.353932207683101e-05, 5.9574722399702296e-05, 0.00018633539730217308, 0.000294266443233937, 1.2863182519140537e-06, 9.132973355008289e-05, 0.00683562271296978, 0.0016201873077079654, 0.005385793745517731, 0.00024209862749557942, 0.0005506480811163783, 0.00036415664362721145, 2.1957108401693404e-05, 0.0012228667037561536, 0.05195676162838936, 0.09219682961702347, 0.004902633372694254, 0.0014281083131209016, 7.890997949289158e-05, 0.00065716786775738, 0.0005826936685480177, 0.013703159056603909, 6.97290597599931e-05, 0.00013792009849566966, 0.0020236249547451735, 0.0008914961945265532, 0.0006654567550867796, 2.2032506876712432e-06, 0.00029076795908622444, 0.00046970933908596635, 0.003320354502648115, 0.03599097207188606, 0.010147134773433208, 0.06285310536623001, 0.010217639617621899, 0.002915190299972892, 0.003790130838751793, 0.008557825349271297, 0.0010568219004198909, 0.06436876207590103, 0.0, 0.0], [0.5196745991706848, 0.00010344349720980972, 1.589965177117847e-05, 2.7259955459157936e-05, 3.868133353535086e-05, 3.1217201467370614e-05, 0.00039138307329267263, 4.4399232024261437e-07, 7.211526826722547e-05, 0.0002859191445168108, 0.022224532440304756, 0.0026287909131497145, 0.0001052233055816032, 0.00019148376304656267, 0.00034619952202774584, 5.733238140237518e-06, 0.00046961603220552206, 0.0030085034668445587, 0.15314450860023499, 0.016131818294525146, 0.011639908887445927, 0.0006274281768128276, 0.0005708523676730692, 0.0006487110513262451, 0.02391158416867256, 0.00020312037668190897, 0.00038540567038580775, 0.0017754683503881097, 0.0003289895539637655, 0.0010080512147396803, 2.429050937280408e-06, 0.00011373837332939729, 0.00015766978322062641, 0.027030181139707565, 0.021715819835662842, 0.0014575000386685133, 0.028483625501394272, 0.006418219767510891, 0.004040129948407412, 0.0036802610848098993, 0.005653767846524715, 0.00029437566990964115, 0.017654290422797203, 0.12330102920532227, 0.0], [0.8103192448616028, 0.0001477271580370143, 7.945851393742487e-06, 1.6261870769085363e-05, 4.138136864639819e-05, 0.00015926705964375287, 0.0017657439457252622, 8.098350917862263e-06, 0.00013405006029643118, 0.00013451286940835416, 0.0028780947905033827, 0.0010599344968795776, 0.0009377661044709384, 0.00037020546733401716, 0.0030151272658258677, 2.567943010944873e-05, 0.0002010906464420259, 0.0002554481034167111, 0.001921289716847241, 0.009882629849016666, 0.0044552916660904884, 0.0011719729518517852, 0.008642764762043953, 0.0012498743599280715, 0.004090462811291218, 0.0019513947190716863, 0.0019833368714898825, 0.0008272497798316181, 0.0006235750042833388, 0.003010982181876898, 9.53711787587963e-05, 9.263583342544734e-05, 0.0002488723548594862, 0.01109984889626503, 0.012174857780337334, 0.004402294289320707, 0.008254152722656727, 0.01232354249805212, 0.006625484675168991, 0.0065835523419082165, 0.013247494585812092, 0.0006133868591859937, 0.0036646095104515553, 0.00831569079309702, 0.05096985772252083]], [[1.0, 0.0, 0.0, 0.0, 0.0, 0.0, 0.0, 0.0, 0.0, 0.0, 0.0, 0.0, 0.0, 0.0, 0.0, 0.0, 0.0, 0.0, 0.0, 0.0, 0.0, 0.0, 0.0, 0.0, 0.0, 0.0, 0.0, 0.0, 0.0, 0.0, 0.0, 0.0, 0.0, 0.0, 0.0, 0.0, 0.0, 0.0, 0.0, 0.0, 0.0, 0.0, 0.0, 0.0, 0.0], [0.9894368648529053, 0.0105631398037076, 0.0, 0.0, 0.0, 0.0, 0.0, 0.0, 0.0, 0.0, 0.0, 0.0, 0.0, 0.0, 0.0, 0.0, 0.0, 0.0, 0.0, 0.0, 0.0, 0.0, 0.0, 0.0, 0.0, 0.0, 0.0, 0.0, 0.0, 0.0, 0.0, 0.0, 0.0, 0.0, 0.0, 0.0, 0.0, 0.0, 0.0, 0.0, 0.0, 0.0, 0.0, 0.0, 0.0], [0.9715986847877502, 0.019248925149440765, 0.00915242824703455, 0.0, 0.0, 0.0, 0.0, 0.0, 0.0, 0.0, 0.0, 0.0, 0.0, 0.0, 0.0, 0.0, 0.0, 0.0, 0.0, 0.0, 0.0, 0.0, 0.0, 0.0, 0.0, 0.0, 0.0, 0.0, 0.0, 0.0, 0.0, 0.0, 0.0, 0.0, 0.0, 0.0, 0.0, 0.0, 0.0, 0.0, 0.0, 0.0, 0.0, 0.0, 0.0], [0.9637433290481567, 0.014524477533996105, 0.008219817653298378, 0.013512356206774712, 0.0, 0.0, 0.0, 0.0, 0.0, 0.0, 0.0, 0.0, 0.0, 0.0, 0.0, 0.0, 0.0, 0.0, 0.0, 0.0, 0.0, 0.0, 0.0, 0.0, 0.0, 0.0, 0.0, 0.0, 0.0, 0.0, 0.0, 0.0, 0.0, 0.0, 0.0, 0.0, 0.0, 0.0, 0.0, 0.0, 0.0, 0.0, 0.0, 0.0, 0.0], [0.9720757007598877, 0.009889752604067326, 0.008573442697525024, 0.008160412311553955, 0.001300813746638596, 0.0, 0.0, 0.0, 0.0, 0.0, 0.0, 0.0, 0.0, 0.0, 0.0, 0.0, 0.0, 0.0, 0.0, 0.0, 0.0, 0.0, 0.0, 0.0, 0.0, 0.0, 0.0, 0.0, 0.0, 0.0, 0.0, 0.0, 0.0, 0.0, 0.0, 0.0, 0.0, 0.0, 0.0, 0.0, 0.0, 0.0, 0.0, 0.0, 0.0], [0.9643926024436951, 0.00958113931119442, 0.0067791687324643135, 0.007013626396656036, 0.004017403814941645, 0.008216029964387417, 0.0, 0.0, 0.0, 0.0, 0.0, 0.0, 0.0, 0.0, 0.0, 0.0, 0.0, 0.0, 0.0, 0.0, 0.0, 0.0, 0.0, 0.0, 0.0, 0.0, 0.0, 0.0, 0.0, 0.0, 0.0, 0.0, 0.0, 0.0, 0.0, 0.0, 0.0, 0.0, 0.0, 0.0, 0.0, 0.0, 0.0, 0.0, 0.0], [0.9378738403320312, 0.012339186854660511, 0.0026364964433014393, 0.0033460252452641726, 0.012764214538037777, 0.012433580122888088, 0.018606672063469887, 0.0, 0.0, 0.0, 0.0, 0.0, 0.0, 0.0, 0.0, 0.0, 0.0, 0.0, 0.0, 0.0, 0.0, 0.0, 0.0, 0.0, 0.0, 0.0, 0.0, 0.0, 0.0, 0.0, 0.0, 0.0, 0.0, 0.0, 0.0, 0.0, 0.0, 0.0, 0.0, 0.0, 0.0, 0.0, 0.0, 0.0, 0.0], [0.9653586745262146, 0.003598851151764393, 0.0027575825806707144, 0.002591365482658148, 0.005742168053984642, 0.00989910215139389, 0.009655616246163845, 0.0003966914373449981, 0.0, 0.0, 0.0, 0.0, 0.0, 0.0, 0.0, 0.0, 0.0, 0.0, 0.0, 0.0, 0.0, 0.0, 0.0, 0.0, 0.0, 0.0, 0.0, 0.0, 0.0, 0.0, 0.0, 0.0, 0.0, 0.0, 0.0, 0.0, 0.0, 0.0, 0.0, 0.0, 0.0, 0.0, 0.0, 0.0, 0.0], [0.9478666186332703, 0.007074449677020311, 0.003062434960156679, 0.0017915674252435565, 0.005756489001214504, 0.009305859915912151, 0.006294762250036001, 0.005685656797140837, 0.01316220872104168, 0.0, 0.0, 0.0, 0.0, 0.0, 0.0, 0.0, 0.0, 0.0, 0.0, 0.0, 0.0, 0.0, 0.0, 0.0, 0.0, 0.0, 0.0, 0.0, 0.0, 0.0, 0.0, 0.0, 0.0, 0.0, 0.0, 0.0, 0.0, 0.0, 0.0, 0.0, 0.0, 0.0, 0.0, 0.0, 0.0], [0.9180821776390076, 0.006062607746571302, 0.002860005246475339, 0.0018594823777675629, 0.003608324332162738, 0.010014714673161507, 0.009652293287217617, 0.007248967885971069, 0.03265615180134773, 0.007955255918204784, 0.0, 0.0, 0.0, 0.0, 0.0, 0.0, 0.0, 0.0, 0.0, 0.0, 0.0, 0.0, 0.0, 0.0, 0.0, 0.0, 0.0, 0.0, 0.0, 0.0, 0.0, 0.0, 0.0, 0.0, 0.0, 0.0, 0.0, 0.0, 0.0, 0.0, 0.0, 0.0, 0.0, 0.0, 0.0], [0.8085220456123352, 0.025538036599755287, 0.00511852977797389, 0.004118889104574919, 0.022221356630325317, 0.03688919171690941, 0.01240649726241827, 0.005022552330046892, 0.020585721358656883, 0.03293711692094803, 0.026640068739652634, 0.0, 0.0, 0.0, 0.0, 0.0, 0.0, 0.0, 0.0, 0.0, 0.0, 0.0, 0.0, 0.0, 0.0, 0.0, 0.0, 0.0, 0.0, 0.0, 0.0, 0.0, 0.0, 0.0, 0.0, 0.0, 0.0, 0.0, 0.0, 0.0, 0.0, 0.0, 0.0, 0.0, 0.0], [0.7182829976081848, 0.02415100671350956, 0.015291698276996613, 0.026666702702641487, 0.039939504116773605, 0.06304877251386642, 0.013715257868170738, 0.0053486693650484085, 0.022683557122945786, 0.013135365210473537, 0.04446396231651306, 0.01327259186655283, 0.0, 0.0, 0.0, 0.0, 0.0, 0.0, 0.0, 0.0, 0.0, 0.0, 0.0, 0.0, 0.0, 0.0, 0.0, 0.0, 0.0, 0.0, 0.0, 0.0, 0.0, 0.0, 0.0, 0.0, 0.0, 0.0, 0.0, 0.0, 0.0, 0.0, 0.0, 0.0, 0.0], [0.7252262830734253, 0.008758720941841602, 0.006356267258524895, 0.00821357686072588, 0.009058811701834202, 0.028605397790670395, 0.021694153547286987, 0.008631272241473198, 0.04919928312301636, 0.02660497836768627, 0.078884556889534, 0.015557018108665943, 0.013209782540798187, 0.0, 0.0, 0.0, 0.0, 0.0, 0.0, 0.0, 0.0, 0.0, 0.0, 0.0, 0.0, 0.0, 0.0, 0.0, 0.0, 0.0, 0.0, 0.0, 0.0, 0.0, 0.0, 0.0, 0.0, 0.0, 0.0, 0.0, 0.0, 0.0, 0.0, 0.0, 0.0], [0.8987473249435425, 0.007540985010564327, 0.003535269992426038, 0.003541262587532401, 0.006826802156865597, 0.014062299393117428, 0.004267919808626175, 0.0009097620495595038, 0.009849603287875652, 0.010451219975948334, 0.015897711738944054, 0.010325687006115913, 0.01103768777102232, 0.0030064957682043314, 0.0, 0.0, 0.0, 0.0, 0.0, 0.0, 0.0, 0.0, 0.0, 0.0, 0.0, 0.0, 0.0, 0.0, 0.0, 0.0, 0.0, 0.0, 0.0, 0.0, 0.0, 0.0, 0.0, 0.0, 0.0, 0.0, 0.0, 0.0, 0.0, 0.0, 0.0], [0.6124600172042847, 0.016619596630334854, 0.002745503094047308, 0.0037442282773554325, 0.004011903889477253, 0.003385163377970457, 0.03676725551486015, 0.019511312246322632, 0.050464507192373276, 0.09057687968015671, 0.030384834855794907, 0.012105920352041721, 0.07891037315130234, 0.0018508742796257138, 0.03646157681941986, 0.0, 0.0, 0.0, 0.0, 0.0, 0.0, 0.0, 0.0, 0.0, 0.0, 0.0, 0.0, 0.0, 0.0, 0.0, 0.0, 0.0, 0.0, 0.0, 0.0, 0.0, 0.0, 0.0, 0.0, 0.0, 0.0, 0.0, 0.0, 0.0, 0.0], [0.40157222747802734, 0.01774575747549534, 0.007338110823184252, 0.00836116075515747, 0.008701495826244354, 0.010538066737353802, 0.05018060281872749, 0.003390268189832568, 0.10474952310323715, 0.14733271300792694, 0.09867516160011292, 0.016012044623494148, 0.05000130832195282, 0.0028356360271573067, 0.06348737329244614, 0.009078486822545528, 0.0, 0.0, 0.0, 0.0, 0.0, 0.0, 0.0, 0.0, 0.0, 0.0, 0.0, 0.0, 0.0, 0.0, 0.0, 0.0, 0.0, 0.0, 0.0, 0.0, 0.0, 0.0, 0.0, 0.0, 0.0, 0.0, 0.0, 0.0, 0.0], [0.543972373008728, 0.013769139535725117, 0.005722946021705866, 0.003772513009607792, 0.009590170346200466, 0.012491918168962002, 0.023470835760235786, 0.01775229349732399, 0.04088877886533737, 0.09388943761587143, 0.08788518607616425, 0.01451059803366661, 0.03681419789791107, 0.004937964025884867, 0.025316311046481133, 0.03276602178812027, 0.03244922310113907, 0.0, 0.0, 0.0, 0.0, 0.0, 0.0, 0.0, 0.0, 0.0, 0.0, 0.0, 0.0, 0.0, 0.0, 0.0, 0.0, 0.0, 0.0, 0.0, 0.0, 0.0, 0.0, 0.0, 0.0, 0.0, 0.0, 0.0, 0.0], [0.44898203015327454, 0.016985636204481125, 0.007741561159491539, 0.006606569513678551, 0.00879718642681837, 0.02208743616938591, 0.025308487936854362, 0.020802276208996773, 0.05767710506916046, 0.027973148971796036, 0.1391351819038391, 0.02460223250091076, 0.05672612413764, 0.0049846894107759, 0.03209732100367546, 0.028815239667892456, 0.052514124661684036, 0.018163597211241722, 0.0, 0.0, 0.0, 0.0, 0.0, 0.0, 0.0, 0.0, 0.0, 0.0, 0.0, 0.0, 0.0, 0.0, 0.0, 0.0, 0.0, 0.0, 0.0, 0.0, 0.0, 0.0, 0.0, 0.0, 0.0, 0.0, 0.0], [0.7907000780105591, 0.005968958139419556, 0.004463758319616318, 0.003763269865885377, 0.007528678979724646, 0.006115699652582407, 0.00846017710864544, 0.009240100160241127, 0.016481654718518257, 0.030339043587446213, 0.020830878987908363, 0.018012501299381256, 0.026865359395742416, 0.016485121101140976, 0.004661919083446264, 0.004387481603771448, 0.009104709140956402, 0.012532300315797329, 0.004058434162288904, 0.0, 0.0, 0.0, 0.0, 0.0, 0.0, 0.0, 0.0, 0.0, 0.0, 0.0, 0.0, 0.0, 0.0, 0.0, 0.0, 0.0, 0.0, 0.0, 0.0, 0.0, 0.0, 0.0, 0.0, 0.0, 0.0], [0.8090214729309082, 0.0036093106027692556, 0.0022721278946846724, 0.0022341557778418064, 0.004693563561886549, 0.0061976490542292595, 0.00772470748052001, 0.0048446268774569035, 0.025336869060993195, 0.020963432267308235, 0.02150758169591427, 0.008913029916584492, 0.019216759130358696, 0.008071602322161198, 0.006069602444767952, 0.0036823516711592674, 0.01472145039588213, 0.008749576285481453, 0.014534651301801205, 0.007635429035872221, 0.0, 0.0, 0.0, 0.0, 0.0, 0.0, 0.0, 0.0, 0.0, 0.0, 0.0, 0.0, 0.0, 0.0, 0.0, 0.0, 0.0, 0.0, 0.0, 0.0, 0.0, 0.0, 0.0, 0.0, 0.0], [0.7464922666549683, 0.005650605075061321, 0.004169875755906105, 0.005511931609362364, 0.018119309097528458, 0.01288110576570034, 0.012128157541155815, 0.007489731069654226, 0.03471105918288231, 0.027706194669008255, 0.026279333978891373, 0.014046942815184593, 0.028759893029928207, 0.007458809297531843, 0.004996964242309332, 0.0038562745321542025, 0.012888625264167786, 0.007751032710075378, 0.00890351738780737, 0.007043886464089155, 0.003154608653858304, 0.0, 0.0, 0.0, 0.0, 0.0, 0.0, 0.0, 0.0, 0.0, 0.0, 0.0, 0.0, 0.0, 0.0, 0.0, 0.0, 0.0, 0.0, 0.0, 0.0, 0.0, 0.0, 0.0, 0.0], [0.8475207090377808, 0.0035780055914074183, 0.0018603847129270434, 0.002733893459662795, 0.01179394219070673, 0.009007977321743965, 0.00716825108975172, 0.0032283382024616003, 0.029993806034326553, 0.019381385296583176, 0.015504980459809303, 0.00747413095086813, 0.006644790526479483, 0.002852319274097681, 0.0026274677366018295, 0.0012786785373464227, 0.00705472519621253, 0.004790835082530975, 0.003767112037166953, 0.0037317341193556786, 0.0043919445015490055, 0.0036146414931863546, 0.0, 0.0, 0.0, 0.0, 0.0, 0.0, 0.0, 0.0, 0.0, 0.0, 0.0, 0.0, 0.0, 0.0, 0.0, 0.0, 0.0, 0.0, 0.0, 0.0, 0.0, 0.0, 0.0], [0.906651496887207, 0.001626476994715631, 0.00168202118948102, 0.001976447645574808, 0.009916868060827255, 0.008016152307391167, 0.0031009353697299957, 0.0019879541359841824, 0.005834297742694616, 0.008081505075097084, 0.017446938902139664, 0.003854514565318823, 0.0030426273588091135, 0.003085338044911623, 0.001134895603172481, 0.0008380833896808326, 0.0012755009811371565, 0.0019464726792648435, 0.0031245918944478035, 0.0021889926865696907, 0.0037787752225995064, 0.0072186109609901905, 0.00219049328006804, 0.0, 0.0, 0.0, 0.0, 0.0, 0.0, 0.0, 0.0, 0.0, 0.0, 0.0, 0.0, 0.0, 0.0, 0.0, 0.0, 0.0, 0.0, 0.0, 0.0, 0.0, 0.0], [0.8633391261100769, 0.0044653769582509995, 0.002295930404216051, 0.0028941729106009007, 0.0091872438788414, 0.013584575615823269, 0.0040230886079370975, 0.0045871250331401825, 0.004027238115668297, 0.007088827434927225, 0.017648063600063324, 0.017109934240579605, 0.0063679516315460205, 0.00502020912244916, 0.0018179460894316435, 0.0017475415952503681, 0.0015859039267525077, 0.002670075511559844, 0.005102257709950209, 0.0036480450071394444, 0.0039757853373885155, 0.0064972154796123505, 0.005505621433258057, 0.0058106654323637486, 0.0, 0.0, 0.0, 0.0, 0.0, 0.0, 0.0, 0.0, 0.0, 0.0, 0.0, 0.0, 0.0, 0.0, 0.0, 0.0, 0.0, 0.0, 0.0, 0.0, 0.0], [0.7748474478721619, 0.005844093393534422, 0.0017536778468638659, 0.0022212855983525515, 0.006600605323910713, 0.010078360326588154, 0.0077221086248755455, 0.0022704408038407564, 0.017856212332844734, 0.02071773260831833, 0.014235639944672585, 0.008835441432893276, 0.009973623789846897, 0.009909196756780148, 0.006110832095146179, 0.001485000946559012, 0.006723188329488039, 0.007742210756987333, 0.008092653937637806, 0.011237187311053276, 0.03156201168894768, 0.015688974410295486, 0.012448258697986603, 0.0031970839481800795, 0.0028466330841183662, 0.0, 0.0, 0.0, 0.0, 0.0, 0.0, 0.0, 0.0, 0.0, 0.0, 0.0, 0.0, 0.0, 0.0, 0.0, 0.0, 0.0, 0.0, 0.0, 0.0], [0.797663152217865, 0.005159472580999136, 0.001836146111600101, 0.0023607597686350346, 0.00736377714201808, 0.00965836364775896, 0.009462745860219002, 0.003717103973031044, 0.020200364291667938, 0.014435922726988792, 0.019206903874874115, 0.0056577324867248535, 0.010058565065264702, 0.0031575337052345276, 0.005549521651118994, 0.0025666344445198774, 0.00820348784327507, 0.005096494220197201, 0.00508277490735054, 0.004272613674402237, 0.00824742391705513, 0.016295837238430977, 0.009830750524997711, 0.0037017527502030134, 0.010262108407914639, 0.010951939038932323, 0.0, 0.0, 0.0, 0.0, 0.0, 0.0, 0.0, 0.0, 0.0, 0.0, 0.0, 0.0, 0.0, 0.0, 0.0, 0.0, 0.0, 0.0, 0.0], [0.8257535099983215, 0.0059594265185296535, 0.0020238293800503016, 0.001103569520637393, 0.003088632831349969, 0.0029602618888020515, 0.0062302942387759686, 0.001678788335993886, 0.03206068277359009, 0.02678438276052475, 0.020185166969895363, 0.0046295709908008575, 0.0057610939256846905, 0.0009587896056473255, 0.0035605321172624826, 0.0013469838304445148, 0.011838111095130444, 0.00655347527936101, 0.0024924122262746096, 0.0009209367563016713, 0.0021236042957752943, 0.008252079598605633, 0.006625210400670767, 0.0029967334121465683, 0.0035708118230104446, 0.0029466068372130394, 0.007594400085508823, 0.0, 0.0, 0.0, 0.0, 0.0, 0.0, 0.0, 0.0, 0.0, 0.0, 0.0, 0.0, 0.0, 0.0, 0.0, 0.0, 0.0, 0.0], [0.7768020033836365, 0.006669262889772654, 0.0010172083275392652, 0.0010629137977957726, 0.004390296060591936, 0.004239083733409643, 0.006479970645159483, 0.0015139039605855942, 0.02634575590491295, 0.03206199035048485, 0.026865940541028976, 0.008952232077717781, 0.00401277793571353, 0.0019043958745896816, 0.005271878093481064, 0.0017236118437722325, 0.012394912540912628, 0.008222143165767193, 0.007484350819140673, 0.00240118196234107, 0.008400153368711472, 0.009661732241511345, 0.007550205569714308, 0.006135271396487951, 0.004393966868519783, 0.003758181817829609, 0.01891270838677883, 0.0013720433926209807, 0.0, 0.0, 0.0, 0.0, 0.0, 0.0, 0.0, 0.0, 0.0, 0.0, 0.0, 0.0, 0.0, 0.0, 0.0, 0.0, 0.0], [0.8378034234046936, 0.0018523818580433726, 0.0004737253475468606, 0.000742655131034553, 0.001651858794502914, 0.0019308502087369561, 0.003643387695774436, 0.0017108538886532187, 0.009867307730019093, 0.006486350204795599, 0.010178393684327602, 0.003983986098319292, 0.004464595578610897, 0.0015406431630253792, 0.002267124829813838, 0.000902490399312228, 0.0030918021220713854, 0.0016758248675614595, 0.002688446780666709, 0.002315415535122156, 0.0046056234277784824, 0.007803278975188732, 0.0053451466374099255, 0.003629827406257391, 0.010277063585817814, 0.009351074695587158, 0.036478642374277115, 0.013028206303715706, 0.010209634900093079, 0.0, 0.0, 0.0, 0.0, 0.0, 0.0, 0.0, 0.0, 0.0, 0.0, 0.0, 0.0, 0.0, 0.0, 0.0, 0.0], [0.7073488831520081, 0.003968620207160711, 0.0006331914337351918, 0.0017741348128765821, 0.0027263499796390533, 0.002674699993804097, 0.0436910018324852, 0.0077788750641047955, 0.06258320063352585, 0.030006613582372665, 0.015767652541399002, 0.0020211725495755672, 0.005434752441942692, 0.000447451020590961, 0.019186649471521378, 0.003342853859066963, 0.0161496140062809, 0.004914454650133848, 0.0029021024238318205, 0.0008289781981147826, 0.001550039160065353, 0.0019932007417082787, 0.0017792119178920984, 0.001581281772814691, 0.002001390093937516, 0.004442650359123945, 0.038274068385362625, 0.010366898961365223, 0.0014366210671141744, 0.002393358154222369, 0.0, 0.0, 0.0, 0.0, 0.0, 0.0, 0.0, 0.0, 0.0, 0.0, 0.0, 0.0, 0.0, 0.0, 0.0], [0.8404309153556824, 0.004645989742130041, 0.0009420443093404174, 0.0009041102603077888, 0.0007981740054674447, 0.001319583272561431, 0.005676461383700371, 0.0009915613336488605, 0.018416667357087135, 0.02426576055586338, 0.009364670142531395, 0.003475523553788662, 0.011520003899931908, 0.0007533167372457683, 0.0042722770012915134, 0.0016731314826756716, 0.012104633264243603, 0.011321832425892353, 0.010296433232724667, 0.0007058540359139442, 0.0006270225858315825, 0.0006019221618771553, 0.0005720622139051557, 0.0007242825231514871, 0.002811289159581065, 0.0011788042029365897, 0.018894679844379425, 0.006750520784407854, 0.0007758221472613513, 0.002745916834101081, 0.00043876716517843306, 0.0, 0.0, 0.0, 0.0, 0.0, 0.0, 0.0, 0.0, 0.0, 0.0, 0.0, 0.0, 0.0, 0.0], [0.8771006464958191, 0.003076606895774603, 0.0005759507184848189, 0.0006952597759664059, 0.001021321746520698, 0.0009236301411874592, 0.004576881881803274, 0.002284180372953415, 0.011648626066744328, 0.01938660442829132, 0.012577222660183907, 0.003896357025951147, 0.0024974143598228693, 0.0004009308759123087, 0.0015561145264655352, 0.0011896257055923343, 0.004474368877708912, 0.004142289981245995, 0.003267570398747921, 0.0006512683467008173, 0.0007023596554063261, 0.0005529915797524154, 0.0007143944967538118, 0.001696965890005231, 0.002980615012347698, 0.001664788112975657, 0.009817591868340969, 0.0033097672276198864, 0.001355169340968132, 0.011960132047533989, 0.007279065437614918, 0.002023302251473069, 0.0, 0.0, 0.0, 0.0, 0.0, 0.0, 0.0, 0.0, 0.0, 0.0, 0.0, 0.0, 0.0], [0.8406322002410889, 0.0016832021065056324, 0.0006187172839418054, 0.0008386835106648505, 0.0003140702028758824, 0.0005696016596630216, 0.001345396158285439, 0.0009642294025979936, 0.009954784996807575, 0.011696950532495975, 0.01951887458562851, 0.002685937797650695, 0.0035350883845239878, 0.000402527570258826, 0.001227045664563775, 0.000907628214918077, 0.005848531145602465, 0.003999769221991301, 0.01301790401339531, 0.0019070834387093782, 0.0023234968539327383, 0.0006726971478201449, 0.000788360252045095, 0.001313364482484758, 0.0050799231976270676, 0.002495724009349942, 0.029328467324376106, 0.006183489225804806, 0.001316362526267767, 0.01500721275806427, 0.006330558098852634, 0.0051142023876309395, 0.0023780118208378553, 0.0, 0.0, 0.0, 0.0, 0.0, 0.0, 0.0, 0.0, 0.0, 0.0, 0.0, 0.0], [0.7464468479156494, 0.00792378094047308, 0.0014957415405660868, 0.001424368005245924, 0.001839639968238771, 0.004096055869013071, 0.005288049578666687, 0.0016256977105513215, 0.010825387202203274, 0.021588198840618134, 0.015762310475111008, 0.01687113754451275, 0.0037694242782890797, 0.0022518674377352, 0.005323921330273151, 0.001587360049597919, 0.0081834951415658, 0.008184014819562435, 0.007576667238026857, 0.002644039923325181, 0.004863407462835312, 0.0032392567954957485, 0.0037096261512488127, 0.007801514584571123, 0.007405489217489958, 0.0024720830842852592, 0.012692759744822979, 0.006274674087762833, 0.004919208586215973, 0.008783683180809021, 0.006920408457517624, 0.0028585128020495176, 0.01619458571076393, 0.0371565967798233, 0.0, 0.0, 0.0, 0.0, 0.0, 0.0, 0.0, 0.0, 0.0, 0.0, 0.0], [0.3957386016845703, 0.027167346328496933, 0.014166095294058323, 0.026691900566220284, 0.012184567749500275, 0.021853597834706306, 0.010214878246188164, 0.0042446390725672245, 0.006110193207859993, 0.0073424833826720715, 0.026670295745134354, 0.022296642884612083, 0.03027789108455181, 0.0200238898396492, 0.014027541503310204, 0.006878282874822617, 0.009114541113376617, 0.008165232837200165, 0.06572005152702332, 0.04064169153571129, 0.021456923335790634, 0.015147646889090538, 0.01913364790380001, 0.020660003647208214, 0.026614541187882423, 0.020418992266058922, 0.007153148762881756, 0.003921385854482651, 0.013208843767642975, 0.010644241236150265, 0.008637908846139908, 0.00627004774287343, 0.004203228745609522, 0.021422430872917175, 0.03157667815685272, 0.0, 0.0, 0.0, 0.0, 0.0, 0.0, 0.0, 0.0, 0.0, 0.0], [0.4712165296077728, 0.010442711412906647, 0.0027026573661714792, 0.0029816310852766037, 0.00353356939740479, 0.0102979876101017, 0.014566237106919289, 0.004766796715557575, 0.0146615756675601, 0.009836181998252869, 0.017474384978413582, 0.007688606157898903, 0.04023093730211258, 0.00580214848741889, 0.016119079664349556, 0.005573510657995939, 0.013739013113081455, 0.006853332277387381, 0.06890353560447693, 0.026062121614813805, 0.033142104744911194, 0.008528532460331917, 0.0046777380630373955, 0.0026992300990968943, 0.037580687552690506, 0.017941134050488472, 0.017174024134874344, 0.013645511120557785, 0.011633366346359253, 0.008866732940077782, 0.010807396844029427, 0.007084403187036514, 0.013578281737864017, 0.040138762444257736, 0.012219147756695747, 0.006830459460616112, 0.0, 0.0, 0.0, 0.0, 0.0, 0.0, 0.0, 0.0, 0.0], [0.6888555884361267, 0.008554035797715187, 0.0022305226884782314, 0.003253645496442914, 0.006135743111371994, 0.010456143878400326, 0.004401651211082935, 0.0020164521411061287, 0.006633601151406765, 0.007291786372661591, 0.01198237668722868, 0.010611919686198235, 0.027099063619971275, 0.007081754971295595, 0.004155462142080069, 0.0022595999762415886, 0.005876683630049229, 0.003892133943736553, 0.016356831416487694, 0.009355970658361912, 0.010830596089363098, 0.01052890531718731, 0.0037761128041893244, 0.0019065592205151916, 0.02249799855053425, 0.013510982505977154, 0.009883631952106953, 0.007320161443203688, 0.010347857140004635, 0.009177503176033497, 0.002947526518255472, 0.004489043727517128, 0.009682316333055496, 0.022951709106564522, 0.010702364146709442, 0.007399311754852533, 0.0035464181564748287, 0.0, 0.0, 0.0, 0.0, 0.0, 0.0, 0.0, 0.0], [0.7867832779884338, 0.003239748999476433, 0.0008729464607313275, 0.001218393794260919, 0.00201857415959239, 0.0045046089217066765, 0.004238734021782875, 0.0012008303310722113, 0.006981899496167898, 0.005338858813047409, 0.008000711910426617, 0.004411821253597736, 0.012674964964389801, 0.004321420565247536, 0.003644961165264249, 0.0011386936530470848, 0.00403278274461627, 0.0022636698558926582, 0.005639875773340464, 0.0036345894914120436, 0.005068487487733364, 0.0063889180310070515, 0.002810960402712226, 0.0013663991121575236, 0.013264874927699566, 0.0075289905071258545, 0.013261346146464348, 0.007777882739901543, 0.004623661283403635, 0.008642070926725864, 0.002618509577587247, 0.0053972601890563965, 0.005349000450223684, 0.028408193960785866, 0.005169773008674383, 0.004432663321495056, 0.006496495101600885, 0.005233085248619318, 0.0, 0.0, 0.0, 0.0, 0.0, 0.0, 0.0], [0.7396599650382996, 0.0025110701099038124, 0.0008310658158734441, 0.0016615515341982245, 0.0021180245094001293, 0.0036652067210525274, 0.0049347421154379845, 0.001794912968762219, 0.007335899863392115, 0.007630275096744299, 0.011034956201910973, 0.004335395991802216, 0.007595354225486517, 0.006805782672017813, 0.002801245078444481, 0.0013676841044798493, 0.003853288246318698, 0.0034075076691806316, 0.004807267338037491, 0.003068165620788932, 0.004158375319093466, 0.005511235911399126, 0.0032499211374670267, 0.00198703957721591, 0.010081510990858078, 0.008871459402143955, 0.028354426845908165, 0.011305399239063263, 0.004721852485090494, 0.016285575926303864, 0.0038307327777147293, 0.005790122784674168, 0.005255664233118296, 0.03396284207701683, 0.0033959357533603907, 0.005326739978045225, 0.007803634740412235, 0.007501952815800905, 0.011386139318346977, 0.0, 0.0, 0.0, 0.0, 0.0, 0.0], [0.7193147540092468, 0.005673098377883434, 0.0011314525036141276, 0.0014251676620915532, 0.0042350501753389835, 0.008161264471709728, 0.003678392618894577, 0.001018346636556089, 0.016546936705708504, 0.010769360698759556, 0.017199115827679634, 0.006439685821533203, 0.003968657925724983, 0.005542275961488485, 0.0034739647526293993, 0.0009959479793906212, 0.00839704368263483, 0.004033808596432209, 0.010007165372371674, 0.0024355032946914434, 0.005938884802162647, 0.004753332585096359, 0.002535074483603239, 0.003983906004577875, 0.010240921750664711, 0.005156122613698244, 0.0186222605407238, 0.004432678688317537, 0.005937236826866865, 0.006948426365852356, 0.004600914660841227, 0.005892493296414614, 0.01129561010748148, 0.041007526218891144, 0.0035412763245403767, 0.0020747422240674496, 0.0018742410466074944, 0.006693665403872728, 0.009283402003347874, 0.010740216821432114, 0.0, 0.0, 0.0, 0.0, 0.0], [0.41873446106910706, 0.012843736447393894, 0.002819050569087267, 0.004154926631599665, 0.0032222873996943235, 0.002547089010477066, 0.017756137996912003, 0.0104338014498353, 0.009398792870342731, 0.021422922611236572, 0.01688125915825367, 0.009885771200060844, 0.04492604732513428, 0.0021197025198489428, 0.027460619807243347, 0.03129588067531586, 0.022662241011857986, 0.016848545521497726, 0.019057195633649826, 0.002834201557561755, 0.003096215892583132, 0.001648426172323525, 0.0011841257801279426, 0.0017381900688633323, 0.007672498468309641, 0.005216940306127071, 0.01774641126394272, 0.006014401093125343, 0.0025985720567405224, 0.07697107642889023, 0.02568131312727928, 0.010039055719971657, 0.005671184975653887, 0.014171446673572063, 0.011366549879312515, 0.0399320162832737, 0.008814378641545773, 0.0046800109557807446, 0.008357514627277851, 0.009701171889901161, 0.040393754839897156, 0.0, 0.0, 0.0, 0.0], [0.3055250346660614, 0.01308797113597393, 0.005913043860346079, 0.00710138026624918, 0.0045486921444535255, 0.005678828805685043, 0.030618570744991302, 0.0020775708835572004, 0.027891183272004128, 0.039963338524103165, 0.04585297405719757, 0.012783977203071117, 0.03803995996713638, 0.0027217217721045017, 0.04576690122485161, 0.006318930070847273, 0.0405498631298542, 0.028031334280967712, 0.041542232036590576, 0.007739183958619833, 0.004886053502559662, 0.002501710318028927, 0.005059513263404369, 0.004880174063146114, 0.009028615429997444, 0.008761661127209663, 0.01655595190823078, 0.007792091462761164, 0.006588649936020374, 0.01349653396755457, 0.017529046162962914, 0.012395555153489113, 0.0093666547909379, 0.024688124656677246, 0.011647500097751617, 0.02542135678231716, 0.02679615095257759, 0.011282439343631268, 0.0099173653870821, 0.006513144355267286, 0.04232601448893547, 0.010813012719154358, 0.0, 0.0, 0.0], [0.24545803666114807, 0.009767689742147923, 0.004886591341346502, 0.004080925602465868, 0.009212126955389977, 0.00971556268632412, 0.016850652173161507, 0.008073251694440842, 0.006992199923843145, 0.019051022827625275, 0.046728018671274185, 0.011681968346238136, 0.037255678325891495, 0.006100689992308617, 0.03128257393836975, 0.023404542356729507, 0.012738947756588459, 0.018409984186291695, 0.044120095670223236, 0.008388864807784557, 0.00819644145667553, 0.007306268438696861, 0.0029529903549700975, 0.0016636475920677185, 0.012951831333339214, 0.0074452064000070095, 0.025070365518331528, 0.011949473060667515, 0.007947608828544617, 0.040995582938194275, 0.03780798614025116, 0.016698630526661873, 0.00625858549028635, 0.041066158562898636, 0.010600118897855282, 0.04279736429452896, 0.020183341577649117, 0.011763064190745354, 0.00761354248970747, 0.014221670106053352, 0.03594960644841194, 0.036088310182094574, 0.018272779881954193, 0.0, 0.0], [0.2090178281068802, 0.009587457403540611, 0.005256053060293198, 0.005124438554048538, 0.006930817849934101, 0.013098007068037987, 0.013674093410372734, 0.007528253830969334, 0.012200331315398216, 0.008779380470514297, 0.06895259767770767, 0.014134830795228481, 0.03569171205163002, 0.0043225898407399654, 0.026154257357120514, 0.015592087991535664, 0.021696817129850388, 0.009009718894958496, 0.06151222437620163, 0.012413879856467247, 0.010748128406703472, 0.00870685838162899, 0.005067013669759035, 0.002531287260353565, 0.02500559762120247, 0.008621848188340664, 0.02175026573240757, 0.01438367273658514, 0.00882891844958067, 0.024752449244260788, 0.023250296711921692, 0.012162357568740845, 0.00475342757999897, 0.05903942137956619, 0.012349429540336132, 0.02780645340681076, 0.022070150822401047, 0.016426952555775642, 0.007779036648571491, 0.013716246001422405, 0.03322719782590866, 0.028116833418607712, 0.031469330191612244, 0.01675938442349434, 0.0], [0.7508713006973267, 0.003935756627470255, 0.002776123583316803, 0.002661682665348053, 0.004367234650999308, 0.007912675850093365, 0.003718567779287696, 0.0011355190072208643, 0.005317940842360258, 0.007712834049016237, 0.013729885220527649, 0.004563116002827883, 0.010835740715265274, 0.005105468910187483, 0.0027419549878686666, 0.0008194162510335445, 0.0031610974110662937, 0.004445359576493502, 0.009263056330382824, 0.010989555157721043, 0.007802198641002178, 0.0022127549163997173, 0.0035559923853725195, 0.002035074634477496, 0.0063898321241140366, 0.00822473131120205, 0.007529543712735176, 0.004426728468388319, 0.005819989833980799, 0.00268976460210979, 0.0016955510945990682, 0.0016780075384303927, 0.001451258547604084, 0.010033825412392616, 0.006048491224646568, 0.008113312534987926, 0.018953245133161545, 0.016004037111997604, 0.007150596939027309, 0.006695720832794905, 0.002861593384295702, 0.001065439311787486, 0.004206718876957893, 0.004411644767969847, 0.0028797441627830267]], [[1.0, 0.0, 0.0, 0.0, 0.0, 0.0, 0.0, 0.0, 0.0, 0.0, 0.0, 0.0, 0.0, 0.0, 0.0, 0.0, 0.0, 0.0, 0.0, 0.0, 0.0, 0.0, 0.0, 0.0, 0.0, 0.0, 0.0, 0.0, 0.0, 0.0, 0.0, 0.0, 0.0, 0.0, 0.0, 0.0, 0.0, 0.0, 0.0, 0.0, 0.0, 0.0, 0.0, 0.0, 0.0], [0.9721025228500366, 0.027897505089640617, 0.0, 0.0, 0.0, 0.0, 0.0, 0.0, 0.0, 0.0, 0.0, 0.0, 0.0, 0.0, 0.0, 0.0, 0.0, 0.0, 0.0, 0.0, 0.0, 0.0, 0.0, 0.0, 0.0, 0.0, 0.0, 0.0, 0.0, 0.0, 0.0, 0.0, 0.0, 0.0, 0.0, 0.0, 0.0, 0.0, 0.0, 0.0, 0.0, 0.0, 0.0, 0.0, 0.0], [0.910584568977356, 0.0604315809905529, 0.02898382768034935, 0.0, 0.0, 0.0, 0.0, 0.0, 0.0, 0.0, 0.0, 0.0, 0.0, 0.0, 0.0, 0.0, 0.0, 0.0, 0.0, 0.0, 0.0, 0.0, 0.0, 0.0, 0.0, 0.0, 0.0, 0.0, 0.0, 0.0, 0.0, 0.0, 0.0, 0.0, 0.0, 0.0, 0.0, 0.0, 0.0, 0.0, 0.0, 0.0, 0.0, 0.0, 0.0], [0.8596983551979065, 0.08996214717626572, 0.025757446885108948, 0.02458213083446026, 0.0, 0.0, 0.0, 0.0, 0.0, 0.0, 0.0, 0.0, 0.0, 0.0, 0.0, 0.0, 0.0, 0.0, 0.0, 0.0, 0.0, 0.0, 0.0, 0.0, 0.0, 0.0, 0.0, 0.0, 0.0, 0.0, 0.0, 0.0, 0.0, 0.0, 0.0, 0.0, 0.0, 0.0, 0.0, 0.0, 0.0, 0.0, 0.0, 0.0, 0.0], [0.7680569291114807, 0.06236450374126434, 0.0285530686378479, 0.02370702475309372, 0.11731845140457153, 0.0, 0.0, 0.0, 0.0, 0.0, 0.0, 0.0, 0.0, 0.0, 0.0, 0.0, 0.0, 0.0, 0.0, 0.0, 0.0, 0.0, 0.0, 0.0, 0.0, 0.0, 0.0, 0.0, 0.0, 0.0, 0.0, 0.0, 0.0, 0.0, 0.0, 0.0, 0.0, 0.0, 0.0, 0.0, 0.0, 0.0, 0.0, 0.0, 0.0], [0.4758121371269226, 0.031136564910411835, 0.013257285580039024, 0.006589725147932768, 0.20435552299022675, 0.2688487470149994, 0.0, 0.0, 0.0, 0.0, 0.0, 0.0, 0.0, 0.0, 0.0, 0.0, 0.0, 0.0, 0.0, 0.0, 0.0, 0.0, 0.0, 0.0, 0.0, 0.0, 0.0, 0.0, 0.0, 0.0, 0.0, 0.0, 0.0, 0.0, 0.0, 0.0, 0.0, 0.0, 0.0, 0.0, 0.0, 0.0, 0.0, 0.0, 0.0], [0.8681089282035828, 0.013023502193391323, 0.002985623199492693, 0.002810151083394885, 0.00305619346909225, 0.006136816460639238, 0.10387878865003586, 0.0, 0.0, 0.0, 0.0, 0.0, 0.0, 0.0, 0.0, 0.0, 0.0, 0.0, 0.0, 0.0, 0.0, 0.0, 0.0, 0.0, 0.0, 0.0, 0.0, 0.0, 0.0, 0.0, 0.0, 0.0, 0.0, 0.0, 0.0, 0.0, 0.0, 0.0, 0.0, 0.0, 0.0, 0.0, 0.0, 0.0, 0.0], [0.9313583970069885, 0.005324830766767263, 0.0015351483598351479, 0.0017787020187824965, 0.000326578039675951, 0.00127899379003793, 0.04616767540574074, 0.012229789979755878, 0.0, 0.0, 0.0, 0.0, 0.0, 0.0, 0.0, 0.0, 0.0, 0.0, 0.0, 0.0, 0.0, 0.0, 0.0, 0.0, 0.0, 0.0, 0.0, 0.0, 0.0, 0.0, 0.0, 0.0, 0.0, 0.0, 0.0, 0.0, 0.0, 0.0, 0.0, 0.0, 0.0, 0.0, 0.0, 0.0, 0.0], [0.5842303037643433, 0.002315243473276496, 0.001339703449048102, 0.0011357609182596207, 0.0015856182435527444, 0.004060321021825075, 0.04402569681406021, 0.042048875242471695, 0.31925851106643677, 0.0, 0.0, 0.0, 0.0, 0.0, 0.0, 0.0, 0.0, 0.0, 0.0, 0.0, 0.0, 0.0, 0.0, 0.0, 0.0, 0.0, 0.0, 0.0, 0.0, 0.0, 0.0, 0.0, 0.0, 0.0, 0.0, 0.0, 0.0, 0.0, 0.0, 0.0, 0.0, 0.0, 0.0, 0.0, 0.0], [0.7581197619438171, 0.0037094890139997005, 0.0018107353243976831, 0.0026038007345050573, 0.0006181930075399578, 0.0049857208505272865, 0.007676800712943077, 0.030312566086649895, 0.08469204604625702, 0.10547089576721191, 0.0, 0.0, 0.0, 0.0, 0.0, 0.0, 0.0, 0.0, 0.0, 0.0, 0.0, 0.0, 0.0, 0.0, 0.0, 0.0, 0.0, 0.0, 0.0, 0.0, 0.0, 0.0, 0.0, 0.0, 0.0, 0.0, 0.0, 0.0, 0.0, 0.0, 0.0, 0.0, 0.0, 0.0, 0.0], [0.31786298751831055, 0.013175280764698982, 0.0028260964900255203, 0.004201382864266634, 0.027577094733715057, 0.15308243036270142, 0.024465100839734077, 0.02590339258313179, 0.12914195656776428, 0.22768457233905792, 0.07407966256141663, 0.0, 0.0, 0.0, 0.0, 0.0, 0.0, 0.0, 0.0, 0.0, 0.0, 0.0, 0.0, 0.0, 0.0, 0.0, 0.0, 0.0, 0.0, 0.0, 0.0, 0.0, 0.0, 0.0, 0.0, 0.0, 0.0, 0.0, 0.0, 0.0, 0.0, 0.0, 0.0, 0.0, 0.0], [0.5172529220581055, 0.019464721903204918, 0.007410220801830292, 0.0059734839014709, 0.04131577908992767, 0.1101374626159668, 0.011631383560597897, 0.008486426435410976, 0.03521397337317467, 0.04481655731797218, 0.1675911545753479, 0.03070593811571598, 0.0, 0.0, 0.0, 0.0, 0.0, 0.0, 0.0, 0.0, 0.0, 0.0, 0.0, 0.0, 0.0, 0.0, 0.0, 0.0, 0.0, 0.0, 0.0, 0.0, 0.0, 0.0, 0.0, 0.0, 0.0, 0.0, 0.0, 0.0, 0.0, 0.0, 0.0, 0.0, 0.0], [0.7438651323318481, 0.01086126547306776, 0.002318494487553835, 0.0037802783772349358, 0.0074828495271503925, 0.007124758325517178, 0.029963430017232895, 0.02027328871190548, 0.051362890750169754, 0.02669289894402027, 0.04910281300544739, 0.02782292850315571, 0.019348999485373497, 0.0, 0.0, 0.0, 0.0, 0.0, 0.0, 0.0, 0.0, 0.0, 0.0, 0.0, 0.0, 0.0, 0.0, 0.0, 0.0, 0.0, 0.0, 0.0, 0.0, 0.0, 0.0, 0.0, 0.0, 0.0, 0.0, 0.0, 0.0, 0.0, 0.0, 0.0, 0.0], [0.8872255086898804, 0.009207130409777164, 0.001866452395915985, 0.005096539855003357, 0.0036247847601771355, 0.004378868266940117, 0.0022268297616392374, 0.0005104936426505446, 0.0036727734841406345, 0.008617961779236794, 0.02459542825818062, 0.017889130860567093, 0.012932232581079006, 0.018155816942453384, 0.0, 0.0, 0.0, 0.0, 0.0, 0.0, 0.0, 0.0, 0.0, 0.0, 0.0, 0.0, 0.0, 0.0, 0.0, 0.0, 0.0, 0.0, 0.0, 0.0, 0.0, 0.0, 0.0, 0.0, 0.0, 0.0, 0.0, 0.0, 0.0, 0.0, 0.0], [0.5342419743537903, 0.004317855928093195, 0.000992370187304914, 0.0031550773419439793, 0.0029068358708173037, 0.010930506512522697, 0.14644663035869598, 0.009936249814927578, 0.06127684935927391, 0.09863229095935822, 0.06360852718353271, 0.011265848763287067, 0.006065661553293467, 0.00129786622710526, 0.044925421476364136, 0.0, 0.0, 0.0, 0.0, 0.0, 0.0, 0.0, 0.0, 0.0, 0.0, 0.0, 0.0, 0.0, 0.0, 0.0, 0.0, 0.0, 0.0, 0.0, 0.0, 0.0, 0.0, 0.0, 0.0, 0.0, 0.0, 0.0, 0.0, 0.0, 0.0], [0.357704222202301, 0.004297326318919659, 0.0007434938452206552, 0.002423197729513049, 0.002105163177475333, 0.014351978898048401, 0.21875810623168945, 0.02498333714902401, 0.04405632242560387, 0.07794971019029617, 0.1539749950170517, 0.005560583434998989, 0.003623945638537407, 0.0028256713412702084, 0.07054014503955841, 0.016101818531751633, 0.0, 0.0, 0.0, 0.0, 0.0, 0.0, 0.0, 0.0, 0.0, 0.0, 0.0, 0.0, 0.0, 0.0, 0.0, 0.0, 0.0, 0.0, 0.0, 0.0, 0.0, 0.0, 0.0, 0.0, 0.0, 0.0, 0.0, 0.0, 0.0], [0.2992783486843109, 0.0013140211813151836, 0.0004997570067644119, 0.0020233849063515663, 0.0030017681419849396, 0.01399312261492014, 0.08782841265201569, 0.017490975558757782, 0.34331145882606506, 0.07538782060146332, 0.06997740268707275, 0.0034471824765205383, 0.004933259915560484, 0.0009745778515934944, 0.03292679041624069, 0.008475489914417267, 0.03513626009225845, 0.0, 0.0, 0.0, 0.0, 0.0, 0.0, 0.0, 0.0, 0.0, 0.0, 0.0, 0.0, 0.0, 0.0, 0.0, 0.0, 0.0, 0.0, 0.0, 0.0, 0.0, 0.0, 0.0, 0.0, 0.0, 0.0, 0.0, 0.0], [0.30968621373176575, 0.0027294468600302935, 0.0010511982254683971, 0.002974756993353367, 0.003776740515604615, 0.022837622091174126, 0.044787608087062836, 0.035035889595746994, 0.1121285930275917, 0.17321984469890594, 0.13096006214618683, 0.010924250818789005, 0.029996315017342567, 0.015876442193984985, 0.029209058731794357, 0.011140990070998669, 0.01672358624637127, 0.04694133251905441, 0.0, 0.0, 0.0, 0.0, 0.0, 0.0, 0.0, 0.0, 0.0, 0.0, 0.0, 0.0, 0.0, 0.0, 0.0, 0.0, 0.0, 0.0, 0.0, 0.0, 0.0, 0.0, 0.0, 0.0, 0.0, 0.0, 0.0], [0.6545513272285461, 0.00377923296764493, 0.00041515580960549414, 0.0011754807783290744, 0.000502357492223382, 0.0017531648045405746, 0.016353080049157143, 0.008566873148083687, 0.060871422290802, 0.04772905632853508, 0.05035460367798805, 0.023509401828050613, 0.02756166085600853, 0.014773291535675526, 0.012741893529891968, 0.008559082634747028, 0.02015697956085205, 0.028952062129974365, 0.01769389770925045, 0.0, 0.0, 0.0, 0.0, 0.0, 0.0, 0.0, 0.0, 0.0, 0.0, 0.0, 0.0, 0.0, 0.0, 0.0, 0.0, 0.0, 0.0, 0.0, 0.0, 0.0, 0.0, 0.0, 0.0, 0.0, 0.0], [0.56440269947052, 0.005128858610987663, 0.0006814890657551587, 0.0010410293471068144, 0.003302955999970436, 0.0035262538585811853, 0.026323435828089714, 0.019842520356178284, 0.08045852184295654, 0.04467318207025528, 0.06786506623029709, 0.009983713738620281, 0.018891749903559685, 0.009475802071392536, 0.014179166406393051, 0.012421715073287487, 0.032724957913160324, 0.020258858799934387, 0.029154781252145767, 0.03566320985555649, 0.0, 0.0, 0.0, 0.0, 0.0, 0.0, 0.0, 0.0, 0.0, 0.0, 0.0, 0.0, 0.0, 0.0, 0.0, 0.0, 0.0, 0.0, 0.0, 0.0, 0.0, 0.0, 0.0, 0.0, 0.0], [0.4419209361076355, 0.007966890931129456, 0.004170102532953024, 0.005977222695946693, 0.020222872495651245, 0.037848006933927536, 0.018069490790367126, 0.01226052362471819, 0.14753395318984985, 0.026872510090470314, 0.11647547036409378, 0.011956463567912579, 0.007026311941444874, 0.006197943352162838, 0.009925519116222858, 0.010488882660865784, 0.03262437507510185, 0.011572507210075855, 0.013645034283399582, 0.027910683304071426, 0.02933420240879059, 0.0, 0.0, 0.0, 0.0, 0.0, 0.0, 0.0, 0.0, 0.0, 0.0, 0.0, 0.0, 0.0, 0.0, 0.0, 0.0, 0.0, 0.0, 0.0, 0.0, 0.0, 0.0, 0.0, 0.0], [0.5708940625190735, 0.00685544079169631, 0.0025555638130754232, 0.003923146985471249, 0.016079844906926155, 0.015756048262119293, 0.026857515797019005, 0.01561869028955698, 0.0647752583026886, 0.01843883842229843, 0.04708068445324898, 0.009339301846921444, 0.005177986808121204, 0.006761310156434774, 0.01131943054497242, 0.0070571135729551315, 0.020620767027139664, 0.008293580263853073, 0.005798016209155321, 0.010421168059110641, 0.026291126385331154, 0.1000850647687912, 0.0, 0.0, 0.0, 0.0, 0.0, 0.0, 0.0, 0.0, 0.0, 0.0, 0.0, 0.0, 0.0, 0.0, 0.0, 0.0, 0.0, 0.0, 0.0, 0.0, 0.0, 0.0, 0.0], [0.43412554264068604, 0.0017976164817810059, 0.002057745587080717, 0.0017915843054652214, 0.0045969500206410885, 0.004133981186896563, 0.013440661132335663, 0.0038788635283708572, 0.09875151515007019, 0.015918606892228127, 0.053131259977817535, 0.005660536233335733, 0.004785335157066584, 0.003546100575476885, 0.009284097701311111, 0.004474471788853407, 0.041631974279880524, 0.010550263337790966, 0.015508508309721947, 0.022701388224959373, 0.049273811280727386, 0.08057010918855667, 0.11838903278112411, 0.0, 0.0, 0.0, 0.0, 0.0, 0.0, 0.0, 0.0, 0.0, 0.0, 0.0, 0.0, 0.0, 0.0, 0.0, 0.0, 0.0, 0.0, 0.0, 0.0, 0.0, 0.0], [0.5782599449157715, 0.006264554802328348, 0.005043612327426672, 0.0030715910252183676, 0.01939401775598526, 0.01354142278432846, 0.0074837421998381615, 0.0054493979550898075, 0.02100370265543461, 0.015117005445063114, 0.04257559776306152, 0.008723490871489048, 0.01967870444059372, 0.011744162067770958, 0.004974824842065573, 0.00282741105183959, 0.011968213133513927, 0.007674285676330328, 0.014475136063992977, 0.016654059290885925, 0.026285769417881966, 0.03794747218489647, 0.10488609969615936, 0.014955748803913593, 0.0, 0.0, 0.0, 0.0, 0.0, 0.0, 0.0, 0.0, 0.0, 0.0, 0.0, 0.0, 0.0, 0.0, 0.0, 0.0, 0.0, 0.0, 0.0, 0.0, 0.0], [0.3483128845691681, 0.007088490761816502, 0.0008330146665684879, 0.0010240135015919805, 0.0004532208840828389, 0.0009296340285800397, 0.0030655479058623314, 0.0031090371776372194, 0.0796390250325203, 0.010763304308056831, 0.04970283806324005, 0.004744695499539375, 0.03208931162953377, 0.004783849231898785, 0.00415645120665431, 0.005963936448097229, 0.06713291257619858, 0.012484333477914333, 0.017598623409867287, 0.07160110026597977, 0.011097967624664307, 0.08538325875997543, 0.04899510741233826, 0.006818658206611872, 0.12222874164581299, 0.0, 0.0, 0.0, 0.0, 0.0, 0.0, 0.0, 0.0, 0.0, 0.0, 0.0, 0.0, 0.0, 0.0, 0.0, 0.0, 0.0, 0.0, 0.0, 0.0], [0.40456733107566833, 0.008788867853581905, 0.0019914715085178614, 0.0019780562724918127, 0.0016313588712364435, 0.002465868601575494, 0.01150867622345686, 0.0067985705099999905, 0.061367858201265335, 0.029865002259612083, 0.03572780638933182, 0.002537182532250881, 0.012721173465251923, 0.0027936275582760572, 0.006895293481647968, 0.011773063801229, 0.030331352725625038, 0.017419803887605667, 0.006813554093241692, 0.011992164887487888, 0.013180592097342014, 0.0619903989136219, 0.022973783314228058, 0.00923601072281599, 0.13752257823944092, 0.08512861281633377, 0.0, 0.0, 0.0, 0.0, 0.0, 0.0, 0.0, 0.0, 0.0, 0.0, 0.0, 0.0, 0.0, 0.0, 0.0, 0.0, 0.0, 0.0, 0.0], [0.5531930923461914, 0.0038829860277473927, 0.0017826195107772946, 0.0012771575711667538, 0.0004145111597608775, 0.0014486286090686917, 0.005734799895435572, 0.0014447710709646344, 0.13844934105873108, 0.018747728317975998, 0.01587873324751854, 0.003945191390812397, 0.0022012286353856325, 0.000418742245528847, 0.0023628463968634605, 0.0020045943092554808, 0.029380323365330696, 0.005806526634842157, 0.0003182595537509769, 0.0015743171097710729, 0.0027313472237437963, 0.01266242191195488, 0.005421406123787165, 0.011900827288627625, 0.0021339659579098225, 0.009585361927747726, 0.16529826819896698, 0.0, 0.0, 0.0, 0.0, 0.0, 0.0, 0.0, 0.0, 0.0, 0.0, 0.0, 0.0, 0.0, 0.0, 0.0, 0.0, 0.0, 0.0], [0.5794605612754822, 0.005825245287269354, 0.002539378823712468, 0.0018388866446912289, 0.0003516952565405518, 0.0020120954141020775, 0.006017460022121668, 0.00045719320769421756, 0.007188088726252317, 0.0023730627726763487, 0.003784253029152751, 0.019504912197589874, 0.004197688307613134, 0.0016273114597424865, 0.00313530582934618, 0.000919597630854696, 0.004009266383945942, 0.0023130602203309536, 0.0012239081552252173, 0.012673947960138321, 0.007468248717486858, 0.011737193912267685, 0.004157172050327063, 0.017843008041381836, 0.014930633828043938, 0.021811412647366524, 0.07334413379430771, 0.18725526332855225, 0.0, 0.0, 0.0, 0.0, 0.0, 0.0, 0.0, 0.0, 0.0, 0.0, 0.0, 0.0, 0.0, 0.0, 0.0, 0.0, 0.0], [0.583884060382843, 0.005296375602483749, 0.0014325255760923028, 0.002224208088591695, 0.0022550055291503668, 0.002298362087458372, 0.006130029913038015, 0.002255592728033662, 0.021568847820162773, 0.0038320014718919992, 0.008753892965614796, 0.004172500688582659, 0.006742910947650671, 0.0018258353229612112, 0.004884420428425074, 0.002559300744906068, 0.009815748780965805, 0.0021821982227265835, 0.0008339447667822242, 0.002721638884395361, 0.004269888624548912, 0.02251908741891384, 0.00430257385596633, 0.005601770244538784, 0.015029865317046642, 0.03617188706994057, 0.048769257962703705, 0.1319865733385086, 0.055679719895124435, 0.0, 0.0, 0.0, 0.0, 0.0, 0.0, 0.0, 0.0, 0.0, 0.0, 0.0, 0.0, 0.0, 0.0, 0.0, 0.0], [0.7691225409507751, 0.012103400193154812, 0.0036837500520050526, 0.006274369545280933, 0.0039273397997021675, 0.0031018259469419718, 0.009879877790808678, 0.005110136233270168, 0.02860039286315441, 0.024232380092144012, 0.00900756474584341, 0.003790144342929125, 0.007964422926306725, 0.0011907160514965653, 0.005090446677058935, 0.00387932569719851, 0.00596655672416091, 0.007609093561768532, 0.00028307820321060717, 0.0013795926934108138, 0.000913177034817636, 0.000984900281764567, 0.0016410690732300282, 0.008510219864547253, 0.004257457796484232, 0.005277510732412338, 0.02646188996732235, 0.0044386605732142925, 0.004259597975760698, 0.031058449298143387, 0.0, 0.0, 0.0, 0.0, 0.0, 0.0, 0.0, 0.0, 0.0, 0.0, 0.0, 0.0, 0.0, 0.0, 0.0], [0.8221253752708435, 0.0016702106222510338, 0.0010200985707342625, 0.001025645062327385, 0.000552118057385087, 0.0018787451554089785, 0.0035049307625740767, 0.0010878617176786065, 0.010403609834611416, 0.03608763962984085, 0.010350448079407215, 0.003670183941721916, 0.005905879195779562, 0.000196698063518852, 0.0027258149348199368, 0.002090608701109886, 0.004857946652919054, 0.020410971716046333, 0.005007868632674217, 0.0029830459970980883, 0.001233095652423799, 0.00036504698800854385, 0.00040726401493884623, 0.00418934365734458, 0.005806498695164919, 0.0024732747115194798, 0.013598408550024033, 0.0009629917913116515, 0.001590621075592935, 0.012843191623687744, 0.01897452399134636, 0.0, 0.0, 0.0, 0.0, 0.0, 0.0, 0.0, 0.0, 0.0, 0.0, 0.0, 0.0, 0.0, 0.0], [0.7720993757247925, 0.0015415075467899442, 0.0006796927191317081, 0.0008373321616090834, 0.0011916686780750751, 0.0012436582474038005, 0.012213421985507011, 0.0019155803602188826, 0.006421404890716076, 0.007669358514249325, 0.0062856110744178295, 0.0030854076612740755, 0.0008012966136448085, 0.00017300728359259665, 0.003513988107442856, 0.0006435111863538623, 0.0012683359673246741, 0.0019142810488119721, 0.00021304056281223893, 0.0006293486803770065, 0.00045729492558166385, 0.0005930432234890759, 0.0002802096423693001, 0.005596550181508064, 0.0020594822708517313, 0.002681344049051404, 0.015349922701716423, 0.002741479780524969, 0.0024194996803998947, 0.021288221701979637, 0.0930466502904892, 0.02914557419717312, 0.0, 0.0, 0.0, 0.0, 0.0, 0.0, 0.0, 0.0, 0.0, 0.0, 0.0, 0.0, 0.0], [0.5432313084602356, 0.001032433588989079, 0.0005192615790292621, 0.0006035816040821373, 0.0001346493954770267, 0.0003851235960610211, 0.0027515210676938295, 0.00553957698866725, 0.06502684205770493, 0.01623522862792015, 0.006494958885014057, 0.002092865528538823, 0.002680085599422455, 0.0005251234979368746, 0.0020409130956977606, 0.00137714936863631, 0.005558257456868887, 0.0029297962319105864, 0.0006301781977526844, 0.0012668389827013016, 0.00029115297365933657, 0.0007241777493618429, 0.0004788600199390203, 0.0064025563187897205, 0.0016880815383046865, 0.0016784523613750935, 0.0077399564906954765, 0.00038150206091813743, 0.001551724737510085, 0.004697639960795641, 0.12278024107217789, 0.12992802262306213, 0.06060197576880455, 0.0, 0.0, 0.0, 0.0, 0.0, 0.0, 0.0, 0.0, 0.0, 0.0, 0.0, 0.0], [0.474247008562088, 0.006286845542490482, 0.0021207088138908148, 0.004971497226506472, 0.0037993418518453836, 0.015021909959614277, 0.0072785341180861, 0.004520555958151817, 0.02179834432899952, 0.01997491344809532, 0.022077295929193497, 0.015013582073152065, 0.006826603785157204, 0.005647796206176281, 0.005297478754073381, 0.0035542058758437634, 0.0089044738560915, 0.007378911599516869, 0.0033949045464396477, 0.016207367181777954, 0.006636914797127247, 0.012654216960072517, 0.0057631563395261765, 0.025352448225021362, 0.03472096472978592, 0.014437607489526272, 0.016299106180667877, 0.005015166942030191, 0.028846466913819313, 0.019289176911115646, 0.030297763645648956, 0.045815449208021164, 0.02237214893102646, 0.07817704230546951, 0.0, 0.0, 0.0, 0.0, 0.0, 0.0, 0.0, 0.0, 0.0, 0.0, 0.0], [0.27824002504348755, 0.01079037319868803, 0.004392972681671381, 0.0044159130193293095, 0.015526975505053997, 0.04499608650803566, 0.003381167771294713, 0.002127234125509858, 0.007908793166279793, 0.009530284442007542, 0.06834200769662857, 0.03260532021522522, 0.05715404078364372, 0.11882221698760986, 0.006717436946928501, 0.003740409854799509, 0.009237200953066349, 0.008442739956080914, 0.04869848117232323, 0.027919352054595947, 0.010163670405745506, 0.023997880518436432, 0.02256871946156025, 0.011930552311241627, 0.030572468414902687, 0.010233920998871326, 0.0030175172723829746, 0.003705119714140892, 0.016078777611255646, 0.0068596042692661285, 0.0017433464527130127, 0.0034458006266504526, 0.006662874482572079, 0.06015463173389435, 0.025876089930534363, 0.0, 0.0, 0.0, 0.0, 0.0, 0.0, 0.0, 0.0, 0.0, 0.0], [0.12069527804851532, 0.0009188498370349407, 0.00020727876108139753, 0.0005384483956731856, 0.0010300467256456614, 0.0044918847270309925, 0.015944553539156914, 0.0013086549006402493, 0.005679090972989798, 0.01572616770863533, 0.0331377238035202, 0.008237152360379696, 0.039880767464637756, 0.018741898238658905, 0.0440552681684494, 0.01717241294682026, 0.04161100834608078, 0.036897189915180206, 0.16051600873470306, 0.15698762238025665, 0.030328216031193733, 0.003828825429081917, 0.0018010255880653858, 0.0026698848232626915, 0.0903138518333435, 0.014717048965394497, 0.0042304289527237415, 0.001260194112546742, 0.009693360887467861, 0.010309243574738503, 0.018815862014889717, 0.0008233017288148403, 0.005221414379775524, 0.040397077798843384, 0.016124285757541656, 0.025688622146844864, 0.0, 0.0, 0.0, 0.0, 0.0, 0.0, 0.0, 0.0, 0.0], [0.2409379929304123, 0.0019585213158279657, 0.00029790750704705715, 0.0003870586515404284, 0.001000239048153162, 0.004081550985574722, 0.021310240030288696, 0.001151843462139368, 0.009080386720597744, 0.035702887922525406, 0.023893123492598534, 0.00976859126240015, 0.01801038160920143, 0.020925914868712425, 0.017209306359291077, 0.0061763618141412735, 0.01341569609940052, 0.02846836857497692, 0.00575649831444025, 0.02483198046684265, 0.007476752158254385, 0.014830510132014751, 0.005372338462620974, 0.005149087402969599, 0.009094379842281342, 0.02326171100139618, 0.12416878342628479, 0.0320294052362442, 0.06767056882381439, 0.012838327325880527, 0.00800748635083437, 0.004308510571718216, 0.0087997792288661, 0.053124744445085526, 0.010460794903337955, 0.04806366562843323, 0.08097830414772034, 0.0, 0.0, 0.0, 0.0, 0.0, 0.0, 0.0, 0.0], [0.38286876678466797, 0.0024927647318691015, 0.0008191447122953832, 0.0011446947464719415, 0.0017509794561192393, 0.003715758677572012, 0.020295964553952217, 0.0024806675501167774, 0.059367988258600235, 0.04689803719520569, 0.01839997060596943, 0.003282188205048442, 0.008931329473853111, 0.0045960224233567715, 0.016333770006895065, 0.009289451874792576, 0.031269341707229614, 0.022652488201856613, 0.004515949636697769, 0.004353599157184362, 0.0037634081672877073, 0.007332939654588699, 0.0022860567551106215, 0.0023170597851276398, 0.010488573461771011, 0.011706404387950897, 0.05308990553021431, 0.00853398535400629, 0.016153162345290184, 0.014647131785750389, 0.027468223124742508, 0.007740562316030264, 0.014112766832113266, 0.01999668963253498, 0.0027401172555983067, 0.027046354487538338, 0.08790422976016998, 0.037213556468486786, 0.0, 0.0, 0.0, 0.0, 0.0, 0.0, 0.0], [0.42610061168670654, 0.002804758958518505, 0.0008864093106240034, 0.001453340402804315, 0.004237809218466282, 0.004422395024448633, 0.019566159695386887, 0.006484670098870993, 0.053636353462934494, 0.035280801355838776, 0.019737031310796738, 0.004358310252428055, 0.009899419732391834, 0.007534759119153023, 0.01853509061038494, 0.0073769171722233295, 0.02262653037905693, 0.010160833597183228, 0.0056593939661979675, 0.0032203260343521833, 0.004685716703534126, 0.010282300412654877, 0.001757121179252863, 0.0039346953853964806, 0.012062336318194866, 0.0077413637191057205, 0.054900795221328735, 0.01653972454369068, 0.01258949376642704, 0.021159660071134567, 0.024406468495726585, 0.019458644092082977, 0.02306138165295124, 0.03944002836942673, 0.003351788269355893, 0.006152295507490635, 0.04038117453455925, 0.019870955497026443, 0.01424206793308258, 0.0, 0.0, 0.0, 0.0, 0.0, 0.0], [0.42637285590171814, 0.00371839152649045, 0.000946599233429879, 0.00235199136659503, 0.0002955459349323064, 0.0009564955253154039, 0.005405867472290993, 0.00016219433746300638, 0.013845627196133137, 0.011805610731244087, 0.013805876486003399, 0.007591945584863424, 0.008285850286483765, 0.0032623664010316133, 0.005582161247730255, 0.0005407480639405549, 0.005625889170914888, 0.005228186026215553, 0.0013014604337513447, 0.002399211982265115, 0.0028926872182637453, 0.006348566617816687, 0.0008081066771410406, 0.018437707796692848, 0.0015279405051842332, 0.007416594307869673, 0.014522995799779892, 0.041943103075027466, 0.06553738564252853, 0.010324178263545036, 0.01827365718781948, 0.022585637867450714, 0.029188038781285286, 0.043173279613256454, 0.00444992259144783, 0.00038232223596423864, 0.03294873610138893, 0.06325861811637878, 0.023635344579815865, 0.07286033034324646, 0.0, 0.0, 0.0, 0.0, 0.0], [0.49969321489334106, 0.0033613306004554033, 0.0012803843710571527, 0.0027513059321790934, 0.0015847153263166547, 0.0058422083966434, 0.04176919907331467, 0.001616058754734695, 0.010797037743031979, 0.017242522910237312, 0.02329864539206028, 0.008443170227110386, 0.0068006375804543495, 0.0012481147423386574, 0.02022387646138668, 0.005935353692620993, 0.005963034927845001, 0.013778582215309143, 0.005362403113394976, 0.003483859123662114, 0.005304055288434029, 0.0012228679843246937, 0.0013741614529863, 0.0028580916114151478, 0.007640760857611895, 0.0055108098313212395, 0.0056259892880916595, 0.0005529651534743607, 0.00521698547527194, 0.053516462445259094, 0.022252507507801056, 0.021308360621333122, 0.01156624685972929, 0.019698617979884148, 0.0059490809217095375, 0.06831710785627365, 0.019121896475553513, 0.01787130907177925, 0.009095964021980762, 0.009381595067679882, 0.02613857015967369, 0.0, 0.0, 0.0, 0.0], [0.26370877027511597, 0.002700420096516609, 0.00048026168951764703, 0.0015278295613825321, 0.0011892622569575906, 0.008125090971589088, 0.09448516368865967, 0.007104999851435423, 0.008648194372653961, 0.013913488015532494, 0.05278369411826134, 0.004995743744075298, 0.0029760519973933697, 0.0030241769272834063, 0.03653065115213394, 0.006912761367857456, 0.003671107115224004, 0.009153908118605614, 0.01080369669944048, 0.006885315291583538, 0.009497295133769512, 0.0017320421757176518, 0.0018385573057457805, 0.001968636177480221, 0.025228846818208694, 0.008736612275242805, 0.002878983970731497, 0.0006478214636445045, 0.0044948384165763855, 0.05450725927948952, 0.018985237926244736, 0.019976450130343437, 0.008521636947989464, 0.023532263934612274, 0.003432869678363204, 0.16733630001544952, 0.024552924558520317, 0.02183256484568119, 0.008265700191259384, 0.0028118579648435116, 0.03939713165163994, 0.010203578509390354, 0.0, 0.0, 0.0], [0.14752158522605896, 0.0012096622958779335, 0.0005957776447758079, 0.001610585255548358, 0.00307723181322217, 0.019760223105549812, 0.03432779386639595, 0.004722153767943382, 0.08804161846637726, 0.02078658901154995, 0.03152661770582199, 0.002269113203510642, 0.00542873190715909, 0.0013106289552524686, 0.020547788590192795, 0.005783728789538145, 0.017337536439299583, 0.01171100977808237, 0.006044779904186726, 0.0028060576878488064, 0.006052290555089712, 0.0022446555085480213, 0.002058636397123337, 0.0013796569546684623, 0.02307620830833912, 0.008739512413740158, 0.023259786888957024, 0.0028241800609976053, 0.010980785824358463, 0.01590050384402275, 0.034854743629693985, 0.045518796890974045, 0.02479337714612484, 0.022577015683054924, 0.0013195177307352424, 0.10652387887239456, 0.09975234419107437, 0.028062056750059128, 0.014425384812057018, 0.02261981926858425, 0.046143535524606705, 0.010124369524419308, 0.02034982293844223, 0.0, 0.0], [0.07841544598340988, 0.0012347395531833172, 0.0004731924564111978, 0.0011483810376375914, 0.002274091588333249, 0.015372146852314472, 0.0151918213814497, 0.010255836881697178, 0.04311736300587654, 0.03743189945816994, 0.03595215827226639, 0.002683413913473487, 0.010050496086478233, 0.005208461545407772, 0.0125510785728693, 0.00557826878502965, 0.009332496672868729, 0.015267881564795971, 0.007423651870340109, 0.004873277153819799, 0.0057166568003594875, 0.0030555783305317163, 0.002876308746635914, 0.0016333198873326182, 0.014045432209968567, 0.007910042069852352, 0.016278080642223358, 0.001343424548394978, 0.008049183525145054, 0.007211357355117798, 0.03302047774195671, 0.04576573520898819, 0.02016458287835121, 0.036902349442243576, 0.002321882639080286, 0.20271261036396027, 0.13708126544952393, 0.03529537469148636, 0.010881687514483929, 0.012018948793411255, 0.028164153918623924, 0.010454556904733181, 0.013035103678703308, 0.030225802212953568, 0.0], [0.25213295221328735, 0.0022439404856413603, 0.0006766959559172392, 0.0008372128359042108, 0.00013127372949384153, 0.0004340355226304382, 0.002387411892414093, 0.001894929795525968, 0.028742583468556404, 0.026447072625160217, 0.013991503976285458, 0.005399520043283701, 0.040925513952970505, 0.009802295826375484, 0.003709223819896579, 0.004391019698232412, 0.01611384004354477, 0.020755402743816376, 0.006548300851136446, 0.0253598615527153, 0.0018990953685715795, 0.0032728540245443583, 0.010707913897931576, 0.006048937793821096, 0.0037698191590607166, 0.008318372070789337, 0.011614158749580383, 0.0006858623237349093, 0.007595175411552191, 0.00912797637283802, 0.0012609490659087896, 0.0030300854705274105, 0.005989587400108576, 0.017117680981755257, 0.006739953998476267, 0.10705075412988663, 0.03856907784938812, 0.10499053448438644, 0.023751815780997276, 0.017118657007813454, 0.005764852277934551, 0.009945242665708065, 0.025436582043766975, 0.041606105864048004, 0.06566344201564789]], [[1.0, 0.0, 0.0, 0.0, 0.0, 0.0, 0.0, 0.0, 0.0, 0.0, 0.0, 0.0, 0.0, 0.0, 0.0, 0.0, 0.0, 0.0, 0.0, 0.0, 0.0, 0.0, 0.0, 0.0, 0.0, 0.0, 0.0, 0.0, 0.0, 0.0, 0.0, 0.0, 0.0, 0.0, 0.0, 0.0, 0.0, 0.0, 0.0, 0.0, 0.0, 0.0, 0.0, 0.0, 0.0], [0.8650148510932922, 0.13498511910438538, 0.0, 0.0, 0.0, 0.0, 0.0, 0.0, 0.0, 0.0, 0.0, 0.0, 0.0, 0.0, 0.0, 0.0, 0.0, 0.0, 0.0, 0.0, 0.0, 0.0, 0.0, 0.0, 0.0, 0.0, 0.0, 0.0, 0.0, 0.0, 0.0, 0.0, 0.0, 0.0, 0.0, 0.0, 0.0, 0.0, 0.0, 0.0, 0.0, 0.0, 0.0, 0.0, 0.0], [0.9068539142608643, 0.04850979894399643, 0.044636305421590805, 0.0, 0.0, 0.0, 0.0, 0.0, 0.0, 0.0, 0.0, 0.0, 0.0, 0.0, 0.0, 0.0, 0.0, 0.0, 0.0, 0.0, 0.0, 0.0, 0.0, 0.0, 0.0, 0.0, 0.0, 0.0, 0.0, 0.0, 0.0, 0.0, 0.0, 0.0, 0.0, 0.0, 0.0, 0.0, 0.0, 0.0, 0.0, 0.0, 0.0, 0.0, 0.0], [0.8415050506591797, 0.04072204604744911, 0.007417559623718262, 0.11035528033971786, 0.0, 0.0, 0.0, 0.0, 0.0, 0.0, 0.0, 0.0, 0.0, 0.0, 0.0, 0.0, 0.0, 0.0, 0.0, 0.0, 0.0, 0.0, 0.0, 0.0, 0.0, 0.0, 0.0, 0.0, 0.0, 0.0, 0.0, 0.0, 0.0, 0.0, 0.0, 0.0, 0.0, 0.0, 0.0, 0.0, 0.0, 0.0, 0.0, 0.0, 0.0], [0.8441889882087708, 0.01921931840479374, 0.012764407321810722, 0.0482749305665493, 0.07555249333381653, 0.0, 0.0, 0.0, 0.0, 0.0, 0.0, 0.0, 0.0, 0.0, 0.0, 0.0, 0.0, 0.0, 0.0, 0.0, 0.0, 0.0, 0.0, 0.0, 0.0, 0.0, 0.0, 0.0, 0.0, 0.0, 0.0, 0.0, 0.0, 0.0, 0.0, 0.0, 0.0, 0.0, 0.0, 0.0, 0.0, 0.0, 0.0, 0.0, 0.0], [0.7163638472557068, 0.011067730374634266, 0.006721247918903828, 0.03688838705420494, 0.05769024044275284, 0.17126844823360443, 0.0, 0.0, 0.0, 0.0, 0.0, 0.0, 0.0, 0.0, 0.0, 0.0, 0.0, 0.0, 0.0, 0.0, 0.0, 0.0, 0.0, 0.0, 0.0, 0.0, 0.0, 0.0, 0.0, 0.0, 0.0, 0.0, 0.0, 0.0, 0.0, 0.0, 0.0, 0.0, 0.0, 0.0, 0.0, 0.0, 0.0, 0.0, 0.0], [0.9422164559364319, 0.01057171355932951, 0.0017023326363414526, 0.003869919339194894, 0.002807901008054614, 0.02483946457505226, 0.013992181047797203, 0.0, 0.0, 0.0, 0.0, 0.0, 0.0, 0.0, 0.0, 0.0, 0.0, 0.0, 0.0, 0.0, 0.0, 0.0, 0.0, 0.0, 0.0, 0.0, 0.0, 0.0, 0.0, 0.0, 0.0, 0.0, 0.0, 0.0, 0.0, 0.0, 0.0, 0.0, 0.0, 0.0, 0.0, 0.0, 0.0, 0.0, 0.0], [0.9326058626174927, 0.01066211611032486, 0.0008978088735602796, 0.0010036090388894081, 0.0006635304307565093, 0.003660744521766901, 0.002581359352916479, 0.047925010323524475, 0.0, 0.0, 0.0, 0.0, 0.0, 0.0, 0.0, 0.0, 0.0, 0.0, 0.0, 0.0, 0.0, 0.0, 0.0, 0.0, 0.0, 0.0, 0.0, 0.0, 0.0, 0.0, 0.0, 0.0, 0.0, 0.0, 0.0, 0.0, 0.0, 0.0, 0.0, 0.0, 0.0, 0.0, 0.0, 0.0, 0.0], [0.9481056332588196, 0.014272426255047321, 0.0006114235729910433, 0.002716366434469819, 0.0023333015851676464, 0.00587152224034071, 0.013715504668653011, 0.006615927908569574, 0.0057579511776566505, 0.0, 0.0, 0.0, 0.0, 0.0, 0.0, 0.0, 0.0, 0.0, 0.0, 0.0, 0.0, 0.0, 0.0, 0.0, 0.0, 0.0, 0.0, 0.0, 0.0, 0.0, 0.0, 0.0, 0.0, 0.0, 0.0, 0.0, 0.0, 0.0, 0.0, 0.0, 0.0, 0.0, 0.0, 0.0, 0.0], [0.8396247625350952, 0.004596178885549307, 0.0005039857933297753, 0.0013812931720167398, 0.002084477338939905, 0.004280293360352516, 0.00813284795731306, 0.010376973077654839, 0.012921497225761414, 0.11609765887260437, 0.0, 0.0, 0.0, 0.0, 0.0, 0.0, 0.0, 0.0, 0.0, 0.0, 0.0, 0.0, 0.0, 0.0, 0.0, 0.0, 0.0, 0.0, 0.0, 0.0, 0.0, 0.0, 0.0, 0.0, 0.0, 0.0, 0.0, 0.0, 0.0, 0.0, 0.0, 0.0, 0.0, 0.0, 0.0], [0.6432139277458191, 0.0386432521045208, 0.006230177823454142, 0.0217979084700346, 0.048206157982349396, 0.05925185605883598, 0.024631302803754807, 0.004343476612120867, 0.014660507440567017, 0.0280328169465065, 0.11098858714103699, 0.0, 0.0, 0.0, 0.0, 0.0, 0.0, 0.0, 0.0, 0.0, 0.0, 0.0, 0.0, 0.0, 0.0, 0.0, 0.0, 0.0, 0.0, 0.0, 0.0, 0.0, 0.0, 0.0, 0.0, 0.0, 0.0, 0.0, 0.0, 0.0, 0.0, 0.0, 0.0, 0.0, 0.0], [0.7459666728973389, 0.025889847427606583, 0.003128215204924345, 0.008715072646737099, 0.008670452050864697, 0.01662008836865425, 0.009800993837416172, 0.00289814081043005, 0.0064768255688250065, 0.013843923807144165, 0.036563802510499954, 0.12142588943243027, 0.0, 0.0, 0.0, 0.0, 0.0, 0.0, 0.0, 0.0, 0.0, 0.0, 0.0, 0.0, 0.0, 0.0, 0.0, 0.0, 0.0, 0.0, 0.0, 0.0, 0.0, 0.0, 0.0, 0.0, 0.0, 0.0, 0.0, 0.0, 0.0, 0.0, 0.0, 0.0, 0.0], [0.6317548155784607, 0.016501186415553093, 0.0013853076379746199, 0.0027513806708157063, 0.0036568271461874247, 0.009064719080924988, 0.031850408762693405, 0.0038257872220128775, 0.008812196552753448, 0.010802001692354679, 0.019172411412000656, 0.019551550969481468, 0.2408713549375534, 0.0, 0.0, 0.0, 0.0, 0.0, 0.0, 0.0, 0.0, 0.0, 0.0, 0.0, 0.0, 0.0, 0.0, 0.0, 0.0, 0.0, 0.0, 0.0, 0.0, 0.0, 0.0, 0.0, 0.0, 0.0, 0.0, 0.0, 0.0, 0.0, 0.0, 0.0, 0.0], [0.7010818123817444, 0.005774871911853552, 0.0029463530518114567, 0.0013966051628813148, 0.0015882686711847782, 0.00461174501106143, 0.005183598957955837, 0.0035899148788303137, 0.006357253063470125, 0.0030596961732953787, 0.01011874433606863, 0.05888402462005615, 0.024298816919326782, 0.17110826075077057, 0.0, 0.0, 0.0, 0.0, 0.0, 0.0, 0.0, 0.0, 0.0, 0.0, 0.0, 0.0, 0.0, 0.0, 0.0, 0.0, 0.0, 0.0, 0.0, 0.0, 0.0, 0.0, 0.0, 0.0, 0.0, 0.0, 0.0, 0.0, 0.0, 0.0, 0.0], [0.8427945375442505, 0.008392909541726112, 0.0021255731116980314, 0.0021274194587022066, 0.0013691396452486515, 0.01525102648884058, 0.005977846682071686, 0.00620387215167284, 0.004385901615023613, 0.009860540740191936, 0.01612251065671444, 0.0207535233348608, 0.033540837466716766, 0.008817531168460846, 0.022276941686868668, 0.0, 0.0, 0.0, 0.0, 0.0, 0.0, 0.0, 0.0, 0.0, 0.0, 0.0, 0.0, 0.0, 0.0, 0.0, 0.0, 0.0, 0.0, 0.0, 0.0, 0.0, 0.0, 0.0, 0.0, 0.0, 0.0, 0.0, 0.0, 0.0, 0.0], [0.7629832625389099, 0.008480222895741463, 0.0011663093464449048, 0.0017803158843889832, 0.002537625143304467, 0.007841888815164566, 0.002789432881399989, 0.022310420870780945, 0.011296498589217663, 0.023083314299583435, 0.019431529566645622, 0.010216607712209225, 0.007458430249243975, 0.008618619292974472, 0.011901399120688438, 0.09810412675142288, 0.0, 0.0, 0.0, 0.0, 0.0, 0.0, 0.0, 0.0, 0.0, 0.0, 0.0, 0.0, 0.0, 0.0, 0.0, 0.0, 0.0, 0.0, 0.0, 0.0, 0.0, 0.0, 0.0, 0.0, 0.0, 0.0, 0.0, 0.0, 0.0], [0.7597154378890991, 0.008090808056294918, 0.0012283509131520987, 0.0031204076949507, 0.004850791767239571, 0.009154841303825378, 0.007977485656738281, 0.004305636510252953, 0.008830104023218155, 0.020398711785674095, 0.012866268865764141, 0.007222490385174751, 0.026879996061325073, 0.003933518659323454, 0.03278113529086113, 0.024059327319264412, 0.06458469480276108, 0.0, 0.0, 0.0, 0.0, 0.0, 0.0, 0.0, 0.0, 0.0, 0.0, 0.0, 0.0, 0.0, 0.0, 0.0, 0.0, 0.0, 0.0, 0.0, 0.0, 0.0, 0.0, 0.0, 0.0, 0.0, 0.0, 0.0, 0.0], [0.6407888531684875, 0.003285760525614023, 0.0009201716165989637, 0.0018835922237485647, 0.003107782220467925, 0.004720257129520178, 0.005182517692446709, 0.0058580320328474045, 0.013136116787791252, 0.04475748538970947, 0.014899702742695808, 0.006778330076485872, 0.017281068488955498, 0.002155781490728259, 0.02293933555483818, 0.029024025425314903, 0.05922685191035271, 0.12405434995889664, 0.0, 0.0, 0.0, 0.0, 0.0, 0.0, 0.0, 0.0, 0.0, 0.0, 0.0, 0.0, 0.0, 0.0, 0.0, 0.0, 0.0, 0.0, 0.0, 0.0, 0.0, 0.0, 0.0, 0.0, 0.0, 0.0, 0.0], [0.6587747931480408, 0.019926076754927635, 0.006993473507463932, 0.005805776920169592, 0.0010769643122330308, 0.002889418276026845, 0.012354245409369469, 0.003913148306310177, 0.006176599767059088, 0.007846572436392307, 0.0191778764128685, 0.04861099272966385, 0.04334421455860138, 0.004510556813329458, 0.03991854563355446, 0.013086587190628052, 0.020962858572602272, 0.022597771137952805, 0.06203339993953705, 0.0, 0.0, 0.0, 0.0, 0.0, 0.0, 0.0, 0.0, 0.0, 0.0, 0.0, 0.0, 0.0, 0.0, 0.0, 0.0, 0.0, 0.0, 0.0, 0.0, 0.0, 0.0, 0.0, 0.0, 0.0, 0.0], [0.7087430357933044, 0.010398917831480503, 0.0024028574116528034, 0.0033464410807937384, 0.00038329081144183874, 0.002243812195956707, 0.009480814449489117, 0.0012020883150398731, 0.0033797132782638073, 0.0018440047279000282, 0.011230011470615864, 0.02827487513422966, 0.007430283352732658, 0.0038393817376345396, 0.024243205785751343, 0.00392921594902873, 0.009614190086722374, 0.0059746322222054005, 0.02392212487757206, 0.13811706006526947, 0.0, 0.0, 0.0, 0.0, 0.0, 0.0, 0.0, 0.0, 0.0, 0.0, 0.0, 0.0, 0.0, 0.0, 0.0, 0.0, 0.0, 0.0, 0.0, 0.0, 0.0, 0.0, 0.0, 0.0, 0.0], [0.756151020526886, 0.010277505032718182, 0.008286667987704277, 0.017021475359797478, 0.0024641137570142746, 0.011060687713325024, 0.006250188685953617, 0.0010081055806949735, 0.0024744693655520678, 0.0018631289713084698, 0.008203547447919846, 0.018787693232297897, 0.00975712202489376, 0.0018180102342739701, 0.016115324571728706, 0.0028290902264416218, 0.009000889956951141, 0.004785316996276379, 0.010089260526001453, 0.028325701132416725, 0.07343075424432755, 0.0, 0.0, 0.0, 0.0, 0.0, 0.0, 0.0, 0.0, 0.0, 0.0, 0.0, 0.0, 0.0, 0.0, 0.0, 0.0, 0.0, 0.0, 0.0, 0.0, 0.0, 0.0, 0.0, 0.0], [0.8571932315826416, 0.005984703544527292, 0.0022255992516875267, 0.00551614910364151, 0.0011741670314222574, 0.006445484235882759, 0.0068082488141953945, 0.0005348339909687638, 0.001754740602336824, 0.002169439336284995, 0.010988329537212849, 0.00896152202039957, 0.019430702552199364, 0.0010361612075939775, 0.011689410544931889, 0.0013360187876969576, 0.004339960869401693, 0.0036026646848767996, 0.0006634126184508204, 0.004704748746007681, 0.005046541336923838, 0.03839395195245743, 0.0, 0.0, 0.0, 0.0, 0.0, 0.0, 0.0, 0.0, 0.0, 0.0, 0.0, 0.0, 0.0, 0.0, 0.0, 0.0, 0.0, 0.0, 0.0, 0.0, 0.0, 0.0, 0.0], [0.8519145846366882, 0.007722495589405298, 0.0013955376343801618, 0.0023939998354762793, 0.0006310347816906869, 0.00447127316147089, 0.006417000200599432, 0.0019431940745562315, 0.004740904085338116, 0.0018694946775212884, 0.011898461729288101, 0.014709518291056156, 0.009699449874460697, 0.0027927528135478497, 0.008274665102362633, 0.002530577126890421, 0.005926938261836767, 0.002030743286013603, 0.0015123027842491865, 0.007911554537713528, 0.004836010280996561, 0.017071131616830826, 0.027306323871016502, 0.0, 0.0, 0.0, 0.0, 0.0, 0.0, 0.0, 0.0, 0.0, 0.0, 0.0, 0.0, 0.0, 0.0, 0.0, 0.0, 0.0, 0.0, 0.0, 0.0, 0.0, 0.0], [0.6798903942108154, 0.007240463979542255, 0.004414692055433989, 0.006118502933532, 0.0017997416434809566, 0.005174519028514624, 0.0068023535422980785, 0.0015698785427957773, 0.0013414692366495728, 0.0006638452759943902, 0.011523597873747349, 0.012612473219633102, 0.005512755364179611, 0.002832079539075494, 0.012615764513611794, 0.0028938581235706806, 0.0026787547394633293, 0.0017018279759213328, 0.0030604228377342224, 0.04239358752965927, 0.013779575936496258, 0.013786193914711475, 0.013142060488462448, 0.14645114541053772, 0.0, 0.0, 0.0, 0.0, 0.0, 0.0, 0.0, 0.0, 0.0, 0.0, 0.0, 0.0, 0.0, 0.0, 0.0, 0.0, 0.0, 0.0, 0.0, 0.0, 0.0], [0.6796170473098755, 0.005186595022678375, 0.001696399413049221, 0.009833247400820255, 0.0004045604437123984, 0.0053804730996489525, 0.009119171649217606, 0.0011542937718331814, 0.0072896238416433334, 0.002735495800152421, 0.0158134326338768, 0.01702333241701126, 0.013465281575918198, 0.0010516210459172726, 0.008799507282674313, 0.0029236068949103355, 0.010899869725108147, 0.00520789809525013, 0.006307794712483883, 0.07261025905609131, 0.01610269583761692, 0.001936705899424851, 0.002237608889117837, 0.031753767281770706, 0.0714496597647667, 0.0, 0.0, 0.0, 0.0, 0.0, 0.0, 0.0, 0.0, 0.0, 0.0, 0.0, 0.0, 0.0, 0.0, 0.0, 0.0, 0.0, 0.0, 0.0, 0.0], [0.7285492420196533, 0.0028471089899539948, 0.0003592848079279065, 0.004462798126041889, 0.0002142258599633351, 0.0011890006717294455, 0.01383022777736187, 0.0011453344486653805, 0.003897915594279766, 0.0021199816837906837, 0.006204783916473389, 0.0037404182367026806, 0.011689811944961548, 0.0010167075088247657, 0.00901520811021328, 0.0038409659173339605, 0.005870421417057514, 0.004480978474020958, 0.0013633448397740722, 0.007506381720304489, 0.0026109502650797367, 0.0010450206464156508, 0.001672530546784401, 0.013957847841084003, 0.019013354554772377, 0.14835619926452637, 0.0, 0.0, 0.0, 0.0, 0.0, 0.0, 0.0, 0.0, 0.0, 0.0, 0.0, 0.0, 0.0, 0.0, 0.0, 0.0, 0.0, 0.0, 0.0], [0.5976319909095764, 0.006579401902854443, 0.0008484322461299598, 0.004305460024625063, 0.001041823998093605, 0.003021524054929614, 0.008804884739220142, 0.002088853856548667, 0.012821551412343979, 0.010963978245854378, 0.01270254049450159, 0.012371022254228592, 0.024327270686626434, 0.007536864373832941, 0.00838822964578867, 0.002963045844808221, 0.012245801277458668, 0.007117843721061945, 0.0028001591563224792, 0.009620784781873226, 0.003901285119354725, 0.005229019559919834, 0.003766416572034359, 0.011419782415032387, 0.059146132320165634, 0.05522463470697403, 0.11313119530677795, 0.0, 0.0, 0.0, 0.0, 0.0, 0.0, 0.0, 0.0, 0.0, 0.0, 0.0, 0.0, 0.0, 0.0, 0.0, 0.0, 0.0, 0.0], [0.4449072480201721, 0.005466114729642868, 0.0014813123270869255, 0.003178715705871582, 0.0008769046980887651, 0.0012277066707611084, 0.016124621033668518, 0.0025032619014382362, 0.022249599918723106, 0.010838561691343784, 0.012068104930222034, 0.009705659002065659, 0.01046442799270153, 0.0018311042804270983, 0.00891823135316372, 0.0032583430875092745, 0.0163972619920969, 0.0068398285657167435, 0.005189155228435993, 0.015477191656827927, 0.006237661000341177, 0.006257758010178804, 0.0032028111163526773, 0.01013700757175684, 0.10040692985057831, 0.06646728515625, 0.14797216653823853, 0.06031505763530731, 0.0, 0.0, 0.0, 0.0, 0.0, 0.0, 0.0, 0.0, 0.0, 0.0, 0.0, 0.0, 0.0, 0.0, 0.0, 0.0, 0.0], [0.5679557919502258, 0.0008741092751733959, 0.0002960878482554108, 0.0011919245589524508, 0.0002442857949063182, 0.0027350508607923985, 0.003203430911526084, 0.0006824870361015201, 0.002251697238534689, 0.0013593712355941534, 0.0038625169545412064, 0.005290805362164974, 0.0013369369553402066, 0.0019436842994764447, 0.0033738131169229746, 0.0011319293407723308, 0.0031495150178670883, 0.0024594373535364866, 0.0026561454869806767, 0.01724965125322342, 0.003961849957704544, 0.00043722931877709925, 0.0007500405772589147, 0.010860112495720387, 0.03634214773774147, 0.023530468344688416, 0.02843419648706913, 0.029999734833836555, 0.242435485124588, 0.0, 0.0, 0.0, 0.0, 0.0, 0.0, 0.0, 0.0, 0.0, 0.0, 0.0, 0.0, 0.0, 0.0, 0.0, 0.0], [0.7895521521568298, 0.0013155523920431733, 0.00036462064599618316, 0.0006378654506988823, 0.0007819592719897628, 0.003266741754487157, 0.010021992027759552, 0.003250578884035349, 0.0006143718492239714, 0.0035208058543503284, 0.00855221040546894, 0.0023046275600790977, 0.00151610909961164, 0.0005214413977228105, 0.0042860847897827625, 0.0031649789307266474, 0.0010214508511126041, 0.0028892611153423786, 0.001167943817563355, 0.002144421683624387, 0.000791380472946912, 0.00017772309365682304, 0.0006420729914680123, 0.0037987425457686186, 0.004680989310145378, 0.01143734622746706, 0.00433307746425271, 0.014712431468069553, 0.023602483794093132, 0.09492850303649902, 0.0, 0.0, 0.0, 0.0, 0.0, 0.0, 0.0, 0.0, 0.0, 0.0, 0.0, 0.0, 0.0, 0.0, 0.0], [0.8966079354286194, 0.002399235498160124, 0.00034888883237726986, 0.00048764020903036, 0.00029218997224234045, 0.0004961444064974785, 0.0032883931417018175, 0.0031163275707513094, 0.0022499333135783672, 0.0083297248929739, 0.006541419308632612, 0.002121041528880596, 0.003577281953766942, 0.001268459134735167, 0.002859187312424183, 0.0027996785938739777, 0.0029616307001560926, 0.005824215244501829, 0.0036978020798414946, 0.0012096676509827375, 0.0006970221293158829, 0.00011102874123025686, 0.00035310524981468916, 0.0009571093250997365, 0.004036673344671726, 0.0028705750592052937, 0.0038374054711312056, 0.003263109363615513, 0.004032638855278492, 0.007761770393699408, 0.02160279080271721, 0.0, 0.0, 0.0, 0.0, 0.0, 0.0, 0.0, 0.0, 0.0, 0.0, 0.0, 0.0, 0.0, 0.0], [0.8019118905067444, 0.002070910995826125, 0.00028246711008250713, 0.0005512316129170358, 0.000276517792372033, 0.0008842558600008488, 0.0006679116631858051, 0.001737071666866541, 0.0014183244202286005, 0.006023456808179617, 0.006943861488252878, 0.002171561121940613, 0.0024324830155819654, 0.0017916567157953978, 0.0005606961203739047, 0.0012937906431034207, 0.0014070541365072131, 0.0037714936770498753, 0.0012486655032262206, 0.0034491114784032106, 0.000664559134747833, 0.00012623064685612917, 0.00030245818197727203, 0.0021258783526718616, 0.004970459267497063, 0.005480817519128323, 0.0021460887510329485, 0.0018934155814349651, 0.01348729245364666, 0.0050744651816785336, 0.013720788061618805, 0.10911310464143753, 0.0, 0.0, 0.0, 0.0, 0.0, 0.0, 0.0, 0.0, 0.0, 0.0, 0.0, 0.0, 0.0], [0.6825578808784485, 0.0014728093519806862, 0.0001689599739620462, 0.0004459430929273367, 0.0003453055687714368, 0.0009330367320217192, 0.002161232987418771, 0.0012377897510305047, 0.0016788895009085536, 0.018273189663887024, 0.00359213724732399, 0.0017211587401106954, 0.002035035053268075, 0.0004270917852409184, 0.0018897373229265213, 0.0013850978575646877, 0.0023450914304703474, 0.01074956078082323, 0.0016900365008041263, 0.006184827536344528, 0.0008977479883469641, 0.00020765315275639296, 0.0004583964473567903, 0.0016188322333618999, 0.001157061429694295, 0.0029472047463059425, 0.0032377897296100855, 0.0018588247476145625, 0.01236074510961771, 0.011253690347075462, 0.005450085736811161, 0.03553666174411774, 0.18172040581703186, 0.0, 0.0, 0.0, 0.0, 0.0, 0.0, 0.0, 0.0, 0.0, 0.0, 0.0, 0.0], [0.33752867579460144, 0.0043589873239398, 0.0004267017648089677, 0.000943766615819186, 0.0010282187722623348, 0.0015858178958296776, 0.0038202162832021713, 0.0005162645829841495, 0.0052952454425394535, 0.004313541576266289, 0.01614685170352459, 0.018615437671542168, 0.0057749152183532715, 0.004506655968725681, 0.010700204409658909, 0.0021481793373823166, 0.008895192295312881, 0.006406000815331936, 0.003188727656379342, 0.015376330353319645, 0.0010783792240545154, 0.0013924350496381521, 0.0016809407388791442, 0.01721012406051159, 0.008730159141123295, 0.011840173043310642, 0.015910282731056213, 0.016938388347625732, 0.03988908231258392, 0.015207651071250439, 0.014943277463316917, 0.011338913813233376, 0.018366852775216103, 0.37389740347862244, 0.0, 0.0, 0.0, 0.0, 0.0, 0.0, 0.0, 0.0, 0.0, 0.0, 0.0], [0.4270320534706116, 0.006465075071901083, 0.0011279636528342962, 0.001878167036920786, 0.0016829173546284437, 0.0020617174450308084, 0.0019727125763893127, 0.0007614981732331216, 0.0025607068091630936, 0.002349220449104905, 0.005848684813827276, 0.05092916265130043, 0.020027291029691696, 0.009961037896573544, 0.011298845522105694, 0.002605381654575467, 0.006042104214429855, 0.0053075579926371574, 0.005199455190449953, 0.02210024744272232, 0.0016611097380518913, 0.0043426137417554855, 0.0015634578885510564, 0.021092044189572334, 0.004769791848957539, 0.007234021555632353, 0.005670521408319473, 0.010100415907800198, 0.009471893310546875, 0.004117158241569996, 0.0037190294824540615, 0.002381029073148966, 0.0020511820912361145, 0.040414709597826004, 0.29419928789138794, 0.0, 0.0, 0.0, 0.0, 0.0, 0.0, 0.0, 0.0, 0.0, 0.0], [0.41120901703834534, 0.0026543608400970697, 0.0002893423370551318, 0.00039413876947946846, 0.00041450688149780035, 0.0006152243004180491, 0.002983418060466647, 0.0006065740599296987, 0.004339017905294895, 0.0024134593550115824, 0.005576020572334528, 0.01608975976705551, 0.019517967477440834, 0.004428092390298843, 0.011283868923783302, 0.002757749054580927, 0.01602638140320778, 0.007450533099472523, 0.014171652495861053, 0.011588814668357372, 0.0009704685071483254, 0.001007297309115529, 0.0008945474401116371, 0.0035739492159336805, 0.0036434936337172985, 0.004924792796373367, 0.005432440899312496, 0.0073457504622638226, 0.0038068736903369427, 0.0036184804048389196, 0.004015699494630098, 0.002039123559370637, 0.0028501655906438828, 0.029535429552197456, 0.09228096157312393, 0.29925063252449036, 0.0, 0.0, 0.0, 0.0, 0.0, 0.0, 0.0, 0.0, 0.0], [0.5924743413925171, 0.003841403406113386, 0.0007279448909685016, 0.0013001360930502415, 0.0005850462475791574, 0.00124136614613235, 0.003991478122770786, 0.0011532548815011978, 0.0022024428471922874, 0.0015198769979178905, 0.00395924923941493, 0.02344970405101776, 0.013035386800765991, 0.012528939172625542, 0.013736981898546219, 0.00249549001455307, 0.007193261757493019, 0.003144015558063984, 0.007556681055575609, 0.021559348329901695, 0.0014637779677286744, 0.0005804834072478116, 0.0007649249746464193, 0.003879689145833254, 0.00809999369084835, 0.009937480092048645, 0.011754211969673634, 0.014050646685063839, 0.010109434835612774, 0.004948925226926804, 0.0033423712011426687, 0.00326237129047513, 0.001599994138814509, 0.016331002116203308, 0.0743427723646164, 0.034306496381759644, 0.08352900296449661, 0.0, 0.0, 0.0, 0.0, 0.0, 0.0, 0.0, 0.0], [0.45958036184310913, 0.0009562631603330374, 0.0002954632800538093, 0.0004333157849032432, 0.00016476985183544457, 0.0004251746868249029, 0.001933768973685801, 0.00040882802568376064, 0.0013766716001555324, 0.0006682289531454444, 0.0021618276368826628, 0.0070911189541220665, 0.0022773602977395058, 0.007877462543547153, 0.0042047700844705105, 0.0006416842807084322, 0.001999716740101576, 0.0011347607942298055, 0.009800981730222702, 0.021340148523449898, 0.0015460632275789976, 0.00012634489394258708, 0.00019484756921883672, 0.006696752738207579, 0.013789080083370209, 0.008641544729471207, 0.012063998728990555, 0.009503818117082119, 0.027876166626811028, 0.0036496403627097607, 0.0029015722684562206, 0.0065609184093773365, 0.0016432820120826364, 0.013208468444645405, 0.021200057119131088, 0.012884529307484627, 0.0672273114323616, 0.2655129134654999, 0.0, 0.0, 0.0, 0.0, 0.0, 0.0, 0.0], [0.5436810851097107, 0.0012596965534612536, 0.0005144330207258463, 0.0008883178234100342, 0.001180535415187478, 0.0011089453473687172, 0.005589398089796305, 0.0006900427979417145, 0.0014342664508149028, 0.0024390423204749823, 0.0028390432707965374, 0.005019058007746935, 0.002948408480733633, 0.0015851350035518408, 0.0070616393350064754, 0.001511555863544345, 0.002227162476629019, 0.002878155093640089, 0.0026827163528651, 0.0032736186403781176, 0.000639003817923367, 0.0002964554587379098, 0.0006081884494051337, 0.00633365660905838, 0.008559749461710453, 0.011277802288532257, 0.00982759241014719, 0.011960288509726524, 0.013557338155806065, 0.016906365752220154, 0.00810727383941412, 0.007464970927685499, 0.0031198905780911446, 0.01896951161324978, 0.015586776658892632, 0.008705249056220055, 0.016128789633512497, 0.03495437651872635, 0.21618445217609406, 0.0, 0.0, 0.0, 0.0, 0.0, 0.0], [0.2951204180717468, 0.001289857435040176, 0.0006727961008436978, 0.0005134918028488755, 0.0007777459104545414, 0.0002551398065406829, 0.0014794219750910997, 0.0008136293618008494, 0.014507900923490524, 0.009240922518074512, 0.003769352100789547, 0.00443369522690773, 0.0035412153229117393, 0.004579178057610989, 0.0031149545684456825, 0.0012903279857710004, 0.009127489291131496, 0.005096182227134705, 0.005761852953583002, 0.007992726750671864, 0.0020254855044186115, 0.0016315600369125605, 0.0004978233482688665, 0.002938421443104744, 0.024092942476272583, 0.009961563162505627, 0.09976765513420105, 0.06432934105396271, 0.03523610904812813, 0.00475824810564518, 0.018609803169965744, 0.01567399874329567, 0.00707787973806262, 0.024184511974453926, 0.011094670742750168, 0.005254794843494892, 0.07717785239219666, 0.06805404275655746, 0.06305800378322601, 0.09119708836078644, 0.0, 0.0, 0.0, 0.0, 0.0], [0.5894967913627625, 0.0020226757042109966, 0.0010626238072291017, 0.0006789040053263307, 0.00034602812957018614, 0.0019579350482672453, 0.0009260409278795123, 0.000995773822069168, 0.002335638739168644, 0.002182616386562586, 0.0041093481704592705, 0.003730318509042263, 0.007081787567585707, 0.0042092506773769855, 0.00989348441362381, 0.005647646728903055, 0.012907660566270351, 0.008479905314743519, 0.01350158080458641, 0.020683104172348976, 0.003245642874389887, 0.0004948124988004565, 0.0002936110249720514, 0.004609780851751566, 0.0036254392471164465, 0.00869221705943346, 0.008365017361938953, 0.005057277623564005, 0.009285072796046734, 0.004391576629132032, 0.005955571308732033, 0.01218536589294672, 0.015037012286484241, 0.027486464008688927, 0.016890114173293114, 0.026681577786803246, 0.022575940936803818, 0.034800417721271515, 0.0307025033980608, 0.026193972676992416, 0.041181400418281555, 0.0, 0.0, 0.0, 0.0], [0.5995831489562988, 0.00343122030608356, 0.0006435763207264245, 0.0007420011097565293, 0.0007790813106112182, 0.0015416692476719618, 0.0006128334789536893, 0.006118895020335913, 0.004831460304558277, 0.00594720896333456, 0.006167706102132797, 0.002838361309841275, 0.002147268271073699, 0.004620295483618975, 0.00478805648162961, 0.039645060896873474, 0.03315647691488266, 0.03038063645362854, 0.01416681706905365, 0.007843240164220333, 0.0016072154976427555, 0.0005698821041733027, 0.0011136254761368036, 0.0014372671721503139, 0.00450241519138217, 0.0039298040792346, 0.0037079735193401575, 0.005992335733026266, 0.004400565288960934, 0.0015596308512613177, 0.008029083721339703, 0.02068733423948288, 0.019769711419939995, 0.011037684977054596, 0.007521812338382006, 0.011159303598105907, 0.010293101891875267, 0.012033361941576004, 0.00712910620495677, 0.0035944103728979826, 0.00847397930920124, 0.08146541565656662, 0.0, 0.0, 0.0], [0.5395988821983337, 0.002547291573137045, 0.0005820352816954255, 0.0009663570090197027, 0.0014177440898492932, 0.0013894488802179694, 0.0010082293301820755, 0.001033303327858448, 0.003178844228386879, 0.00407115463167429, 0.003282455261796713, 0.0013635390205308795, 0.006433318369090557, 0.002896049292758107, 0.012632661499083042, 0.010756440460681915, 0.032527051866054535, 0.0232209712266922, 0.005451020784676075, 0.00617287028580904, 0.0010604270501062274, 0.0005562480073422194, 0.00024364572891499847, 0.0009257190977223217, 0.0025601652450859547, 0.008434118703007698, 0.010951112024486065, 0.007060915697365999, 0.012174386531114578, 0.003580417949706316, 0.003887985832989216, 0.005370644386857748, 0.01436149887740612, 0.010200383141636848, 0.004947322886437178, 0.015029210597276688, 0.008771962486207485, 0.020161570981144905, 0.01371016539633274, 0.024938132613897324, 0.03191512078046799, 0.02983212098479271, 0.10879705846309662, 0.0, 0.0], [0.4510016441345215, 0.0012693284079432487, 0.00046531728003174067, 0.0009068255894817412, 0.0009341954137198627, 0.0011621161829680204, 0.0008019576198421419, 0.0011141248978674412, 0.004543269518762827, 0.008795071393251419, 0.004014406353235245, 0.0015382959973067045, 0.003693940583616495, 0.0014477175427600741, 0.007433200255036354, 0.008570038713514805, 0.02482798881828785, 0.03604781627655029, 0.004825640469789505, 0.005980558227747679, 0.0019356738775968552, 0.0007982743554748595, 0.0003815619566012174, 0.0014183493331074715, 0.0009613308939151466, 0.003872712142765522, 0.006075769662857056, 0.003080227877944708, 0.01000396441668272, 0.0023682829923927784, 0.0038820342160761356, 0.0068246894516050816, 0.02929818071424961, 0.013630644418299198, 0.005320347845554352, 0.01667020097374916, 0.004375695716589689, 0.021841444075107574, 0.008305548690259457, 0.017373129725456238, 0.019926181063055992, 0.03005378693342209, 0.08781140297651291, 0.13441714644432068, 0.0], [0.4644726812839508, 0.004537490662187338, 0.0008074064971879125, 0.0008632366661913693, 0.0004955149488523602, 0.0007134366896934807, 0.001811480731703341, 0.0008631930104456842, 0.0027193857822567225, 0.002231892663985491, 0.004763419274240732, 0.01326603814959526, 0.011448374949395657, 0.0062776715494692326, 0.007568902801722288, 0.002734067616984248, 0.005504089407622814, 0.004622261505573988, 0.01449191477149725, 0.02483713999390602, 0.0020700092427432537, 0.002086853375658393, 0.0008056577644310892, 0.011540080420672894, 0.00956637691706419, 0.018154233694076538, 0.004570445045828819, 0.008543495088815689, 0.006627027876675129, 0.006043594796210527, 0.004400067962706089, 0.0025844585616141558, 0.0015102943871170282, 0.030974131077528, 0.04886393994092941, 0.02616981789469719, 0.024325570091605186, 0.025467682629823685, 0.030976612120866776, 0.02413162961602211, 0.012325791642069817, 0.006149256136268377, 0.009175088256597519, 0.008489017374813557, 0.09941919893026352]]], \"headLabels\": [\"L5H0\", \"L5H1\", \"L5H2\", \"L5H3\", \"L5H4\", \"L5H5\", \"L5H6\", \"L5H7\", \"L5H8\", \"L5H9\", \"L5H10\", \"L5H11\"]}\n",
              "    )\n",
              "    </script>"
            ],
            "text/plain": [
              "<circuitsvis.utils.render.RenderedHTML at 0x7fdf5c835900>"
            ]
          },
          "metadata": {},
          "output_type": "display_data"
        }
      ],
      "source": [
        "\n",
        "attention_pattern = cache[\"pattern\", 5, \"attn\"].squeeze()\n",
        "\n",
        "display(cv.attention.attention_patterns(\n",
        "    tokens=str_tokens,\n",
        "    attention=attention_pattern,\n",
        "    attention_head_names=[f\"L5H{i}\" for i in range(12)],\n",
        "))"
      ]
    },
    {
      "cell_type": "markdown",
      "metadata": {
        "id": "coJLiIBg4FzK"
      },
      "source": [
        "# Sources\n",
        "\n",
        "These are the main inspirations:\n",
        "\n",
        "* https://arena-ch1-transformers.streamlit.app/[1.2]_Intro_to_Mech_Interp\n",
        "* https://transformer-circuits.pub/2021/framework/index.html\n",
        "\n",
        "Videos:\n",
        "\n",
        "* https://neelnanda.io/transformer-tutorial\n",
        "\n",
        "Other:\n",
        "\n",
        "* https://www.lesswrong.com/posts/TvrfY4c9eaGLeyDkE/induction-heads-illustrated\n"
      ]
    }
  ],
  "metadata": {
    "accelerator": "GPU",
    "colab": {
      "gpuType": "T4",
      "provenance": []
    },
    "kernelspec": {
      "display_name": "Python 3",
      "name": "python3"
    },
    "language_info": {
      "codemirror_mode": {
        "name": "ipython",
        "version": 3
      },
      "file_extension": ".py",
      "mimetype": "text/x-python",
      "name": "python",
      "nbconvert_exporter": "python",
      "pygments_lexer": "ipython3",
      "version": "3.10.13"
    }
  },
  "nbformat": 4,
  "nbformat_minor": 0
}
