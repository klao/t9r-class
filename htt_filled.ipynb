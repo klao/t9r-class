{
  "cells": [
    {
      "cell_type": "markdown",
      "metadata": {},
      "source": [
        "# Intro\n",
        "\n",
        "![Machine Learning](https://imgs.xkcd.com/comics/machine_learning.png)"
      ]
    },
    {
      "cell_type": "markdown",
      "metadata": {
        "id": "N-VIf5URNM7q"
      },
      "source": [
        "# Setup\n",
        "\n",
        "I stole this from an example, we don't need all this complexity. But I think it's cool to see.\n",
        "\n",
        "Moreover, most of my python / jupyter / colab knowledge is copied from a bunch of examples. See [Sources](#Sources)."
      ]
    },
    {
      "cell_type": "code",
      "execution_count": 1,
      "metadata": {
        "colab": {
          "base_uri": "https://localhost:8080/"
        },
        "id": "isiMrnRaOSik",
        "outputId": "d925b5c0-2863-45ca-a0a5-16e8eefae8c4"
      },
      "outputs": [],
      "source": [
        "import sys\n",
        "\n",
        "IN_COLAB = 'google.colab' in sys.modules\n",
        "\n",
        "if IN_COLAB:\n",
        "    %pip install einops\n",
        "    %pip install jaxtyping\n",
        "    %pip install transformer_lens\n",
        "    %pip install git+https://github.com/callummcdougall/CircuitsVis.git#subdirectory=python\n",
        "else:\n",
        "    # See README.md for local setup\n",
        "    pass"
      ]
    },
    {
      "cell_type": "code",
      "execution_count": 2,
      "metadata": {
        "id": "lHL1yEOAPu3v"
      },
      "outputs": [],
      "source": [
        "import os\n",
        "import sys\n",
        "import plotly.express as px\n",
        "import torch as t\n",
        "from torch import Tensor\n",
        "import torch.nn as nn\n",
        "import torch.nn.functional as F\n",
        "from pathlib import Path\n",
        "import numpy as np\n",
        "import einops\n",
        "from jaxtyping import Int, Float\n",
        "from typing import List, Optional, Tuple\n",
        "import functools\n",
        "from tqdm import tqdm\n",
        "from IPython.display import display\n",
        "import webbrowser\n",
        "import gdown\n",
        "from transformer_lens.hook_points import HookPoint\n",
        "from transformer_lens import utils, HookedTransformer, HookedTransformerConfig, FactoredMatrix, ActivationCache\n",
        "from transformer_lens.utils import get_corner\n",
        "import circuitsvis as cv\n",
        "\n",
        "# Saves computation time, since we don't need it for the contents of this notebook\n",
        "t.set_grad_enabled(False)\n",
        "\n",
        "device = t.device(\"cuda\" if t.cuda.is_available() else \"cpu\")"
      ]
    },
    {
      "cell_type": "markdown",
      "metadata": {
        "id": "jTw0C8JsQNzi"
      },
      "source": [
        "# Getting acquainted with the modellel"
      ]
    },
    {
      "cell_type": "code",
      "execution_count": 3,
      "metadata": {
        "colab": {
          "base_uri": "https://localhost:8080/"
        },
        "id": "oAjxyDmVCVbh",
        "outputId": "6e8de37d-34b3-4ff3-90c6-27063f4a6fa8"
      },
      "outputs": [
        {
          "data": {
            "application/vnd.jupyter.widget-view+json": {
              "model_id": "f02c01eab7014771bfbf09524200f494",
              "version_major": 2,
              "version_minor": 0
            },
            "text/plain": [
              "config.json:   0%|          | 0.00/665 [00:00<?, ?B/s]"
            ]
          },
          "metadata": {},
          "output_type": "display_data"
        },
        {
          "data": {
            "application/vnd.jupyter.widget-view+json": {
              "model_id": "f3e8d90f42a54e58a9d520bebf9b3590",
              "version_major": 2,
              "version_minor": 0
            },
            "text/plain": [
              "model.safetensors:   0%|          | 0.00/548M [00:00<?, ?B/s]"
            ]
          },
          "metadata": {},
          "output_type": "display_data"
        },
        {
          "data": {
            "application/vnd.jupyter.widget-view+json": {
              "model_id": "16a179a545b5470c8186a580de1aa0c0",
              "version_major": 2,
              "version_minor": 0
            },
            "text/plain": [
              "generation_config.json:   0%|          | 0.00/124 [00:00<?, ?B/s]"
            ]
          },
          "metadata": {},
          "output_type": "display_data"
        },
        {
          "data": {
            "application/vnd.jupyter.widget-view+json": {
              "model_id": "63e101afd2b348319d0247c5065cca99",
              "version_major": 2,
              "version_minor": 0
            },
            "text/plain": [
              "tokenizer_config.json:   0%|          | 0.00/26.0 [00:00<?, ?B/s]"
            ]
          },
          "metadata": {},
          "output_type": "display_data"
        },
        {
          "data": {
            "application/vnd.jupyter.widget-view+json": {
              "model_id": "9039d9ab87db43e0a6ac94297f0e08bb",
              "version_major": 2,
              "version_minor": 0
            },
            "text/plain": [
              "vocab.json:   0%|          | 0.00/1.04M [00:00<?, ?B/s]"
            ]
          },
          "metadata": {},
          "output_type": "display_data"
        },
        {
          "data": {
            "application/vnd.jupyter.widget-view+json": {
              "model_id": "149021d5063f430ba67478a2a1ce9b84",
              "version_major": 2,
              "version_minor": 0
            },
            "text/plain": [
              "merges.txt:   0%|          | 0.00/456k [00:00<?, ?B/s]"
            ]
          },
          "metadata": {},
          "output_type": "display_data"
        },
        {
          "data": {
            "application/vnd.jupyter.widget-view+json": {
              "model_id": "b1b023bafea5469197012fce986e83a8",
              "version_major": 2,
              "version_minor": 0
            },
            "text/plain": [
              "tokenizer.json:   0%|          | 0.00/1.36M [00:00<?, ?B/s]"
            ]
          },
          "metadata": {},
          "output_type": "display_data"
        },
        {
          "name": "stdout",
          "output_type": "stream",
          "text": [
            "Loaded pretrained model gpt2-small into HookedTransformer\n"
          ]
        }
      ],
      "source": [
        "gpt2 = HookedTransformer.from_pretrained(\"gpt2-small\")"
      ]
    },
    {
      "cell_type": "code",
      "execution_count": 5,
      "metadata": {
        "colab": {
          "base_uri": "https://localhost:8080/"
        },
        "id": "5PYiFPcI-F2I",
        "outputId": "d22e453f-fb80-4826-ae53-4f7855719ef3"
      },
      "outputs": [
        {
          "name": "stdout",
          "output_type": "stream",
          "text": [
            "HookedTransformerConfig:\n",
            "{'act_fn': 'gelu_new',\n",
            " 'attention_dir': 'causal',\n",
            " 'attn_only': False,\n",
            " 'attn_types': None,\n",
            " 'checkpoint_index': None,\n",
            " 'checkpoint_label_type': None,\n",
            " 'checkpoint_value': None,\n",
            " 'd_head': 64,\n",
            " 'd_mlp': 3072,\n",
            " 'd_model': 768,\n",
            " 'd_vocab': 50257,\n",
            " 'd_vocab_out': 50257,\n",
            " 'default_prepend_bos': True,\n",
            " 'device': device(type='cuda'),\n",
            " 'dtype': torch.float32,\n",
            " 'eps': 1e-05,\n",
            " 'final_rms': False,\n",
            " 'from_checkpoint': False,\n",
            " 'gated_mlp': False,\n",
            " 'init_mode': 'gpt2',\n",
            " 'init_weights': False,\n",
            " 'initializer_range': 0.02886751345948129,\n",
            " 'model_name': 'gpt2',\n",
            " 'n_ctx': 1024,\n",
            " 'n_devices': 1,\n",
            " 'n_heads': 12,\n",
            " 'n_layers': 12,\n",
            " 'n_params': 84934656,\n",
            " 'normalization_type': 'LNPre',\n",
            " 'original_architecture': 'GPT2LMHeadModel',\n",
            " 'parallel_attn_mlp': False,\n",
            " 'positional_embedding_type': 'standard',\n",
            " 'post_embedding_ln': False,\n",
            " 'rotary_dim': None,\n",
            " 'scale_attn_by_inverse_layer_idx': False,\n",
            " 'seed': None,\n",
            " 'tokenizer_name': 'gpt2',\n",
            " 'tokenizer_prepends_bos': False,\n",
            " 'use_attn_in': False,\n",
            " 'use_attn_result': False,\n",
            " 'use_attn_scale': True,\n",
            " 'use_hook_mlp_in': False,\n",
            " 'use_hook_tokens': False,\n",
            " 'use_local_attn': False,\n",
            " 'use_split_qkv_input': False,\n",
            " 'window_size': None}\n"
          ]
        }
      ],
      "source": [
        "#print(gpt2)\n",
        "print(gpt2.cfg)"
      ]
    },
    {
      "cell_type": "markdown",
      "metadata": {
        "id": "usYlUFIoQt0T"
      },
      "source": [
        "## Input: \"What does this eat?\" aka Tokenization"
      ]
    },
    {
      "cell_type": "code",
      "execution_count": 6,
      "metadata": {},
      "outputs": [
        {
          "data": {
            "text/plain": [
              "GPT2TokenizerFast(name_or_path='gpt2', vocab_size=50257, model_max_length=1024, is_fast=True, padding_side='right', truncation_side='right', special_tokens={'bos_token': '<|endoftext|>', 'eos_token': '<|endoftext|>', 'unk_token': '<|endoftext|>', 'pad_token': '<|endoftext|>'}, clean_up_tokenization_spaces=True),  added_tokens_decoder={\n",
              "\t50256: AddedToken(\"<|endoftext|>\", rstrip=False, lstrip=False, single_word=False, normalized=True, special=True),\n",
              "}"
            ]
          },
          "execution_count": 6,
          "metadata": {},
          "output_type": "execute_result"
        }
      ],
      "source": [
        "gpt2.tokenizer"
      ]
    },
    {
      "cell_type": "code",
      "execution_count": 7,
      "metadata": {},
      "outputs": [
        {
          "data": {
            "text/plain": [
              "{'Ġanatomical': 48631,\n",
              " 'Jerry': 43462,\n",
              " 'Ġarises': 22068,\n",
              " 'Ġcrabs': 49172,\n",
              " 'Mem': 13579,\n",
              " 'Ġfriends': 2460,\n",
              " 'ĠSto': 22025,\n",
              " 'rics': 10466,\n",
              " 'ĠMau': 28931,\n",
              " 'ĠOil': 11474,\n",
              " 'Ġphysical': 3518,\n",
              " 'ĠVolume': 14701,\n",
              " 'âĵĺ': 45563,\n",
              " 'ĠWillow': 33021,\n",
              " 'âĢĶ\"': 19056,\n",
              " 'ĠFall': 7218,\n",
              " 'ĠDUI': 39414,\n",
              " 'Ġtouches': 18105,\n",
              " 'Ġinvest': 1325,\n",
              " 'Ġutilize': 17624,\n",
              " 'ĠJS': 26755,\n",
              " 'ĠMED': 26112,\n",
              " 'Ġborrowers': 31617,\n",
              " 'rentice': 20098,\n",
              " 'ael': 3010,\n",
              " 'Ġprojecting': 37298,\n",
              " 'ĠSaber': 40506,\n",
              " 'Ġefficient': 6942,\n",
              " 'Ġposters': 19379,\n",
              " 'Ġwords': 2456,\n",
              " 'Ġscience': 3783,\n",
              " 'ribe': 4892,\n",
              " 'Ġtant': 24246,\n",
              " 'rans': 26084,\n",
              " 'Kill': 27100,\n",
              " 'Ġbarring': 34928,\n",
              " 'FAQ': 42680,\n",
              " 'Ġtickets': 8587,\n",
              " 'TG': 35990,\n",
              " 'Ġplethora': 35146,\n",
              " 'latable': 49009,\n",
              " 'overed': 2557,\n",
              " 'dry': 39140,\n",
              " 'Ġlosers': 29502,\n",
              " 'imental': 9134,\n",
              " 'quart': 36008,\n",
              " 'gil': 37718,\n",
              " 'cool': 24494,\n",
              " 'okin': 36749,\n",
              " 'Bruce': 38509,\n",
              " 'lf': 1652,\n",
              " 'umann': 40062,\n",
              " 'Ġconverting': 23202,\n",
              " 'Ġworkshop': 20243,\n",
              " 'lus': 41790,\n",
              " 'ĠDresden': 46993,\n",
              " 'acement': 5592,\n",
              " 'arl': 7063,\n",
              " 'Ġworkings': 35084,\n",
              " 'ĠAdded': 10687,\n",
              " 'RFC': 41150,\n",
              " 'Ġtamp': 47039,\n",
              " '1977': 37781,\n",
              " 'Ġtranslucent': 45323,\n",
              " 'ĠPOS': 28069,\n",
              " '¥ŀ': 13945,\n",
              " 'ĠAV': 14661,\n",
              " 'ĠSym': 15845,\n",
              " 'Ġadmiration': 28506,\n",
              " 'Ġcrank': 30425,\n",
              " 'inances': 34999,\n",
              " 'bones': 35095,\n",
              " 'ĠNeon': 27093,\n",
              " 'Ġobservable': 42550,\n",
              " 'ampa': 13299,\n",
              " 'Ġcommitments': 19405,\n",
              " 'Ġpathetic': 29215,\n",
              " 'Ġmusician': 21623,\n",
              " 'hedon': 46086,\n",
              " 'Ġvisually': 22632,\n",
              " 'olar': 6192,\n",
              " 'ASH': 11211,\n",
              " 'atem': 23900,\n",
              " 'Ġrevel': 9890,\n",
              " 'still': 24219,\n",
              " 'omorph': 25831,\n",
              " 'released': 30147,\n",
              " 'lived': 24489,\n",
              " 'ĠLenovo': 40269,\n",
              " 'Ġ504': 41612,\n",
              " 'Complete': 20988,\n",
              " 'ĠBrig': 16917,\n",
              " 'riminal': 22157,\n",
              " 'successfully': 37351,\n",
              " 'Ġcavalry': 30891,\n",
              " 'Ġshortcomings': 31731,\n",
              " 'Ġgrabbing': 23256,\n",
              " 'ĠBurns': 23592,\n",
              " 'AMD': 28075,\n",
              " 'Ġpositively': 19888,\n",
              " 'ryn': 29441,\n",
              " 'Haw': 33055,\n",
              " 'Ġgoalt': 30896,\n",
              " 'ĠOpen': 4946,\n",
              " 'ĠAu': 40666,\n",
              " 'Ġtenancy': 46543,\n",
              " 'ĠContact': 14039,\n",
              " 'Ġquestionable': 18269,\n",
              " 'piracy': 8703,\n",
              " 'ĠWenger': 31415,\n",
              " 'Ġshines': 32481,\n",
              " 'ccording': 2941,\n",
              " 'Ġstagnation': 45834,\n",
              " 'Ġalgorithms': 16113,\n",
              " 'Ġsucks': 22523,\n",
              " 'ĠText': 8255,\n",
              " 'Ġcaller': 24955,\n",
              " 'ĠUsing': 8554,\n",
              " 'ĠSerie': 41530,\n",
              " 'UN': 4944,\n",
              " 'kind': 11031,\n",
              " 'oliath': 43009,\n",
              " 'Ġrural': 10016,\n",
              " 'Ġdiesel': 21866,\n",
              " 'Ġloaded': 9639,\n",
              " 'etus': 29158,\n",
              " 'Ġcowardly': 47687,\n",
              " 'IPP': 31444,\n",
              " 'Ġdamn': 12270,\n",
              " 'em': 368,\n",
              " 'ĠUSSR': 28905,\n",
              " 'ğ': 219,\n",
              " 'Ġmonth': 1227,\n",
              " 'Ġsurgery': 8185,\n",
              " 'extreme': 29896,\n",
              " 'Ġarguing': 11810,\n",
              " 'aro': 12022,\n",
              " 'damage': 28735,\n",
              " 'ĠFuel': 25483,\n",
              " 'Ġtruths': 24279,\n",
              " 'Ġattitudes': 14479,\n",
              " 'pered': 13653,\n",
              " 'Ġleast': 1551,\n",
              " 'ĠErd': 16455,\n",
              " 'message': 20500,\n",
              " 'ĠToxic': 29274,\n",
              " 'Ġdefeat': 7433,\n",
              " 'ãĤ´': 17933,\n",
              " 'Ġsunlight': 19606,\n",
              " 'ĠWellington': 30597,\n",
              " 'plane': 14382,\n",
              " 'ĠShut': 18736,\n",
              " 'ĠIndex': 12901,\n",
              " 'Shock': 31646,\n",
              " 'ĠFarmers': 34982,\n",
              " 'arks': 5558,\n",
              " 'ĠArmen': 17303,\n",
              " 'ĠNY': 6645,\n",
              " 'Ġhandy': 15728,\n",
              " 'ĠTownship': 32115,\n",
              " 'Ġunderage': 35101,\n",
              " 'ĠNad': 21877,\n",
              " 'rang': 36985,\n",
              " 'ĠPRODUCT': 41458,\n",
              " 'HCR': 43230,\n",
              " 'ĠNike': 23817,\n",
              " 'ĠLicense': 13789,\n",
              " 'Ġassign': 8333,\n",
              " 'shi': 44019,\n",
              " 'Ġinvoice': 45458,\n",
              " 'ĠCOURT': 46627,\n",
              " 'Ġrestroom': 40018,\n",
              " 'dat': 19608,\n",
              " 'Push': 49222,\n",
              " 'Ġoperate': 8076,\n",
              " 'ĠStri': 26137,\n",
              " 'Ġunsigned': 22165,\n",
              " 'ĠPagan': 46856,\n",
              " 'ibble': 43992,\n",
              " 'Ġwaterways': 47518,\n",
              " 'Ġsub': 850,\n",
              " 'BD': 14529,\n",
              " 'Ġweaker': 17642,\n",
              " 'ĠMcConnell': 18184,\n",
              " 'plex': 11141,\n",
              " 'ĠEmails': 39617,\n",
              " 'Ġ\"': 366,\n",
              " 'Ġfoes': 20822,\n",
              " 'Ġbehaviour': 9172,\n",
              " 'structed': 16242,\n",
              " 'ĠOlympic': 11514,\n",
              " 'Ġcannons': 37577,\n",
              " 'ĠShe': 1375,\n",
              " 'Ġsword': 8429,\n",
              " 'ournaments': 16950,\n",
              " 'Ġsuperiority': 26883,\n",
              " 'vice': 28281,\n",
              " 'Ġgratification': 47459,\n",
              " 'Ġcommittees': 17460,\n",
              " 'aco': 10602,\n",
              " 'ĠDaddy': 26926,\n",
              " 'sf': 28202,\n",
              " 'Engine': 13798,\n",
              " 'Ġrobbers': 46988,\n",
              " 'uda': 15339,\n",
              " 'Ġtuning': 24549,\n",
              " 'Ġbamboo': 37252,\n",
              " 'ĠTransaction': 45389,\n",
              " 'ĠSuicide': 27695,\n",
              " 'ĠBarbara': 16685,\n",
              " 'ãĤ´ãĥ³': 22997,\n",
              " 'uka': 14852,\n",
              " 'Ġfolder': 9483,\n",
              " 'ĠShoals': 40510,\n",
              " 'Ġstains': 43329,\n",
              " 'ĠVanderbilt': 38684,\n",
              " 'ĠFamous': 43261,\n",
              " 'rict': 2012,\n",
              " 'Ġinsightful': 41696,\n",
              " 'Ġemotionally': 17991,\n",
              " 'Ġdescription': 6764,\n",
              " 'ĠPolit': 7793,\n",
              " 'Ġworst': 5290,\n",
              " 'America': 18165,\n",
              " '480': 22148,\n",
              " 'Ġexploit': 14561,\n",
              " 'Ġdonor': 17052,\n",
              " 'Ġbiting': 30791,\n",
              " 'Ġ520': 36141,\n",
              " 'ĠFin': 4463,\n",
              " 'ĠTitle': 11851,\n",
              " 'itic': 16233,\n",
              " 'ĠNancy': 18496,\n",
              " 'processing': 36948,\n",
              " 'iders': 4157,\n",
              " 'Food': 24602,\n",
              " 'Ġalmost': 2048,\n",
              " 'pard': 26037,\n",
              " 'weak': 38695,\n",
              " 'aran': 19173,\n",
              " 'ference': 4288,\n",
              " 'Ġsleeves': 27409,\n",
              " 'Ġwithheld': 31453,\n",
              " 'Ġsovereign': 18901,\n",
              " 'Ġreflected': 12548,\n",
              " 'Ġarchaic': 40435,\n",
              " 'Ġpowering': 43067,\n",
              " 'ĠVapor': 43382,\n",
              " 'ĠMamm': 39502,\n",
              " 'ĠLust': 43883,\n",
              " 'Ġingested': 44694,\n",
              " 'spir': 45564,\n",
              " 'Ġid': 4686,\n",
              " 'cia': 33743,\n",
              " 'aaa': 46071,\n",
              " 'Ġinsured': 31977,\n",
              " '507': 35378,\n",
              " 'Ġwitches': 34773,\n",
              " 'ĠShowdown': 46645,\n",
              " 'Ġtul': 48373,\n",
              " 'do': 4598,\n",
              " 'ĠSpac': 39230,\n",
              " 'ĠBreitbart': 19923,\n",
              " 'Ġvend': 10817,\n",
              " 'ĠRin': 25773,\n",
              " 'whelming': 36433,\n",
              " 'Ġawakened': 39217,\n",
              " 'Ġ388': 43550,\n",
              " 'ĠTay': 25569,\n",
              " 'Ġcoales': 46064,\n",
              " 'Energy': 28925,\n",
              " 'rifice': 31932,\n",
              " 'ĠSOME': 41670,\n",
              " 'so': 568,\n",
              " 'Ġovert': 9929,\n",
              " 'Ġcapability': 12971,\n",
              " 'Ġjuvenile': 21904,\n",
              " 'Ġmishand': 49530,\n",
              " 'Ġsage': 35021,\n",
              " 'ĠCanaveral': 49433,\n",
              " 'Ġmuscles': 12749,\n",
              " 'ĠMund': 33324,\n",
              " 'Fat': 33804,\n",
              " 'ĠSloven': 30694,\n",
              " 'effic': 24531,\n",
              " 'aughter': 3637,\n",
              " 'Ġridge': 32525,\n",
              " 'Ġinstallation': 9988,\n",
              " 'Ja': 33186,\n",
              " 'ndum': 11021,\n",
              " 'Ġsettlers': 25371,\n",
              " 'atana': 43777,\n",
              " 'ĠHand': 7157,\n",
              " 'Ġdet': 1062,\n",
              " 'Ġfashion': 6977,\n",
              " 'ĠLopez': 22593,\n",
              " 'Ġ430': 35090,\n",
              " 'ĠAbd': 17870,\n",
              " 'Ġdisperse': 41273,\n",
              " 'Years': 40630,\n",
              " 'Ġpredis': 46276,\n",
              " 'Ġprintln': 44872,\n",
              " 'isite': 16107,\n",
              " 'ĠMik': 17722,\n",
              " 'oen': 6571,\n",
              " 'ĠConj': 37587,\n",
              " 'regular': 16338,\n",
              " 'ĠAgenda': 37029,\n",
              " '121': 19244,\n",
              " 'Ġproverbial': 47327,\n",
              " 'flame': 49621,\n",
              " 'Ġmention': 3068,\n",
              " 'anders': 45070,\n",
              " 'ĠOlive': 30012,\n",
              " 'Ġdoctors': 7519,\n",
              " 'Maker': 48890,\n",
              " 'ĠParticularly': 47674,\n",
              " 'Icon': 19578,\n",
              " 'Ġplac': 21957,\n",
              " 'Ġencoded': 30240,\n",
              " 'Ġsenses': 17627,\n",
              " 'Ġprefrontal': 43118,\n",
              " 'ing': 278,\n",
              " 'ĠLady': 11182,\n",
              " 'ĠSan': 2986,\n",
              " 'oven': 16206,\n",
              " 'Ġdedication': 22445,\n",
              " 'Ġcoordinates': 22715,\n",
              " 'ĠChristmas': 6786,\n",
              " 'Ġpastry': 41738,\n",
              " 'erie': 18287,\n",
              " 'Ġbeware': 40600,\n",
              " 'acial': 18150,\n",
              " 'ĠNeb': 29837,\n",
              " 'foundation': 42526,\n",
              " '910': 43234,\n",
              " 'Ġinterpre': 16795,\n",
              " '014': 28645,\n",
              " 'udget': 29427,\n",
              " 'Ġethnic': 9450,\n",
              " 'Ġabduct': 24827,\n",
              " 'ĠCong': 2908,\n",
              " 'rawling': 18771,\n",
              " 'ĠJas': 21961,\n",
              " 'ĠKol': 25910,\n",
              " 'Ġprotested': 27278,\n",
              " 'ĠSpectrum': 27217,\n",
              " 'ĠMick': 32722,\n",
              " 'ĠPhant': 38699,\n",
              " 'Ġbom': 8626,\n",
              " 'Ġcruel': 12177,\n",
              " 'Ġfeud': 21419,\n",
              " 'Ġculmination': 41089,\n",
              " 'ton': 1122,\n",
              " 'ĠObesity': 41936,\n",
              " 'æĿ': 30266,\n",
              " 'CONT': 37815,\n",
              " 'Ġthroat': 13589,\n",
              " 'Ġundert': 10122,\n",
              " 'Ġjarring': 47300,\n",
              " 'Ġairplane': 19401,\n",
              " 'ĠGuardian': 8283,\n",
              " 'chem': 15245,\n",
              " 'Ġbrink': 29585,\n",
              " 'Bride': 47148,\n",
              " 'ĠHack': 18281,\n",
              " 'Ġlamb': 19343,\n",
              " 'Ġfeminists': 22742,\n",
              " 'Ġinformant': 35710,\n",
              " 'irements': 18883,\n",
              " 'Ġdatabases': 20083,\n",
              " 'ĠSl': 3454,\n",
              " 'Ġglory': 13476,\n",
              " 'ĠFlu': 34070,\n",
              " 'ĠAim': 36223,\n",
              " 'Ġgenomic': 45752,\n",
              " 'GROUND': 46025,\n",
              " 'ĠExplosive': 48178,\n",
              " 'Ġdisadvant': 14560,\n",
              " 'ĠExcept': 18181,\n",
              " 'ĠTelevision': 21516,\n",
              " 'astern': 6470,\n",
              " 'ĠPreviously': 29875,\n",
              " 'etch': 7569,\n",
              " 'ĠKod': 32701,\n",
              " 'Ġboosts': 31822,\n",
              " 'Ġscratched': 37468,\n",
              " 'ĠTower': 8765,\n",
              " 'Ġdared': 28765,\n",
              " 'finding': 41070,\n",
              " 'ĠLauderdale': 45577,\n",
              " 'Ġpath': 3108,\n",
              " 'Charlie': 37136,\n",
              " 'ĠAb': 2275,\n",
              " 'ĠMaced': 25942,\n",
              " 'Ġhottest': 26896,\n",
              " 'oppers': 37186,\n",
              " 'vidia': 21744,\n",
              " 'ĠSJ': 31766,\n",
              " 'Ġselects': 40573,\n",
              " 'Mit': 43339,\n",
              " 'identified': 19107,\n",
              " 'Ġmeats': 32219,\n",
              " 'ĠPas': 17454,\n",
              " 'istence': 13274,\n",
              " 'Ġsay': 910,\n",
              " 'creen': 32060,\n",
              " 'mma': 21672,\n",
              " 'Fer': 43362,\n",
              " 'Ġsuperintendent': 32958,\n",
              " 'ĠRound': 10485,\n",
              " 'mit': 2781,\n",
              " 'Ġaggro': 44082,\n",
              " 'ĠRusty': 47449,\n",
              " 'Ġetiquette': 49455,\n",
              " 'Ġstone': 7815,\n",
              " 'ÃĤ': 5523,\n",
              " 'Ġumb': 20810,\n",
              " 'ĠDisable': 31529,\n",
              " 'Ġegreg': 31954,\n",
              " 'reportprint': 30897,\n",
              " 'ĠSomew': 32499,\n",
              " 'Ġoust': 50151,\n",
              " 'ĠWriter': 26606,\n",
              " 'head': 2256,\n",
              " 'oard': 11953,\n",
              " 'Ġmoderators': 37265,\n",
              " 'ĠLunch': 40514,\n",
              " 'elf': 7046,\n",
              " 'Ġpens': 29707,\n",
              " 'Ġsponsored': 15901,\n",
              " 'abor': 4820,\n",
              " 'Ġscenes': 8188,\n",
              " 'rons': 12212,\n",
              " 'ĠRecords': 13407,\n",
              " 'Ġincentive': 15660,\n",
              " 'Ġclosure': 16512,\n",
              " 'Ġsiege': 20690,\n",
              " 'ĠMori': 32709,\n",
              " 'Ghost': 32001,\n",
              " 'Ġsmoked': 21603,\n",
              " 'prising': 14619,\n",
              " 'Ġfri': 32803,\n",
              " 'ĠHIGH': 34677,\n",
              " 'Ġsyll': 27226,\n",
              " 'Ġreel': 35672,\n",
              " 'footed': 43127,\n",
              " 'Ġcontemporaries': 46028,\n",
              " 'ĠNoticed': 15362,\n",
              " 'ĠAbraham': 16660,\n",
              " 'occ': 13966,\n",
              " 'hung': 43274,\n",
              " 'ĠPengu': 20590,\n",
              " 'Ġdrills': 26721,\n",
              " '257': 28676,\n",
              " 'iber': 1856,\n",
              " 'Ġshop': 6128,\n",
              " 'Ġdesignated': 11032,\n",
              " 'å¦': 36685,\n",
              " '697': 40035,\n",
              " 'account': 23317,\n",
              " 'reated': 15978,\n",
              " 'Ġlistens': 35019,\n",
              " 'ĠRagnarok': 40451,\n",
              " 'Ġhousehold': 6641,\n",
              " 'Hmm': 44217,\n",
              " 'ç·': 45784,\n",
              " 'Ġvictimized': 47414,\n",
              " 'ĠSignal': 26484,\n",
              " 'Ġpackaging': 16846,\n",
              " 'Ġpardon': 27322,\n",
              " 'Ġmang': 45663,\n",
              " 'Ġlos': 22346,\n",
              " 'Ġconsists': 10874,\n",
              " 'Ġquarters': 13620,\n",
              " 'Ġallowance': 24930,\n",
              " 'Ġpromulg': 44532,\n",
              " 'GB': 4579,\n",
              " 'ĠBabylon': 28028,\n",
              " 'Ġsightings': 36242,\n",
              " 'paralleled': 37859,\n",
              " 'Ġspecializing': 40847,\n",
              " 'othermal': 49723,\n",
              " 'seven': 26548,\n",
              " 'Versions': 45150,\n",
              " '@#': 41573,\n",
              " 'aders': 9972,\n",
              " 'ĠMemory': 14059,\n",
              " '>>': 4211,\n",
              " 'ĠBoot': 18892,\n",
              " 'analysis': 20930,\n",
              " 'Way': 25309,\n",
              " 'Ġ1999': 7358,\n",
              " 'Ġfingerprint': 25338,\n",
              " 'torn': 45910,\n",
              " 'mus': 14664,\n",
              " 'eder': 5702,\n",
              " 'BILITIES': 49516,\n",
              " 'ĠIndependence': 20153,\n",
              " 'Learn': 20238,\n",
              " 'ĠKarma': 32648,\n",
              " 'ĠWILL': 17682,\n",
              " 'Ġtemper': 4124,\n",
              " 'ph': 746,\n",
              " 'ired': 1202,\n",
              " 'ĠTale': 17388,\n",
              " 'Ġevil': 6181,\n",
              " 'Ġpronounce': 28942,\n",
              " 'ĠCapcom': 35936,\n",
              " '628': 48200,\n",
              " 'Ġabsentee': 40153,\n",
              " 'ĠTenn': 9034,\n",
              " 'ĠTurks': 28448,\n",
              " 'acker': 10735,\n",
              " 'ĠFirefox': 16802,\n",
              " 'Ġ07': 8753,\n",
              " 'eca': 31047,\n",
              " 'drug': 30349,\n",
              " 'represent': 15603,\n",
              " 'King': 15708,\n",
              " 'Ġwedge': 35901,\n",
              " 'eas': 30412,\n",
              " 'omedical': 35914,\n",
              " 'Ġteachings': 19564,\n",
              " 'boarding': 27794,\n",
              " 'Ġowned': 6898,\n",
              " 'ĠGaia': 37471,\n",
              " 'ĠEs': 8678,\n",
              " 'Ġcapt': 3144,\n",
              " 'Ġbarriers': 14725,\n",
              " 'Ġdoomed': 24312,\n",
              " 'Ġbeneficiaries': 28237,\n",
              " 'shaped': 16760,\n",
              " 'Ġevasion': 30877,\n",
              " '045': 40350,\n",
              " 'Ġattribution': 39629,\n",
              " 'didn': 45168,\n",
              " 'fp': 46428,\n",
              " 'ĠSilicon': 18210,\n",
              " '235': 22370,\n",
              " 'ĠFROM': 16034,\n",
              " 'EB': 30195,\n",
              " 'ĠThere': 1318,\n",
              " 'Ġpric': 38151,\n",
              " 'ĠCout': 40253,\n",
              " 'ĠGeorg': 6850,\n",
              " 'rowth': 13046,\n",
              " 'ĠHRC': 40512,\n",
              " 'February': 21816,\n",
              " '0010': 37187,\n",
              " 'ĠTIT': 37977,\n",
              " 'Ġ93': 10261,\n",
              " 'Ġsnacks': 28487,\n",
              " 'utf': 40477,\n",
              " 'ĠAttorney': 8123,\n",
              " 'APH': 31300,\n",
              " 'ĠMinotaur': 40558,\n",
              " 'mot': 27926,\n",
              " 'Secretary': 38541,\n",
              " 'ĠAlas': 45315,\n",
              " 'er': 263,\n",
              " 'paste': 34274,\n",
              " 'real': 5305,\n",
              " 'kaya': 35372,\n",
              " 'ĠUKIP': 37809,\n",
              " 'iled': 3902,\n",
              " 'register': 30238,\n",
              " 'ĠJr': 7504,\n",
              " 'ydia': 30708,\n",
              " 'idium': 43523,\n",
              " 'Ġbond': 6314,\n",
              " 'Spe': 5248,\n",
              " 'Ġsprinkled': 49692,\n",
              " 'ogens': 26612,\n",
              " 'Ġ208': 27121,\n",
              " 'ĠKou': 30559,\n",
              " 'Ġpessim': 32277,\n",
              " 'aspers': 49412,\n",
              " \"!'\": 13679,\n",
              " 'ĠBlair': 18520,\n",
              " 'ĠLisa': 15378,\n",
              " 'Ġfifth': 8150,\n",
              " 'Ġhangs': 28087,\n",
              " 'ious': 699,\n",
              " 'Ġhomicides': 33025,\n",
              " 'ĠWhile': 2893,\n",
              " 'Ġmull': 35024,\n",
              " 'ãĥ©': 9263,\n",
              " 'apo': 41817,\n",
              " 'Ġgrasped': 45569,\n",
              " 'Ġquoting': 28411,\n",
              " 'ĠExpl': 5905,\n",
              " 'Ġseller': 18583,\n",
              " 'Ġoverrun': 33713,\n",
              " 'aques': 46806,\n",
              " 'etting': 35463,\n",
              " 'Obs': 31310,\n",
              " 'Ġcharity': 11016,\n",
              " 'ĠSter': 18949,\n",
              " 'ĠEither': 15467,\n",
              " 'asured': 34006,\n",
              " 'atile': 12610,\n",
              " 'Ġunethical': 38486,\n",
              " 'Ġtrain': 4512,\n",
              " 'orical': 12409,\n",
              " 'ulent': 15288,\n",
              " 'hor': 17899,\n",
              " 'ĠHera': 23480,\n",
              " 'chen': 6607,\n",
              " 'Ġplague': 23684,\n",
              " '\"(': 18109,\n",
              " 'ĠChloe': 29476,\n",
              " 'olkien': 31052,\n",
              " 'scope': 29982,\n",
              " 'Ġdismantling': 41928,\n",
              " 'Ġsummoned': 20056,\n",
              " 'ĠMBA': 45517,\n",
              " 'Ox': 38208,\n",
              " 'wild': 21992,\n",
              " 'ĠExtreme': 18111,\n",
              " 'Ġshine': 18340,\n",
              " 'ĠPD': 14340,\n",
              " 'Ġpotent': 16739,\n",
              " 'Ġcostly': 16378,\n",
              " 'crete': 38669,\n",
              " 'ĠLevine': 38294,\n",
              " 'ĠTam': 11552,\n",
              " 'Ġsearches': 15455,\n",
              " 'Ġthumbs': 32766,\n",
              " '860': 45039,\n",
              " 'Guy': 31080,\n",
              " 'CHA': 49285,\n",
              " 'kos': 46150,\n",
              " 'build': 11249,\n",
              " 'ĠBleach': 48469,\n",
              " 'ĠAwareness': 36735,\n",
              " 'ĠDisplay': 16531,\n",
              " 'Ġunaffected': 35290,\n",
              " 'Ġresumes': 42626,\n",
              " 'Ġrebounds': 18841,\n",
              " 'uj': 23577,\n",
              " 'Ġsignify': 44078,\n",
              " 'Ġcolleg': 13303,\n",
              " 'ĠBurma': 40306,\n",
              " 'pai': 49712,\n",
              " 'ribute': 4163,\n",
              " 'Ġspectrum': 10958,\n",
              " 'ĠBuff': 8792,\n",
              " 'Ġexplosives': 20732,\n",
              " 'ĠMandarin': 41621,\n",
              " 'PS': 3705,\n",
              " 'Ġobst': 9710,\n",
              " 'ĠFinland': 17837,\n",
              " 'GG': 11190,\n",
              " 'Ġaudiences': 15579,\n",
              " 'Ġinnings': 16267,\n",
              " 'ĠIceland': 17333,\n",
              " 'Ġprojection': 20128,\n",
              " 'ĠOpening': 25522,\n",
              " 'Ġfilings': 28058,\n",
              " 'bread': 29573,\n",
              " 'Ġmoisture': 20160,\n",
              " 'Ġstimulated': 40216,\n",
              " 'kai': 32765,\n",
              " 'Ġpaw': 41827,\n",
              " 'ĠYES': 21560,\n",
              " 'Ġconfigure': 17425,\n",
              " 'keyes': 43174,\n",
              " 'Ġ1969': 16450,\n",
              " 'ĠExodus': 38557,\n",
              " 'ĠFrancis': 12155,\n",
              " 'Ġnervously': 43324,\n",
              " 'ĠScenes': 49525,\n",
              " 'Ġme': 502,\n",
              " 'acion': 49443,\n",
              " 'Ġgrouped': 32824,\n",
              " 'Ġconfigurations': 25412,\n",
              " 'edo': 24757,\n",
              " 'olated': 50027,\n",
              " 'ĠJustin': 10799,\n",
              " 'Ġfend': 41229,\n",
              " 'ee': 1453,\n",
              " 'Ġounces': 24405,\n",
              " 'Ġledge': 35614,\n",
              " 'Ġworking': 1762,\n",
              " 'ĠAst': 8304,\n",
              " 'alty': 6017,\n",
              " 'aneers': 33547,\n",
              " 'Ġaeros': 41376,\n",
              " 'mire': 47004,\n",
              " 'orting': 24707,\n",
              " 'Ġmole': 9411,\n",
              " 'ĠConn': 20776,\n",
              " 'Ġmotion': 6268,\n",
              " 'ĠCer': 17419,\n",
              " 'Ġenlarge': 27475,\n",
              " 'wire': 21809,\n",
              " 'Ġchaired': 44170,\n",
              " 'itri': 49510,\n",
              " 'airs': 3468,\n",
              " 'ĠDover': 46578,\n",
              " 'ĠCourt': 3078,\n",
              " 'Ġgradually': 11835,\n",
              " 'udos': 42418,\n",
              " 'Ġpublishing': 12407,\n",
              " 'travel': 35927,\n",
              " 'Ġtaboo': 35899,\n",
              " 'Ġrouters': 41144,\n",
              " 'Ġsmart': 4451,\n",
              " 'Ġaccuse': 24456,\n",
              " 'Ġindec': 29077,\n",
              " 'Suggest': 43857,\n",
              " 'ĠJar': 15374,\n",
              " 'ĠRober': 4109,\n",
              " 'ists': 1023,\n",
              " 'Ġflask': 42903,\n",
              " 'Ġfew': 1178,\n",
              " 'ĠFeminist': 46259,\n",
              " 'Ġresistor': 45032,\n",
              " 'Ġmodified': 9518,\n",
              " 'idated': 41475,\n",
              " 'Ġshocking': 14702,\n",
              " 'oming': 3383,\n",
              " 'raphic': 22262,\n",
              " 'ensable': 33447,\n",
              " 'ĠUbisoft': 34559,\n",
              " 'ĠColomb': 16872,\n",
              " 'ĠQing': 28927,\n",
              " 'very': 548,\n",
              " 'ĠLev': 16042,\n",
              " 'actual': 50039,\n",
              " 'illard': 32681,\n",
              " 'ĠRebirth': 35538,\n",
              " 'Ġwaive': 40307,\n",
              " 'othe': 20388,\n",
              " 'Ġfailure': 5287,\n",
              " 'member': 19522,\n",
              " 'ĠSalem': 31988,\n",
              " 'Ġcoated': 30267,\n",
              " '25': 1495,\n",
              " 'xiety': 35753,\n",
              " 'SAM': 49302,\n",
              " 'Ġstakes': 21147,\n",
              " 'Ġserves': 9179,\n",
              " 'accept': 13635,\n",
              " 'Ġpopulist': 26815,\n",
              " 'Ġcaus': 26846,\n",
              " 'ophile': 37161,\n",
              " 'Ġtoilets': 32711,\n",
              " 'establish': 40037,\n",
              " 'ĠÎ¼': 18919,\n",
              " 'ĠRiy': 33542,\n",
              " 'ĠLaurent': 39734,\n",
              " 'Ġgrateful': 14066,\n",
              " '032': 49959,\n",
              " 'ĠBG': 34839,\n",
              " 'Ġholiday': 9912,\n",
              " 'Ġnor': 4249,\n",
              " 'described': 34869,\n",
              " 'Ġenvironments': 12493,\n",
              " 'Ġswarm': 30077,\n",
              " 'Ġprudent': 34998,\n",
              " 'reek': 10316,\n",
              " 'ĠCur': 4424,\n",
              " 'Ġsounded': 14846,\n",
              " 'ĠScreen': 15216,\n",
              " 'Ġunanimously': 28355,\n",
              " 'Ġ377': 42163,\n",
              " 'ĠHOT': 44607,\n",
              " 'Ġacquired': 9477,\n",
              " 'ĠResults': 15691,\n",
              " 'Ġm': 285,\n",
              " 'ĠAdmiral': 24646,\n",
              " 'disable': 40223,\n",
              " 'ĠGamergate': 37337,\n",
              " 'Image': 5159,\n",
              " 'MpServer': 31765,\n",
              " 'Ġsudden': 4802,\n",
              " 'Pop': 16979,\n",
              " 'ardless': 14694,\n",
              " 'Ġpipes': 19860,\n",
              " 'Mess': 36479,\n",
              " 'icent': 36712,\n",
              " 'Ġbuoy': 36675,\n",
              " 'ĠVoices': 40440,\n",
              " 'ĠSummoner': 49167,\n",
              " 'Ġcircadian': 47771,\n",
              " 'Ġacutely': 49317,\n",
              " 'angler': 49910,\n",
              " 'Name': 5376,\n",
              " 'Ġmitochond': 25387,\n",
              " 'ĠImperium': 38929,\n",
              " 'unsigned': 43375,\n",
              " 'ĠHitman': 50245,\n",
              " 'osure': 4567,\n",
              " 'ĠSev': 37918,\n",
              " 'yrinth': 21324,\n",
              " 'ĠCommunists': 39049,\n",
              " 'ĠSPR': 49068,\n",
              " 'Ġtemporal': 21964,\n",
              " 'Ġ+/-': 29694,\n",
              " 'Ġfocuses': 13692,\n",
              " 'Ġresidents': 5085,\n",
              " 'ĠPhillips': 17630,\n",
              " 'Arthur': 29874,\n",
              " 'idered': 3089,\n",
              " 'ĠDynamics': 33806,\n",
              " 'ĠTX': 15326,\n",
              " '*/': 16208,\n",
              " 'ĠSpurs': 18353,\n",
              " 'Ġsubmarine': 24927,\n",
              " 'ĠMith': 44137,\n",
              " 'os': 418,\n",
              " 'Angelo': 45585,\n",
              " 'Ġbees': 17002,\n",
              " '¾': 122,\n",
              " 'ĠYet': 6430,\n",
              " 'Ġcomprising': 27918,\n",
              " 'ĠHeidi': 45518,\n",
              " 'TYPE': 25216,\n",
              " 'odes': 4147,\n",
              " 'ĠMob': 16540,\n",
              " 'ĠBought': 29888,\n",
              " 'Ġpreval': 11967,\n",
              " 'Ġpolish': 25245,\n",
              " 'Ġhaving': 1719,\n",
              " 'Ġserum': 20502,\n",
              " 'Ġstark': 19278,\n",
              " 'Mis': 31281,\n",
              " 'Ġfuse': 32738,\n",
              " 'Ġportrayal': 33578,\n",
              " \"='\": 11639,\n",
              " 'Ġfut': 13294,\n",
              " 'isters': 6223,\n",
              " 'SM': 12310,\n",
              " '616': 44214,\n",
              " 'ĠCompetitive': 47665,\n",
              " 'Ġprepar': 9198,\n",
              " 'Ġinsects': 19435,\n",
              " 'Ġloosely': 28845,\n",
              " 'Ġaddition': 3090,\n",
              " 'Bomb': 48478,\n",
              " 'Ġsuitable': 11080,\n",
              " 'ĠMontreal': 12871,\n",
              " 'Ġaccepted': 6292,\n",
              " 'cl': 565,\n",
              " 'ĠCenter': 3337,\n",
              " 'Ġlif': 3868,\n",
              " 'Ġadvocacy': 15364,\n",
              " 'ĠHass': 20300,\n",
              " 'Ġearthquake': 16295,\n",
              " 'ablishment': 25380,\n",
              " 'Ġrelieve': 26958,\n",
              " 'Ġpolicymakers': 29484,\n",
              " 'Ġvolcanic': 31513,\n",
              " 'Ġdistort': 30867,\n",
              " 'ĠâĢ': 564,\n",
              " 'ĠChrom': 18255,\n",
              " 'aucas': 25205,\n",
              " 'ĠGiov': 36089,\n",
              " 'Ġdenomin': 31457,\n",
              " 'Ġsincerity': 44053,\n",
              " 'ĠUm': 21039,\n",
              " 'ĠCanadian': 5398,\n",
              " 'array': 18747,\n",
              " 'ilant': 37794,\n",
              " 'Ġbrowsing': 23182,\n",
              " 'RF': 32754,\n",
              " 'Ġinsight': 11281,\n",
              " 'Ġnewer': 15064,\n",
              " 'Ġquestioned': 11434,\n",
              " 'ĠMiles': 20404,\n",
              " 'ĠIncreases': 23920,\n",
              " 'ĠOption': 16018,\n",
              " 'Ġhail': 32405,\n",
              " 'Ġparanoia': 34370,\n",
              " 'ĠThese': 2312,\n",
              " 'Ġindic': 2699,\n",
              " 'dom': 3438,\n",
              " 'fa': 13331,\n",
              " 'Ġwalls': 7714,\n",
              " 'Ex': 3109,\n",
              " 'Ġpractition': 17629,\n",
              " 'Ġnaming': 19264,\n",
              " 'isting': 9665,\n",
              " 'Ġcompletes': 32543,\n",
              " 'ĠEric': 7651,\n",
              " 'ĠÙĪ': 42092,\n",
              " 'Ġcontinents': 33431,\n",
              " 'Ġuntouched': 36519,\n",
              " 'Ġphp': 39347,\n",
              " 'ĠLLP': 43245,\n",
              " 'folk': 19956,\n",
              " 'ĠAvatar': 26703,\n",
              " 'Apply': 44836,\n",
              " 'inv': 16340,\n",
              " 'ĠSecondary': 29521,\n",
              " 'ĠAdapter': 43721,\n",
              " 'Technical': 45638,\n",
              " 'ĠDAC': 45793,\n",
              " 'ief': 2086,\n",
              " 'ĠCoconut': 46943,\n",
              " 'ĠPegasus': 48188,\n",
              " 'Ġspells': 10377,\n",
              " 'Ġgoodies': 39863,\n",
              " 'ĠONE': 16329,\n",
              " 'Ġscrolling': 28659,\n",
              " 'Ġassures': 45837,\n",
              " 'Ġ)))': 47282,\n",
              " 'ĠHind': 17099,\n",
              " 'ĠElven': 40748,\n",
              " 'Ó': 143,\n",
              " 'Ġaliens': 16269,\n",
              " 'Movie': 25097,\n",
              " 'Ġhuh': 24926,\n",
              " 'ĠNigel': 28772,\n",
              " 'Ġnaval': 19014,\n",
              " 'Mania': 45844,\n",
              " 'ional': 1538,\n",
              " 'weed': 39054,\n",
              " 'ĠVaughan': 47451,\n",
              " 'Ġinspection': 15210,\n",
              " 'Ġthreads': 14390,\n",
              " '09': 2931,\n",
              " 'Ġonce': 1752,\n",
              " 'Sher': 28782,\n",
              " 'ĠHastings': 38330,\n",
              " 'asa': 15462,\n",
              " 'Tra': 15721,\n",
              " 'untled': 46343,\n",
              " 'tone': 41527,\n",
              " 'ĠLAW': 38675,\n",
              " 'Phoenix': 36422,\n",
              " 'Ġmetres': 18985,\n",
              " 'Ġscrub': 27268,\n",
              " 'Ġhammer': 15554,\n",
              " 'cultural': 30844,\n",
              " 'earances': 35630,\n",
              " 'Ġbombshell': 48714,\n",
              " 'Ġsurvivors': 13644,\n",
              " 'Who': 8241,\n",
              " 'Ġatheist': 25222,\n",
              " 'Ġfunction': 2163,\n",
              " 'Jonathan': 30365,\n",
              " 'electric': 31067,\n",
              " 'concept': 43169,\n",
              " 'gor': 7053,\n",
              " 'Ġrecursive': 45115,\n",
              " 'iral': 21093,\n",
              " 'çļĦ': 21410,\n",
              " 'Ġanchors': 43360,\n",
              " 'enable': 21633,\n",
              " 'Ġuniformly': 42096,\n",
              " 'Ġresided': 49330,\n",
              " 'Ġregiment': 34792,\n",
              " 'Ġhij': 16836,\n",
              " 'ĠNurs': 28916,\n",
              " 'Ġparticip': 2916,\n",
              " 'Height': 23106,\n",
              " 'ĠHalifax': 34438,\n",
              " 'Ġquieter': 43880,\n",
              " 'Ġbriefs': 50011,\n",
              " 'ĠWHAT': 25003,\n",
              " 'Ġpretext': 35097,\n",
              " 'ĠProduct': 8721,\n",
              " 'ĠSQ': 49747,\n",
              " 'ĠBUS': 43949,\n",
              " 'Ġconvicted': 9118,\n",
              " 'ĠLyon': 35193,\n",
              " 'prim': 19795,\n",
              " 'Problem': 40781,\n",
              " 'Ġforearm': 41031,\n",
              " 'ĠSkinner': 42899,\n",
              " 'ope': 3008,\n",
              " 'Now': 3844,\n",
              " 'Ġunexpected': 10059,\n",
              " 'Ġskeptical': 17988,\n",
              " 'chid': 28402,\n",
              " 'Round': 22685,\n",
              " 'oglu': 49006,\n",
              " 'ĠVerb': 49973,\n",
              " 'ĠNormandy': 43231,\n",
              " 'otype': 8690,\n",
              " 'CAST': 44647,\n",
              " 'ĠTypical': 48752,\n",
              " 'Ġscent': 21212,\n",
              " 'perty': 9287,\n",
              " 'IONS': 11053,\n",
              " 'ĠEagles': 13785,\n",
              " 'Ġforfe': 19366,\n",
              " 'Ġ@@': 25248,\n",
              " 'Ġ6': 718,\n",
              " 'isy': 13560,\n",
              " 'ĊĊ': 628,\n",
              " 'rored': 34640,\n",
              " 'åī': 30298,\n",
              " 'Ġbuilt': 3170,\n",
              " 'ĠAston': 33644,\n",
              " 'Ġmodifiers': 37395,\n",
              " 'Ġcreditors': 29714,\n",
              " ...}"
            ]
          },
          "execution_count": 7,
          "metadata": {},
          "output_type": "execute_result"
        }
      ],
      "source": [
        "gpt2.tokenizer.vocab"
      ]
    },
    {
      "cell_type": "code",
      "execution_count": 8,
      "metadata": {
        "colab": {
          "base_uri": "https://localhost:8080/"
        },
        "id": "MW6wygmZ5KGX",
        "outputId": "0c6fb572-416d-4b2d-b66a-b3625d5a294e"
      },
      "outputs": [
        {
          "data": {
            "text/plain": [
              "[('Revolution', 50237),\n",
              " ('Ġsnipers', 50238),\n",
              " ('Ġreverted', 50239),\n",
              " ('Ġconglomerate', 50240),\n",
              " ('Terry', 50241),\n",
              " ('794', 50242),\n",
              " ('Ġharsher', 50243),\n",
              " ('Ġdesolate', 50244),\n",
              " ('ĠHitman', 50245),\n",
              " ('Commission', 50246),\n",
              " ('Ġ(/', 50247),\n",
              " ('âĢ¦.\"', 50248),\n",
              " ('Compar', 50249),\n",
              " ('Ġamplification', 50250),\n",
              " ('ominated', 50251),\n",
              " ('Ġregress', 50252),\n",
              " ('ĠCollider', 50253),\n",
              " ('Ġinformants', 50254),\n",
              " ('Ġgazed', 50255),\n",
              " ('<|endoftext|>', 50256)]"
            ]
          },
          "execution_count": 8,
          "metadata": {},
          "output_type": "execute_result"
        }
      ],
      "source": [
        "vocab_sorted = sorted(gpt2.tokenizer.vocab.items(), key=lambda x: x[1])\n",
        "vocab_sorted[-20:]"
      ]
    },
    {
      "cell_type": "code",
      "execution_count": 9,
      "metadata": {},
      "outputs": [],
      "source": [
        "text = (\"This is a story about Quomatarus.\"\n",
        "  + \" When one day Quomatarus decided to do something different and bought a plane ticket to Lamanandu.\"\n",
        "  + \" When he arrived to the airport Quomatarus noticed\")"
      ]
    },
    {
      "cell_type": "code",
      "execution_count": 11,
      "metadata": {},
      "outputs": [
        {
          "data": {
            "text/plain": [
              "[1212,\n",
              " 318,\n",
              " 257,\n",
              " 1621,\n",
              " 546,\n",
              " 2264,\n",
              " 296,\n",
              " 9459,\n",
              " 385,\n",
              " 13,\n",
              " 1649,\n",
              " 530,\n",
              " 1110,\n",
              " 2264,\n",
              " 296,\n",
              " 9459,\n",
              " 385,\n",
              " 3066,\n",
              " 284,\n",
              " 466,\n",
              " 1223,\n",
              " 1180,\n",
              " 290,\n",
              " 5839,\n",
              " 257,\n",
              " 6614,\n",
              " 7846,\n",
              " 284,\n",
              " 406,\n",
              " 10546,\n",
              " 392,\n",
              " 84,\n",
              " 13,\n",
              " 1649,\n",
              " 339,\n",
              " 5284,\n",
              " 284,\n",
              " 262,\n",
              " 9003,\n",
              " 2264,\n",
              " 296,\n",
              " 9459,\n",
              " 385,\n",
              " 6810]"
            ]
          },
          "execution_count": 11,
          "metadata": {},
          "output_type": "execute_result"
        }
      ],
      "source": [
        "gpt2.tokenizer.encode(text)"
      ]
    },
    {
      "cell_type": "code",
      "execution_count": 12,
      "metadata": {},
      "outputs": [
        {
          "name": "stdout",
          "output_type": "stream",
          "text": [
            "['<|endoftext|>', 'This', ' is', ' a', ' story', ' about', ' Qu', 'om', 'atar', 'us', '.', ' When', ' one', ' day', ' Qu', 'om', 'atar', 'us', ' decided', ' to', ' do', ' something', ' different', ' and', ' bought', ' a', ' plane', ' ticket', ' to', ' L', 'aman', 'and', 'u', '.', ' When', ' he', ' arrived', ' to', ' the', ' airport', ' Qu', 'om', 'atar', 'us', ' noticed']\n",
            "torch.Size([1, 45])\n"
          ]
        }
      ],
      "source": [
        "# gpt2.to_str_tokens(text)\n",
        "tokens = gpt2.to_tokens(text)\n",
        "str_tokens = gpt2.to_str_tokens(text)\n",
        "print(str_tokens)\n",
        "print(tokens.shape)"
      ]
    },
    {
      "cell_type": "markdown",
      "metadata": {
        "id": "1QFdOM1F99Ey"
      },
      "source": [
        "### Embedding"
      ]
    },
    {
      "cell_type": "code",
      "execution_count": 13,
      "metadata": {},
      "outputs": [
        {
          "data": {
            "text/plain": [
              "torch.Size([50257, 768])"
            ]
          },
          "execution_count": 13,
          "metadata": {},
          "output_type": "execute_result"
        }
      ],
      "source": [
        "gpt2.W_E.shape"
      ]
    },
    {
      "cell_type": "code",
      "execution_count": 14,
      "metadata": {},
      "outputs": [
        {
          "name": "stdout",
          "output_type": "stream",
          "text": [
            "torch.Size([1, 45, 768])\n"
          ]
        },
        {
          "data": {
            "text/plain": [
              "tensor([[[ 0.0517, -0.0274,  0.0502],\n",
              "         [ 0.0270, -0.0939,  0.0738],\n",
              "         [-0.0078,  0.0120,  0.0575]]], device='cuda:0')"
            ]
          },
          "execution_count": 14,
          "metadata": {},
          "output_type": "execute_result"
        }
      ],
      "source": [
        "embedded = gpt2.W_E[tokens, :]\n",
        "print(embedded.shape)\n",
        "utils.get_corner(embedded)"
      ]
    },
    {
      "cell_type": "markdown",
      "metadata": {
        "id": "IYPPZ_6q-3K5"
      },
      "source": [
        "## Output: \"What comes out?\""
      ]
    },
    {
      "cell_type": "code",
      "execution_count": 15,
      "metadata": {
        "colab": {
          "base_uri": "https://localhost:8080/"
        },
        "id": "R3F7o1W9-9Fm",
        "outputId": "5a51b93d-5ee2-4456-e8cc-e4f6a1777406"
      },
      "outputs": [
        {
          "data": {
            "text/plain": [
              "torch.Size([1, 45, 50257])"
            ]
          },
          "execution_count": 15,
          "metadata": {},
          "output_type": "execute_result"
        }
      ],
      "source": [
        "# gpt2(tokens, return_type=\"loss\")\n",
        "gpt2(tokens).shape"
      ]
    },
    {
      "cell_type": "code",
      "execution_count": 16,
      "metadata": {
        "colab": {
          "base_uri": "https://localhost:8080/"
        },
        "id": "HUrk3ocP_Oit",
        "outputId": "87d79e03-9ca3-4dd3-ab96-ea71c43d58d8"
      },
      "outputs": [
        {
          "name": "stdout",
          "output_type": "stream",
          "text": [
            "torch.Size([1, 45, 50257])\n",
            "ActivationCache with keys ['hook_embed', 'hook_pos_embed', 'blocks.0.hook_resid_pre', 'blocks.0.ln1.hook_scale', 'blocks.0.ln1.hook_normalized', 'blocks.0.attn.hook_q', 'blocks.0.attn.hook_k', 'blocks.0.attn.hook_v', 'blocks.0.attn.hook_attn_scores', 'blocks.0.attn.hook_pattern', 'blocks.0.attn.hook_z', 'blocks.0.hook_attn_out', 'blocks.0.hook_resid_mid', 'blocks.0.ln2.hook_scale', 'blocks.0.ln2.hook_normalized', 'blocks.0.mlp.hook_pre', 'blocks.0.mlp.hook_post', 'blocks.0.hook_mlp_out', 'blocks.0.hook_resid_post', 'blocks.1.hook_resid_pre', 'blocks.1.ln1.hook_scale', 'blocks.1.ln1.hook_normalized', 'blocks.1.attn.hook_q', 'blocks.1.attn.hook_k', 'blocks.1.attn.hook_v', 'blocks.1.attn.hook_attn_scores', 'blocks.1.attn.hook_pattern', 'blocks.1.attn.hook_z', 'blocks.1.hook_attn_out', 'blocks.1.hook_resid_mid', 'blocks.1.ln2.hook_scale', 'blocks.1.ln2.hook_normalized', 'blocks.1.mlp.hook_pre', 'blocks.1.mlp.hook_post', 'blocks.1.hook_mlp_out', 'blocks.1.hook_resid_post', 'blocks.2.hook_resid_pre', 'blocks.2.ln1.hook_scale', 'blocks.2.ln1.hook_normalized', 'blocks.2.attn.hook_q', 'blocks.2.attn.hook_k', 'blocks.2.attn.hook_v', 'blocks.2.attn.hook_attn_scores', 'blocks.2.attn.hook_pattern', 'blocks.2.attn.hook_z', 'blocks.2.hook_attn_out', 'blocks.2.hook_resid_mid', 'blocks.2.ln2.hook_scale', 'blocks.2.ln2.hook_normalized', 'blocks.2.mlp.hook_pre', 'blocks.2.mlp.hook_post', 'blocks.2.hook_mlp_out', 'blocks.2.hook_resid_post', 'blocks.3.hook_resid_pre', 'blocks.3.ln1.hook_scale', 'blocks.3.ln1.hook_normalized', 'blocks.3.attn.hook_q', 'blocks.3.attn.hook_k', 'blocks.3.attn.hook_v', 'blocks.3.attn.hook_attn_scores', 'blocks.3.attn.hook_pattern', 'blocks.3.attn.hook_z', 'blocks.3.hook_attn_out', 'blocks.3.hook_resid_mid', 'blocks.3.ln2.hook_scale', 'blocks.3.ln2.hook_normalized', 'blocks.3.mlp.hook_pre', 'blocks.3.mlp.hook_post', 'blocks.3.hook_mlp_out', 'blocks.3.hook_resid_post', 'blocks.4.hook_resid_pre', 'blocks.4.ln1.hook_scale', 'blocks.4.ln1.hook_normalized', 'blocks.4.attn.hook_q', 'blocks.4.attn.hook_k', 'blocks.4.attn.hook_v', 'blocks.4.attn.hook_attn_scores', 'blocks.4.attn.hook_pattern', 'blocks.4.attn.hook_z', 'blocks.4.hook_attn_out', 'blocks.4.hook_resid_mid', 'blocks.4.ln2.hook_scale', 'blocks.4.ln2.hook_normalized', 'blocks.4.mlp.hook_pre', 'blocks.4.mlp.hook_post', 'blocks.4.hook_mlp_out', 'blocks.4.hook_resid_post', 'blocks.5.hook_resid_pre', 'blocks.5.ln1.hook_scale', 'blocks.5.ln1.hook_normalized', 'blocks.5.attn.hook_q', 'blocks.5.attn.hook_k', 'blocks.5.attn.hook_v', 'blocks.5.attn.hook_attn_scores', 'blocks.5.attn.hook_pattern', 'blocks.5.attn.hook_z', 'blocks.5.hook_attn_out', 'blocks.5.hook_resid_mid', 'blocks.5.ln2.hook_scale', 'blocks.5.ln2.hook_normalized', 'blocks.5.mlp.hook_pre', 'blocks.5.mlp.hook_post', 'blocks.5.hook_mlp_out', 'blocks.5.hook_resid_post', 'blocks.6.hook_resid_pre', 'blocks.6.ln1.hook_scale', 'blocks.6.ln1.hook_normalized', 'blocks.6.attn.hook_q', 'blocks.6.attn.hook_k', 'blocks.6.attn.hook_v', 'blocks.6.attn.hook_attn_scores', 'blocks.6.attn.hook_pattern', 'blocks.6.attn.hook_z', 'blocks.6.hook_attn_out', 'blocks.6.hook_resid_mid', 'blocks.6.ln2.hook_scale', 'blocks.6.ln2.hook_normalized', 'blocks.6.mlp.hook_pre', 'blocks.6.mlp.hook_post', 'blocks.6.hook_mlp_out', 'blocks.6.hook_resid_post', 'blocks.7.hook_resid_pre', 'blocks.7.ln1.hook_scale', 'blocks.7.ln1.hook_normalized', 'blocks.7.attn.hook_q', 'blocks.7.attn.hook_k', 'blocks.7.attn.hook_v', 'blocks.7.attn.hook_attn_scores', 'blocks.7.attn.hook_pattern', 'blocks.7.attn.hook_z', 'blocks.7.hook_attn_out', 'blocks.7.hook_resid_mid', 'blocks.7.ln2.hook_scale', 'blocks.7.ln2.hook_normalized', 'blocks.7.mlp.hook_pre', 'blocks.7.mlp.hook_post', 'blocks.7.hook_mlp_out', 'blocks.7.hook_resid_post', 'blocks.8.hook_resid_pre', 'blocks.8.ln1.hook_scale', 'blocks.8.ln1.hook_normalized', 'blocks.8.attn.hook_q', 'blocks.8.attn.hook_k', 'blocks.8.attn.hook_v', 'blocks.8.attn.hook_attn_scores', 'blocks.8.attn.hook_pattern', 'blocks.8.attn.hook_z', 'blocks.8.hook_attn_out', 'blocks.8.hook_resid_mid', 'blocks.8.ln2.hook_scale', 'blocks.8.ln2.hook_normalized', 'blocks.8.mlp.hook_pre', 'blocks.8.mlp.hook_post', 'blocks.8.hook_mlp_out', 'blocks.8.hook_resid_post', 'blocks.9.hook_resid_pre', 'blocks.9.ln1.hook_scale', 'blocks.9.ln1.hook_normalized', 'blocks.9.attn.hook_q', 'blocks.9.attn.hook_k', 'blocks.9.attn.hook_v', 'blocks.9.attn.hook_attn_scores', 'blocks.9.attn.hook_pattern', 'blocks.9.attn.hook_z', 'blocks.9.hook_attn_out', 'blocks.9.hook_resid_mid', 'blocks.9.ln2.hook_scale', 'blocks.9.ln2.hook_normalized', 'blocks.9.mlp.hook_pre', 'blocks.9.mlp.hook_post', 'blocks.9.hook_mlp_out', 'blocks.9.hook_resid_post', 'blocks.10.hook_resid_pre', 'blocks.10.ln1.hook_scale', 'blocks.10.ln1.hook_normalized', 'blocks.10.attn.hook_q', 'blocks.10.attn.hook_k', 'blocks.10.attn.hook_v', 'blocks.10.attn.hook_attn_scores', 'blocks.10.attn.hook_pattern', 'blocks.10.attn.hook_z', 'blocks.10.hook_attn_out', 'blocks.10.hook_resid_mid', 'blocks.10.ln2.hook_scale', 'blocks.10.ln2.hook_normalized', 'blocks.10.mlp.hook_pre', 'blocks.10.mlp.hook_post', 'blocks.10.hook_mlp_out', 'blocks.10.hook_resid_post', 'blocks.11.hook_resid_pre', 'blocks.11.ln1.hook_scale', 'blocks.11.ln1.hook_normalized', 'blocks.11.attn.hook_q', 'blocks.11.attn.hook_k', 'blocks.11.attn.hook_v', 'blocks.11.attn.hook_attn_scores', 'blocks.11.attn.hook_pattern', 'blocks.11.attn.hook_z', 'blocks.11.hook_attn_out', 'blocks.11.hook_resid_mid', 'blocks.11.ln2.hook_scale', 'blocks.11.ln2.hook_normalized', 'blocks.11.mlp.hook_pre', 'blocks.11.mlp.hook_post', 'blocks.11.hook_mlp_out', 'blocks.11.hook_resid_post', 'ln_final.hook_scale', 'ln_final.hook_normalized']\n"
          ]
        }
      ],
      "source": [
        "# logits, cache = gpt2.run_with_cache(tokens, remove_batch_dim=True)\n",
        "logits, cache = gpt2.run_with_cache(tokens)\n",
        "print(logits.shape)\n",
        "print(cache)"
      ]
    },
    {
      "cell_type": "code",
      "execution_count": 29,
      "metadata": {},
      "outputs": [
        {
          "name": "stdout",
          "output_type": "stream",
          "text": [
            "tensor([[6.6198e-04, 2.4113e-02, 9.5430e-04],\n",
            "        [1.1472e-05, 1.7084e-05, 5.7139e-07],\n",
            "        [1.9788e-05, 7.8417e-06, 1.0032e-06]], device='cuda:0')\n"
          ]
        },
        {
          "data": {
            "text/plain": [
              "tensor([1.0000, 1.0000, 1.0000, 1.0000, 1.0000, 1.0000, 1.0000, 1.0000, 1.0000,\n",
              "        1.0000, 1.0000, 1.0000, 1.0000, 1.0000, 1.0000, 1.0000, 1.0000, 1.0000,\n",
              "        1.0000, 1.0000, 1.0000, 1.0000, 1.0000, 1.0000, 1.0000, 1.0000, 1.0000,\n",
              "        1.0000, 1.0000, 1.0000, 1.0000, 1.0000, 1.0000, 1.0000, 1.0000, 1.0000,\n",
              "        1.0000, 1.0000, 1.0000, 1.0000, 1.0000, 1.0000, 1.0000, 1.0000, 1.0000],\n",
              "       device='cuda:0')"
            ]
          },
          "execution_count": 29,
          "metadata": {},
          "output_type": "execute_result"
        }
      ],
      "source": [
        "probs = logits.squeeze().softmax(dim=-1)\n",
        "print(utils.get_corner(probs))\n",
        "einops.reduce(probs, 'pos token -> pos', 'sum')"
      ]
    },
    {
      "cell_type": "code",
      "execution_count": 21,
      "metadata": {},
      "outputs": [
        {
          "name": "stdout",
          "output_type": "stream",
          "text": [
            "tensor(326, device='cuda:0')\n"
          ]
        },
        {
          "data": {
            "text/plain": [
              "' that'"
            ]
          },
          "execution_count": 21,
          "metadata": {},
          "output_type": "execute_result"
        }
      ],
      "source": [
        "last = logits[0, -1]\n",
        "print(last.argmax())\n",
        "gpt2.tokenizer.decode(last.argmax())"
      ]
    },
    {
      "cell_type": "code",
      "execution_count": 24,
      "metadata": {},
      "outputs": [
        {
          "name": "stdout",
          "output_type": "stream",
          "text": [
            "torch.return_types.topk(\n",
            "values=tensor([16.2408, 15.2805, 14.8070, 13.7773, 13.6780], device='cuda:0'),\n",
            "indices=tensor([326, 257, 262, 339, 465], device='cuda:0'))\n",
            "\" that\"\n",
            "\" a\"\n",
            "\" the\"\n",
            "\" he\"\n",
            "\" his\"\n"
          ]
        }
      ],
      "source": [
        "print(last.topk(5))\n",
        "for i in last.topk(5).indices:\n",
        "    print(f'\"{gpt2.tokenizer.decode(i)}\"')"
      ]
    },
    {
      "cell_type": "code",
      "execution_count": 30,
      "metadata": {
        "colab": {
          "base_uri": "https://localhost:8080/",
          "height": 542
        },
        "id": "6bKSN4FT_vbc",
        "outputId": "3bd32dd1-2cdc-4512-c024-693e1d04499b"
      },
      "outputs": [
        {
          "name": "stdout",
          "output_type": "stream",
          "text": [
            "tensor([0.0080, 0.1840, 0.3330, 0.0130, 0.4980, 0.0000, 0.0000, 0.0000, 0.0000,\n",
            "        0.1410, 0.0040, 0.0090, 0.0150, 0.0260, 0.9140, 0.9800, 0.9960, 0.0090,\n",
            "        0.8060, 0.0170, 0.5500, 0.0160, 0.0380, 0.0010, 0.4080, 0.0110, 0.0940,\n",
            "        0.5280, 0.0020, 0.0010, 0.0020, 0.0050, 0.0320, 0.0190, 0.3050, 0.0910,\n",
            "        0.0140, 0.0970, 0.0600, 0.1080, 0.9930, 0.9940, 0.9980, 0.0200],\n",
            "       device='cuda:0')\n"
          ]
        },
        {
          "data": {
            "text/plain": [
              "tensor([-4.8580e+00, -1.6949e+00, -1.1008e+00, -4.3222e+00, -6.9673e-01,\n",
              "        -1.0088e+01, -8.0420e+00, -1.0918e+01, -9.2068e+00, -1.9596e+00,\n",
              "        -5.5019e+00, -4.7312e+00, -4.1974e+00, -3.6655e+00, -9.0204e-02,\n",
              "        -1.9922e-02, -3.7245e-03, -4.6675e+00, -2.1606e-01, -4.0747e+00,\n",
              "        -5.9848e-01, -4.1610e+00, -3.2812e+00, -7.3975e+00, -8.9542e-01,\n",
              "        -4.5045e+00, -2.3666e+00, -6.3921e-01, -6.3236e+00, -7.3244e+00,\n",
              "        -6.1944e+00, -5.3811e+00, -3.4567e+00, -3.9479e+00, -1.1884e+00,\n",
              "        -2.4014e+00, -4.2923e+00, -2.3332e+00, -2.8089e+00, -2.2295e+00,\n",
              "        -6.7844e-03, -5.6575e-03, -2.0999e-03, -3.9126e+00], device='cuda:0')"
            ]
          },
          "execution_count": 30,
          "metadata": {},
          "output_type": "execute_result"
        }
      ],
      "source": [
        "print(t.round(probs[:, tokens.squeeze()].diag(1), decimals=3))\n",
        "\n",
        "log_probs = logits.squeeze().log_softmax(dim=-1)\n",
        "token_log_probs = log_probs[:, tokens.squeeze()].diag(1)\n",
        "# print(token_log_probs)\n",
        "\n",
        "# token_log_probs = log_probs[:, :-1].gather(dim=-1, index=tokens.squeeze()[1:, None]).squeeze()\n",
        "token_log_probs"
      ]
    },
    {
      "cell_type": "code",
      "execution_count": 28,
      "metadata": {},
      "outputs": [
        {
          "data": {
            "application/vnd.plotly.v1+json": {
              "config": {
                "plotlyServerURL": "https://plot.ly"
              },
              "data": [
                {
                  "hovertemplate": "<b>%{hovertext}</b><br><br>variable=0<br>index=%{x}<br>value=%{y}<extra></extra>",
                  "hovertext": [
                    "This",
                    " is",
                    " a",
                    " story",
                    " about",
                    " Qu",
                    "om",
                    "atar",
                    "us",
                    ".",
                    " When",
                    " one",
                    " day",
                    " Qu",
                    "om",
                    "atar",
                    "us",
                    " decided",
                    " to",
                    " do",
                    " something",
                    " different",
                    " and",
                    " bought",
                    " a",
                    " plane",
                    " ticket",
                    " to",
                    " L",
                    "aman",
                    "and",
                    "u",
                    ".",
                    " When",
                    " he",
                    " arrived",
                    " to",
                    " the",
                    " airport",
                    " Qu",
                    "om",
                    "atar",
                    "us",
                    " noticed"
                  ],
                  "legendgroup": "0",
                  "line": {
                    "color": "#636efa",
                    "dash": "solid"
                  },
                  "marker": {
                    "symbol": "circle"
                  },
                  "mode": "lines",
                  "name": "0",
                  "orientation": "v",
                  "showlegend": true,
                  "type": "scatter",
                  "x": [
                    0,
                    1,
                    2,
                    3,
                    4,
                    5,
                    6,
                    7,
                    8,
                    9,
                    10,
                    11,
                    12,
                    13,
                    14,
                    15,
                    16,
                    17,
                    18,
                    19,
                    20,
                    21,
                    22,
                    23,
                    24,
                    25,
                    26,
                    27,
                    28,
                    29,
                    30,
                    31,
                    32,
                    33,
                    34,
                    35,
                    36,
                    37,
                    38,
                    39,
                    40,
                    41,
                    42,
                    43
                  ],
                  "xaxis": "x",
                  "y": [
                    -4.85804557800293,
                    -1.69492769241333,
                    -1.100827693939209,
                    -4.322223663330078,
                    -0.6967333555221558,
                    -10.087550163269043,
                    -8.041975021362305,
                    -10.917790412902832,
                    -9.206801414489746,
                    -1.9596199989318848,
                    -5.501859664916992,
                    -4.731201171875,
                    -4.197366237640381,
                    -3.6655282974243164,
                    -0.09020402282476425,
                    -0.019922278821468353,
                    -0.0037245445419102907,
                    -4.6675028800964355,
                    -0.21605615317821503,
                    -4.0746893882751465,
                    -0.5984793901443481,
                    -4.160983085632324,
                    -3.281209945678711,
                    -7.397527694702148,
                    -0.8954156637191772,
                    -4.504464149475098,
                    -2.3665735721588135,
                    -0.6392062902450562,
                    -6.323581695556641,
                    -7.324443817138672,
                    -6.194449424743652,
                    -5.381071090698242,
                    -3.456669569015503,
                    -3.9479055404663086,
                    -1.1884150505065918,
                    -2.401409149169922,
                    -4.292324542999268,
                    -2.333191156387329,
                    -2.8088769912719727,
                    -2.229496479034424,
                    -0.006784380413591862,
                    -0.005657494068145752,
                    -0.0020999303087592125,
                    -3.9126133918762207
                  ],
                  "yaxis": "y"
                }
              ],
              "layout": {
                "legend": {
                  "title": {
                    "text": "variable"
                  },
                  "tracegroupgap": 0
                },
                "margin": {
                  "t": 60
                },
                "template": {
                  "data": {
                    "bar": [
                      {
                        "error_x": {
                          "color": "#2a3f5f"
                        },
                        "error_y": {
                          "color": "#2a3f5f"
                        },
                        "marker": {
                          "line": {
                            "color": "#E5ECF6",
                            "width": 0.5
                          },
                          "pattern": {
                            "fillmode": "overlay",
                            "size": 10,
                            "solidity": 0.2
                          }
                        },
                        "type": "bar"
                      }
                    ],
                    "barpolar": [
                      {
                        "marker": {
                          "line": {
                            "color": "#E5ECF6",
                            "width": 0.5
                          },
                          "pattern": {
                            "fillmode": "overlay",
                            "size": 10,
                            "solidity": 0.2
                          }
                        },
                        "type": "barpolar"
                      }
                    ],
                    "carpet": [
                      {
                        "aaxis": {
                          "endlinecolor": "#2a3f5f",
                          "gridcolor": "white",
                          "linecolor": "white",
                          "minorgridcolor": "white",
                          "startlinecolor": "#2a3f5f"
                        },
                        "baxis": {
                          "endlinecolor": "#2a3f5f",
                          "gridcolor": "white",
                          "linecolor": "white",
                          "minorgridcolor": "white",
                          "startlinecolor": "#2a3f5f"
                        },
                        "type": "carpet"
                      }
                    ],
                    "choropleth": [
                      {
                        "colorbar": {
                          "outlinewidth": 0,
                          "ticks": ""
                        },
                        "type": "choropleth"
                      }
                    ],
                    "contour": [
                      {
                        "colorbar": {
                          "outlinewidth": 0,
                          "ticks": ""
                        },
                        "colorscale": [
                          [
                            0,
                            "#0d0887"
                          ],
                          [
                            0.1111111111111111,
                            "#46039f"
                          ],
                          [
                            0.2222222222222222,
                            "#7201a8"
                          ],
                          [
                            0.3333333333333333,
                            "#9c179e"
                          ],
                          [
                            0.4444444444444444,
                            "#bd3786"
                          ],
                          [
                            0.5555555555555556,
                            "#d8576b"
                          ],
                          [
                            0.6666666666666666,
                            "#ed7953"
                          ],
                          [
                            0.7777777777777778,
                            "#fb9f3a"
                          ],
                          [
                            0.8888888888888888,
                            "#fdca26"
                          ],
                          [
                            1,
                            "#f0f921"
                          ]
                        ],
                        "type": "contour"
                      }
                    ],
                    "contourcarpet": [
                      {
                        "colorbar": {
                          "outlinewidth": 0,
                          "ticks": ""
                        },
                        "type": "contourcarpet"
                      }
                    ],
                    "heatmap": [
                      {
                        "colorbar": {
                          "outlinewidth": 0,
                          "ticks": ""
                        },
                        "colorscale": [
                          [
                            0,
                            "#0d0887"
                          ],
                          [
                            0.1111111111111111,
                            "#46039f"
                          ],
                          [
                            0.2222222222222222,
                            "#7201a8"
                          ],
                          [
                            0.3333333333333333,
                            "#9c179e"
                          ],
                          [
                            0.4444444444444444,
                            "#bd3786"
                          ],
                          [
                            0.5555555555555556,
                            "#d8576b"
                          ],
                          [
                            0.6666666666666666,
                            "#ed7953"
                          ],
                          [
                            0.7777777777777778,
                            "#fb9f3a"
                          ],
                          [
                            0.8888888888888888,
                            "#fdca26"
                          ],
                          [
                            1,
                            "#f0f921"
                          ]
                        ],
                        "type": "heatmap"
                      }
                    ],
                    "heatmapgl": [
                      {
                        "colorbar": {
                          "outlinewidth": 0,
                          "ticks": ""
                        },
                        "colorscale": [
                          [
                            0,
                            "#0d0887"
                          ],
                          [
                            0.1111111111111111,
                            "#46039f"
                          ],
                          [
                            0.2222222222222222,
                            "#7201a8"
                          ],
                          [
                            0.3333333333333333,
                            "#9c179e"
                          ],
                          [
                            0.4444444444444444,
                            "#bd3786"
                          ],
                          [
                            0.5555555555555556,
                            "#d8576b"
                          ],
                          [
                            0.6666666666666666,
                            "#ed7953"
                          ],
                          [
                            0.7777777777777778,
                            "#fb9f3a"
                          ],
                          [
                            0.8888888888888888,
                            "#fdca26"
                          ],
                          [
                            1,
                            "#f0f921"
                          ]
                        ],
                        "type": "heatmapgl"
                      }
                    ],
                    "histogram": [
                      {
                        "marker": {
                          "pattern": {
                            "fillmode": "overlay",
                            "size": 10,
                            "solidity": 0.2
                          }
                        },
                        "type": "histogram"
                      }
                    ],
                    "histogram2d": [
                      {
                        "colorbar": {
                          "outlinewidth": 0,
                          "ticks": ""
                        },
                        "colorscale": [
                          [
                            0,
                            "#0d0887"
                          ],
                          [
                            0.1111111111111111,
                            "#46039f"
                          ],
                          [
                            0.2222222222222222,
                            "#7201a8"
                          ],
                          [
                            0.3333333333333333,
                            "#9c179e"
                          ],
                          [
                            0.4444444444444444,
                            "#bd3786"
                          ],
                          [
                            0.5555555555555556,
                            "#d8576b"
                          ],
                          [
                            0.6666666666666666,
                            "#ed7953"
                          ],
                          [
                            0.7777777777777778,
                            "#fb9f3a"
                          ],
                          [
                            0.8888888888888888,
                            "#fdca26"
                          ],
                          [
                            1,
                            "#f0f921"
                          ]
                        ],
                        "type": "histogram2d"
                      }
                    ],
                    "histogram2dcontour": [
                      {
                        "colorbar": {
                          "outlinewidth": 0,
                          "ticks": ""
                        },
                        "colorscale": [
                          [
                            0,
                            "#0d0887"
                          ],
                          [
                            0.1111111111111111,
                            "#46039f"
                          ],
                          [
                            0.2222222222222222,
                            "#7201a8"
                          ],
                          [
                            0.3333333333333333,
                            "#9c179e"
                          ],
                          [
                            0.4444444444444444,
                            "#bd3786"
                          ],
                          [
                            0.5555555555555556,
                            "#d8576b"
                          ],
                          [
                            0.6666666666666666,
                            "#ed7953"
                          ],
                          [
                            0.7777777777777778,
                            "#fb9f3a"
                          ],
                          [
                            0.8888888888888888,
                            "#fdca26"
                          ],
                          [
                            1,
                            "#f0f921"
                          ]
                        ],
                        "type": "histogram2dcontour"
                      }
                    ],
                    "mesh3d": [
                      {
                        "colorbar": {
                          "outlinewidth": 0,
                          "ticks": ""
                        },
                        "type": "mesh3d"
                      }
                    ],
                    "parcoords": [
                      {
                        "line": {
                          "colorbar": {
                            "outlinewidth": 0,
                            "ticks": ""
                          }
                        },
                        "type": "parcoords"
                      }
                    ],
                    "pie": [
                      {
                        "automargin": true,
                        "type": "pie"
                      }
                    ],
                    "scatter": [
                      {
                        "fillpattern": {
                          "fillmode": "overlay",
                          "size": 10,
                          "solidity": 0.2
                        },
                        "type": "scatter"
                      }
                    ],
                    "scatter3d": [
                      {
                        "line": {
                          "colorbar": {
                            "outlinewidth": 0,
                            "ticks": ""
                          }
                        },
                        "marker": {
                          "colorbar": {
                            "outlinewidth": 0,
                            "ticks": ""
                          }
                        },
                        "type": "scatter3d"
                      }
                    ],
                    "scattercarpet": [
                      {
                        "marker": {
                          "colorbar": {
                            "outlinewidth": 0,
                            "ticks": ""
                          }
                        },
                        "type": "scattercarpet"
                      }
                    ],
                    "scattergeo": [
                      {
                        "marker": {
                          "colorbar": {
                            "outlinewidth": 0,
                            "ticks": ""
                          }
                        },
                        "type": "scattergeo"
                      }
                    ],
                    "scattergl": [
                      {
                        "marker": {
                          "colorbar": {
                            "outlinewidth": 0,
                            "ticks": ""
                          }
                        },
                        "type": "scattergl"
                      }
                    ],
                    "scattermapbox": [
                      {
                        "marker": {
                          "colorbar": {
                            "outlinewidth": 0,
                            "ticks": ""
                          }
                        },
                        "type": "scattermapbox"
                      }
                    ],
                    "scatterpolar": [
                      {
                        "marker": {
                          "colorbar": {
                            "outlinewidth": 0,
                            "ticks": ""
                          }
                        },
                        "type": "scatterpolar"
                      }
                    ],
                    "scatterpolargl": [
                      {
                        "marker": {
                          "colorbar": {
                            "outlinewidth": 0,
                            "ticks": ""
                          }
                        },
                        "type": "scatterpolargl"
                      }
                    ],
                    "scatterternary": [
                      {
                        "marker": {
                          "colorbar": {
                            "outlinewidth": 0,
                            "ticks": ""
                          }
                        },
                        "type": "scatterternary"
                      }
                    ],
                    "surface": [
                      {
                        "colorbar": {
                          "outlinewidth": 0,
                          "ticks": ""
                        },
                        "colorscale": [
                          [
                            0,
                            "#0d0887"
                          ],
                          [
                            0.1111111111111111,
                            "#46039f"
                          ],
                          [
                            0.2222222222222222,
                            "#7201a8"
                          ],
                          [
                            0.3333333333333333,
                            "#9c179e"
                          ],
                          [
                            0.4444444444444444,
                            "#bd3786"
                          ],
                          [
                            0.5555555555555556,
                            "#d8576b"
                          ],
                          [
                            0.6666666666666666,
                            "#ed7953"
                          ],
                          [
                            0.7777777777777778,
                            "#fb9f3a"
                          ],
                          [
                            0.8888888888888888,
                            "#fdca26"
                          ],
                          [
                            1,
                            "#f0f921"
                          ]
                        ],
                        "type": "surface"
                      }
                    ],
                    "table": [
                      {
                        "cells": {
                          "fill": {
                            "color": "#EBF0F8"
                          },
                          "line": {
                            "color": "white"
                          }
                        },
                        "header": {
                          "fill": {
                            "color": "#C8D4E3"
                          },
                          "line": {
                            "color": "white"
                          }
                        },
                        "type": "table"
                      }
                    ]
                  },
                  "layout": {
                    "annotationdefaults": {
                      "arrowcolor": "#2a3f5f",
                      "arrowhead": 0,
                      "arrowwidth": 1
                    },
                    "autotypenumbers": "strict",
                    "coloraxis": {
                      "colorbar": {
                        "outlinewidth": 0,
                        "ticks": ""
                      }
                    },
                    "colorscale": {
                      "diverging": [
                        [
                          0,
                          "#8e0152"
                        ],
                        [
                          0.1,
                          "#c51b7d"
                        ],
                        [
                          0.2,
                          "#de77ae"
                        ],
                        [
                          0.3,
                          "#f1b6da"
                        ],
                        [
                          0.4,
                          "#fde0ef"
                        ],
                        [
                          0.5,
                          "#f7f7f7"
                        ],
                        [
                          0.6,
                          "#e6f5d0"
                        ],
                        [
                          0.7,
                          "#b8e186"
                        ],
                        [
                          0.8,
                          "#7fbc41"
                        ],
                        [
                          0.9,
                          "#4d9221"
                        ],
                        [
                          1,
                          "#276419"
                        ]
                      ],
                      "sequential": [
                        [
                          0,
                          "#0d0887"
                        ],
                        [
                          0.1111111111111111,
                          "#46039f"
                        ],
                        [
                          0.2222222222222222,
                          "#7201a8"
                        ],
                        [
                          0.3333333333333333,
                          "#9c179e"
                        ],
                        [
                          0.4444444444444444,
                          "#bd3786"
                        ],
                        [
                          0.5555555555555556,
                          "#d8576b"
                        ],
                        [
                          0.6666666666666666,
                          "#ed7953"
                        ],
                        [
                          0.7777777777777778,
                          "#fb9f3a"
                        ],
                        [
                          0.8888888888888888,
                          "#fdca26"
                        ],
                        [
                          1,
                          "#f0f921"
                        ]
                      ],
                      "sequentialminus": [
                        [
                          0,
                          "#0d0887"
                        ],
                        [
                          0.1111111111111111,
                          "#46039f"
                        ],
                        [
                          0.2222222222222222,
                          "#7201a8"
                        ],
                        [
                          0.3333333333333333,
                          "#9c179e"
                        ],
                        [
                          0.4444444444444444,
                          "#bd3786"
                        ],
                        [
                          0.5555555555555556,
                          "#d8576b"
                        ],
                        [
                          0.6666666666666666,
                          "#ed7953"
                        ],
                        [
                          0.7777777777777778,
                          "#fb9f3a"
                        ],
                        [
                          0.8888888888888888,
                          "#fdca26"
                        ],
                        [
                          1,
                          "#f0f921"
                        ]
                      ]
                    },
                    "colorway": [
                      "#636efa",
                      "#EF553B",
                      "#00cc96",
                      "#ab63fa",
                      "#FFA15A",
                      "#19d3f3",
                      "#FF6692",
                      "#B6E880",
                      "#FF97FF",
                      "#FECB52"
                    ],
                    "font": {
                      "color": "#2a3f5f"
                    },
                    "geo": {
                      "bgcolor": "white",
                      "lakecolor": "white",
                      "landcolor": "#E5ECF6",
                      "showlakes": true,
                      "showland": true,
                      "subunitcolor": "white"
                    },
                    "hoverlabel": {
                      "align": "left"
                    },
                    "hovermode": "closest",
                    "mapbox": {
                      "style": "light"
                    },
                    "paper_bgcolor": "white",
                    "plot_bgcolor": "#E5ECF6",
                    "polar": {
                      "angularaxis": {
                        "gridcolor": "white",
                        "linecolor": "white",
                        "ticks": ""
                      },
                      "bgcolor": "#E5ECF6",
                      "radialaxis": {
                        "gridcolor": "white",
                        "linecolor": "white",
                        "ticks": ""
                      }
                    },
                    "scene": {
                      "xaxis": {
                        "backgroundcolor": "#E5ECF6",
                        "gridcolor": "white",
                        "gridwidth": 2,
                        "linecolor": "white",
                        "showbackground": true,
                        "ticks": "",
                        "zerolinecolor": "white"
                      },
                      "yaxis": {
                        "backgroundcolor": "#E5ECF6",
                        "gridcolor": "white",
                        "gridwidth": 2,
                        "linecolor": "white",
                        "showbackground": true,
                        "ticks": "",
                        "zerolinecolor": "white"
                      },
                      "zaxis": {
                        "backgroundcolor": "#E5ECF6",
                        "gridcolor": "white",
                        "gridwidth": 2,
                        "linecolor": "white",
                        "showbackground": true,
                        "ticks": "",
                        "zerolinecolor": "white"
                      }
                    },
                    "shapedefaults": {
                      "line": {
                        "color": "#2a3f5f"
                      }
                    },
                    "ternary": {
                      "aaxis": {
                        "gridcolor": "white",
                        "linecolor": "white",
                        "ticks": ""
                      },
                      "baxis": {
                        "gridcolor": "white",
                        "linecolor": "white",
                        "ticks": ""
                      },
                      "bgcolor": "#E5ECF6",
                      "caxis": {
                        "gridcolor": "white",
                        "linecolor": "white",
                        "ticks": ""
                      }
                    },
                    "title": {
                      "x": 0.05
                    },
                    "xaxis": {
                      "automargin": true,
                      "gridcolor": "white",
                      "linecolor": "white",
                      "ticks": "",
                      "title": {
                        "standoff": 15
                      },
                      "zerolinecolor": "white",
                      "zerolinewidth": 2
                    },
                    "yaxis": {
                      "automargin": true,
                      "gridcolor": "white",
                      "linecolor": "white",
                      "ticks": "",
                      "title": {
                        "standoff": 15
                      },
                      "zerolinecolor": "white",
                      "zerolinewidth": 2
                    }
                  }
                },
                "xaxis": {
                  "anchor": "y",
                  "domain": [
                    0,
                    1
                  ],
                  "title": {
                    "text": "index"
                  }
                },
                "yaxis": {
                  "anchor": "x",
                  "domain": [
                    0,
                    1
                  ],
                  "title": {
                    "text": "value"
                  }
                }
              }
            }
          },
          "metadata": {},
          "output_type": "display_data"
        }
      ],
      "source": [
        "px.line(utils.to_numpy(token_log_probs), hover_name=str_tokens[1:])"
      ]
    },
    {
      "cell_type": "markdown",
      "metadata": {
        "id": "X9NeGFPUEO6W"
      },
      "source": [
        "# Structure"
      ]
    },
    {
      "cell_type": "markdown",
      "metadata": {},
      "source": [
        "## What do the \"big brothers\" look like?\n",
        "\n",
        "- GPT-3: https://arxiv.org/abs/2005.14165v4\n",
        "- PaLM: https://jmlr.org/papers/v24/22-1144.html\n",
        "- LLaMA: https://arxiv.org/abs/2302.13971"
      ]
    },
    {
      "cell_type": "code",
      "execution_count": 31,
      "metadata": {},
      "outputs": [
        {
          "name": "stdout",
          "output_type": "stream",
          "text": [
            "embed.W_E torch.Size([50257, 768])\n",
            "pos_embed.W_pos torch.Size([1024, 768])\n",
            "blocks.0.attn.W_Q torch.Size([12, 768, 64])\n",
            "blocks.0.attn.W_K torch.Size([12, 768, 64])\n",
            "blocks.0.attn.W_V torch.Size([12, 768, 64])\n",
            "blocks.0.attn.W_O torch.Size([12, 64, 768])\n",
            "blocks.0.attn.b_Q torch.Size([12, 64])\n",
            "blocks.0.attn.b_K torch.Size([12, 64])\n",
            "blocks.0.attn.b_V torch.Size([12, 64])\n",
            "blocks.0.attn.b_O torch.Size([768])\n",
            "blocks.0.mlp.W_in torch.Size([768, 3072])\n",
            "blocks.0.mlp.b_in torch.Size([3072])\n",
            "blocks.0.mlp.W_out torch.Size([3072, 768])\n",
            "blocks.0.mlp.b_out torch.Size([768])\n",
            "unembed.W_U torch.Size([768, 50257])\n",
            "unembed.b_U torch.Size([50257])\n"
          ]
        }
      ],
      "source": [
        "for name, p in gpt2.named_parameters():\n",
        "  if \".0.\" in name or \"blocks\" not in name:\n",
        "    print(name, p.shape)"
      ]
    },
    {
      "cell_type": "code",
      "execution_count": 32,
      "metadata": {},
      "outputs": [
        {
          "name": "stdout",
          "output_type": "stream",
          "text": [
            "hook_embed torch.Size([1, 45, 768])\n",
            "hook_pos_embed torch.Size([1, 45, 768])\n",
            "blocks.0.hook_resid_pre torch.Size([1, 45, 768])\n",
            "blocks.0.ln1.hook_scale torch.Size([1, 45, 1])\n",
            "blocks.0.ln1.hook_normalized torch.Size([1, 45, 768])\n",
            "blocks.0.attn.hook_q torch.Size([1, 45, 12, 64])\n",
            "blocks.0.attn.hook_k torch.Size([1, 45, 12, 64])\n",
            "blocks.0.attn.hook_v torch.Size([1, 45, 12, 64])\n",
            "blocks.0.attn.hook_attn_scores torch.Size([1, 12, 45, 45])\n",
            "blocks.0.attn.hook_pattern torch.Size([1, 12, 45, 45])\n",
            "blocks.0.attn.hook_z torch.Size([1, 45, 12, 64])\n",
            "blocks.0.hook_attn_out torch.Size([1, 45, 768])\n",
            "blocks.0.hook_resid_mid torch.Size([1, 45, 768])\n",
            "blocks.0.ln2.hook_scale torch.Size([1, 45, 1])\n",
            "blocks.0.ln2.hook_normalized torch.Size([1, 45, 768])\n",
            "blocks.0.mlp.hook_pre torch.Size([1, 45, 3072])\n",
            "blocks.0.mlp.hook_post torch.Size([1, 45, 3072])\n",
            "blocks.0.hook_mlp_out torch.Size([1, 45, 768])\n",
            "blocks.0.hook_resid_post torch.Size([1, 45, 768])\n",
            "ln_final.hook_scale torch.Size([1, 45, 1])\n",
            "ln_final.hook_normalized torch.Size([1, 45, 768])\n"
          ]
        }
      ],
      "source": [
        "for activation_name, activation in cache.items():\n",
        "    # Only print for the first layer\n",
        "    if \".0.\" in activation_name or \"blocks\" not in activation_name:\n",
        "        print(activation_name, activation.shape)"
      ]
    },
    {
      "cell_type": "code",
      "execution_count": 34,
      "metadata": {},
      "outputs": [],
      "source": [
        "from fancy_einsum import einsum"
      ]
    },
    {
      "cell_type": "code",
      "execution_count": 35,
      "metadata": {
        "colab": {
          "base_uri": "https://localhost:8080/"
        },
        "id": "dfT0J2vqFbte",
        "outputId": "b521ff5f-c828-4e8b-b448-7c7ad25e86cb"
      },
      "outputs": [
        {
          "name": "stdout",
          "output_type": "stream",
          "text": [
            "tensor([[[-0.1944, -2.0492, -2.7343],\n",
            "         [ 0.3661, -1.2688, -1.3038],\n",
            "         [ 0.0980, -1.5448, -1.3435]]], device='cuda:0')\n",
            "tensor([[[-0.1944, -2.0492, -2.7343],\n",
            "         [ 0.3661, -1.2688, -1.3038],\n",
            "         [ 0.0980, -1.5448, -1.3435]]], device='cuda:0')\n"
          ]
        }
      ],
      "source": [
        "mlp_before = cache[\"normalized\", 0, \"ln2\"]\n",
        "# gpt2.W_in[0].shape\n",
        "mlp_mid1 = einsum(\"batch pos d_model, d_model d_mlp -> batch pos d_mlp\", mlp_before, gpt2.W_in[0]) + gpt2.b_in[0]\n",
        "print(utils.get_corner(mlp_mid1))\n",
        "print(utils.get_corner(cache[\"pre\", 0, \"mlp\"]))"
      ]
    },
    {
      "cell_type": "code",
      "execution_count": 37,
      "metadata": {},
      "outputs": [
        {
          "name": "stdout",
          "output_type": "stream",
          "text": [
            "tensor([[[-0.5169,  0.2836,  0.4329],\n",
            "         [-0.6278, -0.1156,  1.0684],\n",
            "         [-1.6660,  0.3645, -0.8681]]], device='cuda:0')\n",
            "tensor([[[-0.5169,  0.2836,  0.4329],\n",
            "         [-0.6278, -0.1156,  1.0684],\n",
            "         [-1.6660,  0.3645, -0.8681]]], device='cuda:0')\n"
          ]
        }
      ],
      "source": [
        "mlp_mid2 = utils.gelu_new(mlp_mid1)\n",
        "# print(utils.get_corner(mlp_mid2))\n",
        "# print(utils.get_corner(cache[\"post\", 0, \"mlp\"]))\n",
        "mlp_after = einsum(\"batch pos d_mlp, d_mlp d_model -> batch pos d_model\", mlp_mid2, gpt2.W_out[0]) + gpt2.b_out[0]\n",
        "print(utils.get_corner(mlp_after))\n",
        "print(utils.get_corner(cache[\"mlp_out\", 0]))\n"
      ]
    },
    {
      "cell_type": "code",
      "execution_count": 38,
      "metadata": {},
      "outputs": [],
      "source": [
        "from transformer_lens.utils import get_corner"
      ]
    },
    {
      "cell_type": "code",
      "execution_count": 39,
      "metadata": {},
      "outputs": [
        {
          "name": "stdout",
          "output_type": "stream",
          "text": [
            "torch.Size([12, 45, 45])\n"
          ]
        },
        {
          "data": {
            "text/html": [
              "<div id=\"circuits-vis-1c6882b7-f1f8\" style=\"margin: 15px 0;\"/>\n",
              "    <script crossorigin type=\"module\">\n",
              "    import { render, AttentionPattern } from \"https://unpkg.com/circuitsvis@1.41.0/dist/cdn/esm.js\";\n",
              "    render(\n",
              "      \"circuits-vis-1c6882b7-f1f8\",\n",
              "      AttentionPattern,\n",
              "      {\"tokens\": [\"<|endoftext|>\", \"This\", \" is\", \" a\", \" story\", \" about\", \" Qu\", \"om\", \"atar\", \"us\", \".\", \" When\", \" one\", \" day\", \" Qu\", \"om\", \"atar\", \"us\", \" decided\", \" to\", \" do\", \" something\", \" different\", \" and\", \" bought\", \" a\", \" plane\", \" ticket\", \" to\", \" L\", \"aman\", \"and\", \"u\", \".\", \" When\", \" he\", \" arrived\", \" to\", \" the\", \" airport\", \" Qu\", \"om\", \"atar\", \"us\", \" noticed\"], \"attention\": [[1.0, 0.0, 0.0, 0.0, 0.0, 0.0, 0.0, 0.0, 0.0, 0.0, 0.0, 0.0, 0.0, 0.0, 0.0, 0.0, 0.0, 0.0, 0.0, 0.0, 0.0, 0.0, 0.0, 0.0, 0.0, 0.0, 0.0, 0.0, 0.0, 0.0, 0.0, 0.0, 0.0, 0.0, 0.0, 0.0, 0.0, 0.0, 0.0, 0.0, 0.0, 0.0, 0.0, 0.0, 0.0], [0.3265746533870697, 0.6734253764152527, 0.0, 0.0, 0.0, 0.0, 0.0, 0.0, 0.0, 0.0, 0.0, 0.0, 0.0, 0.0, 0.0, 0.0, 0.0, 0.0, 0.0, 0.0, 0.0, 0.0, 0.0, 0.0, 0.0, 0.0, 0.0, 0.0, 0.0, 0.0, 0.0, 0.0, 0.0, 0.0, 0.0, 0.0, 0.0, 0.0, 0.0, 0.0, 0.0, 0.0, 0.0, 0.0, 0.0], [0.2780389189720154, 0.004687132779508829, 0.7172738909721375, 0.0, 0.0, 0.0, 0.0, 0.0, 0.0, 0.0, 0.0, 0.0, 0.0, 0.0, 0.0, 0.0, 0.0, 0.0, 0.0, 0.0, 0.0, 0.0, 0.0, 0.0, 0.0, 0.0, 0.0, 0.0, 0.0, 0.0, 0.0, 0.0, 0.0, 0.0, 0.0, 0.0, 0.0, 0.0, 0.0, 0.0, 0.0, 0.0, 0.0, 0.0, 0.0], [0.2634090483188629, 0.047037020325660706, 0.08585897088050842, 0.6036949157714844, 0.0, 0.0, 0.0, 0.0, 0.0, 0.0, 0.0, 0.0, 0.0, 0.0, 0.0, 0.0, 0.0, 0.0, 0.0, 0.0, 0.0, 0.0, 0.0, 0.0, 0.0, 0.0, 0.0, 0.0, 0.0, 0.0, 0.0, 0.0, 0.0, 0.0, 0.0, 0.0, 0.0, 0.0, 0.0, 0.0, 0.0, 0.0, 0.0, 0.0, 0.0], [0.052918680012226105, 0.0002507688186597079, 2.591986776678823e-05, 1.4333871149574406e-05, 0.9467902779579163, 0.0, 0.0, 0.0, 0.0, 0.0, 0.0, 0.0, 0.0, 0.0, 0.0, 0.0, 0.0, 0.0, 0.0, 0.0, 0.0, 0.0, 0.0, 0.0, 0.0, 0.0, 0.0, 0.0, 0.0, 0.0, 0.0, 0.0, 0.0, 0.0, 0.0, 0.0, 0.0, 0.0, 0.0, 0.0, 0.0, 0.0, 0.0, 0.0, 0.0], [0.07391363382339478, 0.0019347770139575005, 0.0018692186567932367, 0.003031729022040963, 0.0035935593768954277, 0.9156570434570312, 0.0, 0.0, 0.0, 0.0, 0.0, 0.0, 0.0, 0.0, 0.0, 0.0, 0.0, 0.0, 0.0, 0.0, 0.0, 0.0, 0.0, 0.0, 0.0, 0.0, 0.0, 0.0, 0.0, 0.0, 0.0, 0.0, 0.0, 0.0, 0.0, 0.0, 0.0, 0.0, 0.0, 0.0, 0.0, 0.0, 0.0, 0.0, 0.0], [0.04230703413486481, 6.600035703741014e-06, 5.842212885909248e-06, 2.246369376734947e-06, 6.351682532113045e-05, 6.647173904639203e-07, 0.9576141238212585, 0.0, 0.0, 0.0, 0.0, 0.0, 0.0, 0.0, 0.0, 0.0, 0.0, 0.0, 0.0, 0.0, 0.0, 0.0, 0.0, 0.0, 0.0, 0.0, 0.0, 0.0, 0.0, 0.0, 0.0, 0.0, 0.0, 0.0, 0.0, 0.0, 0.0, 0.0, 0.0, 0.0, 0.0, 0.0, 0.0, 0.0, 0.0], [0.0206429585814476, 0.00014371168799698353, 8.020357199711725e-06, 8.985038220998831e-06, 5.115984458825551e-05, 7.789507435518317e-06, 0.000325893925037235, 0.9788115620613098, 0.0, 0.0, 0.0, 0.0, 0.0, 0.0, 0.0, 0.0, 0.0, 0.0, 0.0, 0.0, 0.0, 0.0, 0.0, 0.0, 0.0, 0.0, 0.0, 0.0, 0.0, 0.0, 0.0, 0.0, 0.0, 0.0, 0.0, 0.0, 0.0, 0.0, 0.0, 0.0, 0.0, 0.0, 0.0, 0.0, 0.0], [0.000631568138487637, 5.8020259530167095e-06, 6.165752211018116e-07, 1.7416448372387094e-07, 7.064399483169836e-07, 7.02842783084634e-07, 4.637753590941429e-06, 6.002414465910988e-06, 0.9993498921394348, 0.0, 0.0, 0.0, 0.0, 0.0, 0.0, 0.0, 0.0, 0.0, 0.0, 0.0, 0.0, 0.0, 0.0, 0.0, 0.0, 0.0, 0.0, 0.0, 0.0, 0.0, 0.0, 0.0, 0.0, 0.0, 0.0, 0.0, 0.0, 0.0, 0.0, 0.0, 0.0, 0.0, 0.0, 0.0, 0.0], [0.019654270261526108, 0.00023803053773008287, 4.5659777242690325e-05, 4.616998921846971e-05, 0.0005037199007347226, 3.822494181804359e-05, 4.512145824264735e-05, 0.00047819266910664737, 3.0806040740571916e-05, 0.9789197444915771, 0.0, 0.0, 0.0, 0.0, 0.0, 0.0, 0.0, 0.0, 0.0, 0.0, 0.0, 0.0, 0.0, 0.0, 0.0, 0.0, 0.0, 0.0, 0.0, 0.0, 0.0, 0.0, 0.0, 0.0, 0.0, 0.0, 0.0, 0.0, 0.0, 0.0, 0.0, 0.0, 0.0, 0.0, 0.0], [0.17263254523277283, 0.24657517671585083, 0.06896965205669403, 0.11008747667074203, 0.037054549902677536, 0.053889766335487366, 0.01340477541089058, 0.020665129646658897, 0.006377100478857756, 0.024987105280160904, 0.2453567534685135, 0.0, 0.0, 0.0, 0.0, 0.0, 0.0, 0.0, 0.0, 0.0, 0.0, 0.0, 0.0, 0.0, 0.0, 0.0, 0.0, 0.0, 0.0, 0.0, 0.0, 0.0, 0.0, 0.0, 0.0, 0.0, 0.0, 0.0, 0.0, 0.0, 0.0, 0.0, 0.0, 0.0, 0.0], [0.051835134625434875, 0.009634863585233688, 0.0001324746262980625, 0.00019998342031612992, 7.337142596952617e-05, 0.0003093297709710896, 0.0006302754627540708, 0.00013074085291009396, 2.6355261070420966e-05, 4.4999938836554065e-05, 2.2128981072455645e-05, 0.9369603395462036, 0.0, 0.0, 0.0, 0.0, 0.0, 0.0, 0.0, 0.0, 0.0, 0.0, 0.0, 0.0, 0.0, 0.0, 0.0, 0.0, 0.0, 0.0, 0.0, 0.0, 0.0, 0.0, 0.0, 0.0, 0.0, 0.0, 0.0, 0.0, 0.0, 0.0, 0.0, 0.0, 0.0], [0.046513013541698456, 0.004981568548828363, 0.0027144725900143385, 0.028592463582754135, 0.0039606839418411255, 0.0006405431195162237, 0.002951687201857567, 0.0020116493105888367, 0.0001940533402375877, 0.0005175258847884834, 0.0009992397390305996, 0.00020881298405583948, 0.9057142734527588, 0.0, 0.0, 0.0, 0.0, 0.0, 0.0, 0.0, 0.0, 0.0, 0.0, 0.0, 0.0, 0.0, 0.0, 0.0, 0.0, 0.0, 0.0, 0.0, 0.0, 0.0, 0.0, 0.0, 0.0, 0.0, 0.0, 0.0, 0.0, 0.0, 0.0, 0.0, 0.0], [0.011992690153419971, 0.0001612581982044503, 2.2960921342018992e-05, 4.938325582770631e-05, 0.0012957652797922492, 5.631867679767311e-06, 4.180755058769137e-05, 3.9423197449650615e-05, 5.16605678058113e-06, 4.86250537505839e-05, 1.7490969185018912e-05, 1.3159796253603417e-05, 0.00028230607858859, 0.9860243201255798, 0.0, 0.0, 0.0, 0.0, 0.0, 0.0, 0.0, 0.0, 0.0, 0.0, 0.0, 0.0, 0.0, 0.0, 0.0, 0.0, 0.0, 0.0, 0.0, 0.0, 0.0, 0.0, 0.0, 0.0, 0.0, 0.0, 0.0, 0.0, 0.0, 0.0, 0.0], [0.010140488855540752, 3.2461787213833304e-06, 2.7857383884111186e-06, 7.81866617671767e-07, 2.373396091570612e-05, 2.4488548433510005e-07, 0.559515655040741, 2.0764458895428106e-05, 2.053524212897173e-06, 1.2276265124455676e-06, 3.7955709331072285e-07, 1.1549741429917049e-06, 3.772744605612388e-07, 1.2757098488691554e-07, 0.43028703331947327, 0.0, 0.0, 0.0, 0.0, 0.0, 0.0, 0.0, 0.0, 0.0, 0.0, 0.0, 0.0, 0.0, 0.0, 0.0, 0.0, 0.0, 0.0, 0.0, 0.0, 0.0, 0.0, 0.0, 0.0, 0.0, 0.0, 0.0, 0.0, 0.0, 0.0], [0.004807064775377512, 6.724452396156266e-05, 3.556369847501628e-06, 3.209981514373794e-06, 1.676705142017454e-05, 2.829774757628911e-06, 0.00012583291390910745, 0.5743189454078674, 3.57008320861496e-05, 4.087066918145865e-05, 6.753655270586023e-07, 6.408101853594417e-07, 1.8343164356338093e-06, 1.8803392549671116e-06, 6.183687946759164e-05, 0.42051106691360474, 0.0, 0.0, 0.0, 0.0, 0.0, 0.0, 0.0, 0.0, 0.0, 0.0, 0.0, 0.0, 0.0, 0.0, 0.0, 0.0, 0.0, 0.0, 0.0, 0.0, 0.0, 0.0, 0.0, 0.0, 0.0, 0.0, 0.0, 0.0, 0.0], [0.00019687363237608224, 3.19803962156584e-06, 3.275019935244927e-07, 7.795668466314964e-08, 2.883584784285631e-07, 3.183128569617111e-07, 2.0802362996619195e-06, 3.0316077754832804e-06, 0.5799012780189514, 2.9823777936144324e-07, 1.987100928246832e-09, 2.488337536021845e-08, 2.3061870635388004e-08, 7.216889308381269e-09, 8.31193801786867e-07, 1.5044561223476194e-06, 0.4198898375034332, 0.0, 0.0, 0.0, 0.0, 0.0, 0.0, 0.0, 0.0, 0.0, 0.0, 0.0, 0.0, 0.0, 0.0, 0.0, 0.0, 0.0, 0.0, 0.0, 0.0, 0.0, 0.0, 0.0, 0.0, 0.0, 0.0, 0.0, 0.0], [0.005818986799567938, 0.0001364358322462067, 2.4956099878181703e-05, 2.1328338334569708e-05, 0.00021707425185013562, 1.799910023692064e-05, 1.893180888146162e-05, 0.00024199552717618644, 1.2626276657101698e-05, 0.5817527770996094, 3.674336539916112e-06, 8.075873552115809e-07, 5.276567208056804e-06, 1.0927619769063313e-05, 7.915847163530998e-06, 0.00012223860539961606, 7.050578915368533e-06, 0.4115790128707886, 0.0, 0.0, 0.0, 0.0, 0.0, 0.0, 0.0, 0.0, 0.0, 0.0, 0.0, 0.0, 0.0, 0.0, 0.0, 0.0, 0.0, 0.0, 0.0, 0.0, 0.0, 0.0, 0.0, 0.0, 0.0, 0.0, 0.0], [0.01011654268950224, 0.0001945824478752911, 7.316683877434116e-06, 9.663348464528099e-06, 3.4948250686284155e-05, 2.4743620087974705e-05, 0.0002638516598381102, 8.420299127465114e-05, 9.221372602041811e-05, 5.480708568939008e-05, 1.8545329112384934e-06, 7.604651273140917e-06, 1.2130625691497698e-05, 3.002909807037213e-06, 0.00013548284186981618, 4.6897006541257724e-05, 5.606368722510524e-05, 3.283096521045081e-05, 0.988821268081665, 0.0, 0.0, 0.0, 0.0, 0.0, 0.0, 0.0, 0.0, 0.0, 0.0, 0.0, 0.0, 0.0, 0.0, 0.0, 0.0, 0.0, 0.0, 0.0, 0.0, 0.0, 0.0, 0.0, 0.0, 0.0, 0.0], [0.03042585402727127, 0.06941623240709305, 0.1283036172389984, 0.2570653259754181, 0.008663737215101719, 0.07412077486515045, 0.005752041935920715, 0.0021696879994124174, 0.001430788659490645, 0.00414949469268322, 0.01891351118683815, 0.005513862706720829, 0.06635715067386627, 0.005060907453298569, 0.0033155044075101614, 0.0013779096771031618, 0.0009670694707892835, 0.0028796279802918434, 0.004360549617558718, 0.309756338596344, 0.0, 0.0, 0.0, 0.0, 0.0, 0.0, 0.0, 0.0, 0.0, 0.0, 0.0, 0.0, 0.0, 0.0, 0.0, 0.0, 0.0, 0.0, 0.0, 0.0, 0.0, 0.0, 0.0, 0.0, 0.0], [0.018777938559651375, 0.0020124127622693777, 0.0012540982570499182, 0.00017453015607316047, 9.389524348080158e-05, 6.676431075902656e-05, 1.7373677110299468e-05, 1.757679638103582e-05, 8.481283657602035e-06, 0.00028644094709306955, 3.502343679429032e-05, 8.656954378238879e-06, 1.4608617675548885e-05, 3.686519994516857e-05, 6.5485050981806125e-06, 8.046407856454607e-06, 4.671141596190864e-06, 0.0001741949381539598, 2.5194267436745577e-05, 1.5237046682159416e-05, 0.9769615530967712, 0.0, 0.0, 0.0, 0.0, 0.0, 0.0, 0.0, 0.0, 0.0, 0.0, 0.0, 0.0, 0.0, 0.0, 0.0, 0.0, 0.0, 0.0, 0.0, 0.0, 0.0, 0.0, 0.0, 0.0], [0.009692931547760963, 0.0018359979148954153, 0.00033191629336215556, 0.0006982975755818188, 0.0003462912864051759, 0.00033194985007867217, 0.00019908093963749707, 0.0002885100548155606, 0.0016309790080413222, 0.00010861731425393373, 6.509733339044033e-06, 1.3250391020847019e-05, 0.0003308167215436697, 2.636269755385001e-06, 7.305606413865462e-05, 0.00013657979434356093, 0.0008977590478025377, 5.671550388797186e-05, 4.201943738735281e-05, 1.3147213394404389e-05, 0.00013718877744395286, 0.9828256964683533, 0.0, 0.0, 0.0, 0.0, 0.0, 0.0, 0.0, 0.0, 0.0, 0.0, 0.0, 0.0, 0.0, 0.0, 0.0, 0.0, 0.0, 0.0, 0.0, 0.0, 0.0, 0.0, 0.0], [0.008097762241959572, 0.0004985250416211784, 4.242399882059544e-05, 0.0001037303009070456, 0.00024901150027289987, 0.00020822104124817997, 0.0003612686414271593, 7.610513421241194e-06, 0.00033401662949472666, 0.00013217864034231752, 1.269772656087298e-05, 2.6877782147494145e-05, 0.00012841321586165577, 1.2779351891367696e-05, 0.000139246549224481, 3.040235014850623e-06, 0.0001805865322239697, 6.806810415582731e-05, 6.100392420194112e-05, 7.175857717811596e-06, 4.70534032501746e-05, 3.7154601159272715e-05, 0.9892410635948181, 0.0, 0.0, 0.0, 0.0, 0.0, 0.0, 0.0, 0.0, 0.0, 0.0, 0.0, 0.0, 0.0, 0.0, 0.0, 0.0, 0.0, 0.0, 0.0, 0.0, 0.0, 0.0], [0.02734191156923771, 0.16159534454345703, 0.11140775680541992, 0.1776386797428131, 0.024242324754595757, 0.045205313712358475, 0.00264269532635808, 0.005607337690889835, 0.0021659955382347107, 0.006279046647250652, 0.024633673951029778, 0.005443424452096224, 0.08212295919656754, 0.022961648181080818, 0.0015399534022435546, 0.0037348808255046606, 0.0015273174503818154, 0.004632401280105114, 0.010360371321439743, 0.038168858736753464, 0.01803046092391014, 0.016487354412674904, 0.02811085246503353, 0.1781194806098938, 0.0, 0.0, 0.0, 0.0, 0.0, 0.0, 0.0, 0.0, 0.0, 0.0, 0.0, 0.0, 0.0, 0.0, 0.0, 0.0, 0.0, 0.0, 0.0, 0.0, 0.0], [0.0013628205051645637, 3.7218273064354435e-05, 1.1142711855427478e-06, 1.5387973917313502e-06, 8.697418707015458e-06, 4.5874134002588107e-07, 1.6132734117491054e-06, 1.2984866089027491e-06, 1.4070509450903046e-06, 3.6041976727574365e-06, 2.9413516955401064e-08, 2.1622270196530735e-06, 1.132996658270713e-06, 7.67127744438767e-07, 6.564720820279035e-07, 6.370481173689768e-07, 7.843563594178704e-07, 2.09056815947406e-06, 0.0003482685424387455, 5.275527570347549e-08, 2.9629911750816973e-06, 3.03832007375604e-06, 7.029108246570104e-07, 1.9713807475341127e-08, 0.9982169270515442, 0.0, 0.0, 0.0, 0.0, 0.0, 0.0, 0.0, 0.0, 0.0, 0.0, 0.0, 0.0, 0.0, 0.0, 0.0, 0.0, 0.0, 0.0, 0.0, 0.0], [0.014765247702598572, 0.045996878296136856, 0.10305588692426682, 0.4436916410923004, 0.00566953606903553, 0.02155751734972, 0.002783018397167325, 0.005721107590943575, 0.0006072560208849609, 0.004592867102473974, 0.010523419827222824, 0.00555841438472271, 0.0914289727807045, 0.0022109157871454954, 0.0014622175367549062, 0.0034960960038006306, 0.0003857892006635666, 0.0030129249207675457, 0.0021876986138522625, 0.018944915384054184, 0.006737859919667244, 0.02412298135459423, 0.006305029150098562, 0.009190772660076618, 0.0010638583917170763, 0.1649271547794342, 0.0, 0.0, 0.0, 0.0, 0.0, 0.0, 0.0, 0.0, 0.0, 0.0, 0.0, 0.0, 0.0, 0.0, 0.0, 0.0, 0.0, 0.0, 0.0], [0.00593175832182169, 3.1397867132909596e-05, 1.1154784260725137e-06, 1.1624188118730672e-06, 2.7972862881142646e-05, 3.512658850013395e-06, 1.741340929584112e-05, 1.2606047675944865e-05, 0.00021807414304930717, 1.36066148570535e-06, 3.3763353002314034e-08, 1.5536085129497224e-06, 2.3512475308962166e-06, 6.4978062255249824e-06, 7.5296479735698085e-06, 6.505507371912245e-06, 0.00013432557170744985, 7.390841574306251e-07, 3.9110750549298245e-06, 2.747287730642256e-08, 2.0078064721928968e-07, 6.3815355133556295e-06, 1.2829357274313224e-06, 4.543174370041925e-08, 8.249976417573635e-06, 8.411088003867917e-08, 0.9935739636421204, 0.0, 0.0, 0.0, 0.0, 0.0, 0.0, 0.0, 0.0, 0.0, 0.0, 0.0, 0.0, 0.0, 0.0, 0.0, 0.0, 0.0, 0.0], [0.0019688766915351152, 3.4437528029229725e-06, 1.6974850325368607e-07, 1.858969369550323e-07, 1.1135489330627024e-05, 2.1159493712730182e-07, 6.108235993451672e-06, 2.486755761310633e-07, 3.946010474464856e-05, 9.33075170905795e-06, 9.057622207819804e-08, 4.640143203005209e-08, 1.2945158687216463e-06, 9.446603144169785e-06, 2.724846126511693e-06, 1.143973520356667e-07, 2.4856815798557363e-05, 5.502991371031385e-06, 5.534786396310665e-06, 1.2574345120697217e-08, 2.2164810786762246e-07, 4.569335487758508e-07, 2.77243202617683e-06, 1.6477608610898642e-08, 1.6905753000173718e-05, 1.3986365843265958e-08, 2.359598693146836e-05, 0.997867226600647, 0.0, 0.0, 0.0, 0.0, 0.0, 0.0, 0.0, 0.0, 0.0, 0.0, 0.0, 0.0, 0.0, 0.0, 0.0, 0.0, 0.0], [0.012734537944197655, 0.050509221851825714, 0.09247995913028717, 0.1837390512228012, 0.005041154567152262, 0.04697231948375702, 0.003465626621618867, 0.0016628006706014276, 0.0007887225947342813, 0.0027594666462391615, 0.011319068260490894, 0.003951872233301401, 0.05273887515068054, 0.0037311462219804525, 0.0019728466868400574, 0.0010534333996474743, 0.0005259955651126802, 0.001896298723295331, 0.002884858287870884, 0.20347070693969727, 0.008537797257304192, 0.02169632725417614, 0.02231576479971409, 0.012587061151862144, 0.0016443721251562238, 0.07040304690599442, 0.0012289281003177166, 0.000714282039552927, 0.17717446386814117, 0.0, 0.0, 0.0, 0.0, 0.0, 0.0, 0.0, 0.0, 0.0, 0.0, 0.0, 0.0, 0.0, 0.0, 0.0, 0.0], [0.013833497650921345, 1.0039316293841694e-05, 0.00027224357472732663, 0.00041361904004588723, 4.7268658818211406e-05, 4.4949742004973814e-05, 0.0015527630457654595, 0.00020181342551950365, 8.459142009087373e-07, 0.0001658986002439633, 4.7403096687048674e-05, 9.707490789878648e-06, 0.00012002016592305154, 1.7289967217948288e-05, 0.0007444880320690572, 0.00010213672067038715, 4.570616454202536e-07, 9.68272506725043e-05, 4.7531963787150744e-07, 7.87151566328248e-06, 3.3728621929185465e-05, 1.3159447007637937e-05, 2.816724190779496e-05, 5.74007253817399e-06, 9.547273975840653e-07, 5.667837103828788e-05, 2.920684210039326e-07, 8.136826323834612e-08, 5.193770903133554e-06, 0.9821663498878479, 0.0, 0.0, 0.0, 0.0, 0.0, 0.0, 0.0, 0.0, 0.0, 0.0, 0.0, 0.0, 0.0, 0.0, 0.0], [0.0007816292927600443, 2.4886836399673484e-05, 4.5816781835128495e-07, 3.8993002249299025e-07, 2.8150193429610226e-06, 4.158291915246082e-07, 2.540653895266587e-06, 5.031624823459424e-05, 0.00020294493879191577, 9.208981282426976e-06, 5.77482950347985e-09, 7.068805416565738e-07, 7.017382017693308e-07, 8.74787701832247e-07, 1.0329039241696591e-06, 2.777439476631116e-05, 0.0001236567331943661, 5.240473456069594e-06, 2.3681811853748513e-06, 3.2070301969611137e-09, 1.4258444025472272e-07, 9.397565008839592e-06, 1.9381776894533687e-07, 1.2964032514162227e-08, 9.253303119294287e-07, 2.638153162592971e-08, 1.4271197414927883e-06, 3.1928249200063874e-07, 2.012558564246092e-09, 2.0235178865846137e-08, 0.9987494945526123, 0.0, 0.0, 0.0, 0.0, 0.0, 0.0, 0.0, 0.0, 0.0, 0.0, 0.0, 0.0, 0.0, 0.0], [0.01145963929593563, 0.014205532148480415, 0.00024006565217860043, 0.0006303666741587222, 0.0005713386344723403, 0.0005781420040875673, 1.566254832141567e-05, 4.609690950019285e-05, 0.0019774397369474173, 0.0001776437711669132, 6.287479664024431e-06, 0.00010277506953570992, 0.00038122967816889286, 0.0002516485401429236, 5.2342679737193976e-06, 1.9043667634832673e-05, 0.0011075693182647228, 9.271857561543584e-05, 0.00011633330723270774, 3.6143921988696093e-06, 0.00012420708662830293, 0.00014667684445157647, 0.002472606021910906, 4.791003084392287e-05, 5.365064862417057e-05, 4.959607758792117e-05, 6.489605584647506e-05, 4.9473350372863933e-05, 2.1649561858794186e-06, 2.596260628706659e-06, 0.00036206093500368297, 0.9646357893943787, 0.0, 0.0, 0.0, 0.0, 0.0, 0.0, 0.0, 0.0, 0.0, 0.0, 0.0, 0.0, 0.0], [0.024341123178601265, 0.00011172861559316516, 6.524323543999344e-05, 2.5412973627680913e-05, 5.962867726339027e-05, 2.7776515707955696e-05, 0.0001813657145248726, 0.00016749993665143847, 9.746797877596691e-05, 0.0013549205614253879, 7.927668775664642e-06, 5.198618282520329e-07, 6.987288543314207e-06, 4.956596058036666e-06, 7.97111279098317e-05, 8.276299922727048e-05, 5.547592445509508e-05, 0.0007707205368205905, 1.1908129636140075e-05, 7.777904329486773e-07, 6.547934754053131e-05, 3.230287120459252e-06, 1.2900438377982937e-05, 1.1650379292404978e-06, 4.2900816765722993e-07, 2.1538735381909646e-06, 2.4521793875464937e-06, 2.830962785083102e-06, 5.013733925807173e-07, 1.5943382095429115e-05, 4.3959753384115174e-05, 1.0159301382373087e-05, 0.9723848104476929, 0.0, 0.0, 0.0, 0.0, 0.0, 0.0, 0.0, 0.0, 0.0, 0.0, 0.0, 0.0], [0.029657626524567604, 0.18754170835018158, 0.051644060760736465, 0.06837985664606094, 0.015866173431277275, 0.028398698195815086, 0.00632905587553978, 0.01500316709280014, 0.0024251097347587347, 0.015408175066113472, 0.11377657204866409, 0.04665694758296013, 0.057610515505075455, 0.02526542916893959, 0.004238929599523544, 0.011063805781304836, 0.0018460481660440564, 0.012117205187678337, 0.024688398465514183, 0.02523752488195896, 0.021011995151638985, 0.009052767418324947, 0.02654162608087063, 0.023065365850925446, 0.006025965325534344, 0.029512381181120872, 0.0022568979766219854, 0.0038836507592350245, 0.021906737238168716, 0.013128540478646755, 0.002315961290150881, 0.010676410049200058, 0.009430105797946453, 0.07803661376237869, 0.0, 0.0, 0.0, 0.0, 0.0, 0.0, 0.0, 0.0, 0.0, 0.0, 0.0], [0.0059706722386181355, 0.004160738084465265, 5.325617894413881e-05, 6.278145156102255e-05, 1.5606214219587855e-05, 9.14637275855057e-05, 0.00018187807290814817, 5.009820233681239e-05, 5.706302545149811e-06, 1.406050068908371e-05, 4.496960173128173e-06, 0.6076127290725708, 8.628026080259588e-06, 9.356296686746646e-06, 9.438554116059095e-05, 2.8409713195287623e-05, 3.3810142667789478e-06, 8.80629158928059e-06, 1.1194529179192614e-05, 3.277876203355845e-06, 7.414063929900294e-06, 1.1708339116012212e-05, 3.33867319568526e-05, 2.7075702746515162e-06, 5.050506842962932e-06, 8.380588951695245e-06, 1.4675619240733795e-05, 1.3800003273445327e-07, 2.1887003640586045e-06, 2.610069168440532e-05, 1.60374565894017e-05, 2.4340748495887965e-05, 7.253877924995322e-07, 1.505009208813135e-06, 0.3814547061920166, 0.0, 0.0, 0.0, 0.0, 0.0, 0.0, 0.0, 0.0, 0.0, 0.0], [0.007562799844890833, 0.00422629015520215, 0.006509845145046711, 0.0060650138184428215, 0.001411041128449142, 0.0004980822559446096, 0.001179683255031705, 0.0006762119010090828, 0.0001865743106463924, 0.0012816262897104025, 0.00016530278662685305, 0.00030631106346845627, 0.001987006515264511, 0.0001956905034603551, 0.0006368053727783263, 0.0003889219951815903, 0.00011807316332124174, 0.0008109753835014999, 6.669517460977659e-05, 9.211029100697488e-05, 0.00021781836403533816, 0.0011080576805397868, 6.253296305658296e-05, 8.788588456809521e-05, 3.160869891871698e-05, 0.0013348058564588428, 0.0004934514290653169, 2.3604206944582984e-05, 6.586235394934192e-05, 0.00030126693309284747, 5.698634413420223e-05, 0.0006998442695476115, 0.00019785096810664982, 6.933468830538914e-05, 0.00014170697249937803, 0.9607422947883606, 0.0, 0.0, 0.0, 0.0, 0.0, 0.0, 0.0, 0.0, 0.0], [0.0002540151181165129, 6.992003818595549e-06, 6.053614924894646e-06, 4.777586127602262e-06, 3.0068031264818273e-05, 2.0893727196380496e-05, 3.9846778236096725e-05, 6.193558510858566e-05, 0.00048200771561823785, 3.378510882612318e-06, 2.069391484837979e-07, 8.906484936233028e-07, 1.1832845530079794e-06, 6.027954896126175e-06, 1.7533811842440628e-05, 3.221073347958736e-05, 0.0002955184900201857, 1.8337944993618294e-06, 8.065137808443978e-05, 1.967463418850457e-07, 2.0587677340699884e-07, 3.246777623644448e-06, 5.73532076941774e-07, 1.3264707376947626e-07, 0.0004413803108036518, 4.326370515173039e-07, 9.983968993765302e-06, 5.963585181234521e-07, 1.3304830304150528e-07, 4.104753315914422e-06, 1.2479498764150776e-05, 4.234745574649423e-06, 2.1888429273531074e-06, 6.338847668985181e-08, 3.1130548450164497e-07, 6.831007794971811e-07, 0.9981728792190552, 0.0, 0.0, 0.0, 0.0, 0.0, 0.0, 0.0, 0.0], [0.0067698112688958645, 0.03878015652298927, 0.08104239404201508, 0.1515168845653534, 0.0034766593016684055, 0.03729243203997612, 0.0025831065140664577, 0.0013275076635181904, 0.0005439872620627284, 0.0021384931169450283, 0.008323806338012218, 0.003130403347313404, 0.048352647572755814, 0.0028205690905451775, 0.001476865028962493, 0.0008461687248200178, 0.0003620674251578748, 0.001471000723540783, 0.002266314346343279, 0.17217573523521423, 0.0068106502294540405, 0.01947302557528019, 0.019978472962975502, 0.00984029471874237, 0.0012503922916948795, 0.05901286378502846, 0.0008670127717778087, 0.0005359693896025419, 0.1482141613960266, 0.0015803283313289285, 0.00041626772144809365, 0.0053280312567949295, 0.0018516143318265676, 0.0045589483343064785, 0.0017636434640735388, 0.007192602381110191, 0.0014304027426987886, 0.14319826662540436, 0.0, 0.0, 0.0, 0.0, 0.0, 0.0, 0.0], [0.006721921730786562, 0.17253676056861877, 0.15782175958156586, 0.1352280080318451, 0.014780491590499878, 0.03651535138487816, 0.007018278352916241, 0.008493192493915558, 0.0033694978337734938, 0.006323117762804031, 0.006478781346231699, 0.009287579916417599, 0.08043117821216583, 0.00924743339419365, 0.00402276124805212, 0.005384835414588451, 0.002249079290777445, 0.0043022301979362965, 0.006103508174419403, 0.01877427101135254, 0.017263147979974747, 0.017363734543323517, 0.033993568271398544, 0.008110320195555687, 0.0013766130432486534, 0.04478282481431961, 0.0013263033470138907, 0.0004964139661751688, 0.014864546246826649, 0.009434445761144161, 0.0006579897599294782, 0.023671796545386314, 0.0030876912642270327, 0.003030636580660939, 0.004612157121300697, 0.032519757747650146, 0.004123017657548189, 0.013145827688276768, 0.07104919850826263, 0.0, 0.0, 0.0, 0.0, 0.0, 0.0], [0.00036382960388436913, 5.475983016367536e-06, 2.1785392334550124e-07, 3.143247511161462e-07, 6.018628369020007e-07, 1.5312941741285613e-06, 3.154594878651551e-06, 1.0789859516080469e-05, 6.835386739112437e-05, 2.2323306438920554e-06, 7.909752852697238e-09, 1.341225015494274e-07, 1.7899525062148314e-07, 2.420292048554984e-06, 1.4007189292897237e-06, 5.564780167333083e-06, 4.231949424138293e-05, 1.231918076882721e-06, 5.43572411970672e-07, 6.300818533588881e-09, 1.875931765482619e-08, 5.7785027820500545e-06, 4.98297993090091e-07, 2.7238467037449254e-09, 2.7967578830612183e-07, 2.526986975226464e-08, 0.0002404553524684161, 2.5657645892351866e-05, 3.996215358625932e-09, 2.9397983780654613e-07, 2.6810192139237188e-05, 1.150709749708767e-06, 7.887050514909788e-07, 2.151844480380305e-09, 4.676536136116738e-08, 1.0924348003982232e-07, 2.6974598767992575e-06, 3.03580294236383e-09, 1.5262479280409025e-08, 0.9991851449012756, 0.0, 0.0, 0.0, 0.0, 0.0], [0.0021931370720267296, 1.7927867475009407e-06, 1.7427615830456489e-06, 3.9379972349706804e-07, 9.468524694966618e-06, 1.0022991148161964e-07, 0.4154403507709503, 1.4934185855963733e-05, 7.279336387000512e-07, 6.177704676701978e-07, 1.4126248970569577e-07, 7.403494919344666e-07, 2.656202013895381e-07, 6.592819090656121e-08, 0.3197057247161865, 8.797802365734242e-06, 4.3079731426587387e-07, 3.561190453638119e-07, 3.623047177825356e-07, 3.5127484920849383e-08, 4.491939264994471e-08, 1.2193729048703972e-07, 2.9020361580478493e-07, 3.081590449482974e-08, 1.6598683316715324e-08, 4.6418808352655105e-08, 1.4749319632301194e-07, 2.0077436602150556e-08, 2.3284860262151597e-08, 8.88118302100338e-06, 5.12379813244479e-07, 1.2734883370058014e-08, 1.0858651648959494e-06, 5.07659088100354e-08, 3.082720922975568e-07, 1.1706179492421143e-07, 1.1634459440301725e-07, 1.9742390833243917e-08, 7.445081706691781e-08, 1.0056191435126038e-08, 0.2626078426837921, 0.0, 0.0, 0.0, 0.0], [0.0009038302814587951, 3.559004107955843e-05, 1.7476031644036993e-06, 1.3883021665606066e-06, 5.994712410029024e-06, 1.1382438742657541e-06, 5.410637822933495e-05, 0.4641887843608856, 1.1813090168288909e-05, 2.0347715690149926e-05, 2.3198158771720045e-07, 3.29839053847536e-07, 1.085835151570791e-06, 9.688131967777736e-07, 2.6352270651841536e-05, 0.3430994749069214, 6.8511990320985205e-06, 1.1489970347611234e-05, 8.803278319646779e-07, 1.2521457648517753e-08, 3.125970522432908e-07, 1.2902138450954226e-06, 6.584361500472369e-08, 8.333690715289777e-08, 3.8832844495573227e-08, 1.0495993763015576e-07, 9.242223768524127e-07, 8.361924486166572e-09, 7.620839959088244e-09, 2.0909092199872248e-06, 8.620341759524308e-06, 1.1364102192601422e-07, 2.042757614617585e-06, 6.172889754907374e-08, 8.956183705777221e-08, 4.957350796530591e-08, 4.207239499010029e-07, 5.461816776630712e-09, 9.060399008831155e-08, 1.743819666444324e-07, 1.0138490324607119e-05, 0.19160081446170807, 0.0, 0.0, 0.0], [8.247177902376279e-05, 2.8955632842553314e-06, 3.0384464366761677e-07, 6.313890565934344e-08, 1.8491078890292556e-07, 2.4008826926547044e-07, 1.6463937981825438e-06, 3.2095163078338373e-06, 0.46796026825904846, 2.5837326234068314e-07, 1.2256042847269555e-09, 2.4103107065798213e-08, 2.4075355042896263e-08, 6.267399488280034e-09, 6.528865696964203e-07, 1.5978516785253305e-06, 0.33520790934562683, 1.3112625651956478e-07, 1.6251306078629568e-07, 7.31707749945798e-10, 1.0168279551692194e-08, 2.886723677875125e-06, 7.554904186690692e-07, 1.445779496123123e-09, 2.069938176418873e-08, 3.885398669467577e-09, 6.774274879717268e-06, 4.6838565026519063e-07, 4.458666491569119e-10, 2.2659740750441415e-09, 5.920997864450328e-06, 6.633173370573786e-07, 1.480738660575298e-07, 2.777514329643793e-10, 7.233627918878938e-09, 7.842585247885836e-09, 1.0182885716858436e-06, 3.469870779593265e-10, 7.755046382840192e-09, 5.518174361895944e-07, 2.551235809278296e-07, 6.669303616035904e-07, 0.1967177540063858, 0.0, 0.0], [0.0014966361923143268, 8.595672261435539e-05, 1.7313341231783852e-05, 1.2790979781129863e-05, 0.00010812669643200934, 9.973450687539298e-06, 1.0689731425372884e-05, 0.0002099658886436373, 5.620497631753096e-06, 0.4795394837856293, 1.7019608549162513e-06, 5.249595460554701e-07, 4.222915777063463e-06, 7.436738087562844e-06, 4.429512955539394e-06, 0.00010646871669450775, 3.078806685152813e-06, 0.33654719591140747, 7.566221484012203e-06, 2.018950482352011e-07, 1.2449811038095504e-05, 4.4605048969970085e-06, 1.15432530947146e-05, 8.852708788253949e-07, 2.031817530223634e-06, 1.0128870826520142e-06, 6.413036430785723e-07, 1.7519840866953018e-06, 1.2154443140843796e-07, 1.13403648356325e-05, 1.6474896256113425e-05, 8.816467925498728e-06, 0.00016438101010862738, 4.631231718121853e-07, 1.3890303307562135e-07, 2.006520844588522e-06, 3.8421146086875524e-07, 9.308759985060533e-08, 1.517465648248617e-06, 5.49511071312736e-07, 1.48026254009892e-06, 4.573597834678367e-05, 1.407615172865917e-06, 0.1815309226512909, 0.0], [0.0006883484311401844, 1.9269660697318614e-05, 4.7663175450907147e-07, 4.156445811531739e-06, 2.7789334126282483e-05, 2.8430655220290646e-05, 1.1778464795497712e-05, 3.815487798419781e-05, 2.4662142095621675e-05, 8.193902431230526e-06, 1.7187271339480503e-07, 1.1826256923086476e-05, 6.37125049252063e-06, 5.188540399103658e-06, 5.064671768195694e-06, 1.989826705539599e-05, 1.4010194718139246e-05, 4.656125838664593e-06, 0.00029710755916312337, 1.6525197565897543e-07, 3.5307351708979695e-07, 3.222659870516509e-05, 2.3192865228338633e-06, 1.5644280892956886e-07, 6.299446249613538e-05, 3.344395054227789e-07, 7.67439905757783e-06, 4.245422587700887e-06, 1.0544874839979457e-07, 6.335915259114699e-07, 3.139462569379248e-05, 1.2092082215531264e-06, 2.701787593650806e-07, 4.6525698849109176e-08, 4.157706371188397e-06, 7.893182640827945e-08, 0.00043530319817364216, 7.892866449310532e-08, 6.886579484444155e-08, 1.0520516298129223e-05, 1.9105077626591083e-06, 8.720476216694806e-06, 6.82055269862758e-06, 2.034492808888899e-06, 0.9981703758239746]], \"maskUpperTri\": true}\n",
              "    )\n",
              "    </script>"
            ],
            "text/plain": [
              "<circuitsvis.utils.render.RenderedHTML at 0x7fc5b9d2b700>"
            ]
          },
          "execution_count": 39,
          "metadata": {},
          "output_type": "execute_result"
        }
      ],
      "source": [
        "attention = cache[\"pattern\", 0].squeeze()\n",
        "print(attention.shape)\n",
        "cv.attention.attention_pattern(attention=attention[5], tokens=str_tokens)\n",
        "# Compare block 0 head 5 to block 5 head 5!"
      ]
    },
    {
      "cell_type": "markdown",
      "metadata": {
        "id": "Ofmt1dRIEYzk"
      },
      "source": [
        "# Induction Heads"
      ]
    },
    {
      "cell_type": "code",
      "execution_count": 45,
      "metadata": {
        "colab": {
          "base_uri": "https://localhost:8080/",
          "height": 375
        },
        "id": "bNl5NK-8Edjc",
        "outputId": "a46bb3c8-427c-4213-db24-d4ec1fc8aa5d"
      },
      "outputs": [
        {
          "name": "stdout",
          "output_type": "stream",
          "text": [
            "torch.Size([12, 45, 45])\n"
          ]
        },
        {
          "data": {
            "text/html": [
              "<div id=\"circuits-vis-f53b3be0-c65b\" style=\"margin: 15px 0;\"/>\n",
              "    <script crossorigin type=\"module\">\n",
              "    import { render, AttentionPatterns } from \"https://unpkg.com/circuitsvis@1.41.0/dist/cdn/esm.js\";\n",
              "    render(\n",
              "      \"circuits-vis-f53b3be0-c65b\",\n",
              "      AttentionPatterns,\n",
              "      {\"tokens\": [\"<|endoftext|>\", \"This\", \" is\", \" a\", \" story\", \" about\", \" Qu\", \"om\", \"atar\", \"us\", \".\", \" When\", \" one\", \" day\", \" Qu\", \"om\", \"atar\", \"us\", \" decided\", \" to\", \" do\", \" something\", \" different\", \" and\", \" bought\", \" a\", \" plane\", \" ticket\", \" to\", \" L\", \"aman\", \"and\", \"u\", \".\", \" When\", \" he\", \" arrived\", \" to\", \" the\", \" airport\", \" Qu\", \"om\", \"atar\", \"us\", \" noticed\"], \"attention\": [[[1.0, 0.0, 0.0, 0.0, 0.0, 0.0, 0.0, 0.0, 0.0, 0.0, 0.0, 0.0, 0.0, 0.0, 0.0, 0.0, 0.0, 0.0, 0.0, 0.0, 0.0, 0.0, 0.0, 0.0, 0.0, 0.0, 0.0, 0.0, 0.0, 0.0, 0.0, 0.0, 0.0, 0.0, 0.0, 0.0, 0.0, 0.0, 0.0, 0.0, 0.0, 0.0, 0.0, 0.0, 0.0], [0.9965106844902039, 0.0034892822150141, 0.0, 0.0, 0.0, 0.0, 0.0, 0.0, 0.0, 0.0, 0.0, 0.0, 0.0, 0.0, 0.0, 0.0, 0.0, 0.0, 0.0, 0.0, 0.0, 0.0, 0.0, 0.0, 0.0, 0.0, 0.0, 0.0, 0.0, 0.0, 0.0, 0.0, 0.0, 0.0, 0.0, 0.0, 0.0, 0.0, 0.0, 0.0, 0.0, 0.0, 0.0, 0.0, 0.0], [0.9946860074996948, 0.003354281187057495, 0.001959671266376972, 0.0, 0.0, 0.0, 0.0, 0.0, 0.0, 0.0, 0.0, 0.0, 0.0, 0.0, 0.0, 0.0, 0.0, 0.0, 0.0, 0.0, 0.0, 0.0, 0.0, 0.0, 0.0, 0.0, 0.0, 0.0, 0.0, 0.0, 0.0, 0.0, 0.0, 0.0, 0.0, 0.0, 0.0, 0.0, 0.0, 0.0, 0.0, 0.0, 0.0, 0.0, 0.0], [0.9899774789810181, 0.00086699373787269, 0.0010365098714828491, 0.008118940517306328, 0.0, 0.0, 0.0, 0.0, 0.0, 0.0, 0.0, 0.0, 0.0, 0.0, 0.0, 0.0, 0.0, 0.0, 0.0, 0.0, 0.0, 0.0, 0.0, 0.0, 0.0, 0.0, 0.0, 0.0, 0.0, 0.0, 0.0, 0.0, 0.0, 0.0, 0.0, 0.0, 0.0, 0.0, 0.0, 0.0, 0.0, 0.0, 0.0, 0.0, 0.0], [0.9890521168708801, 0.0002617276331875473, 6.55042749713175e-05, 0.0015243029920384288, 0.009096267633140087, 0.0, 0.0, 0.0, 0.0, 0.0, 0.0, 0.0, 0.0, 0.0, 0.0, 0.0, 0.0, 0.0, 0.0, 0.0, 0.0, 0.0, 0.0, 0.0, 0.0, 0.0, 0.0, 0.0, 0.0, 0.0, 0.0, 0.0, 0.0, 0.0, 0.0, 0.0, 0.0, 0.0, 0.0, 0.0, 0.0, 0.0, 0.0, 0.0, 0.0], [0.9761183857917786, 0.00014785051462240517, 0.0001447182585252449, 0.0014572644140571356, 0.008729634806513786, 0.01340209599584341, 0.0, 0.0, 0.0, 0.0, 0.0, 0.0, 0.0, 0.0, 0.0, 0.0, 0.0, 0.0, 0.0, 0.0, 0.0, 0.0, 0.0, 0.0, 0.0, 0.0, 0.0, 0.0, 0.0, 0.0, 0.0, 0.0, 0.0, 0.0, 0.0, 0.0, 0.0, 0.0, 0.0, 0.0, 0.0, 0.0, 0.0, 0.0, 0.0], [0.991208553314209, 0.0013033085269853473, 0.0034207096323370934, 0.0006164818187244236, 0.000429831474320963, 0.0007576170610263944, 0.0022634253837168217, 0.0, 0.0, 0.0, 0.0, 0.0, 0.0, 0.0, 0.0, 0.0, 0.0, 0.0, 0.0, 0.0, 0.0, 0.0, 0.0, 0.0, 0.0, 0.0, 0.0, 0.0, 0.0, 0.0, 0.0, 0.0, 0.0, 0.0, 0.0, 0.0, 0.0, 0.0, 0.0, 0.0, 0.0, 0.0, 0.0, 0.0, 0.0], [0.9869916439056396, 0.0005137234111316502, 0.0012035594554618, 0.000923367973882705, 0.0006232911837287247, 0.002161103766411543, 0.0022237924858927727, 0.0053595006465911865, 0.0, 0.0, 0.0, 0.0, 0.0, 0.0, 0.0, 0.0, 0.0, 0.0, 0.0, 0.0, 0.0, 0.0, 0.0, 0.0, 0.0, 0.0, 0.0, 0.0, 0.0, 0.0, 0.0, 0.0, 0.0, 0.0, 0.0, 0.0, 0.0, 0.0, 0.0, 0.0, 0.0, 0.0, 0.0, 0.0, 0.0], [0.9907174706459045, 0.0004492091538850218, 0.0007316899718716741, 0.0005151775549165905, 0.0006680136430077255, 0.0009389406186528504, 0.002612470183521509, 0.000496257096529007, 0.0028707152232527733, 0.0, 0.0, 0.0, 0.0, 0.0, 0.0, 0.0, 0.0, 0.0, 0.0, 0.0, 0.0, 0.0, 0.0, 0.0, 0.0, 0.0, 0.0, 0.0, 0.0, 0.0, 0.0, 0.0, 0.0, 0.0, 0.0, 0.0, 0.0, 0.0, 0.0, 0.0, 0.0, 0.0, 0.0, 0.0, 0.0], [0.9454970955848694, 0.00018402271962258965, 0.001389727578498423, 0.0005727828829549253, 0.00017027971625793725, 0.00021683484374079853, 0.001210815622471273, 0.00046514012501575053, 0.004567566327750683, 0.04572579637169838, 0.0, 0.0, 0.0, 0.0, 0.0, 0.0, 0.0, 0.0, 0.0, 0.0, 0.0, 0.0, 0.0, 0.0, 0.0, 0.0, 0.0, 0.0, 0.0, 0.0, 0.0, 0.0, 0.0, 0.0, 0.0, 0.0, 0.0, 0.0, 0.0, 0.0, 0.0, 0.0, 0.0, 0.0, 0.0], [0.9903906583786011, 0.0004604125861078501, 0.0006889802170917392, 0.00034252568730153143, 0.00012879917630925775, 0.0006108900415711105, 0.0024383491836488247, 5.333221270120703e-05, 0.00011673537665046751, 0.0015689096180722117, 0.003200267208740115, 0.0, 0.0, 0.0, 0.0, 0.0, 0.0, 0.0, 0.0, 0.0, 0.0, 0.0, 0.0, 0.0, 0.0, 0.0, 0.0, 0.0, 0.0, 0.0, 0.0, 0.0, 0.0, 0.0, 0.0, 0.0, 0.0, 0.0, 0.0, 0.0, 0.0, 0.0, 0.0, 0.0, 0.0], [0.943004846572876, 0.000885592307895422, 0.0042419880628585815, 0.002080989070236683, 0.0005950985359959304, 0.00044589550816453993, 0.02510998584330082, 0.0018811057088896632, 0.0009518031147308648, 0.0018564615165814757, 0.0026801484636962414, 0.016266103833913803, 0.0, 0.0, 0.0, 0.0, 0.0, 0.0, 0.0, 0.0, 0.0, 0.0, 0.0, 0.0, 0.0, 0.0, 0.0, 0.0, 0.0, 0.0, 0.0, 0.0, 0.0, 0.0, 0.0, 0.0, 0.0, 0.0, 0.0, 0.0, 0.0, 0.0, 0.0, 0.0, 0.0], [0.966313362121582, 0.0010278570698574185, 0.0004895589663647115, 0.00019538280321285129, 0.00028701365226879716, 0.0020839390344917774, 0.005166966002434492, 0.0006312946206890047, 0.0045277453027665615, 0.005485695321112871, 0.0010716819670051336, 0.003337213071063161, 0.009382166899740696, 0.0, 0.0, 0.0, 0.0, 0.0, 0.0, 0.0, 0.0, 0.0, 0.0, 0.0, 0.0, 0.0, 0.0, 0.0, 0.0, 0.0, 0.0, 0.0, 0.0, 0.0, 0.0, 0.0, 0.0, 0.0, 0.0, 0.0, 0.0, 0.0, 0.0, 0.0, 0.0], [0.9916389584541321, 0.0001935445034177974, 2.6299756427761167e-05, 6.560123438248411e-05, 1.0102829037350602e-05, 0.00028675145586021245, 0.004229390528053045, 0.0001742910098982975, 0.0006871859659440815, 0.00011145127064082772, 1.2214516573294532e-05, 0.00013368950749281794, 0.001756500219926238, 0.0006739870877936482, 0.0, 0.0, 0.0, 0.0, 0.0, 0.0, 0.0, 0.0, 0.0, 0.0, 0.0, 0.0, 0.0, 0.0, 0.0, 0.0, 0.0, 0.0, 0.0, 0.0, 0.0, 0.0, 0.0, 0.0, 0.0, 0.0, 0.0, 0.0, 0.0, 0.0, 0.0], [0.9221158027648926, 0.0012221517972648144, 0.002165606478229165, 0.00032691648812033236, 0.0001047549958457239, 4.899926352663897e-05, 0.00091997638810426, 0.003698845161125064, 0.015627456828951836, 0.028575226664543152, 0.006600592751055956, 0.0019280113046988845, 0.0125857749953866, 0.001604945631697774, 0.0024749767035245895, 0.0, 0.0, 0.0, 0.0, 0.0, 0.0, 0.0, 0.0, 0.0, 0.0, 0.0, 0.0, 0.0, 0.0, 0.0, 0.0, 0.0, 0.0, 0.0, 0.0, 0.0, 0.0, 0.0, 0.0, 0.0, 0.0, 0.0, 0.0, 0.0, 0.0], [0.8685653209686279, 0.0008304074872285128, 0.0015206297393888235, 0.0010103218955919147, 0.0003582881181500852, 0.00041328792576678097, 0.0020055952481925488, 0.0012974090641364455, 0.028362058103084564, 0.0544937327504158, 0.011790399439632893, 0.002720706630498171, 0.009408448822796345, 0.0009010387002490461, 0.002590774092823267, 0.013731627725064754, 0.0, 0.0, 0.0, 0.0, 0.0, 0.0, 0.0, 0.0, 0.0, 0.0, 0.0, 0.0, 0.0, 0.0, 0.0, 0.0, 0.0, 0.0, 0.0, 0.0, 0.0, 0.0, 0.0, 0.0, 0.0, 0.0, 0.0, 0.0, 0.0], [0.871143639087677, 0.0006497859722003341, 0.0010123852407559752, 0.0006912820972502232, 0.000360717938747257, 0.0002126805338775739, 0.003941067028790712, 0.00014133650984149426, 0.0032095019705593586, 0.04752512648701668, 0.03392115980386734, 0.005463174544274807, 0.006390050053596497, 0.0010091385338455439, 0.0022785740438848734, 0.0009131878614425659, 0.021137185394763947, 0.0, 0.0, 0.0, 0.0, 0.0, 0.0, 0.0, 0.0, 0.0, 0.0, 0.0, 0.0, 0.0, 0.0, 0.0, 0.0, 0.0, 0.0, 0.0, 0.0, 0.0, 0.0, 0.0, 0.0, 0.0, 0.0, 0.0, 0.0], [0.7768484354019165, 0.0004586940922308713, 0.001145424204878509, 0.00041951268212869763, 9.784385474631563e-05, 5.839415098307654e-05, 0.0018756759818643332, 0.00024053515517152846, 0.0031365188769996166, 0.023875150829553604, 0.06583287566900253, 0.00557248480618, 0.0042457785457372665, 0.0006615246529690921, 0.0019939085468649864, 0.0012392508797347546, 0.01925140619277954, 0.09304645657539368, 0.0, 0.0, 0.0, 0.0, 0.0, 0.0, 0.0, 0.0, 0.0, 0.0, 0.0, 0.0, 0.0, 0.0, 0.0, 0.0, 0.0, 0.0, 0.0, 0.0, 0.0, 0.0, 0.0, 0.0, 0.0, 0.0, 0.0], [0.9817580580711365, 0.0003982187481597066, 0.00010751470836112276, 3.0834926292300224e-05, 1.6094134480226785e-05, 6.24639869784005e-05, 0.001326652942225337, 3.253111208323389e-05, 0.0008456702926196158, 0.0005151279619894922, 0.00021629687398672104, 0.0005019833333790302, 0.0017481218092143536, 0.00015507386706303805, 0.004912117496132851, 7.342376193264499e-05, 0.001044881995767355, 0.0007989765726961195, 0.005455985199660063, 0.0, 0.0, 0.0, 0.0, 0.0, 0.0, 0.0, 0.0, 0.0, 0.0, 0.0, 0.0, 0.0, 0.0, 0.0, 0.0, 0.0, 0.0, 0.0, 0.0, 0.0, 0.0, 0.0, 0.0, 0.0, 0.0], [0.9893636703491211, 0.00016946761752478778, 0.00011633906979113817, 4.675611126003787e-05, 3.6496126995189115e-05, 4.7867280954960734e-05, 0.0024319652002304792, 1.2268691534700338e-05, 0.0006903654430061579, 0.00021384033607318997, 0.00031410111114382744, 0.00034594579483382404, 0.00061024259775877, 2.5187935534631833e-05, 0.0009962939657270908, 1.3792152458336204e-05, 0.00035045822733081877, 0.0001335710403509438, 0.0020506924483925104, 0.0020307847298681736, 0.0, 0.0, 0.0, 0.0, 0.0, 0.0, 0.0, 0.0, 0.0, 0.0, 0.0, 0.0, 0.0, 0.0, 0.0, 0.0, 0.0, 0.0, 0.0, 0.0, 0.0, 0.0, 0.0, 0.0, 0.0], [0.9859995245933533, 0.00013076777395326644, 9.996973676607013e-05, 5.104780939291231e-05, 0.00015623608487658203, 0.0003112719568889588, 0.002023521577939391, 9.49241584748961e-05, 0.0016015946166589856, 0.001484026899561286, 0.00024513702373951674, 0.0001862428180174902, 0.000462099356809631, 5.341011637938209e-05, 0.0008300711051560938, 1.5872014046180993e-05, 0.00028991993167437613, 0.0002194120897911489, 0.0007649059407413006, 0.000968987587839365, 0.004010963719338179, 0.0, 0.0, 0.0, 0.0, 0.0, 0.0, 0.0, 0.0, 0.0, 0.0, 0.0, 0.0, 0.0, 0.0, 0.0, 0.0, 0.0, 0.0, 0.0, 0.0, 0.0, 0.0, 0.0, 0.0], [0.9892088770866394, 9.6470357675571e-05, 4.947650450048968e-05, 3.420985012780875e-05, 0.00023116978991311044, 0.0021777646616101265, 0.0026332412380725145, 2.0746236259583384e-05, 0.0003505207132548094, 0.0003951804246753454, 5.536319804377854e-05, 0.0002075336960842833, 0.00012998725287616253, 2.7268959456705488e-05, 0.0018120991298928857, 6.977940302022034e-06, 7.065929821692407e-05, 7.506171823479235e-05, 6.137382297310978e-05, 8.696797885932028e-05, 0.00027945468900725245, 0.0019896691665053368, 0.0, 0.0, 0.0, 0.0, 0.0, 0.0, 0.0, 0.0, 0.0, 0.0, 0.0, 0.0, 0.0, 0.0, 0.0, 0.0, 0.0, 0.0, 0.0, 0.0, 0.0, 0.0, 0.0], [0.9774073958396912, 0.00030347888241522014, 7.109413127182052e-05, 0.0001925424876390025, 0.00015985169738996774, 0.0008078173268586397, 0.002396322786808014, 0.0001934589381562546, 0.00021806378208566457, 0.001082267495803535, 0.00013001651677768677, 0.0023618389386683702, 0.00013181573012843728, 5.5889231589389965e-05, 0.002440018579363823, 6.470799417002127e-05, 0.00011971483036177233, 0.00042773206951096654, 0.0003576608723960817, 0.00038966123247519135, 0.0003566598170436919, 0.001726266578771174, 0.00860566459596157, 0.0, 0.0, 0.0, 0.0, 0.0, 0.0, 0.0, 0.0, 0.0, 0.0, 0.0, 0.0, 0.0, 0.0, 0.0, 0.0, 0.0, 0.0, 0.0, 0.0, 0.0, 0.0], [0.9537739753723145, 0.0002096557291224599, 0.00022161508968565613, 0.0001916912879096344, 0.00011313163849990815, 0.0003719351370818913, 0.004312180448323488, 5.08803095726762e-05, 0.0002529755583964288, 0.00039694670704193413, 0.00014707338414154947, 0.002857038052752614, 0.0012962722685188055, 7.581100362585858e-05, 0.008305614814162254, 7.587225991301239e-05, 0.0003570553380995989, 0.00045521973515860736, 0.0021501262672245502, 0.0020502135157585144, 0.0032014476601034403, 0.0047310516238212585, 0.0016775681870058179, 0.012724658474326134, 0.0, 0.0, 0.0, 0.0, 0.0, 0.0, 0.0, 0.0, 0.0, 0.0, 0.0, 0.0, 0.0, 0.0, 0.0, 0.0, 0.0, 0.0, 0.0, 0.0, 0.0], [0.8508197665214539, 0.00010125059634447098, 3.0168532248353586e-05, 4.422881102073006e-05, 8.288450044346973e-05, 0.0001305846672039479, 0.002884896472096443, 6.088715235819109e-05, 0.00034816766856238246, 0.0003747593145817518, 0.00010307178308721632, 0.00017418837524019182, 0.0017422068631276488, 7.65319709898904e-05, 0.001607816549949348, 4.888046169071458e-05, 0.00021170044783502817, 0.0002496735251042992, 0.0008668054360896349, 0.05111543834209442, 0.008431904949247837, 0.05965004861354828, 0.003933736123144627, 0.011384205892682076, 0.005526340566575527, 0.0, 0.0, 0.0, 0.0, 0.0, 0.0, 0.0, 0.0, 0.0, 0.0, 0.0, 0.0, 0.0, 0.0, 0.0, 0.0, 0.0, 0.0, 0.0, 0.0], [0.9465246796607971, 0.00010989681322826073, 9.309440793003887e-05, 1.0740139259723946e-05, 0.0003934732812922448, 0.0002080776757793501, 0.0008621286833658814, 1.9683244318002835e-05, 0.00019898793834727257, 0.00045163376489654183, 6.202098302310333e-05, 8.105718734441325e-05, 0.0001623606076464057, 0.0002650303649716079, 0.0002839323424268514, 2.188039979955647e-05, 0.0001306147751165554, 0.00037344166776165366, 0.0008774829911999404, 0.0012189513072371483, 0.001866410835646093, 0.006988739129155874, 0.011771115474402905, 0.012676914222538471, 0.0033203584607690573, 0.011027415283024311, 0.0, 0.0, 0.0, 0.0, 0.0, 0.0, 0.0, 0.0, 0.0, 0.0, 0.0, 0.0, 0.0, 0.0, 0.0, 0.0, 0.0, 0.0, 0.0], [0.8856197595596313, 0.00013565515109803528, 4.034404264530167e-05, 6.647042755503207e-05, 0.0003279476659372449, 0.0010534626198932528, 0.003799392143264413, 2.259696884721052e-05, 0.00032136362278833985, 0.0016675632214173675, 0.00015635447925888002, 0.0001908106351038441, 6.106938235461712e-05, 6.084633059799671e-05, 0.0022010449320077896, 7.175472092058044e-06, 5.269277608022094e-05, 0.0002221022587036714, 0.0005071806372143328, 0.0003085279022343457, 0.0009480896405875683, 0.0016434238059446216, 0.013205388560891151, 0.011638587340712547, 0.005369754508137703, 0.0074147009290754795, 0.06295771896839142, 0.0, 0.0, 0.0, 0.0, 0.0, 0.0, 0.0, 0.0, 0.0, 0.0, 0.0, 0.0, 0.0, 0.0, 0.0, 0.0, 0.0, 0.0], [0.8921948671340942, 0.0003226131375413388, 8.455738134216517e-05, 4.578198422677815e-05, 0.00015643028018530458, 0.0010786198545247316, 0.003243736457079649, 5.2906885684933513e-05, 6.64165781927295e-05, 0.0004743417666759342, 0.0001904786768136546, 0.0005771029973402619, 0.0006287970463745296, 4.373424962977879e-05, 0.00357516435906291, 3.0297727789729834e-05, 2.9978067686897703e-05, 0.000219751222175546, 0.0031521604396402836, 0.0036682779900729656, 0.0007025885861366987, 0.003785449080169201, 0.008866999298334122, 0.004461946431547403, 0.0017747727688401937, 0.008506937883794308, 0.026971349492669106, 0.03509393334388733, 0.0, 0.0, 0.0, 0.0, 0.0, 0.0, 0.0, 0.0, 0.0, 0.0, 0.0, 0.0, 0.0, 0.0, 0.0, 0.0, 0.0], [0.9847004413604736, 4.919857019558549e-05, 1.6004336430341937e-05, 9.901333214656916e-06, 1.9522303773555905e-05, 4.246197931934148e-06, 0.0014243642799556255, 9.999205758504104e-06, 3.7307738239178434e-05, 8.546043682144955e-05, 2.8014354029437527e-05, 3.196860052412376e-05, 7.687277684453875e-05, 1.4232350622478407e-05, 0.00018021748110186309, 8.236942449002527e-06, 2.034087447100319e-05, 5.455058635561727e-05, 0.0007560104713775218, 4.866296876571141e-05, 0.001241385587491095, 0.001094629056751728, 0.0010333802783861756, 0.0005834952462464571, 0.0011199769796803594, 0.0005661530303768814, 0.0021852438803762197, 0.00229266076348722, 0.0023075295612215996, 0.0, 0.0, 0.0, 0.0, 0.0, 0.0, 0.0, 0.0, 0.0, 0.0, 0.0, 0.0, 0.0, 0.0, 0.0, 0.0], [0.8767794966697693, 0.0005480169202201068, 0.0006464383332058787, 4.767671998706646e-05, 9.370146290166304e-05, 6.827127799624577e-05, 0.0006478739087469876, 0.02839195914566517, 0.007988042198121548, 0.017920130863785744, 0.002704223385080695, 0.0005367161938920617, 0.0006568136741407216, 0.00043856032425537705, 0.0005568991764448583, 0.010924243368208408, 0.004950696602463722, 0.005139908287674189, 0.011886279098689556, 0.0004356672870926559, 0.0009876542026177049, 0.002910464070737362, 0.0020723186898976564, 0.0007185309659689665, 0.0020060809329152107, 0.0017733597196638584, 0.00808716006577015, 0.005888468120247126, 0.0011172606609761715, 0.003077048808336258, 0.0, 0.0, 0.0, 0.0, 0.0, 0.0, 0.0, 0.0, 0.0, 0.0, 0.0, 0.0, 0.0, 0.0, 0.0], [0.9011136293411255, 0.0003316979855298996, 0.0006640023784711957, 0.00022282320423983037, 0.00029169971821829677, 0.00010909433331107721, 0.00045436774962581694, 0.0012431868817657232, 0.0069745974615216255, 0.018843764439225197, 0.01520933024585247, 0.00136395578738302, 0.00045940684503875673, 0.00013072769797872752, 0.0003286399587523192, 0.0005920206313021481, 0.005514945834875107, 0.008964353241026402, 0.024023426696658134, 0.0009186625247821212, 0.0005286590312607586, 0.000361627055099234, 0.00022637446818407625, 0.0003027405764441937, 0.0012654736638069153, 0.0004635516961570829, 0.0014514656504616141, 0.0032863933593034744, 0.00030188169330358505, 0.0008532259380444884, 0.003204249544069171, 0.0, 0.0, 0.0, 0.0, 0.0, 0.0, 0.0, 0.0, 0.0, 0.0, 0.0, 0.0, 0.0, 0.0], [0.8911121487617493, 0.00020055433560628444, 0.0005585106555372477, 0.00010632291377987713, 3.832442598650232e-05, 3.742135959328152e-05, 0.0005185878253541887, 9.282974497182295e-05, 0.0008335895254276693, 0.022186357527971268, 0.014738582074642181, 0.003975710831582546, 0.0005195981939323246, 8.44587993924506e-05, 0.0007289554341696203, 4.509755672188476e-05, 0.0006727018626406789, 0.00686721783131361, 0.032334648072719574, 0.004515152424573898, 0.0008624287438578904, 0.0006983957136981189, 0.00023730738030280918, 0.00022999763314146549, 0.0019009793177247047, 0.0010572922183200717, 0.000915180251467973, 0.003784861182793975, 0.0011044562561437488, 0.005167956463992596, 0.00018031609943136573, 0.0036940129939466715, 0.0, 0.0, 0.0, 0.0, 0.0, 0.0, 0.0, 0.0, 0.0, 0.0, 0.0, 0.0, 0.0], [0.6915268898010254, 5.512081042979844e-05, 0.0002559652493800968, 3.0931769288145006e-05, 1.5719411749159917e-05, 1.0578020010143518e-05, 0.00019187839643564075, 9.533609409118071e-05, 0.002032836899161339, 0.01189760584384203, 0.03637465089559555, 0.0007432862184941769, 0.000531859986949712, 0.0002439871896058321, 0.00039866907172836363, 0.0001318389840889722, 0.003557065734639764, 0.008713174611330032, 0.19371116161346436, 0.002120923949405551, 0.001754092168994248, 0.000509965349920094, 0.0003772144264075905, 0.00015205300587695092, 0.0009922991739585996, 0.0005519764381460845, 0.0008241183822974563, 0.0034227906726300716, 0.0008749262779019773, 0.0018806649604812264, 0.0006215253961272538, 0.009883033111691475, 0.025515852496027946, 0.0, 0.0, 0.0, 0.0, 0.0, 0.0, 0.0, 0.0, 0.0, 0.0, 0.0, 0.0], [0.947627604007721, 0.001106688054278493, 0.00044975720811635256, 4.9650876462692395e-05, 2.131847941200249e-05, 9.078372386284173e-05, 0.0002967641921713948, 1.566822174936533e-05, 0.00010573907638899982, 0.0003142673522233963, 6.833053339505568e-05, 0.030076583847403526, 0.0008108533802442253, 2.383956962148659e-05, 0.0008521419367752969, 3.648972051450983e-05, 0.00019398120639380068, 0.0005746355163864791, 0.005053377244621515, 0.0006007939809933305, 0.001205473206937313, 0.00037027065991424024, 0.00011220006854273379, 0.0004379850870463997, 0.0014232482062652707, 0.0003052422543987632, 0.0002199606824433431, 0.0008783914963714778, 0.0007666810415685177, 0.0007274871459230781, 6.54334799037315e-05, 4.951912706019357e-05, 0.00026943543343804777, 0.004799314308911562, 0.0, 0.0, 0.0, 0.0, 0.0, 0.0, 0.0, 0.0, 0.0, 0.0, 0.0], [0.471209853887558, 0.0010706724133342505, 0.002177945338189602, 0.0004393633280415088, 0.0001382939371978864, 8.6413390818052e-05, 0.00715720234438777, 0.0004350034869275987, 0.0004724609898403287, 0.0004646482120733708, 0.00033082152367569506, 0.0037369553465396166, 0.23674048483371735, 0.009154959581792355, 0.03169110789895058, 0.005897323600947857, 0.008301258087158203, 0.005607925355434418, 0.11543001979589462, 0.021843688562512398, 0.010448730550706387, 0.002610004972666502, 0.0005061774281784892, 0.000938809011131525, 0.01856151409447193, 0.007303142454475164, 0.0012518427101895213, 0.0007191466283984482, 0.0008114756783470511, 0.00415906822308898, 0.00016980936925392598, 0.00013572064926847816, 0.00014264970377553254, 0.005108080338686705, 0.0247475728392601, 0.0, 0.0, 0.0, 0.0, 0.0, 0.0, 0.0, 0.0, 0.0, 0.0], [0.7115484476089478, 0.0005627761711366475, 0.0010264669544994831, 0.00021039215789642185, 7.601145625812933e-05, 0.00011247377551626414, 0.004263449925929308, 0.0005090420600026846, 0.003484430257230997, 0.0008699555764906108, 0.00044641189742833376, 0.000566023460123688, 0.019234737381339073, 0.005738405976444483, 0.03406292572617531, 0.0007967721321620047, 0.00740616163238883, 0.001424627029336989, 0.03250318393111229, 0.015164860524237156, 0.016217930242419243, 0.008667652495205402, 0.004126277752220631, 0.0006136619485914707, 0.021275594830513, 0.029638810083270073, 0.018272841349244118, 0.01646294817328453, 0.004197853617370129, 0.005460293963551521, 0.007273060269653797, 0.0007776552811264992, 0.0007468061521649361, 0.011887118220329285, 0.004654567688703537, 0.009719399735331535, 0.0, 0.0, 0.0, 0.0, 0.0, 0.0, 0.0, 0.0, 0.0], [0.8896806240081787, 0.0002811244921758771, 0.00013265661254990846, 9.868256165646017e-05, 1.4551847016264219e-05, 2.5628809453337453e-05, 0.0015689409337937832, 4.058767081005499e-05, 0.00025360207655467093, 0.00016192422481253743, 2.3487589714932255e-05, 0.0005898849340155721, 0.0025960756465792656, 9.772356133908033e-05, 0.018006516620516777, 0.00010609370656311512, 0.00045525431050918996, 0.0002918847603723407, 0.0018243432277813554, 0.009683037176728249, 0.00549215916544199, 0.009960492141544819, 0.0019217346562072635, 0.0015698298811912537, 0.004368449095636606, 0.019986405968666077, 0.008149252273142338, 0.005304151680320501, 0.002345841145142913, 0.002076192991808057, 0.0005995509563945234, 0.00015637998876627535, 0.0003010826767422259, 0.0024052413646131754, 0.005762546788901091, 0.002114196540787816, 0.001553970854729414, 0.0, 0.0, 0.0, 0.0, 0.0, 0.0, 0.0, 0.0], [0.900538980960846, 8.054215140873566e-05, 2.971900175907649e-05, 2.0234077965142205e-05, 1.0456115887791384e-05, 7.866345185902901e-06, 0.0014991707867011428, 5.862609214091208e-06, 0.0002541308931540698, 0.00014705809007864445, 7.476602331735194e-05, 0.00023857003543525934, 0.001446605077944696, 0.00018498062854632735, 0.005225162487477064, 5.548641274799593e-05, 0.0007878500618971884, 0.00036964190076105297, 0.008670852519571781, 0.000412816705647856, 0.012568101286888123, 0.0034627635031938553, 0.0006980880280025303, 0.00028586824191734195, 0.003611881984397769, 0.001055808854289353, 0.0009464769391342998, 0.0008021996472962201, 0.00014625849144067615, 0.027816494926810265, 0.00038537612999789417, 4.258934859535657e-05, 0.0003203802043572068, 0.017178408801555634, 0.002310858340933919, 0.00314660114236176, 0.0034740199334919453, 0.001687082927674055, 0.0, 0.0, 0.0, 0.0, 0.0, 0.0, 0.0], [0.9429237246513367, 0.0001751226227497682, 5.9122634411323816e-05, 6.108114575908985e-06, 1.761313615133986e-05, 3.897064016200602e-05, 0.0009708759607747197, 0.00020026543643325567, 0.0006826289463788271, 0.00025361953885294497, 4.488056219997816e-05, 0.00035375269362702966, 0.0011997777037322521, 0.0021284190006554127, 0.005535296630114317, 0.0003573850844986737, 0.0009969535749405622, 0.0003226448898203671, 0.001111535239033401, 0.0004104409599676728, 0.0012361393310129642, 0.0002827852440532297, 0.0025488007813692093, 0.0007850772235542536, 0.0010860952315852046, 0.00021836408996023238, 0.0014801847282797098, 0.0014360417844727635, 0.0006606620736420155, 0.004406823311001062, 0.0010338183492422104, 0.0008266083896160126, 0.0003470216761343181, 0.0077846166677773, 0.0021203758660703897, 0.0033898407127708197, 0.0022101090289652348, 0.004700297489762306, 0.005657291039824486, 0.0, 0.0, 0.0, 0.0, 0.0, 0.0], [0.8814542293548584, 0.0003736601793207228, 1.3192080587032251e-05, 6.8045810621697456e-06, 3.7109894037712365e-06, 1.965537558135111e-05, 0.0013717215042561293, 3.6825691495323554e-05, 8.581954898545519e-05, 0.00019255354709457606, 2.0796058379346505e-05, 0.0002543353184591979, 0.0002758823102340102, 0.0001079395369742997, 0.010268592275679111, 3.3875916415126994e-05, 7.138396904338151e-05, 0.00010669644689187407, 0.0008830881561152637, 0.0008527376339770854, 0.0009476736886426806, 0.00041457536281086504, 0.00453780684620142, 0.0005275718285702169, 0.0029757111333310604, 0.0021476915571838617, 0.0009952618274837732, 0.007993463426828384, 0.006188434548676014, 0.017235271632671356, 0.00036772064049728215, 0.00028116669273003936, 0.0014009944861754775, 0.006911576725542545, 0.0022227962035685778, 0.0005797164048999548, 0.0006652359152212739, 0.010064689442515373, 0.006185119040310383, 0.030923914164304733, 0.0, 0.0, 0.0, 0.0, 0.0], [0.13222332298755646, 0.000144568519317545, 0.0003506720531731844, 2.239562127215322e-05, 9.400459020980634e-06, 3.455272235441953e-06, 0.000129150299471803, 0.001129588228650391, 0.0014363116351887584, 0.0048041315749287605, 0.0011135395616292953, 0.0003736457147169858, 0.002898713108152151, 0.0008088307804428041, 0.0003400201676413417, 0.0159399826079607, 0.04848812147974968, 0.07040716707706451, 0.6521144509315491, 0.008841942995786667, 0.0013612400507554412, 0.000793792656622827, 0.00016575084009673446, 0.0004015206650365144, 0.0016845058416947722, 0.0005619272706098855, 0.00042990242945961654, 0.0002443359117023647, 0.00020856776973232627, 0.00046239164657890797, 0.0002064197906292975, 0.0007776747224852443, 0.0009766960283741355, 0.021555233746767044, 0.000912724994122982, 0.002644513500854373, 0.02170785889029503, 0.0004863986687269062, 0.0003111118567176163, 0.00237325020134449, 0.0001547527645016089, 0.0, 0.0, 0.0, 0.0], [0.3857060372829437, 0.0002246300136903301, 0.0005092290812171996, 0.00020578598196152598, 0.00011320530029479414, 0.00011263722262810916, 0.0006933053955435753, 0.00018158309103455395, 0.0045242211781442165, 0.011422322131693363, 0.0027806940488517284, 0.0009456509724259377, 0.004980658181011677, 0.0004483295779209584, 0.0011287853121757507, 0.0026166983880102634, 0.06438791751861572, 0.102657750248909, 0.27423757314682007, 0.013880451209843159, 0.006942376960068941, 0.0018474106909707189, 0.000619988888502121, 0.0009252147283405066, 0.007019925396889448, 0.0021575300488620996, 0.0015498562715947628, 0.003173396922647953, 0.0015922092134132981, 0.0005241925246082246, 0.00022442027693614364, 0.004859607666730881, 0.003235772019252181, 0.03645233064889908, 0.002930157817900181, 0.006516108289361, 0.030784960836172104, 0.003862539539113641, 0.0013360556913539767, 0.0015889812493696809, 0.0005697786109521985, 0.009529747068881989, 0.0, 0.0, 0.0], [0.16002224385738373, 0.00010793058027047664, 0.00031462011975236237, 0.00010562028182903305, 6.456819392042235e-05, 4.0521164919482544e-05, 0.0006958308513276279, 1.8559303498477675e-05, 0.00030458279070444405, 0.005959498230367899, 0.007450943347066641, 0.001686950447037816, 0.0023528579622507095, 0.00025852094404399395, 0.000627763569355011, 0.00021392502821981907, 0.005379170179367065, 0.04738879203796387, 0.6745865345001221, 0.00797808263450861, 0.006457814481109381, 0.0023466225247830153, 0.0002574936661403626, 0.0005103032453916967, 0.004004617687314749, 0.0009082613978534937, 0.0004067074041813612, 0.0008882984984666109, 0.0012095338897779584, 0.000841664441395551, 5.098124165670015e-05, 0.00021978521544951946, 0.001143811154179275, 0.031183691695332527, 0.0017593965167179704, 0.0024993643164634705, 0.012181139551103115, 0.0009432475781068206, 0.0009213823359459639, 0.0006992911803536117, 0.00024484627647325397, 0.0006196363246999681, 0.0141445929184556, 0.0, 0.0], [0.11169028282165527, 5.961488568573259e-05, 0.00030259060440585017, 5.870692984899506e-05, 1.850444641604554e-05, 1.037562014971627e-05, 0.0002837478241417557, 9.803505236050114e-06, 0.00019952389993704855, 0.001989909913390875, 0.010006343945860863, 0.0011776965111494064, 0.0013731536455452442, 0.00015929887013044208, 0.00032405112870037556, 0.00011428730795159936, 0.0025042833294719458, 0.01195701863616705, 0.7566555738449097, 0.010372351855039597, 0.008888507261872292, 0.0005214528064243495, 0.0001363817573292181, 0.00021277710038702935, 0.0026215221732854843, 0.0005011555040255189, 0.00018715315673034638, 0.00022614758927375078, 0.000524976581800729, 0.0002634122793097049, 2.1434541849885136e-05, 5.57915263925679e-05, 0.0003912811807822436, 0.028297074139118195, 0.001757154823280871, 0.001827532658353448, 0.00687696086242795, 0.0005702769849449396, 0.0004270836943760514, 0.00026488062576390803, 0.00013029859110247344, 0.0003444887406658381, 0.006159061565995216, 0.029526162892580032, 0.0], [0.9206535816192627, 0.0001784023770596832, 0.00010905664385063574, 4.201942647341639e-05, 5.724520087824203e-05, 0.00011057454685214907, 0.002690192312002182, 6.794422006350942e-06, 0.00014321136404760182, 9.129611134994775e-05, 0.00015595190052408725, 8.05523304734379e-05, 0.0012297137873247266, 4.97156179335434e-05, 0.0013730149948969483, 8.889461241778918e-06, 8.903329580789432e-05, 5.062669879407622e-05, 0.0005614410620182753, 0.020775293931365013, 0.0062804254703223705, 0.00969008356332779, 0.0016659017419442534, 0.00040079295285977423, 0.00046144446241669357, 0.006178013980388641, 0.003983968868851662, 0.001047049998305738, 0.0016262996941804886, 0.0014994594966992736, 0.00011842277308460325, 2.756263711489737e-05, 9.196118480758741e-05, 0.0034001669846475124, 0.00036139661096967757, 0.0005947375320829451, 0.00078053108882159, 0.0029196513351053, 0.0028408863581717014, 0.001808429486118257, 0.0006891454686410725, 2.6616286049829796e-05, 0.0001298860734095797, 9.214396413881332e-05, 0.004828429315239191]], [[1.0, 0.0, 0.0, 0.0, 0.0, 0.0, 0.0, 0.0, 0.0, 0.0, 0.0, 0.0, 0.0, 0.0, 0.0, 0.0, 0.0, 0.0, 0.0, 0.0, 0.0, 0.0, 0.0, 0.0, 0.0, 0.0, 0.0, 0.0, 0.0, 0.0, 0.0, 0.0, 0.0, 0.0, 0.0, 0.0, 0.0, 0.0, 0.0, 0.0, 0.0, 0.0, 0.0, 0.0, 0.0], [0.999674916267395, 0.00032507983269169927, 0.0, 0.0, 0.0, 0.0, 0.0, 0.0, 0.0, 0.0, 0.0, 0.0, 0.0, 0.0, 0.0, 0.0, 0.0, 0.0, 0.0, 0.0, 0.0, 0.0, 0.0, 0.0, 0.0, 0.0, 0.0, 0.0, 0.0, 0.0, 0.0, 0.0, 0.0, 0.0, 0.0, 0.0, 0.0, 0.0, 0.0, 0.0, 0.0, 0.0, 0.0, 0.0, 0.0], [0.9997503161430359, 0.00010611031029839069, 0.00014358559565152973, 0.0, 0.0, 0.0, 0.0, 0.0, 0.0, 0.0, 0.0, 0.0, 0.0, 0.0, 0.0, 0.0, 0.0, 0.0, 0.0, 0.0, 0.0, 0.0, 0.0, 0.0, 0.0, 0.0, 0.0, 0.0, 0.0, 0.0, 0.0, 0.0, 0.0, 0.0, 0.0, 0.0, 0.0, 0.0, 0.0, 0.0, 0.0, 0.0, 0.0, 0.0, 0.0], [0.997833788394928, 7.656071829842404e-05, 8.380985673284158e-05, 0.0020058010704815388, 0.0, 0.0, 0.0, 0.0, 0.0, 0.0, 0.0, 0.0, 0.0, 0.0, 0.0, 0.0, 0.0, 0.0, 0.0, 0.0, 0.0, 0.0, 0.0, 0.0, 0.0, 0.0, 0.0, 0.0, 0.0, 0.0, 0.0, 0.0, 0.0, 0.0, 0.0, 0.0, 0.0, 0.0, 0.0, 0.0, 0.0, 0.0, 0.0, 0.0, 0.0], [0.9986279010772705, 4.1449544369243085e-05, 4.0675308810023125e-06, 8.439143130090088e-05, 0.001242230529896915, 0.0, 0.0, 0.0, 0.0, 0.0, 0.0, 0.0, 0.0, 0.0, 0.0, 0.0, 0.0, 0.0, 0.0, 0.0, 0.0, 0.0, 0.0, 0.0, 0.0, 0.0, 0.0, 0.0, 0.0, 0.0, 0.0, 0.0, 0.0, 0.0, 0.0, 0.0, 0.0, 0.0, 0.0, 0.0, 0.0, 0.0, 0.0, 0.0, 0.0], [0.9989545345306396, 0.00020132357894908637, 5.14992620992416e-07, 3.0404798962990753e-05, 0.0002182853640988469, 0.0005949737969785929, 0.0, 0.0, 0.0, 0.0, 0.0, 0.0, 0.0, 0.0, 0.0, 0.0, 0.0, 0.0, 0.0, 0.0, 0.0, 0.0, 0.0, 0.0, 0.0, 0.0, 0.0, 0.0, 0.0, 0.0, 0.0, 0.0, 0.0, 0.0, 0.0, 0.0, 0.0, 0.0, 0.0, 0.0, 0.0, 0.0, 0.0, 0.0, 0.0], [0.9992412328720093, 1.7862892491393723e-05, 3.2930597626545932e-06, 2.2412834823626326e-06, 5.65145967357239e-07, 1.2674542631430086e-05, 0.0007221964769996703, 0.0, 0.0, 0.0, 0.0, 0.0, 0.0, 0.0, 0.0, 0.0, 0.0, 0.0, 0.0, 0.0, 0.0, 0.0, 0.0, 0.0, 0.0, 0.0, 0.0, 0.0, 0.0, 0.0, 0.0, 0.0, 0.0, 0.0, 0.0, 0.0, 0.0, 0.0, 0.0, 0.0, 0.0, 0.0, 0.0, 0.0, 0.0], [0.9995482563972473, 7.448771157214651e-06, 6.898828175394556e-10, 1.1074797967580707e-08, 6.854521950039327e-10, 3.9948324115357536e-07, 8.581716247135773e-05, 0.0003580808697734028, 0.0, 0.0, 0.0, 0.0, 0.0, 0.0, 0.0, 0.0, 0.0, 0.0, 0.0, 0.0, 0.0, 0.0, 0.0, 0.0, 0.0, 0.0, 0.0, 0.0, 0.0, 0.0, 0.0, 0.0, 0.0, 0.0, 0.0, 0.0, 0.0, 0.0, 0.0, 0.0, 0.0, 0.0, 0.0, 0.0, 0.0], [0.9990894794464111, 2.4459218366246205e-06, 2.4276283761004436e-10, 8.388307826123764e-09, 4.276889953302998e-09, 3.203985272648424e-07, 9.612007124815136e-05, 9.808097667374227e-10, 0.0008116898243315518, 0.0, 0.0, 0.0, 0.0, 0.0, 0.0, 0.0, 0.0, 0.0, 0.0, 0.0, 0.0, 0.0, 0.0, 0.0, 0.0, 0.0, 0.0, 0.0, 0.0, 0.0, 0.0, 0.0, 0.0, 0.0, 0.0, 0.0, 0.0, 0.0, 0.0, 0.0, 0.0, 0.0, 0.0, 0.0, 0.0], [0.9972134232521057, 1.3911167684454995e-07, 2.8900274534615633e-11, 2.1135768690783152e-09, 6.864283808027949e-09, 1.2474112853766428e-09, 2.9005343094468117e-05, 7.455067311634526e-15, 2.7470480290503474e-07, 0.0027571714017540216, 0.0, 0.0, 0.0, 0.0, 0.0, 0.0, 0.0, 0.0, 0.0, 0.0, 0.0, 0.0, 0.0, 0.0, 0.0, 0.0, 0.0, 0.0, 0.0, 0.0, 0.0, 0.0, 0.0, 0.0, 0.0, 0.0, 0.0, 0.0, 0.0, 0.0, 0.0, 0.0, 0.0, 0.0, 0.0], [0.9984669089317322, 3.854979877360165e-05, 5.763192348240409e-06, 2.010233401961159e-06, 1.1345353414071724e-05, 5.685731707671948e-08, 0.0009646397666074336, 3.727154973542923e-10, 1.5747451698189252e-07, 2.6209823772660457e-05, 0.00048440368846058846, 0.0, 0.0, 0.0, 0.0, 0.0, 0.0, 0.0, 0.0, 0.0, 0.0, 0.0, 0.0, 0.0, 0.0, 0.0, 0.0, 0.0, 0.0, 0.0, 0.0, 0.0, 0.0, 0.0, 0.0, 0.0, 0.0, 0.0, 0.0, 0.0, 0.0, 0.0, 0.0, 0.0, 0.0], [0.9963324666023254, 5.610631706076674e-05, 5.505694844032405e-06, 4.791281185134721e-07, 6.370004257405526e-07, 8.29727895279575e-08, 0.0021031545475125313, 5.262034008524097e-08, 6.115973860687518e-07, 1.7047437950168387e-06, 8.67128107984172e-07, 0.0014984052395448089, 0.0, 0.0, 0.0, 0.0, 0.0, 0.0, 0.0, 0.0, 0.0, 0.0, 0.0, 0.0, 0.0, 0.0, 0.0, 0.0, 0.0, 0.0, 0.0, 0.0, 0.0, 0.0, 0.0, 0.0, 0.0, 0.0, 0.0, 0.0, 0.0, 0.0, 0.0, 0.0, 0.0], [0.9915758967399597, 3.1239993404597044e-05, 7.936483598314226e-06, 3.500337868445058e-07, 5.11511689182953e-06, 2.1403557184385136e-06, 0.0003248161810915917, 3.481895305412763e-08, 2.4734169983275933e-06, 8.587368938606232e-06, 8.419600590059417e-07, 0.00018218329933006316, 0.007858381606638432, 0.0, 0.0, 0.0, 0.0, 0.0, 0.0, 0.0, 0.0, 0.0, 0.0, 0.0, 0.0, 0.0, 0.0, 0.0, 0.0, 0.0, 0.0, 0.0, 0.0, 0.0, 0.0, 0.0, 0.0, 0.0, 0.0, 0.0, 0.0, 0.0, 0.0, 0.0, 0.0], [0.9988653659820557, 6.61122203382547e-06, 4.080066950962191e-09, 1.8457678052641313e-08, 2.1071571154607227e-08, 6.066800892767787e-07, 0.0003158648032695055, 1.1506282905637821e-11, 1.422061899347682e-07, 1.4194657182997616e-07, 8.531988449078654e-09, 7.043181540211663e-06, 0.00022084273223299533, 0.0005833865725435317, 0.0, 0.0, 0.0, 0.0, 0.0, 0.0, 0.0, 0.0, 0.0, 0.0, 0.0, 0.0, 0.0, 0.0, 0.0, 0.0, 0.0, 0.0, 0.0, 0.0, 0.0, 0.0, 0.0, 0.0, 0.0, 0.0, 0.0, 0.0, 0.0, 0.0, 0.0], [0.7776640057563782, 2.8952041247976013e-05, 8.073175195022486e-06, 7.313095125027758e-07, 1.7226680881776701e-07, 6.039949767000508e-07, 0.0001554204645799473, 0.2191145271062851, 0.002785726450383663, 3.937685505661648e-06, 1.4076114496219816e-08, 6.502469204860972e-06, 4.1836872696876526e-05, 2.1237512555671856e-05, 0.00016832530673127621, 0.0, 0.0, 0.0, 0.0, 0.0, 0.0, 0.0, 0.0, 0.0, 0.0, 0.0, 0.0, 0.0, 0.0, 0.0, 0.0, 0.0, 0.0, 0.0, 0.0, 0.0, 0.0, 0.0, 0.0, 0.0, 0.0, 0.0, 0.0, 0.0, 0.0], [0.28065961599349976, 2.6645397156244144e-05, 6.276478359268367e-08, 2.136988825895969e-07, 1.1754547557529804e-08, 6.367968126141932e-07, 9.714502812130377e-05, 0.0005541603895835578, 0.7165185809135437, 0.0004899583873338997, 3.705315876345594e-08, 5.28781492903363e-06, 9.002552019410359e-07, 3.1279945744699944e-08, 2.975647021230543e-06, 0.0016436941223219037, 0.0, 0.0, 0.0, 0.0, 0.0, 0.0, 0.0, 0.0, 0.0, 0.0, 0.0, 0.0, 0.0, 0.0, 0.0, 0.0, 0.0, 0.0, 0.0, 0.0, 0.0, 0.0, 0.0, 0.0, 0.0, 0.0, 0.0, 0.0, 0.0], [0.061665162444114685, 6.460209988290444e-06, 3.92448562536174e-08, 9.445575699373876e-08, 1.9376024340544973e-08, 2.5502276912447996e-07, 4.1530940507072955e-05, 1.81336883287031e-08, 0.0010428352979943156, 0.9330259561538696, 2.0757044694619253e-05, 4.366519715404138e-05, 1.8126754639524734e-06, 7.618468771397602e-07, 6.2148624238034245e-06, 7.793797180966067e-07, 0.004143561702221632, 0.0, 0.0, 0.0, 0.0, 0.0, 0.0, 0.0, 0.0, 0.0, 0.0, 0.0, 0.0, 0.0, 0.0, 0.0, 0.0, 0.0, 0.0, 0.0, 0.0, 0.0, 0.0, 0.0, 0.0, 0.0, 0.0, 0.0, 0.0], [0.8465118408203125, 8.941675332607701e-06, 4.6780950668789956e-08, 1.7822470965711545e-07, 3.9670854334872274e-07, 1.4987950436307074e-08, 0.0002615164848975837, 9.577264328819446e-12, 1.4764474144612905e-05, 0.021695304661989212, 0.052809279412031174, 0.001077214372344315, 1.107314346882049e-06, 3.1141885301622096e-06, 5.0678590923780575e-06, 1.2712073615972486e-09, 3.8340207538567483e-05, 0.07757291197776794, 0.0, 0.0, 0.0, 0.0, 0.0, 0.0, 0.0, 0.0, 0.0, 0.0, 0.0, 0.0, 0.0, 0.0, 0.0, 0.0, 0.0, 0.0, 0.0, 0.0, 0.0, 0.0, 0.0, 0.0, 0.0, 0.0, 0.0], [0.991230845451355, 0.00012835237430408597, 2.7910456878998957e-07, 5.193657415247799e-08, 1.9746813961774023e-07, 6.7078587129287826e-09, 0.00015429688210133463, 8.269850915176846e-10, 2.0863120880676433e-05, 2.575905091362074e-05, 4.458960393094458e-05, 0.0007089947466738522, 0.00014637484855484217, 1.3944553757028189e-05, 0.00037795689422637224, 9.427990477206549e-08, 0.00011241385072935373, 0.0005249757668934762, 0.006510073784738779, 0.0, 0.0, 0.0, 0.0, 0.0, 0.0, 0.0, 0.0, 0.0, 0.0, 0.0, 0.0, 0.0, 0.0, 0.0, 0.0, 0.0, 0.0, 0.0, 0.0, 0.0, 0.0, 0.0, 0.0, 0.0, 0.0], [0.9917614459991455, 6.624288653256372e-05, 1.2709818975054077e-07, 1.1048797432522406e-08, 1.7760014259238233e-07, 6.621159176489755e-10, 0.00013060298806522042, 1.2736306453930979e-09, 4.454963345779106e-06, 2.157291234539116e-08, 6.107739523031341e-07, 7.447391544701532e-05, 8.737622010812629e-06, 6.800458436373447e-07, 6.602965004276484e-05, 3.5927175900951624e-08, 8.761361641518306e-06, 6.891935981911956e-07, 0.00042802694952115417, 0.007448808755725622, 0.0, 0.0, 0.0, 0.0, 0.0, 0.0, 0.0, 0.0, 0.0, 0.0, 0.0, 0.0, 0.0, 0.0, 0.0, 0.0, 0.0, 0.0, 0.0, 0.0, 0.0, 0.0, 0.0, 0.0, 0.0], [0.9956188797950745, 3.109443059656769e-05, 6.221922888016707e-08, 1.7765543702807918e-07, 5.221673973210272e-07, 1.4323870090038326e-08, 0.0006147512467578053, 1.3751295213637604e-08, 3.19954015139956e-05, 2.7991710283004068e-08, 9.786069199435588e-08, 1.0658183782652486e-05, 8.073056960711256e-06, 1.946461338775407e-07, 3.16709338221699e-05, 1.0829919006027922e-07, 1.5198444089037366e-05, 2.546321411500685e-07, 1.0622161425999366e-05, 0.0010162102989852428, 0.002609242917969823, 0.0, 0.0, 0.0, 0.0, 0.0, 0.0, 0.0, 0.0, 0.0, 0.0, 0.0, 0.0, 0.0, 0.0, 0.0, 0.0, 0.0, 0.0, 0.0, 0.0, 0.0, 0.0, 0.0, 0.0], [0.997895359992981, 0.00010184789425693452, 2.195600927734631e-06, 7.599235232191859e-07, 1.5095937669684645e-05, 0.001029460458084941, 0.00030964738107286394, 4.0601713635624037e-07, 0.00019171422172803432, 8.222867108997889e-06, 8.158346531672578e-08, 1.9491833427309757e-06, 2.577748318799422e-06, 9.301162208430469e-06, 7.968960562720895e-05, 3.696673047670629e-07, 4.524134419625625e-05, 7.589317192469025e-06, 1.954676690729684e-06, 3.803027357207611e-05, 2.339513002880267e-06, 0.00025624391855672, 0.0, 0.0, 0.0, 0.0, 0.0, 0.0, 0.0, 0.0, 0.0, 0.0, 0.0, 0.0, 0.0, 0.0, 0.0, 0.0, 0.0, 0.0, 0.0, 0.0, 0.0, 0.0, 0.0], [0.9985710382461548, 4.052244548802264e-05, 5.59874592909182e-07, 3.8767456800314903e-08, 7.008440405797955e-08, 7.98749715613667e-06, 0.0002960669226013124, 8.251038821072143e-07, 2.5346038455609232e-05, 3.52631468558684e-06, 3.337249765422712e-08, 2.574435939095565e-06, 2.734727786446456e-07, 5.71486907574581e-07, 1.4563809600076638e-05, 8.760330274526495e-07, 1.2235347639943939e-05, 8.1341768236598e-06, 1.2337654879956972e-06, 3.055644128835411e-06, 7.695728641010646e-07, 4.863049980485812e-07, 0.001009182771667838, 0.0, 0.0, 0.0, 0.0, 0.0, 0.0, 0.0, 0.0, 0.0, 0.0, 0.0, 0.0, 0.0, 0.0, 0.0, 0.0, 0.0, 0.0, 0.0, 0.0, 0.0, 0.0], [0.998468816280365, 0.000129613428725861, 1.7932569562617573e-07, 1.2038032082273276e-06, 9.31119018332538e-07, 9.014310364818812e-08, 0.00046877693966962397, 9.320819671643221e-09, 2.9918758173153037e-06, 1.6485059859405737e-06, 1.057603000731433e-07, 0.0004517869674600661, 1.1763522707042284e-06, 1.7469598390107421e-07, 1.8169424947700463e-05, 5.465276586846812e-08, 7.0535320446651895e-06, 8.956606507126708e-06, 1.3230997865321115e-05, 7.162882980082941e-07, 6.502993346657604e-05, 2.4701412826289015e-07, 2.153882405764307e-06, 0.00035688013304024935, 0.0, 0.0, 0.0, 0.0, 0.0, 0.0, 0.0, 0.0, 0.0, 0.0, 0.0, 0.0, 0.0, 0.0, 0.0, 0.0, 0.0, 0.0, 0.0, 0.0, 0.0], [0.9991982579231262, 4.0525090298615396e-05, 1.4044523322098712e-09, 4.299760103521066e-09, 1.1917057918253704e-07, 7.401776969118146e-10, 3.225083491997793e-05, 5.417975096344563e-13, 3.318429531162792e-09, 5.854586593301292e-09, 4.705872136412381e-09, 4.03296944568865e-05, 6.065689831302734e-06, 2.83447320725827e-07, 2.8208130515849916e-06, 2.7127943988403125e-11, 1.0030284158801805e-08, 3.794707481574733e-08, 1.5511654964939225e-06, 1.9338960555614904e-05, 1.7769425539881922e-05, 0.00017155466775875539, 1.4490257171928533e-06, 7.77526736328582e-08, 0.000467571517219767, 0.0, 0.0, 0.0, 0.0, 0.0, 0.0, 0.0, 0.0, 0.0, 0.0, 0.0, 0.0, 0.0, 0.0, 0.0, 0.0, 0.0, 0.0, 0.0, 0.0], [0.9989262223243713, 3.7294477806426585e-05, 5.194581653711339e-09, 1.4320195029782212e-09, 1.6715985111659393e-05, 3.197913600594404e-10, 3.915014076483203e-06, 1.4689764433074154e-13, 1.0615749945763753e-10, 8.845901094955977e-11, 2.446991775872931e-10, 1.0737035154306795e-06, 8.52828279107598e-08, 6.033722002030117e-07, 6.263844909426552e-08, 2.810886072512897e-12, 1.6294449123321897e-10, 6.186424705845184e-10, 8.478749435880673e-08, 1.5447791668066202e-07, 9.452799645259802e-07, 6.090298938943306e-06, 3.263548933318816e-07, 6.089052817515039e-09, 1.281477034353884e-05, 0.0009935074485838413, 0.0, 0.0, 0.0, 0.0, 0.0, 0.0, 0.0, 0.0, 0.0, 0.0, 0.0, 0.0, 0.0, 0.0, 0.0, 0.0, 0.0, 0.0, 0.0], [0.99748295545578, 1.21470420708647e-05, 4.171821998966152e-09, 4.2004377753812605e-09, 4.969294309375982e-07, 1.2274051641725237e-07, 7.775886842864566e-06, 1.1478128560463152e-12, 1.2295156004427099e-08, 1.8805480976880062e-06, 1.9919358607012327e-08, 2.3059776594891446e-06, 3.4042197967210086e-06, 8.24695780465845e-06, 1.4681755601486657e-05, 5.133674735313676e-11, 1.4271747339478225e-08, 1.1163672297698213e-06, 9.395633242093027e-06, 2.1769631075585494e-07, 5.006707510801789e-07, 9.968664471671218e-07, 4.580541826726403e-06, 7.57693925379499e-08, 1.6111718650790863e-05, 3.014440335391555e-05, 0.0024027256295084953, 0.0, 0.0, 0.0, 0.0, 0.0, 0.0, 0.0, 0.0, 0.0, 0.0, 0.0, 0.0, 0.0, 0.0, 0.0, 0.0, 0.0, 0.0], [0.9983609318733215, 1.7990838387049735e-05, 1.2466572218983174e-09, 3.1803617517311977e-09, 2.5255333824247828e-08, 4.007075915524183e-07, 2.350205795664806e-05, 8.840385021247066e-12, 2.510279761835932e-09, 5.300731800161884e-07, 2.7570250082931125e-08, 6.634448709519347e-06, 5.1685892685782164e-06, 6.488138382110265e-08, 3.6791654565604404e-05, 5.453809626132511e-10, 9.155742830557756e-09, 1.4111135442362865e-06, 1.7511145415483043e-05, 5.213308895690716e-07, 1.2991240794235637e-07, 6.096011020417791e-07, 5.547512387238385e-07, 2.1446151521331558e-08, 2.3202114789455663e-06, 2.089478130073985e-06, 1.1128626283607446e-05, 0.0015115481801331043, 0.0, 0.0, 0.0, 0.0, 0.0, 0.0, 0.0, 0.0, 0.0, 0.0, 0.0, 0.0, 0.0, 0.0, 0.0, 0.0, 0.0], [0.9995813965797424, 4.73921827506274e-05, 3.994055919331885e-10, 1.089412116073163e-09, 1.6552037962469512e-08, 5.143123704698382e-10, 0.0002403411053819582, 1.469952631838467e-11, 3.061766395973109e-09, 1.6210194297983094e-09, 4.684618803985074e-10, 1.2100367712264415e-06, 1.494971229476505e-06, 1.83444692769541e-09, 7.517371159337927e-06, 1.7445545008598629e-10, 1.8140848823122724e-09, 6.1797971184773814e-09, 1.0884190260185278e-06, 8.89580231699938e-09, 3.710855162353255e-05, 2.6069160412589554e-06, 4.750034676703763e-08, 1.0454118681835212e-09, 1.3925426173955202e-05, 1.0416312790084703e-07, 1.1008724868588615e-05, 4.211453415337019e-06, 5.0469701818656176e-05, 0.0, 0.0, 0.0, 0.0, 0.0, 0.0, 0.0, 0.0, 0.0, 0.0, 0.0, 0.0, 0.0, 0.0, 0.0, 0.0], [0.9997379183769226, 2.6183168301940896e-05, 1.4158566541411233e-09, 1.917617176161457e-09, 3.684071048226656e-09, 2.4763937567229277e-09, 5.327286544343224e-06, 2.828122944720235e-07, 1.777324030172167e-07, 1.7401455831844714e-09, 2.211545252484015e-10, 4.235239430272486e-07, 1.2797239833162166e-05, 5.190707952351659e-07, 5.965154059595079e-07, 4.1466103084530914e-07, 1.6684539616562688e-07, 4.499231653909419e-09, 6.841542017355096e-07, 6.123864082496766e-09, 8.811336442704487e-07, 2.0263328792680113e-07, 4.4926028408553975e-07, 9.252712374063776e-09, 2.6294005692761857e-06, 6.33692653906337e-09, 1.5008934894922277e-07, 1.4036513675819151e-06, 9.783555299236468e-09, 0.0002087421453325078, 0.0, 0.0, 0.0, 0.0, 0.0, 0.0, 0.0, 0.0, 0.0, 0.0, 0.0, 0.0, 0.0, 0.0, 0.0], [0.9995415210723877, 2.4295261482620845e-06, 2.7094489846168912e-11, 7.867663742722186e-10, 1.007039729383763e-10, 6.533640850570066e-10, 2.3070801091762405e-07, 1.1499284857663383e-10, 5.69221185742208e-07, 3.28704970797844e-07, 5.402567282430937e-10, 1.2749147515478398e-07, 1.0015154430220718e-06, 9.246507914895119e-08, 1.6040867478750442e-07, 3.7549896525490567e-10, 3.114336948328855e-07, 2.984832008223748e-07, 8.875863386492711e-07, 6.228088711424107e-09, 5.342969178201429e-09, 3.771124523765934e-10, 1.0074365341949942e-08, 2.0560162461435993e-09, 2.8235251647856785e-07, 1.9076450488708652e-11, 3.613336296837133e-10, 4.797777251042135e-07, 7.256261147503551e-10, 2.1705652386572183e-07, 0.0004510864382609725, 0.0, 0.0, 0.0, 0.0, 0.0, 0.0, 0.0, 0.0, 0.0, 0.0, 0.0, 0.0, 0.0, 0.0], [0.9989080429077148, 1.4628896678914316e-05, 1.164552759780335e-10, 3.9331387036156684e-09, 1.0744417161534514e-10, 2.6901370020482318e-11, 1.881118691926531e-06, 3.2223486476960176e-16, 9.576285320278544e-10, 4.827204520552186e-06, 3.844786178319737e-08, 1.0927455150522292e-05, 1.261711076949723e-06, 2.1223905832812306e-07, 2.08989354177902e-06, 2.8138520905148477e-14, 3.3507565611046175e-09, 4.336555321060587e-06, 2.5787048798520118e-05, 3.168443285517242e-08, 2.0834995950735902e-08, 3.624343325459023e-10, 6.28470331331954e-10, 8.263040252032283e-10, 7.507873306167312e-06, 9.614115059619621e-10, 6.409150099528915e-09, 9.674446346252807e-07, 4.6667842923397984e-08, 1.2245267498656176e-05, 1.3462043035872284e-08, 0.0010051907738670707, 0.0, 0.0, 0.0, 0.0, 0.0, 0.0, 0.0, 0.0, 0.0, 0.0, 0.0, 0.0, 0.0], [0.9984656572341919, 2.682334070414072e-06, 1.2185469300263208e-10, 2.7685362335994057e-10, 1.1256268833692573e-10, 4.519663723140388e-12, 7.617884421051713e-07, 8.513465472414876e-15, 4.713700541003618e-09, 3.87653386724196e-07, 5.544991836359259e-06, 6.827705419709673e-06, 1.3822564426391182e-07, 3.2738171285018325e-08, 2.695058469726064e-07, 7.941517994429492e-13, 1.3925415487392456e-08, 8.954719987741555e-07, 0.001169998780824244, 1.0562624765952933e-06, 5.187400893191807e-05, 3.7697578392226205e-08, 1.1861994719808422e-09, 6.515753270264213e-09, 1.541813981020823e-05, 2.6545865505767097e-09, 1.0719082510490807e-08, 6.97323116582993e-07, 3.675996040897189e-08, 2.2084459487814456e-05, 3.569160300642693e-09, 1.3731028957408853e-05, 0.0002418196527287364, 0.0, 0.0, 0.0, 0.0, 0.0, 0.0, 0.0, 0.0, 0.0, 0.0, 0.0, 0.0], [0.992768406867981, 0.00023418027558363974, 9.762082299857866e-06, 9.441484394301369e-07, 8.512369618074445e-07, 6.116314121840105e-09, 5.8101326430914924e-05, 1.4966039518782281e-10, 2.620690793264657e-07, 8.687047738931142e-06, 1.4379022559296573e-06, 0.0051052868366241455, 3.143392314086668e-05, 1.442668576601136e-06, 4.015685408376157e-05, 2.1112271930689985e-09, 5.432677880889969e-07, 2.198012953158468e-05, 0.000371424772311002, 7.507273039664142e-06, 0.0001915480534080416, 4.336235122082144e-07, 2.0483657436898284e-08, 4.797292518787799e-08, 0.00030520331347361207, 3.397003069949278e-07, 3.727643388629076e-06, 2.172314270865172e-05, 8.641160320621566e-07, 0.00016456947196274996, 4.626137695140642e-08, 1.9574874841055134e-06, 0.0001496105978731066, 0.0004975452902726829, 0.0, 0.0, 0.0, 0.0, 0.0, 0.0, 0.0, 0.0, 0.0, 0.0, 0.0], [0.5640982389450073, 0.00037246072315610945, 1.3962023331259843e-05, 4.520253753526049e-07, 2.4966402634163387e-07, 3.247269120265628e-08, 0.0008903582929633558, 1.655003423195467e-08, 1.0954836398013867e-06, 1.1131393193863914e-06, 7.323656348035001e-08, 0.0002857765939552337, 0.4191541373729706, 0.002396260853856802, 0.009810076095163822, 1.6951170209722477e-06, 2.2834616174804978e-05, 1.686328869254794e-05, 0.000656298128888011, 4.893301593256183e-05, 4.5724162191618234e-05, 8.444723789580166e-06, 2.164241323043825e-06, 8.387253842556674e-07, 0.0002737875038292259, 4.603896286425879e-06, 6.342782853607787e-06, 2.808376302709803e-05, 1.1395019328119815e-06, 0.0001673540100455284, 3.420329051095905e-07, 1.3181607982915011e-06, 1.6281926491501508e-06, 2.88720343633031e-06, 0.0016843697521835566, 0.0, 0.0, 0.0, 0.0, 0.0, 0.0, 0.0, 0.0, 0.0, 0.0], [0.9767473340034485, 0.0002155975962523371, 5.9514815802685916e-05, 1.534287321192096e-06, 1.0167184427700704e-06, 2.870662001441815e-07, 0.00010334153193980455, 8.276567200482532e-07, 1.720992622722406e-05, 4.478526079765288e-06, 2.0861678251549165e-07, 0.00012205859820824116, 0.006781379226595163, 0.0034565150272101164, 0.0021012972574681044, 1.932384111569263e-05, 0.00038873241282999516, 0.00013273047807160765, 0.005431913770735264, 9.228943235939369e-05, 0.0008085130248218775, 4.3169861783098895e-06, 1.6922134818742052e-05, 1.2445725872112234e-07, 0.0003294341149739921, 4.148559185068734e-07, 1.3479413610184565e-05, 7.637496310053393e-05, 1.0991440149155096e-06, 7.486881804652512e-05, 1.3432201740215532e-05, 8.853690815158188e-06, 2.0518602923402796e-06, 3.4045151551254094e-05, 0.0008028754964470863, 0.002135421149432659, 0.0, 0.0, 0.0, 0.0, 0.0, 0.0, 0.0, 0.0, 0.0], [0.9912748336791992, 0.0006348842289298773, 4.7394755142704525e-07, 4.7173122652566235e-07, 1.2371963009627507e-07, 1.1707140856742626e-07, 6.24708118266426e-05, 2.239419760741157e-10, 1.0797442229204535e-07, 1.236516879998817e-07, 4.280962695446533e-09, 3.617257971200161e-05, 0.0010086962720379233, 1.9718477233254816e-06, 0.0019444222562015057, 1.7864378420995308e-08, 1.2015948414045852e-06, 2.2731871922587743e-06, 4.520684160524979e-05, 0.00018222216749563813, 0.00017723180644679815, 3.2937863579718396e-05, 1.806289787964488e-06, 2.2233948016037175e-07, 3.297419607406482e-05, 2.1019666746724397e-05, 4.592649929691106e-05, 1.2733373296214268e-05, 4.091230039193761e-06, 0.00015223969239741564, 4.940241637996223e-07, 3.5158035416316125e-07, 4.322166569181718e-05, 8.618131687399e-06, 0.0006511831888929009, 0.0008871339960023761, 0.0027318368665874004, 0.0, 0.0, 0.0, 0.0, 0.0, 0.0, 0.0, 0.0], [0.9934819340705872, 4.220304617774673e-05, 2.721940006722434e-09, 4.764886263330936e-09, 8.996714484510449e-09, 2.2925304710152972e-10, 8.079862163867801e-05, 1.225731842413591e-11, 8.633231018961851e-09, 3.282796257053633e-10, 1.0050420218288281e-10, 4.56417092209449e-06, 5.4329680096998345e-06, 2.081978145440644e-09, 7.418685709126294e-05, 1.3266410192613876e-09, 4.6784798257704097e-08, 1.445471564665013e-08, 5.436886567622423e-06, 1.294749552016583e-07, 0.0014707845402881503, 3.425811200941098e-06, 1.2423769568670195e-08, 1.0601909350427263e-09, 2.9011234801146202e-05, 3.420760563699332e-08, 6.617630106120487e-07, 4.5162135364762435e-08, 2.239814111959504e-09, 0.004408631473779678, 1.6204245412154705e-07, 3.810471660425918e-10, 5.292241667120834e-07, 4.527011242316803e-06, 0.00010222897253697738, 8.372337106266059e-06, 6.063119872123934e-05, 0.00021620937332045287, 0.0, 0.0, 0.0, 0.0, 0.0, 0.0, 0.0], [0.9987253546714783, 5.796982077299617e-05, 6.379980277415598e-08, 1.2370632518354796e-08, 2.5406319537069066e-07, 1.1544909472860354e-09, 1.8117090803571045e-05, 2.357393447116607e-10, 8.213627999964501e-09, 2.942207033562738e-10, 7.751915775955354e-11, 1.074858232641418e-06, 2.0082509308849694e-06, 6.887557191248561e-08, 3.6361359434522456e-06, 1.4281369420388046e-09, 1.4778962054151634e-08, 2.6874478198379848e-09, 3.33275778530151e-07, 1.3154644307178387e-07, 2.1758680304628797e-05, 4.80917719869467e-07, 8.966223674633511e-08, 4.033706257899894e-09, 7.996086424100213e-06, 4.572549006098825e-09, 4.591621745930752e-06, 1.2094253065697558e-07, 1.4321576147224846e-09, 0.0002609857765492052, 5.2648692872026e-07, 1.0950559570233054e-08, 2.0608403872302006e-07, 1.0963872227875981e-06, 4.4366119254846126e-05, 1.599421693754266e-06, 2.1762269170721993e-05, 6.7551836764323525e-06, 0.0008185947081074119, 0.0, 0.0, 0.0, 0.0, 0.0, 0.0], [0.9950300455093384, 7.501159416278824e-05, 1.4058530339866593e-08, 3.736269071907827e-09, 4.875004933069249e-08, 1.43002534258585e-08, 1.047076966642635e-05, 4.30268288446195e-13, 2.272008581272189e-09, 3.5560384503696696e-07, 6.863706047965934e-09, 5.7322031352669e-06, 1.3363751349970698e-05, 3.228830394164106e-07, 0.00016604365373495966, 7.37031963238266e-11, 1.4347599552877455e-08, 9.115646548707446e-07, 2.7920157663174905e-05, 4.5561392880699714e-07, 3.2293835374730406e-06, 1.868251189307557e-07, 1.171079020423349e-07, 7.84064635439563e-09, 3.4023967145913048e-06, 2.3110175106921815e-08, 1.5515599898208166e-06, 0.0016554695321246982, 1.2753264854836743e-05, 0.0004626831505447626, 4.5682999605389796e-09, 1.4708716662426013e-06, 1.5779178283992223e-05, 5.281984340399504e-05, 0.00020230891823302954, 1.7106442101066932e-05, 4.6018336433917284e-05, 0.0001058420239132829, 0.00018277052731718868, 0.0019056189339607954, 0.0, 0.0, 0.0, 0.0, 0.0], [0.702795684337616, 0.00010852191917365417, 1.2463327038858552e-05, 3.6975188777432777e-07, 1.8531697776325018e-07, 3.1209302164825203e-07, 5.1052436901954934e-05, 0.04858040064573288, 0.00028767611365765333, 7.244125299621373e-06, 7.506608312723984e-08, 1.0814250344992615e-05, 1.5215960956993513e-05, 9.077195500140078e-06, 7.252025625348324e-06, 0.2379622459411621, 0.008565968833863735, 0.00020525784930214286, 0.0007730087963864207, 8.225780038628727e-05, 3.0354296995938057e-06, 4.518474270298611e-06, 9.975473403756041e-06, 1.519147758699546e-06, 1.3898078577767592e-05, 1.1634392338422117e-09, 5.522266377511187e-08, 9.594083394404151e-07, 1.2378081919450779e-06, 3.555354123818688e-05, 2.6457289550307905e-06, 1.252711967936193e-06, 1.561699214391865e-08, 7.203272616607137e-06, 2.802110066113528e-05, 1.3816725186188705e-05, 0.00032780785113573074, 5.591985541286704e-07, 3.0505157155857887e-07, 4.7231820644810796e-05, 2.5222030672011897e-05, 0.0, 0.0, 0.0, 0.0], [0.1862751990556717, 4.117494245292619e-05, 8.204361989783138e-08, 9.862938554761058e-08, 7.000300783488456e-09, 3.662954100036586e-07, 5.135488390806131e-05, 0.0005061575211584568, 0.34963130950927734, 0.0002944141160696745, 1.589614484487356e-08, 3.6926535358361434e-06, 3.5788866625807714e-07, 1.4217396149263095e-08, 9.829308282860438e-07, 0.0011026299325749278, 0.4557912349700928, 0.0028878601733595133, 0.00018245763203594834, 2.204722295573447e-05, 1.1213996913284063e-06, 3.787932030263619e-07, 9.392051651957445e-06, 1.6449696431664051e-06, 5.002283432986587e-05, 5.4484760453332726e-11, 2.0827199964656984e-09, 2.387866118169768e-07, 7.199133289503834e-09, 1.265284481632989e-07, 4.664714725599595e-10, 3.2405107504018815e-06, 8.358788328166611e-09, 1.4117610191988206e-07, 9.74148224486271e-06, 6.553703997269622e-07, 3.615511377574876e-05, 9.463604122572633e-09, 1.033797714100615e-09, 5.177330990591145e-07, 6.371406158223181e-08, 0.0030950631480664015, 0.0, 0.0, 0.0], [0.037790343165397644, 6.005740033288021e-06, 2.0173056114458632e-08, 2.6273314190916608e-08, 8.923457528453582e-09, 1.4036113782367465e-07, 1.1078158422606066e-05, 8.345577562351991e-09, 0.00020380217756610364, 0.30767005681991577, 6.419849341909867e-06, 2.5531246137688868e-05, 3.275842175298749e-07, 1.4158401029362722e-07, 1.0054935728476266e-06, 2.603830466796353e-07, 0.0009064596961252391, 0.6399266123771667, 0.007358054164797068, 1.9585477275541052e-05, 2.179251197276244e-07, 2.608810412141338e-08, 1.1534346100461335e-07, 1.0143673279117138e-07, 3.549823077264591e-06, 4.3942592620194176e-11, 9.102299469709862e-10, 9.747305966811837e-07, 3.4711996477199136e-07, 4.1242435599997407e-07, 9.130075168117813e-12, 5.360070645110682e-07, 1.8145825606552535e-06, 1.977659167096135e-06, 1.2430683455022518e-05, 2.864699979454599e-07, 1.5493254977627657e-05, 3.4882386756862616e-08, 1.5815743159564022e-09, 2.181151472768761e-07, 2.04015668714419e-06, 1.1432505289121764e-06, 0.006032291799783707, 0.0, 0.0], [0.33915552496910095, 1.1280852049821988e-05, 6.109037542501028e-08, 1.1423792045661685e-07, 2.4647846430525533e-07, 1.6513784117933028e-08, 0.00012294448970351368, 8.18634222909953e-12, 7.984688636497594e-06, 0.008922579698264599, 0.02043788880109787, 0.0005950729828327894, 2.6328183366786106e-07, 5.995762535349058e-07, 1.1522929526108783e-06, 1.0101641745308143e-09, 2.1787089281133376e-05, 0.031165622174739838, 0.5310528874397278, 0.0005952361389063299, 4.667613029596396e-05, 1.3473675153363729e-06, 1.1951291867262626e-07, 5.501098030435969e-07, 5.289032560540363e-05, 5.981041772962215e-10, 1.6973766392425205e-08, 9.600921657693107e-07, 1.776994906776963e-07, 3.604068069762434e-06, 1.4513861033155218e-12, 6.613635861185685e-09, 5.220338721301232e-07, 0.0002172738459194079, 0.00013102196680847555, 1.358952630425847e-07, 1.0495516107766889e-05, 1.6768179733617217e-08, 1.2578514230199289e-08, 5.010975314689858e-07, 2.071302787953755e-06, 4.535426256779829e-09, 9.539844177197665e-05, 0.06734491884708405, 0.0], [0.991101086139679, 0.0004498643975239247, 5.840191974471054e-08, 3.4088998290826567e-08, 1.5265527508745436e-07, 8.172099086323215e-08, 0.0014581161085516214, 7.880860547482271e-11, 1.517744976808899e-06, 1.9608169168350287e-05, 3.8494978070957586e-05, 0.0001888711121864617, 4.256095417076722e-05, 6.438477157644229e-06, 0.00019041945051867515, 2.5143982451680813e-09, 2.299618927281699e-06, 4.500557406572625e-05, 0.0003677915083244443, 0.001764609944075346, 0.0005332719883881509, 5.04899253428448e-05, 6.954030141059775e-06, 2.7547573608899256e-06, 5.948723992332816e-05, 8.821383516988135e-07, 3.3231376619369257e-06, 4.519611422892922e-07, 8.393606663048558e-07, 0.00020650977967306972, 3.222105604550052e-08, 3.177280660793258e-08, 1.7249116353923455e-05, 2.4661772840772755e-05, 0.0003191414289176464, 1.299303949053865e-05, 1.8506978449295275e-05, 2.7576854790822836e-06, 1.0151969945582096e-05, 1.584236088092439e-05, 5.235079242993379e-06, 6.8702501465622845e-09, 2.1426794774015434e-06, 8.412864553974941e-05, 0.00294517632573843]], [[1.0, 0.0, 0.0, 0.0, 0.0, 0.0, 0.0, 0.0, 0.0, 0.0, 0.0, 0.0, 0.0, 0.0, 0.0, 0.0, 0.0, 0.0, 0.0, 0.0, 0.0, 0.0, 0.0, 0.0, 0.0, 0.0, 0.0, 0.0, 0.0, 0.0, 0.0, 0.0, 0.0, 0.0, 0.0, 0.0, 0.0, 0.0, 0.0, 0.0, 0.0, 0.0, 0.0, 0.0, 0.0], [0.9810396432876587, 0.018960345536470413, 0.0, 0.0, 0.0, 0.0, 0.0, 0.0, 0.0, 0.0, 0.0, 0.0, 0.0, 0.0, 0.0, 0.0, 0.0, 0.0, 0.0, 0.0, 0.0, 0.0, 0.0, 0.0, 0.0, 0.0, 0.0, 0.0, 0.0, 0.0, 0.0, 0.0, 0.0, 0.0, 0.0, 0.0, 0.0, 0.0, 0.0, 0.0, 0.0, 0.0, 0.0, 0.0, 0.0], [0.776261568069458, 0.18064136803150177, 0.04309708625078201, 0.0, 0.0, 0.0, 0.0, 0.0, 0.0, 0.0, 0.0, 0.0, 0.0, 0.0, 0.0, 0.0, 0.0, 0.0, 0.0, 0.0, 0.0, 0.0, 0.0, 0.0, 0.0, 0.0, 0.0, 0.0, 0.0, 0.0, 0.0, 0.0, 0.0, 0.0, 0.0, 0.0, 0.0, 0.0, 0.0, 0.0, 0.0, 0.0, 0.0, 0.0, 0.0], [0.7799999117851257, 0.08570661395788193, 0.10071990638971329, 0.033573590219020844, 0.0, 0.0, 0.0, 0.0, 0.0, 0.0, 0.0, 0.0, 0.0, 0.0, 0.0, 0.0, 0.0, 0.0, 0.0, 0.0, 0.0, 0.0, 0.0, 0.0, 0.0, 0.0, 0.0, 0.0, 0.0, 0.0, 0.0, 0.0, 0.0, 0.0, 0.0, 0.0, 0.0, 0.0, 0.0, 0.0, 0.0, 0.0, 0.0, 0.0, 0.0], [0.5742279291152954, 0.035135623067617416, 0.07424473762512207, 0.2707807719707489, 0.045610956847667694, 0.0, 0.0, 0.0, 0.0, 0.0, 0.0, 0.0, 0.0, 0.0, 0.0, 0.0, 0.0, 0.0, 0.0, 0.0, 0.0, 0.0, 0.0, 0.0, 0.0, 0.0, 0.0, 0.0, 0.0, 0.0, 0.0, 0.0, 0.0, 0.0, 0.0, 0.0, 0.0, 0.0, 0.0, 0.0, 0.0, 0.0, 0.0, 0.0, 0.0], [0.6444493532180786, 0.02668924257159233, 0.024540746584534645, 0.07133619487285614, 0.20773932337760925, 0.02524503506720066, 0.0, 0.0, 0.0, 0.0, 0.0, 0.0, 0.0, 0.0, 0.0, 0.0, 0.0, 0.0, 0.0, 0.0, 0.0, 0.0, 0.0, 0.0, 0.0, 0.0, 0.0, 0.0, 0.0, 0.0, 0.0, 0.0, 0.0, 0.0, 0.0, 0.0, 0.0, 0.0, 0.0, 0.0, 0.0, 0.0, 0.0, 0.0, 0.0], [0.9653745889663696, 0.0033081804867833853, 0.00256508425809443, 0.0037346575409173965, 0.003178452607244253, 0.01445782370865345, 0.007381171453744173, 0.0, 0.0, 0.0, 0.0, 0.0, 0.0, 0.0, 0.0, 0.0, 0.0, 0.0, 0.0, 0.0, 0.0, 0.0, 0.0, 0.0, 0.0, 0.0, 0.0, 0.0, 0.0, 0.0, 0.0, 0.0, 0.0, 0.0, 0.0, 0.0, 0.0, 0.0, 0.0, 0.0, 0.0, 0.0, 0.0, 0.0, 0.0], [0.9428845643997192, 0.0014624634059146047, 0.0004864328948315233, 0.0024887179024517536, 0.005380438640713692, 0.009234476834535599, 0.03434332087635994, 0.003719583386555314, 0.0, 0.0, 0.0, 0.0, 0.0, 0.0, 0.0, 0.0, 0.0, 0.0, 0.0, 0.0, 0.0, 0.0, 0.0, 0.0, 0.0, 0.0, 0.0, 0.0, 0.0, 0.0, 0.0, 0.0, 0.0, 0.0, 0.0, 0.0, 0.0, 0.0, 0.0, 0.0, 0.0, 0.0, 0.0, 0.0, 0.0], [0.6418933868408203, 0.002665483159944415, 0.002490090671926737, 0.002632386051118374, 0.013703855685889721, 0.01364694070070982, 0.21170076727867126, 0.09939461946487427, 0.011872576549649239, 0.0, 0.0, 0.0, 0.0, 0.0, 0.0, 0.0, 0.0, 0.0, 0.0, 0.0, 0.0, 0.0, 0.0, 0.0, 0.0, 0.0, 0.0, 0.0, 0.0, 0.0, 0.0, 0.0, 0.0, 0.0, 0.0, 0.0, 0.0, 0.0, 0.0, 0.0, 0.0, 0.0, 0.0, 0.0, 0.0], [0.5531946420669556, 0.001291873399168253, 0.002988426247611642, 0.00412890175357461, 0.0025416850112378597, 0.010784348472952843, 0.14034578204154968, 0.15229398012161255, 0.10066036134958267, 0.031770020723342896, 0.0, 0.0, 0.0, 0.0, 0.0, 0.0, 0.0, 0.0, 0.0, 0.0, 0.0, 0.0, 0.0, 0.0, 0.0, 0.0, 0.0, 0.0, 0.0, 0.0, 0.0, 0.0, 0.0, 0.0, 0.0, 0.0, 0.0, 0.0, 0.0, 0.0, 0.0, 0.0, 0.0, 0.0, 0.0], [0.3397974967956543, 0.012768520973622799, 0.03223395720124245, 0.01992136985063553, 0.07788601517677307, 0.2051512748003006, 0.13213196396827698, 0.0707806944847107, 0.04355977475643158, 0.05184805020689964, 0.013920844532549381, 0.0, 0.0, 0.0, 0.0, 0.0, 0.0, 0.0, 0.0, 0.0, 0.0, 0.0, 0.0, 0.0, 0.0, 0.0, 0.0, 0.0, 0.0, 0.0, 0.0, 0.0, 0.0, 0.0, 0.0, 0.0, 0.0, 0.0, 0.0, 0.0, 0.0, 0.0, 0.0, 0.0, 0.0], [0.8336343169212341, 0.005396592430770397, 0.009373527020215988, 0.007458520121872425, 0.006902389694005251, 0.03350767120718956, 0.02912386693060398, 0.008482877165079117, 0.014751085080206394, 0.008022895082831383, 0.015759268775582314, 0.027586955577135086, 0.0, 0.0, 0.0, 0.0, 0.0, 0.0, 0.0, 0.0, 0.0, 0.0, 0.0, 0.0, 0.0, 0.0, 0.0, 0.0, 0.0, 0.0, 0.0, 0.0, 0.0, 0.0, 0.0, 0.0, 0.0, 0.0, 0.0, 0.0, 0.0, 0.0, 0.0, 0.0, 0.0], [0.8964852690696716, 0.0016198677476495504, 0.0015862009022384882, 0.0018742562970146537, 0.012141434475779533, 0.015592408366501331, 0.0038534265477210283, 0.002195452805608511, 0.0023538905661553144, 0.0020700825843960047, 0.006110642105340958, 0.04344687610864639, 0.010670226998627186, 0.0, 0.0, 0.0, 0.0, 0.0, 0.0, 0.0, 0.0, 0.0, 0.0, 0.0, 0.0, 0.0, 0.0, 0.0, 0.0, 0.0, 0.0, 0.0, 0.0, 0.0, 0.0, 0.0, 0.0, 0.0, 0.0, 0.0, 0.0, 0.0, 0.0, 0.0, 0.0], [0.6941453218460083, 0.008010621182620525, 0.0022592460736632347, 0.00327760330401361, 0.0036176491994410753, 0.016287993639707565, 0.002482570009306073, 0.0025014204438775778, 0.0014869828009977937, 0.0011394560569897294, 0.002395318355411291, 0.030620234087109566, 0.21175086498260498, 0.020024681463837624, 0.0, 0.0, 0.0, 0.0, 0.0, 0.0, 0.0, 0.0, 0.0, 0.0, 0.0, 0.0, 0.0, 0.0, 0.0, 0.0, 0.0, 0.0, 0.0, 0.0, 0.0, 0.0, 0.0, 0.0, 0.0, 0.0, 0.0, 0.0, 0.0, 0.0, 0.0], [0.7945995330810547, 0.001407939475029707, 0.0004143741971347481, 0.0003638670314103365, 0.0040113916620612144, 0.003606797195971012, 0.002458119997754693, 0.006191038526594639, 0.005288980435580015, 0.012868803925812244, 0.0073458729311823845, 0.027991382405161858, 0.04309310019016266, 0.08642558008432388, 0.003933207597583532, 0.0, 0.0, 0.0, 0.0, 0.0, 0.0, 0.0, 0.0, 0.0, 0.0, 0.0, 0.0, 0.0, 0.0, 0.0, 0.0, 0.0, 0.0, 0.0, 0.0, 0.0, 0.0, 0.0, 0.0, 0.0, 0.0, 0.0, 0.0, 0.0, 0.0], [0.6642541289329529, 0.0010255747474730015, 0.00015396368689835072, 0.0004074054304510355, 0.0016108558047562838, 0.002761391457170248, 0.014305194839835167, 0.0009147803066298366, 0.0012222552904859185, 0.0006001914152875543, 0.008996197953820229, 0.023629767820239067, 0.04417910799384117, 0.028476983308792114, 0.17658731341362, 0.030874943360686302, 0.0, 0.0, 0.0, 0.0, 0.0, 0.0, 0.0, 0.0, 0.0, 0.0, 0.0, 0.0, 0.0, 0.0, 0.0, 0.0, 0.0, 0.0, 0.0, 0.0, 0.0, 0.0, 0.0, 0.0, 0.0, 0.0, 0.0, 0.0, 0.0], [0.6628539562225342, 0.0008950192132033408, 0.00024792307522147894, 0.0002879505045711994, 0.0026917762588709593, 0.003385405521839857, 0.01977122761309147, 0.003574981587007642, 0.0013207629090175033, 0.0017811426660045981, 0.0025821959134191275, 0.017734937369823456, 0.03657251223921776, 0.02623654156923294, 0.15909792482852936, 0.04074382409453392, 0.020221851766109467, 0.0, 0.0, 0.0, 0.0, 0.0, 0.0, 0.0, 0.0, 0.0, 0.0, 0.0, 0.0, 0.0, 0.0, 0.0, 0.0, 0.0, 0.0, 0.0, 0.0, 0.0, 0.0, 0.0, 0.0, 0.0, 0.0, 0.0, 0.0], [0.49168169498443604, 0.0003359272959642112, 0.00022172652825247496, 0.0002424292906653136, 0.0004814468265976757, 0.0014470339519903064, 0.009780819527804852, 0.005437836516648531, 0.006263494025915861, 0.002199657028540969, 0.0039222282357513905, 0.0068521564826369286, 0.02841569483280182, 0.013001848012208939, 0.15353257954120636, 0.10526371747255325, 0.13387040793895721, 0.037049274891614914, 0.0, 0.0, 0.0, 0.0, 0.0, 0.0, 0.0, 0.0, 0.0, 0.0, 0.0, 0.0, 0.0, 0.0, 0.0, 0.0, 0.0, 0.0, 0.0, 0.0, 0.0, 0.0, 0.0, 0.0, 0.0, 0.0, 0.0], [0.37662920355796814, 0.003813097719103098, 0.0007721331785432994, 0.0007466928800567985, 0.0024197869934141636, 0.006774675101041794, 0.00887768343091011, 0.005320684518665075, 0.008849997073411942, 0.005647751968353987, 0.0026810141280293465, 0.031164396554231644, 0.07935155183076859, 0.029641205444931984, 0.2102295458316803, 0.04603837430477142, 0.11242754757404327, 0.047683607786893845, 0.020931074395775795, 0.0, 0.0, 0.0, 0.0, 0.0, 0.0, 0.0, 0.0, 0.0, 0.0, 0.0, 0.0, 0.0, 0.0, 0.0, 0.0, 0.0, 0.0, 0.0, 0.0, 0.0, 0.0, 0.0, 0.0, 0.0, 0.0], [0.5780178308486938, 0.00382883008569479, 0.0005298395408317447, 0.0006047219503670931, 0.0028115089517086744, 0.004082055762410164, 0.0068653360940515995, 0.001093907281756401, 0.002356727607548237, 0.000890161725692451, 0.0026185333263128996, 0.018341967836022377, 0.018163952976465225, 0.013574954122304916, 0.1299365907907486, 0.009983389638364315, 0.03158891946077347, 0.008019779808819294, 0.16063529253005981, 0.00605565682053566, 0.0, 0.0, 0.0, 0.0, 0.0, 0.0, 0.0, 0.0, 0.0, 0.0, 0.0, 0.0, 0.0, 0.0, 0.0, 0.0, 0.0, 0.0, 0.0, 0.0, 0.0, 0.0, 0.0, 0.0, 0.0], [0.6478452086448669, 0.0019636903889477253, 0.0013884140644222498, 0.0007096570916473866, 0.002436463488265872, 0.006757203955203295, 0.008503137156367302, 0.003233264433220029, 0.002637299709022045, 0.0013052667491137981, 0.0032017703633755445, 0.008419048972427845, 0.016332080587744713, 0.011459550820291042, 0.1419999897480011, 0.0297020822763443, 0.03197344392538071, 0.012205109931528568, 0.039454057812690735, 0.02095199190080166, 0.007521369494497776, 0.0, 0.0, 0.0, 0.0, 0.0, 0.0, 0.0, 0.0, 0.0, 0.0, 0.0, 0.0, 0.0, 0.0, 0.0, 0.0, 0.0, 0.0, 0.0, 0.0, 0.0, 0.0, 0.0, 0.0], [0.6143446564674377, 0.0022213642951101065, 0.0006628581322729588, 0.0005871421890333295, 0.0014627884374931455, 0.0023581732530146837, 0.0018003673758357763, 0.0012821104610338807, 0.0009621475473977625, 0.0003933459229301661, 0.0016876120353117585, 0.006476466543972492, 0.006537021137773991, 0.011528567411005497, 0.026298420503735542, 0.008740224875509739, 0.012286275625228882, 0.005887219682335854, 0.04180203378200531, 0.017950434237718582, 0.20845597982406616, 0.02627476304769516, 0.0, 0.0, 0.0, 0.0, 0.0, 0.0, 0.0, 0.0, 0.0, 0.0, 0.0, 0.0, 0.0, 0.0, 0.0, 0.0, 0.0, 0.0, 0.0, 0.0, 0.0, 0.0, 0.0], [0.45038703083992004, 0.0010977797210216522, 0.00026956669171340764, 0.0005029991152696311, 0.0008366035181097686, 0.000620891572907567, 0.0008245079661719501, 0.0007124173571355641, 0.0009965643985196948, 0.0005220366874709725, 0.0018226823303848505, 0.003984969109296799, 0.003574265632778406, 0.0030896940734237432, 0.003324755933135748, 0.0031210859306156635, 0.005429966375231743, 0.002278988715261221, 0.031292691826820374, 0.017162438482046127, 0.3118801414966583, 0.14086179435253143, 0.015406136400997639, 0.0, 0.0, 0.0, 0.0, 0.0, 0.0, 0.0, 0.0, 0.0, 0.0, 0.0, 0.0, 0.0, 0.0, 0.0, 0.0, 0.0, 0.0, 0.0, 0.0, 0.0, 0.0], [0.23563288152217865, 0.0008450953173451126, 0.0003210054128430784, 0.00037593941669911146, 0.0013327592751011252, 0.0023677516728639603, 0.0016747287008911371, 0.0005584832979366183, 0.0007895437884144485, 0.000623895030003041, 0.0009291879250667989, 0.007558315061032772, 0.017760170623660088, 0.008804510347545147, 0.014126371592283249, 0.003351368475705385, 0.008184311911463737, 0.005504721775650978, 0.11851342767477036, 0.06982510536909103, 0.11539212614297867, 0.13439849019050598, 0.2251831293106079, 0.025946684181690216, 0.0, 0.0, 0.0, 0.0, 0.0, 0.0, 0.0, 0.0, 0.0, 0.0, 0.0, 0.0, 0.0, 0.0, 0.0, 0.0, 0.0, 0.0, 0.0, 0.0, 0.0], [0.1346634179353714, 0.00178437284193933, 0.00029862852534279227, 0.0003414499806240201, 0.0001871439308160916, 0.0018806399311870337, 0.000885152374394238, 0.00013485990348272026, 0.000360546400770545, 0.00026337418239563704, 0.0006886495393700898, 0.007815644145011902, 0.020851900801062584, 0.012775607407093048, 0.01053694263100624, 0.0013068175176158547, 0.010173873044550419, 0.00420406786724925, 0.6295557022094727, 0.09244430065155029, 0.02231455035507679, 0.004704450257122517, 0.0034842879977077246, 0.025999020785093307, 0.012344559654593468, 0.0, 0.0, 0.0, 0.0, 0.0, 0.0, 0.0, 0.0, 0.0, 0.0, 0.0, 0.0, 0.0, 0.0, 0.0, 0.0, 0.0, 0.0, 0.0, 0.0], [0.6144347786903381, 0.0005749003612436354, 0.00016950433200690895, 0.00014106945309322327, 0.00031816697446629405, 0.0011561126448214054, 0.0008228319929912686, 0.00036222769995220006, 0.0008438794175162911, 0.00017069811292458326, 0.0013569381553679705, 0.005399927031248808, 0.0054243383929133415, 0.007712498772889376, 0.012742068618535995, 0.0035902003291994333, 0.018213825300335884, 0.003580122720450163, 0.12997640669345856, 0.011076565831899643, 0.060429297387599945, 0.006259429268538952, 0.0061576832085847855, 0.03146759420633316, 0.06666484475135803, 0.010954140685498714, 0.0, 0.0, 0.0, 0.0, 0.0, 0.0, 0.0, 0.0, 0.0, 0.0, 0.0, 0.0, 0.0, 0.0, 0.0, 0.0, 0.0, 0.0, 0.0], [0.5919076204299927, 0.0009018418495543301, 0.0001615370565559715, 0.00048085296293720603, 0.0002079811238218099, 0.0007942360243760049, 0.0008820628863759339, 0.0005617586430162191, 0.0004896663594990969, 0.00034307263558730483, 0.001313358312472701, 0.007499965839087963, 0.006610795855522156, 0.0015155297005549073, 0.004253947641700506, 0.001768255839124322, 0.002944938139989972, 0.0015179479960352182, 0.011698665097355843, 0.009296201169490814, 0.02730836346745491, 0.014624343253672123, 0.009597904980182648, 0.014128357172012329, 0.13391277194023132, 0.1383289396762848, 0.016949156299233437, 0.0, 0.0, 0.0, 0.0, 0.0, 0.0, 0.0, 0.0, 0.0, 0.0, 0.0, 0.0, 0.0, 0.0, 0.0, 0.0, 0.0, 0.0], [0.21117433905601501, 0.0007796436548233032, 6.139692413853481e-05, 0.00019737271941266954, 9.532832336844876e-05, 0.0001990250893868506, 0.0004556203493848443, 0.0006586058880202472, 0.0006723564583808184, 0.00020971921912860125, 0.0011983740841969848, 0.004703270271420479, 0.004038432613015175, 0.0032150414772331715, 0.0030276807956397533, 0.002026674570515752, 0.004269842524081469, 0.0009835384553298354, 0.01431796234101057, 0.013880550861358643, 0.11020269989967346, 0.010327624157071114, 0.004405459389090538, 0.01473240740597248, 0.31845325231552124, 0.1714048981666565, 0.08045332878828049, 0.023855559527873993, 0.0, 0.0, 0.0, 0.0, 0.0, 0.0, 0.0, 0.0, 0.0, 0.0, 0.0, 0.0, 0.0, 0.0, 0.0, 0.0, 0.0], [0.27846959233283997, 0.00014613656094297767, 6.271082384046167e-05, 0.00012580986367538571, 0.00017966944142244756, 0.00023599204723723233, 0.0004423876525834203, 0.00021379334793891758, 0.0008437195792794228, 0.00011819700739579275, 0.0007041330682113767, 0.001618989510461688, 0.0005339222261682153, 0.0012205294333398342, 0.0010500120697543025, 0.000826061877887696, 0.002201453782618046, 0.00044198453542776406, 0.006245898082852364, 0.001000623102299869, 0.04533674195408821, 0.022601665928959846, 0.005182602908462286, 0.014375811442732811, 0.1003231629729271, 0.16317975521087646, 0.17295531928539276, 0.1542031615972519, 0.025160156190395355, 0.0, 0.0, 0.0, 0.0, 0.0, 0.0, 0.0, 0.0, 0.0, 0.0, 0.0, 0.0, 0.0, 0.0, 0.0, 0.0], [0.809695303440094, 0.00014628654753323644, 6.985416257521138e-05, 5.3382351325126365e-05, 4.09484127885662e-05, 0.00041498520295135677, 0.00019741820869967341, 0.00031051371479406953, 0.00034828210482373834, 0.00029727371293120086, 0.0010198685340583324, 0.0013777072308585048, 0.0008721714257262647, 0.0008255559951066971, 0.0010359330335631967, 0.001432540244422853, 0.0022615513298660517, 0.0014759638579562306, 0.007093773689121008, 0.005893290974199772, 0.0030143791809678078, 0.0011512998025864363, 0.0008938395767472684, 0.006985463667660952, 0.006368276197463274, 0.014543234370648861, 0.015248776413500309, 0.01735515147447586, 0.08661197870969772, 0.012965017929673195, 0.0, 0.0, 0.0, 0.0, 0.0, 0.0, 0.0, 0.0, 0.0, 0.0, 0.0, 0.0, 0.0, 0.0, 0.0], [0.8918163180351257, 3.5484048567013815e-05, 1.4395009202416986e-05, 1.4411808479053434e-05, 5.262804916128516e-05, 0.00011445621930761263, 0.00029299705056473613, 6.221986404852942e-05, 2.160701660613995e-05, 1.94433014257811e-05, 0.00017006487178150564, 0.0002863872214220464, 0.0008412188617512584, 0.0001047910118359141, 0.0017317209858447313, 0.00040581930079497397, 0.00031562679214403033, 0.00019248742319177836, 0.003508245572447777, 0.0016094886232167482, 0.001622127485461533, 0.0006373696960508823, 0.00036859148531220853, 0.0004289671778678894, 0.0037552472203969955, 0.003673010505735874, 0.0014270093524828553, 0.001734674908220768, 0.005706877913326025, 0.0747709795832634, 0.0042652105912566185, 0.0, 0.0, 0.0, 0.0, 0.0, 0.0, 0.0, 0.0, 0.0, 0.0, 0.0, 0.0, 0.0, 0.0], [0.5492883920669556, 5.642966425511986e-05, 3.4494496503612027e-05, 2.0746447262354195e-05, 9.148141543846577e-05, 0.00014231214299798012, 0.0010041904170066118, 0.00030004026484675705, 9.008279448607937e-05, 5.51750636077486e-05, 0.00015144338249228895, 0.0004622631531674415, 0.0014897558139637113, 0.0003667993296403438, 0.005354621913284063, 0.0015333922347053885, 0.000899609352927655, 0.0004555780324153602, 0.0038175666704773903, 0.002051854506134987, 0.004861524328589439, 0.0010855281725525856, 0.0008328917901962996, 0.0009565193322487175, 0.005544312763959169, 0.007761714514344931, 0.009810027666389942, 0.0038375300355255604, 0.009459211491048336, 0.26799026131629944, 0.1134435161948204, 0.006750700995326042, 0.0, 0.0, 0.0, 0.0, 0.0, 0.0, 0.0, 0.0, 0.0, 0.0, 0.0, 0.0, 0.0], [0.45775723457336426, 4.0485901990905404e-05, 4.699014243669808e-05, 2.344919448660221e-05, 4.279076892999001e-05, 0.00014445354463532567, 0.0004694523522630334, 0.00046407029731199145, 0.00016950452118180692, 4.396627264213748e-05, 0.00045222719199955463, 0.0007420547772198915, 0.0005920601543039083, 0.0003373389772605151, 0.0028215590864419937, 0.001396031235344708, 0.001087632612325251, 0.00024955859407782555, 0.0019127525156363845, 0.0006037824205122888, 0.004703601356595755, 0.00042716742609627545, 0.0003725369169842452, 0.002880547661334276, 0.010582598857581615, 0.004435436334460974, 0.01063618715852499, 0.0044927638955414295, 0.007324746809899807, 0.2796362340450287, 0.13497094810009003, 0.06012863293290138, 0.010011248290538788, 0.0, 0.0, 0.0, 0.0, 0.0, 0.0, 0.0, 0.0, 0.0, 0.0, 0.0, 0.0], [0.2548414468765259, 0.004676719196140766, 0.0031954904552549124, 0.0028735001105815172, 0.003817106131464243, 0.011215649545192719, 0.015272798016667366, 0.003863407066091895, 0.0027471554931253195, 0.0042675998993217945, 0.002173047512769699, 0.08356482535600662, 0.022738780826330185, 0.011198660358786583, 0.059622783213853836, 0.010259745642542839, 0.013859830796718597, 0.010982401669025421, 0.056199293583631516, 0.03791828453540802, 0.024937259033322334, 0.009996756911277771, 0.0068130879662930965, 0.012202826328575611, 0.055368296802043915, 0.025951538234949112, 0.014069897122681141, 0.01706111803650856, 0.07959627360105515, 0.06915386021137238, 0.023843107745051384, 0.022449707612395287, 0.013150516897439957, 0.010117171332240105, 0.0, 0.0, 0.0, 0.0, 0.0, 0.0, 0.0, 0.0, 0.0, 0.0, 0.0], [0.8011346459388733, 0.000993435620330274, 0.0012413281947374344, 0.0008724896470084786, 0.0011661242460832, 0.004242805764079094, 0.0015247008996084332, 0.00032743177143856883, 0.0004974915063939989, 0.00021052584634162486, 0.0007807558868080378, 0.0026925792917609215, 0.005651102866977453, 0.0024990015663206577, 0.01336953416466713, 0.0025488196406513453, 0.005928508937358856, 0.0023683933541178703, 0.029378313571214676, 0.01444731280207634, 0.005834887735545635, 0.0044852555729448795, 0.0024026110768318176, 0.001246446743607521, 0.003174154320731759, 0.004917089361697435, 0.001647943165153265, 0.004511718638241291, 0.003109857439994812, 0.002837512409314513, 0.0022517992183566093, 0.0004057068726979196, 0.000813243561424315, 0.0053821648471057415, 0.0651043951511383, 0.0, 0.0, 0.0, 0.0, 0.0, 0.0, 0.0, 0.0, 0.0, 0.0], [0.7423176765441895, 0.0006061902968212962, 0.0003798708785325289, 0.00045840084203518927, 0.0006759671960026026, 0.0014214713592082262, 0.0004918877384625375, 5.480856270878576e-05, 0.00016727205365896225, 0.00012905716721434146, 0.0009134947322309017, 0.0036644136998802423, 0.00124008534476161, 0.0009912442183122039, 0.004072591662406921, 0.0003730525786522776, 0.001107113203033805, 0.0006989731919020414, 0.016503626480698586, 0.003480671439319849, 0.00498294597491622, 0.004379862453788519, 0.0010268562473356724, 0.00041912318556569517, 0.0071741691790521145, 0.008076992817223072, 0.0055050975643098354, 0.0058302427642047405, 0.004473225213587284, 0.004666642751544714, 0.0020489890594035387, 0.0008432253962382674, 0.0005963515723124146, 0.011532695032656193, 0.10595887899398804, 0.05273675173521042, 0.0, 0.0, 0.0, 0.0, 0.0, 0.0, 0.0, 0.0, 0.0], [0.7186959385871887, 0.0007797721191309392, 8.855914347805083e-05, 5.380283619160764e-05, 0.0001743409811751917, 0.00032268266659229994, 0.0004905356327071786, 7.839353929739445e-05, 0.00012374846846796572, 5.743981819250621e-05, 0.00014908533194102347, 0.0019221901893615723, 0.0006584537331946194, 0.00079038564581424, 0.0023930291645228863, 0.00030720714130438864, 0.0007325124461203814, 0.0002243915369035676, 0.0017723453929647803, 0.0018826196901500225, 0.0003158508043270558, 0.00020087009761482477, 6.365816807374358e-05, 0.0002573048113845289, 0.000745747413020581, 0.001203444437123835, 0.0010250551858916879, 0.001356401015073061, 0.0005826976848766208, 0.0015943291364237666, 0.002831403398886323, 0.00045179942389950156, 0.001000610995106399, 0.003019505413249135, 0.047764673829078674, 0.18622155487537384, 0.01966755837202072, 0.0, 0.0, 0.0, 0.0, 0.0, 0.0, 0.0, 0.0], [0.8325394988059998, 9.001004218589514e-05, 4.254365194356069e-05, 1.0677622412913479e-05, 5.221951141720638e-05, 0.00013092787412460893, 0.00013504558592103422, 1.8769107555272058e-05, 0.00010198025120189413, 1.6720930943847634e-05, 4.823140625376254e-05, 0.00048245140351355076, 5.084520307718776e-05, 9.806157322600484e-05, 0.0005298179457895458, 5.8915185945807025e-05, 0.00025053246645256877, 4.736966729979031e-05, 0.0019117214251309633, 8.748650725465268e-05, 0.0009940568124875426, 0.0001820025936467573, 0.00015122268814593554, 0.00010809470404637977, 0.0015159897739067674, 0.0006035719998180866, 0.002170586260035634, 0.0014068210730329156, 0.0004339822626207024, 0.0032984314020723104, 0.004116447176784277, 0.0004939825739711523, 0.0006410843343473971, 0.001741737243719399, 0.03362444043159485, 0.0288271214812994, 0.07144827395677567, 0.011538301594555378, 0.0, 0.0, 0.0, 0.0, 0.0, 0.0, 0.0], [0.6970670819282532, 5.479090759763494e-05, 2.644378037075512e-05, 7.877037205616944e-06, 3.280493911006488e-05, 0.00014012645988259465, 0.00011632578389253467, 4.923872256767936e-05, 7.222301792353392e-05, 3.5920726077165455e-05, 0.00011973199434578419, 0.0002242933405796066, 9.139427857007831e-05, 0.00023194431560114026, 0.000635763572063297, 0.00012840432464145124, 0.0002698073221836239, 0.00013728727935813367, 0.0017293394776061177, 0.001017567585222423, 0.0006178658222779632, 0.00012978329323232174, 0.0002462123811710626, 0.00018447631737217307, 0.0014374753227457404, 0.0007576252100989223, 0.0023001611698418856, 0.0024506684858351946, 0.002845642389729619, 0.0008908708696253598, 0.003015203168615699, 0.0010122866369783878, 0.0016365033807232976, 0.003297025803476572, 0.016080956906080246, 0.017146240919828415, 0.0770685151219368, 0.1589028388261795, 0.007791240233927965, 0.0, 0.0, 0.0, 0.0, 0.0, 0.0], [0.5442553162574768, 0.00040480479947291315, 6.663433305220678e-05, 8.695655560586601e-05, 5.48553689441178e-05, 0.0002745223173405975, 0.0002601962478365749, 0.0001819687313400209, 0.00017633433162700385, 0.00017115211812779307, 0.0001992737379623577, 0.0010208782041445374, 0.0006576881278306246, 0.0003590332926250994, 0.0013561953091993928, 0.00033764776890166104, 0.00048085974412970245, 0.0004024876106996089, 0.0011675757123157382, 0.0020138961263000965, 0.0029627198819071054, 0.0004663555882871151, 0.0004408883978612721, 0.0005065839504823089, 0.006206036079674959, 0.008469696156680584, 0.003478922648355365, 0.003935147542506456, 0.007950861938297749, 0.005464284215122461, 0.0073848748579621315, 0.00444595143198967, 0.005479791201651096, 0.004862232133746147, 0.04273265600204468, 0.02406325563788414, 0.054348353296518326, 0.09958565980195999, 0.13607695698738098, 0.02721058949828148, 0.0, 0.0, 0.0, 0.0, 0.0], [0.1609095335006714, 0.00014272333646658808, 3.0159499146975577e-05, 1.4502157682727557e-05, 0.00023811814025975764, 0.0003152204444631934, 7.533733150921762e-05, 0.00015184750373009592, 0.00019633201009128243, 0.00031796947587281466, 9.895909897750244e-05, 0.007725582458078861, 0.000584337511099875, 0.0015418075490742922, 3.2999283575918525e-05, 0.00017813451995607466, 0.00033374212216585875, 0.00027070959913544357, 0.0007551324088126421, 0.0004154711787123233, 0.00018939512665383518, 0.0003292109176982194, 0.000564096961170435, 0.0005377570632845163, 0.0007726573385298252, 0.0009302587131969631, 0.00890697818249464, 0.0023435282055288553, 0.0022102007642388344, 0.0015827961033210158, 0.00296300882473588, 0.003650862956419587, 0.0011382473167032003, 0.0006589140393771231, 0.3529101610183716, 0.020347347483038902, 0.009596819058060646, 0.06831391155719757, 0.03284508362412453, 0.3110039234161377, 0.003876251634210348, 0.0, 0.0, 0.0, 0.0], [0.47065868973731995, 6.273703911574557e-05, 4.2828928599192295e-06, 5.732937097491231e-06, 8.08013865025714e-05, 0.00013094900350552052, 0.00046500784810632467, 1.234016235684976e-05, 1.6393285477533937e-05, 8.617129424237646e-06, 9.676223999122158e-05, 0.001506949425674975, 0.0004084986576344818, 0.0003999135224148631, 0.001898519811220467, 0.00014287076191976666, 0.0002182857133448124, 6.68774955556728e-05, 0.0010498113697394729, 0.0003673114988487214, 0.00023025345581118017, 0.00013265039888210595, 0.00048300117487087846, 0.0001229305489687249, 0.0007684170850552619, 0.0015055719995871186, 0.0015648530097678304, 0.0013927710242569447, 0.001293999026529491, 0.002539515495300293, 0.0006581326015293598, 0.0001868655381258577, 0.00017910586029756814, 0.0010201564291492105, 0.13879238069057465, 0.0229949951171875, 0.014849609695374966, 0.02333196811378002, 0.01362633891403675, 0.013211609795689583, 0.252838134765625, 0.030675452202558517, 0.0, 0.0, 0.0], [0.6287652254104614, 2.0433897589100525e-05, 4.395194991957396e-06, 1.9156684629706433e-06, 9.67598898569122e-05, 0.0001053361120284535, 0.0002041972184088081, 2.4714026949368417e-05, 7.326725608436391e-06, 7.951258339744527e-06, 1.5274272300302982e-05, 0.0007910545100457966, 0.00012001812137896195, 0.00021806090080644935, 0.0004013872821815312, 7.293677481357008e-05, 3.544776336639188e-05, 2.0817968106712215e-05, 0.0002568108029663563, 7.261868449859321e-05, 4.41942029283382e-05, 8.329498814418912e-05, 0.00020565750310197473, 9.560806211084127e-05, 0.000307469570543617, 0.00044737523421645164, 0.0028505134396255016, 0.002204555319622159, 0.0011153985979035497, 0.0032654269598424435, 0.001738875638693571, 0.0005026306607760489, 0.00026555859949439764, 0.0003520555328577757, 0.0998203307390213, 0.012594110332429409, 0.004165055230259895, 0.016852380707859993, 0.004819419700652361, 0.02847347967326641, 0.13577096164226532, 0.03548450022935867, 0.01729843206703663, 0.0, 0.0], [0.4361034631729126, 1.0185827704844996e-05, 5.032036369811976e-06, 2.243454218842089e-06, 2.2388088837033138e-05, 6.69569635647349e-05, 0.00018486095359548926, 4.036040263599716e-05, 4.4270327634876594e-05, 1.7131558706751093e-05, 3.471995660220273e-05, 0.00042664798093028367, 9.210745338350534e-05, 0.00012155263539170846, 0.0006354565848596394, 0.00020509639580268413, 0.0002835205232258886, 6.728912558173761e-05, 0.00028405856573954225, 8.387646812479943e-05, 0.00010274809756083414, 7.003104110481218e-05, 0.00016212742775678635, 8.42143053887412e-05, 0.0003951453836634755, 0.0006755593931302428, 0.0026514276396483183, 0.0017491746693849564, 0.0005764050292782485, 0.0036526487674564123, 0.003605934325605631, 0.0011833837488666177, 0.00037340589915402234, 0.0008674602722749114, 0.07300268858671188, 0.011322175152599812, 0.007000910583883524, 0.025502556934952736, 0.010465269908308983, 0.04782649502158165, 0.09330827742815018, 0.1081889346241951, 0.1301269233226776, 0.03837480768561363, 0.0], [0.6340818405151367, 7.285308674909174e-05, 3.6271540011512116e-05, 1.044655164150754e-05, 7.740267756162211e-05, 0.00020158228289801627, 0.00023795419838279486, 8.400955266552046e-05, 7.009421096881852e-05, 6.409066554624587e-05, 3.390320489415899e-05, 0.0007239317637868226, 0.0005613791872747242, 0.00034726248122751713, 0.0016328631900250912, 0.00036259068292565644, 0.00046743470011278987, 0.00023274811974260956, 0.00042897064122371376, 0.000221131689613685, 9.400238195667043e-05, 2.6149613404413685e-05, 7.893788279034197e-05, 9.64116261457093e-05, 0.00045971100917086005, 0.00022380927111953497, 0.0007154510240070522, 0.0008949989569373429, 0.00046265069977380335, 0.0009097866131924093, 0.001117908745072782, 0.00048506446182727814, 0.00026835055905394256, 0.0002920196857303381, 0.03613367676734924, 0.017989911139011383, 0.008297921158373356, 0.010743905790150166, 0.004624213557690382, 0.005877618212252855, 0.08813783526420593, 0.04734865948557854, 0.06518053263425827, 0.04363195225596428, 0.02595973201096058]], [[1.0, 0.0, 0.0, 0.0, 0.0, 0.0, 0.0, 0.0, 0.0, 0.0, 0.0, 0.0, 0.0, 0.0, 0.0, 0.0, 0.0, 0.0, 0.0, 0.0, 0.0, 0.0, 0.0, 0.0, 0.0, 0.0, 0.0, 0.0, 0.0, 0.0, 0.0, 0.0, 0.0, 0.0, 0.0, 0.0, 0.0, 0.0, 0.0, 0.0, 0.0, 0.0, 0.0, 0.0, 0.0], [0.9066764712333679, 0.0933234915137291, 0.0, 0.0, 0.0, 0.0, 0.0, 0.0, 0.0, 0.0, 0.0, 0.0, 0.0, 0.0, 0.0, 0.0, 0.0, 0.0, 0.0, 0.0, 0.0, 0.0, 0.0, 0.0, 0.0, 0.0, 0.0, 0.0, 0.0, 0.0, 0.0, 0.0, 0.0, 0.0, 0.0, 0.0, 0.0, 0.0, 0.0, 0.0, 0.0, 0.0, 0.0, 0.0, 0.0], [0.7077332139015198, 0.26644429564476013, 0.02582254819571972, 0.0, 0.0, 0.0, 0.0, 0.0, 0.0, 0.0, 0.0, 0.0, 0.0, 0.0, 0.0, 0.0, 0.0, 0.0, 0.0, 0.0, 0.0, 0.0, 0.0, 0.0, 0.0, 0.0, 0.0, 0.0, 0.0, 0.0, 0.0, 0.0, 0.0, 0.0, 0.0, 0.0, 0.0, 0.0, 0.0, 0.0, 0.0, 0.0, 0.0, 0.0, 0.0], [0.6864899396896362, 0.2571341395378113, 0.03923012688755989, 0.017145788297057152, 0.0, 0.0, 0.0, 0.0, 0.0, 0.0, 0.0, 0.0, 0.0, 0.0, 0.0, 0.0, 0.0, 0.0, 0.0, 0.0, 0.0, 0.0, 0.0, 0.0, 0.0, 0.0, 0.0, 0.0, 0.0, 0.0, 0.0, 0.0, 0.0, 0.0, 0.0, 0.0, 0.0, 0.0, 0.0, 0.0, 0.0, 0.0, 0.0, 0.0, 0.0], [0.7389258742332458, 0.1651867926120758, 0.04360951855778694, 0.027796991169452667, 0.024480821564793587, 0.0, 0.0, 0.0, 0.0, 0.0, 0.0, 0.0, 0.0, 0.0, 0.0, 0.0, 0.0, 0.0, 0.0, 0.0, 0.0, 0.0, 0.0, 0.0, 0.0, 0.0, 0.0, 0.0, 0.0, 0.0, 0.0, 0.0, 0.0, 0.0, 0.0, 0.0, 0.0, 0.0, 0.0, 0.0, 0.0, 0.0, 0.0, 0.0, 0.0], [0.6224485039710999, 0.10996053367853165, 0.10296273231506348, 0.060000889003276825, 0.05784201622009277, 0.04678528010845184, 0.0, 0.0, 0.0, 0.0, 0.0, 0.0, 0.0, 0.0, 0.0, 0.0, 0.0, 0.0, 0.0, 0.0, 0.0, 0.0, 0.0, 0.0, 0.0, 0.0, 0.0, 0.0, 0.0, 0.0, 0.0, 0.0, 0.0, 0.0, 0.0, 0.0, 0.0, 0.0, 0.0, 0.0, 0.0, 0.0, 0.0, 0.0, 0.0], [0.6215836405754089, 0.039426129311323166, 0.03452155739068985, 0.049676187336444855, 0.10990601778030396, 0.11276089400053024, 0.03212564066052437, 0.0, 0.0, 0.0, 0.0, 0.0, 0.0, 0.0, 0.0, 0.0, 0.0, 0.0, 0.0, 0.0, 0.0, 0.0, 0.0, 0.0, 0.0, 0.0, 0.0, 0.0, 0.0, 0.0, 0.0, 0.0, 0.0, 0.0, 0.0, 0.0, 0.0, 0.0, 0.0, 0.0, 0.0, 0.0, 0.0, 0.0, 0.0], [0.8541041016578674, 0.0266939215362072, 0.012052128091454506, 0.011477114632725716, 0.01615385338664055, 0.0332166813313961, 0.0424346886575222, 0.003867465304210782, 0.0, 0.0, 0.0, 0.0, 0.0, 0.0, 0.0, 0.0, 0.0, 0.0, 0.0, 0.0, 0.0, 0.0, 0.0, 0.0, 0.0, 0.0, 0.0, 0.0, 0.0, 0.0, 0.0, 0.0, 0.0, 0.0, 0.0, 0.0, 0.0, 0.0, 0.0, 0.0, 0.0, 0.0, 0.0, 0.0, 0.0], [0.6801615953445435, 0.020729783922433853, 0.01824297197163105, 0.03368612006306648, 0.0511743538081646, 0.10148181766271591, 0.05562301352620125, 0.026647979393601418, 0.012252386659383774, 0.0, 0.0, 0.0, 0.0, 0.0, 0.0, 0.0, 0.0, 0.0, 0.0, 0.0, 0.0, 0.0, 0.0, 0.0, 0.0, 0.0, 0.0, 0.0, 0.0, 0.0, 0.0, 0.0, 0.0, 0.0, 0.0, 0.0, 0.0, 0.0, 0.0, 0.0, 0.0, 0.0, 0.0, 0.0, 0.0], [0.4979642331600189, 0.036049798130989075, 0.02617732062935829, 0.026250602677464485, 0.09428274631500244, 0.14325454831123352, 0.09797358512878418, 0.022192146629095078, 0.02932005375623703, 0.026534905657172203, 0.0, 0.0, 0.0, 0.0, 0.0, 0.0, 0.0, 0.0, 0.0, 0.0, 0.0, 0.0, 0.0, 0.0, 0.0, 0.0, 0.0, 0.0, 0.0, 0.0, 0.0, 0.0, 0.0, 0.0, 0.0, 0.0, 0.0, 0.0, 0.0, 0.0, 0.0, 0.0, 0.0, 0.0, 0.0], [0.40430936217308044, 0.057319674640893936, 0.06572812795639038, 0.04218360036611557, 0.09851625561714172, 0.20363394916057587, 0.024478556588292122, 0.024484971538186073, 0.020120151340961456, 0.01742321066558361, 0.04180210083723068, 0.0, 0.0, 0.0, 0.0, 0.0, 0.0, 0.0, 0.0, 0.0, 0.0, 0.0, 0.0, 0.0, 0.0, 0.0, 0.0, 0.0, 0.0, 0.0, 0.0, 0.0, 0.0, 0.0, 0.0, 0.0, 0.0, 0.0, 0.0, 0.0, 0.0, 0.0, 0.0, 0.0, 0.0], [0.16241700947284698, 0.02001066505908966, 0.01933182217180729, 0.01457942370325327, 0.09626621752977371, 0.18606647849082947, 0.019576486200094223, 0.01213499903678894, 0.013721981085836887, 0.008952063508331776, 0.26583635807037354, 0.18110643327236176, 0.0, 0.0, 0.0, 0.0, 0.0, 0.0, 0.0, 0.0, 0.0, 0.0, 0.0, 0.0, 0.0, 0.0, 0.0, 0.0, 0.0, 0.0, 0.0, 0.0, 0.0, 0.0, 0.0, 0.0, 0.0, 0.0, 0.0, 0.0, 0.0, 0.0, 0.0, 0.0, 0.0], [0.20748992264270782, 0.009169504977762699, 0.012387721799314022, 0.008684886619448662, 0.0862898975610733, 0.09741786122322083, 0.007598862051963806, 0.00867252703756094, 0.008160372264683247, 0.006086017470806837, 0.13679181039333344, 0.3681252598762512, 0.04312538728117943, 0.0, 0.0, 0.0, 0.0, 0.0, 0.0, 0.0, 0.0, 0.0, 0.0, 0.0, 0.0, 0.0, 0.0, 0.0, 0.0, 0.0, 0.0, 0.0, 0.0, 0.0, 0.0, 0.0, 0.0, 0.0, 0.0, 0.0, 0.0, 0.0, 0.0, 0.0, 0.0], [0.21417996287345886, 0.010076860897243023, 0.008807582780718803, 0.007056442089378834, 0.020071780309081078, 0.044507838785648346, 0.006545280106365681, 0.011187359690666199, 0.003248037537559867, 0.0032578378450125456, 0.05083161219954491, 0.38174915313720703, 0.16888388991355896, 0.0695963129401207, 0.0, 0.0, 0.0, 0.0, 0.0, 0.0, 0.0, 0.0, 0.0, 0.0, 0.0, 0.0, 0.0, 0.0, 0.0, 0.0, 0.0, 0.0, 0.0, 0.0, 0.0, 0.0, 0.0, 0.0, 0.0, 0.0, 0.0, 0.0, 0.0, 0.0, 0.0], [0.37273067235946655, 0.011324979364871979, 0.01287335529923439, 0.00723165413364768, 0.026860112324357033, 0.03689621388912201, 0.00860505923628807, 0.01969143934547901, 0.010301848873496056, 0.011786418966948986, 0.06465044617652893, 0.2217998057603836, 0.0975014716386795, 0.05752462521195412, 0.040221814066171646, 0.0, 0.0, 0.0, 0.0, 0.0, 0.0, 0.0, 0.0, 0.0, 0.0, 0.0, 0.0, 0.0, 0.0, 0.0, 0.0, 0.0, 0.0, 0.0, 0.0, 0.0, 0.0, 0.0, 0.0, 0.0, 0.0, 0.0, 0.0, 0.0, 0.0], [0.29281044006347656, 0.017936110496520996, 0.013052351772785187, 0.009134463034570217, 0.01594642549753189, 0.030782101675868034, 0.01156067755073309, 0.001964341849088669, 0.0040870001539587975, 0.0041727591305971146, 0.08476348221302032, 0.1821357011795044, 0.12659862637519836, 0.09713856130838394, 0.09638899564743042, 0.011527946218848228, 0.0, 0.0, 0.0, 0.0, 0.0, 0.0, 0.0, 0.0, 0.0, 0.0, 0.0, 0.0, 0.0, 0.0, 0.0, 0.0, 0.0, 0.0, 0.0, 0.0, 0.0, 0.0, 0.0, 0.0, 0.0, 0.0, 0.0, 0.0, 0.0], [0.362729549407959, 0.004076298791915178, 0.005486747249960899, 0.005487140268087387, 0.010880702175199986, 0.028578322380781174, 0.01064256764948368, 0.0033347923308610916, 0.0019825929775834084, 0.0041696554981172085, 0.041697464883327484, 0.18801212310791016, 0.10120154172182083, 0.10551542788743973, 0.09746965765953064, 0.013283331878483295, 0.01545211672782898, 0.0, 0.0, 0.0, 0.0, 0.0, 0.0, 0.0, 0.0, 0.0, 0.0, 0.0, 0.0, 0.0, 0.0, 0.0, 0.0, 0.0, 0.0, 0.0, 0.0, 0.0, 0.0, 0.0, 0.0, 0.0, 0.0, 0.0, 0.0], [0.2931663393974304, 0.0058270664885640144, 0.004314241465181112, 0.0025525856763124466, 0.01052915956825018, 0.020943664014339447, 0.013341068290174007, 0.0027984774205833673, 0.0034765673335641623, 0.003335673362016678, 0.05422480031847954, 0.12316598743200302, 0.09101394563913345, 0.14566367864608765, 0.17106296122074127, 0.011947362683713436, 0.026293834671378136, 0.016342563554644585, 0.0, 0.0, 0.0, 0.0, 0.0, 0.0, 0.0, 0.0, 0.0, 0.0, 0.0, 0.0, 0.0, 0.0, 0.0, 0.0, 0.0, 0.0, 0.0, 0.0, 0.0, 0.0, 0.0, 0.0, 0.0, 0.0, 0.0], [0.17136815190315247, 0.005424119532108307, 0.01207768451422453, 0.017223354429006577, 0.04010298475623131, 0.051671016961336136, 0.00768301822245121, 0.003198890946805477, 0.004347068723291159, 0.002825419418513775, 0.058806855231523514, 0.20177318155765533, 0.10547791421413422, 0.1028117761015892, 0.12836962938308716, 0.014443134889006615, 0.02900349162518978, 0.01662103459239006, 0.026771333068609238, 0.0, 0.0, 0.0, 0.0, 0.0, 0.0, 0.0, 0.0, 0.0, 0.0, 0.0, 0.0, 0.0, 0.0, 0.0, 0.0, 0.0, 0.0, 0.0, 0.0, 0.0, 0.0, 0.0, 0.0, 0.0, 0.0], [0.1434899866580963, 0.003766059409826994, 0.004167530685663223, 0.0037587520200759172, 0.014960658736526966, 0.020815273746848106, 0.005317174829542637, 0.0040409984067082405, 0.0011526667512953281, 0.001551649533212185, 0.021617544814944267, 0.3029383718967438, 0.05485672131180763, 0.17028971016407013, 0.0967695415019989, 0.019063500687479973, 0.013766715303063393, 0.015481422655284405, 0.08812890946865082, 0.014066834934055805, 0.0, 0.0, 0.0, 0.0, 0.0, 0.0, 0.0, 0.0, 0.0, 0.0, 0.0, 0.0, 0.0, 0.0, 0.0, 0.0, 0.0, 0.0, 0.0, 0.0, 0.0, 0.0, 0.0, 0.0, 0.0], [0.17259356379508972, 0.0047144959680736065, 0.005877826362848282, 0.004169770982116461, 0.008210205473005772, 0.008751889690756798, 0.0031915875151753426, 0.0036516666878014803, 0.0010962344240397215, 0.001456636469811201, 0.02912030555307865, 0.1121591106057167, 0.05961599946022034, 0.17321303486824036, 0.058828745037317276, 0.015392138622701168, 0.013552412390708923, 0.01086142472922802, 0.1812707930803299, 0.10704487562179565, 0.025227289646863937, 0.0, 0.0, 0.0, 0.0, 0.0, 0.0, 0.0, 0.0, 0.0, 0.0, 0.0, 0.0, 0.0, 0.0, 0.0, 0.0, 0.0, 0.0, 0.0, 0.0, 0.0, 0.0, 0.0, 0.0], [0.10584481805562973, 0.00542555982246995, 0.005584286525845528, 0.0031286622397601604, 0.004067742731422186, 0.008741950616240501, 0.0034112506546080112, 0.0044691734947264194, 0.002376287942752242, 0.001947764540091157, 0.05378687381744385, 0.11470182240009308, 0.041508324444293976, 0.28857600688934326, 0.03656718134880066, 0.014155465178191662, 0.014109832234680653, 0.009802677668631077, 0.1613408923149109, 0.0837988629937172, 0.02612561173737049, 0.010528909973800182, 0.0, 0.0, 0.0, 0.0, 0.0, 0.0, 0.0, 0.0, 0.0, 0.0, 0.0, 0.0, 0.0, 0.0, 0.0, 0.0, 0.0, 0.0, 0.0, 0.0, 0.0, 0.0, 0.0], [0.2205585390329361, 0.008038796484470367, 0.0074621993117034435, 0.002808918012306094, 0.006970647256821394, 0.009958344511687756, 0.00648622028529644, 0.0026745751965790987, 0.0032829998526722193, 0.002001523971557617, 0.061914220452308655, 0.0989106222987175, 0.03313172236084938, 0.13326744735240936, 0.07086975872516632, 0.016674814745783806, 0.021907737478613853, 0.013477664440870285, 0.10430198907852173, 0.06545764207839966, 0.04193241149187088, 0.032992925494909286, 0.03491823375225067, 0.0, 0.0, 0.0, 0.0, 0.0, 0.0, 0.0, 0.0, 0.0, 0.0, 0.0, 0.0, 0.0, 0.0, 0.0, 0.0, 0.0, 0.0, 0.0, 0.0, 0.0, 0.0], [0.19073495268821716, 0.003503331681713462, 0.003764055436477065, 0.001812416478060186, 0.003853295464068651, 0.008838662877678871, 0.003684613388031721, 0.0010453426511958241, 0.0014591235667467117, 0.0007927109254524112, 0.01881592534482479, 0.12757860124111176, 0.12137750536203384, 0.13693930208683014, 0.0769551545381546, 0.011859599500894547, 0.025851210579276085, 0.010401681065559387, 0.08476494252681732, 0.05223656818270683, 0.04180263355374336, 0.024950776249170303, 0.026127994060516357, 0.02084958925843239, 0.0, 0.0, 0.0, 0.0, 0.0, 0.0, 0.0, 0.0, 0.0, 0.0, 0.0, 0.0, 0.0, 0.0, 0.0, 0.0, 0.0, 0.0, 0.0, 0.0, 0.0], [0.17536240816116333, 0.004468359053134918, 0.00457561481744051, 0.004934058059006929, 0.01316281408071518, 0.034504473209381104, 0.00407337537035346, 0.002030594041571021, 0.0009909045184031129, 0.0007793696131557226, 0.02220124751329422, 0.21649044752120972, 0.0716649666428566, 0.11314569413661957, 0.07243812829256058, 0.010395746678113937, 0.014467380940914154, 0.009523814544081688, 0.06717376410961151, 0.013856833800673485, 0.009489944204688072, 0.02143804170191288, 0.020109185948967934, 0.05968688800930977, 0.033035919070243835, 0.0, 0.0, 0.0, 0.0, 0.0, 0.0, 0.0, 0.0, 0.0, 0.0, 0.0, 0.0, 0.0, 0.0, 0.0, 0.0, 0.0, 0.0, 0.0, 0.0], [0.14394453167915344, 0.0036529917269945145, 0.0020258191507309675, 0.0011387019185349345, 0.004572984296828508, 0.01691032201051712, 0.004302270244807005, 0.0028468607924878597, 0.001746799098327756, 0.0013358138967305422, 0.02498987317085266, 0.11266274750232697, 0.04011211544275284, 0.13626281917095184, 0.059610236436128616, 0.012022637762129307, 0.020055023953318596, 0.013677473179996014, 0.1177927777171135, 0.028622059151530266, 0.0149387177079916, 0.015843262895941734, 0.025085804983973503, 0.06756260991096497, 0.11197833716869354, 0.016306385397911072, 0.0, 0.0, 0.0, 0.0, 0.0, 0.0, 0.0, 0.0, 0.0, 0.0, 0.0, 0.0, 0.0, 0.0, 0.0, 0.0, 0.0, 0.0, 0.0], [0.1692133992910385, 0.005580776371061802, 0.0031884443014860153, 0.003074578708037734, 0.00632092310115695, 0.022458024322986603, 0.006645034067332745, 0.002579582156613469, 0.001254904200322926, 0.0016487713437527418, 0.037234239280223846, 0.12235169112682343, 0.06030892953276634, 0.06663446128368378, 0.057680778205394745, 0.010551389306783676, 0.013148283585906029, 0.010469929315149784, 0.12992694973945618, 0.019188612699508667, 0.014174140989780426, 0.01826540194451809, 0.018224529922008514, 0.05713863670825958, 0.09023231267929077, 0.04323209077119827, 0.009273196570575237, 0.0, 0.0, 0.0, 0.0, 0.0, 0.0, 0.0, 0.0, 0.0, 0.0, 0.0, 0.0, 0.0, 0.0, 0.0, 0.0, 0.0, 0.0], [0.06326819211244583, 0.006443604826927185, 0.0043699173256754875, 0.0028887500520795584, 0.01125100627541542, 0.028466859832406044, 0.004834772553294897, 0.002080387668684125, 0.0009220991050824523, 0.0008780323551036417, 0.0493328794836998, 0.10251452773809433, 0.051813483238220215, 0.11371401697397232, 0.05129336938261986, 0.008684655651450157, 0.012168719433248043, 0.008265441283583641, 0.14927411079406738, 0.06329578906297684, 0.017611337825655937, 0.02016662247478962, 0.02979746274650097, 0.03967433050274849, 0.10758810490369797, 0.03143566846847534, 0.011124593205749989, 0.00684124743565917, 0.0, 0.0, 0.0, 0.0, 0.0, 0.0, 0.0, 0.0, 0.0, 0.0, 0.0, 0.0, 0.0, 0.0, 0.0, 0.0, 0.0], [0.1562221497297287, 0.0036343992687761784, 0.0034683039411902428, 0.003859209595248103, 0.00540454126894474, 0.012915150262415409, 0.0014322147471830249, 0.002396112773567438, 0.0006902489112690091, 0.0005310114938765764, 0.016451120376586914, 0.08176633715629578, 0.03023565374314785, 0.08344553411006927, 0.02858950011432171, 0.01218720618635416, 0.011102869175374508, 0.008512480184435844, 0.08609052747488022, 0.031091490760445595, 0.018862375989556313, 0.013358905911445618, 0.03578701615333557, 0.031789690256118774, 0.18706336617469788, 0.05663859471678734, 0.014570890925824642, 0.018847472965717316, 0.043055638670921326, 0.0, 0.0, 0.0, 0.0, 0.0, 0.0, 0.0, 0.0, 0.0, 0.0, 0.0, 0.0, 0.0, 0.0, 0.0, 0.0], [0.36151018738746643, 0.009802152402698994, 0.00569911627098918, 0.006745490245521069, 0.01354729663580656, 0.021823575720191002, 0.002949901856482029, 0.0033713134471327066, 0.0026353285647928715, 0.003025503596290946, 0.03280335292220116, 0.04414990171790123, 0.021793141961097717, 0.02938857115805149, 0.021710989996790886, 0.013308965601027012, 0.015896879136562347, 0.012864255346357822, 0.04383556544780731, 0.01742926798760891, 0.01336988341063261, 0.014439267106354237, 0.017519831657409668, 0.02526806853711605, 0.09132013469934464, 0.036108531057834625, 0.015359911136329174, 0.02694445103406906, 0.04020172357559204, 0.03517746552824974, 0.0, 0.0, 0.0, 0.0, 0.0, 0.0, 0.0, 0.0, 0.0, 0.0, 0.0, 0.0, 0.0, 0.0, 0.0], [0.5410354733467102, 0.009730909951031208, 0.003716300241649151, 0.004885094240307808, 0.012563026510179043, 0.014801014214754105, 0.002862770576030016, 0.0008393465541303158, 0.001367239048704505, 0.0012689471477642655, 0.019323743879795074, 0.048083797097206116, 0.0107682254165411, 0.015492926351726055, 0.012760395184159279, 0.003335750661790371, 0.006523600779473782, 0.0048247515223920345, 0.04366578161716461, 0.009074664674699306, 0.010315237566828728, 0.015572366304695606, 0.010786117054522038, 0.010787436738610268, 0.04738496243953705, 0.01997268572449684, 0.017712699249386787, 0.02563009411096573, 0.027028648182749748, 0.04011109471321106, 0.0077749150805175304, 0.0, 0.0, 0.0, 0.0, 0.0, 0.0, 0.0, 0.0, 0.0, 0.0, 0.0, 0.0, 0.0, 0.0], [0.36354774236679077, 0.005254900082945824, 0.001844497281126678, 0.0011167817283421755, 0.005456131417304277, 0.009808423928916454, 0.0025772484950721264, 0.0006405023741535842, 0.0005794447497464716, 0.0007896969327703118, 0.011276288889348507, 0.03293010964989662, 0.01586148701608181, 0.025256052613258362, 0.02322716824710369, 0.0034267932642251253, 0.006153480615466833, 0.0049436334520578384, 0.05130389332771301, 0.011290348134934902, 0.01251134742051363, 0.009642863646149635, 0.012681693769991398, 0.018468324095010757, 0.20731282234191895, 0.02608257718384266, 0.02040010318160057, 0.017262695357203484, 0.044203490018844604, 0.04209546744823456, 0.007233112584799528, 0.004820898175239563, 0.0, 0.0, 0.0, 0.0, 0.0, 0.0, 0.0, 0.0, 0.0, 0.0, 0.0, 0.0, 0.0], [0.4179587662220001, 0.007237840443849564, 0.0036767814308404922, 0.003272281028330326, 0.011362099088728428, 0.018778877332806587, 0.002560579916462302, 0.0005716437590308487, 0.0008950975025072694, 0.0009055436821654439, 0.013376517221331596, 0.07906117290258408, 0.009432967752218246, 0.02028687298297882, 0.021498212590813637, 0.0022336565889418125, 0.005597174633294344, 0.004444970283657312, 0.03619774803519249, 0.009186984971165657, 0.008819728158414364, 0.016904285177588463, 0.016184482723474503, 0.0327608622610569, 0.06329623609781265, 0.021133441478013992, 0.022510776296257973, 0.03174440562725067, 0.03337607532739639, 0.050407566130161285, 0.010442697443068027, 0.017323816195130348, 0.0065598557703197, 0.0, 0.0, 0.0, 0.0, 0.0, 0.0, 0.0, 0.0, 0.0, 0.0, 0.0, 0.0], [0.128038227558136, 0.008517934009432793, 0.013354404829442501, 0.009459649212658405, 0.01675928756594658, 0.05038265883922577, 0.002049660310149193, 0.0013138814829289913, 0.0009253713651560247, 0.0007973092724569142, 0.012486690655350685, 0.32713210582733154, 0.06520595401525497, 0.10883079469203949, 0.03200345113873482, 0.009547675028443336, 0.0136405099183321, 0.01170012354850769, 0.030624238774180412, 0.012521734461188316, 0.009276178665459156, 0.00960716512054205, 0.014598245732486248, 0.016535358503460884, 0.03603271022439003, 0.011773066595196724, 0.0033195235300809145, 0.006104798521846533, 0.006264507304877043, 0.008118477649986744, 0.0034856339916586876, 0.002865175949409604, 0.002192610176280141, 0.014534937217831612, 0.0, 0.0, 0.0, 0.0, 0.0, 0.0, 0.0, 0.0, 0.0, 0.0, 0.0], [0.22996652126312256, 0.006200423464179039, 0.0055220662616193295, 0.006597564555704594, 0.024375641718506813, 0.08440665155649185, 0.002036361489444971, 0.0007805545465089381, 0.0009222920634783804, 0.0005050828331150115, 0.07081305235624313, 0.03834685683250427, 0.014869124628603458, 0.034822024405002594, 0.010229102335870266, 0.0026465116534382105, 0.004444729071110487, 0.0021802200935781, 0.01796877011656761, 0.012782350182533264, 0.004655557218939066, 0.006552602164447308, 0.008918988518416882, 0.007557920645922422, 0.00785775762051344, 0.005712792277336121, 0.0023625066969543695, 0.0036561975721269846, 0.002906596986576915, 0.005373060237616301, 0.006174812093377113, 0.004355249460786581, 0.004078679718077183, 0.11637001484632492, 0.24305139482021332, 0.0, 0.0, 0.0, 0.0, 0.0, 0.0, 0.0, 0.0, 0.0, 0.0], [0.3464435338973999, 0.002272068988531828, 0.0017172268126159906, 0.0017932538175955415, 0.016191663220524788, 0.04393009468913078, 0.0016772984527051449, 0.0005781648796983063, 0.000493608764372766, 0.0003886579361278564, 0.016382118687033653, 0.023520948365330696, 0.006021132227033377, 0.008902961388230324, 0.009324334561824799, 0.0012873128289356828, 0.002234121086075902, 0.0013502128422260284, 0.008680770173668861, 0.007145821116864681, 0.0035897090565413237, 0.005755587015300989, 0.010148372501134872, 0.0028683552518486977, 0.021488817408680916, 0.008179787546396255, 0.007060020696371794, 0.009389175102114677, 0.004451325628906488, 0.009634423069655895, 0.002384948544204235, 0.00197008834220469, 0.002196694491431117, 0.06300617009401321, 0.28880560398101807, 0.05873560532927513, 0.0, 0.0, 0.0, 0.0, 0.0, 0.0, 0.0, 0.0, 0.0], [0.4126969277858734, 0.0025332574732601643, 0.0016409818781539798, 0.001041719107888639, 0.012159669771790504, 0.02600196562707424, 0.0027747948188334703, 0.0009984065545722842, 0.000778600515332073, 0.000507668184582144, 0.016300104558467865, 0.021823696792125702, 0.00697843823581934, 0.008246952667832375, 0.019462376832962036, 0.0033612840343266726, 0.004852864425629377, 0.0025950984563678503, 0.0036575596313923597, 0.002835343824699521, 0.002340119332075119, 0.0037163468077778816, 0.0065781064331531525, 0.002488123718649149, 0.006466981954872608, 0.0037119986955076456, 0.003877840004861355, 0.003179105231538415, 0.002908949973061681, 0.013591844588518143, 0.006302786525338888, 0.0029024712275713682, 0.004717589821666479, 0.0698929950594902, 0.19993476569652557, 0.10082655400037766, 0.01531569380313158, 0.0, 0.0, 0.0, 0.0, 0.0, 0.0, 0.0, 0.0], [0.48754575848579407, 0.0006576345767825842, 0.0006668788264505565, 0.00040250286110676825, 0.002296662190929055, 0.00487995520234108, 0.000781301292590797, 0.0004740155709441751, 0.0002923147985711694, 0.0001691448560450226, 0.00424254359677434, 0.009432108141481876, 0.002931560855358839, 0.005584510043263435, 0.007664573844522238, 0.0014379238709807396, 0.0016253080684691668, 0.0008568092598579824, 0.0026816625613719225, 0.0021178920287638903, 0.0023714243434369564, 0.0020201492588967085, 0.0024152244441211224, 0.001285614795051515, 0.005811442155390978, 0.0024439366534352303, 0.004238794557750225, 0.0035049968864768744, 0.0011316458694636822, 0.006828621029853821, 0.004101098980754614, 0.0011980391573160887, 0.002960431156679988, 0.053319014608860016, 0.200835183262825, 0.0866849273443222, 0.061190251260995865, 0.020918065682053566, 0.0, 0.0, 0.0, 0.0, 0.0, 0.0, 0.0], [0.5505990982055664, 0.0012592463754117489, 0.0008637173450551927, 0.0006545900250785053, 0.003315557958558202, 0.005792912095785141, 0.0008481039549224079, 0.0005806313711218536, 0.0004690753121394664, 0.00025051276315934956, 0.0076032173819839954, 0.007907611317932606, 0.0021601079497486353, 0.0043381755240261555, 0.006599965505301952, 0.0014091760385781527, 0.0018039180431514978, 0.0008935264777392149, 0.0018674763850867748, 0.0019211794715374708, 0.001534822629764676, 0.0017473079496994615, 0.002386401640251279, 0.0016088291304185987, 0.005382254254072905, 0.002150124404579401, 0.004246327094733715, 0.003412392223253846, 0.001035679830238223, 0.005283991806209087, 0.0035969368182122707, 0.0018410118063911796, 0.0038552917540073395, 0.06765052676200867, 0.14363627135753632, 0.06036900356411934, 0.0488961786031723, 0.02051897533237934, 0.0197098720818758, 0.0, 0.0, 0.0, 0.0, 0.0, 0.0], [0.24781391024589539, 0.002649954752996564, 0.0014019436202943325, 0.0014655754202976823, 0.003686559619382024, 0.0118261082097888, 0.0018422823632135987, 0.0005770951975136995, 0.0004589557647705078, 0.0002849763259291649, 0.012564491480588913, 0.015264824032783508, 0.006029066629707813, 0.008691691793501377, 0.010193896479904652, 0.0012817558599635959, 0.002031546551734209, 0.0009580148034729064, 0.006673829164355993, 0.007263914681971073, 0.00436742277815938, 0.003380176378414035, 0.004037670791149139, 0.0042075724340975285, 0.015304665081202984, 0.006479579955339432, 0.004047644790261984, 0.003922103438526392, 0.0060028317384421825, 0.009054239839315414, 0.003991319332271814, 0.00326436385512352, 0.004175487905740738, 0.0755726620554924, 0.1914854794740677, 0.08616246283054352, 0.09282147139310837, 0.0854988545179367, 0.03867650404572487, 0.014587024226784706, 0.0, 0.0, 0.0, 0.0, 0.0], [0.17408934235572815, 0.003985859453678131, 0.005084514152258635, 0.0026313751004636288, 0.005337162874639034, 0.007475725840777159, 0.00030144574702717364, 0.00033343720133416355, 0.00042285892413929105, 0.000384370272513479, 0.008367889560759068, 0.06115336716175079, 0.007592600304633379, 0.0033728256821632385, 0.001116894418373704, 0.0010430655675008893, 0.002204302465543151, 0.0013638719683513045, 0.008172917179763317, 0.0015253272140398622, 0.0012485574698075652, 0.0013919224729761481, 0.001876014401204884, 0.0009396318346261978, 0.00448827026411891, 0.0018581394106149673, 0.001336564077064395, 0.0021038514096289873, 0.0008502858690917492, 0.002541020978242159, 0.0012909765355288982, 0.0010162099497392774, 0.0004972859169356525, 0.019468706101179123, 0.49423620104789734, 0.08076080679893494, 0.03619086742401123, 0.01203542947769165, 0.013073368929326534, 0.013467646203935146, 0.013369153253734112, 0.0, 0.0, 0.0, 0.0], [0.2509216070175171, 0.005362066440284252, 0.002403967548161745, 0.0018225583480671048, 0.002445400459691882, 0.004501079674810171, 0.0004447917453944683, 5.309701737132855e-05, 0.00012889306526631117, 0.00010666395974112675, 0.009002629667520523, 0.020447121933102608, 0.00305435829795897, 0.0027252763975411654, 0.002111007459461689, 0.0001724130124785006, 0.0005019241361878812, 0.00031128080445341766, 0.005287017207592726, 0.0007057276088744402, 0.0008052748162299395, 0.0009531435207463801, 0.0017480140086263418, 0.0010993604082614183, 0.0027823701966553926, 0.0017308632377535105, 0.0012881981674581766, 0.0015191840939223766, 0.0009751517209224403, 0.00410718098282814, 0.0007499492494389415, 0.0008557896362617612, 0.00043149173143319786, 0.041515741497278214, 0.2846323847770691, 0.06494928151369095, 0.06953907757997513, 0.021792791783809662, 0.029152002185583115, 0.021889325231313705, 0.1142021119594574, 0.020772365853190422, 0.0, 0.0, 0.0], [0.3019188940525055, 0.0013119530631229281, 0.0008524300646968186, 0.0008620888693258166, 0.0012252198066562414, 0.004096793010830879, 0.00023561525449622422, 6.306875729933381e-05, 5.2571940614143386e-05, 6.674112228211015e-05, 0.004431047942489386, 0.01624828390777111, 0.001474022981710732, 0.0024020576383918524, 0.001032286207191646, 0.00014452982577495277, 0.00020691295503638685, 0.00017569279589224607, 0.004993577022105455, 0.0007972524617798626, 0.0005035802605561912, 0.0007449751137755811, 0.0010984145337715745, 0.000714893511030823, 0.002865689108148217, 0.0014791360590606928, 0.0008233235566876829, 0.0016631721518933773, 0.0007655145018361509, 0.0023701037280261517, 0.0006498758448287845, 0.0008550855563953519, 0.0003148578980471939, 0.029257161542773247, 0.2956998348236084, 0.04109949618577957, 0.06785396486520767, 0.019078321754932404, 0.030873456969857216, 0.02045421116054058, 0.06732536107301712, 0.025901518762111664, 0.04501700401306152, 0.0, 0.0], [0.23479966819286346, 0.0013691956410184503, 0.0006363626453094184, 0.0004178374365437776, 0.0011723039206117392, 0.003367861034348607, 0.00022434309357777238, 3.64727275155019e-05, 5.6421951740048826e-05, 4.393316703499295e-05, 0.005336666479706764, 0.01102453377097845, 0.0008222109754569829, 0.00220912485383451, 0.0012967506190761924, 9.104968921747059e-05, 0.00019544463430065662, 0.00011127086327178404, 0.0033415870275348425, 0.001167414477095008, 0.0005791396251879632, 0.0006725118146277964, 0.0012490724911913276, 0.0007479469059035182, 0.002764902776107192, 0.0010272752260789275, 0.0011715349974110723, 0.0018228418193757534, 0.0008272802224382758, 0.0018594447756186128, 0.0005190205411054194, 0.0005824685795232654, 0.00024086089979391545, 0.03611499071121216, 0.22174252569675446, 0.03141395002603531, 0.11225365102291107, 0.029256828129291534, 0.01755121350288391, 0.025346364825963974, 0.128694549202919, 0.020594345405697823, 0.05118536204099655, 0.04406138136982918, 0.0], [0.16110630333423615, 0.001173261902295053, 0.0008246807847172022, 0.00200231047347188, 0.0033600288443267345, 0.0042955754324793816, 0.0003595415037125349, 0.000148795050336048, 0.00020161141583230346, 0.00011967104364885017, 0.004866770468652248, 0.013107729144394398, 0.0009160913177765906, 0.0031445252243429422, 0.0017963321879506111, 0.0002621861349325627, 0.00042204512283205986, 0.0002567640913184732, 0.0011334458831697702, 0.0005329156992956996, 0.00036336027551442385, 0.0009012726368382573, 0.0011594220995903015, 0.0010789850493893027, 0.0016086178366094828, 0.0016425984213128686, 0.0012953502591699362, 0.0018466232577338815, 0.0004237563698552549, 0.002711925422772765, 0.0008635672274976969, 0.0020133666694164276, 0.001578770112246275, 0.02398660033941269, 0.1140051931142807, 0.015503623522818089, 0.007906249724328518, 0.004482335411012173, 0.015493690967559814, 0.023533262312412262, 0.29884159564971924, 0.03874843195080757, 0.11537101864814758, 0.08394180983304977, 0.040668025612831116]], [[1.0, 0.0, 0.0, 0.0, 0.0, 0.0, 0.0, 0.0, 0.0, 0.0, 0.0, 0.0, 0.0, 0.0, 0.0, 0.0, 0.0, 0.0, 0.0, 0.0, 0.0, 0.0, 0.0, 0.0, 0.0, 0.0, 0.0, 0.0, 0.0, 0.0, 0.0, 0.0, 0.0, 0.0, 0.0, 0.0, 0.0, 0.0, 0.0, 0.0, 0.0, 0.0, 0.0, 0.0, 0.0], [0.975434422492981, 0.024565549567341805, 0.0, 0.0, 0.0, 0.0, 0.0, 0.0, 0.0, 0.0, 0.0, 0.0, 0.0, 0.0, 0.0, 0.0, 0.0, 0.0, 0.0, 0.0, 0.0, 0.0, 0.0, 0.0, 0.0, 0.0, 0.0, 0.0, 0.0, 0.0, 0.0, 0.0, 0.0, 0.0, 0.0, 0.0, 0.0, 0.0, 0.0, 0.0, 0.0, 0.0, 0.0, 0.0, 0.0], [0.8934987783432007, 0.05945582687854767, 0.047045398503541946, 0.0, 0.0, 0.0, 0.0, 0.0, 0.0, 0.0, 0.0, 0.0, 0.0, 0.0, 0.0, 0.0, 0.0, 0.0, 0.0, 0.0, 0.0, 0.0, 0.0, 0.0, 0.0, 0.0, 0.0, 0.0, 0.0, 0.0, 0.0, 0.0, 0.0, 0.0, 0.0, 0.0, 0.0, 0.0, 0.0, 0.0, 0.0, 0.0, 0.0, 0.0, 0.0], [0.9377243518829346, 0.02469511516392231, 0.0261028241366148, 0.011477755382657051, 0.0, 0.0, 0.0, 0.0, 0.0, 0.0, 0.0, 0.0, 0.0, 0.0, 0.0, 0.0, 0.0, 0.0, 0.0, 0.0, 0.0, 0.0, 0.0, 0.0, 0.0, 0.0, 0.0, 0.0, 0.0, 0.0, 0.0, 0.0, 0.0, 0.0, 0.0, 0.0, 0.0, 0.0, 0.0, 0.0, 0.0, 0.0, 0.0, 0.0, 0.0], [0.8203497529029846, 0.021402888000011444, 0.047472573816776276, 0.06329077482223511, 0.04748391732573509, 0.0, 0.0, 0.0, 0.0, 0.0, 0.0, 0.0, 0.0, 0.0, 0.0, 0.0, 0.0, 0.0, 0.0, 0.0, 0.0, 0.0, 0.0, 0.0, 0.0, 0.0, 0.0, 0.0, 0.0, 0.0, 0.0, 0.0, 0.0, 0.0, 0.0, 0.0, 0.0, 0.0, 0.0, 0.0, 0.0, 0.0, 0.0, 0.0, 0.0], [0.5469247102737427, 0.02770110033452511, 0.08392949402332306, 0.12328724563121796, 0.12479279190301895, 0.09336460381746292, 0.0, 0.0, 0.0, 0.0, 0.0, 0.0, 0.0, 0.0, 0.0, 0.0, 0.0, 0.0, 0.0, 0.0, 0.0, 0.0, 0.0, 0.0, 0.0, 0.0, 0.0, 0.0, 0.0, 0.0, 0.0, 0.0, 0.0, 0.0, 0.0, 0.0, 0.0, 0.0, 0.0, 0.0, 0.0, 0.0, 0.0, 0.0, 0.0], [0.6053377985954285, 0.011180219240486622, 0.01737789623439312, 0.032331906259059906, 0.05302304029464722, 0.25484931468963623, 0.025899797677993774, 0.0, 0.0, 0.0, 0.0, 0.0, 0.0, 0.0, 0.0, 0.0, 0.0, 0.0, 0.0, 0.0, 0.0, 0.0, 0.0, 0.0, 0.0, 0.0, 0.0, 0.0, 0.0, 0.0, 0.0, 0.0, 0.0, 0.0, 0.0, 0.0, 0.0, 0.0, 0.0, 0.0, 0.0, 0.0, 0.0, 0.0, 0.0], [0.824230432510376, 0.020376507192850113, 0.014322150498628616, 0.02161925472319126, 0.013263598084449768, 0.07978474348783493, 0.013373119756579399, 0.013030191883444786, 0.0, 0.0, 0.0, 0.0, 0.0, 0.0, 0.0, 0.0, 0.0, 0.0, 0.0, 0.0, 0.0, 0.0, 0.0, 0.0, 0.0, 0.0, 0.0, 0.0, 0.0, 0.0, 0.0, 0.0, 0.0, 0.0, 0.0, 0.0, 0.0, 0.0, 0.0, 0.0, 0.0, 0.0, 0.0, 0.0, 0.0], [0.5681729912757874, 0.011493108235299587, 0.015429909341037273, 0.02383020892739296, 0.026243196800351143, 0.30661845207214355, 0.011892360635101795, 0.017925655469298363, 0.018394116312265396, 0.0, 0.0, 0.0, 0.0, 0.0, 0.0, 0.0, 0.0, 0.0, 0.0, 0.0, 0.0, 0.0, 0.0, 0.0, 0.0, 0.0, 0.0, 0.0, 0.0, 0.0, 0.0, 0.0, 0.0, 0.0, 0.0, 0.0, 0.0, 0.0, 0.0, 0.0, 0.0, 0.0, 0.0, 0.0, 0.0], [0.5252255201339722, 0.016676276922225952, 0.015781668946146965, 0.027441905811429024, 0.030279500409960747, 0.29764407873153687, 0.009797598235309124, 0.016003882512450218, 0.0361059196293354, 0.02504359558224678, 0.0, 0.0, 0.0, 0.0, 0.0, 0.0, 0.0, 0.0, 0.0, 0.0, 0.0, 0.0, 0.0, 0.0, 0.0, 0.0, 0.0, 0.0, 0.0, 0.0, 0.0, 0.0, 0.0, 0.0, 0.0, 0.0, 0.0, 0.0, 0.0, 0.0, 0.0, 0.0, 0.0, 0.0, 0.0], [0.3074469566345215, 0.025050168856978416, 0.061887163668870926, 0.05458416789770126, 0.09357119351625443, 0.21654854714870453, 0.012054123915731907, 0.040753282606601715, 0.05659953132271767, 0.06199539080262184, 0.06950943917036057, 0.0, 0.0, 0.0, 0.0, 0.0, 0.0, 0.0, 0.0, 0.0, 0.0, 0.0, 0.0, 0.0, 0.0, 0.0, 0.0, 0.0, 0.0, 0.0, 0.0, 0.0, 0.0, 0.0, 0.0, 0.0, 0.0, 0.0, 0.0, 0.0, 0.0, 0.0, 0.0, 0.0, 0.0], [0.5660776495933533, 0.020441889762878418, 0.014318138360977173, 0.01357557438313961, 0.08718777447938919, 0.07382374256849289, 0.007751448079943657, 0.01585930772125721, 0.03740999847650528, 0.01946919411420822, 0.11504901945590973, 0.029036255553364754, 0.0, 0.0, 0.0, 0.0, 0.0, 0.0, 0.0, 0.0, 0.0, 0.0, 0.0, 0.0, 0.0, 0.0, 0.0, 0.0, 0.0, 0.0, 0.0, 0.0, 0.0, 0.0, 0.0, 0.0, 0.0, 0.0, 0.0, 0.0, 0.0, 0.0, 0.0, 0.0, 0.0], [0.5893570184707642, 0.0012803735444322228, 0.0006457642884925008, 0.00017649972869548947, 0.0024254750460386276, 0.006445522885769606, 0.013047006912529469, 0.0017958438256755471, 0.005930669605731964, 0.0020445974078029394, 0.012802191078662872, 0.25787025690078735, 0.10617872327566147, 0.0, 0.0, 0.0, 0.0, 0.0, 0.0, 0.0, 0.0, 0.0, 0.0, 0.0, 0.0, 0.0, 0.0, 0.0, 0.0, 0.0, 0.0, 0.0, 0.0, 0.0, 0.0, 0.0, 0.0, 0.0, 0.0, 0.0, 0.0, 0.0, 0.0, 0.0, 0.0], [0.6253752112388611, 0.0011952284257858992, 0.0010583654511719942, 0.00018861403805203736, 0.0005320063210092485, 0.006031902972608805, 0.005392659921199083, 0.003224821761250496, 0.011109445244073868, 0.003403648268431425, 0.023837298154830933, 0.23550449311733246, 0.06387936323881149, 0.019266972318291664, 0.0, 0.0, 0.0, 0.0, 0.0, 0.0, 0.0, 0.0, 0.0, 0.0, 0.0, 0.0, 0.0, 0.0, 0.0, 0.0, 0.0, 0.0, 0.0, 0.0, 0.0, 0.0, 0.0, 0.0, 0.0, 0.0, 0.0, 0.0, 0.0, 0.0, 0.0], [0.223112091422081, 0.0005697239539586008, 0.0004296859842725098, 0.00046153058065101504, 0.0017397281480953097, 0.004970076493918896, 0.002881485503166914, 0.002761112991720438, 0.005601378623396158, 0.0022881655022501945, 0.008591966703534126, 0.037616997957229614, 0.14811140298843384, 0.4679359495639801, 0.09292871505022049, 0.0, 0.0, 0.0, 0.0, 0.0, 0.0, 0.0, 0.0, 0.0, 0.0, 0.0, 0.0, 0.0, 0.0, 0.0, 0.0, 0.0, 0.0, 0.0, 0.0, 0.0, 0.0, 0.0, 0.0, 0.0, 0.0, 0.0, 0.0, 0.0, 0.0], [0.29312556982040405, 0.0030327572021633387, 0.0010741747682914138, 0.0007514068274758756, 0.001490444061346352, 0.010744345374405384, 0.0007372581167146564, 0.0006243297830224037, 0.001214631018228829, 0.0005888406885787845, 0.030804241076111794, 0.0858602225780487, 0.34377366304397583, 0.17826811969280243, 0.04020651429891586, 0.007703467272222042, 0.0, 0.0, 0.0, 0.0, 0.0, 0.0, 0.0, 0.0, 0.0, 0.0, 0.0, 0.0, 0.0, 0.0, 0.0, 0.0, 0.0, 0.0, 0.0, 0.0, 0.0, 0.0, 0.0, 0.0, 0.0, 0.0, 0.0, 0.0, 0.0], [0.353391170501709, 0.0010280273854732513, 0.0007614874630235136, 0.0004026601673103869, 0.0011946463491767645, 0.011036901734769344, 0.000987147563137114, 0.00095704774139449, 0.0010967098642140627, 0.0006520090973936021, 0.01564135029911995, 0.060566894710063934, 0.1858818382024765, 0.2848231792449951, 0.04361538961529732, 0.010383596643805504, 0.027579979971051216, 0.0, 0.0, 0.0, 0.0, 0.0, 0.0, 0.0, 0.0, 0.0, 0.0, 0.0, 0.0, 0.0, 0.0, 0.0, 0.0, 0.0, 0.0, 0.0, 0.0, 0.0, 0.0, 0.0, 0.0, 0.0, 0.0, 0.0, 0.0], [0.2641541361808777, 0.0009478227002546191, 0.0003170116397086531, 0.00014858014765195549, 0.00047340456512756646, 0.003837868105620146, 0.0006572205456905067, 0.000569762836676091, 0.001114441896788776, 0.00045529025373980403, 0.011817067861557007, 0.06055353209376335, 0.211473286151886, 0.34902074933052063, 0.0366433709859848, 0.006789331324398518, 0.0339861623942852, 0.017040975391864777, 0.0, 0.0, 0.0, 0.0, 0.0, 0.0, 0.0, 0.0, 0.0, 0.0, 0.0, 0.0, 0.0, 0.0, 0.0, 0.0, 0.0, 0.0, 0.0, 0.0, 0.0, 0.0, 0.0, 0.0, 0.0, 0.0, 0.0], [0.5762196779251099, 0.0005383252282626927, 0.0006181529606692493, 0.0009551086695864797, 0.004838346969336271, 0.00827227532863617, 0.0006036431877873838, 0.00156401505228132, 0.0028662169352173805, 0.0011208152864128351, 0.013511233031749725, 0.060779742896556854, 0.06419071555137634, 0.12566326558589935, 0.011303352192044258, 0.005941492039710283, 0.017640620470046997, 0.008368556387722492, 0.09500449895858765, 0.0, 0.0, 0.0, 0.0, 0.0, 0.0, 0.0, 0.0, 0.0, 0.0, 0.0, 0.0, 0.0, 0.0, 0.0, 0.0, 0.0, 0.0, 0.0, 0.0, 0.0, 0.0, 0.0, 0.0, 0.0, 0.0], [0.7818365097045898, 0.0004171832697466016, 0.000357005133992061, 0.00021471090440172702, 0.0013982708333060145, 0.004006433766335249, 0.00023294248967431486, 0.0005871633184142411, 0.0014717946760356426, 0.0006292731850408018, 0.0144385090097785, 0.027518458664417267, 0.022156136110424995, 0.02993694692850113, 0.0060944329015910625, 0.0032245914917439222, 0.0081392927095294, 0.004168593790382147, 0.08125166594982147, 0.011920064687728882, 0.0, 0.0, 0.0, 0.0, 0.0, 0.0, 0.0, 0.0, 0.0, 0.0, 0.0, 0.0, 0.0, 0.0, 0.0, 0.0, 0.0, 0.0, 0.0, 0.0, 0.0, 0.0, 0.0, 0.0, 0.0], [0.752313494682312, 0.0004931289586238563, 0.0003685707051772624, 0.00018336033099330962, 0.002267833799123764, 0.005129618104547262, 0.0012152353301644325, 0.0007558272336609662, 0.0023365127854049206, 0.000738168484531343, 0.015242442488670349, 0.013317510485649109, 0.0361417792737484, 0.019110368564724922, 0.018480226397514343, 0.0049200886860489845, 0.01102080661803484, 0.0060913884080946445, 0.028757348656654358, 0.03291849046945572, 0.04819772392511368, 0.0, 0.0, 0.0, 0.0, 0.0, 0.0, 0.0, 0.0, 0.0, 0.0, 0.0, 0.0, 0.0, 0.0, 0.0, 0.0, 0.0, 0.0, 0.0, 0.0, 0.0, 0.0, 0.0, 0.0], [0.7264520525932312, 0.00012920948211103678, 0.00011292970884824172, 5.45445982425008e-05, 0.0004936931654810905, 0.0013897204771637917, 0.0027848004829138517, 0.0007754124817438424, 0.005779669154435396, 0.001886723912321031, 0.010722885839641094, 0.0027140534948557615, 0.002612942596897483, 0.005539850331842899, 0.015400189906358719, 0.006774442736059427, 0.02117156609892845, 0.013078668154776096, 0.03738933801651001, 0.04160380735993385, 0.0603250227868557, 0.042808376252651215, 0.0, 0.0, 0.0, 0.0, 0.0, 0.0, 0.0, 0.0, 0.0, 0.0, 0.0, 0.0, 0.0, 0.0, 0.0, 0.0, 0.0, 0.0, 0.0, 0.0, 0.0, 0.0, 0.0], [0.473222017288208, 1.8673314116313122e-05, 2.0425726688699797e-05, 1.493144463893259e-05, 0.000221514274016954, 0.001055095694027841, 0.0012889368226751685, 0.0005478140665218234, 0.0019758015405386686, 0.0006213869201019406, 0.004395634867250919, 0.001178316306322813, 0.0004115949268452823, 0.0019873727578669786, 0.006514222826808691, 0.0019711246713995934, 0.0038536572828888893, 0.002348504029214382, 0.014447011984884739, 0.019300552085042, 0.15183435380458832, 0.24664057791233063, 0.06613043695688248, 0.0, 0.0, 0.0, 0.0, 0.0, 0.0, 0.0, 0.0, 0.0, 0.0, 0.0, 0.0, 0.0, 0.0, 0.0, 0.0, 0.0, 0.0, 0.0, 0.0, 0.0, 0.0], [0.505199134349823, 0.0003357769746799022, 8.751788118388504e-05, 0.00019251758931204677, 0.0002851954777725041, 0.0013832736294716597, 0.0004232815408613533, 0.00023835325555410236, 0.00021189167455304414, 9.017044794745743e-05, 0.0012233639135956764, 0.002903007436543703, 0.00531515059992671, 0.005680889822542667, 0.00524238683283329, 0.0013864545617252588, 0.001549755921587348, 0.0012105893110856414, 0.012148861773312092, 0.024042759090662003, 0.03800458461046219, 0.16790452599525452, 0.19506694376468658, 0.029873596504330635, 0.0, 0.0, 0.0, 0.0, 0.0, 0.0, 0.0, 0.0, 0.0, 0.0, 0.0, 0.0, 0.0, 0.0, 0.0, 0.0, 0.0, 0.0, 0.0, 0.0, 0.0], [0.44536733627319336, 0.00021346866560634226, 0.00013182111433707178, 8.022109977900982e-05, 0.0003619138151407242, 0.0013393232366070151, 0.00016239553224295378, 0.00040736314258538187, 0.0002943591680377722, 0.00010037789616035298, 0.002392796566709876, 0.005863619036972523, 0.01356036402285099, 0.008990766480565071, 0.003471864853054285, 0.002994193695485592, 0.003954366315156221, 0.0016850678948685527, 0.033037979155778885, 0.027159888297319412, 0.037928443402051926, 0.05577186122536659, 0.04937156289815903, 0.22954009473323822, 0.07581852376461029, 0.0, 0.0, 0.0, 0.0, 0.0, 0.0, 0.0, 0.0, 0.0, 0.0, 0.0, 0.0, 0.0, 0.0, 0.0, 0.0, 0.0, 0.0, 0.0, 0.0], [0.5548272132873535, 3.845617175102234e-05, 2.266118099214509e-05, 3.0305291147669777e-06, 5.167312701814808e-05, 9.211352880811319e-05, 0.0001822638005251065, 0.00010129977454198524, 0.00014755372831132263, 6.217616464709863e-05, 0.0005412530153989792, 0.0013068459229543805, 0.0009161399211734533, 0.0012723305262625217, 0.0019518036860972643, 0.0005969526246190071, 0.0013994995970278978, 0.0007907047984190285, 0.009429283440113068, 0.005870059598237276, 0.012742598541080952, 0.021050551906228065, 0.03014596924185753, 0.0643046498298645, 0.2657589912414551, 0.026394011452794075, 0.0, 0.0, 0.0, 0.0, 0.0, 0.0, 0.0, 0.0, 0.0, 0.0, 0.0, 0.0, 0.0, 0.0, 0.0, 0.0, 0.0, 0.0, 0.0], [0.4284251034259796, 1.7830125216278248e-05, 3.512056719046086e-05, 1.2455306205083616e-05, 2.4867471438483335e-05, 0.00024106471391860396, 0.0002472969936206937, 0.0001059387723216787, 5.948013495071791e-05, 5.4903997806832194e-05, 0.0013441075570881367, 0.0008419463993050158, 0.0007846430526115, 0.0010006965603679419, 0.001532438793219626, 0.00042789772851392627, 0.00034536412567831576, 0.0005110845668241382, 0.007415062747895718, 0.004450599197298288, 0.01779220439493656, 0.019577177241444588, 0.0221551563590765, 0.06634646654129028, 0.2827630639076233, 0.12446952611207962, 0.01901860162615776, 0.0, 0.0, 0.0, 0.0, 0.0, 0.0, 0.0, 0.0, 0.0, 0.0, 0.0, 0.0, 0.0, 0.0, 0.0, 0.0, 0.0, 0.0], [0.3424181044101715, 9.577604942023754e-05, 9.706124546937644e-05, 7.050636486383155e-05, 0.00018397008534520864, 0.00029567419551312923, 0.00037597157643176615, 0.00016312328807543963, 0.00015776736836414784, 0.0001954006584128365, 0.003104948438704014, 0.0010346537455916405, 0.0012924486072733998, 0.0038295371923595667, 0.002308817347511649, 0.0011085181031376123, 0.000991340377368033, 0.0015245148679241538, 0.011609593406319618, 0.008296307176351547, 0.011865482665598392, 0.049443602561950684, 0.08216528594493866, 0.1320861577987671, 0.11283326148986816, 0.15916837751865387, 0.0322672575712204, 0.04101651534438133, 0.0, 0.0, 0.0, 0.0, 0.0, 0.0, 0.0, 0.0, 0.0, 0.0, 0.0, 0.0, 0.0, 0.0, 0.0, 0.0, 0.0], [0.2622351050376892, 1.226513722940581e-05, 3.148910036543384e-05, 1.5803167116246186e-05, 7.281813304871321e-05, 7.281980651896447e-05, 9.684712858870625e-05, 4.719546632259153e-05, 0.000123948062537238, 3.168846888002008e-05, 0.0006252751336432993, 0.0005322586512193084, 0.00017046176071744412, 0.00021012494107708335, 0.001637529581785202, 0.000553925521671772, 0.0009323522099293768, 0.0004915306926704943, 0.0016790761146694422, 0.0013436347944661975, 0.0141242491081357, 0.014795102179050446, 0.027774419635534286, 0.019108468666672707, 0.1730685532093048, 0.0657234713435173, 0.08789127320051193, 0.26098835468292236, 0.06560990959405899, 0.0, 0.0, 0.0, 0.0, 0.0, 0.0, 0.0, 0.0, 0.0, 0.0, 0.0, 0.0, 0.0, 0.0, 0.0, 0.0], [0.3838539719581604, 1.6245478036580607e-05, 2.0841016521444544e-05, 1.9798830180661753e-05, 6.733326154062524e-05, 0.00036847693263553083, 5.204947592574172e-05, 8.2501741417218e-05, 0.0001292230299441144, 6.271267920965329e-05, 0.0011053896741941571, 0.00041340847383253276, 0.0002026260772254318, 0.0009733998449519277, 0.00041105999844148755, 0.00044432198046706617, 0.0004937126068398356, 0.0003883842146024108, 0.0032345803920179605, 0.012331833131611347, 0.02096976526081562, 0.009222554042935371, 0.007204058114439249, 0.017326967790722847, 0.026168636977672577, 0.021057365462183952, 0.03901446610689163, 0.050765011459589005, 0.3814961612224579, 0.022103076800704002, 0.0, 0.0, 0.0, 0.0, 0.0, 0.0, 0.0, 0.0, 0.0, 0.0, 0.0, 0.0, 0.0, 0.0, 0.0], [0.7414988279342651, 5.573354064836167e-05, 3.311289401608519e-05, 7.647752499906346e-05, 7.656845991732553e-05, 0.0003164500230923295, 1.6611285900580697e-05, 3.295496208011173e-05, 5.6480443163309246e-05, 2.84658235614188e-05, 0.0008306701784022152, 0.0003811693750321865, 0.0005476269870996475, 0.001107094343751669, 0.00010563182877376676, 9.604101069271564e-05, 0.0002006653230637312, 0.00013644207501783967, 0.0036384831182658672, 0.0033007869496941566, 0.005910438485443592, 0.008784420788288116, 0.007593685295432806, 0.0069683208130300045, 0.036005545407533646, 0.050935957580804825, 0.03491171821951866, 0.01689690724015236, 0.06366286426782608, 0.0076903305016458035, 0.008103612810373306, 0.0, 0.0, 0.0, 0.0, 0.0, 0.0, 0.0, 0.0, 0.0, 0.0, 0.0, 0.0, 0.0, 0.0], [0.5604236721992493, 3.072051185881719e-05, 2.246180702059064e-05, 3.697178908623755e-05, 8.774265734246e-05, 0.0003389069461263716, 4.0824521420290694e-05, 5.3726012993138283e-05, 8.495441579725593e-05, 3.062290488742292e-05, 0.0007366380305029452, 0.0003219649661332369, 0.0003227899724151939, 0.0009788167662918568, 0.00048395164776593447, 0.00040787571924738586, 0.00046879591536708176, 0.00030427423189394176, 0.0023750760592520237, 0.004310282412916422, 0.01589278131723404, 0.02845720574259758, 0.010918904095888138, 0.009280012920498848, 0.02897629514336586, 0.05680381879210472, 0.042905304580926895, 0.03369288519024849, 0.11922155320644379, 0.034941479563713074, 0.03377385064959526, 0.013274923898279667, 0.0, 0.0, 0.0, 0.0, 0.0, 0.0, 0.0, 0.0, 0.0, 0.0, 0.0, 0.0, 0.0], [0.4659077227115631, 1.3214155842433684e-05, 2.1108289729454555e-05, 7.2337752499151975e-06, 1.9721375792869367e-05, 0.00016536332259420305, 5.908902039664099e-06, 1.0311186997569166e-05, 2.9412211006274447e-05, 2.2086074750404805e-05, 0.0007224358269013464, 0.0008269567042589188, 0.0004283353337086737, 0.000872514967340976, 8.753531437832862e-05, 6.873314850963652e-05, 0.00015145835641305894, 0.00017190598009619862, 0.0046515073627233505, 0.005950965918600559, 0.007639497518539429, 0.00776452524587512, 0.006762693170458078, 0.035389773547649384, 0.040240317583084106, 0.02018737606704235, 0.03828082233667374, 0.06649486720561981, 0.24012638628482819, 0.004889294505119324, 0.009821377694606781, 0.019613685086369514, 0.022655034437775612, 0.0, 0.0, 0.0, 0.0, 0.0, 0.0, 0.0, 0.0, 0.0, 0.0, 0.0, 0.0], [0.3449592888355255, 0.0007093017338775098, 0.0016406712820753455, 0.0007340772426687181, 0.000857562234159559, 0.0024383808486163616, 0.0002243130438728258, 0.00044763353071175516, 0.0005414984771050513, 0.00024814644712023437, 0.0011679640738293529, 0.004788805730640888, 0.002888972405344248, 0.0031068073585629463, 0.003367941826581955, 0.0032135851215571165, 0.00396339176222682, 0.0024368534795939922, 0.011144179850816727, 0.022592954337596893, 0.025377823039889336, 0.010867609642446041, 0.02418466843664646, 0.048165302723646164, 0.07448066771030426, 0.03657372668385506, 0.026510486379265785, 0.05426480621099472, 0.17956486344337463, 0.019014284014701843, 0.018488338217139244, 0.012532140128314495, 0.01840585097670555, 0.040097083896398544, 0.0, 0.0, 0.0, 0.0, 0.0, 0.0, 0.0, 0.0, 0.0, 0.0, 0.0], [0.7792757153511047, 0.002239695517346263, 0.0007862062775529921, 0.00046838793787173927, 0.002655812306329608, 0.0019586365669965744, 0.00019495039305184036, 0.00023506471188738942, 0.00026420768699608743, 9.505946218268946e-05, 0.0020964371506124735, 0.0010735959513112903, 0.0010718004778027534, 0.001522777951322496, 0.002373086055740714, 0.0010486524552106857, 0.0016884783981367946, 0.0005617064889520407, 0.005850063171237707, 0.0020885744597762823, 0.002323571592569351, 0.0033088908530771732, 0.0031203730031847954, 0.002549370750784874, 0.010678082704544067, 0.007531302515417337, 0.00880634505301714, 0.01388042513281107, 0.007561294361948967, 0.002838399261236191, 0.0049212039448320866, 0.0033505025785416365, 0.005362729541957378, 0.05205254629254341, 0.06416599452495575, 0.0, 0.0, 0.0, 0.0, 0.0, 0.0, 0.0, 0.0, 0.0, 0.0], [0.6896280646324158, 8.68496936163865e-05, 4.875298327533528e-05, 2.3874103135312907e-05, 0.00013091994333080947, 0.0005301598575897515, 0.00015671919391024858, 6.939518789295107e-05, 0.0001435929734725505, 3.48980538547039e-05, 0.00043993897270411253, 0.001986931776627898, 0.0007831227849237621, 0.0016299911076202989, 0.0027364331763237715, 0.0003822006401605904, 0.0013137684436514974, 0.0002636041317600757, 0.005639452021569014, 0.002182859694585204, 0.0018741177627816796, 0.0009880749275907874, 0.0011869134614244103, 0.0007392918923869729, 0.009126490913331509, 0.001845419523306191, 0.007415232248604298, 0.018859388306736946, 0.0034111514687538147, 0.0022477481979876757, 0.003639987902715802, 0.004843680653721094, 0.00441746786236763, 0.032339975237846375, 0.1748259961605072, 0.024027520790696144, 0.0, 0.0, 0.0, 0.0, 0.0, 0.0, 0.0, 0.0, 0.0], [0.7703350186347961, 0.00015669784625060856, 2.5940540581359528e-05, 4.246390744810924e-05, 0.00010931472206721082, 0.0006620739004574716, 7.114676554920152e-05, 6.238933565327898e-05, 5.4307503887685016e-05, 1.2967507245775778e-05, 0.0003519683377817273, 0.0006589291151612997, 0.0010980984661728144, 0.0012669175630435348, 0.0007547022541984916, 0.00016956090985331684, 0.0002441327815176919, 7.634040230186656e-05, 0.00040680612437427044, 0.0003936636494472623, 0.00034235932980664074, 0.0017109578475356102, 0.0013430967228487134, 0.0012560959439724684, 0.0013392952969297767, 0.001316171488724649, 0.0026042358949780464, 0.005254225339740515, 0.0009220344945788383, 0.001442190376110375, 0.0016896768938750029, 0.0032706886995583773, 0.003130195429548621, 0.05707060173153877, 0.07317410409450531, 0.029491592198610306, 0.03768901899456978, 0.0, 0.0, 0.0, 0.0, 0.0, 0.0, 0.0, 0.0], [0.6706517934799194, 2.389403925917577e-05, 1.2283841897442471e-05, 5.01527392771095e-06, 9.130500075116288e-06, 4.388813613331877e-05, 1.6082629372249357e-05, 1.9576225895434618e-05, 1.3357352145249024e-05, 3.949871825170703e-06, 0.00010286566975992173, 0.0002501035633031279, 6.831451901234686e-05, 0.00010068740812130272, 0.00021036672114860266, 5.7637738791527227e-05, 5.7168967032339424e-05, 2.0347513782326132e-05, 0.00019393963157199323, 0.0001036936228047125, 0.0006633145967498422, 0.00027583391056396067, 0.00035157002275809646, 0.0004127866413909942, 0.004247705917805433, 0.0004544393450487405, 0.0012309583835303783, 0.002418029587715864, 0.000327452173223719, 0.0030440883710980415, 0.003120877780020237, 0.0022468389943242073, 0.0034689833410084248, 0.024331193417310715, 0.05079779401421547, 0.01712464727461338, 0.1647922694683075, 0.04872715473175049, 0.0, 0.0, 0.0, 0.0, 0.0, 0.0, 0.0], [0.5301779508590698, 1.2658353625738528e-05, 9.268833309761249e-06, 3.993157406512182e-06, 1.440922096662689e-05, 5.633351975120604e-05, 2.573473466327414e-05, 6.230600411072373e-05, 4.557831198326312e-05, 9.716396561998408e-06, 0.00010497061884962022, 7.033596193650737e-05, 3.132058554911055e-05, 0.00019102072110399604, 0.00022078119218349457, 0.00016474635049235076, 0.00014716562873218209, 4.9231497541768476e-05, 0.0003959195164497942, 0.0012894963147118688, 0.0018720034277066588, 0.0010693409712985158, 0.0005485248402692378, 0.0005970901693217456, 0.002061466220766306, 0.0006803169962950051, 0.004584969952702522, 0.008433477021753788, 0.005446245428174734, 0.006202520336955786, 0.004569185897707939, 0.003175882389768958, 0.006976315286010504, 0.0416584350168705, 0.019488787278532982, 0.01296889316290617, 0.08422472327947617, 0.24422775208950043, 0.018131157383322716, 0.0, 0.0, 0.0, 0.0, 0.0, 0.0], [0.37195825576782227, 5.4311320127453655e-05, 4.128864384256303e-05, 2.7285912437946536e-05, 4.850504774367437e-05, 0.0003153697762172669, 0.00010145742271561176, 5.579607386607677e-05, 3.646741606644355e-05, 1.6627229342702776e-05, 0.0003476834681350738, 0.00032740490860305727, 7.257939432747662e-05, 0.0003040300798602402, 0.00042237836169078946, 0.0001228551845997572, 0.00010313655366189778, 7.413246930809692e-05, 0.001182549400255084, 0.0033179728779941797, 0.0050435420125722885, 0.004581919405609369, 0.0033934006933122873, 0.0030660887714475393, 0.004763908218592405, 0.00405904371291399, 0.001900352886877954, 0.00619295472279191, 0.012216828763484955, 0.00608961982652545, 0.00257774512283504, 0.0016132808523252606, 0.0015471788356080651, 0.03130607679486275, 0.037980783730745316, 0.03005623258650303, 0.10529007017612457, 0.2528843879699707, 0.07374712824821472, 0.03275928273797035, 0.0, 0.0, 0.0, 0.0, 0.0], [0.14580252766609192, 0.00014602176088374108, 0.00011605714826146141, 0.0002669044479262084, 0.00039406100404448807, 0.0003196158795617521, 7.097094203345478e-05, 4.897725739283487e-05, 0.0001698474370641634, 3.8165104342624545e-05, 0.00010302489681635052, 0.00013081685756333172, 0.0005588100175373256, 0.002361280145123601, 0.0011067793238908052, 0.000444115255959332, 0.0013473101425915956, 0.0005585728795267642, 0.006489865481853485, 0.002943003550171852, 0.0017641711747273803, 0.00733464490622282, 0.005810139700770378, 0.0005708777462132275, 0.004636481869965792, 0.011460273526608944, 0.012197724543511868, 0.01929895579814911, 0.0029275876004248857, 0.006160142365843058, 0.0022896998561918736, 0.0013541728258132935, 0.0030148830264806747, 0.008086709305644035, 0.012329943478107452, 0.11235503852367401, 0.08849214017391205, 0.04955219477415085, 0.16166411340236664, 0.2128371149301529, 0.11244627088308334, 0.0, 0.0, 0.0, 0.0], [0.3842866122722626, 0.0001794455893104896, 3.1537954782834277e-05, 2.1596195438178256e-05, 4.816596265300177e-05, 0.00015167624223977327, 1.52980846905848e-05, 5.95267601966043e-06, 9.992804734793026e-06, 2.673839617273188e-06, 0.00020049580780323595, 0.00013747101183980703, 0.0005802031373605132, 0.0005933974753133953, 0.0003816551179625094, 3.491585812298581e-05, 0.00014803251542616636, 5.219458034844138e-05, 0.0021597021259367466, 0.00047243654262274504, 0.0007718786364421248, 0.005043544340878725, 0.0014545728918164968, 0.00033064340823329985, 0.006707029417157173, 0.003456596052274108, 0.003876282135024667, 0.007548761088401079, 0.002651297952979803, 0.0016835391288623214, 0.0005086340825073421, 0.0004066870897077024, 0.0003856835828628391, 0.024087194353342056, 0.028126176446676254, 0.08208465576171875, 0.08067864179611206, 0.043485309928655624, 0.11160513758659363, 0.0905119925737381, 0.09065701067447662, 0.024425238370895386, 0.0, 0.0, 0.0], [0.35857534408569336, 3.107552038272843e-05, 1.2299289664952084e-05, 7.789215487719048e-06, 2.7684121960191987e-05, 7.027825631666929e-05, 1.1778987754951231e-05, 7.214097422547638e-06, 7.5697453212342225e-06, 2.1615621790260775e-06, 4.016780076199211e-05, 1.961026828212198e-05, 7.724727038294077e-05, 0.0003482280590105802, 0.00026735011488199234, 4.1505711124045774e-05, 9.371876512886956e-05, 4.154139242018573e-05, 0.0015563189517706633, 0.00034849983057938516, 0.00050844915676862, 0.004397699609398842, 0.0010783124016597867, 0.00019341004372108728, 0.0021853335201740265, 0.001690670382231474, 0.00285948789678514, 0.007343511562794447, 0.0010641379049047828, 0.0019245741423219442, 0.000940551224630326, 0.0007221263367682695, 0.000518276181537658, 0.011160130612552166, 0.007420755457133055, 0.04441589117050171, 0.0536554679274559, 0.028863148763775826, 0.04503048211336136, 0.07264643907546997, 0.1394515037536621, 0.050996311008930206, 0.15934590995311737, 0.0, 0.0], [0.341122567653656, 3.373641811776906e-05, 8.606556548329536e-06, 2.674343249964295e-06, 1.2942143257532734e-05, 3.202355946996249e-05, 3.2440943869005423e-06, 2.6811590032593813e-06, 4.650044957088539e-06, 1.0158321401831927e-06, 4.190755862509832e-05, 2.8218788429512642e-05, 8.701080514583737e-05, 0.00046291761100292206, 0.0001076638072845526, 1.2702997082669754e-05, 5.8852954680332914e-05, 1.653140498092398e-05, 0.0016450999537482858, 0.00025253399508073926, 0.00034825687180273235, 0.004190194886177778, 0.0015423246659338474, 0.00023501589021179825, 0.002188875572755933, 0.0009403384174220264, 0.0027185978833585978, 0.007776425685733557, 0.0012674027821049094, 0.0009682357776910067, 0.0003518161829560995, 0.0005484296707436442, 0.0003440184227656573, 0.012783742509782314, 0.01014658622443676, 0.032443199306726456, 0.14813660085201263, 0.058690570294857025, 0.057606492191553116, 0.09129247069358826, 0.053779467940330505, 0.014842402189970016, 0.08966654539108276, 0.06325443834066391, 0.0], [0.6908711791038513, 2.2892561901244335e-05, 1.7258489606319927e-05, 9.459731700189877e-06, 7.373702828772366e-05, 3.860867946059443e-05, 1.3113149179844186e-05, 1.715776124910917e-05, 2.3628263079444878e-05, 9.765778486325871e-06, 8.422783866990358e-05, 6.314849451882765e-05, 6.160982593428344e-05, 0.00022152236488182098, 0.0001450111740268767, 5.1596958655864e-05, 0.00013380743621382862, 3.796902092290111e-05, 0.0004672503855545074, 0.00017265675705857575, 0.00022428476950153708, 0.0011736556189134717, 0.0007619124953635037, 0.00027531356317922473, 0.0011096687521785498, 0.00046224758261814713, 0.002066131215542555, 0.008597652427852154, 0.00030098349088802934, 0.00039225746877491474, 0.0005189582007005811, 0.0005380855873227119, 0.0008862998802214861, 0.0070425113663077354, 0.004781840369105339, 0.0024516552221029997, 0.043494585901498795, 0.005379288457334042, 0.006650825962424278, 0.014494460076093674, 0.024757273495197296, 0.01360656414180994, 0.03302488848567009, 0.022096378728747368, 0.1123766377568245]], [[1.0, 0.0, 0.0, 0.0, 0.0, 0.0, 0.0, 0.0, 0.0, 0.0, 0.0, 0.0, 0.0, 0.0, 0.0, 0.0, 0.0, 0.0, 0.0, 0.0, 0.0, 0.0, 0.0, 0.0, 0.0, 0.0, 0.0, 0.0, 0.0, 0.0, 0.0, 0.0, 0.0, 0.0, 0.0, 0.0, 0.0, 0.0, 0.0, 0.0, 0.0, 0.0, 0.0, 0.0, 0.0], [0.9868469834327698, 0.01315300352871418, 0.0, 0.0, 0.0, 0.0, 0.0, 0.0, 0.0, 0.0, 0.0, 0.0, 0.0, 0.0, 0.0, 0.0, 0.0, 0.0, 0.0, 0.0, 0.0, 0.0, 0.0, 0.0, 0.0, 0.0, 0.0, 0.0, 0.0, 0.0, 0.0, 0.0, 0.0, 0.0, 0.0, 0.0, 0.0, 0.0, 0.0, 0.0, 0.0, 0.0, 0.0, 0.0, 0.0], [0.9829742908477783, 0.00872860662639141, 0.008297151885926723, 0.0, 0.0, 0.0, 0.0, 0.0, 0.0, 0.0, 0.0, 0.0, 0.0, 0.0, 0.0, 0.0, 0.0, 0.0, 0.0, 0.0, 0.0, 0.0, 0.0, 0.0, 0.0, 0.0, 0.0, 0.0, 0.0, 0.0, 0.0, 0.0, 0.0, 0.0, 0.0, 0.0, 0.0, 0.0, 0.0, 0.0, 0.0, 0.0, 0.0, 0.0, 0.0], [0.9893584251403809, 0.003139772918075323, 0.0015524935442954302, 0.005949296057224274, 0.0, 0.0, 0.0, 0.0, 0.0, 0.0, 0.0, 0.0, 0.0, 0.0, 0.0, 0.0, 0.0, 0.0, 0.0, 0.0, 0.0, 0.0, 0.0, 0.0, 0.0, 0.0, 0.0, 0.0, 0.0, 0.0, 0.0, 0.0, 0.0, 0.0, 0.0, 0.0, 0.0, 0.0, 0.0, 0.0, 0.0, 0.0, 0.0, 0.0, 0.0], [0.9877360463142395, 0.004855620674788952, 0.00035283254692330956, 0.004595291800796986, 0.0024602185003459454, 0.0, 0.0, 0.0, 0.0, 0.0, 0.0, 0.0, 0.0, 0.0, 0.0, 0.0, 0.0, 0.0, 0.0, 0.0, 0.0, 0.0, 0.0, 0.0, 0.0, 0.0, 0.0, 0.0, 0.0, 0.0, 0.0, 0.0, 0.0, 0.0, 0.0, 0.0, 0.0, 0.0, 0.0, 0.0, 0.0, 0.0, 0.0, 0.0, 0.0], [0.9934502840042114, 0.0018139280145987868, 3.838319389615208e-05, 0.0002512869250494987, 0.0017562987050041556, 0.0026898044161498547, 0.0, 0.0, 0.0, 0.0, 0.0, 0.0, 0.0, 0.0, 0.0, 0.0, 0.0, 0.0, 0.0, 0.0, 0.0, 0.0, 0.0, 0.0, 0.0, 0.0, 0.0, 0.0, 0.0, 0.0, 0.0, 0.0, 0.0, 0.0, 0.0, 0.0, 0.0, 0.0, 0.0, 0.0, 0.0, 0.0, 0.0, 0.0, 0.0], [0.9922009706497192, 0.0019196118228137493, 0.0018669903511181474, 0.00044333847472444177, 9.240182407665998e-05, 0.0009332958143204451, 0.0025433730334043503, 0.0, 0.0, 0.0, 0.0, 0.0, 0.0, 0.0, 0.0, 0.0, 0.0, 0.0, 0.0, 0.0, 0.0, 0.0, 0.0, 0.0, 0.0, 0.0, 0.0, 0.0, 0.0, 0.0, 0.0, 0.0, 0.0, 0.0, 0.0, 0.0, 0.0, 0.0, 0.0, 0.0, 0.0, 0.0, 0.0, 0.0, 0.0], [0.9917755126953125, 0.00444807531312108, 7.885352033554227e-07, 1.0964361081278184e-06, 1.5739188938823645e-06, 5.013764894101769e-05, 0.0030077900737524033, 0.0007150442688725889, 0.0, 0.0, 0.0, 0.0, 0.0, 0.0, 0.0, 0.0, 0.0, 0.0, 0.0, 0.0, 0.0, 0.0, 0.0, 0.0, 0.0, 0.0, 0.0, 0.0, 0.0, 0.0, 0.0, 0.0, 0.0, 0.0, 0.0, 0.0, 0.0, 0.0, 0.0, 0.0, 0.0, 0.0, 0.0, 0.0, 0.0], [0.9857520461082458, 0.0023381218779832125, 3.121729150734609e-06, 3.2850202842382714e-05, 5.3612191550200805e-05, 3.8776346627855673e-05, 0.0019523267401382327, 1.0435974928668657e-07, 0.009828913025557995, 0.0, 0.0, 0.0, 0.0, 0.0, 0.0, 0.0, 0.0, 0.0, 0.0, 0.0, 0.0, 0.0, 0.0, 0.0, 0.0, 0.0, 0.0, 0.0, 0.0, 0.0, 0.0, 0.0, 0.0, 0.0, 0.0, 0.0, 0.0, 0.0, 0.0, 0.0, 0.0, 0.0, 0.0, 0.0, 0.0], [0.9795262813568115, 0.0006241064984351397, 4.052964470702136e-07, 1.2159717698523309e-05, 7.599845412187278e-05, 2.291848659297102e-06, 0.0016141979722306132, 1.147686667923864e-10, 0.00011157771950820461, 0.018032977357506752, 0.0, 0.0, 0.0, 0.0, 0.0, 0.0, 0.0, 0.0, 0.0, 0.0, 0.0, 0.0, 0.0, 0.0, 0.0, 0.0, 0.0, 0.0, 0.0, 0.0, 0.0, 0.0, 0.0, 0.0, 0.0, 0.0, 0.0, 0.0, 0.0, 0.0, 0.0, 0.0, 0.0, 0.0, 0.0], [0.9746615886688232, 0.005125541239976883, 0.0008722846978344023, 0.0005272800335660577, 0.0013347737258300185, 0.00026207364862784743, 0.007727373391389847, 7.684641786909197e-06, 0.00019602106476668268, 0.000628419395070523, 0.008657058700919151, 0.0, 0.0, 0.0, 0.0, 0.0, 0.0, 0.0, 0.0, 0.0, 0.0, 0.0, 0.0, 0.0, 0.0, 0.0, 0.0, 0.0, 0.0, 0.0, 0.0, 0.0, 0.0, 0.0, 0.0, 0.0, 0.0, 0.0, 0.0, 0.0, 0.0, 0.0, 0.0, 0.0, 0.0], [0.9447857141494751, 0.006965333130210638, 0.0012018631678074598, 0.0008972638752311468, 0.0020529008470475674, 0.002013963181525469, 0.0267204400151968, 0.00020841586228925735, 0.0010294378735125065, 0.0001220467165694572, 0.0005697254091501236, 0.013432980515062809, 0.0, 0.0, 0.0, 0.0, 0.0, 0.0, 0.0, 0.0, 0.0, 0.0, 0.0, 0.0, 0.0, 0.0, 0.0, 0.0, 0.0, 0.0, 0.0, 0.0, 0.0, 0.0, 0.0, 0.0, 0.0, 0.0, 0.0, 0.0, 0.0, 0.0, 0.0, 0.0, 0.0], [0.8952813148498535, 0.0027470793575048447, 0.0010878980392590165, 0.0008756366441957653, 0.008267795667052269, 0.006351501680910587, 0.020886458456516266, 0.00033761889790184796, 0.00162664579693228, 0.002685719635337591, 0.006152379792183638, 0.04422653838992119, 0.00947342999279499, 0.0, 0.0, 0.0, 0.0, 0.0, 0.0, 0.0, 0.0, 0.0, 0.0, 0.0, 0.0, 0.0, 0.0, 0.0, 0.0, 0.0, 0.0, 0.0, 0.0, 0.0, 0.0, 0.0, 0.0, 0.0, 0.0, 0.0, 0.0, 0.0, 0.0, 0.0, 0.0], [0.9739699959754944, 0.0012523493496701121, 3.385716991033405e-05, 9.429458441445604e-05, 0.00024333754845429212, 0.0023475405760109425, 0.009335868991911411, 7.643705544069235e-07, 8.337831968674436e-05, 1.926291361087351e-06, 4.163431003689766e-05, 0.006350760348141193, 0.005029385443776846, 0.0012148621026426554, 0.0, 0.0, 0.0, 0.0, 0.0, 0.0, 0.0, 0.0, 0.0, 0.0, 0.0, 0.0, 0.0, 0.0, 0.0, 0.0, 0.0, 0.0, 0.0, 0.0, 0.0, 0.0, 0.0, 0.0, 0.0, 0.0, 0.0, 0.0, 0.0, 0.0, 0.0], [0.16093069314956665, 0.00034356213291175663, 9.197421604767442e-05, 8.661496394779533e-05, 1.308839455305133e-05, 7.623679266544059e-05, 0.00043561088386923075, 0.3493494987487793, 0.48592016100883484, 0.000334839744027704, 5.81399945076555e-05, 0.002138764364644885, 0.00014608966012019664, 1.7852798919193447e-05, 5.687324301106855e-05, 0.0, 0.0, 0.0, 0.0, 0.0, 0.0, 0.0, 0.0, 0.0, 0.0, 0.0, 0.0, 0.0, 0.0, 0.0, 0.0, 0.0, 0.0, 0.0, 0.0, 0.0, 0.0, 0.0, 0.0, 0.0, 0.0, 0.0, 0.0, 0.0, 0.0], [0.02332155779004097, 0.00029435951728373766, 1.0430984787035413e-07, 2.0473705717449775e-06, 6.899817321937007e-07, 8.212437933252659e-06, 0.00014746180386282504, 9.317046533396933e-06, 0.9744019508361816, 0.0009858878329396248, 2.0644332835217938e-05, 0.0006879653665237129, 2.273303471156396e-05, 8.95069149464689e-07, 7.503089818783337e-06, 8.854482439346611e-05, 0.0, 0.0, 0.0, 0.0, 0.0, 0.0, 0.0, 0.0, 0.0, 0.0, 0.0, 0.0, 0.0, 0.0, 0.0, 0.0, 0.0, 0.0, 0.0, 0.0, 0.0, 0.0, 0.0, 0.0, 0.0, 0.0, 0.0, 0.0, 0.0], [0.05247917026281357, 0.0004514504689723253, 1.836066076066345e-06, 4.759453076985665e-05, 2.7337704523233697e-05, 2.2554177121492103e-05, 0.00035177156678400934, 4.819959542601282e-08, 0.0014462225371971726, 0.9321988821029663, 0.0039842925034463406, 0.006194708868861198, 4.6067860239418224e-05, 0.00012826183228753507, 1.9009083189303055e-05, 5.618385898742417e-07, 0.0026003322564065456, 0.0, 0.0, 0.0, 0.0, 0.0, 0.0, 0.0, 0.0, 0.0, 0.0, 0.0, 0.0, 0.0, 0.0, 0.0, 0.0, 0.0, 0.0, 0.0, 0.0, 0.0, 0.0, 0.0, 0.0, 0.0, 0.0, 0.0, 0.0], [0.16672085225582123, 0.000832477817311883, 1.998960442506359e-06, 8.151217480190098e-05, 0.00018204492516815662, 1.0328290954930708e-05, 0.0017889634473249316, 8.569854270668031e-10, 0.00024508926435373724, 0.011699783615767956, 0.7231662273406982, 0.03511581942439079, 9.578449680702761e-05, 0.0009698434150777757, 8.700093894731253e-05, 4.345340443023815e-08, 0.0007297118427231908, 0.058272551745176315, 0.0, 0.0, 0.0, 0.0, 0.0, 0.0, 0.0, 0.0, 0.0, 0.0, 0.0, 0.0, 0.0, 0.0, 0.0, 0.0, 0.0, 0.0, 0.0, 0.0, 0.0, 0.0, 0.0, 0.0, 0.0, 0.0, 0.0], [0.926836371421814, 0.0015351270558312535, 5.39747197763063e-05, 2.07135162781924e-05, 0.00016142636013682932, 7.95771848061122e-06, 0.0013087913393974304, 9.98005361907417e-06, 0.0017173794331029058, 0.0007832635310478508, 0.012932553887367249, 0.013701921328902245, 0.003742263186722994, 0.001734113902784884, 0.0021291046869009733, 5.990728459437378e-05, 0.00291120121255517, 0.004015312995761633, 0.02633845806121826, 0.0, 0.0, 0.0, 0.0, 0.0, 0.0, 0.0, 0.0, 0.0, 0.0, 0.0, 0.0, 0.0, 0.0, 0.0, 0.0, 0.0, 0.0, 0.0, 0.0, 0.0, 0.0, 0.0, 0.0, 0.0, 0.0], [0.9598171710968018, 0.0007629913743585348, 3.672930324682966e-05, 2.1993604605086148e-05, 0.0004508422571234405, 7.977460882102605e-06, 0.0026697958819568157, 7.343545439653099e-05, 0.0009279527002945542, 3.357266177772544e-05, 0.0031228468287736177, 0.005707332864403725, 0.0010232767090201378, 0.0020106660667806864, 0.0009196031605824828, 0.00016685682930983603, 0.000977908493950963, 0.00016696569218765944, 0.009721328504383564, 0.011380665935575962, 0.0, 0.0, 0.0, 0.0, 0.0, 0.0, 0.0, 0.0, 0.0, 0.0, 0.0, 0.0, 0.0, 0.0, 0.0, 0.0, 0.0, 0.0, 0.0, 0.0, 0.0, 0.0, 0.0, 0.0, 0.0], [0.9379241466522217, 0.003493132535368204, 0.0002954881638288498, 0.0004869495169259608, 0.0028061671182513237, 6.737565854564309e-05, 0.012438850477337837, 4.8958903789753094e-05, 0.0030405165161937475, 2.1805650249007158e-05, 0.001462169224396348, 0.0075688473880290985, 0.0015254116151481867, 0.0003192028379999101, 0.002502818824723363, 0.0002036702207988128, 0.0030558009166270494, 0.00021058920538052917, 0.00286900345236063, 0.004460066091269255, 0.015199030749499798, 0.0, 0.0, 0.0, 0.0, 0.0, 0.0, 0.0, 0.0, 0.0, 0.0, 0.0, 0.0, 0.0, 0.0, 0.0, 0.0, 0.0, 0.0, 0.0, 0.0, 0.0, 0.0, 0.0, 0.0], [0.9074878692626953, 0.003375598229467869, 0.000724745390471071, 0.002201642142608762, 0.006148385349661112, 0.0082957549020648, 0.021050289273262024, 0.00021912636293563992, 0.0041246572509408, 0.001045798184350133, 0.0013732148800045252, 0.0058344462886452675, 0.0007774197147227824, 0.0023523056879639626, 0.004689066205173731, 0.0001887928374344483, 0.0015500400913879275, 0.000836734427139163, 0.0007441416964866221, 0.001361000002361834, 0.0009068523067981005, 0.024712327867746353, 0.0, 0.0, 0.0, 0.0, 0.0, 0.0, 0.0, 0.0, 0.0, 0.0, 0.0, 0.0, 0.0, 0.0, 0.0, 0.0, 0.0, 0.0, 0.0, 0.0, 0.0, 0.0, 0.0], [0.9108812808990479, 0.0011270791292190552, 0.00019415959832258523, 0.00015556649304926395, 0.00034529261756688356, 0.0010371702956035733, 0.011422896757721901, 0.0002041578118223697, 0.002574098529294133, 0.00023648710339330137, 0.0010457704775035381, 0.007420551497489214, 0.001864471472799778, 0.0008940663537941873, 0.0016897190362215042, 0.00014941563131287694, 0.0008666456560604274, 0.0002088187902700156, 0.0010222221026197076, 0.0014748952817171812, 0.0030250782147049904, 0.004525674041360617, 0.04763459414243698, 0.0, 0.0, 0.0, 0.0, 0.0, 0.0, 0.0, 0.0, 0.0, 0.0, 0.0, 0.0, 0.0, 0.0, 0.0, 0.0, 0.0, 0.0, 0.0, 0.0, 0.0, 0.0], [0.9160192012786865, 0.0033587575890123844, 0.00020002812379971147, 0.0006635290919803083, 0.0010549480793997645, 0.0006788636674173176, 0.011100144125521183, 0.00014904915587976575, 0.001277649193070829, 0.0008021126268431544, 0.001517838565632701, 0.013973799534142017, 0.0032541765831410885, 0.002095062518492341, 0.005169509910047054, 0.0002312581636942923, 0.001879800227470696, 0.0009761509718373418, 0.0019536458421498537, 0.0017963772406801581, 0.00750050088390708, 0.0015823806170374155, 0.004796353168785572, 0.01796889677643776, 0.0, 0.0, 0.0, 0.0, 0.0, 0.0, 0.0, 0.0, 0.0, 0.0, 0.0, 0.0, 0.0, 0.0, 0.0, 0.0, 0.0, 0.0, 0.0, 0.0, 0.0], [0.9693402051925659, 0.0020893034525215626, 1.946424617926823e-06, 3.450621989031788e-06, 0.0002429360756650567, 2.806644488373422e-06, 0.0024192018900066614, 2.287069644779649e-09, 6.6096345108235255e-06, 7.462504072464071e-06, 0.00011149899364681914, 0.004265084862709045, 0.0020195876713842154, 0.00039280447526834905, 0.0005356607725843787, 2.7118590040231538e-08, 4.1757066355785355e-06, 1.2119657185394317e-05, 0.00024410401238128543, 0.0018867438193410635, 0.004352681338787079, 0.004110108595341444, 0.0007017123280093074, 6.703762483084574e-05, 0.007182745262980461, 0.0, 0.0, 0.0, 0.0, 0.0, 0.0, 0.0, 0.0, 0.0, 0.0, 0.0, 0.0, 0.0, 0.0, 0.0, 0.0, 0.0, 0.0, 0.0, 0.0], [0.9695815443992615, 0.0007660192204639316, 1.3016663615417201e-05, 5.93459299125243e-06, 0.00362536683678627, 5.201238309382461e-06, 0.001317082904279232, 6.172306399321315e-08, 1.938211653396138e-06, 3.580873226383119e-06, 0.0001286531623918563, 0.0031033765990287066, 0.0009993318235501647, 0.0013403575867414474, 0.00022824693587608635, 4.387283070172998e-07, 2.6208047074760543e-06, 7.464988811989315e-06, 0.00010976260819006711, 6.538342859130353e-05, 0.000957255600951612, 0.0009212924633175135, 0.0003393848310224712, 6.910820229677483e-05, 0.0012842514552175999, 0.015123301185667515, 0.0, 0.0, 0.0, 0.0, 0.0, 0.0, 0.0, 0.0, 0.0, 0.0, 0.0, 0.0, 0.0, 0.0, 0.0, 0.0, 0.0, 0.0, 0.0], [0.9714439511299133, 0.0025312849320471287, 2.8807148737541866e-06, 2.8733084036502987e-05, 0.00031161741935648024, 8.04272622190183e-06, 0.0019669460598379374, 9.332238981585306e-09, 2.301526728842873e-05, 0.002066355664283037, 0.0002707742969505489, 0.003461976768448949, 0.0031943190842866898, 0.0007408374221995473, 0.002314894227311015, 2.8461474244068086e-07, 2.4769182346062735e-05, 0.0005095620872452855, 0.0004316961858421564, 1.134844478656305e-05, 5.023426274419762e-05, 0.0001444088265998289, 0.00016048632096499205, 9.689202670415398e-06, 0.0004830256220884621, 0.0005145092727616429, 0.009294412098824978, 0.0, 0.0, 0.0, 0.0, 0.0, 0.0, 0.0, 0.0, 0.0, 0.0, 0.0, 0.0, 0.0, 0.0, 0.0, 0.0, 0.0, 0.0], [0.9454148411750793, 0.001212772447615862, 3.6557162275130395e-06, 1.651988895901013e-05, 0.00010614033817546442, 4.32508131780196e-05, 0.003320886753499508, 1.8726790074197197e-07, 2.3922870241221972e-05, 0.0003532332193572074, 0.00020674840197898448, 0.001713719218969345, 0.00947353895753622, 8.091813651844859e-05, 0.003455451922491193, 3.8964435589150526e-06, 2.539128763601184e-05, 0.00018883723532781005, 0.00021870079217478633, 6.139482138678432e-05, 8.857479406287894e-05, 0.0005419115186668932, 0.00013317451521288604, 2.1119813027326018e-05, 0.00033610896207392216, 0.002768031321465969, 0.009621298871934414, 0.02056584693491459, 0.0, 0.0, 0.0, 0.0, 0.0, 0.0, 0.0, 0.0, 0.0, 0.0, 0.0, 0.0, 0.0, 0.0, 0.0, 0.0, 0.0], [0.9476866722106934, 0.0007380094029940665, 1.154760775534669e-05, 1.4050749996386003e-05, 7.097086199792102e-05, 4.733125479106093e-06, 0.010642464272677898, 1.7613533600524534e-06, 2.346384644624777e-05, 3.679564542835578e-05, 0.00014109679614193738, 0.0024239509366452694, 0.0031191629823297262, 0.00025194589397870004, 0.0027447666507214308, 1.5112732398847584e-05, 3.695939449244179e-05, 6.052706885384396e-05, 0.00027781553217209876, 3.0548633276339388e-06, 0.0023391591385006905, 0.0004253870574757457, 0.000116820061521139, 2.439853960822802e-05, 0.0012211615685373545, 0.00039884273428469896, 0.02019103802740574, 0.004408648703247309, 0.0025696090888231993, 0.0, 0.0, 0.0, 0.0, 0.0, 0.0, 0.0, 0.0, 0.0, 0.0, 0.0, 0.0, 0.0, 0.0, 0.0, 0.0], [0.9569410085678101, 0.006741459481418133, 3.550338442437351e-05, 9.473750651523005e-06, 9.113754458667245e-06, 8.973657713795546e-06, 0.00026630840147845447, 1.6630994650768116e-05, 0.00010002874478232116, 2.0946758013451472e-05, 2.1510575606953353e-05, 0.005714032333344221, 0.023079922422766685, 6.147400563349947e-05, 0.00033064952003769577, 9.205067181028426e-05, 0.00020051657338626683, 3.470864612609148e-05, 0.00019964913371950388, 4.493746473599458e-06, 0.00014365205424837768, 4.221744165988639e-05, 2.6484789486858062e-05, 4.168645682511851e-05, 0.0012355123180896044, 1.1751814781746361e-05, 0.00016008850070647895, 0.0013925500679761171, 1.2356830666249152e-05, 0.0030452136415988207, 0.0, 0.0, 0.0, 0.0, 0.0, 0.0, 0.0, 0.0, 0.0, 0.0, 0.0, 0.0, 0.0, 0.0, 0.0], [0.9768685698509216, 0.010524464771151543, 2.7688363957167894e-07, 1.9813446670013946e-06, 1.0987113228111411e-06, 1.5001850783846749e-07, 4.01478391722776e-05, 1.974821139949512e-10, 1.4906287105986848e-05, 2.9113649361534044e-05, 3.5230723369750194e-06, 0.0014843657845631242, 0.007407258730381727, 1.650224112381693e-05, 0.00012389423500280827, 1.7248746431164363e-08, 3.560879122233018e-05, 0.0001099129585782066, 0.0005413279286585748, 1.392771764585632e-06, 6.160382781672524e-06, 5.982278707961086e-07, 9.204610250890255e-06, 1.3945873433840461e-06, 0.0005189715302549303, 6.800302543297221e-08, 4.460670879780082e-06, 0.0001669291959842667, 6.302825568127446e-07, 0.0001253797672688961, 0.0019615276250988245, 0.0, 0.0, 0.0, 0.0, 0.0, 0.0, 0.0, 0.0, 0.0, 0.0, 0.0, 0.0, 0.0, 0.0], [0.9710872173309326, 0.003893344197422266, 3.6851801610282564e-07, 4.475234163692221e-06, 2.0844506707362598e-06, 1.1232778263092769e-07, 0.0001501574006397277, 1.963109145727837e-12, 1.853675684060363e-07, 0.00026228156639263034, 0.00020629106438718736, 0.005797390826046467, 0.0019105197861790657, 0.00012107823567930609, 0.0007540566730313003, 5.952719983604027e-10, 1.859030135165085e-06, 0.0006358661921694875, 0.0024051950313150883, 3.752594238903839e-06, 1.1346020073688123e-05, 1.1047864063584711e-06, 1.5020953014754923e-06, 2.042999540208257e-06, 0.000851350137963891, 3.4302079257031437e-06, 6.922648753970861e-05, 0.0016331929946318269, 7.560714584542438e-05, 0.0026650172658264637, 8.052464181673713e-06, 0.007441767491400242, 0.0, 0.0, 0.0, 0.0, 0.0, 0.0, 0.0, 0.0, 0.0, 0.0, 0.0, 0.0, 0.0], [0.9678589701652527, 0.0018299710936844349, 1.1096366279161884e-06, 4.8052237389129e-07, 2.7920532374992035e-06, 1.3628912221008704e-08, 0.00010192420450039208, 4.317332602532531e-10, 5.813458756165346e-06, 4.8304923438990954e-06, 0.0008729021064937115, 0.0067210025154054165, 0.00010572133760433644, 2.817756922013359e-06, 3.163212022627704e-05, 2.9382718480519543e-08, 1.3074284652248025e-05, 4.6120334445731714e-05, 0.0090181864798069, 5.698665700037964e-05, 0.003976147621870041, 7.54823440729524e-06, 7.873005074543471e-07, 1.0957946869893931e-05, 0.0035600480623543262, 2.1211308194324374e-06, 0.00010562186798779294, 0.00011804993846453726, 2.02811170311179e-05, 0.004803977906703949, 1.677031775670912e-07, 0.00014481571270152926, 0.0005751563003286719, 0.0, 0.0, 0.0, 0.0, 0.0, 0.0, 0.0, 0.0, 0.0, 0.0, 0.0, 0.0], [0.8715605139732361, 0.0063736760057508945, 0.0008998426492325962, 0.0004445371450856328, 0.000496109772939235, 0.0001540418015792966, 0.005277703050523996, 3.0114979381323792e-05, 0.0001963256363524124, 0.00046401191502809525, 0.0013847824884578586, 0.0429217666387558, 0.004602561239153147, 0.0007410238613374531, 0.0048135812394320965, 5.708745447918773e-05, 0.00018447118054609746, 0.0003073393600061536, 0.0021965184714645147, 0.0023053432814776897, 0.003992936108261347, 0.0006344689754769206, 0.00016355415573343635, 0.0012433304218575358, 0.0032201919239014387, 0.0005405246047303081, 0.0027737505733966827, 0.0021141907200217247, 0.0005842567188665271, 0.014693795703351498, 8.238754526246339e-05, 0.0009400221169926226, 0.0012458658311516047, 0.022359363734722137, 0.0, 0.0, 0.0, 0.0, 0.0, 0.0, 0.0, 0.0, 0.0, 0.0, 0.0], [0.49218419194221497, 0.007417728193104267, 0.00031697089434601367, 0.00034681035322137177, 0.0006442081066779792, 0.0009379565017297864, 0.022457800805568695, 3.7780275306431577e-05, 0.0004924283130094409, 5.887819133931771e-05, 0.000248735275818035, 0.0067291948944330215, 0.3239181339740753, 0.005308245774358511, 0.05874449014663696, 0.0008738260949030519, 0.0057142674922943115, 0.0005805222899653018, 0.003546885447576642, 0.001016779919154942, 0.0028307889588177204, 0.001339899143204093, 0.005791893228888512, 0.0018844589358195662, 0.02219744212925434, 0.00010756709525594488, 0.0017207100754603744, 0.0031622389797121286, 0.0011172393569722772, 0.017937051132321358, 0.0002482524432707578, 0.0012159437173977494, 0.00019207021978218108, 0.0005045767175033689, 0.008174016140401363, 0.0, 0.0, 0.0, 0.0, 0.0, 0.0, 0.0, 0.0, 0.0, 0.0], [0.5264014601707458, 0.0010600971290841699, 0.000289655989035964, 0.00024651826242916286, 0.0005783566157333553, 0.0009562991326674819, 0.005054019857198, 0.0023897518403828144, 0.003629493061453104, 0.0015702821547165513, 0.0029979862738400698, 0.012736096978187561, 0.010846655815839767, 0.020043371245265007, 0.005567824002355337, 0.0032675331458449364, 0.011372504755854607, 0.0034409589134156704, 0.0391630083322525, 0.03773937374353409, 0.08807438611984253, 0.0045209527015686035, 0.0031823243480175734, 0.0010964269749820232, 0.09998834133148193, 0.006728982552886009, 0.01923760026693344, 0.002898886799812317, 0.0012989436509087682, 0.013248504139482975, 0.0047507695853710175, 0.013600219041109085, 0.0010487603722140193, 0.030733682215213776, 0.016907652840018272, 0.0033323129173368216, 0.0, 0.0, 0.0, 0.0, 0.0, 0.0, 0.0, 0.0, 0.0], [0.8665542006492615, 0.0006575214210897684, 1.46842403410119e-05, 6.228253914741799e-05, 4.547081334749237e-05, 2.270430195494555e-05, 0.0022602290846407413, 7.695437602706079e-07, 8.136009455483872e-06, 2.1886364265810698e-05, 2.713674257392995e-05, 0.0052774990908801556, 0.007232719101011753, 0.00019751978106796741, 0.013595076277852058, 6.398481218639063e-06, 3.533184644766152e-05, 5.5739161325618625e-05, 0.00031716463854536414, 0.0002588205097708851, 0.0015712546883150935, 0.0003004767931997776, 0.00014181774167809635, 5.89437477174215e-05, 0.005904259625822306, 0.0009402163559570909, 0.0035567788872867823, 0.0008198530995287001, 0.0022465165238827467, 0.046000801026821136, 3.6511675716610625e-05, 0.00028647782164625823, 0.0013205718714743853, 0.008264043368399143, 0.018635665997862816, 0.0073785544373095036, 0.005885912571102381, 0.0, 0.0, 0.0, 0.0, 0.0, 0.0, 0.0, 0.0], [0.7465122938156128, 0.0010212539928033948, 1.69203121913597e-05, 4.472659929888323e-05, 5.777160549769178e-05, 2.622739521029871e-05, 0.006763054057955742, 7.933658707770519e-06, 6.31374423392117e-05, 6.558480890817009e-06, 5.803566818940453e-05, 0.00437768641859293, 0.0022819179575890303, 0.00017643414321355522, 0.004308174829930067, 6.380156264640391e-05, 0.0002072745410259813, 2.830809899023734e-05, 0.0003550206311047077, 1.5997113223420456e-05, 0.003561796387657523, 0.00025786066544242203, 0.0001349623198620975, 4.22373523178976e-05, 0.004146078135818243, 0.00012216456525493413, 0.0021508720237761736, 0.0005469763418659568, 6.0382491938071325e-05, 0.1919369399547577, 0.0004691119829658419, 3.65903542842716e-05, 0.00011805508256657049, 0.010143396444618702, 0.010837012901902199, 0.0022628207225352526, 0.0037898672744631767, 0.0029903477989137173, 0.0, 0.0, 0.0, 0.0, 0.0, 0.0, 0.0], [0.863964319229126, 0.0032575286459177732, 0.00048285810044035316, 0.0004343079635873437, 0.0009712713654153049, 0.0001638281246414408, 0.0025317673571407795, 6.452370598708512e-06, 2.629680238896981e-05, 4.405842992127873e-05, 0.0003212756128050387, 0.007223774213343859, 0.00935498159378767, 0.002284429268911481, 0.002638376783579588, 1.5495255865971558e-05, 6.249640136957169e-05, 6.272832251852378e-05, 0.0002815420157276094, 0.00028221512911841273, 0.0010542240925133228, 0.0005815458134748042, 0.0005516600795090199, 0.0004547670832835138, 0.004098645877093077, 0.00029620094574056566, 0.013395027257502079, 0.0019526253454387188, 0.0012627731775864959, 0.04387276619672775, 0.0003632698499131948, 0.00015585696382913738, 0.0004159639938734472, 0.011581451632082462, 0.013171639293432236, 0.0011167916236445308, 0.0009129999089054763, 0.004890288691967726, 0.005461341235786676, 0.0, 0.0, 0.0, 0.0, 0.0, 0.0], [0.7433566451072693, 0.006114474963396788, 1.4451636161538772e-05, 4.1898267227225006e-05, 0.00023324915673583746, 2.5418971745239105e-06, 0.0016639746027067304, 2.099958873458263e-09, 1.9062075580222881e-06, 0.0002846056886482984, 0.00010881471098400652, 0.009608609601855278, 0.015182721428573132, 0.00010602835391182452, 0.011292366310954094, 1.7265655571918614e-07, 9.588465218257625e-06, 0.0002555937971919775, 0.00036742270458489656, 4.191661355434917e-05, 0.0004358611477073282, 4.0205963159678504e-05, 1.571300526848063e-05, 3.1310150916397106e-06, 0.0006350227631628513, 2.2658859961666167e-05, 0.00046963660861365497, 0.031795840710401535, 0.0019172241445630789, 0.08413810282945633, 1.1940237527596764e-06, 0.0002368863788433373, 0.0009722539689391851, 0.00838521495461464, 0.032252512872219086, 0.008620908483862877, 0.00047995231579989195, 0.004858387168496847, 0.017623497173190117, 0.018408779054880142, 0.0, 0.0, 0.0, 0.0, 0.0], [0.07184755057096481, 0.00020139488333370537, 6.617488543270156e-05, 5.3964293329045177e-05, 9.999597750720568e-06, 2.641983337525744e-05, 0.0001874659355962649, 0.11910374462604523, 0.10644782334566116, 0.00023511724430136383, 3.7328103644540533e-05, 0.0011162280570715666, 0.00022647736477665603, 3.8088011933723465e-05, 2.202125142503064e-05, 0.19411587715148926, 0.48328372836112976, 0.004259029868990183, 0.005965512711554766, 0.0002416546194581315, 0.0003867462510243058, 5.657157089444809e-05, 6.536645378218964e-05, 1.8399548935121857e-05, 0.006618470884859562, 4.688091621574131e-07, 3.269449371146038e-05, 8.098744001472369e-05, 3.966805525124073e-05, 0.0003667921992018819, 7.553158525297476e-07, 9.670103463577107e-05, 1.3967948007120867e-06, 0.00021312701574061066, 0.0009848809568211436, 0.00022891044500283897, 0.002989214612171054, 1.4096906852500979e-05, 2.7293186576571316e-05, 0.0002798564382828772, 1.2023871931887697e-05, 0.0, 0.0, 0.0, 0.0], [0.012973947450518608, 0.00013872695853933692, 7.422867298600977e-08, 8.204225423469325e-07, 4.385955776342598e-07, 3.489228674879996e-06, 8.792863809503615e-05, 8.770121894485783e-06, 0.4055408835411072, 0.0005053274799138308, 6.205350928212283e-06, 0.00029628039919771254, 1.778014666342642e-05, 1.1381750937289326e-06, 4.950489710608963e-06, 6.972962728468701e-05, 0.5611783862113953, 0.00577722629532218, 0.00199795700609684, 9.66779698501341e-05, 3.612357977544889e-05, 6.267699518502923e-06, 7.358148286584765e-05, 1.4389439456863329e-05, 0.010209468193352222, 4.442235024271213e-08, 1.413569748365262e-06, 1.1215177437406965e-05, 6.899695108586457e-07, 8.612664714746643e-06, 1.8917960253883592e-10, 8.422994142165408e-06, 1.3389912112415914e-07, 6.9071252255525906e-06, 0.00019176554633304477, 4.260181958670728e-05, 0.0005330545827746391, 1.245863472831843e-06, 5.062001378064451e-07, 1.3701343050342984e-05, 5.380857146519702e-07, 0.00013263843720778823, 0.0, 0.0, 0.0], [0.026655523106455803, 0.0002281814522575587, 1.5019089687484666e-06, 2.6012397938757204e-05, 2.6621086362865753e-05, 2.595951264083851e-05, 0.00034093501744791865, 5.749734555138275e-08, 0.0010004485957324505, 0.3643367886543274, 0.0017350076232105494, 0.004826956428587437, 8.906012953957543e-05, 0.00025201839162036777, 1.8619035472511314e-05, 5.965783316241868e-07, 0.0030266500543802977, 0.478609174489975, 0.08150120824575424, 0.00034816417610272765, 0.0001042118456098251, 6.974205916776555e-06, 3.9062488212948665e-05, 3.2023082894738764e-05, 0.018437620252370834, 8.504355264449259e-07, 2.094958290399518e-05, 0.0009249941213056445, 6.968697562115267e-05, 0.00012713370961137116, 4.4519871122972177e-10, 2.0514933567028493e-05, 4.2965875763911754e-05, 0.00012357726518530399, 0.0012343680718913674, 8.776831236900762e-05, 0.001433583558537066, 2.398143806203734e-05, 6.958527137612691e-06, 9.1689289547503e-05, 8.845989214023575e-05, 2.563475391070824e-06, 0.014030602760612965, 0.0, 0.0], [0.023981856182217598, 9.029790089698508e-05, 4.6370379891413904e-07, 1.1436402928666212e-05, 3.401169306016527e-05, 2.411811919955653e-06, 0.00040797004476189613, 6.923376316692043e-10, 0.00011060955876018852, 0.0026768704410642385, 0.08734630048274994, 0.0056425402872264385, 2.3649432478123344e-05, 0.00022354575048666447, 1.7365873645758256e-05, 2.436499890734467e-08, 0.0003786595189012587, 0.018906215205788612, 0.7607836127281189, 0.009453038685023785, 0.00516161136329174, 0.0003589862899389118, 3.626054240157828e-05, 0.00023955914366524667, 0.0551430881023407, 4.502928277361207e-06, 5.5782547860872e-05, 0.0003393188235349953, 2.496596789569594e-05, 0.00019191342289559543, 1.2248184411145502e-10, 2.0148193016211735e-06, 6.352169748424785e-06, 0.005582206416875124, 0.0016072761500254273, 1.5704656107118353e-05, 0.0007282347069121897, 1.0339438631490339e-05, 1.708524905552622e-05, 7.336660200962797e-05, 6.099307211115956e-05, 8.64798366251307e-08, 0.0007157182553783059, 0.019533751532435417, 0.0], [0.8813056945800781, 0.0025417450815439224, 6.308996489678975e-06, 9.100745955947787e-06, 0.0001351804967271164, 9.270048030884936e-05, 0.009505179710686207, 1.7581294287083438e-06, 0.00019432012049946934, 0.0012215778697282076, 0.00225734431296587, 0.012270002625882626, 0.0028334753587841988, 0.003135351464152336, 0.00790687371045351, 6.350770036078757e-06, 0.0001981652167160064, 0.0010484419763088226, 0.0030436490196734667, 0.0026435162872076035, 0.0034692154731601477, 0.0006942962063476443, 0.0028261239640414715, 0.00312781217508018, 0.010502799414098263, 8.606882329331711e-05, 0.0013406637590378523, 0.00015039283607620746, 0.0004931360599584877, 0.005555026698857546, 2.259623033751268e-05, 0.00010193882917519659, 0.0004918564227409661, 0.005243937484920025, 0.01703980378806591, 0.002681025769561529, 0.0027726765256375074, 0.00022116773470770568, 0.0007284364546649158, 0.004306835122406483, 0.0015745365526527166, 5.155232429387979e-06, 7.871319394325837e-05, 0.0006169273401610553, 0.005512151401489973]], [[1.0, 0.0, 0.0, 0.0, 0.0, 0.0, 0.0, 0.0, 0.0, 0.0, 0.0, 0.0, 0.0, 0.0, 0.0, 0.0, 0.0, 0.0, 0.0, 0.0, 0.0, 0.0, 0.0, 0.0, 0.0, 0.0, 0.0, 0.0, 0.0, 0.0, 0.0, 0.0, 0.0, 0.0, 0.0, 0.0, 0.0, 0.0, 0.0, 0.0, 0.0, 0.0, 0.0, 0.0, 0.0], [0.9817848205566406, 0.01821516640484333, 0.0, 0.0, 0.0, 0.0, 0.0, 0.0, 0.0, 0.0, 0.0, 0.0, 0.0, 0.0, 0.0, 0.0, 0.0, 0.0, 0.0, 0.0, 0.0, 0.0, 0.0, 0.0, 0.0, 0.0, 0.0, 0.0, 0.0, 0.0, 0.0, 0.0, 0.0, 0.0, 0.0, 0.0, 0.0, 0.0, 0.0, 0.0, 0.0, 0.0, 0.0, 0.0, 0.0], [0.6594918966293335, 0.2805749773979187, 0.05993305891752243, 0.0, 0.0, 0.0, 0.0, 0.0, 0.0, 0.0, 0.0, 0.0, 0.0, 0.0, 0.0, 0.0, 0.0, 0.0, 0.0, 0.0, 0.0, 0.0, 0.0, 0.0, 0.0, 0.0, 0.0, 0.0, 0.0, 0.0, 0.0, 0.0, 0.0, 0.0, 0.0, 0.0, 0.0, 0.0, 0.0, 0.0, 0.0, 0.0, 0.0, 0.0, 0.0], [0.6112188696861267, 0.1570722609758377, 0.16787366569042206, 0.06383521854877472, 0.0, 0.0, 0.0, 0.0, 0.0, 0.0, 0.0, 0.0, 0.0, 0.0, 0.0, 0.0, 0.0, 0.0, 0.0, 0.0, 0.0, 0.0, 0.0, 0.0, 0.0, 0.0, 0.0, 0.0, 0.0, 0.0, 0.0, 0.0, 0.0, 0.0, 0.0, 0.0, 0.0, 0.0, 0.0, 0.0, 0.0, 0.0, 0.0, 0.0, 0.0], [0.6122540831565857, 0.016384627670049667, 0.08252367377281189, 0.22507737576961517, 0.06376025825738907, 0.0, 0.0, 0.0, 0.0, 0.0, 0.0, 0.0, 0.0, 0.0, 0.0, 0.0, 0.0, 0.0, 0.0, 0.0, 0.0, 0.0, 0.0, 0.0, 0.0, 0.0, 0.0, 0.0, 0.0, 0.0, 0.0, 0.0, 0.0, 0.0, 0.0, 0.0, 0.0, 0.0, 0.0, 0.0, 0.0, 0.0, 0.0, 0.0, 0.0], [0.9285638928413391, 0.0007525754626840353, 0.0014799593482166529, 0.00017442862736061215, 0.06065327301621437, 0.008375868201255798, 0.0, 0.0, 0.0, 0.0, 0.0, 0.0, 0.0, 0.0, 0.0, 0.0, 0.0, 0.0, 0.0, 0.0, 0.0, 0.0, 0.0, 0.0, 0.0, 0.0, 0.0, 0.0, 0.0, 0.0, 0.0, 0.0, 0.0, 0.0, 0.0, 0.0, 0.0, 0.0, 0.0, 0.0, 0.0, 0.0, 0.0, 0.0, 0.0], [0.9284201860427856, 0.003684940282255411, 0.0023072503972798586, 0.0012946390779688954, 0.009455622173845768, 0.019361592829227448, 0.035475730895996094, 0.0, 0.0, 0.0, 0.0, 0.0, 0.0, 0.0, 0.0, 0.0, 0.0, 0.0, 0.0, 0.0, 0.0, 0.0, 0.0, 0.0, 0.0, 0.0, 0.0, 0.0, 0.0, 0.0, 0.0, 0.0, 0.0, 0.0, 0.0, 0.0, 0.0, 0.0, 0.0, 0.0, 0.0, 0.0, 0.0, 0.0, 0.0], [0.227644681930542, 0.001950494828633964, 0.001106944982893765, 0.0007280734134837985, 1.1776681276387535e-05, 0.000962032179813832, 0.72149258852005, 0.046103402972221375, 0.0, 0.0, 0.0, 0.0, 0.0, 0.0, 0.0, 0.0, 0.0, 0.0, 0.0, 0.0, 0.0, 0.0, 0.0, 0.0, 0.0, 0.0, 0.0, 0.0, 0.0, 0.0, 0.0, 0.0, 0.0, 0.0, 0.0, 0.0, 0.0, 0.0, 0.0, 0.0, 0.0, 0.0, 0.0, 0.0, 0.0], [0.8009751439094543, 0.00043827242916449904, 0.00024208858667407185, 2.927117566287052e-05, 0.00041078581125475466, 0.0032101119868457317, 0.028135528787970543, 0.11256234347820282, 0.05399642512202263, 0.0, 0.0, 0.0, 0.0, 0.0, 0.0, 0.0, 0.0, 0.0, 0.0, 0.0, 0.0, 0.0, 0.0, 0.0, 0.0, 0.0, 0.0, 0.0, 0.0, 0.0, 0.0, 0.0, 0.0, 0.0, 0.0, 0.0, 0.0, 0.0, 0.0, 0.0, 0.0, 0.0, 0.0, 0.0, 0.0], [0.3646646738052368, 0.00014167425979394466, 3.1960647902451456e-05, 1.8515818283049157e-06, 7.223175634862855e-05, 0.00032026489498093724, 0.00040576091851107776, 0.005976202432066202, 0.5300386548042297, 0.09834673255681992, 0.0, 0.0, 0.0, 0.0, 0.0, 0.0, 0.0, 0.0, 0.0, 0.0, 0.0, 0.0, 0.0, 0.0, 0.0, 0.0, 0.0, 0.0, 0.0, 0.0, 0.0, 0.0, 0.0, 0.0, 0.0, 0.0, 0.0, 0.0, 0.0, 0.0, 0.0, 0.0, 0.0, 0.0, 0.0], [0.5562887191772461, 0.0001505267428001389, 0.00013815233251079917, 7.088315032888204e-05, 0.0008008020813576877, 0.0006808651960454881, 0.0006820629350841045, 0.0002461509429849684, 0.01435756403952837, 0.3785499930381775, 0.048034265637397766, 0.0, 0.0, 0.0, 0.0, 0.0, 0.0, 0.0, 0.0, 0.0, 0.0, 0.0, 0.0, 0.0, 0.0, 0.0, 0.0, 0.0, 0.0, 0.0, 0.0, 0.0, 0.0, 0.0, 0.0, 0.0, 0.0, 0.0, 0.0, 0.0, 0.0, 0.0, 0.0, 0.0, 0.0], [0.867449164390564, 0.002995029091835022, 0.0006275713094510138, 0.0002535815874580294, 0.00298141548410058, 0.0008199159055948257, 0.00124837935436517, 0.00019464275101199746, 0.0013632287736982107, 0.008683927357196808, 0.10877523571252823, 0.004607853014022112, 0.0, 0.0, 0.0, 0.0, 0.0, 0.0, 0.0, 0.0, 0.0, 0.0, 0.0, 0.0, 0.0, 0.0, 0.0, 0.0, 0.0, 0.0, 0.0, 0.0, 0.0, 0.0, 0.0, 0.0, 0.0, 0.0, 0.0, 0.0, 0.0, 0.0, 0.0, 0.0, 0.0], [0.9060445427894592, 0.001371955731883645, 0.00015287350106518716, 2.2949938284000382e-05, 0.00013275207311380655, 0.0001798077137209475, 0.000323070416925475, 1.686856739979703e-05, 6.358995597111061e-05, 7.2374723458779044e-06, 0.0006574352737516165, 0.08806076645851135, 0.002966142725199461, 0.0, 0.0, 0.0, 0.0, 0.0, 0.0, 0.0, 0.0, 0.0, 0.0, 0.0, 0.0, 0.0, 0.0, 0.0, 0.0, 0.0, 0.0, 0.0, 0.0, 0.0, 0.0, 0.0, 0.0, 0.0, 0.0, 0.0, 0.0, 0.0, 0.0, 0.0, 0.0], [0.7615599036216736, 0.010166611522436142, 0.001850038068369031, 0.0004181159602012485, 0.0012676870683208108, 0.08119864016771317, 0.00023963737476151437, 2.2237898519961163e-05, 4.8382211389252916e-05, 0.00013077208132017404, 0.00039975339313969016, 0.09113330394029617, 0.04686633124947548, 0.004698631353676319, 0.0, 0.0, 0.0, 0.0, 0.0, 0.0, 0.0, 0.0, 0.0, 0.0, 0.0, 0.0, 0.0, 0.0, 0.0, 0.0, 0.0, 0.0, 0.0, 0.0, 0.0, 0.0, 0.0, 0.0, 0.0, 0.0, 0.0, 0.0, 0.0, 0.0, 0.0], [0.6057817339897156, 0.00022342440206557512, 7.031735731288791e-05, 3.546701918821782e-06, 0.00029640505090355873, 0.00047695994726382196, 9.218208288075402e-05, 5.94729999647825e-06, 5.847548527526669e-05, 3.010530781466514e-05, 0.0007280967547558248, 0.0041287424974143505, 0.04770344868302345, 0.3329986035823822, 0.007402003742754459, 0.0, 0.0, 0.0, 0.0, 0.0, 0.0, 0.0, 0.0, 0.0, 0.0, 0.0, 0.0, 0.0, 0.0, 0.0, 0.0, 0.0, 0.0, 0.0, 0.0, 0.0, 0.0, 0.0, 0.0, 0.0, 0.0, 0.0, 0.0, 0.0, 0.0], [0.4594024121761322, 0.001719748368486762, 0.0002831299789249897, 8.038670057430863e-05, 1.0070551070384681e-05, 0.0004817110893782228, 0.06412633508443832, 0.0036034276708960533, 6.3275387219619e-05, 2.1299416630427004e-07, 6.0780530475312844e-05, 0.005211753770709038, 0.01077639777213335, 0.0001407265372108668, 0.4321715831756592, 0.02186800166964531, 0.0, 0.0, 0.0, 0.0, 0.0, 0.0, 0.0, 0.0, 0.0, 0.0, 0.0, 0.0, 0.0, 0.0, 0.0, 0.0, 0.0, 0.0, 0.0, 0.0, 0.0, 0.0, 0.0, 0.0, 0.0, 0.0, 0.0, 0.0, 0.0], [0.7048327922821045, 0.0005851653404533863, 0.0001128024305216968, 1.2638544831133913e-05, 9.087716171052307e-05, 0.0006631468422710896, 0.00436730682849884, 0.010209373198449612, 0.0032469897996634245, 0.00023417048214469105, 0.0005163046298548579, 0.0010971924057230353, 0.0067781419493258, 0.0013956587063148618, 0.0943383276462555, 0.10069695115089417, 0.07082218676805496, 0.0, 0.0, 0.0, 0.0, 0.0, 0.0, 0.0, 0.0, 0.0, 0.0, 0.0, 0.0, 0.0, 0.0, 0.0, 0.0, 0.0, 0.0, 0.0, 0.0, 0.0, 0.0, 0.0, 0.0, 0.0, 0.0, 0.0, 0.0], [0.359536737203598, 0.00013219598622526973, 1.971777055587154e-05, 6.896922286614426e-07, 1.9326773326611146e-05, 0.0001024080193019472, 0.00010711960203479975, 0.001914152642711997, 0.054527051746845245, 0.017064033076167107, 0.0026362582575529814, 0.0007176197250373662, 0.002424616366624832, 0.0008492624037899077, 0.002344439271837473, 0.02586781606078148, 0.4398365318775177, 0.09190008789300919, 0.0, 0.0, 0.0, 0.0, 0.0, 0.0, 0.0, 0.0, 0.0, 0.0, 0.0, 0.0, 0.0, 0.0, 0.0, 0.0, 0.0, 0.0, 0.0, 0.0, 0.0, 0.0, 0.0, 0.0, 0.0, 0.0, 0.0], [0.8432283997535706, 0.0011053589405491948, 0.00029180498677305877, 3.711749013746157e-05, 0.00013179036614019424, 0.00018365880532655865, 0.00010372914402978495, 0.0002522523864172399, 0.002345753600820899, 0.011784255504608154, 0.00919724814593792, 0.003000670811161399, 0.0020296466536819935, 0.0009678273345343769, 0.0020205120090395212, 0.0017857333878055215, 0.026478717103600502, 0.05416742339730263, 0.04088813439011574, 0.0, 0.0, 0.0, 0.0, 0.0, 0.0, 0.0, 0.0, 0.0, 0.0, 0.0, 0.0, 0.0, 0.0, 0.0, 0.0, 0.0, 0.0, 0.0, 0.0, 0.0, 0.0, 0.0, 0.0, 0.0, 0.0], [0.45565086603164673, 0.0013066933024674654, 0.0001497789053246379, 1.4017929970577825e-05, 0.0003117771993856877, 0.00033758350764401257, 0.00015676222392357886, 0.00019592055468820035, 0.0019623003900051117, 0.0019928021356463432, 0.0017141371499747038, 0.0015656993491575122, 0.00870143435895443, 0.0038955986965447664, 0.0034341115970164537, 0.0012810422340407968, 0.02184518799185753, 0.01760072074830532, 0.45089060068130493, 0.026992879807949066, 0.0, 0.0, 0.0, 0.0, 0.0, 0.0, 0.0, 0.0, 0.0, 0.0, 0.0, 0.0, 0.0, 0.0, 0.0, 0.0, 0.0, 0.0, 0.0, 0.0, 0.0, 0.0, 0.0, 0.0, 0.0], [0.3787112832069397, 0.0018189585534855723, 0.00026289300876669586, 4.189605169813149e-05, 0.00022913595603313297, 0.0006156961317174137, 0.0001751380186760798, 0.00010937481420114636, 0.0008690776885487139, 0.0006403002771548927, 0.003331259358674288, 0.00671598082408309, 0.0024374176282435656, 0.0009762225672602654, 0.0016015394357964396, 0.00047591220936737955, 0.007449018303304911, 0.005267263390123844, 0.2494831085205078, 0.28970739245414734, 0.049081120640039444, 0.0, 0.0, 0.0, 0.0, 0.0, 0.0, 0.0, 0.0, 0.0, 0.0, 0.0, 0.0, 0.0, 0.0, 0.0, 0.0, 0.0, 0.0, 0.0, 0.0, 0.0, 0.0, 0.0, 0.0], [0.8674691319465637, 5.4467884183395654e-05, 4.6637167542940006e-05, 6.96960205459618e-06, 0.00021363816631492227, 0.0002848909643944353, 0.00018788380839396268, 2.449968087603338e-05, 0.00016593991313129663, 5.536415847018361e-05, 0.000712165201548487, 0.00017918649245984852, 0.00011024944978998974, 0.0006319574895314872, 0.0010442316997796297, 0.00012255882029421628, 0.001053718151524663, 0.00038935482734814286, 0.011790121905505657, 0.009158565662801266, 0.07848908752202988, 0.02780926786363125, 0.0, 0.0, 0.0, 0.0, 0.0, 0.0, 0.0, 0.0, 0.0, 0.0, 0.0, 0.0, 0.0, 0.0, 0.0, 0.0, 0.0, 0.0, 0.0, 0.0, 0.0, 0.0, 0.0], [0.7771487832069397, 7.103531243046746e-05, 9.121671610046178e-05, 1.6406775102950633e-05, 0.0005474767531268299, 0.002830746816471219, 0.00040952995186671615, 0.0002388252323726192, 0.00038259566645137966, 9.80959739536047e-05, 0.00019685906590893865, 0.0003566204395610839, 0.00030658135074190795, 0.0035448474809527397, 0.002164233010262251, 0.0008880189852789044, 0.001473798300139606, 0.00036293003358878195, 0.0012554572895169258, 0.0015736481873318553, 0.010602264665067196, 0.15284112095832825, 0.04259893298149109, 0.0, 0.0, 0.0, 0.0, 0.0, 0.0, 0.0, 0.0, 0.0, 0.0, 0.0, 0.0, 0.0, 0.0, 0.0, 0.0, 0.0, 0.0, 0.0, 0.0, 0.0, 0.0], [0.5519945621490479, 0.00017964262224268168, 1.3564411347033456e-05, 5.596840765065281e-06, 1.4893173101881985e-05, 0.0003724834823515266, 0.00022183686087373644, 8.265802898677066e-05, 0.00012128606613259763, 5.968608456896618e-05, 8.636082930024713e-05, 0.0003577035095077008, 0.0007436278974637389, 0.0002826870768330991, 0.0004576749342959374, 0.00011362260556779802, 0.00017933433991856873, 8.772892761044204e-05, 0.0013061765348538756, 0.0009628079715184867, 0.0004787533252965659, 0.004990460816770792, 0.38303378224372864, 0.05385315418243408, 0.0, 0.0, 0.0, 0.0, 0.0, 0.0, 0.0, 0.0, 0.0, 0.0, 0.0, 0.0, 0.0, 0.0, 0.0, 0.0, 0.0, 0.0, 0.0, 0.0, 0.0], [0.8605394959449768, 0.0002357042976655066, 6.333418423309922e-05, 9.315574970969465e-06, 4.503963646129705e-05, 0.00011339994671288878, 0.00026799089391715825, 0.00037619989598169923, 0.00031744319130666554, 0.0003867164487019181, 0.0007186411530710757, 0.0020804619416594505, 0.00043856483534909785, 0.0005696549778804183, 0.0020722048357129097, 0.001671177800744772, 0.005317775532603264, 0.0024547940120100975, 0.0032026702538132668, 0.0015284346882253885, 0.0012361427070572972, 0.0005795063334517181, 0.002935718512162566, 0.11008982360363007, 0.0027497345581650734, 0.0, 0.0, 0.0, 0.0, 0.0, 0.0, 0.0, 0.0, 0.0, 0.0, 0.0, 0.0, 0.0, 0.0, 0.0, 0.0, 0.0, 0.0, 0.0, 0.0], [0.9165303111076355, 3.2170644317375263e-06, 5.835812544319197e-07, 5.370081623823353e-08, 7.133095550670987e-06, 7.221392479550559e-06, 6.443292932090117e-06, 1.4538849768541695e-07, 2.613131300677196e-06, 1.1386914593458641e-06, 1.668068944127299e-05, 3.767751331906766e-05, 3.407731492188759e-05, 5.4622771131107584e-05, 1.9625958884716965e-05, 8.976404615168576e-07, 2.7392916308599524e-05, 1.0464821571076754e-05, 0.0016170886810868979, 0.0003801713464781642, 0.001605935744009912, 0.00391019694507122, 0.0004568400327116251, 0.0008072376949712634, 0.06524628400802612, 0.00921591091901064, 0.0, 0.0, 0.0, 0.0, 0.0, 0.0, 0.0, 0.0, 0.0, 0.0, 0.0, 0.0, 0.0, 0.0, 0.0, 0.0, 0.0, 0.0, 0.0], [0.7440457344055176, 7.40129835321568e-05, 1.0574218322290108e-05, 4.2052692151628435e-05, 0.0002103254373650998, 0.0002705594524741173, 0.0001820086472434923, 2.1325915895431535e-06, 4.073649961355841e-06, 1.6243144500549533e-06, 2.4723363821976818e-05, 6.671439768979326e-05, 0.0002804672112688422, 7.400070899166167e-05, 0.00020935227803420275, 7.372657819360029e-06, 3.1199837394524366e-05, 9.363495337311178e-06, 0.00041446651448495686, 0.00011251834803260863, 0.0008403002866543829, 0.0035693557001650333, 0.0008199170115403831, 0.0012864068849012256, 0.07046642899513245, 0.1609025001525879, 0.016041794791817665, 0.0, 0.0, 0.0, 0.0, 0.0, 0.0, 0.0, 0.0, 0.0, 0.0, 0.0, 0.0, 0.0, 0.0, 0.0, 0.0, 0.0, 0.0], [0.5025457143783569, 1.4800763892708346e-05, 3.866669430863112e-06, 1.7945220065485046e-07, 0.00011401907977415249, 2.420834789518267e-05, 1.734839315759018e-05, 1.1729859579645563e-05, 0.0002826981362886727, 0.00035526591818779707, 0.00018291508604306728, 0.00017293535347562283, 0.00038990844041109085, 0.0017342505743727088, 0.00010609599121380597, 9.728527220431715e-05, 0.0017092012567445636, 0.0009203826193697751, 0.000346260640071705, 6.769297760911286e-05, 0.00022261211415752769, 0.002251771278679371, 0.0014763526851311326, 0.001299672992900014, 0.002461335388943553, 0.0007181970868259668, 0.45068761706352234, 0.03178568184375763, 0.0, 0.0, 0.0, 0.0, 0.0, 0.0, 0.0, 0.0, 0.0, 0.0, 0.0, 0.0, 0.0, 0.0, 0.0, 0.0, 0.0], [0.9296805262565613, 1.694269940344384e-06, 2.1359758761718695e-07, 1.7765584559015224e-08, 3.5256164210295537e-06, 5.398234861786477e-06, 2.5851129976217635e-05, 2.290384600200923e-06, 2.3109023459255695e-05, 6.926468358869897e-06, 7.339925559790572e-06, 1.0241324162052479e-05, 8.9625122200232e-05, 6.118276360211894e-05, 0.0002928044705186039, 1.6652697013341822e-05, 0.00014524540165439248, 2.296264938195236e-05, 0.00032531286706216633, 6.433554517570883e-06, 8.896124199964106e-05, 0.00042318354826420546, 0.00017613437375985086, 5.4955973610049114e-05, 0.0007769126677885652, 7.28125378373079e-05, 0.006351613439619541, 0.05382746458053589, 0.007500532083213329, 0.0, 0.0, 0.0, 0.0, 0.0, 0.0, 0.0, 0.0, 0.0, 0.0, 0.0, 0.0, 0.0, 0.0, 0.0, 0.0], [0.8512073755264282, 9.03333602764178e-06, 2.400907305855071e-06, 1.0693884178181179e-06, 6.626317372138146e-06, 1.988656549656298e-05, 0.0002567779738456011, 3.634057065937668e-06, 4.412191265146248e-05, 4.360081220511347e-05, 0.0002271908597322181, 0.0001919601345434785, 0.0001822256454033777, 0.00010889900295296684, 0.0008002788526937366, 2.6630914362613112e-05, 0.0003106462536379695, 0.00017054883937817067, 0.0007282543228939176, 0.0007756272098049521, 0.0009551839320920408, 0.00022603791148867458, 4.5733930164715275e-05, 0.0004976759664714336, 0.0008988222107291222, 0.0004413073183968663, 0.008603389374911785, 0.00697644567117095, 0.10087002068758011, 0.02536856010556221, 0.0, 0.0, 0.0, 0.0, 0.0, 0.0, 0.0, 0.0, 0.0, 0.0, 0.0, 0.0, 0.0, 0.0, 0.0], [0.9184682965278625, 1.9647370663733454e-06, 8.7820431815544e-08, 5.034328509623265e-08, 1.9217587521325186e-08, 1.2209228827941843e-07, 7.761035703879315e-06, 4.3542726757550554e-08, 6.080858128143518e-08, 3.811301496625674e-09, 1.0685167808333063e-06, 7.085087418090552e-06, 1.2911574231111445e-05, 1.2696600606432185e-06, 3.6766785342479125e-05, 4.25867284548076e-07, 6.85766735841753e-07, 3.821472560616712e-08, 9.660426485424978e-07, 2.719534677453339e-05, 5.188912382436683e-06, 4.419371180119924e-05, 6.547037628479302e-06, 2.5055966034415178e-05, 3.900071533280425e-06, 2.8082606149837375e-05, 7.006362284300849e-05, 7.5842885962629225e-06, 0.00029224625905044377, 0.06697305291891098, 0.01397732924669981, 0.0, 0.0, 0.0, 0.0, 0.0, 0.0, 0.0, 0.0, 0.0, 0.0, 0.0, 0.0, 0.0, 0.0], [0.2957196533679962, 9.874486750049982e-06, 4.707880520982144e-07, 1.951905659325348e-08, 7.858884032430069e-08, 1.1774159247579519e-07, 6.842381480964832e-06, 4.046466710860841e-05, 9.335732465842739e-05, 7.959481990837958e-06, 3.5643799492390826e-05, 1.638001049286686e-05, 7.819012535037473e-05, 2.430455879220972e-06, 3.410327190067619e-05, 7.493856537621468e-05, 0.00016157858772203326, 1.2693513781414367e-05, 1.809263812901918e-05, 1.5882016668911092e-05, 6.747475708834827e-06, 1.4455830751103349e-05, 2.9187617656134535e-06, 1.4672096767753828e-05, 2.5154654395009857e-06, 1.953622813744005e-06, 8.204952609958127e-05, 9.689774014987051e-05, 8.225964847952127e-05, 0.004291008226573467, 0.6865361332893372, 0.012539613991975784, 0.0, 0.0, 0.0, 0.0, 0.0, 0.0, 0.0, 0.0, 0.0, 0.0, 0.0, 0.0, 0.0], [0.2590469717979431, 1.694339744062745e-06, 7.347515520450543e-07, 5.339731856679464e-08, 3.3292619150415703e-07, 8.556193051845185e-07, 1.06988679249298e-07, 2.1017385165578162e-07, 4.5731627324130386e-05, 0.00019878651073668152, 0.00014088857278693467, 1.0638241292326711e-05, 1.85378212336218e-05, 1.695583705441095e-05, 9.012844657263486e-07, 1.2106382882848266e-06, 6.748190935468301e-05, 7.869589171605185e-05, 2.3568432879983447e-05, 7.260332495206967e-06, 1.6753436284489e-05, 9.287638022215106e-06, 7.252754130604444e-06, 6.402716098818928e-05, 3.0718518246430904e-05, 8.030279786908068e-06, 0.00019689770124386996, 0.00037817226257175207, 0.0002046841982519254, 8.008426812011749e-05, 0.023357640951871872, 0.642568051815033, 0.0734168067574501, 0.0, 0.0, 0.0, 0.0, 0.0, 0.0, 0.0, 0.0, 0.0, 0.0, 0.0, 0.0], [0.8780043125152588, 1.3152998690202367e-05, 5.383538791647879e-06, 9.76759679360839e-07, 1.9988115127489436e-06, 4.072922820341773e-06, 1.2263614735275041e-05, 3.553194801497739e-06, 3.510923124849796e-05, 0.00031276021036319435, 0.0002653374685905874, 4.1819122998276725e-05, 1.2811334272555541e-05, 1.5150058061408345e-05, 5.6597189541207626e-05, 7.634859684912954e-06, 7.339064177358523e-05, 0.00025042943889275193, 0.0009500653832219541, 0.000469314371002838, 0.0001896324538392946, 8.724948202143423e-06, 8.08470940683037e-06, 0.00036328635178506374, 0.00015630964480806142, 2.3367862013401464e-05, 0.0003043386968784034, 0.0003301417164038867, 0.0007216169615276158, 0.001094006234779954, 0.0005545837339013815, 0.001776352059096098, 0.07128521800041199, 0.0426480658352375, 0.0, 0.0, 0.0, 0.0, 0.0, 0.0, 0.0, 0.0, 0.0, 0.0, 0.0], [0.9333993196487427, 0.0010635555954650044, 7.315450056921691e-05, 3.027585262316279e-05, 0.00021011357603129, 8.5042578575667e-05, 5.347531259758398e-05, 5.856728876096895e-06, 1.8552018445916474e-05, 5.0298152928007767e-05, 0.002341500949114561, 0.00033842751872725785, 0.00010042908979812637, 8.907066512620077e-05, 9.576204320183024e-05, 1.1830138646473642e-05, 6.288187432801351e-05, 6.14956661593169e-05, 0.0010544141987338662, 0.00026706105563789606, 9.789667092263699e-05, 9.760223292687442e-06, 7.211844604171347e-06, 0.0005318581825122237, 0.0003889052022714168, 0.00016669038450345397, 0.00029493411420844495, 5.993995728204027e-05, 0.0002063327847281471, 0.00027125191991217434, 0.00013614140334539115, 0.0003797057142946869, 0.0017936292570084333, 0.05145888030529022, 0.004784400574862957, 0.0, 0.0, 0.0, 0.0, 0.0, 0.0, 0.0, 0.0, 0.0, 0.0], [0.7795986533164978, 0.0003271513560321182, 2.0832907466683537e-05, 2.6038021587737603e-06, 1.1341659046593122e-05, 9.942673204932362e-05, 1.0941609616565984e-05, 5.643556733048172e-07, 1.586286543897586e-06, 1.1290688206599953e-07, 2.594438410596922e-05, 0.0067686475813388824, 0.0007296581170521677, 0.0002285972295794636, 9.282141400035471e-05, 3.828388344118139e-06, 2.1681977159460075e-05, 1.3429095133687952e-06, 0.0005166464834474027, 0.00020190955547150224, 4.743562749354169e-05, 4.0755494410404935e-05, 1.8153672499465756e-05, 0.00011715187429217622, 7.317744893953204e-05, 4.5979606511536986e-05, 0.00013956926704850048, 0.00016853964189067483, 0.00022823907784186304, 5.488704118761234e-05, 1.390759825881105e-05, 3.4013413824141026e-05, 1.1665068996080663e-05, 0.0011004094267264009, 0.19543592631816864, 0.013805905357003212, 0.0, 0.0, 0.0, 0.0, 0.0, 0.0, 0.0, 0.0, 0.0], [0.7248687148094177, 0.003290317254140973, 7.592922338517383e-05, 1.69209797604708e-05, 2.1732686946052127e-05, 6.886009214213118e-05, 5.453508492792025e-05, 5.8086181525141e-05, 4.559315129881725e-05, 1.0475439012225252e-05, 5.0222352001583204e-05, 0.002267451724037528, 0.0026246418710798025, 0.00023153737129177898, 0.0013261912390589714, 0.00029352883575484157, 0.0008857989450916648, 9.763200796442106e-05, 0.0025317238178104162, 0.0012079180451110005, 0.0006150294211693108, 0.00019192286708857864, 5.2008963393745944e-05, 0.00030333103495649993, 0.00033927190816029906, 0.00019219834939576685, 0.0002991155779454857, 0.00023404067906085402, 0.0006435652612708509, 0.0025050994008779526, 0.0028444407507777214, 0.000661826110444963, 0.0013900856720283628, 0.0021481409203261137, 0.05782007426023483, 0.17235901951789856, 0.017373016104102135, 0.0, 0.0, 0.0, 0.0, 0.0, 0.0, 0.0, 0.0], [0.7306961417198181, 4.6123859647195786e-05, 1.0036445928562898e-05, 1.684966605353111e-06, 1.0871282938751392e-05, 4.5463810238288715e-05, 1.2272670574020594e-05, 6.613059326809889e-07, 4.4615062506636605e-06, 4.474789818686986e-07, 7.0808082455187105e-06, 4.5436067011905834e-05, 0.00022697547683492303, 0.00012425196473486722, 0.0001881057833088562, 3.6903118143527536e-06, 3.7951889680698514e-05, 1.982530420718831e-06, 0.0026600086130201817, 0.00010913473670370877, 0.0023447286803275347, 0.001114114187657833, 0.00013534390018321574, 3.8635593227809295e-05, 0.003089091507717967, 0.0005237563163973391, 0.0005354834138415754, 0.0004078912897966802, 0.0001919761416502297, 0.0025739974807947874, 0.0025193607434630394, 0.00026900999364443123, 0.0003167147224303335, 0.004825816955417395, 0.0037272218614816666, 0.0017437960486859083, 0.17575788497924805, 0.06565236300230026, 0.0, 0.0, 0.0, 0.0, 0.0, 0.0, 0.0], [0.5474761724472046, 2.4785078494460322e-05, 2.4218056751124095e-06, 3.100067829109321e-07, 5.6494077398383524e-06, 4.762666321767028e-06, 2.5578305212548003e-05, 1.941621832202145e-07, 3.3212388643732993e-06, 7.906288033154851e-07, 1.8129519958165474e-05, 2.569169009802863e-05, 0.00011381874355720356, 0.00010401464533060789, 0.0002350041613681242, 1.3880268170396448e-06, 2.2162792447488755e-05, 3.923192252841545e-06, 0.0002458130766171962, 0.00015435727254953235, 0.0003754897625185549, 0.00021313069737516344, 5.372921077650972e-05, 0.0001180392864625901, 0.00012615670857485384, 3.760810795938596e-05, 0.0006749170133844018, 0.0004123067483305931, 0.0009421796421520412, 0.010766337625682354, 0.0025357187259942293, 0.000571674492675811, 0.0018016581889241934, 0.008027199655771255, 0.0013155030319467187, 0.0018506321357563138, 0.023180430755019188, 0.37430301308631897, 0.0242259930819273, 0.0, 0.0, 0.0, 0.0, 0.0, 0.0], [0.8112910389900208, 0.00016534904716536403, 3.8354628486558795e-05, 3.2190728234127164e-05, 0.00018171108968090266, 0.0007401189068332314, 0.00026226331829093397, 3.1784074963070452e-06, 8.0683084888733e-06, 3.2862078569451114e-06, 5.9201767726335675e-05, 0.0003910828963853419, 0.0007462961948476732, 0.0001690062927082181, 0.0006650685099884868, 1.1091797205153853e-05, 4.050163261126727e-05, 1.0350215234211646e-05, 0.0002866224094759673, 0.0003949441306758672, 0.0005346623947843909, 0.0005746039096266031, 6.838155240984634e-05, 0.0004920177161693573, 0.0008739964105188847, 0.0006867977790534496, 0.0009268379071727395, 0.00021377787925302982, 0.0022726934403181076, 0.02457910031080246, 0.0011763778747990727, 0.0008705499349161983, 0.0004038862243760377, 0.00348405702970922, 0.006956521421670914, 0.005569742992520332, 0.010697935707867146, 0.03509467840194702, 0.06961342692375183, 0.019410235807299614, 0.0, 0.0, 0.0, 0.0, 0.0], [0.6079556345939636, 2.3515189241152257e-05, 8.640748774269014e-07, 5.831907401443459e-08, 6.2941157921159174e-06, 4.565401013678638e-06, 1.273779616894899e-06, 3.770277956505197e-08, 3.25583550875308e-06, 6.709796707582427e-06, 2.0225381376803853e-05, 3.462441236479208e-05, 0.00017362716607749462, 0.00032348837703466415, 1.934644387802109e-05, 3.727605815129209e-07, 1.8471493604010902e-05, 1.1793772500823252e-05, 0.0002565562608651817, 2.4403727366006933e-05, 1.0995857337547932e-05, 6.85474369674921e-05, 6.7682290136872325e-06, 2.8031449801346753e-06, 6.805799785070121e-05, 2.2546200852957554e-05, 0.004017198923975229, 0.003246653126552701, 0.00047405954683199525, 9.992225386667997e-05, 0.00020056325593031943, 0.00016367934586014599, 0.0001792205439414829, 0.0030012864153832197, 0.000927531742490828, 0.0016075224848464131, 0.0017530370969325304, 0.000743286102078855, 0.0008608507341705263, 0.3633812963962555, 0.01027902401983738, 0.0, 0.0, 0.0, 0.0], [0.4314536154270172, 0.00012851368228439242, 4.534405434242217e-06, 1.5821883607713971e-06, 3.0427278829847637e-07, 5.339392373571172e-06, 0.0019516126485541463, 7.964466203702614e-05, 1.197671167574299e-06, 4.443210688265253e-09, 8.23318544007634e-07, 2.9715516575379297e-05, 0.00010148405272047967, 4.413871579345141e-07, 0.004779566545039415, 0.00015437517140526325, 2.3893944671726786e-05, 6.274186858945541e-08, 3.3880143746500835e-05, 6.044934343663044e-05, 1.7906082575791515e-05, 6.262497481657192e-05, 4.22214980062563e-05, 8.880374480213504e-06, 2.163453245884739e-06, 2.5927765818778425e-06, 4.650616574508604e-06, 1.4959394320612773e-05, 4.1034520108951256e-05, 0.000625376938842237, 2.467135345796123e-05, 4.134862479077128e-07, 6.851320222267532e-08, 3.507981455186382e-05, 0.0005617777351289988, 0.001053561456501484, 0.0003373867948539555, 0.0002855431812349707, 0.00014143745647743344, 3.0174718631315045e-05, 0.5282648205757141, 0.02963164821267128, 0.0, 0.0, 0.0], [0.6846820116043091, 2.691416011657566e-05, 9.928809276971151e-07, 1.1831883739432669e-07, 2.6369552870164625e-06, 9.513117220194545e-06, 7.367987564066425e-05, 0.0002030608302447945, 8.471060573356226e-05, 7.85380689194426e-06, 5.873518603038974e-06, 5.723467893403722e-06, 4.554840415949002e-05, 4.662772880692501e-06, 0.0008209975785575807, 0.000861026463098824, 0.0006967712542973459, 3.918112633982673e-05, 0.0003325010184198618, 0.00011699866445269436, 5.4897391237318516e-05, 0.00013530830619856715, 6.641533400397748e-05, 2.1011544959037565e-05, 6.562533144460758e-06, 2.1467244550876785e-06, 3.2318032026523724e-05, 7.7325057645794e-05, 1.6342923117917962e-05, 3.5950746678281575e-05, 7.508938870159909e-05, 5.6323355238419026e-05, 4.169094972894527e-05, 0.00022341035946737975, 0.00019609236915130168, 0.0010594669729471207, 0.0006326601724140346, 8.665100176585838e-05, 2.590475014585536e-05, 0.00017839536303654313, 0.10655054450035095, 0.13141991198062897, 0.07098478078842163, 0.0, 0.0], [0.49490565061569214, 1.4999447557784151e-05, 5.365103561416618e-07, 2.3023861928095357e-08, 1.6531815845155506e-06, 2.40374356508255e-06, 1.7868983377411496e-06, 2.632718678796664e-05, 0.000761015631724149, 0.00032639323035255075, 4.2712177673820406e-05, 6.814495009166421e-06, 1.2776996300090104e-05, 3.099213017776492e-06, 1.837371200963389e-05, 0.00013390413369052112, 0.002791782608255744, 0.00042284978553652763, 0.00043965436634607613, 2.0880990632576868e-05, 8.691941729921382e-06, 1.846190389187541e-05, 1.2537492693809327e-05, 9.585547559254337e-06, 4.2837141336349305e-06, 6.375375960487872e-07, 5.551471986109391e-05, 0.0006979237659834325, 2.1799645764986053e-05, 1.0606972864479758e-06, 7.276500400621444e-05, 0.0003229776048101485, 0.00020069324818905443, 0.0012420129496604204, 0.0002078000397887081, 0.0002686015795916319, 0.0006224553217180073, 9.602570935385302e-05, 1.098667871701764e-05, 0.0010650106705725193, 0.007103316485881805, 0.020145198330283165, 0.3584083020687103, 0.10946977883577347, 0.0], [0.603040337562561, 4.0254210034618154e-05, 4.423478458193131e-06, 7.534876544923463e-07, 1.8087275748257525e-05, 2.752678483375348e-06, 1.0690958333725575e-05, 1.9755765606532805e-05, 0.00012038942804792896, 0.0013916174648329616, 0.00017815156024880707, 2.1583338821073994e-05, 1.909253296616953e-05, 8.945955414674245e-06, 0.00010043795919045806, 6.486141501227394e-05, 0.0008358500199392438, 0.002546844072639942, 0.001368302502669394, 0.0001977779611479491, 0.00029749039094895124, 8.062255801633e-05, 6.873295205878094e-05, 4.164945858065039e-05, 3.428203854127787e-05, 9.121989023697097e-06, 0.0001524738472653553, 0.0003708467702381313, 8.82323001860641e-05, 3.917495996574871e-05, 9.416855027666315e-05, 0.000191692408407107, 0.00680669816210866, 0.0013793392572551966, 0.00020038886577822268, 0.00020156340906396508, 0.00021834298968315125, 0.00021735893096774817, 3.0928942578611895e-05, 0.000339950347552076, 0.021737147122621536, 0.005075753200799227, 0.049517158418893814, 0.2909141182899475, 0.011901766993105412]], [[1.0, 0.0, 0.0, 0.0, 0.0, 0.0, 0.0, 0.0, 0.0, 0.0, 0.0, 0.0, 0.0, 0.0, 0.0, 0.0, 0.0, 0.0, 0.0, 0.0, 0.0, 0.0, 0.0, 0.0, 0.0, 0.0, 0.0, 0.0, 0.0, 0.0, 0.0, 0.0, 0.0, 0.0, 0.0, 0.0, 0.0, 0.0, 0.0, 0.0, 0.0, 0.0, 0.0, 0.0, 0.0], [0.9836134910583496, 0.016386454924941063, 0.0, 0.0, 0.0, 0.0, 0.0, 0.0, 0.0, 0.0, 0.0, 0.0, 0.0, 0.0, 0.0, 0.0, 0.0, 0.0, 0.0, 0.0, 0.0, 0.0, 0.0, 0.0, 0.0, 0.0, 0.0, 0.0, 0.0, 0.0, 0.0, 0.0, 0.0, 0.0, 0.0, 0.0, 0.0, 0.0, 0.0, 0.0, 0.0, 0.0, 0.0, 0.0, 0.0], [0.9436458945274353, 0.04443223029375076, 0.01192188635468483, 0.0, 0.0, 0.0, 0.0, 0.0, 0.0, 0.0, 0.0, 0.0, 0.0, 0.0, 0.0, 0.0, 0.0, 0.0, 0.0, 0.0, 0.0, 0.0, 0.0, 0.0, 0.0, 0.0, 0.0, 0.0, 0.0, 0.0, 0.0, 0.0, 0.0, 0.0, 0.0, 0.0, 0.0, 0.0, 0.0, 0.0, 0.0, 0.0, 0.0, 0.0, 0.0], [0.9423084855079651, 0.02416209876537323, 0.01174370851367712, 0.02178572118282318, 0.0, 0.0, 0.0, 0.0, 0.0, 0.0, 0.0, 0.0, 0.0, 0.0, 0.0, 0.0, 0.0, 0.0, 0.0, 0.0, 0.0, 0.0, 0.0, 0.0, 0.0, 0.0, 0.0, 0.0, 0.0, 0.0, 0.0, 0.0, 0.0, 0.0, 0.0, 0.0, 0.0, 0.0, 0.0, 0.0, 0.0, 0.0, 0.0, 0.0, 0.0], [0.8091655373573303, 0.014850909821689129, 0.020107531920075417, 0.08822843432426453, 0.06764761358499527, 0.0, 0.0, 0.0, 0.0, 0.0, 0.0, 0.0, 0.0, 0.0, 0.0, 0.0, 0.0, 0.0, 0.0, 0.0, 0.0, 0.0, 0.0, 0.0, 0.0, 0.0, 0.0, 0.0, 0.0, 0.0, 0.0, 0.0, 0.0, 0.0, 0.0, 0.0, 0.0, 0.0, 0.0, 0.0, 0.0, 0.0, 0.0, 0.0, 0.0], [0.530481219291687, 0.008084372617304325, 0.014935395680367947, 0.03970654681324959, 0.2934412658214569, 0.1133512482047081, 0.0, 0.0, 0.0, 0.0, 0.0, 0.0, 0.0, 0.0, 0.0, 0.0, 0.0, 0.0, 0.0, 0.0, 0.0, 0.0, 0.0, 0.0, 0.0, 0.0, 0.0, 0.0, 0.0, 0.0, 0.0, 0.0, 0.0, 0.0, 0.0, 0.0, 0.0, 0.0, 0.0, 0.0, 0.0, 0.0, 0.0, 0.0, 0.0], [0.9766941070556641, 0.0003130026161670685, 8.081694249995053e-05, 0.0001172132178908214, 0.008819560520350933, 0.00802290253341198, 0.005952425766736269, 0.0, 0.0, 0.0, 0.0, 0.0, 0.0, 0.0, 0.0, 0.0, 0.0, 0.0, 0.0, 0.0, 0.0, 0.0, 0.0, 0.0, 0.0, 0.0, 0.0, 0.0, 0.0, 0.0, 0.0, 0.0, 0.0, 0.0, 0.0, 0.0, 0.0, 0.0, 0.0, 0.0, 0.0, 0.0, 0.0, 0.0, 0.0], [0.9899242520332336, 0.0001262618461623788, 0.00015313013864215463, 0.0002520364068914205, 0.0007157943909987807, 0.0013241962296888232, 0.005037000868469477, 0.0024673223961144686, 0.0, 0.0, 0.0, 0.0, 0.0, 0.0, 0.0, 0.0, 0.0, 0.0, 0.0, 0.0, 0.0, 0.0, 0.0, 0.0, 0.0, 0.0, 0.0, 0.0, 0.0, 0.0, 0.0, 0.0, 0.0, 0.0, 0.0, 0.0, 0.0, 0.0, 0.0, 0.0, 0.0, 0.0, 0.0, 0.0, 0.0], [0.9202073216438293, 0.0006959133897908032, 0.0005454402999021113, 0.0014911857433617115, 0.005172960925847292, 0.011575467884540558, 0.02260596491396427, 0.019916998222470284, 0.01778877153992653, 0.0, 0.0, 0.0, 0.0, 0.0, 0.0, 0.0, 0.0, 0.0, 0.0, 0.0, 0.0, 0.0, 0.0, 0.0, 0.0, 0.0, 0.0, 0.0, 0.0, 0.0, 0.0, 0.0, 0.0, 0.0, 0.0, 0.0, 0.0, 0.0, 0.0, 0.0, 0.0, 0.0, 0.0, 0.0, 0.0], [0.8466988801956177, 0.0006840131245553493, 0.0004648419562727213, 0.002554874634370208, 0.009382899850606918, 0.027685828506946564, 0.010382809676229954, 0.036931537091732025, 0.05827781558036804, 0.006936579942703247, 0.0, 0.0, 0.0, 0.0, 0.0, 0.0, 0.0, 0.0, 0.0, 0.0, 0.0, 0.0, 0.0, 0.0, 0.0, 0.0, 0.0, 0.0, 0.0, 0.0, 0.0, 0.0, 0.0, 0.0, 0.0, 0.0, 0.0, 0.0, 0.0, 0.0, 0.0, 0.0, 0.0, 0.0, 0.0], [0.5601096153259277, 0.012107502669095993, 0.007110391277819872, 0.018970923498272896, 0.12997962534427643, 0.2067774087190628, 0.00483158091083169, 0.021061621606349945, 0.01980745419859886, 0.009246330708265305, 0.009997624903917313, 0.0, 0.0, 0.0, 0.0, 0.0, 0.0, 0.0, 0.0, 0.0, 0.0, 0.0, 0.0, 0.0, 0.0, 0.0, 0.0, 0.0, 0.0, 0.0, 0.0, 0.0, 0.0, 0.0, 0.0, 0.0, 0.0, 0.0, 0.0, 0.0, 0.0, 0.0, 0.0, 0.0, 0.0], [0.8254096508026123, 0.006559510715305805, 0.0009711136808618903, 0.0038745577912777662, 0.020947955548763275, 0.04543621093034744, 0.0035184642765671015, 0.018530020490288734, 0.01952032372355461, 0.007785549387335777, 0.013322483748197556, 0.03412424027919769, 0.0, 0.0, 0.0, 0.0, 0.0, 0.0, 0.0, 0.0, 0.0, 0.0, 0.0, 0.0, 0.0, 0.0, 0.0, 0.0, 0.0, 0.0, 0.0, 0.0, 0.0, 0.0, 0.0, 0.0, 0.0, 0.0, 0.0, 0.0, 0.0, 0.0, 0.0, 0.0, 0.0], [0.84464031457901, 0.0006650960422120988, 0.00021371284674387425, 0.0002686676161829382, 0.008332536555826664, 0.009778326377272606, 0.0012327346485108137, 0.0018866657046601176, 0.02617132104933262, 0.0035640348214656115, 0.007979515939950943, 0.08257786929607391, 0.012689254246652126, 0.0, 0.0, 0.0, 0.0, 0.0, 0.0, 0.0, 0.0, 0.0, 0.0, 0.0, 0.0, 0.0, 0.0, 0.0, 0.0, 0.0, 0.0, 0.0, 0.0, 0.0, 0.0, 0.0, 0.0, 0.0, 0.0, 0.0, 0.0, 0.0, 0.0, 0.0, 0.0], [0.7939547300338745, 0.0008461467223241925, 0.00036479480331763625, 0.0005549549241550267, 0.004248087760061026, 0.015539548359811306, 0.00021258353081066161, 0.000426409620558843, 0.001467726193368435, 0.00040760665433481336, 0.002243346767500043, 0.06520754843950272, 0.06642606109380722, 0.04810045659542084, 0.0, 0.0, 0.0, 0.0, 0.0, 0.0, 0.0, 0.0, 0.0, 0.0, 0.0, 0.0, 0.0, 0.0, 0.0, 0.0, 0.0, 0.0, 0.0, 0.0, 0.0, 0.0, 0.0, 0.0, 0.0, 0.0, 0.0, 0.0, 0.0, 0.0, 0.0], [0.9299646019935608, 7.825368084013462e-05, 7.164188718888909e-05, 3.881281372741796e-05, 0.0010815171990543604, 0.0021563491318374872, 0.00043791471398435533, 0.0013312363298609853, 0.00989606138318777, 0.00092503143241629, 0.013496140018105507, 0.016976874321699142, 0.007476722821593285, 0.012296076864004135, 0.0037727246526628733, 0.0, 0.0, 0.0, 0.0, 0.0, 0.0, 0.0, 0.0, 0.0, 0.0, 0.0, 0.0, 0.0, 0.0, 0.0, 0.0, 0.0, 0.0, 0.0, 0.0, 0.0, 0.0, 0.0, 0.0, 0.0, 0.0, 0.0, 0.0, 0.0, 0.0], [0.9320906400680542, 0.00013764006143901497, 0.0002059454855043441, 0.00014269861276261508, 0.0005070008337497711, 0.0024239683989435434, 0.001522872131317854, 0.001577528310008347, 0.000651288079097867, 0.0001055704487953335, 0.007201037369668484, 0.010311278514564037, 0.011837920174002647, 0.011737991124391556, 0.012073616497218609, 0.0074729700572788715, 0.0, 0.0, 0.0, 0.0, 0.0, 0.0, 0.0, 0.0, 0.0, 0.0, 0.0, 0.0, 0.0, 0.0, 0.0, 0.0, 0.0, 0.0, 0.0, 0.0, 0.0, 0.0, 0.0, 0.0, 0.0, 0.0, 0.0, 0.0, 0.0], [0.8145480155944824, 0.00022281087876763195, 0.0005160525324754417, 0.0004183754790574312, 0.0019875874277204275, 0.007237015292048454, 0.002652933355420828, 0.003881096374243498, 0.003371170489117503, 0.0003506380307953805, 0.006345781497657299, 0.023706935346126556, 0.05733518674969673, 0.03940536826848984, 0.01754717156291008, 0.010889788158237934, 0.009584051556885242, 0.0, 0.0, 0.0, 0.0, 0.0, 0.0, 0.0, 0.0, 0.0, 0.0, 0.0, 0.0, 0.0, 0.0, 0.0, 0.0, 0.0, 0.0, 0.0, 0.0, 0.0, 0.0, 0.0, 0.0, 0.0, 0.0, 0.0, 0.0], [0.799528956413269, 0.00017670077795628458, 0.0002648674708325416, 0.00046930141979828477, 0.0026104124262928963, 0.01123112067580223, 0.001507019973360002, 0.005868834443390369, 0.007640396244823933, 0.000943013234063983, 0.010087049566209316, 0.006658380385488272, 0.049597594887018204, 0.036853186786174774, 0.015529243275523186, 0.019528942182660103, 0.021611927077174187, 0.009893042966723442, 0.0, 0.0, 0.0, 0.0, 0.0, 0.0, 0.0, 0.0, 0.0, 0.0, 0.0, 0.0, 0.0, 0.0, 0.0, 0.0, 0.0, 0.0, 0.0, 0.0, 0.0, 0.0, 0.0, 0.0, 0.0, 0.0, 0.0], [0.8623344898223877, 0.00027704870444722474, 0.0003747478185687214, 0.0005020101671107113, 0.005707194097340107, 0.009638981893658638, 0.00043878276483155787, 0.0013939249329268932, 0.001764719607308507, 0.0002609807124827057, 0.003291037166491151, 0.026672419160604477, 0.03983499854803085, 0.017437905073165894, 0.0015099459560588002, 0.0022415374405682087, 0.0036833484191447496, 0.0012525927741080523, 0.021383311599493027, 0.0, 0.0, 0.0, 0.0, 0.0, 0.0, 0.0, 0.0, 0.0, 0.0, 0.0, 0.0, 0.0, 0.0, 0.0, 0.0, 0.0, 0.0, 0.0, 0.0, 0.0, 0.0, 0.0, 0.0, 0.0, 0.0], [0.6904638409614563, 0.0004282636509742588, 0.00017508570454083383, 0.00016374830738641322, 0.0008851887541823089, 0.004618951119482517, 0.0010064600501209497, 0.004206250421702862, 0.0022072484716773033, 0.00019545003306120634, 0.004523596726357937, 0.028238529339432716, 0.01910039782524109, 0.02018509991466999, 0.004317347891628742, 0.003106759861111641, 0.004195507615804672, 0.0009568128152750432, 0.11381202191114426, 0.09721344709396362, 0.0, 0.0, 0.0, 0.0, 0.0, 0.0, 0.0, 0.0, 0.0, 0.0, 0.0, 0.0, 0.0, 0.0, 0.0, 0.0, 0.0, 0.0, 0.0, 0.0, 0.0, 0.0, 0.0, 0.0, 0.0], [0.6190599203109741, 0.0003256275085732341, 0.0003963137569371611, 0.0002624492335598916, 0.0011120905401185155, 0.004111179616302252, 0.0009842987637966871, 0.003521962324157357, 0.001157558523118496, 7.278568955371156e-05, 0.006614918354898691, 0.031098660081624985, 0.00916949100792408, 0.00478820176795125, 0.0028557046316564083, 0.0031059817411005497, 0.001871024607680738, 0.0004260126152075827, 0.0510893277823925, 0.2131945639848709, 0.044781964272260666, 0.0, 0.0, 0.0, 0.0, 0.0, 0.0, 0.0, 0.0, 0.0, 0.0, 0.0, 0.0, 0.0, 0.0, 0.0, 0.0, 0.0, 0.0, 0.0, 0.0, 0.0, 0.0, 0.0, 0.0], [0.6991725564002991, 5.121791400597431e-05, 0.0001504172687418759, 0.00013647536979988217, 0.0005057802191004157, 0.002950606169179082, 0.0010081318905577064, 0.0005942690768279135, 0.0030767375137656927, 0.0012000651331618428, 0.0028428819496184587, 0.001154162921011448, 0.0024856929667294025, 0.0006484317127615213, 0.004141249228268862, 0.00296885147690773, 0.009742523543536663, 0.004223034717142582, 0.028678929433226585, 0.0837685689330101, 0.13719414174556732, 0.013305303640663624, 0.0, 0.0, 0.0, 0.0, 0.0, 0.0, 0.0, 0.0, 0.0, 0.0, 0.0, 0.0, 0.0, 0.0, 0.0, 0.0, 0.0, 0.0, 0.0, 0.0, 0.0, 0.0, 0.0], [0.6320945024490356, 4.2716168536571786e-05, 0.00016257473907899112, 0.0002106607862515375, 0.0011838041245937347, 0.0037233002949506044, 0.0006053053075447679, 0.0007837200537323952, 0.003192241070792079, 0.0020968597382307053, 0.0024237046018242836, 0.0005465589347295463, 0.001723428606055677, 0.0006121210753917694, 0.0016355389961972833, 0.002386472187936306, 0.007794383447617292, 0.0038319057784974575, 0.0194608885794878, 0.053586918860673904, 0.23491032421588898, 0.00747761782258749, 0.01951446197926998, 0.0, 0.0, 0.0, 0.0, 0.0, 0.0, 0.0, 0.0, 0.0, 0.0, 0.0, 0.0, 0.0, 0.0, 0.0, 0.0, 0.0, 0.0, 0.0, 0.0, 0.0, 0.0], [0.8135302066802979, 0.00024018395924940705, 0.0001520223740953952, 0.0002069859765470028, 0.0013476010644808412, 0.003433997742831707, 9.235513425664976e-05, 0.00013254961231723428, 0.00040395502583123744, 0.00010028622637037188, 0.0011820216896012425, 0.0016191736795008183, 0.004061629064381123, 0.0012746108695864677, 0.0004053609154652804, 0.0003086836077272892, 0.0006526773213408887, 0.0003431304940022528, 0.014090227894484997, 0.02152257226407528, 0.016218597069382668, 0.0715697705745697, 0.029884934425354004, 0.017226552590727806, 0.0, 0.0, 0.0, 0.0, 0.0, 0.0, 0.0, 0.0, 0.0, 0.0, 0.0, 0.0, 0.0, 0.0, 0.0, 0.0, 0.0, 0.0, 0.0, 0.0, 0.0], [0.8637862801551819, 0.00014865906268823892, 0.0001262809819309041, 6.431479414459318e-05, 0.0006810055929236114, 0.001426303875632584, 8.237150905188173e-05, 0.0003047510690521449, 0.00048180195153690875, 5.089461410534568e-05, 0.0011894857743754983, 0.0028005067724734545, 0.00117587111890316, 0.0032480796799063683, 0.0005733334692195058, 0.0010021921480074525, 0.0014135141391307116, 0.0002923141873907298, 0.009106597863137722, 0.03778999298810959, 0.005603843368589878, 0.009528500027954578, 0.005519786849617958, 0.023773284628987312, 0.029830047860741615, 0.0, 0.0, 0.0, 0.0, 0.0, 0.0, 0.0, 0.0, 0.0, 0.0, 0.0, 0.0, 0.0, 0.0, 0.0, 0.0, 0.0, 0.0, 0.0, 0.0], [0.7092651128768921, 3.135719816782512e-05, 3.120321343885735e-05, 8.41564451548038e-06, 6.438117998186499e-05, 9.10244561964646e-05, 0.00013026283704675734, 9.97762253973633e-05, 0.0004903047229163349, 1.2965399037057068e-05, 0.0003932593681383878, 0.0013704121811315417, 0.0007044394151307642, 0.0004836308362428099, 0.0007153815822675824, 0.00042266727541573346, 0.001368560129776597, 9.283647523261607e-05, 0.0037945108488202095, 0.005083397030830383, 0.01991099864244461, 0.003414294682443142, 0.0008779675699770451, 0.007681950461119413, 0.22925028204917908, 0.014210669323801994, 0.0, 0.0, 0.0, 0.0, 0.0, 0.0, 0.0, 0.0, 0.0, 0.0, 0.0, 0.0, 0.0, 0.0, 0.0, 0.0, 0.0, 0.0, 0.0], [0.8301345109939575, 4.4736250856658444e-05, 2.7539843358681537e-05, 4.5353117457125336e-05, 4.6098393795546144e-05, 0.00023790249542798847, 0.00012558298476506025, 8.600831642979756e-05, 0.0002860797103494406, 6.466998456744477e-05, 0.0004822933697141707, 0.0016507304972037673, 0.0003613967855926603, 0.000931526708882302, 0.0005846905987709761, 0.0004408072854857892, 0.00127403496298939, 0.0002745764213614166, 0.0021629859693348408, 0.0018141773762181401, 0.011620578356087208, 0.001630319282412529, 0.001016403315588832, 0.010232005268335342, 0.07867538183927536, 0.03611183166503906, 0.019637808203697205, 0.0, 0.0, 0.0, 0.0, 0.0, 0.0, 0.0, 0.0, 0.0, 0.0, 0.0, 0.0, 0.0, 0.0, 0.0, 0.0, 0.0, 0.0], [0.5060274600982666, 0.00012880118447355926, 6.214451423147693e-05, 0.00015480599540751427, 0.00021868151088710874, 0.00045029399916529655, 0.00010833316628122702, 8.882700785761699e-05, 0.0008762522484175861, 0.0004133233742322773, 0.00048286785022355616, 0.0010620586108416319, 0.0005403801333159208, 0.00026028824504464865, 0.0003923737967852503, 0.00030960296862758696, 0.0012776879593729973, 0.0009209284908138216, 0.0015365058789029717, 0.003917125519365072, 0.002606351627036929, 0.0024860920384526253, 0.021356429904699326, 0.015895266085863113, 0.026304885745048523, 0.032083675265312195, 0.07991836220026016, 0.30012014508247375, 0.0, 0.0, 0.0, 0.0, 0.0, 0.0, 0.0, 0.0, 0.0, 0.0, 0.0, 0.0, 0.0, 0.0, 0.0, 0.0, 0.0], [0.02011798322200775, 5.037431492382893e-06, 3.240765408918378e-06, 9.184310329146683e-06, 1.5531666122114984e-06, 7.616660241183126e-06, 3.97290341425105e-06, 5.2889490689267404e-06, 2.7476191462483257e-05, 1.0865887816180475e-05, 8.281161717604846e-05, 2.7420304832048714e-05, 3.245431071263738e-05, 1.082207108993316e-05, 4.5709548430750147e-05, 2.5153816750389524e-05, 8.506748417858034e-05, 5.0545895646791905e-05, 0.0004885278176516294, 0.0017966055311262608, 0.001315398490987718, 0.0005350364954210818, 0.00030571813113056123, 0.00048547712503932416, 0.0037051052786409855, 0.00814616959542036, 0.02340761572122574, 0.9276303052902222, 0.011631961911916733, 0.0, 0.0, 0.0, 0.0, 0.0, 0.0, 0.0, 0.0, 0.0, 0.0, 0.0, 0.0, 0.0, 0.0, 0.0, 0.0], [0.8177076578140259, 2.785840115393512e-05, 7.0760379458079115e-06, 1.2743842489726376e-05, 2.660499194462318e-05, 9.323332778876647e-05, 0.00019398554286453873, 3.76957978005521e-05, 0.0008344790549017489, 0.00015119716408662498, 0.00048442467232234776, 0.00014416441263165325, 0.0002014099300140515, 0.0003907981445081532, 0.0012730385642498732, 0.00035793165443465114, 0.0015347576700150967, 0.0007430299883708358, 0.0005132632795721292, 0.002808945020660758, 0.0017736636800691485, 0.0018794186180457473, 0.0005820213700644672, 0.0028240440879017115, 0.0054414295591413975, 0.007966004312038422, 0.025238588452339172, 0.07379616796970367, 0.031237224116921425, 0.02171696349978447, 0.0, 0.0, 0.0, 0.0, 0.0, 0.0, 0.0, 0.0, 0.0, 0.0, 0.0, 0.0, 0.0, 0.0, 0.0], [0.9729326963424683, 3.149126860080287e-05, 1.1139496564283036e-05, 1.602619704499375e-05, 5.037069968238939e-06, 1.6501526260981336e-05, 3.7850517401238903e-05, 5.739565494877752e-06, 7.832374103600159e-05, 2.690517794690095e-05, 9.686811245046556e-05, 0.0002207549405284226, 0.000143509401823394, 0.0003398265689611435, 0.0001736035046633333, 4.3771819036919624e-05, 0.00011473899940028787, 0.00010286236647516489, 0.00034448844962753356, 0.0006300440290942788, 0.0010808949591591954, 0.00044604865252040327, 0.00013951589062344283, 0.00036232732236385345, 0.0009736961219459772, 0.0027883080765604973, 0.003294615540653467, 0.0020774679724127054, 0.004023861605674028, 0.007188179064542055, 0.0022529889829456806, 0.0, 0.0, 0.0, 0.0, 0.0, 0.0, 0.0, 0.0, 0.0, 0.0, 0.0, 0.0, 0.0, 0.0], [0.8938168883323669, 4.799178896064404e-06, 6.209864295669831e-06, 1.6472566130687483e-05, 7.615100912516937e-05, 0.0001288708735955879, 0.00019725905440282077, 1.8377562810201198e-05, 9.139403118751943e-05, 3.3490236091893166e-05, 9.479569416726008e-05, 1.5860165149206296e-05, 0.000582246168050915, 0.0004928357084281743, 0.0008605368784628808, 8.815872570266947e-05, 0.00013947425759397447, 0.00012922594032716006, 0.0003571096167434007, 0.005286223255097866, 0.0006233741296455264, 0.006223361473530531, 0.0006890495424158871, 0.00028678312082774937, 0.0006126353982836008, 0.0030046547763049603, 0.01908152550458908, 0.0035954390186816454, 0.0165497325360775, 0.023276153951883316, 0.01994427479803562, 0.0036767206620424986, 0.0, 0.0, 0.0, 0.0, 0.0, 0.0, 0.0, 0.0, 0.0, 0.0, 0.0, 0.0, 0.0], [0.8611639142036438, 1.7097034287871793e-05, 2.4304176804434974e-06, 8.292950951727107e-06, 4.870572865911527e-06, 5.970400161459111e-05, 0.00019215684733353555, 0.00018325595010537654, 0.00021129193191882223, 4.750250081997365e-05, 0.00023721868637949228, 8.686524961376563e-05, 0.0006651284638792276, 0.001044061966240406, 0.0009399348637089133, 0.0005433509359136224, 0.0003104174684267491, 0.00017100207332987338, 0.0006453270907513797, 0.000990784727036953, 0.006445521023124456, 0.0027571648824959993, 0.0002611815871205181, 0.0017356978496536613, 0.0018916222034022212, 0.003819897538051009, 0.011682678014039993, 0.003967328928411007, 0.011282463558018208, 0.029627174139022827, 0.024755563586950302, 0.02115965634584427, 0.013089308515191078, 0.0, 0.0, 0.0, 0.0, 0.0, 0.0, 0.0, 0.0, 0.0, 0.0, 0.0, 0.0], [0.7465145587921143, 0.001593260676600039, 0.0005496914382092655, 0.0010251539060845971, 0.003047117032110691, 0.008830572478473186, 0.0007760653970763087, 0.00022236404765862972, 0.00035521137760952115, 0.00024322896206285805, 0.00030806075665168464, 0.0033073776867240667, 0.005657891742885113, 0.0011092455824837089, 0.002609681338071823, 0.000375177274690941, 0.000588709837757051, 0.0006088720983825624, 0.002461283467710018, 0.013655337505042553, 0.010280308313667774, 0.021996572613716125, 0.02333143912255764, 0.018907850608229637, 0.012689566239714622, 0.006252727936953306, 0.013850346207618713, 0.02820543758571148, 0.04199652746319771, 0.00625043548643589, 0.0015791944460943341, 0.004528467543423176, 0.009073249995708466, 0.0072190179489552975, 0.0, 0.0, 0.0, 0.0, 0.0, 0.0, 0.0, 0.0, 0.0, 0.0, 0.0], [0.8859268426895142, 0.0013108722632750869, 0.00017160810239147395, 0.0004823243652936071, 0.0021618998143821955, 0.0048002745024859905, 0.00014427289715968072, 0.00038179816328920424, 0.00032688092323951423, 0.00015223788795992732, 0.0006089898524805903, 0.002207236597314477, 0.0008392214658670127, 0.006168872117996216, 0.0004281327419448644, 0.00043677803478203714, 0.00039830771856941283, 0.00016525786486454308, 0.002234160201624036, 0.0014876441564410925, 0.002113776048645377, 0.0022077395115047693, 0.003731959732249379, 0.0015281470259651542, 0.0018134653801098466, 0.0006275906343944371, 0.0010860642651095986, 0.0008809748105704784, 0.003184458240866661, 0.00017124581790994853, 0.0006428762571886182, 0.00015733054897282273, 0.000977729563601315, 0.00761636346578598, 0.0624268501996994, 0.0, 0.0, 0.0, 0.0, 0.0, 0.0, 0.0, 0.0, 0.0, 0.0], [0.7357171773910522, 6.659161590505391e-05, 3.4000542655121535e-05, 3.83399601560086e-05, 0.0017340905033051968, 0.0025183549150824547, 7.386367360595614e-05, 7.332738459808752e-05, 0.0001732147647999227, 2.9607281248900108e-05, 0.0006170967244543135, 0.0067994967103004456, 0.0021228548139333725, 0.008098154328763485, 0.000383789767511189, 0.00016267257160507143, 0.0003761565312743187, 0.00010273495718138292, 0.006382116582244635, 0.00279473839327693, 0.0012896490516141057, 0.01666940376162529, 0.0037998852785676718, 0.0022147344425320625, 0.0061214701272547245, 0.0007159594097174704, 0.009764568880200386, 0.007275022566318512, 0.00978174153715372, 0.0005022935220040381, 0.000521588372066617, 0.00041910557774826884, 0.00041079832590185106, 0.00943625159561634, 0.15473610162734985, 0.008042972534894943, 0.0, 0.0, 0.0, 0.0, 0.0, 0.0, 0.0, 0.0, 0.0], [0.704267680644989, 0.00011514480138430372, 2.5826951969065703e-05, 5.915322253713384e-05, 0.0010264061857014894, 0.001126595539972186, 5.724350194213912e-05, 3.394218583707698e-05, 0.00014819287753198296, 2.5822393581620418e-05, 6.0020945966243744e-05, 0.007291850168257952, 0.0045969788916409016, 0.009324436075985432, 0.000529650948010385, 0.0001519524521427229, 0.0005652980762533844, 0.00015636143507435918, 0.0008215087000280619, 0.004402178805321455, 0.00014586113684345037, 0.004895495716482401, 0.002490885555744171, 0.006188531406223774, 0.0011768568074330688, 0.0007167954463511705, 0.02139268070459366, 0.010312727652490139, 0.003896242706105113, 0.00016708698240108788, 0.00011900808749487624, 0.0003916728892363608, 0.0008051844779402018, 0.0027450600173324347, 0.1615353524684906, 0.03208763152360916, 0.016146596521139145, 0.0, 0.0, 0.0, 0.0, 0.0, 0.0, 0.0, 0.0], [0.5342450141906738, 6.198992923600599e-05, 8.79935578268487e-06, 9.973943633667659e-06, 0.00016967942065093666, 0.00017568310431670398, 3.926949284505099e-05, 9.108180165640078e-06, 3.597960312617943e-05, 1.2515618436736986e-05, 0.00015342918050009757, 0.000945423380471766, 0.0002731288259383291, 0.00026757223531603813, 0.00035945186391472816, 2.8746180760208517e-05, 0.00018597458256408572, 5.36040315637365e-05, 0.005400988273322582, 0.0009031997178681195, 0.0027989016380161047, 0.002453301101922989, 0.0009494658443145454, 0.0017971462802961469, 0.006697144825011492, 0.0005418849759735167, 0.012961828149855137, 0.026527928188443184, 0.0009794897632673383, 0.0004504881799221039, 0.0004904707311652601, 0.0016537877963855863, 0.0016769899521023035, 0.007659021764993668, 0.05310222506523132, 0.004178565926849842, 0.28088539838790894, 0.050856370478868484, 0.0, 0.0, 0.0, 0.0, 0.0, 0.0, 0.0], [0.3696773052215576, 4.0774171793600544e-05, 1.1042111509595998e-05, 1.0771354027383495e-05, 0.00028840129380114377, 0.000229284429224208, 9.035350376507267e-05, 2.668916931725107e-05, 0.0001698047562967986, 2.7316587875247933e-05, 0.00011122576688649133, 0.00040555678424425423, 9.662531374488026e-05, 0.0006946197245270014, 0.0010492581641301513, 8.925811562221497e-05, 0.0004975489573553205, 7.801366882631555e-05, 0.002633973490446806, 0.0009702279348857701, 0.0009040833101607859, 0.001046396209858358, 0.0009524626075290143, 0.001332565676420927, 0.009875287301838398, 0.000601955340243876, 0.01241717766970396, 0.0627378299832344, 0.001667315373197198, 0.0007012306596152484, 0.003114393912255764, 0.00473641837015748, 0.0016005014767870307, 0.007869132794439793, 0.019598238170146942, 0.0024349065497517586, 0.449016273021698, 0.030491724610328674, 0.011704004369676113, 0.0, 0.0, 0.0, 0.0, 0.0, 0.0], [0.7643406987190247, 6.445847247960046e-05, 1.4401362932403572e-05, 3.473035030765459e-05, 0.00016455291188322008, 0.0007099434733390808, 4.896628888673149e-05, 5.070300176157616e-05, 0.0001548450527479872, 7.943800301291049e-05, 0.00015756905486341566, 0.0005952698993496597, 0.0001628768804948777, 0.0005460595129989088, 0.00018201375496573746, 8.756892202654853e-05, 0.00022434476704802364, 0.00013788552314508706, 0.0009524846100248396, 0.0015278913779184222, 0.002850024029612541, 0.0022602842655032873, 0.001831903588026762, 0.0028811960946768522, 0.016978157684206963, 0.0030718031339347363, 0.005198262166231871, 0.01858089305460453, 0.00994733814150095, 0.0008505156147293746, 0.0011223229812458158, 0.001669358811341226, 0.0018507253844290972, 0.003986003343015909, 0.017764335498213768, 0.0037067546509206295, 0.05540447682142258, 0.03920885920524597, 0.02037603221833706, 0.020224012434482574, 0.0, 0.0, 0.0, 0.0, 0.0], [0.8976958990097046, 2.8626129278563894e-05, 2.6636773327481933e-05, 7.536023531429237e-06, 0.00010700256825657561, 0.00020770168339367956, 8.590115612605587e-06, 5.5021821026457474e-05, 0.00020734405552502722, 5.167210110812448e-05, 0.0011404728284105659, 0.0006291926256380975, 7.486828690161929e-05, 0.00017778090841602534, 4.107031782041304e-05, 0.00018490572983864695, 0.00020299904281273484, 0.00012380701082292944, 0.003522390965372324, 0.0017497410299256444, 0.0010665684239938855, 0.0006545959622599185, 0.00012525446072686464, 0.0009093626285903156, 0.0006009253556840122, 0.00016597777721472085, 0.0024505527690052986, 0.0010513585293665528, 0.00045257603051140904, 0.0019017945742234588, 0.002941985847428441, 0.001985884038731456, 0.0016028115060180426, 0.014806988649070263, 0.013668392784893513, 0.01056873518973589, 0.004424063954502344, 0.005290138069540262, 0.004157202318310738, 0.021223368123173714, 0.003708264557644725, 0.0, 0.0, 0.0, 0.0], [0.8754703402519226, 2.0011266315123066e-05, 1.5730978702777065e-05, 7.128047855076147e-06, 3.6427816667128354e-05, 0.0001146258000517264, 3.2226351322606206e-05, 4.583023473969661e-05, 1.0809155355673283e-05, 2.0316736026870785e-06, 0.00018510442168917507, 0.00018190160335507244, 0.0001661661226535216, 0.000123701523989439, 0.00011805223766714334, 8.540114504285157e-05, 1.7804381059249863e-05, 1.0950347132165916e-05, 0.002302351640537381, 0.0008140424615703523, 0.0008403268293477595, 0.000725233752746135, 7.093764725141227e-05, 0.00012155233707744628, 0.0009184755617752671, 0.00016634225903544575, 0.0005183061002753675, 0.00017385750834364444, 0.0005801105871796608, 0.002232822822406888, 0.0008184765465557575, 0.00012660857464652508, 0.00010274069791194052, 0.007445941213518381, 0.008805382996797562, 0.0021927517373114824, 0.025058556348085403, 0.013509861193597317, 0.0073202368803322315, 0.01486265566200018, 0.02051820047199726, 0.013129963539540768, 0.0, 0.0, 0.0], [0.8905686140060425, 1.8054093743558042e-05, 2.77375820587622e-05, 1.0982332241837867e-05, 7.175779319368303e-05, 0.0002145837206626311, 1.933691783051472e-05, 0.0001149844320025295, 2.794087049551308e-05, 3.961572929256363e-06, 0.0001274150999961421, 0.00023416546173393726, 0.00047263698070310056, 0.0003039321454707533, 6.465290789492428e-05, 9.444192255614325e-05, 2.7098374630440958e-05, 1.5356423318735324e-05, 0.001330526894889772, 0.0004006463859695941, 0.000276201288215816, 0.0012817101087421179, 0.00018814700888469815, 0.00022716754756402224, 0.0018187916139140725, 0.0003627451660577208, 0.0013143280521035194, 0.00042962588486261666, 0.0006268156575970352, 0.0008636301499791443, 0.0006466145277954638, 0.0003905790508724749, 0.00017205640324391425, 0.006143256090581417, 0.013867932371795177, 0.0037092447746545076, 0.017180783674120903, 0.0055620926432311535, 0.003916843328624964, 0.008553148247301579, 0.011282137595117092, 0.01900448650121689, 0.008032743819057941, 0.0, 0.0], [0.7923715710639954, 1.2015638276352547e-05, 1.7858810679172166e-05, 1.2259195500519127e-05, 0.00017615796241443604, 0.0005376212648116052, 1.2831020285375416e-05, 0.0001815892173908651, 5.6641900300746784e-05, 7.439975433953805e-06, 0.0002141385048162192, 7.02730321791023e-05, 0.0002720459597185254, 0.00024769228184595704, 6.986121297813952e-05, 0.00015788649034220725, 6.143086648080498e-05, 2.757995571300853e-05, 0.002302854787558317, 0.000865242735017091, 0.00043332454515621066, 0.0010428179521113634, 0.0003631172876339406, 0.0003420868015382439, 0.007113669998943806, 0.0008847280405461788, 0.0030956279952079058, 0.003414344508200884, 0.001167826121672988, 0.0005238798912614584, 0.0007266672910191119, 0.000805809919256717, 0.00014969064795877784, 0.00866528507322073, 0.004460449330508709, 0.0033610945101827383, 0.03518779203295708, 0.01310087088495493, 0.005194135941565037, 0.026654072105884552, 0.013430749997496605, 0.034794699400663376, 0.021785832941532135, 0.015626534819602966, 0.0], [0.9002236723899841, 1.783344487193972e-05, 2.2526568500325084e-05, 1.972023892449215e-05, 0.00021289206051733345, 0.00039333163294941187, 6.973162726353621e-06, 1.1010341950168367e-05, 6.456385744968429e-05, 1.4083301721257158e-05, 6.471285450970754e-05, 0.0002885494031943381, 0.00020599110575858504, 0.00039140266017057, 2.523471812310163e-05, 2.281674460391514e-05, 7.537576311733574e-05, 2.5352601369377226e-05, 7.602253026561812e-05, 0.00038458267226815224, 1.3273637705424335e-05, 0.00015291951422113925, 0.00020993195357732475, 0.0002276042359881103, 0.0001845078804763034, 0.00011501830886118114, 0.0013031212147325277, 0.0014923627022653818, 0.0012289205333217978, 5.2411764045245945e-05, 0.000156321533722803, 4.280580469639972e-05, 0.00023701968893874437, 0.002195929177105427, 0.007033610716462135, 0.0012038472341373563, 0.001375042600557208, 0.004502798896282911, 0.0005333279259502888, 0.004871763288974762, 0.0019031353294849396, 0.0020817641634494066, 0.007185813970863819, 0.0036946511827409267, 0.05545545741915703]], [[1.0, 0.0, 0.0, 0.0, 0.0, 0.0, 0.0, 0.0, 0.0, 0.0, 0.0, 0.0, 0.0, 0.0, 0.0, 0.0, 0.0, 0.0, 0.0, 0.0, 0.0, 0.0, 0.0, 0.0, 0.0, 0.0, 0.0, 0.0, 0.0, 0.0, 0.0, 0.0, 0.0, 0.0, 0.0, 0.0, 0.0, 0.0, 0.0, 0.0, 0.0, 0.0, 0.0, 0.0, 0.0], [0.9715725779533386, 0.028427444398403168, 0.0, 0.0, 0.0, 0.0, 0.0, 0.0, 0.0, 0.0, 0.0, 0.0, 0.0, 0.0, 0.0, 0.0, 0.0, 0.0, 0.0, 0.0, 0.0, 0.0, 0.0, 0.0, 0.0, 0.0, 0.0, 0.0, 0.0, 0.0, 0.0, 0.0, 0.0, 0.0, 0.0, 0.0, 0.0, 0.0, 0.0, 0.0, 0.0, 0.0, 0.0, 0.0, 0.0], [0.9642397165298462, 0.0126675795763731, 0.023092754185199738, 0.0, 0.0, 0.0, 0.0, 0.0, 0.0, 0.0, 0.0, 0.0, 0.0, 0.0, 0.0, 0.0, 0.0, 0.0, 0.0, 0.0, 0.0, 0.0, 0.0, 0.0, 0.0, 0.0, 0.0, 0.0, 0.0, 0.0, 0.0, 0.0, 0.0, 0.0, 0.0, 0.0, 0.0, 0.0, 0.0, 0.0, 0.0, 0.0, 0.0, 0.0, 0.0], [0.9757059216499329, 0.0051650116220116615, 0.009250042028725147, 0.009879050776362419, 0.0, 0.0, 0.0, 0.0, 0.0, 0.0, 0.0, 0.0, 0.0, 0.0, 0.0, 0.0, 0.0, 0.0, 0.0, 0.0, 0.0, 0.0, 0.0, 0.0, 0.0, 0.0, 0.0, 0.0, 0.0, 0.0, 0.0, 0.0, 0.0, 0.0, 0.0, 0.0, 0.0, 0.0, 0.0, 0.0, 0.0, 0.0, 0.0, 0.0, 0.0], [0.9075959324836731, 0.009875470772385597, 0.005676251836121082, 0.028142178431153297, 0.04871021583676338, 0.0, 0.0, 0.0, 0.0, 0.0, 0.0, 0.0, 0.0, 0.0, 0.0, 0.0, 0.0, 0.0, 0.0, 0.0, 0.0, 0.0, 0.0, 0.0, 0.0, 0.0, 0.0, 0.0, 0.0, 0.0, 0.0, 0.0, 0.0, 0.0, 0.0, 0.0, 0.0, 0.0, 0.0, 0.0, 0.0, 0.0, 0.0, 0.0, 0.0], [0.885955274105072, 0.004756523296236992, 0.0036599698942154646, 0.010607466101646423, 0.030666369944810867, 0.06435450911521912, 0.0, 0.0, 0.0, 0.0, 0.0, 0.0, 0.0, 0.0, 0.0, 0.0, 0.0, 0.0, 0.0, 0.0, 0.0, 0.0, 0.0, 0.0, 0.0, 0.0, 0.0, 0.0, 0.0, 0.0, 0.0, 0.0, 0.0, 0.0, 0.0, 0.0, 0.0, 0.0, 0.0, 0.0, 0.0, 0.0, 0.0, 0.0, 0.0], [0.9467732310295105, 0.009345282800495625, 0.008947483263909817, 0.004734154790639877, 0.0029043860267847776, 0.010352392680943012, 0.01694313809275627, 0.0, 0.0, 0.0, 0.0, 0.0, 0.0, 0.0, 0.0, 0.0, 0.0, 0.0, 0.0, 0.0, 0.0, 0.0, 0.0, 0.0, 0.0, 0.0, 0.0, 0.0, 0.0, 0.0, 0.0, 0.0, 0.0, 0.0, 0.0, 0.0, 0.0, 0.0, 0.0, 0.0, 0.0, 0.0, 0.0, 0.0, 0.0], [0.9778634905815125, 0.006776217371225357, 0.0001403100322932005, 0.0002230614045402035, 0.00013530738942790776, 0.002501863520592451, 0.008681908249855042, 0.003677853848785162, 0.0, 0.0, 0.0, 0.0, 0.0, 0.0, 0.0, 0.0, 0.0, 0.0, 0.0, 0.0, 0.0, 0.0, 0.0, 0.0, 0.0, 0.0, 0.0, 0.0, 0.0, 0.0, 0.0, 0.0, 0.0, 0.0, 0.0, 0.0, 0.0, 0.0, 0.0, 0.0, 0.0, 0.0, 0.0, 0.0, 0.0], [0.937522292137146, 0.004183300770819187, 0.0003910376981366426, 0.002667880617082119, 0.0017600399442017078, 0.005533026996999979, 0.01977705955505371, 0.00040695181814953685, 0.027758395299315453, 0.0, 0.0, 0.0, 0.0, 0.0, 0.0, 0.0, 0.0, 0.0, 0.0, 0.0, 0.0, 0.0, 0.0, 0.0, 0.0, 0.0, 0.0, 0.0, 0.0, 0.0, 0.0, 0.0, 0.0, 0.0, 0.0, 0.0, 0.0, 0.0, 0.0, 0.0, 0.0, 0.0, 0.0, 0.0, 0.0], [0.9050081372261047, 0.0019530432764440775, 0.00022118198103271425, 0.0005878475494682789, 0.0004856573941651732, 0.0004285828035790473, 0.017881624400615692, 2.1713440219173208e-05, 0.009133396670222282, 0.06427884101867676, 0.0, 0.0, 0.0, 0.0, 0.0, 0.0, 0.0, 0.0, 0.0, 0.0, 0.0, 0.0, 0.0, 0.0, 0.0, 0.0, 0.0, 0.0, 0.0, 0.0, 0.0, 0.0, 0.0, 0.0, 0.0, 0.0, 0.0, 0.0, 0.0, 0.0, 0.0, 0.0, 0.0, 0.0, 0.0], [0.8609718680381775, 0.026576828211545944, 0.026768449693918228, 0.017786601558327675, 0.0071846903301775455, 0.004386784974485636, 0.024684099480509758, 0.0005507571040652692, 0.0016797552816569805, 0.003442936111241579, 0.025967231020331383, 0.0, 0.0, 0.0, 0.0, 0.0, 0.0, 0.0, 0.0, 0.0, 0.0, 0.0, 0.0, 0.0, 0.0, 0.0, 0.0, 0.0, 0.0, 0.0, 0.0, 0.0, 0.0, 0.0, 0.0, 0.0, 0.0, 0.0, 0.0, 0.0, 0.0, 0.0, 0.0, 0.0, 0.0], [0.886557400226593, 0.008447173982858658, 0.003875774098560214, 0.0038371793925762177, 0.0011051851324737072, 0.0018602110212668777, 0.038106828927993774, 0.0012064148904755712, 0.008065832778811455, 0.003708842908963561, 0.014952568337321281, 0.028276577591896057, 0.0, 0.0, 0.0, 0.0, 0.0, 0.0, 0.0, 0.0, 0.0, 0.0, 0.0, 0.0, 0.0, 0.0, 0.0, 0.0, 0.0, 0.0, 0.0, 0.0, 0.0, 0.0, 0.0, 0.0, 0.0, 0.0, 0.0, 0.0, 0.0, 0.0, 0.0, 0.0, 0.0], [0.8247387409210205, 0.0026700657326728106, 0.0004614322097040713, 8.4421866631601e-05, 0.010507558472454548, 0.01760980859398842, 0.026537010446190834, 0.0017162822186946869, 0.007325859274715185, 0.00434127077460289, 0.051095157861709595, 0.044557590037584305, 0.008354848250746727, 0.0, 0.0, 0.0, 0.0, 0.0, 0.0, 0.0, 0.0, 0.0, 0.0, 0.0, 0.0, 0.0, 0.0, 0.0, 0.0, 0.0, 0.0, 0.0, 0.0, 0.0, 0.0, 0.0, 0.0, 0.0, 0.0, 0.0, 0.0, 0.0, 0.0, 0.0, 0.0], [0.8338984251022339, 0.0017282790504395962, 0.00023632764350622892, 0.000274061196250841, 0.0001440687628928572, 0.007652978878468275, 0.02326233498752117, 0.00013978680362924933, 0.004380856174975634, 0.00022726497263647616, 0.0023729412350803614, 0.013556776568293571, 0.10162971913814545, 0.010496146976947784, 0.0, 0.0, 0.0, 0.0, 0.0, 0.0, 0.0, 0.0, 0.0, 0.0, 0.0, 0.0, 0.0, 0.0, 0.0, 0.0, 0.0, 0.0, 0.0, 0.0, 0.0, 0.0, 0.0, 0.0, 0.0, 0.0, 0.0, 0.0, 0.0, 0.0, 0.0], [0.6073753237724304, 0.0014075625222176313, 0.001029683742672205, 0.0007032575667835772, 0.00030650189728476107, 0.0007003390928730369, 0.002609887858852744, 0.1717689037322998, 0.16343887150287628, 0.012485693208873272, 0.004518173169344664, 0.020480353385210037, 0.0040812804363667965, 0.0038020918145775795, 0.005292071495205164, 0.0, 0.0, 0.0, 0.0, 0.0, 0.0, 0.0, 0.0, 0.0, 0.0, 0.0, 0.0, 0.0, 0.0, 0.0, 0.0, 0.0, 0.0, 0.0, 0.0, 0.0, 0.0, 0.0, 0.0, 0.0, 0.0, 0.0, 0.0, 0.0, 0.0], [0.6666736602783203, 0.002429327927529812, 6.336256046779454e-05, 0.0003294050693511963, 7.638232636963949e-05, 0.0009309861925430596, 0.0036135606933385134, 0.00042712644790299237, 0.17642657458782196, 0.060697272419929504, 0.008080895990133286, 0.05482877790927887, 0.008426282554864883, 0.0019369232468307018, 0.0070890155620872974, 0.00797036848962307, 0.0, 0.0, 0.0, 0.0, 0.0, 0.0, 0.0, 0.0, 0.0, 0.0, 0.0, 0.0, 0.0, 0.0, 0.0, 0.0, 0.0, 0.0, 0.0, 0.0, 0.0, 0.0, 0.0, 0.0, 0.0, 0.0, 0.0, 0.0, 0.0], [0.5172374844551086, 0.0011441870592534542, 9.643160592531785e-05, 0.0006657002377323806, 0.00022597130737267435, 0.0006625565001741052, 0.003040093230083585, 2.150024738512002e-05, 0.0026835293974727392, 0.30312013626098633, 0.02882442995905876, 0.09530030190944672, 0.0045241438783705235, 0.00598001666367054, 0.0058410135097801685, 0.00038006025715731084, 0.03025245852768421, 0.0, 0.0, 0.0, 0.0, 0.0, 0.0, 0.0, 0.0, 0.0, 0.0, 0.0, 0.0, 0.0, 0.0, 0.0, 0.0, 0.0, 0.0, 0.0, 0.0, 0.0, 0.0, 0.0, 0.0, 0.0, 0.0, 0.0, 0.0], [0.5798367857933044, 0.0009560105972923338, 7.642109994776547e-05, 0.0001971900783246383, 0.00014997052494436502, 0.000116670475108549, 0.004879079759120941, 3.832952643278986e-06, 0.0013976318296045065, 0.0070816343650221825, 0.23352675139904022, 0.04404695704579353, 0.003450335469096899, 0.003601194592192769, 0.008028370328247547, 7.593369809910655e-05, 0.01124604046344757, 0.10132922232151031, 0.0, 0.0, 0.0, 0.0, 0.0, 0.0, 0.0, 0.0, 0.0, 0.0, 0.0, 0.0, 0.0, 0.0, 0.0, 0.0, 0.0, 0.0, 0.0, 0.0, 0.0, 0.0, 0.0, 0.0, 0.0, 0.0, 0.0], [0.7976999878883362, 0.0020035284105688334, 0.0002102471044054255, 0.0001809136156225577, 0.0002350915310671553, 0.00029642286244779825, 0.005826823879033327, 0.00017485671560280025, 0.004913919139653444, 0.0004738054994959384, 0.01601600833237171, 0.05337495729327202, 0.016637302935123444, 0.003722765715792775, 0.038493793457746506, 0.0010759104043245316, 0.013649054802954197, 0.005179042927920818, 0.03983569145202637, 0.0, 0.0, 0.0, 0.0, 0.0, 0.0, 0.0, 0.0, 0.0, 0.0, 0.0, 0.0, 0.0, 0.0, 0.0, 0.0, 0.0, 0.0, 0.0, 0.0, 0.0, 0.0, 0.0, 0.0, 0.0, 0.0], [0.8174869418144226, 0.0009547610534355044, 0.0003138710744678974, 8.375628385692835e-05, 0.0004000122135039419, 0.00046341243432834744, 0.0064927274361252785, 0.0016605585115030408, 0.006430575158447027, 0.0001917214976856485, 0.019123319536447525, 0.022181803360581398, 0.0038444760721176863, 0.0007718106498941779, 0.02846471406519413, 0.0038462067022919655, 0.010580585338175297, 0.0012331047328189015, 0.031156131997704506, 0.04431943595409393, 0.0, 0.0, 0.0, 0.0, 0.0, 0.0, 0.0, 0.0, 0.0, 0.0, 0.0, 0.0, 0.0, 0.0, 0.0, 0.0, 0.0, 0.0, 0.0, 0.0, 0.0, 0.0, 0.0, 0.0, 0.0], [0.8368001580238342, 0.0026665525510907173, 0.0006331733311526477, 0.00019704291480593383, 0.0007691527134738863, 0.0008336860337294638, 0.007342201191931963, 0.0013097741175442934, 0.01171790435910225, 0.00017515184299554676, 0.004167228005826473, 0.01285522896796465, 0.0025504017248749733, 0.001031590043567121, 0.034065842628479004, 0.0020906380377709866, 0.012495432049036026, 0.0012998663587495685, 0.009844200685620308, 0.024720672518014908, 0.03243398293852806, 0.0, 0.0, 0.0, 0.0, 0.0, 0.0, 0.0, 0.0, 0.0, 0.0, 0.0, 0.0, 0.0, 0.0, 0.0, 0.0, 0.0, 0.0, 0.0, 0.0, 0.0, 0.0, 0.0, 0.0], [0.8476502299308777, 0.0007372397230938077, 0.0008442247635684907, 0.0003158008330501616, 0.002213651081547141, 0.020787712186574936, 0.006659376434981823, 0.0014507885789498687, 0.005909172352403402, 0.0012482086895033717, 0.008418108336627483, 0.005707847885787487, 0.0009651947184465826, 0.003852819325402379, 0.020456522703170776, 0.002438989467918873, 0.00921233743429184, 0.0033260672353208065, 0.0030003669671714306, 0.003097382141277194, 0.0044327182695269585, 0.04727521166205406, 0.0, 0.0, 0.0, 0.0, 0.0, 0.0, 0.0, 0.0, 0.0, 0.0, 0.0, 0.0, 0.0, 0.0, 0.0, 0.0, 0.0, 0.0, 0.0, 0.0, 0.0, 0.0, 0.0], [0.8611220717430115, 0.000687663268763572, 0.00019651628099381924, 0.0001736078702379018, 0.000719974806997925, 0.002159596886485815, 0.006478238385170698, 0.00034830320510081947, 0.0009697318891994655, 0.0003835207025986165, 0.004197964910417795, 0.016527807340025902, 0.0007565028499811888, 0.0032044320832937956, 0.008590120822191238, 0.0006512170657515526, 0.0016966608818620443, 0.0013766774209216237, 0.0034288903698325157, 0.003204501001164317, 0.010159661062061787, 0.02409396693110466, 0.048872411251068115, 0.0, 0.0, 0.0, 0.0, 0.0, 0.0, 0.0, 0.0, 0.0, 0.0, 0.0, 0.0, 0.0, 0.0, 0.0, 0.0, 0.0, 0.0, 0.0, 0.0, 0.0, 0.0], [0.6810785531997681, 0.0007824869244359434, 0.00041145345312543213, 0.000623020576313138, 0.0009720902889966965, 0.0036857714876532555, 0.0048757693730294704, 0.00017450429731979966, 0.0005882057594135404, 0.0003832683723885566, 0.00527488999068737, 0.016385506838560104, 0.004563252907246351, 0.004721327219158411, 0.04640495032072067, 0.000873772194609046, 0.004979769699275494, 0.002366171218454838, 0.011380122974514961, 0.026289494708180428, 0.04564950615167618, 0.04010089486837387, 0.038698844611644745, 0.05873638018965721, 0.0, 0.0, 0.0, 0.0, 0.0, 0.0, 0.0, 0.0, 0.0, 0.0, 0.0, 0.0, 0.0, 0.0, 0.0, 0.0, 0.0, 0.0, 0.0, 0.0, 0.0], [0.8693394064903259, 0.001196151366457343, 1.715093821985647e-05, 1.3659635442309082e-05, 0.0002011684118770063, 5.574211900238879e-05, 0.004568969365209341, 4.291064669814659e-06, 0.00022581267694476992, 8.95420671440661e-05, 0.0027432474307715893, 0.005472754128277302, 0.009285461157560349, 0.0005476322257891297, 0.009919757954776287, 2.8495880542322993e-05, 0.0003258243086747825, 0.0003649323480203748, 0.0033887317404150963, 0.016486402601003647, 0.010937275364995003, 0.032830312848091125, 0.017940951511263847, 0.0035490328446030617, 0.01046717632561922, 0.0, 0.0, 0.0, 0.0, 0.0, 0.0, 0.0, 0.0, 0.0, 0.0, 0.0, 0.0, 0.0, 0.0, 0.0, 0.0, 0.0, 0.0, 0.0, 0.0], [0.8971599340438843, 0.00023481849348172545, 2.215830681961961e-05, 4.707021162175806e-06, 0.0012928314972668886, 0.0003378027759026736, 0.0016677427338436246, 2.5243607524316758e-05, 0.00024747056886553764, 8.628946670796722e-05, 0.0014513491187244654, 0.002765234326943755, 0.00043721706606447697, 0.002388102002441883, 0.0036397837102413177, 0.00012496821000240743, 0.0005209104856476188, 0.00046408656635321677, 0.002696443349123001, 0.001171139650978148, 0.003390162717550993, 0.007723627146333456, 0.015004124492406845, 0.005056918598711491, 0.008482850156724453, 0.043604105710983276, 0.0, 0.0, 0.0, 0.0, 0.0, 0.0, 0.0, 0.0, 0.0, 0.0, 0.0, 0.0, 0.0, 0.0, 0.0, 0.0, 0.0, 0.0, 0.0], [0.8373600244522095, 0.0006484995246864855, 3.3341369999106973e-05, 3.968553210143e-05, 0.0002647202636580914, 0.0002948062028735876, 0.0015867946203798056, 1.8522825484978966e-05, 0.00047305761836469173, 0.006351078394800425, 0.005108834244310856, 0.006495476700365543, 0.004101722501218319, 0.003446318442001939, 0.007424862124025822, 0.0002115067618433386, 0.001299788011237979, 0.009292428381741047, 0.010828247293829918, 0.000799759232904762, 0.00359581527300179, 0.002114010974764824, 0.009608673863112926, 0.002227089134976268, 0.00837236549705267, 0.010506794787943363, 0.06749578565359116, 0.0, 0.0, 0.0, 0.0, 0.0, 0.0, 0.0, 0.0, 0.0, 0.0, 0.0, 0.0, 0.0, 0.0, 0.0, 0.0, 0.0, 0.0], [0.8173643350601196, 0.0008514434448443353, 9.652476728660986e-05, 0.0001133215700974688, 0.0001350039674434811, 0.0008130149217322469, 0.00272392388433218, 2.566188049968332e-05, 0.00019202136900275946, 0.0003424453898333013, 0.0010071985889226198, 0.0035174251534044743, 0.004419103730469942, 0.0002805116819217801, 0.01508342009037733, 0.00041203145519830287, 0.0009028483182191849, 0.002175687812268734, 0.003911576699465513, 0.001601646188646555, 0.0024647791869938374, 0.0034365670289844275, 0.0035169809125363827, 0.0008923765853978693, 0.012409117072820663, 0.02991870976984501, 0.042312219738960266, 0.04908009618520737, 0.0, 0.0, 0.0, 0.0, 0.0, 0.0, 0.0, 0.0, 0.0, 0.0, 0.0, 0.0, 0.0, 0.0, 0.0, 0.0, 0.0], [0.8348487019538879, 0.0004870515549555421, 7.295260729733855e-05, 3.812996874330565e-05, 5.5120690376497805e-05, 8.306546078529209e-05, 0.004111436661332846, 8.5419014794752e-05, 0.0003305820864625275, 0.0001853265130193904, 0.0005248775123618543, 0.0012905743205919862, 0.0011321783531457186, 9.790630429051816e-05, 0.008875885047018528, 0.0004137990181334317, 0.0006175288581289351, 0.00055706623243168, 0.0007543354877270758, 8.028224692679942e-05, 0.007540207821875811, 0.0031006454955786467, 0.0026567450258880854, 0.0025660712271928787, 0.017429906874895096, 0.009336642920970917, 0.04736728593707085, 0.028258662670850754, 0.027101680636405945, 0.0, 0.0, 0.0, 0.0, 0.0, 0.0, 0.0, 0.0, 0.0, 0.0, 0.0, 0.0, 0.0, 0.0, 0.0, 0.0], [0.9180620908737183, 0.001444242661818862, 2.9738672310486436e-05, 1.8268458006787114e-05, 1.6992416931316257e-05, 5.223158223088831e-05, 0.0003908342041540891, 0.001720608095638454, 0.003997158259153366, 0.000575405836571008, 0.0012727524153888226, 0.001516556367278099, 0.0010632312623783946, 0.00018275926413480192, 0.0007736282423138618, 0.004016221966594458, 0.006962205749005079, 0.0007749883807264268, 0.002225712174549699, 0.00012931138917338103, 0.0027594352141022682, 0.00041079483344219625, 0.00043812053627334535, 0.0005557046388275921, 0.005804392509162426, 0.0020488512236624956, 0.0030315080657601357, 0.018251314759254456, 0.0024586720392107964, 0.01901622861623764, 0.0, 0.0, 0.0, 0.0, 0.0, 0.0, 0.0, 0.0, 0.0, 0.0, 0.0, 0.0, 0.0, 0.0, 0.0], [0.931290864944458, 0.0005628732033073902, 4.897918643109733e-06, 2.653786214068532e-05, 9.006967047753278e-06, 6.55041221762076e-05, 0.00015547446673735976, 4.386667933431454e-05, 0.001161660416983068, 0.001434311387129128, 0.00044164122664369643, 0.0014602195005863905, 0.00048152467934414744, 0.00024352497712243348, 0.0006702736136503518, 0.00024671349092386663, 0.005102444440126419, 0.0055517894215881824, 0.012240373529493809, 0.0003030833031516522, 0.0006040732259862125, 7.667810132261366e-05, 0.00025773223023861647, 0.0004095296317245811, 0.00855954922735691, 0.000179917857167311, 0.00016141381638590246, 0.004550652578473091, 0.0009442610898986459, 0.001430200762115419, 0.0213294830173254, 0.0, 0.0, 0.0, 0.0, 0.0, 0.0, 0.0, 0.0, 0.0, 0.0, 0.0, 0.0, 0.0, 0.0], [0.8355041742324829, 0.0004729770589619875, 4.669705231208354e-05, 0.00017570608179084957, 2.8011301765218377e-05, 1.945572512340732e-05, 0.0004127785796299577, 4.855947395299154e-07, 3.715660568559542e-05, 0.000488889985717833, 0.00455233221873641, 0.003065467579290271, 0.0014847195707261562, 0.0011166161857545376, 0.005230154376477003, 7.630474101461004e-06, 0.0004506731638684869, 0.001971406163647771, 0.013908365741372108, 0.001740461797453463, 0.0010854352731257677, 0.0002928039466496557, 0.0005336171016097069, 0.00028326548635959625, 0.018921690061688423, 0.005772278644144535, 0.0019367783097550273, 0.012671563774347305, 0.004408341366797686, 0.019254926592111588, 0.002828493481501937, 0.061296626925468445, 0.0, 0.0, 0.0, 0.0, 0.0, 0.0, 0.0, 0.0, 0.0, 0.0, 0.0, 0.0, 0.0], [0.8290568590164185, 0.0005360317300073802, 7.154315244406462e-05, 1.0600242603686638e-05, 8.323019756062422e-06, 4.692968559538713e-06, 0.00023882993264123797, 2.266885985591216e-06, 0.00014270615065470338, 0.0001412124838680029, 0.006369852460920811, 0.0034685865975916386, 0.0006638285703957081, 8.766511018620804e-05, 0.002692250534892082, 2.491619306965731e-05, 0.0009598021861165762, 0.0010263376170769334, 0.026255672797560692, 0.002115897834300995, 0.015438329428434372, 0.0005114116938784719, 0.00012630435230676085, 0.0011744332732632756, 0.019769946113228798, 0.0010877343593165278, 0.0009546107612550259, 0.0033226944506168365, 0.0029186850879341364, 0.03716735169291496, 0.0002951044007204473, 0.03528302535414696, 0.008072465658187866, 0.0, 0.0, 0.0, 0.0, 0.0, 0.0, 0.0, 0.0, 0.0, 0.0, 0.0, 0.0], [0.6120373606681824, 0.004670862108469009, 0.002986450679600239, 0.0012507220963016152, 0.0003233488241676241, 0.0006972175906412303, 0.0021671834401786327, 7.092481246218085e-05, 0.0002406684507150203, 0.00021211733110249043, 0.0009334550704807043, 0.20645931363105774, 0.014671584591269493, 0.0017915057251229882, 0.02346157655119896, 0.00107263820245862, 0.002430384512990713, 0.0016102984081953764, 0.013377765193581581, 0.00398624874651432, 0.003764874767512083, 0.001083094859495759, 0.0008084207074716687, 0.0043616266921162605, 0.0249779112637043, 0.012349364347755909, 0.003911648411303759, 0.002856362611055374, 0.004218770191073418, 0.011433080770075321, 0.0007146091666072607, 0.003192865289747715, 0.0014759688638150692, 0.030399765819311142, 0.0, 0.0, 0.0, 0.0, 0.0, 0.0, 0.0, 0.0, 0.0, 0.0, 0.0], [0.5448331236839294, 0.00154569570440799, 0.0002458765229675919, 0.0002188027574447915, 6.16754696238786e-05, 0.00021574176207650453, 0.0024924217723309994, 4.418575917952694e-05, 0.0004390785179566592, 9.475244587520137e-05, 0.00018512656970415264, 0.0025842473842203617, 0.1461138129234314, 0.010850861668586731, 0.10418234765529633, 0.003980837296694517, 0.018654583021998405, 0.003433649195358157, 0.022925006225705147, 0.01800263300538063, 0.004476870875805616, 0.0013039413606747985, 0.003234724048525095, 0.0008062976412475109, 0.031137125566601753, 0.003459540195763111, 0.0008453743066638708, 0.0021314951591193676, 0.0026853964664041996, 0.004670091904699802, 0.0006422377773560584, 0.00029449674184434116, 0.0006666155532002449, 0.0062177907675504684, 0.05632360652089119, 0.0, 0.0, 0.0, 0.0, 0.0, 0.0, 0.0, 0.0, 0.0, 0.0], [0.4254337251186371, 0.00035815389128401875, 2.3716511350357905e-05, 2.5473336791037582e-05, 6.456666596932337e-05, 0.00010491625289432704, 0.0009917010320350528, 9.184995724353939e-05, 0.0006848550401628017, 0.0005056280642747879, 0.001084551797248423, 0.0011174498358741403, 0.0020831208676099777, 0.006154089234769344, 0.008597522042691708, 0.0004639556573238224, 0.004651512019336224, 0.0034630950540304184, 0.18537315726280212, 0.057963524013757706, 0.10115107893943787, 0.008003835566341877, 0.004740833770483732, 0.0005427637952379882, 0.07020212709903717, 0.009497449733316898, 0.0066465940326452255, 0.0026813745498657227, 0.004378027748316526, 0.00648451317101717, 0.0015843528090044856, 0.004197108559310436, 0.004329798277467489, 0.03982117027044296, 0.021931104362010956, 0.014571326784789562, 0.0, 0.0, 0.0, 0.0, 0.0, 0.0, 0.0, 0.0, 0.0], [0.6140778660774231, 0.0004574181220959872, 3.531801121425815e-05, 9.847631736192852e-05, 7.424873183481395e-05, 0.0001974616461666301, 0.0007402506889775395, 3.601644857553765e-05, 0.00011439195077400655, 4.0680017264094204e-05, 0.00011184792674612254, 0.003583443583920598, 0.004383423365652561, 0.000675600313115865, 0.019078480079770088, 0.00021988128719385713, 0.0004929799470119178, 0.0002492890926077962, 0.000958266609814018, 0.010598687455058098, 0.009527442045509815, 0.0017324998043477535, 0.0016294416273012757, 0.000333060190314427, 0.008693770505487919, 0.0057390001602470875, 0.004594028927385807, 0.0020179790444672108, 0.015936635434627533, 0.028446093201637268, 0.0008115832461044192, 0.0006251386366784573, 0.001433727447874844, 0.08250866830348969, 0.09683087468147278, 0.05983298644423485, 0.023083042353391647, 0.0, 0.0, 0.0, 0.0, 0.0, 0.0, 0.0, 0.0], [0.722183108329773, 0.00029922978137619793, 3.076172652072273e-05, 2.3222055460792035e-05, 4.153069312451407e-05, 7.879878103267401e-05, 0.0011478503001853824, 4.1823062929324806e-05, 0.00013532295997720212, 3.003893289132975e-05, 0.0001086483898689039, 0.001661000307649374, 0.0005918933311477304, 8.826273551676422e-05, 0.00624606991186738, 0.00016873286222107708, 0.0003901735763065517, 0.00010831257532117888, 0.00034027505898848176, 0.0002092689392156899, 0.0074478257447481155, 0.0006567536038346589, 0.0008340146741829813, 0.00020081733237020671, 0.004967125598341227, 0.0003938901936635375, 0.0016778509598225355, 0.0009836091194301844, 0.0002226940414402634, 0.08404263108968735, 0.002132880501449108, 0.00029487189021892846, 0.0011611708905547857, 0.061490248888731, 0.028621932491660118, 0.012805200181901455, 0.008506628684699535, 0.04963560029864311, 0.0, 0.0, 0.0, 0.0, 0.0, 0.0, 0.0], [0.7840085029602051, 0.0005100310081616044, 6.904527253936976e-05, 6.183289951877668e-05, 0.00013144966214895248, 0.00019935952150262892, 0.0009536342113278806, 4.997496216674335e-05, 0.00014038686640560627, 5.92891447013244e-05, 0.0004231778730172664, 0.0007741901208646595, 0.0010883525246754289, 0.0020042508840560913, 0.005436756648123264, 0.00012221962970215827, 0.00023241057351697236, 0.00012150790280429646, 0.00041401569615118206, 0.0005204898770898581, 0.0007630703621543944, 0.00017746900266502053, 0.0003710044838953763, 0.0006575305596925318, 0.0011138932313770056, 0.00018101345631293952, 0.003032441483810544, 0.0017758862813934684, 0.0005766063695773482, 0.030515408143401146, 0.00553505914285779, 0.000865268288180232, 0.00333781773224473, 0.08774572610855103, 0.01599445939064026, 0.011379179544746876, 0.0032279370352625847, 0.020788243040442467, 0.014641155488789082, 0.0, 0.0, 0.0, 0.0, 0.0, 0.0], [0.5699108839035034, 0.0006735126953572035, 4.382494807941839e-05, 5.5742177210049704e-05, 8.470446482533589e-05, 3.9011814806144685e-05, 0.00044606291339732707, 6.341675771182054e-07, 9.160347872239072e-06, 0.0002808337740134448, 0.0005654420237988234, 0.002280075801536441, 0.0020497506484389305, 0.0002663663763087243, 0.006801750976592302, 1.4283973541751038e-05, 7.574048504466191e-05, 0.0006563913193531334, 0.0013444751966744661, 0.00037956409505568445, 0.0006500245654024184, 9.346567094326019e-05, 0.00017447237041778862, 4.0704133425606415e-05, 0.0020382858347147703, 0.000212802056921646, 0.0005632314132526517, 0.008427002467215061, 0.008590702898800373, 0.024574795737862587, 0.0001266571052838117, 0.0014408798888325691, 0.00509177939966321, 0.08077845722436905, 0.04404492303729057, 0.03527539223432541, 0.004069348331540823, 0.07901410013437271, 0.07398668676614761, 0.04482797533273697, 0.0, 0.0, 0.0, 0.0, 0.0], [0.4697304964065552, 0.00044419500045478344, 0.00037376602995209396, 0.00020695409330073744, 0.00011554426600923762, 0.0002641640603542328, 0.0004345780180301517, 0.018899481743574142, 0.011875854805111885, 0.0011285567888990045, 0.0006663519889116287, 0.002519178669899702, 0.0006414404488168657, 0.0008982502040453255, 0.0006254203617572784, 0.10867464542388916, 0.1620291769504547, 0.020283369347453117, 0.025486880913376808, 0.003102121176198125, 0.0029177747201174498, 0.0007273218943737447, 0.0011774480808526278, 0.0003359902766533196, 0.017401598393917084, 8.661370520712808e-05, 0.00030940936994738877, 0.0009259161888621747, 0.0005828604917041957, 0.001586081343702972, 0.00015656651521567255, 0.0011070636101067066, 8.967891335487366e-05, 0.006259191781282425, 0.019972341135144234, 0.012102026492357254, 0.09146416932344437, 0.004591634962707758, 0.0025694200303405523, 0.0055944123305380344, 0.0016420717583969235, 0.0, 0.0, 0.0, 0.0], [0.5821334719657898, 0.0003998945467174053, 1.0479935554030817e-05, 4.261461435817182e-05, 1.8765393178910017e-05, 0.00022225633438210934, 0.00040682312101125717, 4.5561329898191616e-05, 0.009314646013081074, 0.0020009796135127544, 0.0005121018039062619, 0.0027212088461965322, 0.0004414641880430281, 0.00018945564806926996, 0.0005970726488158107, 0.000571929500438273, 0.06607571244239807, 0.028208278119564056, 0.03716404363512993, 0.005793432239443064, 0.0020864710677415133, 0.00034507535747252405, 0.002132060006260872, 0.001305035431869328, 0.04366700351238251, 0.0001538517972221598, 0.00021269007993396372, 0.0014111660420894623, 0.0003687034477479756, 0.0003145567316096276, 1.6627500372123905e-05, 0.002691444708034396, 0.0002779028727672994, 0.003006437560543418, 0.02953476272523403, 0.016455531120300293, 0.13445784151554108, 0.007265975698828697, 0.0014299375470727682, 0.0030542651657015085, 0.0019644193816930056, 0.010978040285408497, 0.0, 0.0, 0.0], [0.6095871925354004, 0.00016083811351563781, 1.7766271412256174e-05, 8.353852899745107e-05, 5.957426765235141e-05, 0.00018633398576639593, 0.0002942635037470609, 1.2863033589383122e-06, 9.132964623859152e-05, 0.006835600361227989, 0.001620178809389472, 0.0053857602179050446, 0.00024209747789427638, 0.0005506501765921712, 0.00036415611975826323, 2.1956899217911996e-05, 0.0012228545965626836, 0.05195647478103638, 0.09219681471586227, 0.004902605898678303, 0.0014280946925282478, 7.890961569501087e-05, 0.0006571632111445069, 0.0005826923297718167, 0.013703081756830215, 6.972865958232433e-05, 0.0001379197055939585, 0.002023618435487151, 0.0008914911304600537, 0.0006654520402662456, 2.2032338620192604e-06, 0.000290765892714262, 0.00046970575931482017, 0.0033203691709786654, 0.03599108010530472, 0.010147102177143097, 0.06285296380519867, 0.010217590257525444, 0.0029151863418519497, 0.0037901094183325768, 0.008557804860174656, 0.0010568199213594198, 0.06436881422996521, 0.0, 0.0], [0.51967453956604, 0.00010344406473450363, 1.5899679056019522e-05, 2.725990088947583e-05, 3.868136991513893e-05, 3.1217288778861985e-05, 0.00039138097781687975, 4.439922633991955e-07, 7.211580668808892e-05, 0.00028592004673555493, 0.02222450263798237, 0.002628784393891692, 0.00010522380034672096, 0.000191485567484051, 0.0003461996093392372, 5.733215402869973e-06, 0.0004696157411672175, 0.003008509986102581, 0.1531446874141693, 0.01613178849220276, 0.011639803647994995, 0.0006274281186051667, 0.0005708492826670408, 0.0006487109349109232, 0.02391139417886734, 0.0002031200419878587, 0.00038540561217814684, 0.0017754570581018925, 0.00032898905919864774, 0.001008043298497796, 2.4290459350595484e-06, 0.00011373792222002521, 0.0001576691574882716, 0.02703009359538555, 0.02171589434146881, 0.0014575021341443062, 0.02848372608423233, 0.006418206728994846, 0.004040114115923643, 0.003680251771584153, 0.0056537422351539135, 0.0002943771833088249, 0.01765437051653862, 0.123301200568676, 0.0], [0.8103195428848267, 0.0001477266487199813, 7.945778634166345e-06, 1.626178163860459e-05, 4.138122676522471e-05, 0.00015926652122288942, 0.0017657303251326084, 8.098292710201349e-06, 0.00013404921628534794, 0.00013451215636450797, 0.00287808058783412, 0.001059930888004601, 0.0009377638343721628, 0.00037020561285316944, 0.0030151212122291327, 2.5679195459815674e-05, 0.00020109032629989088, 0.00025544650270603597, 0.0019212940242141485, 0.009882643818855286, 0.004455278627574444, 0.001171968411654234, 0.0086427116766572, 0.0012498719152063131, 0.004090453032404184, 0.0019513870356604457, 0.0019833301194012165, 0.0008272462291643023, 0.0006235720356926322, 0.0030109635554254055, 9.537085134070367e-05, 9.263541869586334e-05, 0.0002488705504219979, 0.01109983678907156, 0.012174886651337147, 0.004402287304401398, 0.008254148066043854, 0.012323522940278053, 0.0066254655830562115, 0.006583520211279392, 0.013247418217360973, 0.0006133871502242982, 0.0036646148655563593, 0.008315661922097206, 0.05096975713968277]], [[1.0, 0.0, 0.0, 0.0, 0.0, 0.0, 0.0, 0.0, 0.0, 0.0, 0.0, 0.0, 0.0, 0.0, 0.0, 0.0, 0.0, 0.0, 0.0, 0.0, 0.0, 0.0, 0.0, 0.0, 0.0, 0.0, 0.0, 0.0, 0.0, 0.0, 0.0, 0.0, 0.0, 0.0, 0.0, 0.0, 0.0, 0.0, 0.0, 0.0, 0.0, 0.0, 0.0, 0.0, 0.0], [0.9894368648529053, 0.01056317612528801, 0.0, 0.0, 0.0, 0.0, 0.0, 0.0, 0.0, 0.0, 0.0, 0.0, 0.0, 0.0, 0.0, 0.0, 0.0, 0.0, 0.0, 0.0, 0.0, 0.0, 0.0, 0.0, 0.0, 0.0, 0.0, 0.0, 0.0, 0.0, 0.0, 0.0, 0.0, 0.0, 0.0, 0.0, 0.0, 0.0, 0.0, 0.0, 0.0, 0.0, 0.0, 0.0, 0.0], [0.9715985655784607, 0.019248927012085915, 0.009152448736131191, 0.0, 0.0, 0.0, 0.0, 0.0, 0.0, 0.0, 0.0, 0.0, 0.0, 0.0, 0.0, 0.0, 0.0, 0.0, 0.0, 0.0, 0.0, 0.0, 0.0, 0.0, 0.0, 0.0, 0.0, 0.0, 0.0, 0.0, 0.0, 0.0, 0.0, 0.0, 0.0, 0.0, 0.0, 0.0, 0.0, 0.0, 0.0, 0.0, 0.0, 0.0, 0.0], [0.9637433290481567, 0.014524450525641441, 0.008219817653298378, 0.013512356206774712, 0.0, 0.0, 0.0, 0.0, 0.0, 0.0, 0.0, 0.0, 0.0, 0.0, 0.0, 0.0, 0.0, 0.0, 0.0, 0.0, 0.0, 0.0, 0.0, 0.0, 0.0, 0.0, 0.0, 0.0, 0.0, 0.0, 0.0, 0.0, 0.0, 0.0, 0.0, 0.0, 0.0, 0.0, 0.0, 0.0, 0.0, 0.0, 0.0, 0.0, 0.0], [0.9720754623413086, 0.009889750741422176, 0.008573440834879875, 0.008160426281392574, 0.0013008195674046874, 0.0, 0.0, 0.0, 0.0, 0.0, 0.0, 0.0, 0.0, 0.0, 0.0, 0.0, 0.0, 0.0, 0.0, 0.0, 0.0, 0.0, 0.0, 0.0, 0.0, 0.0, 0.0, 0.0, 0.0, 0.0, 0.0, 0.0, 0.0, 0.0, 0.0, 0.0, 0.0, 0.0, 0.0, 0.0, 0.0, 0.0, 0.0, 0.0, 0.0], [0.9643927216529846, 0.009581130929291248, 0.00677916593849659, 0.0070136236026883125, 0.0040174005553126335, 0.008215999230742455, 0.0, 0.0, 0.0, 0.0, 0.0, 0.0, 0.0, 0.0, 0.0, 0.0, 0.0, 0.0, 0.0, 0.0, 0.0, 0.0, 0.0, 0.0, 0.0, 0.0, 0.0, 0.0, 0.0, 0.0, 0.0, 0.0, 0.0, 0.0, 0.0, 0.0, 0.0, 0.0, 0.0, 0.0, 0.0, 0.0, 0.0, 0.0, 0.0], [0.9378738403320312, 0.012339186854660511, 0.002636492485180497, 0.003346026875078678, 0.012764251790940762, 0.012433580122888088, 0.01860671117901802, 0.0, 0.0, 0.0, 0.0, 0.0, 0.0, 0.0, 0.0, 0.0, 0.0, 0.0, 0.0, 0.0, 0.0, 0.0, 0.0, 0.0, 0.0, 0.0, 0.0, 0.0, 0.0, 0.0, 0.0, 0.0, 0.0, 0.0, 0.0, 0.0, 0.0, 0.0, 0.0, 0.0, 0.0, 0.0, 0.0, 0.0, 0.0], [0.9653586745262146, 0.0035988562740385532, 0.00275758421048522, 0.0025913703721016645, 0.005742176435887814, 0.00989910215139389, 0.00965565349906683, 0.00039669257239438593, 0.0, 0.0, 0.0, 0.0, 0.0, 0.0, 0.0, 0.0, 0.0, 0.0, 0.0, 0.0, 0.0, 0.0, 0.0, 0.0, 0.0, 0.0, 0.0, 0.0, 0.0, 0.0, 0.0, 0.0, 0.0, 0.0, 0.0, 0.0, 0.0, 0.0, 0.0, 0.0, 0.0, 0.0, 0.0, 0.0, 0.0], [0.9478664994239807, 0.007074445020407438, 0.003062431700527668, 0.0017915671924129128, 0.005756479687988758, 0.009305850602686405, 0.006294773425906897, 0.005685658659785986, 0.013162232004106045, 0.0, 0.0, 0.0, 0.0, 0.0, 0.0, 0.0, 0.0, 0.0, 0.0, 0.0, 0.0, 0.0, 0.0, 0.0, 0.0, 0.0, 0.0, 0.0, 0.0, 0.0, 0.0, 0.0, 0.0, 0.0, 0.0, 0.0, 0.0, 0.0, 0.0, 0.0, 0.0, 0.0, 0.0, 0.0, 0.0], [0.9180819988250732, 0.006062609609216452, 0.002860013162717223, 0.0018594865687191486, 0.0036083287559449673, 0.010014736093580723, 0.00965232402086258, 0.007248998153954744, 0.0326562225818634, 0.007955266162753105, 0.0, 0.0, 0.0, 0.0, 0.0, 0.0, 0.0, 0.0, 0.0, 0.0, 0.0, 0.0, 0.0, 0.0, 0.0, 0.0, 0.0, 0.0, 0.0, 0.0, 0.0, 0.0, 0.0, 0.0, 0.0, 0.0, 0.0, 0.0, 0.0, 0.0, 0.0, 0.0, 0.0, 0.0, 0.0], [0.8085218071937561, 0.025538017973303795, 0.005118528380990028, 0.004118882119655609, 0.0222213976085186, 0.0368892177939415, 0.012406541034579277, 0.0050225649029016495, 0.0205858051776886, 0.032937098294496536, 0.02664007432758808, 0.0, 0.0, 0.0, 0.0, 0.0, 0.0, 0.0, 0.0, 0.0, 0.0, 0.0, 0.0, 0.0, 0.0, 0.0, 0.0, 0.0, 0.0, 0.0, 0.0, 0.0, 0.0, 0.0, 0.0, 0.0, 0.0, 0.0, 0.0, 0.0, 0.0, 0.0, 0.0, 0.0, 0.0], [0.7182828783988953, 0.024151025339961052, 0.015291695483028889, 0.026666710153222084, 0.039939478039741516, 0.06304862350225449, 0.013715284876525402, 0.005348673555999994, 0.022683657705783844, 0.013135368004441261, 0.04446394369006157, 0.013272635638713837, 0.0, 0.0, 0.0, 0.0, 0.0, 0.0, 0.0, 0.0, 0.0, 0.0, 0.0, 0.0, 0.0, 0.0, 0.0, 0.0, 0.0, 0.0, 0.0, 0.0, 0.0, 0.0, 0.0, 0.0, 0.0, 0.0, 0.0, 0.0, 0.0, 0.0, 0.0, 0.0, 0.0], [0.7252259254455566, 0.008758737705647945, 0.006356264464557171, 0.008213573135435581, 0.009058811701834202, 0.02860540710389614, 0.02169421687722206, 0.008631273172795773, 0.04919939115643501, 0.02660495974123478, 0.0788845345377922, 0.015557070262730122, 0.013209770433604717, 0.0, 0.0, 0.0, 0.0, 0.0, 0.0, 0.0, 0.0, 0.0, 0.0, 0.0, 0.0, 0.0, 0.0, 0.0, 0.0, 0.0, 0.0, 0.0, 0.0, 0.0, 0.0, 0.0, 0.0, 0.0, 0.0, 0.0, 0.0, 0.0, 0.0, 0.0, 0.0], [0.8987473845481873, 0.0075409854762256145, 0.003535271855071187, 0.0035412595607340336, 0.006826799362897873, 0.014062266796827316, 0.004267923999577761, 0.0009097617003135383, 0.009849646128714085, 0.010451225563883781, 0.015897706151008606, 0.010325713083148003, 0.01103771012276411, 0.0030064957682043314, 0.0, 0.0, 0.0, 0.0, 0.0, 0.0, 0.0, 0.0, 0.0, 0.0, 0.0, 0.0, 0.0, 0.0, 0.0, 0.0, 0.0, 0.0, 0.0, 0.0, 0.0, 0.0, 0.0, 0.0, 0.0, 0.0, 0.0, 0.0, 0.0, 0.0, 0.0], [0.6124593019485474, 0.01661963202059269, 0.0027455040253698826, 0.003744240151718259, 0.004011912737041712, 0.003385158022865653, 0.03676736354827881, 0.019511371850967407, 0.05046473816037178, 0.09057700634002686, 0.03038490191102028, 0.012105964124202728, 0.07891034334897995, 0.0018508740467950702, 0.03646164759993553, 0.0, 0.0, 0.0, 0.0, 0.0, 0.0, 0.0, 0.0, 0.0, 0.0, 0.0, 0.0, 0.0, 0.0, 0.0, 0.0, 0.0, 0.0, 0.0, 0.0, 0.0, 0.0, 0.0, 0.0, 0.0, 0.0, 0.0, 0.0, 0.0, 0.0], [0.40157175064086914, 0.01774578168988228, 0.0073381089605391026, 0.008361168205738068, 0.00870148278772831, 0.010538036935031414, 0.050180792808532715, 0.003390268888324499, 0.10474981367588043, 0.14733272790908813, 0.09867513179779053, 0.016012072563171387, 0.050001293420791626, 0.002835632534697652, 0.0634874477982521, 0.009078484028577805, 0.0, 0.0, 0.0, 0.0, 0.0, 0.0, 0.0, 0.0, 0.0, 0.0, 0.0, 0.0, 0.0, 0.0, 0.0, 0.0, 0.0, 0.0, 0.0, 0.0, 0.0, 0.0, 0.0, 0.0, 0.0, 0.0, 0.0, 0.0, 0.0], [0.5439718961715698, 0.013769140467047691, 0.0057229408994317055, 0.003772513475269079, 0.00959018524736166, 0.012491917237639427, 0.023470932617783546, 0.01775231584906578, 0.040888916701078415, 0.09388953447341919, 0.08788535743951797, 0.01451061386615038, 0.03681414946913719, 0.004937964957207441, 0.02531633898615837, 0.03276599943637848, 0.032449349761009216, 0.0, 0.0, 0.0, 0.0, 0.0, 0.0, 0.0, 0.0, 0.0, 0.0, 0.0, 0.0, 0.0, 0.0, 0.0, 0.0, 0.0, 0.0, 0.0, 0.0, 0.0, 0.0, 0.0, 0.0, 0.0, 0.0, 0.0, 0.0], [0.44898131489753723, 0.01698564551770687, 0.007741574663668871, 0.006606590934097767, 0.008797195740044117, 0.02208743430674076, 0.02530863508582115, 0.02080232836306095, 0.05767719820141792, 0.027973145246505737, 0.13913537561893463, 0.02460228092968464, 0.05672617256641388, 0.004984686151146889, 0.032097384333610535, 0.028815263882279396, 0.052514202892780304, 0.018163613975048065, 0.0, 0.0, 0.0, 0.0, 0.0, 0.0, 0.0, 0.0, 0.0, 0.0, 0.0, 0.0, 0.0, 0.0, 0.0, 0.0, 0.0, 0.0, 0.0, 0.0, 0.0, 0.0, 0.0, 0.0, 0.0, 0.0, 0.0], [0.7907001972198486, 0.005968950688838959, 0.004463750869035721, 0.003763265209272504, 0.007528647780418396, 0.006115674506872892, 0.008460191078484058, 0.00924008246511221, 0.016481708735227585, 0.030338991433382034, 0.020830893889069557, 0.018012451007962227, 0.026865262538194656, 0.01648508757352829, 0.00466191116720438, 0.0043874760158360004, 0.00910471472889185, 0.012532271444797516, 0.004058435093611479, 0.0, 0.0, 0.0, 0.0, 0.0, 0.0, 0.0, 0.0, 0.0, 0.0, 0.0, 0.0, 0.0, 0.0, 0.0, 0.0, 0.0, 0.0, 0.0, 0.0, 0.0, 0.0, 0.0, 0.0, 0.0, 0.0], [0.8090211153030396, 0.003609307110309601, 0.0022721311543136835, 0.0022341590374708176, 0.004693570081144571, 0.006197657436132431, 0.007724730297923088, 0.004844627343118191, 0.02533702738583088, 0.020963426679372787, 0.021507643163204193, 0.008913046680390835, 0.01921679638326168, 0.008071621879935265, 0.006069602910429239, 0.003682346548885107, 0.014721487648785114, 0.0087495818734169, 0.014534679241478443, 0.007635458838194609, 0.0, 0.0, 0.0, 0.0, 0.0, 0.0, 0.0, 0.0, 0.0, 0.0, 0.0, 0.0, 0.0, 0.0, 0.0, 0.0, 0.0, 0.0, 0.0, 0.0, 0.0, 0.0, 0.0, 0.0, 0.0], [0.746492326259613, 0.005650580860674381, 0.004169878084212542, 0.005511926487088203, 0.018119273707270622, 0.012881101109087467, 0.012128164991736412, 0.00748971663415432, 0.03471115976572037, 0.027706187218427658, 0.026279309764504433, 0.014046929776668549, 0.028759803622961044, 0.0074588097631931305, 0.004996955394744873, 0.0038562656845897436, 0.012888643890619278, 0.007751014083623886, 0.008903543464839458, 0.0070438869297504425, 0.0031546105165034533, 0.0, 0.0, 0.0, 0.0, 0.0, 0.0, 0.0, 0.0, 0.0, 0.0, 0.0, 0.0, 0.0, 0.0, 0.0, 0.0, 0.0, 0.0, 0.0, 0.0, 0.0, 0.0, 0.0, 0.0], [0.8475207686424255, 0.0035779974423348904, 0.0018603786593303084, 0.002733886009082198, 0.011793892830610275, 0.009007943794131279, 0.007168255280703306, 0.003228328889235854, 0.029993880540132523, 0.01938137598335743, 0.015504945069551468, 0.007474124431610107, 0.00664479099214077, 0.002852320671081543, 0.002627465408295393, 0.0012786755105480552, 0.007054746150970459, 0.004790821578353643, 0.003767110640183091, 0.003731722244992852, 0.004391930066049099, 0.0036146363709121943, 0.0, 0.0, 0.0, 0.0, 0.0, 0.0, 0.0, 0.0, 0.0, 0.0, 0.0, 0.0, 0.0, 0.0, 0.0, 0.0, 0.0, 0.0, 0.0, 0.0, 0.0, 0.0, 0.0], [0.906651496887207, 0.001626473036594689, 0.0016820202581584454, 0.0019764455500990152, 0.009916886687278748, 0.008016152307391167, 0.0031009367667138577, 0.0019879485480487347, 0.005834308452904224, 0.008081508800387383, 0.017446909099817276, 0.003854517824947834, 0.0030426273588091135, 0.003085344098508358, 0.0011348981643095613, 0.0008380826329812407, 0.0012755028437823057, 0.0019464661600068212, 0.0031245991121977568, 0.0021889968775212765, 0.0037787791807204485, 0.0072186179459095, 0.002190487924963236, 0.0, 0.0, 0.0, 0.0, 0.0, 0.0, 0.0, 0.0, 0.0, 0.0, 0.0, 0.0, 0.0, 0.0, 0.0, 0.0, 0.0, 0.0, 0.0, 0.0, 0.0, 0.0], [0.8633393049240112, 0.0044653634540736675, 0.002295931102707982, 0.0028941722121089697, 0.009187241084873676, 0.013584546744823456, 0.004023089539259672, 0.004587123636156321, 0.004027246497571468, 0.007088830228894949, 0.017648058012127876, 0.017109937965869904, 0.00636795349419117, 0.005020210053771734, 0.0018179421313107014, 0.0017475377535447478, 0.0015859042759984732, 0.002670074813067913, 0.005102263297885656, 0.003648045938462019, 0.00397578626871109, 0.00649722944945097, 0.005505611654371023, 0.005810678005218506, 0.0, 0.0, 0.0, 0.0, 0.0, 0.0, 0.0, 0.0, 0.0, 0.0, 0.0, 0.0, 0.0, 0.0, 0.0, 0.0, 0.0, 0.0, 0.0, 0.0, 0.0], [0.7748473882675171, 0.005844081752002239, 0.0017536812229081988, 0.002221285831183195, 0.00660060765221715, 0.01007835939526558, 0.007722122594714165, 0.0022704405710101128, 0.017856229096651077, 0.0207176823168993, 0.01423565298318863, 0.008835474960505962, 0.009973633103072643, 0.009909220039844513, 0.006110834889113903, 0.0014849979197606444, 0.006723200436681509, 0.007742198649793863, 0.008092657662928104, 0.011237197555601597, 0.031562067568302155, 0.015689028427004814, 0.012448257766664028, 0.003197083715349436, 0.0028466384392231703, 0.0, 0.0, 0.0, 0.0, 0.0, 0.0, 0.0, 0.0, 0.0, 0.0, 0.0, 0.0, 0.0, 0.0, 0.0, 0.0, 0.0, 0.0, 0.0, 0.0], [0.7976632714271545, 0.00515946326777339, 0.001836148090660572, 0.00236075883731246, 0.007363767363131046, 0.00965835526585579, 0.009462760761380196, 0.003717102576047182, 0.020200427621603012, 0.014435882680118084, 0.019206905737519264, 0.005657735280692577, 0.01005857065320015, 0.0031575325410813093, 0.0055495197884738445, 0.0025666297879070044, 0.00820349995046854, 0.005096487235277891, 0.005082777701318264, 0.004272609483450651, 0.008247436955571175, 0.016295840963721275, 0.009830738417804241, 0.0037017532158643007, 0.010262100026011467, 0.010951898992061615, 0.0, 0.0, 0.0, 0.0, 0.0, 0.0, 0.0, 0.0, 0.0, 0.0, 0.0, 0.0, 0.0, 0.0, 0.0, 0.0, 0.0, 0.0, 0.0], [0.8257532119750977, 0.005959429778158665, 0.002023832406848669, 0.0011035712668672204, 0.0030886391177773476, 0.002960266312584281, 0.006230316124856472, 0.0016787860076874495, 0.032060764729976654, 0.026784397661685944, 0.020185217261314392, 0.004629591014236212, 0.005761102773249149, 0.0009587938548065722, 0.003560540731996298, 0.0013469833647832274, 0.011838157661259174, 0.006553466431796551, 0.0024924161843955517, 0.0009209381532855332, 0.002123607788234949, 0.008252124302089214, 0.006625220645219088, 0.0029967408627271652, 0.0035708171781152487, 0.002946608467027545, 0.007594429422169924, 0.0, 0.0, 0.0, 0.0, 0.0, 0.0, 0.0, 0.0, 0.0, 0.0, 0.0, 0.0, 0.0, 0.0, 0.0, 0.0, 0.0, 0.0], [0.7768019437789917, 0.00666925311088562, 0.0010172083275392652, 0.0010629156604409218, 0.004390291403979063, 0.004239075351506472, 0.006479976698756218, 0.0015139009337872267, 0.026345795020461082, 0.032061971724033356, 0.026865936815738678, 0.008952273987233639, 0.004012781195342541, 0.0019043957581743598, 0.0052718804217875, 0.0017236033454537392, 0.012394934892654419, 0.008222118020057678, 0.007484350353479385, 0.0024011749774217606, 0.008400159887969494, 0.009661741554737091, 0.007550172042101622, 0.006135276518762112, 0.0043939645402133465, 0.003758177859708667, 0.018912699073553085, 0.0013720433926209807, 0.0, 0.0, 0.0, 0.0, 0.0, 0.0, 0.0, 0.0, 0.0, 0.0, 0.0, 0.0, 0.0, 0.0, 0.0, 0.0, 0.0], [0.837803304195404, 0.0018523824401199818, 0.00047372461995109916, 0.0007426550728268921, 0.0016518579795956612, 0.001930843573063612, 0.0036433993373066187, 0.0017108521424233913, 0.009867330081760883, 0.006486348807811737, 0.010178403928875923, 0.003983994945883751, 0.00446459511294961, 0.0015406460734084249, 0.0022671278566122055, 0.0009024873725138605, 0.003091806313022971, 0.0016758230049163103, 0.002688447944819927, 0.0023154127411544323, 0.004605633672326803, 0.0078033036552369595, 0.005345143377780914, 0.0036298304330557585, 0.010277047753334045, 0.009351065382361412, 0.0364786833524704, 0.013028193265199661, 0.010209673084318638, 0.0, 0.0, 0.0, 0.0, 0.0, 0.0, 0.0, 0.0, 0.0, 0.0, 0.0, 0.0, 0.0, 0.0, 0.0, 0.0], [0.7073490619659424, 0.003968606237322092, 0.0006331885233521461, 0.0017741292249411345, 0.0027263425290584564, 0.0026746918447315693, 0.043690990656614304, 0.0077788736671209335, 0.06258337944746017, 0.03000657632946968, 0.015767628327012062, 0.002021172782406211, 0.005434743128716946, 0.0004474485758692026, 0.01918661780655384, 0.003342838492244482, 0.016149630770087242, 0.004914451390504837, 0.0029020991642028093, 0.0008289759862236679, 0.001550041139125824, 0.0019931993447244167, 0.001779205515049398, 0.0015812815399840474, 0.0020013859029859304, 0.004442636389285326, 0.03827396035194397, 0.010366846807301044, 0.00143662269692868, 0.002393360948190093, 0.0, 0.0, 0.0, 0.0, 0.0, 0.0, 0.0, 0.0, 0.0, 0.0, 0.0, 0.0, 0.0, 0.0, 0.0], [0.8404309153556824, 0.004645985085517168, 0.00094204256311059, 0.0009041076991707087, 0.0007981731905601919, 0.0013195851352065802, 0.005676474887877703, 0.0009915627306327224, 0.018416719511151314, 0.024265747517347336, 0.009364684112370014, 0.003475523553788662, 0.011519970372319221, 0.0007533170864917338, 0.004272272810339928, 0.0016731249634176493, 0.01210462860763073, 0.011321822181344032, 0.010296432301402092, 0.0007058563642203808, 0.0006270244484767318, 0.0006019221618771553, 0.0005720621556974947, 0.0007242828141897917, 0.0028112877625972033, 0.0011788049014285207, 0.01889464259147644, 0.006750511471182108, 0.0007758262217976153, 0.002745915437117219, 0.0004387657099869102, 0.0, 0.0, 0.0, 0.0, 0.0, 0.0, 0.0, 0.0, 0.0, 0.0, 0.0, 0.0, 0.0, 0.0], [0.8771007061004639, 0.0030765999108552933, 0.0005759497289545834, 0.0006952582043595612, 0.001021318370476365, 0.0009236271725967526, 0.004576880019158125, 0.002284181769937277, 0.01164863258600235, 0.019386576488614082, 0.012577243149280548, 0.003896363079547882, 0.002497405279427767, 0.0004009309341199696, 0.001556113245896995, 0.0011896206997334957, 0.004474373999983072, 0.004142284858971834, 0.003267564345151186, 0.0006512680556625128, 0.0007023604121059179, 0.00055299187079072, 0.0007143925176933408, 0.0016969692660495639, 0.002980616642162204, 0.0016647849697619677, 0.009817592799663544, 0.003309761406853795, 0.0013551721349358559, 0.011960145086050034, 0.007279069162905216, 0.0020233062095940113, 0.0, 0.0, 0.0, 0.0, 0.0, 0.0, 0.0, 0.0, 0.0, 0.0, 0.0, 0.0, 0.0], [0.8406317830085754, 0.0016832028049975634, 0.0006187181570567191, 0.0008386846166104078, 0.00031407034839503467, 0.0005696024163626134, 0.0013453994179144502, 0.0009642306831665337, 0.009954812005162239, 0.011696956120431423, 0.019518915563821793, 0.0026859468780457973, 0.003535081399604678, 0.0004025281232316047, 0.001227048458531499, 0.0009076259448193014, 0.005848550237715244, 0.003999778535217047, 0.013017953373491764, 0.0019070932175964117, 0.0023235047701746225, 0.0006726993597112596, 0.0007883613579906523, 0.0013133649481460452, 0.005079939961433411, 0.002495727501809597, 0.029328549280762672, 0.006183515768498182, 0.0013163757976144552, 0.015007233247160912, 0.006330545991659164, 0.0051142191514372826, 0.002378010656684637, 0.0, 0.0, 0.0, 0.0, 0.0, 0.0, 0.0, 0.0, 0.0, 0.0, 0.0, 0.0], [0.7464466691017151, 0.007923782803118229, 0.0014957435196265578, 0.0014243683544918895, 0.0018396397354081273, 0.004096053075045347, 0.005288058426231146, 0.0016256964299827814, 0.010825400240719318, 0.021588142961263657, 0.015762314200401306, 0.016871199011802673, 0.0037694203201681376, 0.0022518669720739126, 0.0053239199332892895, 0.0015873551601544023, 0.008183501660823822, 0.008184004575014114, 0.007576665375381708, 0.0026440457440912724, 0.004863410722464323, 0.0032392607536166906, 0.003709625219926238, 0.007801523897796869, 0.0074054948054254055, 0.0024720814544707537, 0.012692739255726337, 0.006274672690778971, 0.004919223953038454, 0.0087836729362607, 0.006920410320162773, 0.002858518622815609, 0.01619465835392475, 0.03715674579143524, 0.0, 0.0, 0.0, 0.0, 0.0, 0.0, 0.0, 0.0, 0.0, 0.0, 0.0], [0.39573872089385986, 0.027167340740561485, 0.0141660887748003, 0.026691902428865433, 0.012184582650661469, 0.02185356803238392, 0.010214906185865402, 0.004244633950293064, 0.00611021276563406, 0.007342478726059198, 0.026670275256037712, 0.022296633571386337, 0.030277865007519722, 0.020023880526423454, 0.01402753870934248, 0.006878259126096964, 0.009114558808505535, 0.008165241219103336, 0.06572011858224869, 0.040641698986291885, 0.021456988528370857, 0.015147596597671509, 0.01913357898592949, 0.020659971982240677, 0.026614589616656303, 0.02041897177696228, 0.007153157144784927, 0.003921381197869778, 0.013208850286900997, 0.010644206777215004, 0.00863789301365614, 0.0062700253911316395, 0.004203230142593384, 0.02142244391143322, 0.03157668933272362, 0.0, 0.0, 0.0, 0.0, 0.0, 0.0, 0.0, 0.0, 0.0, 0.0], [0.4712165892124176, 0.010442688129842281, 0.0027026627212762833, 0.002981634344905615, 0.0035335698630660772, 0.010297976434230804, 0.01456624548882246, 0.004766788333654404, 0.01466161198914051, 0.009836156852543354, 0.01747438684105873, 0.007688615005463362, 0.04023091122508049, 0.005802135448902845, 0.016119040548801422, 0.005573487840592861, 0.013739034533500671, 0.0068533169105648994, 0.06890349090099335, 0.02606210671365261, 0.033142153173685074, 0.008528529666364193, 0.004677729681134224, 0.0026992291677743196, 0.037580739706754684, 0.017941109836101532, 0.017173999920487404, 0.013645477592945099, 0.011633376590907574, 0.008866706863045692, 0.010807391256093979, 0.007084384560585022, 0.01357827614992857, 0.040138717740774155, 0.012219161726534367, 0.006830486468970776, 0.0, 0.0, 0.0, 0.0, 0.0, 0.0, 0.0, 0.0, 0.0], [0.6888553500175476, 0.008554020896553993, 0.0022305219899863005, 0.003253650851547718, 0.0061357468366622925, 0.010456130839884281, 0.00440166424959898, 0.002016448648646474, 0.006633611861616373, 0.007291780319064856, 0.011982378549873829, 0.010611937381327152, 0.027099085971713066, 0.007081762887537479, 0.004155468195676804, 0.0022595960181206465, 0.005876690149307251, 0.0038921216037124395, 0.016356850042939186, 0.009355977177619934, 0.010830610059201717, 0.010528887622058392, 0.003776099067181349, 0.001906558871269226, 0.022498030215501785, 0.01351096760481596, 0.009883610531687737, 0.007320134900510311, 0.010347879491746426, 0.009177488274872303, 0.002947521163150668, 0.004489031620323658, 0.009682327508926392, 0.02295174077153206, 0.010702401399612427, 0.007399323396384716, 0.0035464223474264145, 0.0, 0.0, 0.0, 0.0, 0.0, 0.0, 0.0, 0.0], [0.7867828011512756, 0.0032397564500570297, 0.0008729496621526778, 0.0012184006627649069, 0.0020185846369713545, 0.004504622891545296, 0.004238753579556942, 0.0012008312623947859, 0.006981935352087021, 0.005338863003998995, 0.008000737056136131, 0.0044118440710008144, 0.012675011530518532, 0.004321438726037741, 0.003644973039627075, 0.0011386917904019356, 0.004032795783132315, 0.0022636696230620146, 0.005639877635985613, 0.003634597407653928, 0.005068507976830006, 0.0063889543525874615, 0.002810962963849306, 0.0013664041180163622, 0.013264897279441357, 0.007528989110141993, 0.013261381536722183, 0.007777903228998184, 0.0046236952766776085, 0.008642085827887058, 0.0026185191236436367, 0.005397266708314419, 0.005349017679691315, 0.02840828336775303, 0.005169801414012909, 0.00443267123773694, 0.006496515590697527, 0.005233104340732098, 0.0, 0.0, 0.0, 0.0, 0.0, 0.0, 0.0], [0.73965984582901, 0.002511068480089307, 0.0008310688426718116, 0.001661555259488523, 0.002118027303367853, 0.0036652134731411934, 0.004934756085276604, 0.001794913550838828, 0.007335916627198458, 0.007630267180502415, 0.011034971103072166, 0.0043354094959795475, 0.007595357019454241, 0.006805804558098316, 0.0028012460097670555, 0.0013676799135282636, 0.00385328964330256, 0.0034075018484145403, 0.004807278048247099, 0.003068178193643689, 0.004158391151577234, 0.005511240568011999, 0.0032499206718057394, 0.001987038180232048, 0.01008154358714819, 0.008871457539498806, 0.028354424983263016, 0.011305387131869793, 0.004721860401332378, 0.016285564750432968, 0.0038307360373437405, 0.005790118593722582, 0.005255650728940964, 0.033962883055210114, 0.0033959532156586647, 0.0053267464973032475, 0.00780365988612175, 0.0075019653886556625, 0.011386159807443619, 0.0, 0.0, 0.0, 0.0, 0.0, 0.0], [0.7193145751953125, 0.00567310256883502, 0.0011314490111544728, 0.0014251680113375187, 0.004235048778355122, 0.008161254227161407, 0.0036783991381525993, 0.0010183434933423996, 0.01654697395861149, 0.010769364424049854, 0.017199140042066574, 0.006439696531742811, 0.003968655131757259, 0.005542289931327105, 0.003473970340564847, 0.0009959439048543572, 0.008397061377763748, 0.0040338002145290375, 0.010007168166339397, 0.0024354991037398577, 0.00593887735158205, 0.004753333982080221, 0.0025350654032081366, 0.003983895294368267, 0.010240905918180943, 0.005156106781214476, 0.018622243776917458, 0.004432665184140205, 0.005937244277447462, 0.006948414258658886, 0.004600917920470238, 0.005892503075301647, 0.011295624077320099, 0.041007693856954575, 0.003541284240782261, 0.002074739895761013, 0.0018742408137768507, 0.006693664006888866, 0.009283404797315598, 0.010740203782916069, 0.0, 0.0, 0.0, 0.0, 0.0], [0.41873395442962646, 0.01284374576061964, 0.002819047076627612, 0.004154927562922239, 0.003222287865355611, 0.002547087147831917, 0.01775621809065342, 0.010433828458189964, 0.009398849681019783, 0.02142292633652687, 0.016881288960576057, 0.009885778650641441, 0.0449259951710701, 0.002119695069268346, 0.027460668236017227, 0.03129588067531586, 0.022662343457341194, 0.016848590224981308, 0.019057173281908035, 0.0028341941069811583, 0.0030962207820266485, 0.0016484236111864448, 0.0011841225204989314, 0.0017381813377141953, 0.007672514300793409, 0.00521693704649806, 0.01774640753865242, 0.006014402490109205, 0.002598576247692108, 0.07697109133005142, 0.02568134106695652, 0.010039053857326508, 0.005671205930411816, 0.014171491377055645, 0.011366547085344791, 0.03993202745914459, 0.008814392611384392, 0.004680001176893711, 0.00835754070430994, 0.009701192378997803, 0.04039385914802551, 0.0, 0.0, 0.0, 0.0], [0.30552512407302856, 0.013087987899780273, 0.005913052707910538, 0.007101394236087799, 0.00454868096858263, 0.0056788185611367226, 0.030618615448474884, 0.0020775715820491314, 0.027891293168067932, 0.039963237941265106, 0.04585295543074608, 0.012783963233232498, 0.038039855659008026, 0.002721714787185192, 0.045766837894916534, 0.006318917963653803, 0.04054995998740196, 0.02803134173154831, 0.04154225066304207, 0.007739183027297258, 0.004886068869382143, 0.0025017126463353634, 0.005059493239969015, 0.004880166612565517, 0.009028631262481213, 0.008761662058532238, 0.016555950045585632, 0.007792078889906406, 0.006588660180568695, 0.013496505096554756, 0.01752905175089836, 0.012395528145134449, 0.00936666689813137, 0.024688154458999634, 0.01164748053997755, 0.025421341881155968, 0.026796188205480576, 0.011282423511147499, 0.00991737563163042, 0.006513127591460943, 0.04232599958777428, 0.010813013650476933, 0.0, 0.0, 0.0], [0.24545827507972717, 0.009767675772309303, 0.004886587616056204, 0.004080931190401316, 0.009212109260261059, 0.00971555057913065, 0.01685069501399994, 0.008073247037827969, 0.0069922348484396935, 0.01905103214085102, 0.04672805219888687, 0.011681972071528435, 0.03725556284189224, 0.006100678816437721, 0.031282514333724976, 0.023404480889439583, 0.012738974764943123, 0.018409989774227142, 0.04412012919783592, 0.00838884711265564, 0.008196452632546425, 0.007306263316422701, 0.002952976617962122, 0.0016636396758258343, 0.012951834127306938, 0.007445190101861954, 0.02507040463387966, 0.011949468404054642, 0.007947612553834915, 0.04099545627832413, 0.037807974964380264, 0.016698583960533142, 0.006258576177060604, 0.0410662405192852, 0.010600103065371513, 0.04279737547039986, 0.02018338069319725, 0.01176304742693901, 0.007613538298755884, 0.014221668243408203, 0.03594961389899254, 0.03608829528093338, 0.018272805958986282, 0.0, 0.0], [0.20901748538017273, 0.009587462060153484, 0.005256056785583496, 0.005124444607645273, 0.006930821109563112, 0.013098013587296009, 0.013674141839146614, 0.007528246380388737, 0.012200351804494858, 0.00877936091274023, 0.06895255297422409, 0.014134851284325123, 0.03569160774350166, 0.004322588909417391, 0.026154275983572006, 0.015592047944664955, 0.02169683575630188, 0.009009720757603645, 0.06151227280497551, 0.012413885444402695, 0.010748155415058136, 0.008706854656338692, 0.005066992249339819, 0.002531280741095543, 0.0250056404620409, 0.008621837012469769, 0.02175026200711727, 0.014383637346327305, 0.008828938007354736, 0.0247524194419384, 0.02325027994811535, 0.012162343598902225, 0.004753428976982832, 0.05903952568769455, 0.012349452823400497, 0.027806516736745834, 0.022070230916142464, 0.01642696000635624, 0.007779057137668133, 0.013716219924390316, 0.03322727233171463, 0.028116833418607712, 0.03146941959857941, 0.016759442165493965, 0.0], [0.750870943069458, 0.003935760818421841, 0.002776131499558687, 0.0026616875547915697, 0.004367234650999308, 0.007912680506706238, 0.003718577092513442, 0.0011355180758982897, 0.005317956209182739, 0.007712826132774353, 0.01372990570962429, 0.004563124850392342, 0.010835746303200722, 0.005105485673993826, 0.002741957549005747, 0.0008194157853722572, 0.0031611097510904074, 0.004445357248187065, 0.009263074025511742, 0.01098958682268858, 0.007802213076502085, 0.002212758408859372, 0.0035559791140258312, 0.0020350776612758636, 0.006389838643372059, 0.00822473131120205, 0.007529529742896557, 0.004426715895533562, 0.005819992627948523, 0.0026897608768194914, 0.0016955535393208265, 0.0016780034638941288, 0.0014512620400637388, 0.010033831000328064, 0.006048514507710934, 0.008113354444503784, 0.01895330846309662, 0.016004076227545738, 0.007150600664317608, 0.006695701740682125, 0.0028615975752472878, 0.0010654439684003592, 0.004206724930554628, 0.004411652684211731, 0.0028797537088394165]], [[1.0, 0.0, 0.0, 0.0, 0.0, 0.0, 0.0, 0.0, 0.0, 0.0, 0.0, 0.0, 0.0, 0.0, 0.0, 0.0, 0.0, 0.0, 0.0, 0.0, 0.0, 0.0, 0.0, 0.0, 0.0, 0.0, 0.0, 0.0, 0.0, 0.0, 0.0, 0.0, 0.0, 0.0, 0.0, 0.0, 0.0, 0.0, 0.0, 0.0, 0.0, 0.0, 0.0, 0.0, 0.0], [0.9721025228500366, 0.027897484600543976, 0.0, 0.0, 0.0, 0.0, 0.0, 0.0, 0.0, 0.0, 0.0, 0.0, 0.0, 0.0, 0.0, 0.0, 0.0, 0.0, 0.0, 0.0, 0.0, 0.0, 0.0, 0.0, 0.0, 0.0, 0.0, 0.0, 0.0, 0.0, 0.0, 0.0, 0.0, 0.0, 0.0, 0.0, 0.0, 0.0, 0.0, 0.0, 0.0, 0.0, 0.0, 0.0, 0.0], [0.9105847477912903, 0.060431551188230515, 0.02898380532860756, 0.0, 0.0, 0.0, 0.0, 0.0, 0.0, 0.0, 0.0, 0.0, 0.0, 0.0, 0.0, 0.0, 0.0, 0.0, 0.0, 0.0, 0.0, 0.0, 0.0, 0.0, 0.0, 0.0, 0.0, 0.0, 0.0, 0.0, 0.0, 0.0, 0.0, 0.0, 0.0, 0.0, 0.0, 0.0, 0.0, 0.0, 0.0, 0.0, 0.0, 0.0, 0.0], [0.8596985340118408, 0.08996199071407318, 0.02575741522014141, 0.02458209916949272, 0.0, 0.0, 0.0, 0.0, 0.0, 0.0, 0.0, 0.0, 0.0, 0.0, 0.0, 0.0, 0.0, 0.0, 0.0, 0.0, 0.0, 0.0, 0.0, 0.0, 0.0, 0.0, 0.0, 0.0, 0.0, 0.0, 0.0, 0.0, 0.0, 0.0, 0.0, 0.0, 0.0, 0.0, 0.0, 0.0, 0.0, 0.0, 0.0, 0.0, 0.0], [0.7680564522743225, 0.062364611774683, 0.028553133830428123, 0.02370702661573887, 0.11731879413127899, 0.0, 0.0, 0.0, 0.0, 0.0, 0.0, 0.0, 0.0, 0.0, 0.0, 0.0, 0.0, 0.0, 0.0, 0.0, 0.0, 0.0, 0.0, 0.0, 0.0, 0.0, 0.0, 0.0, 0.0, 0.0, 0.0, 0.0, 0.0, 0.0, 0.0, 0.0, 0.0, 0.0, 0.0, 0.0, 0.0, 0.0, 0.0, 0.0, 0.0], [0.47581246495246887, 0.031136542558670044, 0.013257323764264584, 0.006589735858142376, 0.20435546338558197, 0.26884838938713074, 0.0, 0.0, 0.0, 0.0, 0.0, 0.0, 0.0, 0.0, 0.0, 0.0, 0.0, 0.0, 0.0, 0.0, 0.0, 0.0, 0.0, 0.0, 0.0, 0.0, 0.0, 0.0, 0.0, 0.0, 0.0, 0.0, 0.0, 0.0, 0.0, 0.0, 0.0, 0.0, 0.0, 0.0, 0.0, 0.0, 0.0, 0.0, 0.0], [0.8681087493896484, 0.01302351988852024, 0.0029856269247829914, 0.0028101506177335978, 0.0030561971943825483, 0.006136844400316477, 0.1038789451122284, 0.0, 0.0, 0.0, 0.0, 0.0, 0.0, 0.0, 0.0, 0.0, 0.0, 0.0, 0.0, 0.0, 0.0, 0.0, 0.0, 0.0, 0.0, 0.0, 0.0, 0.0, 0.0, 0.0, 0.0, 0.0, 0.0, 0.0, 0.0, 0.0, 0.0, 0.0, 0.0, 0.0, 0.0, 0.0, 0.0, 0.0, 0.0], [0.931358277797699, 0.00532484007999301, 0.0015351539477705956, 0.0017787017859518528, 0.00032657833071425557, 0.0012789979809895158, 0.04616769403219223, 0.0122298002243042, 0.0, 0.0, 0.0, 0.0, 0.0, 0.0, 0.0, 0.0, 0.0, 0.0, 0.0, 0.0, 0.0, 0.0, 0.0, 0.0, 0.0, 0.0, 0.0, 0.0, 0.0, 0.0, 0.0, 0.0, 0.0, 0.0, 0.0, 0.0, 0.0, 0.0, 0.0, 0.0, 0.0, 0.0, 0.0, 0.0, 0.0], [0.5842300057411194, 0.0023152402136474848, 0.0013396987924352288, 0.0011357549810782075, 0.0015856159152463078, 0.004060316830873489, 0.0440257266163826, 0.04204893484711647, 0.3192586600780487, 0.0, 0.0, 0.0, 0.0, 0.0, 0.0, 0.0, 0.0, 0.0, 0.0, 0.0, 0.0, 0.0, 0.0, 0.0, 0.0, 0.0, 0.0, 0.0, 0.0, 0.0, 0.0, 0.0, 0.0, 0.0, 0.0, 0.0, 0.0, 0.0, 0.0, 0.0, 0.0, 0.0, 0.0, 0.0, 0.0], [0.7581196427345276, 0.003709490178152919, 0.0018107349751517177, 0.002603791654109955, 0.0006181932403706014, 0.004985729232430458, 0.007676802575588226, 0.03031262569129467, 0.08469205349683762, 0.10547099262475967, 0.0, 0.0, 0.0, 0.0, 0.0, 0.0, 0.0, 0.0, 0.0, 0.0, 0.0, 0.0, 0.0, 0.0, 0.0, 0.0, 0.0, 0.0, 0.0, 0.0, 0.0, 0.0, 0.0, 0.0, 0.0, 0.0, 0.0, 0.0, 0.0, 0.0, 0.0, 0.0, 0.0, 0.0, 0.0], [0.31786248087882996, 0.013175264932215214, 0.002826092066243291, 0.0042013684287667274, 0.02757708728313446, 0.15308277308940887, 0.02446509152650833, 0.025903336703777313, 0.12914204597473145, 0.22768481075763702, 0.07407970726490021, 0.0, 0.0, 0.0, 0.0, 0.0, 0.0, 0.0, 0.0, 0.0, 0.0, 0.0, 0.0, 0.0, 0.0, 0.0, 0.0, 0.0, 0.0, 0.0, 0.0, 0.0, 0.0, 0.0, 0.0, 0.0, 0.0, 0.0, 0.0, 0.0, 0.0, 0.0, 0.0, 0.0, 0.0], [0.5172531604766846, 0.019464651122689247, 0.007410205900669098, 0.005973463412374258, 0.04131569713354111, 0.11013729870319366, 0.011631383560597897, 0.0084864292293787, 0.035214006900787354, 0.044816553592681885, 0.1675911694765091, 0.030705956742167473, 0.0, 0.0, 0.0, 0.0, 0.0, 0.0, 0.0, 0.0, 0.0, 0.0, 0.0, 0.0, 0.0, 0.0, 0.0, 0.0, 0.0, 0.0, 0.0, 0.0, 0.0, 0.0, 0.0, 0.0, 0.0, 0.0, 0.0, 0.0, 0.0, 0.0, 0.0, 0.0, 0.0], [0.7438639998435974, 0.010861280374228954, 0.0023185007739812136, 0.0037802744191139936, 0.0074828811921179295, 0.00712478207424283, 0.029963543638586998, 0.020273394882678986, 0.05136331543326378, 0.026692984625697136, 0.04910300672054291, 0.02782290056347847, 0.01934906281530857, 0.0, 0.0, 0.0, 0.0, 0.0, 0.0, 0.0, 0.0, 0.0, 0.0, 0.0, 0.0, 0.0, 0.0, 0.0, 0.0, 0.0, 0.0, 0.0, 0.0, 0.0, 0.0, 0.0, 0.0, 0.0, 0.0, 0.0, 0.0, 0.0, 0.0, 0.0, 0.0], [0.887225329875946, 0.009207120165228844, 0.0018664574017748237, 0.005096543580293655, 0.0036247980315238237, 0.004378879442811012, 0.002226831391453743, 0.0005104949232190847, 0.0036727834958583117, 0.00861797109246254, 0.0245954766869545, 0.017889143899083138, 0.012932279147207737, 0.018155885860323906, 0.0, 0.0, 0.0, 0.0, 0.0, 0.0, 0.0, 0.0, 0.0, 0.0, 0.0, 0.0, 0.0, 0.0, 0.0, 0.0, 0.0, 0.0, 0.0, 0.0, 0.0, 0.0, 0.0, 0.0, 0.0, 0.0, 0.0, 0.0, 0.0, 0.0, 0.0], [0.534240186214447, 0.004317855462431908, 0.0009923692559823394, 0.003155072685331106, 0.0029068412259221077, 0.010930542834103107, 0.14644700288772583, 0.009936301037669182, 0.061277229338884354, 0.0986328125, 0.06360888481140137, 0.011265871115028858, 0.006065673660486937, 0.0012978680897504091, 0.04492553696036339, 0.0, 0.0, 0.0, 0.0, 0.0, 0.0, 0.0, 0.0, 0.0, 0.0, 0.0, 0.0, 0.0, 0.0, 0.0, 0.0, 0.0, 0.0, 0.0, 0.0, 0.0, 0.0, 0.0, 0.0, 0.0, 0.0, 0.0, 0.0, 0.0, 0.0], [0.3577033281326294, 0.004297330509871244, 0.0007434916333295405, 0.002423190511763096, 0.0021051650401204824, 0.014352015219628811, 0.21875864267349243, 0.024983404204249382, 0.04405638948082924, 0.07794982939958572, 0.15397515892982483, 0.005560585763305426, 0.003623946802690625, 0.0028256643563508987, 0.07054008543491364, 0.016101771965622902, 0.0, 0.0, 0.0, 0.0, 0.0, 0.0, 0.0, 0.0, 0.0, 0.0, 0.0, 0.0, 0.0, 0.0, 0.0, 0.0, 0.0, 0.0, 0.0, 0.0, 0.0, 0.0, 0.0, 0.0, 0.0, 0.0, 0.0, 0.0, 0.0], [0.29927724599838257, 0.0013140185037627816, 0.0004997554933652282, 0.0020233788527548313, 0.003001769073307514, 0.0139930984005332, 0.08782859146595001, 0.017491014674305916, 0.3433120846748352, 0.07538796961307526, 0.06997746974229813, 0.0034471850376576185, 0.00493325712159276, 0.0009745716815814376, 0.032926809042692184, 0.00847548432648182, 0.03513630852103233, 0.0, 0.0, 0.0, 0.0, 0.0, 0.0, 0.0, 0.0, 0.0, 0.0, 0.0, 0.0, 0.0, 0.0, 0.0, 0.0, 0.0, 0.0, 0.0, 0.0, 0.0, 0.0, 0.0, 0.0, 0.0, 0.0, 0.0, 0.0], [0.30968573689460754, 0.0027294468600302935, 0.0010511991567909718, 0.0029747483786195517, 0.0037767309695482254, 0.022837691009044647, 0.04478772357106209, 0.03503595292568207, 0.11212862282991409, 0.1732201725244522, 0.130960151553154, 0.010924269445240498, 0.029996231198310852, 0.01587641052901745, 0.029209084808826447, 0.01114098634570837, 0.01672356389462948, 0.04694125056266785, 0.0, 0.0, 0.0, 0.0, 0.0, 0.0, 0.0, 0.0, 0.0, 0.0, 0.0, 0.0, 0.0, 0.0, 0.0, 0.0, 0.0, 0.0, 0.0, 0.0, 0.0, 0.0, 0.0, 0.0, 0.0, 0.0, 0.0], [0.6545507907867432, 0.0037792278453707695, 0.000415153888752684, 0.0011754782171919942, 0.0005023573758080602, 0.001753161777742207, 0.016353122889995575, 0.00856689177453518, 0.060871563851833344, 0.0477292463183403, 0.05035471171140671, 0.023509390652179718, 0.027561744675040245, 0.014773307368159294, 0.012741903774440289, 0.008559067733585835, 0.020156994462013245, 0.028952013701200485, 0.01769390143454075, 0.0, 0.0, 0.0, 0.0, 0.0, 0.0, 0.0, 0.0, 0.0, 0.0, 0.0, 0.0, 0.0, 0.0, 0.0, 0.0, 0.0, 0.0, 0.0, 0.0, 0.0, 0.0, 0.0, 0.0, 0.0, 0.0], [0.5644027590751648, 0.005128849763423204, 0.0006814866210334003, 0.0010410245740786195, 0.003302959492430091, 0.0035262559540569782, 0.02632347121834755, 0.019842518493533134, 0.08045852184295654, 0.044673189520835876, 0.06786519289016724, 0.009983700700104237, 0.018891705200076103, 0.009475785307586193, 0.014179162681102753, 0.012421682476997375, 0.03272494673728943, 0.020258828997612, 0.029154716059565544, 0.03566320240497589, 0.0, 0.0, 0.0, 0.0, 0.0, 0.0, 0.0, 0.0, 0.0, 0.0, 0.0, 0.0, 0.0, 0.0, 0.0, 0.0, 0.0, 0.0, 0.0, 0.0, 0.0, 0.0, 0.0, 0.0, 0.0], [0.4419200122356415, 0.007966877892613411, 0.00417008763179183, 0.005977198947221041, 0.020222807303071022, 0.03784795105457306, 0.018069565296173096, 0.012260530143976212, 0.14753465354442596, 0.026872625574469566, 0.11647586524486542, 0.011956472881138325, 0.007026297505944967, 0.006197919137775898, 0.00992552749812603, 0.01048887986689806, 0.032624501734972, 0.011572567746043205, 0.013644989579916, 0.0279106255620718, 0.029334094375371933, 0.0, 0.0, 0.0, 0.0, 0.0, 0.0, 0.0, 0.0, 0.0, 0.0, 0.0, 0.0, 0.0, 0.0, 0.0, 0.0, 0.0, 0.0, 0.0, 0.0, 0.0, 0.0, 0.0, 0.0], [0.5708944201469421, 0.006855424959212542, 0.0025555556640028954, 0.003923130687326193, 0.016079820692539215, 0.0157560333609581, 0.026857523247599602, 0.01561865583062172, 0.06477522850036621, 0.018438857048749924, 0.047080691903829575, 0.009339332580566406, 0.005177996587008238, 0.006761304568499327, 0.011319435201585293, 0.007057111244648695, 0.020620815455913544, 0.008293600752949715, 0.005798011552542448, 0.010421164333820343, 0.026290971785783768, 0.10008502006530762, 0.0, 0.0, 0.0, 0.0, 0.0, 0.0, 0.0, 0.0, 0.0, 0.0, 0.0, 0.0, 0.0, 0.0, 0.0, 0.0, 0.0, 0.0, 0.0, 0.0, 0.0, 0.0, 0.0], [0.4341248869895935, 0.0017976145027205348, 0.0020577425602823496, 0.0017915781354531646, 0.004596927668899298, 0.004133967217057943, 0.013440706767141819, 0.003878855612128973, 0.09875170886516571, 0.015918700024485588, 0.053131330758333206, 0.005660535767674446, 0.004785318858921528, 0.003546080319210887, 0.009284120984375477, 0.004474475979804993, 0.04163219779729843, 0.010550311766564846, 0.015508552081882954, 0.022701486945152283, 0.049273889511823654, 0.080570288002491, 0.11838874220848083, 0.0, 0.0, 0.0, 0.0, 0.0, 0.0, 0.0, 0.0, 0.0, 0.0, 0.0, 0.0, 0.0, 0.0, 0.0, 0.0, 0.0, 0.0, 0.0, 0.0, 0.0, 0.0], [0.5782598853111267, 0.00626455107703805, 0.005043599754571915, 0.003071580547839403, 0.019394006580114365, 0.01354142278432846, 0.007483756169676781, 0.005449394695460796, 0.02100376971065998, 0.015117025934159756, 0.042575653642416, 0.008723498322069645, 0.019678691402077675, 0.011744157411158085, 0.004974819254130125, 0.0028274094220250845, 0.011968248523771763, 0.007674281019717455, 0.014475134201347828, 0.016654029488563538, 0.026285704225301743, 0.037947576493024826, 0.10488603264093399, 0.014955740422010422, 0.0, 0.0, 0.0, 0.0, 0.0, 0.0, 0.0, 0.0, 0.0, 0.0, 0.0, 0.0, 0.0, 0.0, 0.0, 0.0, 0.0, 0.0, 0.0, 0.0, 0.0], [0.3483124077320099, 0.0070884497836232185, 0.000833009893540293, 0.001024009077809751, 0.00045322065125219524, 0.0009296318748965859, 0.003065548138692975, 0.003109035547822714, 0.07963894307613373, 0.010763287544250488, 0.049702804535627365, 0.004744690842926502, 0.03208933398127556, 0.004783858545124531, 0.00415645120665431, 0.005963930860161781, 0.06713290512561798, 0.01248429249972105, 0.017598653212189674, 0.07160119712352753, 0.011097966693341732, 0.08538345992565155, 0.048995133489370346, 0.006818630266934633, 0.1222291886806488, 0.0, 0.0, 0.0, 0.0, 0.0, 0.0, 0.0, 0.0, 0.0, 0.0, 0.0, 0.0, 0.0, 0.0, 0.0, 0.0, 0.0, 0.0, 0.0, 0.0], [0.40456724166870117, 0.00878885481506586, 0.00199146824888885, 0.001978053944185376, 0.0016313561936840415, 0.002465867903083563, 0.011508702300488949, 0.006798556074500084, 0.061367638409137726, 0.029865017160773277, 0.0357278473675251, 0.0025371843948960304, 0.012721165083348751, 0.0027936308179050684, 0.006895309314131737, 0.01177304983139038, 0.030331319198012352, 0.01741982065141201, 0.006813579238951206, 0.011992190964519978, 0.013180595822632313, 0.061990585178136826, 0.02297382242977619, 0.009235989302396774, 0.13752277195453644, 0.08512832224369049, 0.0, 0.0, 0.0, 0.0, 0.0, 0.0, 0.0, 0.0, 0.0, 0.0, 0.0, 0.0, 0.0, 0.0, 0.0, 0.0, 0.0, 0.0, 0.0], [0.5531922578811646, 0.0038829802069813013, 0.0017826211405918002, 0.0012771537294611335, 0.0004145109560340643, 0.0014486272120848298, 0.005734818056225777, 0.0014447763096541166, 0.13844943046569824, 0.018747791647911072, 0.015878766775131226, 0.003945185337215662, 0.002201224211603403, 0.0004187424201518297, 0.0023628517519682646, 0.00200459873303771, 0.029380379244685173, 0.00580652616918087, 0.0003182604268658906, 0.0015743214171379805, 0.0027313497848808765, 0.012662488035857677, 0.005421410780400038, 0.011900835670530796, 0.002133970847353339, 0.009585365653038025, 0.16529875993728638, 0.0, 0.0, 0.0, 0.0, 0.0, 0.0, 0.0, 0.0, 0.0, 0.0, 0.0, 0.0, 0.0, 0.0, 0.0, 0.0, 0.0, 0.0], [0.5794602632522583, 0.005825231317430735, 0.0025393785908818245, 0.0018388839671388268, 0.00035169487819075584, 0.0020120858680456877, 0.0060174851678311825, 0.0004571947210934013, 0.007188091985881329, 0.0023730681277811527, 0.003784250933676958, 0.01950487680733204, 0.004197678063064814, 0.0016273129731416702, 0.0031353102531284094, 0.000919597689062357, 0.004009251017123461, 0.002313054632395506, 0.00122390640899539, 0.01267390139400959, 0.007468230091035366, 0.011737226508557796, 0.004157167859375477, 0.017842981964349747, 0.01493059005588293, 0.02181134559214115, 0.07334430515766144, 0.1872556209564209, 0.0, 0.0, 0.0, 0.0, 0.0, 0.0, 0.0, 0.0, 0.0, 0.0, 0.0, 0.0, 0.0, 0.0, 0.0, 0.0, 0.0], [0.5838842391967773, 0.005296377465128899, 0.001432530116289854, 0.0022242076229304075, 0.0022550062276422977, 0.0022983644157648087, 0.006130029447376728, 0.0022555880714207888, 0.021568845957517624, 0.003832008223980665, 0.008753896690905094, 0.004172504413872957, 0.006742903497070074, 0.0018258349737152457, 0.004884419497102499, 0.0025592895690351725, 0.009815732948482037, 0.0021821947302669287, 0.0008339438936673105, 0.0027216344606131315, 0.004269861616194248, 0.022519107908010483, 0.004302562680095434, 0.0056017558090388775, 0.015029805712401867, 0.03617173433303833, 0.04876924678683281, 0.13198651373386383, 0.05567983165383339, 0.0, 0.0, 0.0, 0.0, 0.0, 0.0, 0.0, 0.0, 0.0, 0.0, 0.0, 0.0, 0.0, 0.0, 0.0, 0.0], [0.7691228985786438, 0.012103371322154999, 0.003683744464069605, 0.006274351384490728, 0.0039273155853152275, 0.0031018140725791454, 0.009879883378744125, 0.005110114347189665, 0.028600379824638367, 0.02423235774040222, 0.009007582440972328, 0.0037901352625340223, 0.00796441175043583, 0.0011907119769603014, 0.005090432241559029, 0.003879301715642214, 0.005966547876596451, 0.007609071675688028, 0.00028307753382250667, 0.0013795886188745499, 0.0009131756378337741, 0.0009848998161032796, 0.001641069888137281, 0.00851020310074091, 0.004257447551935911, 0.005277505610138178, 0.026461824774742126, 0.004438658244907856, 0.004259602166712284, 0.031058507040143013, 0.0, 0.0, 0.0, 0.0, 0.0, 0.0, 0.0, 0.0, 0.0, 0.0, 0.0, 0.0, 0.0, 0.0, 0.0], [0.8221250176429749, 0.0016702100401744246, 0.0010200979886576533, 0.0010256407549604774, 0.0005521175917237997, 0.001878743409179151, 0.003504935884848237, 0.0010878675384446979, 0.010403641499578953, 0.036087747663259506, 0.010350453667342663, 0.0036701790522783995, 0.0059058936312794685, 0.00019669778703246266, 0.0027258109766989946, 0.002090609632432461, 0.00485796295106411, 0.020411010831594467, 0.005007861647754908, 0.0029830392450094223, 0.00123309635091573, 0.0003650459984783083, 0.00040726340375840664, 0.0041893478482961655, 0.00580646563321352, 0.0024732716847211123, 0.013598441146314144, 0.0009629910346120596, 0.0015906249172985554, 0.012843204662203789, 0.01897457428276539, 0.0, 0.0, 0.0, 0.0, 0.0, 0.0, 0.0, 0.0, 0.0, 0.0, 0.0, 0.0, 0.0, 0.0], [0.772100031375885, 0.001541502890177071, 0.0006796912639401853, 0.0008373279706574976, 0.0011916629737243056, 0.001243654522113502, 0.01221340149641037, 0.0019155718619003892, 0.006421376951038837, 0.007669331505894661, 0.006285595707595348, 0.003085407428443432, 0.0008012969046831131, 0.00017300709441769868, 0.0035139708779752254, 0.0006435077521018684, 0.0012683285167440772, 0.0019142689416185021, 0.00021304012625478208, 0.0006293486221693456, 0.0004572928883135319, 0.0005930431070737541, 0.00028020949685014784, 0.0055965520441532135, 0.0020594762172549963, 0.0026813410222530365, 0.01534985937178135, 0.0027414767537266016, 0.002419514348730445, 0.021288184449076653, 0.09304630756378174, 0.02914547175168991, 0.0, 0.0, 0.0, 0.0, 0.0, 0.0, 0.0, 0.0, 0.0, 0.0, 0.0, 0.0, 0.0], [0.5432301163673401, 0.0010324353352189064, 0.0005192607059143484, 0.0006035786354914308, 0.00013464884250424802, 0.0003851225774269551, 0.002751526888459921, 0.005539591424167156, 0.06502682715654373, 0.01623525284230709, 0.006494966335594654, 0.002092862967401743, 0.002680087462067604, 0.0005251233233138919, 0.0020409105345606804, 0.0013771522790193558, 0.005558255594223738, 0.002929789712652564, 0.0006301774410530925, 0.0012668399140238762, 0.0002911534102167934, 0.000724178971722722, 0.00047885969979688525, 0.0064025577157735825, 0.0016880747862160206, 0.001678448636084795, 0.007739929016679525, 0.0003815020027104765, 0.0015517324209213257, 0.004697650205343962, 0.12278091907501221, 0.12992829084396362, 0.06060224771499634, 0.0, 0.0, 0.0, 0.0, 0.0, 0.0, 0.0, 0.0, 0.0, 0.0, 0.0, 0.0], [0.4742472171783447, 0.0062868488021194935, 0.0021207088138908148, 0.0049714879132807255, 0.0037993397563695908, 0.015021886676549911, 0.007278533652424812, 0.004520553629845381, 0.021798288449645042, 0.01997484639286995, 0.022077322006225586, 0.015013586729764938, 0.006826590280979872, 0.005647796671837568, 0.005297475960105658, 0.0035541970282793045, 0.008904460817575455, 0.007378893438726664, 0.003394896164536476, 0.016207361593842506, 0.006636917591094971, 0.01265423372387886, 0.005763164255768061, 0.02535252459347248, 0.03472096472978592, 0.014437586069107056, 0.016299057751893997, 0.005015164148062468, 0.028846541419625282, 0.01928919367492199, 0.03029775433242321, 0.04581548646092415, 0.022372165694832802, 0.07817699015140533, 0.0, 0.0, 0.0, 0.0, 0.0, 0.0, 0.0, 0.0, 0.0, 0.0, 0.0], [0.27824005484580994, 0.01079033873975277, 0.004392955917865038, 0.004415896255522966, 0.015526918694376945, 0.044995833188295364, 0.0033811647444963455, 0.002127233427017927, 0.007908805273473263, 0.009530257433652878, 0.06834202259778976, 0.03260529413819313, 0.057154156267642975, 0.11882232874631882, 0.006717427633702755, 0.0037403926253318787, 0.009237184189260006, 0.008442720398306847, 0.04869858920574188, 0.02791939489543438, 0.01016367319971323, 0.02399788238108158, 0.022568700835108757, 0.011930552311241627, 0.03057260811328888, 0.010233917273581028, 0.003017508890479803, 0.0037051024846732616, 0.016078775748610497, 0.0068595935590565205, 0.0017433473840355873, 0.00344580109231174, 0.006662870291620493, 0.060154594480991364, 0.025876112282276154, 0.0, 0.0, 0.0, 0.0, 0.0, 0.0, 0.0, 0.0, 0.0, 0.0], [0.12069564312696457, 0.0009188490803353488, 0.00020727902301587164, 0.0005384490359574556, 0.001030046958476305, 0.004491894040256739, 0.015944577753543854, 0.001308658393099904, 0.005679108202457428, 0.015726102516055107, 0.0331377275288105, 0.008237174712121487, 0.0398806557059288, 0.01874195970594883, 0.044055256992578506, 0.017172345891594887, 0.04161090403795242, 0.036897122859954834, 0.16051581501960754, 0.1569875180721283, 0.030328165739774704, 0.003828839398920536, 0.0018010271014645696, 0.0026698894798755646, 0.090314120054245, 0.01471707969903946, 0.004230432212352753, 0.0012601908529177308, 0.00969338696449995, 0.010309204459190369, 0.018815865740180016, 0.000823301961645484, 0.005221412982791662, 0.04039702191948891, 0.016124339774250984, 0.025688640773296356, 0.0, 0.0, 0.0, 0.0, 0.0, 0.0, 0.0, 0.0, 0.0], [0.24093854427337646, 0.0019585213158279657, 0.0002979082055389881, 0.0003870595246553421, 0.0010002412600442767, 0.004081550519913435, 0.02131027542054653, 0.0011518467217683792, 0.009080407209694386, 0.03570280596613884, 0.023893164470791817, 0.009768585674464703, 0.018010351806879044, 0.02092590741813183, 0.017209336161613464, 0.00617636414244771, 0.01341569609940052, 0.02846834622323513, 0.005756493657827377, 0.024831952527165413, 0.0074767423793673515, 0.014830568805336952, 0.005372339393943548, 0.005149082280695438, 0.009094396606087685, 0.02326168119907379, 0.12416844815015793, 0.03202928230166435, 0.06767063587903976, 0.01283827144652605, 0.008007499389350414, 0.004308511037379503, 0.008799777366220951, 0.053124815225601196, 0.010460822843015194, 0.04806353896856308, 0.08097825199365616, 0.0, 0.0, 0.0, 0.0, 0.0, 0.0, 0.0, 0.0], [0.38286876678466797, 0.0024927621707320213, 0.0008191475062631071, 0.0011446947464719415, 0.0017509794561192393, 0.003715764032676816, 0.0202960055321455, 0.002480665221810341, 0.05936815217137337, 0.04689786210656166, 0.018400002270936966, 0.0032821879722177982, 0.008931315504014492, 0.004596020560711622, 0.01633380353450775, 0.009289436973631382, 0.031269319355487823, 0.022652503103017807, 0.004515951965004206, 0.00435359962284565, 0.003763404209166765, 0.007332958746701479, 0.0022860567551106215, 0.0023170486092567444, 0.010488567873835564, 0.011706396006047726, 0.05308987945318222, 0.00853397510945797, 0.016153201460838318, 0.014647088944911957, 0.02746821753680706, 0.007740564178675413, 0.014112756587564945, 0.01999666541814804, 0.0027401226107031107, 0.02704634889960289, 0.08790425211191177, 0.0372135229408741, 0.0, 0.0, 0.0, 0.0, 0.0, 0.0, 0.0], [0.4261007606983185, 0.0028047598898410797, 0.0008864121045917273, 0.0014533436624333262, 0.004237818531692028, 0.004422400146722794, 0.019566191360354424, 0.006484663113951683, 0.05363645777106285, 0.0352807380259037, 0.019737079739570618, 0.0043583158403635025, 0.00989941880106926, 0.00753475446254015, 0.018535103648900986, 0.00737689808011055, 0.022626549005508423, 0.010160836391150951, 0.0056594014167785645, 0.003220330225303769, 0.004685716237872839, 0.010282316245138645, 0.001757125835865736, 0.003934688400477171, 0.01206236332654953, 0.007741351146250963, 0.05490061268210411, 0.01653970591723919, 0.012589526362717152, 0.02115963213145733, 0.02440645918250084, 0.019458623602986336, 0.023061351850628853, 0.03944005072116852, 0.00335179571993649, 0.006152280140668154, 0.04038116708397865, 0.019870959222316742, 0.014242053963243961, 0.0, 0.0, 0.0, 0.0, 0.0, 0.0], [0.42637258768081665, 0.0037183912936598063, 0.0009465990588068962, 0.0023519867099821568, 0.0002955460222437978, 0.0009564912761561573, 0.005405877251178026, 0.0001621951669221744, 0.01384563185274601, 0.011805637739598751, 0.013805881142616272, 0.007591940928250551, 0.008285829797387123, 0.003262365935370326, 0.0055821556597948074, 0.0005407485878095031, 0.005625877529382706, 0.005228167399764061, 0.0013014577561989427, 0.0023992047645151615, 0.00289267860352993, 0.006348583847284317, 0.0008081061532720923, 0.01843774877488613, 0.0015279353829100728, 0.007416557986289263, 0.014522990211844444, 0.04194300249218941, 0.06553779542446136, 0.010324192233383656, 0.018273698166012764, 0.02258569747209549, 0.029187921434640884, 0.04317320138216019, 0.004449913743883371, 0.00038232147926464677, 0.03294853866100311, 0.06325887143611908, 0.023635273799300194, 0.07286036759614944, 0.0, 0.0, 0.0, 0.0, 0.0], [0.4996929168701172, 0.0033613285049796104, 0.0012803816935047507, 0.0027513017412275076, 0.0015847159083932638, 0.005842219106853008, 0.0417693555355072, 0.0016160678351297975, 0.010797109454870224, 0.017242582514882088, 0.02329869568347931, 0.008443153463304043, 0.006800636649131775, 0.00124811299610883, 0.02022388018667698, 0.005935352761298418, 0.005963048432022333, 0.01377861388027668, 0.005362409632652998, 0.0034838456194847822, 0.005304054357111454, 0.0012228674022480845, 0.001374158775433898, 0.002858079969882965, 0.00764075294137001, 0.005510806571692228, 0.00562599953263998, 0.000552964280359447, 0.00521700456738472, 0.053516458719968796, 0.022252576425671577, 0.021308455616235733, 0.011566278524696827, 0.01969859190285206, 0.005949063692241907, 0.06831678748130798, 0.019121835008263588, 0.017871275544166565, 0.009095937013626099, 0.009381601586937904, 0.02613869309425354, 0.0, 0.0, 0.0, 0.0], [0.26370975375175476, 0.00270042079500854, 0.00048026276635937393, 0.00152782432269305, 0.0011892610928043723, 0.008125072345137596, 0.09448528289794922, 0.007105036173015833, 0.008648230694234371, 0.013913489878177643, 0.05278376489877701, 0.004995750728994608, 0.002976064570248127, 0.0030241766944527626, 0.03653062507510185, 0.006912753917276859, 0.0036711085122078657, 0.00915390346199274, 0.010803702287375927, 0.006885299924761057, 0.009497272782027721, 0.0017320401966571808, 0.0018385553266853094, 0.0019686378072947264, 0.02522874064743519, 0.008736589923501015, 0.002878971165046096, 0.0006478185532614589, 0.0044948342256248, 0.05450715124607086, 0.018985280767083168, 0.01997651904821396, 0.00852167047560215, 0.023532234132289886, 0.003432872472330928, 0.16733548045158386, 0.024552810937166214, 0.021832505241036415, 0.008265672251582146, 0.002811845624819398, 0.039397161453962326, 0.010203603655099869, 0.0, 0.0, 0.0], [0.147521510720253, 0.0012096611317247152, 0.0005957750254310668, 0.0016105767572298646, 0.003077224362641573, 0.01976013369858265, 0.034327879548072815, 0.00472217844799161, 0.08804233372211456, 0.020786697044968605, 0.0315265990793705, 0.002269109943881631, 0.0054287416860461235, 0.0013106201076880097, 0.02054777182638645, 0.0057837339118123055, 0.01733757182955742, 0.01171102188527584, 0.006044766865670681, 0.0028060453478246927, 0.006052264012396336, 0.0022446555085480213, 0.00205863150767982, 0.0013796541607007384, 0.023076144978404045, 0.008739474229514599, 0.023259857669472694, 0.0028241758700460196, 0.010980827733874321, 0.01590046100318432, 0.034854914993047714, 0.045518893748521805, 0.024793526157736778, 0.02257693000137806, 0.001319513306953013, 0.10652324557304382, 0.09975183755159378, 0.028061989694833755, 0.01442532055079937, 0.022619813680648804, 0.04614362493157387, 0.010124394670128822, 0.020349934697151184, 0.0, 0.0], [0.07841556519269943, 0.0012347418814897537, 0.0004731915541924536, 0.0011483781272545457, 0.0022740992717444897, 0.015372181311249733, 0.015191872604191303, 0.010255842469632626, 0.04311743006110191, 0.03743191435933113, 0.035952214151620865, 0.002683420432731509, 0.010050514712929726, 0.00520844291895628, 0.012551081366837025, 0.005578263197094202, 0.009332488290965557, 0.015267862938344479, 0.00742367235943675, 0.00487327529117465, 0.005716661922633648, 0.0030555841512978077, 0.0028763101436197758, 0.0016333175590261817, 0.01404547318816185, 0.00791001133620739, 0.016278080642223358, 0.0013434258289635181, 0.00804921519011259, 0.007211336866021156, 0.03302060067653656, 0.045765701681375504, 0.020164620131254196, 0.03690224885940552, 0.0023218849673867226, 0.20271222293376923, 0.1370812952518463, 0.03529532998800278, 0.01088162511587143, 0.012018914334475994, 0.028164206072688103, 0.010454571805894375, 0.013035166077315807, 0.030225789174437523, 0.0], [0.25213301181793213, 0.0022439402528107166, 0.0006766970618627965, 0.0008372150477953255, 0.00013127356942277402, 0.00043403441668488085, 0.0023874081671237946, 0.0018949267687276006, 0.028742579743266106, 0.026446998119354248, 0.01399148628115654, 0.005399521440267563, 0.04092566296458244, 0.009802291169762611, 0.0037092214915901423, 0.004391012713313103, 0.01611381396651268, 0.020755309611558914, 0.006548290606588125, 0.02535977028310299, 0.0018990914104506373, 0.003272856818512082, 0.010707908309996128, 0.006048950832337141, 0.003769809613004327, 0.008318346925079823, 0.011614079587161541, 0.0006858592387288809, 0.00759516516700387, 0.009127922356128693, 0.0012609469704329967, 0.0030300747603178024, 0.0059895808808505535, 0.017117563635110855, 0.006739994511008263, 0.10705088078975677, 0.038568947464227676, 0.10499054193496704, 0.023751799017190933, 0.01711856946349144, 0.005764858331531286, 0.009945250116288662, 0.02543657086789608, 0.04160613194108009, 0.06566379219293594]], [[1.0, 0.0, 0.0, 0.0, 0.0, 0.0, 0.0, 0.0, 0.0, 0.0, 0.0, 0.0, 0.0, 0.0, 0.0, 0.0, 0.0, 0.0, 0.0, 0.0, 0.0, 0.0, 0.0, 0.0, 0.0, 0.0, 0.0, 0.0, 0.0, 0.0, 0.0, 0.0, 0.0, 0.0, 0.0, 0.0, 0.0, 0.0, 0.0, 0.0, 0.0, 0.0, 0.0, 0.0, 0.0], [0.8650149703025818, 0.1349850744009018, 0.0, 0.0, 0.0, 0.0, 0.0, 0.0, 0.0, 0.0, 0.0, 0.0, 0.0, 0.0, 0.0, 0.0, 0.0, 0.0, 0.0, 0.0, 0.0, 0.0, 0.0, 0.0, 0.0, 0.0, 0.0, 0.0, 0.0, 0.0, 0.0, 0.0, 0.0, 0.0, 0.0, 0.0, 0.0, 0.0, 0.0, 0.0, 0.0, 0.0, 0.0, 0.0, 0.0], [0.9068540930747986, 0.048509661108255386, 0.0446363240480423, 0.0, 0.0, 0.0, 0.0, 0.0, 0.0, 0.0, 0.0, 0.0, 0.0, 0.0, 0.0, 0.0, 0.0, 0.0, 0.0, 0.0, 0.0, 0.0, 0.0, 0.0, 0.0, 0.0, 0.0, 0.0, 0.0, 0.0, 0.0, 0.0, 0.0, 0.0, 0.0, 0.0, 0.0, 0.0, 0.0, 0.0, 0.0, 0.0, 0.0, 0.0, 0.0], [0.8415055871009827, 0.04072187840938568, 0.0074175503104925156, 0.11035501211881638, 0.0, 0.0, 0.0, 0.0, 0.0, 0.0, 0.0, 0.0, 0.0, 0.0, 0.0, 0.0, 0.0, 0.0, 0.0, 0.0, 0.0, 0.0, 0.0, 0.0, 0.0, 0.0, 0.0, 0.0, 0.0, 0.0, 0.0, 0.0, 0.0, 0.0, 0.0, 0.0, 0.0, 0.0, 0.0, 0.0, 0.0, 0.0, 0.0, 0.0, 0.0], [0.8441883325576782, 0.019219325855374336, 0.012764428742229939, 0.048275142908096313, 0.0755528137087822, 0.0, 0.0, 0.0, 0.0, 0.0, 0.0, 0.0, 0.0, 0.0, 0.0, 0.0, 0.0, 0.0, 0.0, 0.0, 0.0, 0.0, 0.0, 0.0, 0.0, 0.0, 0.0, 0.0, 0.0, 0.0, 0.0, 0.0, 0.0, 0.0, 0.0, 0.0, 0.0, 0.0, 0.0, 0.0, 0.0, 0.0, 0.0, 0.0, 0.0], [0.7163634300231934, 0.011067744344472885, 0.006721234880387783, 0.0368884913623333, 0.05769054964184761, 0.17126846313476562, 0.0, 0.0, 0.0, 0.0, 0.0, 0.0, 0.0, 0.0, 0.0, 0.0, 0.0, 0.0, 0.0, 0.0, 0.0, 0.0, 0.0, 0.0, 0.0, 0.0, 0.0, 0.0, 0.0, 0.0, 0.0, 0.0, 0.0, 0.0, 0.0, 0.0, 0.0, 0.0, 0.0, 0.0, 0.0, 0.0, 0.0, 0.0, 0.0], [0.9422165751457214, 0.010571706108748913, 0.001702329725958407, 0.0038699146825820208, 0.0028079147450625896, 0.024839425459504128, 0.013992169871926308, 0.0, 0.0, 0.0, 0.0, 0.0, 0.0, 0.0, 0.0, 0.0, 0.0, 0.0, 0.0, 0.0, 0.0, 0.0, 0.0, 0.0, 0.0, 0.0, 0.0, 0.0, 0.0, 0.0, 0.0, 0.0, 0.0, 0.0, 0.0, 0.0, 0.0, 0.0, 0.0, 0.0, 0.0, 0.0, 0.0, 0.0, 0.0], [0.9326058626174927, 0.010662100277841091, 0.000897810619790107, 0.0010036081075668335, 0.0006635304889641702, 0.0036607463844120502, 0.0025813591200858355, 0.047925036400556564, 0.0, 0.0, 0.0, 0.0, 0.0, 0.0, 0.0, 0.0, 0.0, 0.0, 0.0, 0.0, 0.0, 0.0, 0.0, 0.0, 0.0, 0.0, 0.0, 0.0, 0.0, 0.0, 0.0, 0.0, 0.0, 0.0, 0.0, 0.0, 0.0, 0.0, 0.0, 0.0, 0.0, 0.0, 0.0, 0.0, 0.0], [0.94810551404953, 0.014272438362240791, 0.0006114237476140261, 0.0027163727208971977, 0.0023333090357482433, 0.0058715189807116985, 0.013715509325265884, 0.006615926977247, 0.005757964216172695, 0.0, 0.0, 0.0, 0.0, 0.0, 0.0, 0.0, 0.0, 0.0, 0.0, 0.0, 0.0, 0.0, 0.0, 0.0, 0.0, 0.0, 0.0, 0.0, 0.0, 0.0, 0.0, 0.0, 0.0, 0.0, 0.0, 0.0, 0.0, 0.0, 0.0, 0.0, 0.0, 0.0, 0.0, 0.0, 0.0], [0.839625358581543, 0.0045961644500494, 0.0005039859097450972, 0.0013812960823997855, 0.0020844857208430767, 0.0042802863754332066, 0.008132857270538807, 0.010376970283687115, 0.012921500019729137, 0.11609714478254318, 0.0, 0.0, 0.0, 0.0, 0.0, 0.0, 0.0, 0.0, 0.0, 0.0, 0.0, 0.0, 0.0, 0.0, 0.0, 0.0, 0.0, 0.0, 0.0, 0.0, 0.0, 0.0, 0.0, 0.0, 0.0, 0.0, 0.0, 0.0, 0.0, 0.0, 0.0, 0.0, 0.0, 0.0, 0.0], [0.6432138085365295, 0.038643211126327515, 0.006230161525309086, 0.021797893568873405, 0.04820633679628372, 0.05925175920128822, 0.02463134564459324, 0.004343478009104729, 0.014660540036857128, 0.028032738715410233, 0.11098870635032654, 0.0, 0.0, 0.0, 0.0, 0.0, 0.0, 0.0, 0.0, 0.0, 0.0, 0.0, 0.0, 0.0, 0.0, 0.0, 0.0, 0.0, 0.0, 0.0, 0.0, 0.0, 0.0, 0.0, 0.0, 0.0, 0.0, 0.0, 0.0, 0.0, 0.0, 0.0, 0.0, 0.0, 0.0], [0.7459675669670105, 0.025889761745929718, 0.0031282021664083004, 0.008715050294995308, 0.008670440874993801, 0.016620049253106117, 0.009800985455513, 0.002898137317970395, 0.006476811598986387, 0.013843834400177002, 0.03656382858753204, 0.12142539769411087, 0.0, 0.0, 0.0, 0.0, 0.0, 0.0, 0.0, 0.0, 0.0, 0.0, 0.0, 0.0, 0.0, 0.0, 0.0, 0.0, 0.0, 0.0, 0.0, 0.0, 0.0, 0.0, 0.0, 0.0, 0.0, 0.0, 0.0, 0.0, 0.0, 0.0, 0.0, 0.0, 0.0], [0.6317560076713562, 0.016501182690262794, 0.0013853063574060798, 0.0027513846289366484, 0.0036568462383002043, 0.009064732119441032, 0.0318504273891449, 0.003825786989182234, 0.008812184445559978, 0.010801924392580986, 0.01917242631316185, 0.019551515579223633, 0.24087031185626984, 0.0, 0.0, 0.0, 0.0, 0.0, 0.0, 0.0, 0.0, 0.0, 0.0, 0.0, 0.0, 0.0, 0.0, 0.0, 0.0, 0.0, 0.0, 0.0, 0.0, 0.0, 0.0, 0.0, 0.0, 0.0, 0.0, 0.0, 0.0, 0.0, 0.0, 0.0, 0.0], [0.7010821104049683, 0.0057748607359826565, 0.0029463572427630424, 0.0013966030674055219, 0.0015882700681686401, 0.004611749202013016, 0.0051835887134075165, 0.003589913249015808, 0.006357255857437849, 0.0030596768483519554, 0.010118778795003891, 0.05888383463025093, 0.024298733100295067, 0.17110829055309296, 0.0, 0.0, 0.0, 0.0, 0.0, 0.0, 0.0, 0.0, 0.0, 0.0, 0.0, 0.0, 0.0, 0.0, 0.0, 0.0, 0.0, 0.0, 0.0, 0.0, 0.0, 0.0, 0.0, 0.0, 0.0, 0.0, 0.0, 0.0, 0.0, 0.0, 0.0], [0.8427942991256714, 0.00839290302246809, 0.002125565428286791, 0.002127421088516712, 0.0013691458152607083, 0.015251008793711662, 0.0059778448194265366, 0.006203881930559874, 0.004385919310152531, 0.009860529564321041, 0.01612255722284317, 0.020753558725118637, 0.03354087471961975, 0.00881754420697689, 0.022276993840932846, 0.0, 0.0, 0.0, 0.0, 0.0, 0.0, 0.0, 0.0, 0.0, 0.0, 0.0, 0.0, 0.0, 0.0, 0.0, 0.0, 0.0, 0.0, 0.0, 0.0, 0.0, 0.0, 0.0, 0.0, 0.0, 0.0, 0.0, 0.0, 0.0, 0.0], [0.7629839777946472, 0.008480210788547993, 0.0011663098121061921, 0.0017803139053285122, 0.0025376335252076387, 0.00784190371632576, 0.0027894300874322653, 0.022310419008135796, 0.011296514421701431, 0.02308320440351963, 0.019431564956903458, 0.010216607712209225, 0.007458423729985952, 0.008618648163974285, 0.011901398189365864, 0.09810347110033035, 0.0, 0.0, 0.0, 0.0, 0.0, 0.0, 0.0, 0.0, 0.0, 0.0, 0.0, 0.0, 0.0, 0.0, 0.0, 0.0, 0.0, 0.0, 0.0, 0.0, 0.0, 0.0, 0.0, 0.0, 0.0, 0.0, 0.0, 0.0, 0.0], [0.7597154378890991, 0.008090793155133724, 0.0012283481191843748, 0.0031204000115394592, 0.004850815050303936, 0.00915487203747034, 0.00797747541218996, 0.004305634647607803, 0.008830116130411625, 0.020398635417222977, 0.01286629494279623, 0.007222501561045647, 0.026879962533712387, 0.003933535423129797, 0.032781120389699936, 0.024059154093265533, 0.0645848885178566, 0.0, 0.0, 0.0, 0.0, 0.0, 0.0, 0.0, 0.0, 0.0, 0.0, 0.0, 0.0, 0.0, 0.0, 0.0, 0.0, 0.0, 0.0, 0.0, 0.0, 0.0, 0.0, 0.0, 0.0, 0.0, 0.0, 0.0, 0.0], [0.6407887935638428, 0.003285774262621999, 0.0009201750508509576, 0.0018835954833775759, 0.0031078041065484285, 0.004720263183116913, 0.0051825265400111675, 0.005858045537024736, 0.013136154040694237, 0.04475725069642067, 0.014899754896759987, 0.006778348237276077, 0.017280997708439827, 0.0021557905711233616, 0.02293931506574154, 0.029023857787251472, 0.05922698229551315, 0.12405458092689514, 0.0, 0.0, 0.0, 0.0, 0.0, 0.0, 0.0, 0.0, 0.0, 0.0, 0.0, 0.0, 0.0, 0.0, 0.0, 0.0, 0.0, 0.0, 0.0, 0.0, 0.0, 0.0, 0.0, 0.0, 0.0, 0.0, 0.0], [0.6587749719619751, 0.01992606185376644, 0.006993475370109081, 0.005805778317153454, 0.00107696617487818, 0.002889410825446248, 0.012354250997304916, 0.003913147374987602, 0.006176595576107502, 0.007846533320844173, 0.019177889451384544, 0.04861088842153549, 0.04334414005279541, 0.00451055821031332, 0.039918575435876846, 0.013086512684822083, 0.02096288464963436, 0.022597895935177803, 0.06203339993953705, 0.0, 0.0, 0.0, 0.0, 0.0, 0.0, 0.0, 0.0, 0.0, 0.0, 0.0, 0.0, 0.0, 0.0, 0.0, 0.0, 0.0, 0.0, 0.0, 0.0, 0.0, 0.0, 0.0, 0.0, 0.0, 0.0], [0.708743155002594, 0.010398904792964458, 0.0024028511252254248, 0.003346432000398636, 0.0003832905204035342, 0.0022438019514083862, 0.00948082935065031, 0.001202089712023735, 0.0033797265496104956, 0.0018439997220411897, 0.01123003475368023, 0.02827482298016548, 0.00743029173463583, 0.003839375451207161, 0.024243220686912537, 0.003929197788238525, 0.009614228270947933, 0.005974661558866501, 0.023922152817249298, 0.13811691105365753, 0.0, 0.0, 0.0, 0.0, 0.0, 0.0, 0.0, 0.0, 0.0, 0.0, 0.0, 0.0, 0.0, 0.0, 0.0, 0.0, 0.0, 0.0, 0.0, 0.0, 0.0, 0.0, 0.0, 0.0, 0.0], [0.7561513781547546, 0.010277491062879562, 0.008286659605801105, 0.017021479085087776, 0.0024641219060868025, 0.011060676537454128, 0.006250194273889065, 0.0010081037180498242, 0.0024744716938585043, 0.0018631236162036657, 0.008203566074371338, 0.018787654116749763, 0.009757095016539097, 0.001818004879169166, 0.016115320846438408, 0.002829075325280428, 0.009000910446047783, 0.004785328637808561, 0.010089236311614513, 0.028325621038675308, 0.07343051582574844, 0.0, 0.0, 0.0, 0.0, 0.0, 0.0, 0.0, 0.0, 0.0, 0.0, 0.0, 0.0, 0.0, 0.0, 0.0, 0.0, 0.0, 0.0, 0.0, 0.0, 0.0, 0.0, 0.0, 0.0], [0.8571935892105103, 0.005984677467495203, 0.002225595060735941, 0.005516143515706062, 0.0011741680791601539, 0.006445468403398991, 0.00680822879076004, 0.0005348311387933791, 0.001754740602336824, 0.002169433981180191, 0.010988360270857811, 0.008961482904851437, 0.019430646672844887, 0.0010361563181504607, 0.011689387261867523, 0.0013360129669308662, 0.004339964594691992, 0.003602676559239626, 0.0006634107558056712, 0.004704725928604603, 0.005046531558036804, 0.038393840193748474, 0.0, 0.0, 0.0, 0.0, 0.0, 0.0, 0.0, 0.0, 0.0, 0.0, 0.0, 0.0, 0.0, 0.0, 0.0, 0.0, 0.0, 0.0, 0.0, 0.0, 0.0, 0.0, 0.0], [0.8519145846366882, 0.007722488604485989, 0.0013955363538116217, 0.002394001232460141, 0.0006310345488600433, 0.0044712647795677185, 0.006417006254196167, 0.0019431939581409097, 0.004740904085338116, 0.0018694921163842082, 0.011898519471287727, 0.014709525741636753, 0.009699445217847824, 0.0027927528135478497, 0.008274668827652931, 0.002530578523874283, 0.005926961079239845, 0.002030744915828109, 0.001512307790108025, 0.007911554537713528, 0.004836030770093203, 0.017071137204766273, 0.02730630524456501, 0.0, 0.0, 0.0, 0.0, 0.0, 0.0, 0.0, 0.0, 0.0, 0.0, 0.0, 0.0, 0.0, 0.0, 0.0, 0.0, 0.0, 0.0, 0.0, 0.0, 0.0, 0.0], [0.6798891425132751, 0.007240453734993935, 0.004414694383740425, 0.00611851504072547, 0.001799752819351852, 0.005174540914595127, 0.006802360527217388, 0.001569880056194961, 0.001341471215710044, 0.0006638440536335111, 0.01152363233268261, 0.012612488120794296, 0.0055127558298408985, 0.0028320837300270796, 0.012615793384611607, 0.0028938469476997852, 0.0026787661481648684, 0.0017018377548083663, 0.0030604260973632336, 0.042393676936626434, 0.013779634609818459, 0.013786244206130505, 0.013142076320946217, 0.1464521735906601, 0.0, 0.0, 0.0, 0.0, 0.0, 0.0, 0.0, 0.0, 0.0, 0.0, 0.0, 0.0, 0.0, 0.0, 0.0, 0.0, 0.0, 0.0, 0.0, 0.0, 0.0], [0.6796173453330994, 0.005186582449823618, 0.0016963928937911987, 0.00983322411775589, 0.00040456041460856795, 0.005380452144891024, 0.00911916233599186, 0.0011542926076799631, 0.007289619650691748, 0.0027354813646525145, 0.015813440084457397, 0.01702328957617283, 0.013465264812111855, 0.0010516199981793761, 0.008799498900771141, 0.0029235915280878544, 0.01089991070330143, 0.005207912530750036, 0.006307791918516159, 0.07261013239622116, 0.016102684661746025, 0.0019366947235539556, 0.0022376033011823893, 0.0317537821829319, 0.07144960761070251, 0.0, 0.0, 0.0, 0.0, 0.0, 0.0, 0.0, 0.0, 0.0, 0.0, 0.0, 0.0, 0.0, 0.0, 0.0, 0.0, 0.0, 0.0, 0.0, 0.0], [0.7285488843917847, 0.0028471103869378567, 0.00035928410943597555, 0.00446279626339674, 0.0002142263692803681, 0.001188995549455285, 0.013830214738845825, 0.0011453366605564952, 0.003897913731634617, 0.0021199695765972137, 0.006204803939908743, 0.00374041311442852, 0.011689816601574421, 0.0010167075088247657, 0.009015204384922981, 0.0038409573026001453, 0.005870426539331675, 0.004480995703488588, 0.0013633454218506813, 0.007506393361836672, 0.0026109637692570686, 0.0010450242552906275, 0.0016725314781069756, 0.013957934454083443, 0.019013363867998123, 0.14835646748542786, 0.0, 0.0, 0.0, 0.0, 0.0, 0.0, 0.0, 0.0, 0.0, 0.0, 0.0, 0.0, 0.0, 0.0, 0.0, 0.0, 0.0, 0.0, 0.0], [0.5976314544677734, 0.006579408887773752, 0.0008484347490593791, 0.0043054623529314995, 0.00104183005169034, 0.0030215284787118435, 0.008804894052445889, 0.002088853856548667, 0.012821550481021404, 0.010963967069983482, 0.0127025805413723, 0.012371035292744637, 0.024327250197529793, 0.007536864373832941, 0.008388233371078968, 0.0029630358330905437, 0.012245853431522846, 0.007117864675819874, 0.002800157992169261, 0.009620795026421547, 0.0039013042114675045, 0.0052290321327745914, 0.003766416572034359, 0.011419840157032013, 0.05914624035358429, 0.05522475391626358, 0.11313129961490631, 0.0, 0.0, 0.0, 0.0, 0.0, 0.0, 0.0, 0.0, 0.0, 0.0, 0.0, 0.0, 0.0, 0.0, 0.0, 0.0, 0.0, 0.0], [0.4449065029621124, 0.005466118920594454, 0.0014813132584095001, 0.0031787115149199963, 0.0008769070263952017, 0.0012277052737772465, 0.016124645248055458, 0.002503267489373684, 0.02224963717162609, 0.010838561691343784, 0.012068137526512146, 0.009705666452646255, 0.010464408434927464, 0.0018311013700440526, 0.008918236941099167, 0.0032583349384367466, 0.016397325322031975, 0.00683984300121665, 0.005189159419387579, 0.015477169305086136, 0.006237674504518509, 0.006257778033614159, 0.003202814841642976, 0.01013704389333725, 0.10040690004825592, 0.06646726280450821, 0.14797256886959076, 0.06031518802046776, 0.0, 0.0, 0.0, 0.0, 0.0, 0.0, 0.0, 0.0, 0.0, 0.0, 0.0, 0.0, 0.0, 0.0, 0.0, 0.0, 0.0], [0.5679556727409363, 0.000874104502145201, 0.0002960873825941235, 0.0011919208336621523, 0.00024428690085187554, 0.0027350448071956635, 0.003203436266630888, 0.0006824888987466693, 0.002251699101179838, 0.0013593704206869006, 0.003862513927742839, 0.005290791392326355, 0.001336934044957161, 0.0019436830189079046, 0.0033738045021891594, 0.0011319252662360668, 0.0031495215371251106, 0.0024594436399638653, 0.0026561373379081488, 0.01724953204393387, 0.003961845301091671, 0.0004372283583506942, 0.0007500378997065127, 0.010860116221010685, 0.03634199500083923, 0.02353043295443058, 0.02843424491584301, 0.029999786987900734, 0.2424359917640686, 0.0, 0.0, 0.0, 0.0, 0.0, 0.0, 0.0, 0.0, 0.0, 0.0, 0.0, 0.0, 0.0, 0.0, 0.0, 0.0], [0.7895523309707642, 0.0013155464548617601, 0.0003646188124548644, 0.000637861667200923, 0.000781959795858711, 0.0032667205668985844, 0.010021979920566082, 0.003250573296099901, 0.000614371441770345, 0.0035207895562052727, 0.008552202954888344, 0.002304621273651719, 0.0015161029295995831, 0.0005214415723457932, 0.004286081995815039, 0.0031649568118155003, 0.0010214506182819605, 0.002889268798753619, 0.0011679400922730565, 0.002144408645108342, 0.000791381869930774, 0.00017772296268958598, 0.0006420713034458458, 0.003798755817115307, 0.004680976737290621, 0.01143729966133833, 0.004333078395575285, 0.01471243891865015, 0.023602426052093506, 0.09492876380681992, 0.0, 0.0, 0.0, 0.0, 0.0, 0.0, 0.0, 0.0, 0.0, 0.0, 0.0, 0.0, 0.0, 0.0, 0.0], [0.8966079950332642, 0.0023992275819182396, 0.0003488879883661866, 0.0004876393068116158, 0.00029219029238447547, 0.0004961423110216856, 0.003288388717919588, 0.0031163280364125967, 0.002249929355457425, 0.008329697884619236, 0.006541429087519646, 0.002121037570759654, 0.0035772768314927816, 0.0012684609973803163, 0.0028591849841177464, 0.0027996618300676346, 0.0029616293031722307, 0.005824223626405001, 0.0036977885756641626, 0.0012096670689061284, 0.0006970224785618484, 0.00011102831194875762, 0.0003531046095304191, 0.0009571130503900349, 0.004036662168800831, 0.0028705697041004896, 0.0038373966235667467, 0.003263107966631651, 0.004032643046230078, 0.007761770859360695, 0.021602727472782135, 0.0, 0.0, 0.0, 0.0, 0.0, 0.0, 0.0, 0.0, 0.0, 0.0, 0.0, 0.0, 0.0, 0.0], [0.801911473274231, 0.0020709040109068155, 0.00028246655710972846, 0.0005512299831025302, 0.0002765185490716249, 0.0008842528332024813, 0.0006679099751636386, 0.0017370730638504028, 0.0014183270977810025, 0.00602342514321208, 0.006943881046026945, 0.002171556930989027, 0.00243248394690454, 0.001791662536561489, 0.0005606955965049565, 0.0012937813298776746, 0.0014070540200918913, 0.003771495306864381, 0.0012486648047342896, 0.0034491128753870726, 0.0006645619869232178, 0.00012623032671399415, 0.00030245783273130655, 0.0021258892957121134, 0.0049704634584486485, 0.005480827763676643, 0.0021460894495248795, 0.0018934207037091255, 0.013487335294485092, 0.005074474960565567, 0.013720793649554253, 0.10911346226930618, 0.0, 0.0, 0.0, 0.0, 0.0, 0.0, 0.0, 0.0, 0.0, 0.0, 0.0, 0.0, 0.0], [0.6825578212738037, 0.0014728063251823187, 0.00016895994485821575, 0.0004459426272660494, 0.00034530702396295965, 0.0009330374887213111, 0.002161232754588127, 0.0012377912644296885, 0.0016788917127996683, 0.018273118883371353, 0.0035921356175094843, 0.0017211602535098791, 0.002035022946074605, 0.0004270930076017976, 0.001889736158773303, 0.0013850904069840908, 0.002345094457268715, 0.010749585926532745, 0.00169003801420331, 0.006184838712215424, 0.0008977538673207164, 0.00020765351655427366, 0.00045839682570658624, 0.0016188411973416805, 0.0011570628266781569, 0.0029472014866769314, 0.003237786004319787, 0.0018588333623483777, 0.012360762804746628, 0.01125370617955923, 0.005450078286230564, 0.035536665469408035, 0.1817205250263214, 0.0, 0.0, 0.0, 0.0, 0.0, 0.0, 0.0, 0.0, 0.0, 0.0, 0.0, 0.0], [0.3375275731086731, 0.004358971957117319, 0.0004267016192898154, 0.0009437665576115251, 0.0010282209841534495, 0.001585810910910368, 0.0038202155847102404, 0.0005162631860002875, 0.005295241717249155, 0.00431352062150836, 0.01614687405526638, 0.01861538551747799, 0.005774895194917917, 0.004506657365709543, 0.01070020254701376, 0.0021481744479388, 0.00889522023499012, 0.006406024098396301, 0.0031887302175164223, 0.01537630520761013, 0.0010783857433125377, 0.0013924372615292668, 0.0016809445805847645, 0.017210211604833603, 0.008730177767574787, 0.01184019260108471, 0.015910258516669273, 0.01693841628730297, 0.039889127016067505, 0.015207678079605103, 0.014943289570510387, 0.011338906362652779, 0.018366847187280655, 0.37389838695526123, 0.0, 0.0, 0.0, 0.0, 0.0, 0.0, 0.0, 0.0, 0.0, 0.0, 0.0], [0.42703211307525635, 0.006465061102062464, 0.0011279621394351125, 0.0018781628459692001, 0.0016829113010317087, 0.0020617099944502115, 0.001972706289961934, 0.0007614950300194323, 0.002560697728767991, 0.0023492041509598494, 0.005848669447004795, 0.05092911422252655, 0.02002723515033722, 0.009961023926734924, 0.011298801749944687, 0.002605364890769124, 0.0060421172529459, 0.005307578947395086, 0.0051994589157402515, 0.022100193426012993, 0.0016611156752333045, 0.004342608153820038, 0.001563451485708356, 0.02109208144247532, 0.004769792780280113, 0.007234040182083845, 0.005670503247529268, 0.010100417770445347, 0.009471914730966091, 0.004117154516279697, 0.0037190301809459925, 0.0023810204584151506, 0.0020511806942522526, 0.04041473567485809, 0.2941993176937103, 0.0, 0.0, 0.0, 0.0, 0.0, 0.0, 0.0, 0.0, 0.0, 0.0], [0.41120973229408264, 0.0026543568819761276, 0.0002893421915359795, 0.00039413850754499435, 0.0004145087441429496, 0.0006152242422103882, 0.0029834131710231304, 0.0006065740017220378, 0.004339023493230343, 0.002413442824035883, 0.005576030351221561, 0.01608971133828163, 0.019517885521054268, 0.004428085871040821, 0.011283851228654385, 0.002757728798314929, 0.01602644845843315, 0.007450574543327093, 0.014171631075441837, 0.011588784866034985, 0.0009704710682854056, 0.00100729672703892, 0.000894543481990695, 0.0035739585291594267, 0.0036434843204915524, 0.004924794193357229, 0.005432422272861004, 0.007345767226070166, 0.0038068692665547132, 0.003618468064814806, 0.004015693906694651, 0.0020391098223626614, 0.002850157208740711, 0.029535429552197456, 0.09228072315454483, 0.2992503046989441, 0.0, 0.0, 0.0, 0.0, 0.0, 0.0, 0.0, 0.0, 0.0], [0.5924741625785828, 0.0038414110895246267, 0.0007279459969140589, 0.0013001383049413562, 0.0005850499146617949, 0.0012413709191605449, 0.003991471603512764, 0.001153253484517336, 0.0022024433128535748, 0.001519870711490512, 0.003959255758672953, 0.023449666798114777, 0.013035350479185581, 0.012528974562883377, 0.013736977241933346, 0.0024954834952950478, 0.0071932971477508545, 0.0031440386082977057, 0.0075566996820271015, 0.02155931666493416, 0.0014637837884947658, 0.0005804848624393344, 0.0007649243925698102, 0.0038797082379460335, 0.008099999278783798, 0.009937510825693607, 0.011754222214221954, 0.014050675556063652, 0.010109465569257736, 0.004948922898620367, 0.003342368407174945, 0.00326236872933805, 0.0015999982133507729, 0.016331028193235397, 0.07434292882680893, 0.03430653363466263, 0.08352894335985184, 0.0, 0.0, 0.0, 0.0, 0.0, 0.0, 0.0, 0.0], [0.45958054065704346, 0.0009562643826939166, 0.0002954642695840448, 0.0004333157849032432, 0.00016477071039844304, 0.0004251742211636156, 0.0019337697885930538, 0.0004088285786565393, 0.0013766716001555324, 0.0006682263920083642, 0.0021618306636810303, 0.007091109175235033, 0.002277358202263713, 0.007877481169998646, 0.004204765893518925, 0.0006416818359866738, 0.0019997183699160814, 0.0011347666149958968, 0.009801000356674194, 0.021340128034353256, 0.0015460638096556067, 0.00012634482118301094, 0.00019484774384181947, 0.006696774624288082, 0.01378907635807991, 0.008641579188406467, 0.012064019218087196, 0.00950387492775917, 0.027876317501068115, 0.0036496452521532774, 0.0029015718027949333, 0.0065609123557806015, 0.0016432865522801876, 0.013208486139774323, 0.02120009995996952, 0.012884538620710373, 0.06722725182771683, 0.2655124366283417, 0.0, 0.0, 0.0, 0.0, 0.0, 0.0, 0.0], [0.5436812043190002, 0.0012596995802596211, 0.0005144321476109326, 0.0008883158443495631, 0.001180536113679409, 0.0011089430190622807, 0.005589393433183432, 0.0006900429143570364, 0.0014342647045850754, 0.002439026487991214, 0.0028390439692884684, 0.005019051488488913, 0.0029484019614756107, 0.0015851330244913697, 0.0070616332814097404, 0.0015115473652258515, 0.0022271641064435244, 0.00287816533818841, 0.002682711696252227, 0.003273608162999153, 0.0006390045746229589, 0.00029645461472682655, 0.0006081874016672373, 0.006333685014396906, 0.008559755980968475, 0.011277804151177406, 0.00982759054750204, 0.011960324831306934, 0.013557366095483303, 0.016906393691897392, 0.008107251487672329, 0.007464926224201918, 0.0031198838260024786, 0.01896953210234642, 0.015586763620376587, 0.00870522577315569, 0.016128739342093468, 0.0349542573094368, 0.21618446707725525, 0.0, 0.0, 0.0, 0.0, 0.0, 0.0], [0.2951197922229767, 0.0012898570857942104, 0.0006727979052811861, 0.000513492152094841, 0.0007777472492307425, 0.00025513963191770017, 0.0014794195303693414, 0.0008136291871778667, 0.014507886953651905, 0.009240920655429363, 0.003769362112507224, 0.004433691967278719, 0.0035412092693150043, 0.004579168278723955, 0.003114955499768257, 0.0012903234455734491, 0.009127520024776459, 0.0050961934030056, 0.005761859007179737, 0.00799270998686552, 0.0020254887640476227, 0.0016315601533278823, 0.000497823697514832, 0.0029384319204837084, 0.024092957377433777, 0.00996155384927988, 0.09976780414581299, 0.06432948261499405, 0.035236142575740814, 0.004758249502629042, 0.018609777092933655, 0.015673967078328133, 0.00707787461578846, 0.02418452315032482, 0.011094707995653152, 0.005254800897091627, 0.07717777043581009, 0.06805413216352463, 0.06305807828903198, 0.09119731187820435, 0.0, 0.0, 0.0, 0.0, 0.0], [0.5894970297813416, 0.0020226736087352037, 0.0010626211296766996, 0.0006789026665501297, 0.0003460295556578785, 0.0019579322542995214, 0.0009260416845791042, 0.000995773822069168, 0.0023356436286121607, 0.0021826131269335747, 0.004109351895749569, 0.0037303129211068153, 0.007081787101924419, 0.00420925859361887, 0.0098935067653656, 0.0056476169265806675, 0.012907723896205425, 0.008479949086904526, 0.013501585461199284, 0.020683055743575096, 0.0032456505578011274, 0.0004948116838932037, 0.000293609598884359, 0.004609793424606323, 0.003625447629019618, 0.00869221705943346, 0.008365028537809849, 0.005057293921709061, 0.009285076521337032, 0.004391584545373917, 0.005955562926828861, 0.012185366824269295, 0.015037000179290771, 0.027486423030495644, 0.016890067607164383, 0.026681512594223022, 0.02257591299712658, 0.034800298511981964, 0.030702553689479828, 0.026193968951702118, 0.04118145629763603, 0.0, 0.0, 0.0, 0.0], [0.5995832681655884, 0.003431211691349745, 0.0006435777177102864, 0.0007420005858875811, 0.0007790856179781258, 0.0015416719252243638, 0.0006128339446149766, 0.00611890247091651, 0.004831479862332344, 0.005947187542915344, 0.0061677140183746815, 0.0028383645694702864, 0.0021472740918397903, 0.004620315972715616, 0.004788059741258621, 0.03964485228061676, 0.033156491816043854, 0.030380794778466225, 0.014166813343763351, 0.007843219675123692, 0.0016072250436991453, 0.0005698832683265209, 0.0011136251268908381, 0.00143727648537606, 0.00450242729857564, 0.003929806873202324, 0.0037079795729368925, 0.0059923515655100346, 0.004400557838380337, 0.0015596318989992142, 0.008029070682823658, 0.02068731002509594, 0.019769715145230293, 0.011037709191441536, 0.007521814666688442, 0.01115927379578352, 0.010293089784681797, 0.012033295817673206, 0.007129111792892218, 0.003594411537051201, 0.008473973721265793, 0.08146537840366364, 0.0, 0.0, 0.0], [0.539598822593689, 0.0025472803972661495, 0.0005820340593345463, 0.0009663559612818062, 0.0014177479315549135, 0.0013894467847421765, 0.0010082301450893283, 0.001033302745781839, 0.0031788484193384647, 0.004071153700351715, 0.0032824580557644367, 0.0013635396026074886, 0.0064333057962358, 0.0028960532508790493, 0.012632671743631363, 0.0107563566416502, 0.03252715617418289, 0.023221060633659363, 0.005451027769595385, 0.006172851659357548, 0.0010604305425658822, 0.0005562463775277138, 0.00024364524870179594, 0.0009257225319743156, 0.0025601659435778856, 0.008434105664491653, 0.010951120406389236, 0.007060915231704712, 0.012174402363598347, 0.003580422606319189, 0.0038879835046827793, 0.005370644386857748, 0.014361515641212463, 0.01020036917179823, 0.004947312641888857, 0.015029205940663815, 0.008771956898272038, 0.020161570981144905, 0.013710220344364643, 0.024938175454735756, 0.03191515430808067, 0.029832132160663605, 0.10879697650671005, 0.0, 0.0], [0.45100221037864685, 0.0012693252647295594, 0.0004653169889934361, 0.0009068245417438447, 0.0009341975674033165, 0.0011621149023994803, 0.0008019579690881073, 0.001114126411266625, 0.004543282091617584, 0.008795030415058136, 0.004014407750219107, 0.001538293669000268, 0.0036939382553100586, 0.0014477202203124762, 0.007433188147842884, 0.00856996700167656, 0.024828020483255386, 0.03604782000184059, 0.004825630225241184, 0.005980540998280048, 0.0019356799311935902, 0.0007982723764143884, 0.0003815602685790509, 0.0014183511957526207, 0.0009613295551389456, 0.003872703993692994, 0.006075757555663586, 0.0030802260152995586, 0.010003965348005295, 0.002368280664086342, 0.003882029792293906, 0.006824682001024485, 0.02929815463721752, 0.013630637899041176, 0.00532033434137702, 0.016670161858201027, 0.004375684540718794, 0.021841367706656456, 0.008305555209517479, 0.017373112961649895, 0.019926168024539948, 0.03005378507077694, 0.08781120181083679, 0.13441705703735352, 0.0], [0.46447238326072693, 0.004537494387477636, 0.000807406788226217, 0.0008632369572296739, 0.0004955153563059866, 0.0007134331972338259, 0.001811482128687203, 0.0008631933014839888, 0.0027193862479180098, 0.002231880556792021, 0.004763434175401926, 0.013266016729176044, 0.011448368430137634, 0.006277671083807945, 0.007568919565528631, 0.00273405434563756, 0.005504114553332329, 0.004622282460331917, 0.014491974376142025, 0.02483714558184147, 0.0020700148306787014, 0.0020868582651019096, 0.0008056572405621409, 0.011540155857801437, 0.009566381573677063, 0.018154295161366463, 0.004570444114506245, 0.008543516509234905, 0.006627042777836323, 0.006043599918484688, 0.004400067962706089, 0.0025844445917755365, 0.0015102920588105917, 0.030974194407463074, 0.048863910138607025, 0.02616986073553562, 0.024325525388121605, 0.0254676416516304, 0.030976682901382446, 0.024131612852215767, 0.012325815856456757, 0.00614926079288125, 0.009175090119242668, 0.008489043451845646, 0.09941919893026352]]], \"headLabels\": [\"L5H0\", \"L5H1\", \"L5H2\", \"L5H3\", \"L5H4\", \"L5H5\", \"L5H6\", \"L5H7\", \"L5H8\", \"L5H9\", \"L5H10\", \"L5H11\"]}\n",
              "    )\n",
              "    </script>"
            ],
            "text/plain": [
              "<circuitsvis.utils.render.RenderedHTML at 0x7fc59df75cc0>"
            ]
          },
          "metadata": {},
          "output_type": "display_data"
        }
      ],
      "source": [
        "# for layer in range(gpt2.cfg.n_layers):\n",
        "    # attention_pattern = cache[\"pattern\", layer]\n",
        "    # display(cv.attention.attention_patterns(tokens=str_tokenek, attention=attention_pattern))\n",
        "\n",
        "attention_pattern = cache[\"pattern\", 5, \"attn\"].squeeze()\n",
        "# print(utils.get_corner(attention_pattern))\n",
        "print(attention_pattern.shape)\n",
        "\n",
        "html = cv.attention.attention_patterns(\n",
        "    tokens=str_tokens,\n",
        "    attention=attention_pattern,\n",
        "    attention_head_names=[f\"L5H{i}\" for i in range(12)],\n",
        ")\n",
        "# with open(\"attention.html\", \"w\") as f:\n",
        "    # f.write(f'{html}')\n",
        "display(html)"
      ]
    },
    {
      "cell_type": "markdown",
      "metadata": {
        "id": "coJLiIBg4FzK"
      },
      "source": [
        "# Sources\n",
        "\n",
        "These are the main inspirations:\n",
        "\n",
        "* https://arena-ch1-transformers.streamlit.app/[1.2]_Intro_to_Mech_Interp\n",
        "* https://transformer-circuits.pub/2021/framework/index.html\n",
        "\n",
        "Videos:\n",
        "\n",
        "* https://neelnanda.io/transformer-tutorial\n",
        "\n",
        "Other:\n",
        "\n",
        "* https://www.lesswrong.com/posts/TvrfY4c9eaGLeyDkE/induction-heads-illustrated\n"
      ]
    }
  ],
  "metadata": {
    "accelerator": "GPU",
    "colab": {
      "gpuType": "T4",
      "provenance": []
    },
    "kernelspec": {
      "display_name": "Python 3",
      "name": "python3"
    },
    "language_info": {
      "codemirror_mode": {
        "name": "ipython",
        "version": 3
      },
      "file_extension": ".py",
      "mimetype": "text/x-python",
      "name": "python",
      "nbconvert_exporter": "python",
      "pygments_lexer": "ipython3",
      "version": "3.10.13"
    }
  },
  "nbformat": 4,
  "nbformat_minor": 0
}
